{
 "cells": [
  {
   "cell_type": "markdown",
   "metadata": {
    "colab_type": "text",
    "id": "bY4wGo3hKv1i",
    "slideshow": {
     "slide_type": "slide"
    }
   },
   "source": [
    "![IE](img/ie.png)\n",
    "\n",
    "# Python for Data Analysis I - Recap\n",
    "\n",
    "## Master in Business Analytics and Big Data, October 2021-2022\n",
    "\n",
    "### Professor: Juan Luis Cano Rodríguez <jcano@faculty.ie.edu>"
   ]
  },
  {
   "cell_type": "markdown",
   "metadata": {
    "colab_type": "text",
    "id": "sPJolsQMKv2R",
    "slideshow": {
     "slide_type": "slide"
    }
   },
   "source": [
    "# Syllabus\n",
    "\n",
    "## What we have seen so far\n",
    "\n",
    "1. Intro and variables"
   ]
  },
  {
   "cell_type": "markdown",
   "metadata": {
    "colab_type": "text",
    "id": "sPJolsQMKv2R",
    "slideshow": {
     "slide_type": "fragment"
    },
    "tags": []
   },
   "source": [
    "2. Types, methods, and comparison operators"
   ]
  },
  {
   "cell_type": "markdown",
   "metadata": {
    "colab_type": "text",
    "id": "sPJolsQMKv2R",
    "slideshow": {
     "slide_type": "fragment"
    },
    "tags": []
   },
   "source": [
    "3. Strings and simple containers"
   ]
  },
  {
   "cell_type": "markdown",
   "metadata": {
    "colab_type": "text",
    "id": "sPJolsQMKv2R",
    "slideshow": {
     "slide_type": "fragment"
    },
    "tags": []
   },
   "source": [
    "4. Conditionals and loops"
   ]
  },
  {
   "cell_type": "markdown",
   "metadata": {
    "colab_type": "text",
    "id": "sPJolsQMKv2R",
    "slideshow": {
     "slide_type": "fragment"
    },
    "tags": []
   },
   "source": [
    "5. Project Euler\n",
    "6. Discussion of Project Euler (I)\n",
    "7. Discussion of Project Euler (I)"
   ]
  },
  {
   "cell_type": "markdown",
   "metadata": {
    "colab_type": "text",
    "id": "sPJolsQMKv2R",
    "slideshow": {
     "slide_type": "subslide"
    },
    "tags": []
   },
   "source": [
    "8. Dictionaries"
   ]
  },
  {
   "cell_type": "markdown",
   "metadata": {
    "colab_type": "text",
    "id": "sPJolsQMKv2R",
    "slideshow": {
     "slide_type": "fragment"
    },
    "tags": []
   },
   "source": [
    "9. User-defined functions"
   ]
  },
  {
   "cell_type": "markdown",
   "metadata": {
    "colab_type": "text",
    "id": "sPJolsQMKv2R",
    "slideshow": {
     "slide_type": "fragment"
    },
    "tags": []
   },
   "source": [
    "10. Asynchronous work on JSON data"
   ]
  },
  {
   "cell_type": "markdown",
   "metadata": {
    "colab_type": "text",
    "id": "sPJolsQMKv2R",
    "slideshow": {
     "slide_type": "fragment"
    },
    "tags": []
   },
   "source": [
    "11. Files and context managers"
   ]
  },
  {
   "cell_type": "markdown",
   "metadata": {
    "colab_type": "text",
    "id": "sPJolsQMKv2R",
    "slideshow": {
     "slide_type": "fragment"
    },
    "tags": []
   },
   "source": [
    "12. Sets, `in` operator, comprehensions"
   ]
  },
  {
   "cell_type": "markdown",
   "metadata": {
    "colab_type": "text",
    "id": "sPJolsQMKv2R",
    "slideshow": {
     "slide_type": "fragment"
    },
    "tags": []
   },
   "source": [
    "13. Exceptions"
   ]
  },
  {
   "cell_type": "markdown",
   "metadata": {
    "slideshow": {
     "slide_type": "slide"
    },
    "tags": []
   },
   "source": [
    "## What do we want to do\n",
    "\n",
    "Effectively manipulate JSON data.\n",
    "\n",
    "## What do we need to know\n",
    "\n",
    "- How to distinguish the different basic types (lists and tuples, dictionaries) and use them effectively\n",
    "- How to break down a problem into smaller ones\n",
    "- How to assemble patterns to solve bigger problems (accumulation on a list, addition of a counter, filtering elements)\n",
    "- How to load and write files from/to disk"
   ]
  },
  {
   "cell_type": "markdown",
   "metadata": {
    "slideshow": {
     "slide_type": "subslide"
    },
    "tags": []
   },
   "source": [
    "## Where are we going\n",
    "\n",
    "15. Introducing pandas objects, indexing, selection\n",
    "16. Index alignment, aggregation, grouping\n",
    "17. Pivot tables, merge and join\n",
    "18. Missing data, interpolation, filling strategies\n",
    "19. Practice exercises\n",
    "20. Group presentations"
   ]
  },
  {
   "cell_type": "markdown",
   "metadata": {
    "slideshow": {
     "slide_type": "fragment"
    },
    "tags": []
   },
   "source": [
    "...And be able to produce code like this:\n",
    "\n",
    "```python\n",
    "res = district_pop_melt.loc[\n",
    "    (district_pop_melt[\"COD_BAR\"] == str(NEIGHBOURHOOD_CODE))\n",
    "    & (district_pop_melt[\"sex\"] == \"hombres\")\n",
    "    & (district_pop_melt[\"age\"] != \"to\")\n",
    "].groupby(\"age\").agg({\"value\": \"sum\"})\n",
    "res.plot.barh(ax=ax_l2, color=\"#3BA3FF\", label=\"Hombres (Argüelles)\")\n",
    "```"
   ]
  },
  {
   "cell_type": "markdown",
   "metadata": {
    "slideshow": {
     "slide_type": "subslide"
    },
    "tags": []
   },
   "source": [
    "...which we need for visualizations like this:\n",
    "\n",
    "![Pyramid](../img/pyramid.png)"
   ]
  },
  {
   "cell_type": "markdown",
   "metadata": {
    "slideshow": {
     "slide_type": "subslide"
    },
    "tags": []
   },
   "source": [
    "Keep calm!\n",
    "\n",
    "![Keep calm](img/keep-calm.jpg)"
   ]
  }
 ],
 "metadata": {
  "celltoolbar": "Slideshow",
  "colab": {
   "collapsed_sections": [],
   "name": "Course Introduction.ipynb",
   "provenance": [],
   "toc_visible": true,
   "version": "0.3.2"
  },
  "kernelspec": {
   "display_name": "Python 3",
   "language": "python",
   "name": "python3"
  },
  "language_info": {
   "codemirror_mode": {
    "name": "ipython",
    "version": 3
   },
   "file_extension": ".py",
   "mimetype": "text/x-python",
   "name": "python",
   "nbconvert_exporter": "python",
   "pygments_lexer": "ipython3",
   "version": "3.8.8"
  },
  "rise": {
   "autolaunch": true,
   "enable_chalkboard": true
  }
 },
 "nbformat": 4,
 "nbformat_minor": 4
}
