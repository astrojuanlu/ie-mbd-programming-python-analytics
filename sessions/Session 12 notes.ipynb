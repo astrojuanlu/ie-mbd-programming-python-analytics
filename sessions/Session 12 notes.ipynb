{
 "cells": [
  {
   "cell_type": "code",
   "execution_count": 21,
   "id": "e374634e-098d-4d01-b47b-90f58f4a32ae",
   "metadata": {},
   "outputs": [
    {
     "name": "stdout",
     "output_type": "stream",
     "text": [
      "<class 'list'> 9\n"
     ]
    }
   ],
   "source": [
    "import requests\n",
    "\n",
    "DATA_URL = (\n",
    "    \"https://github.com/astrojuanlu/ie-mbd-python-data-analysis-i/\"\n",
    "    \"raw/main/data/twitter_data.json\"\n",
    ")\n",
    "\n",
    "data = requests.get(DATA_URL).json()\n",
    "print(type(data), len(data))"
   ]
  },
  {
   "cell_type": "code",
   "execution_count": 22,
   "id": "26ef814d-4ee0-4044-847d-f39cfabc910d",
   "metadata": {},
   "outputs": [
    {
     "data": {
      "text/plain": [
       "'https://github.com/astrojuanlu/ie-mbd-python-data-analysis-i/raw/main/data/twitter_data.json'"
      ]
     },
     "execution_count": 22,
     "metadata": {},
     "output_type": "execute_result"
    }
   ],
   "source": [
    "DATA_URL"
   ]
  },
  {
   "cell_type": "code",
   "execution_count": 23,
   "id": "2ade7380-d6ca-45b4-b899-b4d3658b4f0f",
   "metadata": {},
   "outputs": [],
   "source": [
    "import json"
   ]
  },
  {
   "cell_type": "code",
   "execution_count": 24,
   "id": "8f8b1788-7e4b-4235-ae18-b8e3c7a34d77",
   "metadata": {},
   "outputs": [],
   "source": [
    "with open(\"twitter_data.json\", \"w\") as fh:\n",
    "    json.dump(data, fh)"
   ]
  },
  {
   "cell_type": "code",
   "execution_count": 13,
   "id": "9fa6748c-22d9-40d0-b600-ef631e14afbe",
   "metadata": {},
   "outputs": [],
   "source": [
    "# VERY dangerous\n",
    "# Don't do this! It's considered a bad practice\n",
    "fh = open(\"twitter_data.json\", \"r\")  # 'r' is the default\n",
    "json.load(fh)\n",
    "fh.close()  # <---- The `with` statement closes the file immediately"
   ]
  },
  {
   "cell_type": "code",
   "execution_count": 30,
   "id": "aed42e4a-0f81-40c6-a756-25ed053454c1",
   "metadata": {},
   "outputs": [],
   "source": [
    "# Good enough\n",
    "with open(\"twitter_data.json\") as fh:\n",
    "    contents = fh.read()  # This is a string - works for every kind of file\n",
    "    data = json.loads(contents)"
   ]
  },
  {
   "cell_type": "code",
   "execution_count": 34,
   "id": "0a3e7702-873a-4380-b9a7-a90898456d33",
   "metadata": {},
   "outputs": [],
   "source": [
    "# PERFECT!!1!\n",
    "with open(\"twitter_data.json\") as fh:\n",
    "    data = json.load(fh)"
   ]
  },
  {
   "cell_type": "code",
   "execution_count": 35,
   "id": "ee40777b-6b2c-42e0-8de2-f059a198fc9f",
   "metadata": {},
   "outputs": [
    {
     "data": {
      "text/plain": [
       "list"
      ]
     },
     "execution_count": 35,
     "metadata": {},
     "output_type": "execute_result"
    }
   ],
   "source": [
    "type(data)"
   ]
  },
  {
   "cell_type": "code",
   "execution_count": 18,
   "id": "17b75bdc-a3bb-43d6-b52a-33b943d6ddbd",
   "metadata": {},
   "outputs": [
    {
     "data": {
      "text/plain": [
       "{'a': 1}"
      ]
     },
     "execution_count": 18,
     "metadata": {},
     "output_type": "execute_result"
    }
   ],
   "source": [
    "d = json.loads('{\"a\": 1}')\n",
    "d"
   ]
  },
  {
   "cell_type": "code",
   "execution_count": 20,
   "id": "026162be-0270-4c16-b536-49041e78fe7b",
   "metadata": {},
   "outputs": [
    {
     "data": {
      "text/plain": [
       "1"
      ]
     },
     "execution_count": 20,
     "metadata": {},
     "output_type": "execute_result"
    }
   ],
   "source": [
    "d['a']"
   ]
  },
  {
   "cell_type": "code",
   "execution_count": 19,
   "id": "95f77ca5-cc1f-4c67-bf6e-a19c1af1b4de",
   "metadata": {},
   "outputs": [
    {
     "data": {
      "text/plain": [
       "dict"
      ]
     },
     "execution_count": 19,
     "metadata": {},
     "output_type": "execute_result"
    }
   ],
   "source": [
    "type(d)"
   ]
  },
  {
   "cell_type": "code",
   "execution_count": 37,
   "id": "639d59fc-9082-45a9-abf4-c4759256de5e",
   "metadata": {},
   "outputs": [],
   "source": [
    "t0 = data[0]"
   ]
  },
  {
   "cell_type": "code",
   "execution_count": 39,
   "id": "88324d1a-4f2a-45d8-a918-348ec708b29d",
   "metadata": {},
   "outputs": [
    {
     "data": {
      "text/plain": [
       "'en'"
      ]
     },
     "execution_count": 39,
     "metadata": {},
     "output_type": "execute_result"
    }
   ],
   "source": [
    "t0[\"lang\"]"
   ]
  },
  {
   "cell_type": "code",
   "execution_count": 50,
   "id": "6d970e58-57a8-4ba6-8a1e-a26974af8dc1",
   "metadata": {},
   "outputs": [],
   "source": [
    "langs = []\n",
    "for tweet in data:\n",
    "    langs += [tweet[\"lang\"]]"
   ]
  },
  {
   "cell_type": "code",
   "execution_count": 52,
   "id": "dbc50281-753b-4909-8575-bcbb0aa1002f",
   "metadata": {},
   "outputs": [
    {
     "data": {
      "text/plain": [
       "['en', 'en', 'en', 'en', 'und', 'en', 'en', 'pt', 'en']"
      ]
     },
     "execution_count": 52,
     "metadata": {},
     "output_type": "execute_result"
    }
   ],
   "source": [
    "# A list of all languages of all tweets\n",
    "# for i in data:\n",
    "langs = []\n",
    "for tweet in data:\n",
    "    langs.append(tweet[\"lang\"])\n",
    "langs"
   ]
  },
  {
   "cell_type": "code",
   "execution_count": 55,
   "id": "ca3779e2-16b6-4fda-8f69-b39250ea13bd",
   "metadata": {},
   "outputs": [
    {
     "data": {
      "text/plain": [
       "['en', 'en', 'en', 'en', 'und', 'en', 'en', 'pt', 'en']"
      ]
     },
     "execution_count": 55,
     "metadata": {},
     "output_type": "execute_result"
    }
   ],
   "source": [
    "# For simple list creation, this is perfect\n",
    "# \"list comprehensions\"\n",
    "langs = [tweet[\"lang\"] for tweet in data]\n",
    "langs"
   ]
  },
  {
   "cell_type": "code",
   "execution_count": 56,
   "id": "05e04db7-b9b8-4e3d-914a-8031590d7e49",
   "metadata": {},
   "outputs": [
    {
     "data": {
      "text/plain": [
       "True"
      ]
     },
     "execution_count": 56,
     "metadata": {},
     "output_type": "execute_result"
    }
   ],
   "source": [
    "\"en\" in langs"
   ]
  },
  {
   "cell_type": "code",
   "execution_count": 58,
   "id": "dd47a8f4-445a-4950-ae09-951a2e5a850f",
   "metadata": {},
   "outputs": [
    {
     "data": {
      "text/plain": [
       "False"
      ]
     },
     "execution_count": 58,
     "metadata": {},
     "output_type": "execute_result"
    }
   ],
   "source": [
    "\"es\" in langs"
   ]
  },
  {
   "cell_type": "code",
   "execution_count": 57,
   "id": "629a1418-a9c4-4413-b2f1-9f3b4c193ffc",
   "metadata": {},
   "outputs": [
    {
     "data": {
      "text/plain": [
       "True"
      ]
     },
     "execution_count": 57,
     "metadata": {},
     "output_type": "execute_result"
    }
   ],
   "source": [
    "\"es\" not in langs"
   ]
  },
  {
   "cell_type": "code",
   "execution_count": 59,
   "id": "7c1c394d-8981-420b-817c-31d23c7ba679",
   "metadata": {},
   "outputs": [
    {
     "data": {
      "text/plain": [
       "['en', 'und', 'pt']"
      ]
     },
     "execution_count": 59,
     "metadata": {},
     "output_type": "execute_result"
    }
   ],
   "source": [
    "langs = []\n",
    "for tweet in data:\n",
    "    if tweet[\"lang\"] not in langs:\n",
    "        langs.append(tweet[\"lang\"])\n",
    "langs"
   ]
  },
  {
   "cell_type": "code",
   "execution_count": 60,
   "id": "0ce9bcc0-3b54-421d-b5b1-9f864b263241",
   "metadata": {},
   "outputs": [
    {
     "data": {
      "text/plain": [
       "3"
      ]
     },
     "execution_count": 60,
     "metadata": {},
     "output_type": "execute_result"
    }
   ],
   "source": [
    "len(langs)"
   ]
  },
  {
   "cell_type": "code",
   "execution_count": 63,
   "id": "27948c57-5227-4f23-af8d-999b09f5835f",
   "metadata": {},
   "outputs": [
    {
     "data": {
      "text/plain": [
       "{'a', 'b', 'c'}"
      ]
     },
     "execution_count": 63,
     "metadata": {},
     "output_type": "execute_result"
    }
   ],
   "source": [
    "my_set = {\"a\", \"b\", \"c\", \"c\", \"c\", \"b\", \"a\", \"c\"}\n",
    "my_set"
   ]
  },
  {
   "cell_type": "code",
   "execution_count": 69,
   "id": "d0f4be0e-ada0-4199-87fd-0461994fe9dd",
   "metadata": {},
   "outputs": [
    {
     "data": {
      "text/plain": [
       "['en', 'en', 'en', 'en', 'und', 'en', 'en', 'pt', 'en']"
      ]
     },
     "execution_count": 69,
     "metadata": {},
     "output_type": "execute_result"
    }
   ],
   "source": [
    "langs = [tweet[\"lang\"] for tweet in data]\n",
    "langs"
   ]
  },
  {
   "cell_type": "code",
   "execution_count": 70,
   "id": "5a1d3c5f-69d4-427d-b5f8-af6e07c0409a",
   "metadata": {},
   "outputs": [
    {
     "data": {
      "text/plain": [
       "1"
      ]
     },
     "execution_count": 70,
     "metadata": {},
     "output_type": "execute_result"
    }
   ],
   "source": [
    "int(1.0)"
   ]
  },
  {
   "cell_type": "code",
   "execution_count": 71,
   "id": "53f93915-802b-4ab7-98b7-3de9288abae1",
   "metadata": {},
   "outputs": [
    {
     "data": {
      "text/plain": [
       "'1'"
      ]
     },
     "execution_count": 71,
     "metadata": {},
     "output_type": "execute_result"
    }
   ],
   "source": [
    "str(1)"
   ]
  },
  {
   "cell_type": "code",
   "execution_count": 65,
   "id": "8cc40e42-e5a2-433c-90ba-29d189132054",
   "metadata": {},
   "outputs": [
    {
     "data": {
      "text/plain": [
       "{'en', 'pt', 'und'}"
      ]
     },
     "execution_count": 65,
     "metadata": {},
     "output_type": "execute_result"
    }
   ],
   "source": [
    "set(langs)"
   ]
  },
  {
   "cell_type": "code",
   "execution_count": 73,
   "id": "c0568a65-01fa-40b9-8ec4-60f18b86d706",
   "metadata": {},
   "outputs": [
    {
     "data": {
      "text/plain": [
       "{'en', 'pt', 'und'}"
      ]
     },
     "execution_count": 73,
     "metadata": {},
     "output_type": "execute_result"
    }
   ],
   "source": [
    "langs = {tweet[\"lang\"] for tweet in data}\n",
    "langs"
   ]
  },
  {
   "cell_type": "code",
   "execution_count": 74,
   "id": "2aa476b5-35f0-49c8-bd9a-7d993c094f2d",
   "metadata": {},
   "outputs": [
    {
     "data": {
      "text/plain": [
       "3"
      ]
     },
     "execution_count": 74,
     "metadata": {},
     "output_type": "execute_result"
    }
   ],
   "source": [
    "len(langs)"
   ]
  },
  {
   "cell_type": "code",
   "execution_count": 75,
   "id": "597441d3-04b2-4e1e-a715-5e358daed07d",
   "metadata": {},
   "outputs": [
    {
     "data": {
      "text/plain": [
       "3"
      ]
     },
     "execution_count": 75,
     "metadata": {},
     "output_type": "execute_result"
    }
   ],
   "source": [
    "len({\"a\", \"b\", \"c\"})"
   ]
  },
  {
   "cell_type": "code",
   "execution_count": 76,
   "id": "48659414-05a0-4599-a1ff-91ebd3bb449e",
   "metadata": {},
   "outputs": [
    {
     "data": {
      "text/plain": [
       "3"
      ]
     },
     "execution_count": 76,
     "metadata": {},
     "output_type": "execute_result"
    }
   ],
   "source": [
    "len([\"a\", \"b\", \"c\"])"
   ]
  },
  {
   "cell_type": "code",
   "execution_count": 77,
   "id": "aa543928-e92d-48ca-9ede-4ed7f17c08d9",
   "metadata": {},
   "outputs": [
    {
     "data": {
      "text/plain": [
       "True"
      ]
     },
     "execution_count": 77,
     "metadata": {},
     "output_type": "execute_result"
    }
   ],
   "source": [
    "\"en\" in langs"
   ]
  },
  {
   "cell_type": "code",
   "execution_count": 80,
   "id": "39d5a9b5-87b4-4693-a1dd-53383191604d",
   "metadata": {},
   "outputs": [],
   "source": [
    "# langs[0]  # TypeError"
   ]
  },
  {
   "cell_type": "code",
   "execution_count": 81,
   "id": "ca5e1723-2b7d-4c26-a8a7-2f1fb5e3ff2b",
   "metadata": {},
   "outputs": [],
   "source": [
    "# langs.append(\"es\")  # AttributeError"
   ]
  },
  {
   "cell_type": "code",
   "execution_count": 92,
   "id": "da61e1da-dd17-4827-be7a-486f3f7f514a",
   "metadata": {},
   "outputs": [],
   "source": [
    "langs = set(langs)"
   ]
  },
  {
   "cell_type": "code",
   "execution_count": 93,
   "id": "b5ff6fdd-b239-498b-a24c-70a372b4abfa",
   "metadata": {},
   "outputs": [
    {
     "data": {
      "text/plain": [
       "set"
      ]
     },
     "execution_count": 93,
     "metadata": {},
     "output_type": "execute_result"
    }
   ],
   "source": [
    "type(langs)"
   ]
  },
  {
   "cell_type": "code",
   "execution_count": 94,
   "id": "33de27f3-828f-4b50-91ab-454c7ec6c8dc",
   "metadata": {},
   "outputs": [],
   "source": [
    "langs.add(\"es\")"
   ]
  },
  {
   "cell_type": "code",
   "execution_count": 95,
   "id": "f4f35811-4d33-4917-8239-93261dc7cee9",
   "metadata": {},
   "outputs": [
    {
     "data": {
      "text/plain": [
       "{'en', 'es', 'pt', 'und'}"
      ]
     },
     "execution_count": 95,
     "metadata": {},
     "output_type": "execute_result"
    }
   ],
   "source": [
    "langs"
   ]
  },
  {
   "cell_type": "code",
   "execution_count": 122,
   "id": "f7bc7499-97c1-4ff4-bc46-a2122d8c4b8a",
   "metadata": {},
   "outputs": [
    {
     "data": {
      "text/plain": [
       "['pt', 'und', 'en']"
      ]
     },
     "execution_count": 122,
     "metadata": {},
     "output_type": "execute_result"
    }
   ],
   "source": [
    "list(langs)"
   ]
  },
  {
   "cell_type": "code",
   "execution_count": 97,
   "id": "6d6bcf74-4d06-4866-ba55-c924c14f8774",
   "metadata": {},
   "outputs": [],
   "source": [
    "langs.remove(\"es\")"
   ]
  },
  {
   "cell_type": "code",
   "execution_count": 98,
   "id": "469b8542-2f9e-44ad-92b8-ab620e353134",
   "metadata": {},
   "outputs": [
    {
     "data": {
      "text/plain": [
       "{'en', 'pt', 'und'}"
      ]
     },
     "execution_count": 98,
     "metadata": {},
     "output_type": "execute_result"
    }
   ],
   "source": [
    "langs"
   ]
  }
 ],
 "metadata": {
  "kernelspec": {
   "display_name": "Python 3",
   "language": "python",
   "name": "python3"
  },
  "language_info": {
   "codemirror_mode": {
    "name": "ipython",
    "version": 3
   },
   "file_extension": ".py",
   "mimetype": "text/x-python",
   "name": "python",
   "nbconvert_exporter": "python",
   "pygments_lexer": "ipython3",
   "version": "3.8.8"
  }
 },
 "nbformat": 4,
 "nbformat_minor": 5
}
