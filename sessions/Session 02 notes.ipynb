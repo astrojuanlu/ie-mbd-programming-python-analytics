{
 "cells": [
  {
   "cell_type": "code",
   "execution_count": 1,
   "id": "eade8f6c-8229-4f13-8a79-0778e42dcd2e",
   "metadata": {},
   "outputs": [
    {
     "data": {
      "text/plain": [
       "0.30000000000000004"
      ]
     },
     "execution_count": 1,
     "metadata": {},
     "output_type": "execute_result"
    }
   ],
   "source": [
    "0.1 + 0.2"
   ]
  },
  {
   "cell_type": "code",
   "execution_count": 2,
   "id": "473909ad-049d-40b5-9dc5-0e763d03a41f",
   "metadata": {},
   "outputs": [
    {
     "data": {
      "text/plain": [
       "1.0"
      ]
     },
     "execution_count": 2,
     "metadata": {},
     "output_type": "execute_result"
    }
   ],
   "source": [
    "0.1 + 0.2 + 0.7"
   ]
  },
  {
   "cell_type": "code",
   "execution_count": 3,
   "id": "3395ea44-49d2-400e-bfdf-9abca68af761",
   "metadata": {},
   "outputs": [
    {
     "data": {
      "text/plain": [
       "1.0"
      ]
     },
     "execution_count": 3,
     "metadata": {},
     "output_type": "execute_result"
    }
   ],
   "source": [
    "(0.1 + 0.2) + 0.7"
   ]
  },
  {
   "cell_type": "code",
   "execution_count": 4,
   "id": "2118c646-eb97-46be-8ba2-918d0be9d73a",
   "metadata": {},
   "outputs": [
    {
     "data": {
      "text/plain": [
       "0.9999999999999999"
      ]
     },
     "execution_count": 4,
     "metadata": {},
     "output_type": "execute_result"
    }
   ],
   "source": [
    "0.1 + (0.2 + 0.7)"
   ]
  },
  {
   "cell_type": "code",
   "execution_count": 6,
   "id": "f2bf2675-1529-45e4-a826-54268eaedfae",
   "metadata": {},
   "outputs": [
    {
     "data": {
      "text/plain": [
       "-5e+17"
      ]
     },
     "execution_count": 6,
     "metadata": {},
     "output_type": "execute_result"
    }
   ],
   "source": [
    "a = -5.0e17\n",
    "a"
   ]
  },
  {
   "cell_type": "code",
   "execution_count": 10,
   "id": "024e0051-9880-48f8-b601-6ca02eccd035",
   "metadata": {},
   "outputs": [
    {
     "data": {
      "text/plain": [
       "-500000000000000000"
      ]
     },
     "execution_count": 10,
     "metadata": {},
     "output_type": "execute_result"
    }
   ],
   "source": [
    "a = -5 * 10 ** 17\n",
    "a"
   ]
  },
  {
   "cell_type": "code",
   "execution_count": 11,
   "id": "919af6a5-1f1a-4278-9259-0e50a0b0f33c",
   "metadata": {},
   "outputs": [],
   "source": [
    "b = 5e17"
   ]
  },
  {
   "cell_type": "code",
   "execution_count": 12,
   "id": "56873a46-6f2e-4b56-9458-a9291a1f39de",
   "metadata": {},
   "outputs": [
    {
     "data": {
      "text/plain": [
       "1.0"
      ]
     },
     "execution_count": 12,
     "metadata": {},
     "output_type": "execute_result"
    }
   ],
   "source": [
    "a + b + 1"
   ]
  },
  {
   "cell_type": "code",
   "execution_count": 13,
   "id": "fa9c4fa3-f26b-4490-9576-0a94f7ab7c31",
   "metadata": {},
   "outputs": [
    {
     "data": {
      "text/plain": [
       "0.0"
      ]
     },
     "execution_count": 13,
     "metadata": {},
     "output_type": "execute_result"
    }
   ],
   "source": [
    "a + (b + 1)"
   ]
  },
  {
   "cell_type": "code",
   "execution_count": 17,
   "id": "80356e0b-a2e7-47e5-bbd0-0583733a0039",
   "metadata": {},
   "outputs": [
    {
     "data": {
      "text/plain": [
       "int"
      ]
     },
     "execution_count": 17,
     "metadata": {},
     "output_type": "execute_result"
    }
   ],
   "source": [
    "a = -5 * 10 ** 17\n",
    "type(a)  # Integer"
   ]
  },
  {
   "cell_type": "code",
   "execution_count": 21,
   "id": "7b51d70d-a9dd-4050-9d7f-c38b823db28a",
   "metadata": {},
   "outputs": [
    {
     "data": {
      "text/plain": [
       "float"
      ]
     },
     "execution_count": 21,
     "metadata": {},
     "output_type": "execute_result"
    }
   ],
   "source": [
    "b = 5e17\n",
    "type(b)  # Floating point number "
   ]
  },
  {
   "cell_type": "code",
   "execution_count": 23,
   "id": "1c2f0adb-ea5f-4f4a-b57d-b82480695a7b",
   "metadata": {},
   "outputs": [
    {
     "name": "stdout",
     "output_type": "stream",
     "text": [
      "2\n",
      "4\n",
      "6\n"
     ]
    }
   ],
   "source": [
    "print(1 + 1)\n",
    "print(2 + 2)\n",
    "print(3 + 3)"
   ]
  },
  {
   "cell_type": "code",
   "execution_count": 25,
   "id": "db50e38c-3101-47c0-b4f3-ab2740479a9c",
   "metadata": {},
   "outputs": [
    {
     "data": {
      "text/plain": [
       "'Juan Luis'"
      ]
     },
     "execution_count": 25,
     "metadata": {},
     "output_type": "execute_result"
    }
   ],
   "source": [
    "name = \"Juan Luis\"\n",
    "name"
   ]
  },
  {
   "cell_type": "code",
   "execution_count": 26,
   "id": "1eac50f2-6753-41f8-a2b3-692df1579b72",
   "metadata": {},
   "outputs": [
    {
     "data": {
      "text/plain": [
       "str"
      ]
     },
     "execution_count": 26,
     "metadata": {},
     "output_type": "execute_result"
    }
   ],
   "source": [
    "type(name)"
   ]
  },
  {
   "cell_type": "code",
   "execution_count": 28,
   "id": "f8541d6e-b010-49f5-8198-becd5203faea",
   "metadata": {},
   "outputs": [
    {
     "data": {
      "text/plain": [
       "'JUAN LUIS'"
      ]
     },
     "execution_count": 28,
     "metadata": {},
     "output_type": "execute_result"
    }
   ],
   "source": [
    "# . is the access operator\n",
    "# upper is a method of all strings\n",
    "name.upper()"
   ]
  },
  {
   "cell_type": "code",
   "execution_count": 32,
   "id": "7c3138e4-0e33-4aaf-8389-15af94af2184",
   "metadata": {},
   "outputs": [],
   "source": [
    "# name.  # name.<Tab key> to display list of methods\n",
    "\n",
    "# f stands for functions, needs parenthesis\n",
    "# i stands for instance property, doesn't need parenthesis"
   ]
  },
  {
   "cell_type": "code",
   "execution_count": 30,
   "id": "1f77565a-7d4b-4622-a0df-3672d222b6c4",
   "metadata": {},
   "outputs": [
    {
     "data": {
      "text/plain": [
       "-500000000000000000"
      ]
     },
     "execution_count": 30,
     "metadata": {},
     "output_type": "execute_result"
    }
   ],
   "source": [
    "a.conjugate()"
   ]
  },
  {
   "cell_type": "code",
   "execution_count": 34,
   "id": "285f169e-6dec-4c38-bfad-5b022c703e6c",
   "metadata": {},
   "outputs": [
    {
     "ename": "AttributeError",
     "evalue": "'int' object has no attribute 'upper'",
     "output_type": "error",
     "traceback": [
      "\u001b[0;31m---------------------------------------------------------------------------\u001b[0m",
      "\u001b[0;31mAttributeError\u001b[0m                            Traceback (most recent call last)",
      "\u001b[0;32m/tmp/ipykernel_101/2984306047.py\u001b[0m in \u001b[0;36m<module>\u001b[0;34m\u001b[0m\n\u001b[0;32m----> 1\u001b[0;31m \u001b[0ma\u001b[0m\u001b[0;34m.\u001b[0m\u001b[0mupper\u001b[0m\u001b[0;34m(\u001b[0m\u001b[0;34m)\u001b[0m\u001b[0;34m\u001b[0m\u001b[0;34m\u001b[0m\u001b[0m\n\u001b[0m",
      "\u001b[0;31mAttributeError\u001b[0m: 'int' object has no attribute 'upper'"
     ]
    }
   ],
   "source": [
    "a.upper()"
   ]
  },
  {
   "cell_type": "code",
   "execution_count": 35,
   "id": "6914df07-c2d3-4237-a533-d683879aca3b",
   "metadata": {},
   "outputs": [
    {
     "data": {
      "text/plain": [
       "'helloworld'"
      ]
     },
     "execution_count": 35,
     "metadata": {},
     "output_type": "execute_result"
    }
   ],
   "source": [
    "\"hello\" + \"world\""
   ]
  },
  {
   "cell_type": "code",
   "execution_count": 51,
   "id": "aeae5a90-db7a-4759-a5a7-ca3c2bec4c65",
   "metadata": {},
   "outputs": [
    {
     "data": {
      "text/plain": [
       "5"
      ]
     },
     "execution_count": 51,
     "metadata": {},
     "output_type": "execute_result"
    }
   ],
   "source": [
    "5"
   ]
  },
  {
   "cell_type": "code",
   "execution_count": 39,
   "id": "8e8d84bd-4539-4270-9437-48b457b5cc94",
   "metadata": {},
   "outputs": [
    {
     "data": {
      "text/plain": [
       "'5'"
      ]
     },
     "execution_count": 39,
     "metadata": {},
     "output_type": "execute_result"
    }
   ],
   "source": [
    "str(5)"
   ]
  },
  {
   "cell_type": "code",
   "execution_count": 37,
   "id": "67d73aa6-63c1-49ec-af99-9c7b1ad8b3cf",
   "metadata": {},
   "outputs": [
    {
     "data": {
      "text/plain": [
       "'hello5'"
      ]
     },
     "execution_count": 37,
     "metadata": {},
     "output_type": "execute_result"
    }
   ],
   "source": [
    "\"hello\" + \"5\""
   ]
  },
  {
   "cell_type": "code",
   "execution_count": 53,
   "id": "a8afea3a-c57f-4a35-bf6a-771bb53c66ac",
   "metadata": {},
   "outputs": [
    {
     "data": {
      "text/plain": [
       "'hello5'"
      ]
     },
     "execution_count": 53,
     "metadata": {},
     "output_type": "execute_result"
    }
   ],
   "source": [
    "\"hello\" + str(5)"
   ]
  },
  {
   "cell_type": "code",
   "execution_count": 45,
   "id": "7c4e4f0e-5149-4251-815e-e01801cd2e10",
   "metadata": {},
   "outputs": [
    {
     "data": {
      "text/plain": [
       "'hellohellohellohellohello'"
      ]
     },
     "execution_count": 45,
     "metadata": {},
     "output_type": "execute_result"
    }
   ],
   "source": [
    "\"hello\" * 5"
   ]
  },
  {
   "cell_type": "code",
   "execution_count": 46,
   "id": "74e63abc-b695-4d44-ad5a-22d9f7900d7f",
   "metadata": {},
   "outputs": [
    {
     "data": {
      "text/plain": [
       "True"
      ]
     },
     "execution_count": 46,
     "metadata": {},
     "output_type": "execute_result"
    }
   ],
   "source": [
    "2 + 2 == 4"
   ]
  },
  {
   "cell_type": "code",
   "execution_count": 48,
   "id": "437c48aa-1a58-4d6a-9a97-a880bfbbdc1f",
   "metadata": {},
   "outputs": [
    {
     "data": {
      "text/plain": [
       "False"
      ]
     },
     "execution_count": 48,
     "metadata": {},
     "output_type": "execute_result"
    }
   ],
   "source": [
    "2 + 2 == 5"
   ]
  },
  {
   "cell_type": "code",
   "execution_count": 49,
   "id": "907cf456-0c2f-443d-8b9d-305eb441eb0d",
   "metadata": {},
   "outputs": [
    {
     "data": {
      "text/plain": [
       "True"
      ]
     },
     "execution_count": 49,
     "metadata": {},
     "output_type": "execute_result"
    }
   ],
   "source": [
    "\"hello\" == \"he\" + \"llo\""
   ]
  },
  {
   "cell_type": "code",
   "execution_count": 50,
   "id": "e40f97b4-c8d8-4688-b6f7-5b6dfacbbc9c",
   "metadata": {},
   "outputs": [
    {
     "data": {
      "text/plain": [
       "False"
      ]
     },
     "execution_count": 50,
     "metadata": {},
     "output_type": "execute_result"
    }
   ],
   "source": [
    "0.1 + 0.2 == 0.3"
   ]
  },
  {
   "cell_type": "code",
   "execution_count": 56,
   "id": "14929b1b-0ada-4685-a99f-bcbc57133bfa",
   "metadata": {},
   "outputs": [
    {
     "data": {
      "text/plain": [
       "True"
      ]
     },
     "execution_count": 56,
     "metadata": {},
     "output_type": "execute_result"
    }
   ],
   "source": [
    "True and True"
   ]
  },
  {
   "cell_type": "code",
   "execution_count": 54,
   "id": "69f2d9a6-9f8b-4ec1-9b52-697ed0e7b1b9",
   "metadata": {},
   "outputs": [
    {
     "data": {
      "text/plain": [
       "False"
      ]
     },
     "execution_count": 54,
     "metadata": {},
     "output_type": "execute_result"
    }
   ],
   "source": [
    "True and False"
   ]
  },
  {
   "cell_type": "code",
   "execution_count": 55,
   "id": "2e198814-e807-4022-aa6b-e849f0e4c5d7",
   "metadata": {},
   "outputs": [
    {
     "data": {
      "text/plain": [
       "True"
      ]
     },
     "execution_count": 55,
     "metadata": {},
     "output_type": "execute_result"
    }
   ],
   "source": [
    "False or True"
   ]
  },
  {
   "cell_type": "code",
   "execution_count": 59,
   "id": "5b514cc0-04df-4cba-9bc1-662c591d633f",
   "metadata": {},
   "outputs": [
    {
     "data": {
      "text/plain": [
       "False"
      ]
     },
     "execution_count": 59,
     "metadata": {},
     "output_type": "execute_result"
    }
   ],
   "source": [
    "not True"
   ]
  },
  {
   "cell_type": "code",
   "execution_count": 60,
   "id": "cd1d95ca-a02d-42d0-b3ff-198e24781245",
   "metadata": {},
   "outputs": [
    {
     "data": {
      "text/plain": [
       "True"
      ]
     },
     "execution_count": 60,
     "metadata": {},
     "output_type": "execute_result"
    }
   ],
   "source": [
    "not False"
   ]
  },
  {
   "cell_type": "code",
   "execution_count": 66,
   "id": "53009cac-c5e1-44dd-b656-d37b0a8d118f",
   "metadata": {},
   "outputs": [
    {
     "data": {
      "text/plain": [
       "False"
      ]
     },
     "execution_count": 66,
     "metadata": {},
     "output_type": "execute_result"
    }
   ],
   "source": [
    "1 > 2  # Greater than\n",
    "# >=   # Greater or equal than\n",
    "# <    # Less than\n",
    "# <=   # Less or equal than"
   ]
  },
  {
   "cell_type": "code",
   "execution_count": 62,
   "id": "9433cdc6-1e46-4e42-aa83-99660cc4648a",
   "metadata": {},
   "outputs": [
    {
     "data": {
      "text/plain": [
       "True"
      ]
     },
     "execution_count": 62,
     "metadata": {},
     "output_type": "execute_result"
    }
   ],
   "source": [
    "3 <= 5"
   ]
  },
  {
   "cell_type": "code",
   "execution_count": 67,
   "id": "37b0826b-d61f-415e-9040-71bbfed6dab6",
   "metadata": {},
   "outputs": [],
   "source": [
    "a = 10\n",
    "b = 20"
   ]
  },
  {
   "cell_type": "code",
   "execution_count": 68,
   "id": "fa15cf11-cb03-4a5d-882c-f3afb26bfb6d",
   "metadata": {},
   "outputs": [
    {
     "data": {
      "text/plain": [
       "True"
      ]
     },
     "execution_count": 68,
     "metadata": {},
     "output_type": "execute_result"
    }
   ],
   "source": [
    "(a < b) and (2 + 2 == 4)"
   ]
  },
  {
   "cell_type": "code",
   "execution_count": null,
   "id": "b93e5e39-1cc4-4c28-a63b-350a7e633a47",
   "metadata": {},
   "outputs": [],
   "source": [
    "age_1 = 40\n",
    "sex_1 = \"male\"\n",
    "consumption_1 = 10.2"
   ]
  },
  {
   "cell_type": "code",
   "execution_count": 69,
   "id": "9d0ca60f-a543-41c3-9532-5bc19f61858d",
   "metadata": {},
   "outputs": [
    {
     "data": {
      "text/plain": [
       "\"Tim O'Reilly\""
      ]
     },
     "execution_count": 69,
     "metadata": {},
     "output_type": "execute_result"
    }
   ],
   "source": [
    "name = \"Tim O'Reilly\"\n",
    "name"
   ]
  },
  {
   "cell_type": "code",
   "execution_count": 70,
   "id": "5463dbf1-55df-442f-8bc5-ae39d7078201",
   "metadata": {},
   "outputs": [
    {
     "data": {
      "text/plain": [
       "\"tim o'reilly\""
      ]
     },
     "execution_count": 70,
     "metadata": {},
     "output_type": "execute_result"
    }
   ],
   "source": [
    "name.lower()"
   ]
  },
  {
   "cell_type": "code",
   "execution_count": 72,
   "id": "471a429a-f2de-42c2-9cf1-93eeb7ba664f",
   "metadata": {},
   "outputs": [
    {
     "data": {
      "text/plain": [
       "\"Tom O'Reolly\""
      ]
     },
     "execution_count": 72,
     "metadata": {},
     "output_type": "execute_result"
    }
   ],
   "source": [
    "name.replace(\"i\", \"o\")"
   ]
  },
  {
   "cell_type": "code",
   "execution_count": 73,
   "id": "8e007aac-ca60-44cb-a1ef-321f69b1dc9b",
   "metadata": {},
   "outputs": [
    {
     "data": {
      "text/plain": [
       "\"Tim O'Reilly\""
      ]
     },
     "execution_count": 73,
     "metadata": {},
     "output_type": "execute_result"
    }
   ],
   "source": [
    "\"tim o'reilly\".title()"
   ]
  },
  {
   "cell_type": "code",
   "execution_count": 75,
   "id": "12315fa1-b494-4f10-a767-647e9c68f91e",
   "metadata": {},
   "outputs": [],
   "source": [
    "# name.title?  # To see the help"
   ]
  },
  {
   "cell_type": "code",
   "execution_count": 76,
   "id": "a3427eb7-aad3-497e-92b4-881ac95cafc5",
   "metadata": {},
   "outputs": [
    {
     "data": {
      "text/plain": [
       "\"tIM o'rEILLY\""
      ]
     },
     "execution_count": 76,
     "metadata": {},
     "output_type": "execute_result"
    }
   ],
   "source": [
    "name.swapcase()"
   ]
  },
  {
   "cell_type": "code",
   "execution_count": 78,
   "id": "2e8b883f-f02d-432c-88ee-43efa1de3c3b",
   "metadata": {},
   "outputs": [
    {
     "data": {
      "text/plain": [
       "\"    Tim O'Reilly    \""
      ]
     },
     "execution_count": 78,
     "metadata": {},
     "output_type": "execute_result"
    }
   ],
   "source": [
    "name.center(20)"
   ]
  },
  {
   "cell_type": "code",
   "execution_count": 79,
   "id": "f815cb6c-cecf-45a3-aeaf-f6ed99a8dafb",
   "metadata": {},
   "outputs": [
    {
     "data": {
      "text/plain": [
       "\u001b[0;31mSignature:\u001b[0m \u001b[0mname\u001b[0m\u001b[0;34m.\u001b[0m\u001b[0mcenter\u001b[0m\u001b[0;34m(\u001b[0m\u001b[0mwidth\u001b[0m\u001b[0;34m,\u001b[0m \u001b[0mfillchar\u001b[0m\u001b[0;34m=\u001b[0m\u001b[0;34m' '\u001b[0m\u001b[0;34m,\u001b[0m \u001b[0;34m/\u001b[0m\u001b[0;34m)\u001b[0m\u001b[0;34m\u001b[0m\u001b[0;34m\u001b[0m\u001b[0m\n",
       "\u001b[0;31mDocstring:\u001b[0m\n",
       "Return a centered string of length width.\n",
       "\n",
       "Padding is done using the specified fill character (default is a space).\n",
       "\u001b[0;31mType:\u001b[0m      builtin_function_or_method\n"
      ]
     },
     "metadata": {},
     "output_type": "display_data"
    }
   ],
   "source": [
    "name.center?"
   ]
  },
  {
   "cell_type": "code",
   "execution_count": 83,
   "id": "57ee3f11-be24-47c6-959e-a9b1aea53abf",
   "metadata": {},
   "outputs": [],
   "source": [
    "age_1 = 40\n",
    "sex_1 = \"male\"\n",
    "consumption_1 = 10.2"
   ]
  },
  {
   "cell_type": "code",
   "execution_count": 84,
   "id": "fb723319-7cc7-4122-8b0a-a6477fe88139",
   "metadata": {},
   "outputs": [],
   "source": [
    "age_2 = 50\n",
    "sex_2 = \"female\"\n",
    "consumption_2 = 5.4"
   ]
  },
  {
   "cell_type": "code",
   "execution_count": 85,
   "id": "f99a8d43-98da-4259-92b1-757da6f2fb9b",
   "metadata": {},
   "outputs": [],
   "source": [
    "age_3 = 23\n",
    "sex_3 = \"female\"\n",
    "consumption_3 = 8.0"
   ]
  },
  {
   "cell_type": "code",
   "execution_count": 86,
   "id": "a5b9750b-d97b-4a8a-82f6-aa68027ddce4",
   "metadata": {},
   "outputs": [],
   "source": [
    "age_4 = 18\n",
    "sex_4 = \"male\"\n",
    "consumption_4 = 2.5"
   ]
  },
  {
   "cell_type": "markdown",
   "id": "74abbd9d-9177-4f2f-a0be-2ab6893392a6",
   "metadata": {},
   "source": [
    "> Women aged 20 to 25 (both included) or users with any gender younger than 20, in both cases with average monthly data consumption over 5 GB"
   ]
  },
  {
   "cell_type": "code",
   "execution_count": 90,
   "id": "dac47b8a-a25a-4889-882d-f7013714fb46",
   "metadata": {},
   "outputs": [
    {
     "data": {
      "text/plain": [
       "False"
      ]
     },
     "execution_count": 90,
     "metadata": {},
     "output_type": "execute_result"
    }
   ],
   "source": [
    "((\n",
    "    (sex_1 == \"female\")\n",
    "    and (age_1 >= 20)\n",
    "    and (age_1 <= 25)\n",
    ") or (age_1 < 20)) and (consumption_1 > 5)"
   ]
  },
  {
   "cell_type": "code",
   "execution_count": null,
   "id": "938d37c4-eeff-43fa-b9e6-5fc68d9e1c30",
   "metadata": {},
   "outputs": [],
   "source": []
  }
 ],
 "metadata": {
  "kernelspec": {
   "display_name": "Python 3",
   "language": "python",
   "name": "python3"
  },
  "language_info": {
   "codemirror_mode": {
    "name": "ipython",
    "version": 3
   },
   "file_extension": ".py",
   "mimetype": "text/x-python",
   "name": "python",
   "nbconvert_exporter": "python",
   "pygments_lexer": "ipython3",
   "version": "3.8.8"
  }
 },
 "nbformat": 4,
 "nbformat_minor": 5
}
