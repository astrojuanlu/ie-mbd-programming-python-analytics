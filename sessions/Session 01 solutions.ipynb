{
 "cells": [
  {
   "cell_type": "markdown",
   "id": "a1ac22de-a014-4cd9-8e46-9224690bfa7c",
   "metadata": {
    "tags": []
   },
   "source": [
    "# Session 01 Solutions"
   ]
  },
  {
   "cell_type": "markdown",
   "id": "0bb271f9-0a00-4331-8cc9-7cd27b51d84c",
   "metadata": {},
   "source": [
    "---\n",
    "\n",
    "# Data modeling\n",
    "\n",
    "![Python logo](https://www.python.org/static/community_logos/python-logo.png)\n",
    "\n",
    "We model our data using a simple **linear regression** model:\n",
    "\n",
    "$$\n",
    "y = \\beta_0 + \\beta_1 x \n",
    "$$\n",
    "\n",
    "Because:\n",
    "\n",
    "- It's fast\n",
    "- Intuitive\n",
    "- And _works_\n",
    "\n",
    "---"
   ]
  },
  {
   "cell_type": "code",
   "execution_count": 1,
   "id": "8c6ac35f-4ea6-496c-8bcb-f900d724cda4",
   "metadata": {
    "execution": {
     "iopub.execute_input": "2022-10-04T20:58:02.556908Z",
     "iopub.status.busy": "2022-10-04T20:58:02.556819Z",
     "iopub.status.idle": "2022-10-04T20:58:02.565264Z",
     "shell.execute_reply": "2022-10-04T20:58:02.564821Z",
     "shell.execute_reply.started": "2022-10-04T20:58:02.556879Z"
    }
   },
   "outputs": [
    {
     "data": {
      "text/plain": [
       "-3.0000000000000004"
      ]
     },
     "execution_count": 1,
     "metadata": {},
     "output_type": "execute_result"
    }
   ],
   "source": [
    "a = 0.1\n",
    "b = 0.2\n",
    "\n",
    "(a + b) / (a - b)"
   ]
  },
  {
   "cell_type": "code",
   "execution_count": 2,
   "id": "d7271873-137b-4677-9885-32a8499d68de",
   "metadata": {
    "execution": {
     "iopub.execute_input": "2022-10-04T20:58:02.565739Z",
     "iopub.status.busy": "2022-10-04T20:58:02.565656Z",
     "iopub.status.idle": "2022-10-04T20:58:02.577321Z",
     "shell.execute_reply": "2022-10-04T20:58:02.577095Z",
     "shell.execute_reply.started": "2022-10-04T20:58:02.565730Z"
    },
    "tags": []
   },
   "outputs": [
    {
     "data": {
      "text/plain": [
       "1.3194444444444444"
      ]
     },
     "execution_count": 2,
     "metadata": {},
     "output_type": "execute_result"
    }
   ],
   "source": [
    "c = 1 / 3\n",
    "d = 1.25\n",
    "\n",
    "(10 * c + d / 2) / 3"
   ]
  },
  {
   "cell_type": "code",
   "execution_count": 3,
   "id": "20bbb1b7-9efe-4920-b4ca-dd041bc36607",
   "metadata": {
    "execution": {
     "iopub.execute_input": "2022-10-04T20:58:02.578026Z",
     "iopub.status.busy": "2022-10-04T20:58:02.577911Z",
     "iopub.status.idle": "2022-10-04T20:58:07.792698Z",
     "shell.execute_reply": "2022-10-04T20:58:07.791461Z",
     "shell.execute_reply.started": "2022-10-04T20:58:02.578016Z"
    },
    "tags": []
   },
   "outputs": [
    {
     "name": "stdin",
     "output_type": "stream",
     "text": [
      "What's your name? Juan Luis\n",
      "age? 31\n"
     ]
    },
    {
     "name": "stdout",
     "output_type": "stream",
     "text": [
      "Juan Luis 31\n"
     ]
    }
   ],
   "source": [
    "name = input(\"What's your name?\")\n",
    "age = input(\"age?\")\n",
    "\n",
    "print(name, age)"
   ]
  },
  {
   "cell_type": "code",
   "execution_count": 4,
   "id": "35464600-4a4a-4c01-a065-f2957e66cb4d",
   "metadata": {
    "execution": {
     "iopub.execute_input": "2022-10-04T20:58:07.794638Z",
     "iopub.status.busy": "2022-10-04T20:58:07.794299Z",
     "iopub.status.idle": "2022-10-04T20:58:07.800121Z",
     "shell.execute_reply": "2022-10-04T20:58:07.799597Z",
     "shell.execute_reply.started": "2022-10-04T20:58:07.794589Z"
    }
   },
   "outputs": [],
   "source": [
    "import datetime as dt\n",
    "\n",
    "def ask_name():\n",
    "    name = input(\"What's your name?\")\n",
    "\n",
    "    return {\n",
    "        \"name\": name,\n",
    "        \"date\": dt.datetime.now(dt.timezone.utc).isoformat(),\n",
    "    }"
   ]
  },
  {
   "cell_type": "code",
   "execution_count": 5,
   "id": "f6ab65c7-1901-4ee1-a3f3-6c18340cd256",
   "metadata": {
    "execution": {
     "iopub.execute_input": "2022-10-04T20:58:07.800888Z",
     "iopub.status.busy": "2022-10-04T20:58:07.800752Z",
     "iopub.status.idle": "2022-10-04T20:58:09.480745Z",
     "shell.execute_reply": "2022-10-04T20:58:09.479594Z",
     "shell.execute_reply.started": "2022-10-04T20:58:07.800872Z"
    },
    "tags": []
   },
   "outputs": [
    {
     "name": "stdin",
     "output_type": "stream",
     "text": [
      "What's your name? Juan Luis\n"
     ]
    },
    {
     "data": {
      "text/plain": [
       "{'name': 'Juan Luis', 'date': '2022-10-04T20:58:09.474373+00:00'}"
      ]
     },
     "execution_count": 5,
     "metadata": {},
     "output_type": "execute_result"
    }
   ],
   "source": [
    "ask_name()"
   ]
  }
 ],
 "metadata": {
  "kernelspec": {
   "display_name": "Python 3 (ipykernel)",
   "language": "python",
   "name": "python3"
  },
  "language_info": {
   "codemirror_mode": {
    "name": "ipython",
    "version": 3
   },
   "file_extension": ".py",
   "mimetype": "text/x-python",
   "name": "python",
   "nbconvert_exporter": "python",
   "pygments_lexer": "ipython3",
   "version": "3.9.12"
  }
 },
 "nbformat": 4,
 "nbformat_minor": 5
}
