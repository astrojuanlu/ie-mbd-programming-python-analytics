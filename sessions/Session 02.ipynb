{
 "cells": [
  {
   "cell_type": "markdown",
   "metadata": {},
   "source": [
    "# Session 02"
   ]
  },
  {
   "cell_type": "markdown",
   "metadata": {},
   "source": [
    "## Strings"
   ]
  },
  {
   "cell_type": "markdown",
   "metadata": {},
   "source": [
    "Strings contain characters, and they can be extracted with an operation called indexing:"
   ]
  },
  {
   "cell_type": "code",
   "execution_count": 1,
   "metadata": {
    "execution": {
     "iopub.execute_input": "2022-10-04T21:42:06.978764Z",
     "iopub.status.busy": "2022-10-04T21:42:06.978559Z",
     "iopub.status.idle": "2022-10-04T21:42:06.988445Z",
     "shell.execute_reply": "2022-10-04T21:42:06.988148Z",
     "shell.execute_reply.started": "2022-10-04T21:42:06.978720Z"
    }
   },
   "outputs": [
    {
     "data": {
      "text/plain": [
       "'Juan Luis'"
      ]
     },
     "execution_count": 1,
     "metadata": {},
     "output_type": "execute_result"
    }
   ],
   "source": [
    "name = \"Juan Luis\"\n",
    "name"
   ]
  },
  {
   "cell_type": "markdown",
   "metadata": {},
   "source": [
    "The number zero `0` corresponds to the first element, `1` to the second, and so forth. Think of it as an offset:"
   ]
  },
  {
   "cell_type": "code",
   "execution_count": 2,
   "metadata": {
    "execution": {
     "iopub.execute_input": "2022-10-04T21:42:06.989211Z",
     "iopub.status.busy": "2022-10-04T21:42:06.989048Z",
     "iopub.status.idle": "2022-10-04T21:42:06.999766Z",
     "shell.execute_reply": "2022-10-04T21:42:06.999502Z",
     "shell.execute_reply.started": "2022-10-04T21:42:06.989195Z"
    }
   },
   "outputs": [
    {
     "data": {
      "text/plain": [
       "'J'"
      ]
     },
     "execution_count": 2,
     "metadata": {},
     "output_type": "execute_result"
    }
   ],
   "source": [
    "name[0]"
   ]
  },
  {
   "cell_type": "code",
   "execution_count": 3,
   "metadata": {
    "execution": {
     "iopub.execute_input": "2022-10-04T21:42:07.000941Z",
     "iopub.status.busy": "2022-10-04T21:42:07.000815Z",
     "iopub.status.idle": "2022-10-04T21:42:07.003341Z",
     "shell.execute_reply": "2022-10-04T21:42:07.003035Z",
     "shell.execute_reply.started": "2022-10-04T21:42:07.000925Z"
    }
   },
   "outputs": [
    {
     "data": {
      "text/plain": [
       "'u'"
      ]
     },
     "execution_count": 3,
     "metadata": {},
     "output_type": "execute_result"
    }
   ],
   "source": [
    "name[1]"
   ]
  },
  {
   "cell_type": "markdown",
   "metadata": {},
   "source": [
    "Negative indices start from the end:"
   ]
  },
  {
   "cell_type": "code",
   "execution_count": 4,
   "metadata": {
    "execution": {
     "iopub.execute_input": "2022-10-04T21:42:07.004077Z",
     "iopub.status.busy": "2022-10-04T21:42:07.003901Z",
     "iopub.status.idle": "2022-10-04T21:42:07.006453Z",
     "shell.execute_reply": "2022-10-04T21:42:07.006181Z",
     "shell.execute_reply.started": "2022-10-04T21:42:07.004060Z"
    }
   },
   "outputs": [
    {
     "data": {
      "text/plain": [
       "'s'"
      ]
     },
     "execution_count": 4,
     "metadata": {},
     "output_type": "execute_result"
    }
   ],
   "source": [
    "name[-1]"
   ]
  },
  {
   "cell_type": "code",
   "execution_count": 5,
   "metadata": {
    "execution": {
     "iopub.execute_input": "2022-10-04T21:42:07.007110Z",
     "iopub.status.busy": "2022-10-04T21:42:07.006908Z",
     "iopub.status.idle": "2022-10-04T21:42:07.009485Z",
     "shell.execute_reply": "2022-10-04T21:42:07.009184Z",
     "shell.execute_reply.started": "2022-10-04T21:42:07.007096Z"
    }
   },
   "outputs": [
    {
     "data": {
      "text/plain": [
       "'i'"
      ]
     },
     "execution_count": 5,
     "metadata": {},
     "output_type": "execute_result"
    }
   ],
   "source": [
    "name[-2]"
   ]
  },
  {
   "cell_type": "markdown",
   "metadata": {},
   "source": [
    "You can return the length of the string using the built-in function `len`:"
   ]
  },
  {
   "cell_type": "code",
   "execution_count": 6,
   "metadata": {
    "execution": {
     "iopub.execute_input": "2022-10-04T21:42:07.010180Z",
     "iopub.status.busy": "2022-10-04T21:42:07.009988Z",
     "iopub.status.idle": "2022-10-04T21:42:07.012332Z",
     "shell.execute_reply": "2022-10-04T21:42:07.012128Z",
     "shell.execute_reply.started": "2022-10-04T21:42:07.010163Z"
    }
   },
   "outputs": [
    {
     "data": {
      "text/plain": [
       "9"
      ]
     },
     "execution_count": 6,
     "metadata": {},
     "output_type": "execute_result"
    }
   ],
   "source": [
    "len(name)"
   ]
  },
  {
   "cell_type": "markdown",
   "metadata": {},
   "source": [
    "To obtain a portion of the string, you use a similar syntax, which in this case is called slicing:"
   ]
  },
  {
   "cell_type": "code",
   "execution_count": 7,
   "metadata": {
    "execution": {
     "iopub.execute_input": "2022-10-04T21:42:07.012836Z",
     "iopub.status.busy": "2022-10-04T21:42:07.012700Z",
     "iopub.status.idle": "2022-10-04T21:42:07.014707Z",
     "shell.execute_reply": "2022-10-04T21:42:07.014481Z",
     "shell.execute_reply.started": "2022-10-04T21:42:07.012827Z"
    }
   },
   "outputs": [
    {
     "data": {
      "text/plain": [
       "'uan '"
      ]
     },
     "execution_count": 7,
     "metadata": {},
     "output_type": "execute_result"
    }
   ],
   "source": [
    "name[1:5]"
   ]
  },
  {
   "cell_type": "markdown",
   "metadata": {},
   "source": [
    "Some notes:\n",
    "\n",
    "- The syntax is `[start_index:end_index:step]`\n",
    "- When an element is not specified, the default is used\n",
    "  - The default start is `0` (the beginning)\n",
    "  - The default end is the end\n",
    "  - The default step is one `1`"
   ]
  },
  {
   "cell_type": "code",
   "execution_count": 8,
   "metadata": {
    "execution": {
     "iopub.execute_input": "2022-10-04T21:42:07.015219Z",
     "iopub.status.busy": "2022-10-04T21:42:07.015069Z",
     "iopub.status.idle": "2022-10-04T21:42:07.017125Z",
     "shell.execute_reply": "2022-10-04T21:42:07.016881Z",
     "shell.execute_reply.started": "2022-10-04T21:42:07.015210Z"
    }
   },
   "outputs": [
    {
     "data": {
      "text/plain": [
       "'unLi'"
      ]
     },
     "execution_count": 8,
     "metadata": {},
     "output_type": "execute_result"
    }
   ],
   "source": [
    "name[1::2]"
   ]
  },
  {
   "cell_type": "markdown",
   "metadata": {},
   "source": [
    "Strings are **immutable**, which means that I can't modify its value:"
   ]
  },
  {
   "cell_type": "code",
   "execution_count": 9,
   "metadata": {
    "execution": {
     "iopub.execute_input": "2022-10-04T21:42:07.017686Z",
     "iopub.status.busy": "2022-10-04T21:42:07.017492Z",
     "iopub.status.idle": "2022-10-04T21:42:07.294732Z",
     "shell.execute_reply": "2022-10-04T21:42:07.294115Z",
     "shell.execute_reply.started": "2022-10-04T21:42:07.017676Z"
    }
   },
   "outputs": [
    {
     "ename": "TypeError",
     "evalue": "'str' object does not support item assignment",
     "output_type": "error",
     "traceback": [
      "\u001b[0;31m---------------------------------------------------------------------------\u001b[0m",
      "\u001b[0;31mTypeError\u001b[0m                                 Traceback (most recent call last)",
      "Input \u001b[0;32mIn [9]\u001b[0m, in \u001b[0;36m<cell line: 1>\u001b[0;34m()\u001b[0m\n\u001b[0;32m----> 1\u001b[0m name[\u001b[38;5;241m0\u001b[39m] \u001b[38;5;241m=\u001b[39m \u001b[38;5;124m\"\u001b[39m\u001b[38;5;124mX\u001b[39m\u001b[38;5;124m\"\u001b[39m\n",
      "\u001b[0;31mTypeError\u001b[0m: 'str' object does not support item assignment"
     ]
    }
   ],
   "source": [
    "name[0] = \"X\""
   ]
  },
  {
   "cell_type": "markdown",
   "metadata": {},
   "source": [
    "Also, strings have methods: functions that are attached to them."
   ]
  },
  {
   "cell_type": "code",
   "execution_count": 10,
   "metadata": {
    "execution": {
     "iopub.execute_input": "2022-10-04T21:44:11.190763Z",
     "iopub.status.busy": "2022-10-04T21:44:11.190631Z",
     "iopub.status.idle": "2022-10-04T21:44:11.193679Z",
     "shell.execute_reply": "2022-10-04T21:44:11.193382Z",
     "shell.execute_reply.started": "2022-10-04T21:44:11.190751Z"
    },
    "tags": []
   },
   "outputs": [
    {
     "data": {
      "text/plain": [
       "'juan luis'"
      ]
     },
     "execution_count": 10,
     "metadata": {},
     "output_type": "execute_result"
    }
   ],
   "source": [
    "name.lower()  # `lower` returns a string with all characters in lowercase"
   ]
  },
  {
   "cell_type": "markdown",
   "metadata": {},
   "source": [
    "<div class=\"alert alert-info\">For a list of all string methods, see the documentation at https://docs.python.org/3/library/stdtypes.html#string-methods</div>"
   ]
  },
  {
   "cell_type": "markdown",
   "metadata": {},
   "source": [
    "## Tuples"
   ]
  },
  {
   "cell_type": "markdown",
   "metadata": {},
   "source": [
    "Tuples are heterogeneous containers: their individual elements can be numbers, strings, other tuples, or any other object."
   ]
  },
  {
   "cell_type": "code",
   "execution_count": 11,
   "metadata": {
    "execution": {
     "iopub.execute_input": "2022-10-04T21:44:12.236984Z",
     "iopub.status.busy": "2022-10-04T21:44:12.236580Z",
     "iopub.status.idle": "2022-10-04T21:44:12.242570Z",
     "shell.execute_reply": "2022-10-04T21:44:12.242121Z",
     "shell.execute_reply.started": "2022-10-04T21:44:12.236935Z"
    },
    "tags": []
   },
   "outputs": [
    {
     "data": {
      "text/plain": [
       "(1, 2.0, '3', 'four')"
      ]
     },
     "execution_count": 11,
     "metadata": {},
     "output_type": "execute_result"
    }
   ],
   "source": [
    "my_tuple = 1, 2.0, \"3\", \"four\"\n",
    "my_tuple"
   ]
  },
  {
   "cell_type": "code",
   "execution_count": 12,
   "metadata": {
    "execution": {
     "iopub.execute_input": "2022-10-04T21:44:12.355025Z",
     "iopub.status.busy": "2022-10-04T21:44:12.354688Z",
     "iopub.status.idle": "2022-10-04T21:44:12.360990Z",
     "shell.execute_reply": "2022-10-04T21:44:12.360038Z",
     "shell.execute_reply.started": "2022-10-04T21:44:12.354991Z"
    },
    "tags": []
   },
   "outputs": [
    {
     "data": {
      "text/plain": [
       "1"
      ]
     },
     "execution_count": 12,
     "metadata": {},
     "output_type": "execute_result"
    }
   ],
   "source": [
    "my_tuple[0]"
   ]
  },
  {
   "cell_type": "code",
   "execution_count": 13,
   "metadata": {
    "execution": {
     "iopub.execute_input": "2022-10-04T21:44:12.696505Z",
     "iopub.status.busy": "2022-10-04T21:44:12.696103Z",
     "iopub.status.idle": "2022-10-04T21:44:12.702498Z",
     "shell.execute_reply": "2022-10-04T21:44:12.702040Z",
     "shell.execute_reply.started": "2022-10-04T21:44:12.696459Z"
    },
    "tags": []
   },
   "outputs": [
    {
     "data": {
      "text/plain": [
       "4"
      ]
     },
     "execution_count": 13,
     "metadata": {},
     "output_type": "execute_result"
    }
   ],
   "source": [
    "len(my_tuple)"
   ]
  },
  {
   "cell_type": "markdown",
   "metadata": {},
   "source": [
    "Tuples are also immutable:"
   ]
  },
  {
   "cell_type": "code",
   "execution_count": 14,
   "metadata": {
    "execution": {
     "iopub.execute_input": "2022-10-04T21:44:13.106732Z",
     "iopub.status.busy": "2022-10-04T21:44:13.106615Z",
     "iopub.status.idle": "2022-10-04T21:44:13.114075Z",
     "shell.execute_reply": "2022-10-04T21:44:13.113715Z",
     "shell.execute_reply.started": "2022-10-04T21:44:13.106721Z"
    },
    "tags": []
   },
   "outputs": [
    {
     "ename": "TypeError",
     "evalue": "'tuple' object does not support item assignment",
     "output_type": "error",
     "traceback": [
      "\u001b[0;31m---------------------------------------------------------------------------\u001b[0m",
      "\u001b[0;31mTypeError\u001b[0m                                 Traceback (most recent call last)",
      "Input \u001b[0;32mIn [14]\u001b[0m, in \u001b[0;36m<cell line: 1>\u001b[0;34m()\u001b[0m\n\u001b[0;32m----> 1\u001b[0m my_tuple[\u001b[38;5;241m0\u001b[39m] \u001b[38;5;241m=\u001b[39m \u001b[38;5;241m-\u001b[39m\u001b[38;5;241m1\u001b[39m\n",
      "\u001b[0;31mTypeError\u001b[0m: 'tuple' object does not support item assignment"
     ]
    }
   ],
   "source": [
    "my_tuple[0] = -1"
   ]
  },
  {
   "cell_type": "markdown",
   "metadata": {},
   "source": [
    "## Lists"
   ]
  },
  {
   "cell_type": "markdown",
   "metadata": {},
   "source": [
    "Lists are heterogeneous, mutable containers. To create them, use square brackets:"
   ]
  },
  {
   "cell_type": "code",
   "execution_count": 15,
   "metadata": {
    "execution": {
     "iopub.execute_input": "2022-10-04T21:44:13.655807Z",
     "iopub.status.busy": "2022-10-04T21:44:13.654350Z",
     "iopub.status.idle": "2022-10-04T21:44:13.661648Z",
     "shell.execute_reply": "2022-10-04T21:44:13.660737Z",
     "shell.execute_reply.started": "2022-10-04T21:44:13.655733Z"
    },
    "tags": []
   },
   "outputs": [
    {
     "data": {
      "text/plain": [
       "[1, 2.0, '3', 'four']"
      ]
     },
     "execution_count": 15,
     "metadata": {},
     "output_type": "execute_result"
    }
   ],
   "source": [
    "my_list = [1, 2.0, \"3\", \"four\"]\n",
    "my_list"
   ]
  },
  {
   "cell_type": "markdown",
   "metadata": {},
   "source": [
    "<div class=\"alert alert-warning\">Square brackets are used for two purposes in Python: (1) indexing/slicing and (2) creating lists. Don't confuse the two: the former will always go next to an object!</div>"
   ]
  },
  {
   "cell_type": "code",
   "execution_count": 16,
   "metadata": {
    "execution": {
     "iopub.execute_input": "2022-10-04T21:44:14.407081Z",
     "iopub.status.busy": "2022-10-04T21:44:14.406069Z",
     "iopub.status.idle": "2022-10-04T21:44:14.413068Z",
     "shell.execute_reply": "2022-10-04T21:44:14.412185Z",
     "shell.execute_reply.started": "2022-10-04T21:44:14.407019Z"
    },
    "tags": []
   },
   "outputs": [
    {
     "data": {
      "text/plain": [
       "1"
      ]
     },
     "execution_count": 16,
     "metadata": {},
     "output_type": "execute_result"
    }
   ],
   "source": [
    "my_list[0]  # Indexing a list"
   ]
  },
  {
   "cell_type": "code",
   "execution_count": 17,
   "metadata": {
    "execution": {
     "iopub.execute_input": "2022-10-04T21:44:14.743233Z",
     "iopub.status.busy": "2022-10-04T21:44:14.742136Z",
     "iopub.status.idle": "2022-10-04T21:44:14.749422Z",
     "shell.execute_reply": "2022-10-04T21:44:14.748751Z",
     "shell.execute_reply.started": "2022-10-04T21:44:14.743166Z"
    },
    "tags": []
   },
   "outputs": [
    {
     "data": {
      "text/plain": [
       "[1, 2.0, '3', 'four', 'F$V3']"
      ]
     },
     "execution_count": 17,
     "metadata": {},
     "output_type": "execute_result"
    }
   ],
   "source": [
    "my_list + [\"F$V3\"]  # Concatenating `my_list` with a list of one element"
   ]
  },
  {
   "cell_type": "markdown",
   "metadata": {},
   "source": [
    "Mutable means that you can change the individual elements of the list:"
   ]
  },
  {
   "cell_type": "code",
   "execution_count": 18,
   "metadata": {
    "execution": {
     "iopub.execute_input": "2022-10-04T21:44:15.554270Z",
     "iopub.status.busy": "2022-10-04T21:44:15.554151Z",
     "iopub.status.idle": "2022-10-04T21:44:15.557535Z",
     "shell.execute_reply": "2022-10-04T21:44:15.557288Z",
     "shell.execute_reply.started": "2022-10-04T21:44:15.554259Z"
    },
    "tags": []
   },
   "outputs": [
    {
     "data": {
      "text/plain": [
       "[-1, 2.0, '3', 'four']"
      ]
     },
     "execution_count": 18,
     "metadata": {},
     "output_type": "execute_result"
    }
   ],
   "source": [
    "my_list[0] = -1\n",
    "my_list"
   ]
  },
  {
   "cell_type": "markdown",
   "metadata": {},
   "source": [
    "## More methods"
   ]
  },
  {
   "cell_type": "markdown",
   "metadata": {},
   "source": [
    "Some string methods return lists:"
   ]
  },
  {
   "cell_type": "code",
   "execution_count": 19,
   "metadata": {
    "execution": {
     "iopub.execute_input": "2022-10-04T21:44:16.333389Z",
     "iopub.status.busy": "2022-10-04T21:44:16.333076Z",
     "iopub.status.idle": "2022-10-04T21:44:16.338945Z",
     "shell.execute_reply": "2022-10-04T21:44:16.338041Z",
     "shell.execute_reply.started": "2022-10-04T21:44:16.333359Z"
    },
    "tags": []
   },
   "outputs": [
    {
     "data": {
      "text/plain": [
       "['Juan', 'Luis']"
      ]
     },
     "execution_count": 19,
     "metadata": {},
     "output_type": "execute_result"
    }
   ],
   "source": [
    "name.split()"
   ]
  },
  {
   "cell_type": "markdown",
   "metadata": {},
   "source": [
    "Which means that I can chain several operations:"
   ]
  },
  {
   "cell_type": "code",
   "execution_count": 20,
   "metadata": {
    "execution": {
     "iopub.execute_input": "2022-10-04T21:44:16.858800Z",
     "iopub.status.busy": "2022-10-04T21:44:16.858422Z",
     "iopub.status.idle": "2022-10-04T21:44:16.865410Z",
     "shell.execute_reply": "2022-10-04T21:44:16.864807Z",
     "shell.execute_reply.started": "2022-10-04T21:44:16.858758Z"
    },
    "tags": []
   },
   "outputs": [
    {
     "data": {
      "text/plain": [
       "'Juan'"
      ]
     },
     "execution_count": 20,
     "metadata": {},
     "output_type": "execute_result"
    }
   ],
   "source": [
    "# With an intermediate variable\n",
    "parts = name.split()\n",
    "parts[0]"
   ]
  },
  {
   "cell_type": "code",
   "execution_count": 21,
   "metadata": {
    "execution": {
     "iopub.execute_input": "2022-10-04T21:44:17.417634Z",
     "iopub.status.busy": "2022-10-04T21:44:17.417248Z",
     "iopub.status.idle": "2022-10-04T21:44:17.424293Z",
     "shell.execute_reply": "2022-10-04T21:44:17.423541Z",
     "shell.execute_reply.started": "2022-10-04T21:44:17.417592Z"
    },
    "tags": []
   },
   "outputs": [
    {
     "data": {
      "text/plain": [
       "'Juan'"
      ]
     },
     "execution_count": 21,
     "metadata": {},
     "output_type": "execute_result"
    }
   ],
   "source": [
    "# Without an intermediate variable, same result\n",
    "name.split()[0]"
   ]
  },
  {
   "cell_type": "markdown",
   "metadata": {},
   "source": [
    "A more complicated example:"
   ]
  },
  {
   "cell_type": "code",
   "execution_count": 22,
   "metadata": {
    "execution": {
     "iopub.execute_input": "2022-10-04T21:44:17.913279Z",
     "iopub.status.busy": "2022-10-04T21:44:17.913163Z",
     "iopub.status.idle": "2022-10-04T21:44:17.916383Z",
     "shell.execute_reply": "2022-10-04T21:44:17.916036Z",
     "shell.execute_reply.started": "2022-10-04T21:44:17.913268Z"
    },
    "tags": []
   },
   "outputs": [
    {
     "data": {
      "text/plain": [
       "['ie', 'edu']"
      ]
     },
     "execution_count": 22,
     "metadata": {},
     "output_type": "execute_result"
    }
   ],
   "source": [
    "\"jcano@faculty.ie.edu\".split(\"@\")[-1].split(\".\")[-2:]"
   ]
  },
  {
   "cell_type": "markdown",
   "metadata": {},
   "source": [
    "Let's examine what's happening here:"
   ]
  },
  {
   "cell_type": "code",
   "execution_count": 23,
   "metadata": {
    "execution": {
     "iopub.execute_input": "2022-10-04T21:44:18.387152Z",
     "iopub.status.busy": "2022-10-04T21:44:18.386738Z",
     "iopub.status.idle": "2022-10-04T21:44:18.394998Z",
     "shell.execute_reply": "2022-10-04T21:44:18.394030Z",
     "shell.execute_reply.started": "2022-10-04T21:44:18.387104Z"
    },
    "tags": []
   },
   "outputs": [
    {
     "data": {
      "text/plain": [
       "['ie', 'edu']"
      ]
     },
     "execution_count": 23,
     "metadata": {},
     "output_type": "execute_result"
    }
   ],
   "source": [
    "(\n",
    "    \"jcano@faculty.ie.edu\"  # string\n",
    "    .split(\"@\")  # str.split returns a list of two elements\n",
    "    [-1]  # pick the last element of the list, which is a string\n",
    "    .split(\".\")  # str.split returns another list\n",
    "    [-2:]  # slice from the second-to-last element onwards\n",
    ")"
   ]
  },
  {
   "cell_type": "markdown",
   "metadata": {},
   "source": [
    "## Converting objects"
   ]
  },
  {
   "cell_type": "markdown",
   "metadata": {},
   "source": [
    "In some cases you can convert one object in another. To do this, use the corresponding built-in function (`list`, `tuple`, `str`):"
   ]
  },
  {
   "cell_type": "code",
   "execution_count": 24,
   "metadata": {
    "execution": {
     "iopub.execute_input": "2022-10-04T21:44:18.984524Z",
     "iopub.status.busy": "2022-10-04T21:44:18.984126Z",
     "iopub.status.idle": "2022-10-04T21:44:18.991159Z",
     "shell.execute_reply": "2022-10-04T21:44:18.990836Z",
     "shell.execute_reply.started": "2022-10-04T21:44:18.984485Z"
    },
    "tags": []
   },
   "outputs": [
    {
     "data": {
      "text/plain": [
       "0.1"
      ]
     },
     "execution_count": 24,
     "metadata": {},
     "output_type": "execute_result"
    }
   ],
   "source": [
    "0.1"
   ]
  },
  {
   "cell_type": "code",
   "execution_count": 25,
   "metadata": {
    "execution": {
     "iopub.execute_input": "2022-10-04T21:44:19.287882Z",
     "iopub.status.busy": "2022-10-04T21:44:19.287391Z",
     "iopub.status.idle": "2022-10-04T21:44:19.294035Z",
     "shell.execute_reply": "2022-10-04T21:44:19.293784Z",
     "shell.execute_reply.started": "2022-10-04T21:44:19.287842Z"
    },
    "tags": []
   },
   "outputs": [
    {
     "data": {
      "text/plain": [
       "'0.1'"
      ]
     },
     "execution_count": 25,
     "metadata": {},
     "output_type": "execute_result"
    }
   ],
   "source": [
    "str(0.1)  # Notice the quotes: this is a string!"
   ]
  },
  {
   "cell_type": "code",
   "execution_count": 26,
   "metadata": {
    "execution": {
     "iopub.execute_input": "2022-10-04T21:44:19.408672Z",
     "iopub.status.busy": "2022-10-04T21:44:19.408186Z",
     "iopub.status.idle": "2022-10-04T21:44:19.416358Z",
     "shell.execute_reply": "2022-10-04T21:44:19.415458Z",
     "shell.execute_reply.started": "2022-10-04T21:44:19.408631Z"
    },
    "tags": []
   },
   "outputs": [
    {
     "data": {
      "text/plain": [
       "[1, 2.0, '3', 'four']"
      ]
     },
     "execution_count": 26,
     "metadata": {},
     "output_type": "execute_result"
    }
   ],
   "source": [
    "list(my_tuple)  # Converts the tuple above into a list, notice the square brackets!"
   ]
  },
  {
   "cell_type": "code",
   "execution_count": 27,
   "metadata": {
    "execution": {
     "iopub.execute_input": "2022-10-04T21:44:19.670445Z",
     "iopub.status.busy": "2022-10-04T21:44:19.670298Z",
     "iopub.status.idle": "2022-10-04T21:44:19.673522Z",
     "shell.execute_reply": "2022-10-04T21:44:19.673200Z",
     "shell.execute_reply.started": "2022-10-04T21:44:19.670433Z"
    },
    "tags": []
   },
   "outputs": [
    {
     "data": {
      "text/plain": [
       "(-1, 2.0, '3', 'four')"
      ]
     },
     "execution_count": 27,
     "metadata": {},
     "output_type": "execute_result"
    }
   ],
   "source": [
    "tuple(my_list)  # Converts the list above into a tuple, notice the parentheses!"
   ]
  },
  {
   "cell_type": "markdown",
   "metadata": {},
   "source": [
    "Some other times, conversion might proceed and lose information:"
   ]
  },
  {
   "cell_type": "code",
   "execution_count": 28,
   "metadata": {
    "execution": {
     "iopub.execute_input": "2022-10-04T21:44:20.200046Z",
     "iopub.status.busy": "2022-10-04T21:44:20.199930Z",
     "iopub.status.idle": "2022-10-04T21:44:20.202853Z",
     "shell.execute_reply": "2022-10-04T21:44:20.202519Z",
     "shell.execute_reply.started": "2022-10-04T21:44:20.200036Z"
    },
    "tags": []
   },
   "outputs": [
    {
     "data": {
      "text/plain": [
       "1"
      ]
     },
     "execution_count": 28,
     "metadata": {},
     "output_type": "execute_result"
    }
   ],
   "source": [
    "int(1.5)"
   ]
  },
  {
   "cell_type": "markdown",
   "metadata": {},
   "source": [
    "Or directly fail:"
   ]
  },
  {
   "cell_type": "code",
   "execution_count": 29,
   "metadata": {
    "execution": {
     "iopub.execute_input": "2022-10-04T21:44:20.615718Z",
     "iopub.status.busy": "2022-10-04T21:44:20.615512Z",
     "iopub.status.idle": "2022-10-04T21:44:20.626360Z",
     "shell.execute_reply": "2022-10-04T21:44:20.625849Z",
     "shell.execute_reply.started": "2022-10-04T21:44:20.615697Z"
    },
    "tags": []
   },
   "outputs": [
    {
     "ename": "ValueError",
     "evalue": "invalid literal for int() with base 10: 'hello'",
     "output_type": "error",
     "traceback": [
      "\u001b[0;31m---------------------------------------------------------------------------\u001b[0m",
      "\u001b[0;31mValueError\u001b[0m                                Traceback (most recent call last)",
      "Input \u001b[0;32mIn [29]\u001b[0m, in \u001b[0;36m<cell line: 1>\u001b[0;34m()\u001b[0m\n\u001b[0;32m----> 1\u001b[0m \u001b[38;5;28;43mint\u001b[39;49m\u001b[43m(\u001b[49m\u001b[38;5;124;43m\"\u001b[39;49m\u001b[38;5;124;43mhello\u001b[39;49m\u001b[38;5;124;43m\"\u001b[39;49m\u001b[43m)\u001b[49m\n",
      "\u001b[0;31mValueError\u001b[0m: invalid literal for int() with base 10: 'hello'"
     ]
    }
   ],
   "source": [
    "int(\"hello\")"
   ]
  },
  {
   "cell_type": "markdown",
   "metadata": {},
   "source": [
    "## Special sequences"
   ]
  },
  {
   "cell_type": "markdown",
   "metadata": {},
   "source": [
    "There are some special sequences in Python that are very useful, as it's the case with ranges:"
   ]
  },
  {
   "cell_type": "code",
   "execution_count": 30,
   "metadata": {
    "execution": {
     "iopub.execute_input": "2022-10-04T21:44:21.651103Z",
     "iopub.status.busy": "2022-10-04T21:44:21.650738Z",
     "iopub.status.idle": "2022-10-04T21:44:21.657716Z",
     "shell.execute_reply": "2022-10-04T21:44:21.656856Z",
     "shell.execute_reply.started": "2022-10-04T21:44:21.651067Z"
    },
    "tags": []
   },
   "outputs": [
    {
     "data": {
      "text/plain": [
       "range(1, 10)"
      ]
     },
     "execution_count": 30,
     "metadata": {},
     "output_type": "execute_result"
    }
   ],
   "source": [
    "range(1, 10)"
   ]
  },
  {
   "cell_type": "markdown",
   "metadata": {},
   "source": [
    "That doesn't say much, but see what happens if you convert it to a list:"
   ]
  },
  {
   "cell_type": "code",
   "execution_count": 31,
   "metadata": {
    "execution": {
     "iopub.execute_input": "2022-10-04T21:44:22.128689Z",
     "iopub.status.busy": "2022-10-04T21:44:22.128095Z",
     "iopub.status.idle": "2022-10-04T21:44:22.137187Z",
     "shell.execute_reply": "2022-10-04T21:44:22.136513Z",
     "shell.execute_reply.started": "2022-10-04T21:44:22.128617Z"
    },
    "tags": []
   },
   "outputs": [
    {
     "data": {
      "text/plain": [
       "[1, 2, 3, 4, 5, 6, 7, 8, 9]"
      ]
     },
     "execution_count": 31,
     "metadata": {},
     "output_type": "execute_result"
    }
   ],
   "source": [
    "list(range(1, 10))"
   ]
  },
  {
   "cell_type": "markdown",
   "metadata": {},
   "source": [
    "## Exercises"
   ]
  },
  {
   "cell_type": "markdown",
   "metadata": {},
   "source": [
    "### 1. Find string methods\n",
    "\n",
    "Find which `str` methods achieve this result:\n",
    "\n",
    "| Original | Transformed |\n",
    "| --- | --- |\n",
    "| `\"Tim O'Reilly\"` | `\"tim o'reilly\"` |\n",
    "| `\"Tim O'Reilly\"` | `\"Tom O'Reolly\"` |\n",
    "| `\"tim o'reilly\"` | `\"Tim O'Reilly\"` |\n",
    "| `\"Tim O'Reilly\"` | `\"tIM o'rEILLY\"` |\n",
    "| `\"Tim O'Reilly\"` | `\"    Tim O'Reilly    \"` (20 chars) |\n",
    "| `\"Tim O'Reilly\"` | `\"tIM o'rEILLY\"` |"
   ]
  },
  {
   "cell_type": "markdown",
   "metadata": {},
   "source": [
    "### 2. Weird list\n",
    "\n",
    "Create this list without conditionals, loops, or hardcoding the values:\n",
    "\n",
    "```\n",
    "[49, 0, 47, 0, 45, 0, 43, 0, 41, 0, 39, 0, 37, 0, 35, 0, 33, 0, 31, 0, 29, 0, 27, 0, 25, 0, 23, 0, 21, 0, 19, 0, 17, 0, 15, 0, 13, 0, 11, 0, 9, 0, 7, 0, 5, 0, 3, 0, 1, 0]\n",
    "```"
   ]
  },
  {
   "cell_type": "markdown",
   "metadata": {},
   "source": [
    "### 3. Extract titles\n",
    "\n",
    "Given the following list of names:\n",
    "\n",
    "- Braund, Mr. Owen Harris\n",
    "- Cumings, Mrs. John Bradley (Florence Briggs Thayer)\n",
    "- Heikkinen, Miss. Laina\n",
    "- Futrelle, Mrs. Jacques Heath (Lily May Peel)\n",
    "- Allen, Mr. William Henry\n",
    "\n",
    "Devise which string and slicing methods you can use to extract the titles as such:\n",
    "\n",
    "```\n",
    "\"Mr\"\n",
    "\"Mrs\"\n",
    "\"Miss\"\n",
    "\"Mrs\"\n",
    "\"Mr\"\n",
    "```"
   ]
  },
  {
   "cell_type": "markdown",
   "metadata": {},
   "source": [
    "### 4. Categorize our clients\n",
    "\n",
    "We want to categorize clients of our telecom company according to some features, and bucket them into 2 groups:\n",
    "\n",
    "- Women aged 20 to 25 (both included) or users with any gender younger than 20, in both cases with average monthly data consumption over 5 GB\n",
    "- Men aged 35 to 45 with average monthly data consumption between 2 and 5 GB, or women aged 30 to 40 with average monthly data consumption between 3 and 8 GB\n",
    "\n",
    "To what groups does each user belong?\n",
    "\n",
    "_Tip: Make each user a tuple_\n",
    "\n",
    "| Id | Age (years) | Sex | Average monthly consumption (GB) |\n",
    "| --- | --- | --- | --- |\n",
    "| 1 | 40 | male | 10.2 |\n",
    "| 2 | 50 | female | 5.4 |\n",
    "| 3 | 23 | female | 8.0 |\n",
    "| 4 | 18 | male | 2.5 |"
   ]
  }
 ],
 "metadata": {
  "kernelspec": {
   "display_name": "Python 3 (ipykernel)",
   "language": "python",
   "name": "python3"
  },
  "language_info": {
   "codemirror_mode": {
    "name": "ipython",
    "version": 3
   },
   "file_extension": ".py",
   "mimetype": "text/x-python",
   "name": "python",
   "nbconvert_exporter": "python",
   "pygments_lexer": "ipython3",
   "version": "3.9.12"
  }
 },
 "nbformat": 4,
 "nbformat_minor": 4
}
