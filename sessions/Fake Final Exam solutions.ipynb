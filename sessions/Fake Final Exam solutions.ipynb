{
 "cells": [
  {
   "cell_type": "markdown",
   "id": "0e4b3cc5-a34f-4e7c-a833-873e221f1e6e",
   "metadata": {},
   "source": [
    "Data obtained from https://datos.civio.es/dataset/presion-asistencial-por-profesional-de-atencion-primaria-y-centro-de-salud-en-la-comunidad-de-madrid/, gracias ♥"
   ]
  },
  {
   "cell_type": "code",
   "execution_count": 1,
   "id": "c5a06abc-f3bc-4a01-9e97-d1b9a4aa3f8e",
   "metadata": {},
   "outputs": [],
   "source": [
    "import pandas as pd"
   ]
  },
  {
   "cell_type": "code",
   "execution_count": 2,
   "id": "b0155018-432c-45c5-9e48-5583f139496e",
   "metadata": {},
   "outputs": [
    {
     "data": {
      "text/html": [
       "<div>\n",
       "<style scoped>\n",
       "    .dataframe tbody tr th:only-of-type {\n",
       "        vertical-align: middle;\n",
       "    }\n",
       "\n",
       "    .dataframe tbody tr th {\n",
       "        vertical-align: top;\n",
       "    }\n",
       "\n",
       "    .dataframe thead th {\n",
       "        text-align: right;\n",
       "    }\n",
       "</style>\n",
       "<table border=\"1\" class=\"dataframe\">\n",
       "  <thead>\n",
       "    <tr style=\"text-align: right;\">\n",
       "      <th></th>\n",
       "      <th>CCAA</th>\n",
       "      <th>Municipio</th>\n",
       "      <th>area_code</th>\n",
       "      <th>area_name</th>\n",
       "      <th>CS_name</th>\n",
       "      <th>especialidad</th>\n",
       "      <th>2018</th>\n",
       "      <th>2019</th>\n",
       "      <th>2020</th>\n",
       "      <th>2021</th>\n",
       "      <th>2022</th>\n",
       "    </tr>\n",
       "  </thead>\n",
       "  <tbody>\n",
       "    <tr>\n",
       "      <th>0</th>\n",
       "      <td>Madrid</td>\n",
       "      <td>Madrid</td>\n",
       "      <td>MD_03</td>\n",
       "      <td>Dirección asistencial centro</td>\n",
       "      <td>C.S. Abrantes</td>\n",
       "      <td>MED</td>\n",
       "      <td>35.20</td>\n",
       "      <td>37.46</td>\n",
       "      <td>39.634278</td>\n",
       "      <td>34.661169</td>\n",
       "      <td>40.245351</td>\n",
       "    </tr>\n",
       "    <tr>\n",
       "      <th>1</th>\n",
       "      <td>Madrid</td>\n",
       "      <td>Madrid</td>\n",
       "      <td>MD_02</td>\n",
       "      <td>Dirección asistencial sureste</td>\n",
       "      <td>C.S. Adelfas</td>\n",
       "      <td>MED</td>\n",
       "      <td>30.60</td>\n",
       "      <td>29.66</td>\n",
       "      <td>32.691023</td>\n",
       "      <td>34.542173</td>\n",
       "      <td>33.919043</td>\n",
       "    </tr>\n",
       "    <tr>\n",
       "      <th>2</th>\n",
       "      <td>Madrid</td>\n",
       "      <td>Madrid</td>\n",
       "      <td>MD_05</td>\n",
       "      <td>Dirección asistencial noroeste</td>\n",
       "      <td>C.S. Alameda</td>\n",
       "      <td>MED</td>\n",
       "      <td>30.95</td>\n",
       "      <td>28.58</td>\n",
       "      <td>30.949490</td>\n",
       "      <td>31.437359</td>\n",
       "      <td>31.321581</td>\n",
       "    </tr>\n",
       "    <tr>\n",
       "      <th>3</th>\n",
       "      <td>Madrid</td>\n",
       "      <td>Madrid</td>\n",
       "      <td>MD_06</td>\n",
       "      <td>Dirección asistencial este</td>\n",
       "      <td>C.S. Alameda de Osuna</td>\n",
       "      <td>MED</td>\n",
       "      <td>33.08</td>\n",
       "      <td>32.14</td>\n",
       "      <td>32.476944</td>\n",
       "      <td>33.704641</td>\n",
       "      <td>32.673721</td>\n",
       "    </tr>\n",
       "    <tr>\n",
       "      <th>4</th>\n",
       "      <td>Madrid</td>\n",
       "      <td>Madrid</td>\n",
       "      <td>MD_02</td>\n",
       "      <td>Dirección asistencial sureste</td>\n",
       "      <td>C.S. Alcalá de Guadaira</td>\n",
       "      <td>MED</td>\n",
       "      <td>32.79</td>\n",
       "      <td>31.77</td>\n",
       "      <td>32.017623</td>\n",
       "      <td>36.131579</td>\n",
       "      <td>34.003979</td>\n",
       "    </tr>\n",
       "  </tbody>\n",
       "</table>\n",
       "</div>"
      ],
      "text/plain": [
       "     CCAA Municipio area_code                       area_name  \\\n",
       "0  Madrid    Madrid     MD_03    Dirección asistencial centro   \n",
       "1  Madrid    Madrid     MD_02   Dirección asistencial sureste   \n",
       "2  Madrid    Madrid     MD_05  Dirección asistencial noroeste   \n",
       "3  Madrid    Madrid     MD_06      Dirección asistencial este   \n",
       "4  Madrid    Madrid     MD_02   Dirección asistencial sureste   \n",
       "\n",
       "                   CS_name especialidad   2018   2019       2020       2021  \\\n",
       "0            C.S. Abrantes          MED  35.20  37.46  39.634278  34.661169   \n",
       "1             C.S. Adelfas          MED  30.60  29.66  32.691023  34.542173   \n",
       "2             C.S. Alameda          MED  30.95  28.58  30.949490  31.437359   \n",
       "3    C.S. Alameda de Osuna          MED  33.08  32.14  32.476944  33.704641   \n",
       "4  C.S. Alcalá de Guadaira          MED  32.79  31.77  32.017623  36.131579   \n",
       "\n",
       "        2022  \n",
       "0  40.245351  \n",
       "1  33.919043  \n",
       "2  31.321581  \n",
       "3  32.673721  \n",
       "4  34.003979  "
      ]
     },
     "execution_count": 2,
     "metadata": {},
     "output_type": "execute_result"
    }
   ],
   "source": [
    "df = pd.read_excel(\"../data/primary-health-care-patients-per-day-madrid.xlsx\")\n",
    "df.head()"
   ]
  },
  {
   "cell_type": "code",
   "execution_count": 3,
   "id": "72f3b084-6c81-4505-bf03-2a6e0be69721",
   "metadata": {},
   "outputs": [
    {
     "data": {
      "text/plain": [
       "786"
      ]
     },
     "execution_count": 3,
     "metadata": {},
     "output_type": "execute_result"
    }
   ],
   "source": [
    "len(df)"
   ]
  },
  {
   "cell_type": "code",
   "execution_count": 4,
   "id": "f6b78c20-7c4f-4018-8552-edb6f8ba3342",
   "metadata": {},
   "outputs": [
    {
     "data": {
      "text/plain": [
       "11"
      ]
     },
     "execution_count": 4,
     "metadata": {},
     "output_type": "execute_result"
    }
   ],
   "source": [
    "len(df.columns)"
   ]
  },
  {
   "cell_type": "code",
   "execution_count": 5,
   "id": "e2e5265c-79b5-4399-90cb-8061506d854e",
   "metadata": {},
   "outputs": [
    {
     "data": {
      "text/plain": [
       "58"
      ]
     },
     "execution_count": 5,
     "metadata": {},
     "output_type": "execute_result"
    }
   ],
   "source": [
    "df[\"Municipio\"].nunique()"
   ]
  },
  {
   "cell_type": "code",
   "execution_count": 6,
   "id": "bd0f04e1-bd6f-47c2-b9de-193c46dd5fd6",
   "metadata": {},
   "outputs": [
    {
     "data": {
      "text/plain": [
       "24.832546078743036"
      ]
     },
     "execution_count": 6,
     "metadata": {},
     "output_type": "execute_result"
    }
   ],
   "source": [
    "df[2022].mean()"
   ]
  },
  {
   "cell_type": "code",
   "execution_count": 7,
   "id": "da4e7ac4-6f35-4c1d-9e11-d04227e01dd4",
   "metadata": {},
   "outputs": [
    {
     "data": {
      "text/plain": [
       "count    785.000000\n",
       "mean      25.079617\n",
       "std        6.696282\n",
       "min        7.190476\n",
       "25%       19.900281\n",
       "50%       23.041096\n",
       "75%       30.791134\n",
       "max       52.985123\n",
       "Name: 2020, dtype: float64"
      ]
     },
     "execution_count": 7,
     "metadata": {},
     "output_type": "execute_result"
    }
   ],
   "source": [
    "df[2020].describe()"
   ]
  },
  {
   "cell_type": "code",
   "execution_count": 8,
   "id": "4feed371-ddfc-4965-9a1c-9cfaed7972d8",
   "metadata": {},
   "outputs": [
    {
     "data": {
      "text/plain": [
       "16"
      ]
     },
     "execution_count": 8,
     "metadata": {},
     "output_type": "execute_result"
    }
   ],
   "source": [
    "df.loc[df[2022] > 40, \"CS_name\"].nunique()"
   ]
  },
  {
   "cell_type": "code",
   "execution_count": 9,
   "id": "5f064b55-1f9c-4b06-a91f-b12a1a50eef9",
   "metadata": {},
   "outputs": [
    {
     "data": {
      "text/plain": [
       "Municipio\n",
       "Colmenar Viejo           28.560920\n",
       "Navalcarnero             28.535246\n",
       "Aranjuez                 28.208033\n",
       "San Martín de la Vega    27.953738\n",
       "Manzanares El Rel        27.804437\n",
       "Name: 2022, dtype: float64"
      ]
     },
     "execution_count": 9,
     "metadata": {},
     "output_type": "execute_result"
    }
   ],
   "source": [
    "df.groupby(\"Municipio\")[2022].mean().nlargest(5)"
   ]
  },
  {
   "cell_type": "code",
   "execution_count": 10,
   "id": "fe793b9e-2ee1-4485-b16a-0254226a7bb3",
   "metadata": {},
   "outputs": [],
   "source": [
    "df[\"abs_pressure_diff\"] = abs(df[2022] - df[2018])"
   ]
  },
  {
   "cell_type": "code",
   "execution_count": 11,
   "id": "7aec4f68-8af0-4816-84b8-a6775384660d",
   "metadata": {},
   "outputs": [
    {
     "data": {
      "text/plain": [
       "area_code\n",
       "MD_04    11.175961\n",
       "MD_02     9.739959\n",
       "MD_01     9.489197\n",
       "MD_07     9.442581\n",
       "MD_06     9.138383\n",
       "Name: abs_pressure_diff, dtype: float64"
      ]
     },
     "execution_count": 11,
     "metadata": {},
     "output_type": "execute_result"
    }
   ],
   "source": [
    "df.groupby(\"area_code\")[\"abs_pressure_diff\"].max().nlargest()"
   ]
  },
  {
   "cell_type": "code",
   "execution_count": 12,
   "id": "7e5c9efa-48b2-456e-b624-ab666d3c8ae8",
   "metadata": {},
   "outputs": [
    {
     "data": {
      "text/plain": [
       "especialidad\n",
       "ENF    20.905267\n",
       "Name: 2018, dtype: float64"
      ]
     },
     "execution_count": 12,
     "metadata": {},
     "output_type": "execute_result"
    }
   ],
   "source": [
    "df.groupby(\"especialidad\")[2018].mean().nsmallest(1)"
   ]
  },
  {
   "cell_type": "code",
   "execution_count": 13,
   "id": "c70af75c-0396-4880-ae6b-81f2556787e1",
   "metadata": {},
   "outputs": [
    {
     "data": {
      "text/plain": [
       "array(['Madrid', 'Torrejón de Ardoz', 'Alcalá de Henares', 'Meco',\n",
       "       'Torres de la Alameda'], dtype=object)"
      ]
     },
     "execution_count": 13,
     "metadata": {},
     "output_type": "execute_result"
    }
   ],
   "source": [
    "df.loc[df[\"area_code\"] == \"MD_06\", \"Municipio\"].unique()"
   ]
  },
  {
   "cell_type": "code",
   "execution_count": 14,
   "id": "d980cd97-6bb1-4cd0-99b8-b07e286c9ab7",
   "metadata": {},
   "outputs": [
    {
     "data": {
      "text/plain": [
       "{'Alcobendas'}"
      ]
     },
     "execution_count": 14,
     "metadata": {},
     "output_type": "execute_result"
    }
   ],
   "source": [
    "# You can make a set subtraction operation to find the answer\n",
    "(\n",
    "    {\"Madrid\", \"Alcobendas\", \"Alcalá de Henares\", \"Torrejón de Ardoz\"}\n",
    "    - set(df.loc[df[\"area_code\"] == \"MD_06\", \"Municipio\"].unique())\n",
    ")"
   ]
  },
  {
   "cell_type": "code",
   "execution_count": 15,
   "id": "f3552b61-6acb-40cc-9dbc-985bd4c331b9",
   "metadata": {},
   "outputs": [
    {
     "data": {
      "text/plain": [
       "array(['MD_03', 'MD_02', 'MD_05', 'MD_06', 'MD_07'], dtype=object)"
      ]
     },
     "execution_count": 15,
     "metadata": {},
     "output_type": "execute_result"
    }
   ],
   "source": [
    "df.loc[df[\"Municipio\"] == \"Madrid\", \"area_code\"].unique()"
   ]
  },
  {
   "cell_type": "code",
   "execution_count": 16,
   "id": "7bb9f9d5-fade-47a3-9060-6cd98e669453",
   "metadata": {},
   "outputs": [
    {
     "data": {
      "text/plain": [
       "{'MD_01'}"
      ]
     },
     "execution_count": 16,
     "metadata": {},
     "output_type": "execute_result"
    }
   ],
   "source": [
    "(\n",
    "    {\"MD_01\", \"MD_02\", \"MD_03\", \"MD_05\"}\n",
    "    - set(df.loc[df[\"Municipio\"] == \"Madrid\", \"area_code\"].unique())\n",
    ")"
   ]
  },
  {
   "cell_type": "code",
   "execution_count": 17,
   "id": "125f87b5-4121-4763-971b-743b1c9d2038",
   "metadata": {},
   "outputs": [
    {
     "data": {
      "text/html": [
       "<div>\n",
       "<style scoped>\n",
       "    .dataframe tbody tr th:only-of-type {\n",
       "        vertical-align: middle;\n",
       "    }\n",
       "\n",
       "    .dataframe tbody tr th {\n",
       "        vertical-align: top;\n",
       "    }\n",
       "\n",
       "    .dataframe thead th {\n",
       "        text-align: right;\n",
       "    }\n",
       "</style>\n",
       "<table border=\"1\" class=\"dataframe\">\n",
       "  <thead>\n",
       "    <tr style=\"text-align: right;\">\n",
       "      <th></th>\n",
       "      <th>2021</th>\n",
       "      <th>2022</th>\n",
       "    </tr>\n",
       "    <tr>\n",
       "      <th>area_code</th>\n",
       "      <th></th>\n",
       "      <th></th>\n",
       "    </tr>\n",
       "  </thead>\n",
       "  <tbody>\n",
       "    <tr>\n",
       "      <th>MD_01</th>\n",
       "      <td>38.396536</td>\n",
       "      <td>38.197700</td>\n",
       "    </tr>\n",
       "    <tr>\n",
       "      <th>MD_02</th>\n",
       "      <td>34.636864</td>\n",
       "      <td>34.561254</td>\n",
       "    </tr>\n",
       "    <tr>\n",
       "      <th>MD_03</th>\n",
       "      <td>33.909048</td>\n",
       "      <td>32.195853</td>\n",
       "    </tr>\n",
       "    <tr>\n",
       "      <th>MD_04</th>\n",
       "      <td>36.430677</td>\n",
       "      <td>35.995796</td>\n",
       "    </tr>\n",
       "    <tr>\n",
       "      <th>MD_05</th>\n",
       "      <td>34.436184</td>\n",
       "      <td>32.457619</td>\n",
       "    </tr>\n",
       "    <tr>\n",
       "      <th>MD_06</th>\n",
       "      <td>32.537813</td>\n",
       "      <td>32.644123</td>\n",
       "    </tr>\n",
       "    <tr>\n",
       "      <th>MD_07</th>\n",
       "      <td>33.459082</td>\n",
       "      <td>31.929757</td>\n",
       "    </tr>\n",
       "  </tbody>\n",
       "</table>\n",
       "</div>"
      ],
      "text/plain": [
       "                2021       2022\n",
       "area_code                      \n",
       "MD_01      38.396536  38.197700\n",
       "MD_02      34.636864  34.561254\n",
       "MD_03      33.909048  32.195853\n",
       "MD_04      36.430677  35.995796\n",
       "MD_05      34.436184  32.457619\n",
       "MD_06      32.537813  32.644123\n",
       "MD_07      33.459082  31.929757"
      ]
     },
     "execution_count": 17,
     "metadata": {},
     "output_type": "execute_result"
    }
   ],
   "source": [
    "med_pivot = df.loc[df[\"especialidad\"] == \"MED\"].pivot_table(\n",
    "    index=\"area_code\",\n",
    "    values=[2021, 2022],\n",
    "    aggfunc=\"median\"\n",
    ")\n",
    "med_pivot"
   ]
  },
  {
   "cell_type": "code",
   "execution_count": 18,
   "id": "da63a9b5-08e1-4752-a982-fd41f7083260",
   "metadata": {},
   "outputs": [
    {
     "data": {
      "text/plain": [
       "38.1977002967359"
      ]
     },
     "execution_count": 18,
     "metadata": {},
     "output_type": "execute_result"
    }
   ],
   "source": [
    "med_pivot.iloc[0, 1]"
   ]
  },
  {
   "cell_type": "code",
   "execution_count": 19,
   "id": "a548a6d8-3097-44d8-92f6-8671198bab57",
   "metadata": {},
   "outputs": [
    {
     "data": {
      "text/html": [
       "<div>\n",
       "<style scoped>\n",
       "    .dataframe tbody tr th:only-of-type {\n",
       "        vertical-align: middle;\n",
       "    }\n",
       "\n",
       "    .dataframe tbody tr th {\n",
       "        vertical-align: top;\n",
       "    }\n",
       "\n",
       "    .dataframe thead tr th {\n",
       "        text-align: left;\n",
       "    }\n",
       "\n",
       "    .dataframe thead tr:last-of-type th {\n",
       "        text-align: right;\n",
       "    }\n",
       "</style>\n",
       "<table border=\"1\" class=\"dataframe\">\n",
       "  <thead>\n",
       "    <tr>\n",
       "      <th></th>\n",
       "      <th colspan=\"3\" halign=\"left\">2021</th>\n",
       "      <th colspan=\"3\" halign=\"left\">2022</th>\n",
       "    </tr>\n",
       "    <tr>\n",
       "      <th>especialidad</th>\n",
       "      <th>ENF</th>\n",
       "      <th>MED</th>\n",
       "      <th>PED</th>\n",
       "      <th>ENF</th>\n",
       "      <th>MED</th>\n",
       "      <th>PED</th>\n",
       "    </tr>\n",
       "    <tr>\n",
       "      <th>Municipio</th>\n",
       "      <th></th>\n",
       "      <th></th>\n",
       "      <th></th>\n",
       "      <th></th>\n",
       "      <th></th>\n",
       "      <th></th>\n",
       "    </tr>\n",
       "  </thead>\n",
       "  <tbody>\n",
       "    <tr>\n",
       "      <th>Boadilla del Monte</th>\n",
       "      <td>21.385105</td>\n",
       "      <td>34.811298</td>\n",
       "      <td>24.119534</td>\n",
       "      <td>20.565316</td>\n",
       "      <td>34.037013</td>\n",
       "      <td>22.472484</td>\n",
       "    </tr>\n",
       "    <tr>\n",
       "      <th>Cercedilla</th>\n",
       "      <td>24.341240</td>\n",
       "      <td>36.634456</td>\n",
       "      <td>22.242826</td>\n",
       "      <td>20.385866</td>\n",
       "      <td>36.067294</td>\n",
       "      <td>21.872159</td>\n",
       "    </tr>\n",
       "    <tr>\n",
       "      <th>Collado Villalba</th>\n",
       "      <td>24.726770</td>\n",
       "      <td>34.787886</td>\n",
       "      <td>22.272287</td>\n",
       "      <td>19.257943</td>\n",
       "      <td>36.113558</td>\n",
       "      <td>20.478723</td>\n",
       "    </tr>\n",
       "    <tr>\n",
       "      <th>Galapagar</th>\n",
       "      <td>22.777384</td>\n",
       "      <td>35.237767</td>\n",
       "      <td>18.675115</td>\n",
       "      <td>19.766074</td>\n",
       "      <td>33.049313</td>\n",
       "      <td>17.827174</td>\n",
       "    </tr>\n",
       "    <tr>\n",
       "      <th>Guadarrama</th>\n",
       "      <td>23.852811</td>\n",
       "      <td>40.244050</td>\n",
       "      <td>22.522860</td>\n",
       "      <td>20.385616</td>\n",
       "      <td>40.103268</td>\n",
       "      <td>22.828885</td>\n",
       "    </tr>\n",
       "    <tr>\n",
       "      <th>Las Rozas</th>\n",
       "      <td>20.750207</td>\n",
       "      <td>34.215690</td>\n",
       "      <td>22.023122</td>\n",
       "      <td>19.902372</td>\n",
       "      <td>32.622031</td>\n",
       "      <td>21.982684</td>\n",
       "    </tr>\n",
       "    <tr>\n",
       "      <th>Madrid</th>\n",
       "      <td>20.559584</td>\n",
       "      <td>31.978223</td>\n",
       "      <td>22.075093</td>\n",
       "      <td>17.565100</td>\n",
       "      <td>30.179459</td>\n",
       "      <td>20.301286</td>\n",
       "    </tr>\n",
       "    <tr>\n",
       "      <th>Majadahonda</th>\n",
       "      <td>21.262378</td>\n",
       "      <td>34.609983</td>\n",
       "      <td>19.147242</td>\n",
       "      <td>19.101773</td>\n",
       "      <td>32.961597</td>\n",
       "      <td>20.519704</td>\n",
       "    </tr>\n",
       "    <tr>\n",
       "      <th>Pozuelo de Alarcón</th>\n",
       "      <td>23.274596</td>\n",
       "      <td>33.263729</td>\n",
       "      <td>17.590504</td>\n",
       "      <td>19.829233</td>\n",
       "      <td>31.833708</td>\n",
       "      <td>16.948875</td>\n",
       "    </tr>\n",
       "    <tr>\n",
       "      <th>Robledo de Chavela</th>\n",
       "      <td>22.646853</td>\n",
       "      <td>39.257353</td>\n",
       "      <td>20.101523</td>\n",
       "      <td>20.680523</td>\n",
       "      <td>36.267086</td>\n",
       "      <td>17.594406</td>\n",
       "    </tr>\n",
       "    <tr>\n",
       "      <th>San Lorenzo del Escorial</th>\n",
       "      <td>22.498043</td>\n",
       "      <td>39.826502</td>\n",
       "      <td>24.674785</td>\n",
       "      <td>20.221932</td>\n",
       "      <td>37.003359</td>\n",
       "      <td>25.428727</td>\n",
       "    </tr>\n",
       "    <tr>\n",
       "      <th>Torrelodones</th>\n",
       "      <td>24.027708</td>\n",
       "      <td>36.180848</td>\n",
       "      <td>25.687243</td>\n",
       "      <td>21.076077</td>\n",
       "      <td>34.405169</td>\n",
       "      <td>22.246715</td>\n",
       "    </tr>\n",
       "    <tr>\n",
       "      <th>Villanueva de la Cañada</th>\n",
       "      <td>24.369955</td>\n",
       "      <td>35.107830</td>\n",
       "      <td>21.562300</td>\n",
       "      <td>20.945373</td>\n",
       "      <td>35.175666</td>\n",
       "      <td>20.120438</td>\n",
       "    </tr>\n",
       "  </tbody>\n",
       "</table>\n",
       "</div>"
      ],
      "text/plain": [
       "                               2021                             2022  \\\n",
       "especialidad                    ENF        MED        PED        ENF   \n",
       "Municipio                                                              \n",
       "Boadilla del Monte        21.385105  34.811298  24.119534  20.565316   \n",
       "Cercedilla                24.341240  36.634456  22.242826  20.385866   \n",
       "Collado Villalba          24.726770  34.787886  22.272287  19.257943   \n",
       "Galapagar                 22.777384  35.237767  18.675115  19.766074   \n",
       "Guadarrama                23.852811  40.244050  22.522860  20.385616   \n",
       "Las Rozas                 20.750207  34.215690  22.023122  19.902372   \n",
       "Madrid                    20.559584  31.978223  22.075093  17.565100   \n",
       "Majadahonda               21.262378  34.609983  19.147242  19.101773   \n",
       "Pozuelo de Alarcón        23.274596  33.263729  17.590504  19.829233   \n",
       "Robledo de Chavela        22.646853  39.257353  20.101523  20.680523   \n",
       "San Lorenzo del Escorial  22.498043  39.826502  24.674785  20.221932   \n",
       "Torrelodones              24.027708  36.180848  25.687243  21.076077   \n",
       "Villanueva de la Cañada   24.369955  35.107830  21.562300  20.945373   \n",
       "\n",
       "                                                \n",
       "especialidad                    MED        PED  \n",
       "Municipio                                       \n",
       "Boadilla del Monte        34.037013  22.472484  \n",
       "Cercedilla                36.067294  21.872159  \n",
       "Collado Villalba          36.113558  20.478723  \n",
       "Galapagar                 33.049313  17.827174  \n",
       "Guadarrama                40.103268  22.828885  \n",
       "Las Rozas                 32.622031  21.982684  \n",
       "Madrid                    30.179459  20.301286  \n",
       "Majadahonda               32.961597  20.519704  \n",
       "Pozuelo de Alarcón        31.833708  16.948875  \n",
       "Robledo de Chavela        36.267086  17.594406  \n",
       "San Lorenzo del Escorial  37.003359  25.428727  \n",
       "Torrelodones              34.405169  22.246715  \n",
       "Villanueva de la Cañada   35.175666  20.120438  "
      ]
     },
     "execution_count": 19,
     "metadata": {},
     "output_type": "execute_result"
    }
   ],
   "source": [
    "md_05_pivot = df.loc[df[\"area_code\"] == \"MD_05\"].pivot_table(\n",
    "    index=\"Municipio\",\n",
    "    columns=\"especialidad\",\n",
    "    values=[2021, 2022],\n",
    "    aggfunc=\"median\"\n",
    ")\n",
    "md_05_pivot"
   ]
  },
  {
   "cell_type": "code",
   "execution_count": 20,
   "id": "50b51dca-aeea-4abf-a7e7-6852c506ecb6",
   "metadata": {},
   "outputs": [
    {
     "data": {
      "text/plain": [
       "24.726769911504423"
      ]
     },
     "execution_count": 20,
     "metadata": {},
     "output_type": "execute_result"
    }
   ],
   "source": [
    "md_05_pivot.iloc[2, 0]"
   ]
  },
  {
   "cell_type": "code",
   "execution_count": 21,
   "id": "a0df927c-aa5e-460c-8643-9b08ad362401",
   "metadata": {},
   "outputs": [
    {
     "data": {
      "text/plain": [
       "27"
      ]
     },
     "execution_count": 21,
     "metadata": {},
     "output_type": "execute_result"
    }
   ],
   "source": [
    "df[\"CS_name\"].str[5:].str.len().max()"
   ]
  },
  {
   "cell_type": "code",
   "execution_count": 22,
   "id": "e3128db2-9e88-46ba-865c-c7ab05fee7c2",
   "metadata": {},
   "outputs": [
    {
     "data": {
      "text/plain": [
       "Municipio\n",
       "Aranjuez                 29.345159\n",
       "Villa del Prado          28.936673\n",
       "Colmenar Viejo           28.792953\n",
       "Valdemoro                28.261313\n",
       "San Martín de la Vega    28.147018\n",
       "dtype: float64"
      ]
     },
     "execution_count": 22,
     "metadata": {},
     "output_type": "execute_result"
    }
   ],
   "source": [
    "df.groupby(\"Municipio\").mean().loc[:, 2018:2022].mean(axis=\"columns\").nlargest()"
   ]
  },
  {
   "cell_type": "code",
   "execution_count": 23,
   "id": "45d81891-9c23-4200-8ec0-ba55cd9a04dd",
   "metadata": {},
   "outputs": [],
   "source": [
    "# Alternatively\n",
    "df[\"mean_pressure\"] = df.loc[:, 2018:2022].mean(axis=\"columns\")"
   ]
  },
  {
   "cell_type": "code",
   "execution_count": 24,
   "id": "9ed449fb-a800-4e32-b965-0a075d23e8bd",
   "metadata": {},
   "outputs": [
    {
     "data": {
      "text/html": [
       "<div>\n",
       "<style scoped>\n",
       "    .dataframe tbody tr th:only-of-type {\n",
       "        vertical-align: middle;\n",
       "    }\n",
       "\n",
       "    .dataframe tbody tr th {\n",
       "        vertical-align: top;\n",
       "    }\n",
       "\n",
       "    .dataframe thead th {\n",
       "        text-align: right;\n",
       "    }\n",
       "</style>\n",
       "<table border=\"1\" class=\"dataframe\">\n",
       "  <thead>\n",
       "    <tr style=\"text-align: right;\">\n",
       "      <th></th>\n",
       "      <th>CCAA</th>\n",
       "      <th>Municipio</th>\n",
       "      <th>area_code</th>\n",
       "      <th>area_name</th>\n",
       "      <th>CS_name</th>\n",
       "      <th>especialidad</th>\n",
       "      <th>2018</th>\n",
       "      <th>2019</th>\n",
       "      <th>2020</th>\n",
       "      <th>2021</th>\n",
       "      <th>2022</th>\n",
       "      <th>abs_pressure_diff</th>\n",
       "      <th>mean_pressure</th>\n",
       "    </tr>\n",
       "  </thead>\n",
       "  <tbody>\n",
       "    <tr>\n",
       "      <th>0</th>\n",
       "      <td>Madrid</td>\n",
       "      <td>Madrid</td>\n",
       "      <td>MD_03</td>\n",
       "      <td>Dirección asistencial centro</td>\n",
       "      <td>C.S. Abrantes</td>\n",
       "      <td>MED</td>\n",
       "      <td>35.20</td>\n",
       "      <td>37.46</td>\n",
       "      <td>39.634278</td>\n",
       "      <td>34.661169</td>\n",
       "      <td>40.245351</td>\n",
       "      <td>5.045351</td>\n",
       "      <td>37.440160</td>\n",
       "    </tr>\n",
       "    <tr>\n",
       "      <th>1</th>\n",
       "      <td>Madrid</td>\n",
       "      <td>Madrid</td>\n",
       "      <td>MD_02</td>\n",
       "      <td>Dirección asistencial sureste</td>\n",
       "      <td>C.S. Adelfas</td>\n",
       "      <td>MED</td>\n",
       "      <td>30.60</td>\n",
       "      <td>29.66</td>\n",
       "      <td>32.691023</td>\n",
       "      <td>34.542173</td>\n",
       "      <td>33.919043</td>\n",
       "      <td>3.319043</td>\n",
       "      <td>32.282448</td>\n",
       "    </tr>\n",
       "    <tr>\n",
       "      <th>2</th>\n",
       "      <td>Madrid</td>\n",
       "      <td>Madrid</td>\n",
       "      <td>MD_05</td>\n",
       "      <td>Dirección asistencial noroeste</td>\n",
       "      <td>C.S. Alameda</td>\n",
       "      <td>MED</td>\n",
       "      <td>30.95</td>\n",
       "      <td>28.58</td>\n",
       "      <td>30.949490</td>\n",
       "      <td>31.437359</td>\n",
       "      <td>31.321581</td>\n",
       "      <td>0.371581</td>\n",
       "      <td>30.647686</td>\n",
       "    </tr>\n",
       "    <tr>\n",
       "      <th>3</th>\n",
       "      <td>Madrid</td>\n",
       "      <td>Madrid</td>\n",
       "      <td>MD_06</td>\n",
       "      <td>Dirección asistencial este</td>\n",
       "      <td>C.S. Alameda de Osuna</td>\n",
       "      <td>MED</td>\n",
       "      <td>33.08</td>\n",
       "      <td>32.14</td>\n",
       "      <td>32.476944</td>\n",
       "      <td>33.704641</td>\n",
       "      <td>32.673721</td>\n",
       "      <td>0.406279</td>\n",
       "      <td>32.815061</td>\n",
       "    </tr>\n",
       "    <tr>\n",
       "      <th>4</th>\n",
       "      <td>Madrid</td>\n",
       "      <td>Madrid</td>\n",
       "      <td>MD_02</td>\n",
       "      <td>Dirección asistencial sureste</td>\n",
       "      <td>C.S. Alcalá de Guadaira</td>\n",
       "      <td>MED</td>\n",
       "      <td>32.79</td>\n",
       "      <td>31.77</td>\n",
       "      <td>32.017623</td>\n",
       "      <td>36.131579</td>\n",
       "      <td>34.003979</td>\n",
       "      <td>1.213979</td>\n",
       "      <td>33.342636</td>\n",
       "    </tr>\n",
       "  </tbody>\n",
       "</table>\n",
       "</div>"
      ],
      "text/plain": [
       "     CCAA Municipio area_code                       area_name  \\\n",
       "0  Madrid    Madrid     MD_03    Dirección asistencial centro   \n",
       "1  Madrid    Madrid     MD_02   Dirección asistencial sureste   \n",
       "2  Madrid    Madrid     MD_05  Dirección asistencial noroeste   \n",
       "3  Madrid    Madrid     MD_06      Dirección asistencial este   \n",
       "4  Madrid    Madrid     MD_02   Dirección asistencial sureste   \n",
       "\n",
       "                   CS_name especialidad   2018   2019       2020       2021  \\\n",
       "0            C.S. Abrantes          MED  35.20  37.46  39.634278  34.661169   \n",
       "1             C.S. Adelfas          MED  30.60  29.66  32.691023  34.542173   \n",
       "2             C.S. Alameda          MED  30.95  28.58  30.949490  31.437359   \n",
       "3    C.S. Alameda de Osuna          MED  33.08  32.14  32.476944  33.704641   \n",
       "4  C.S. Alcalá de Guadaira          MED  32.79  31.77  32.017623  36.131579   \n",
       "\n",
       "        2022  abs_pressure_diff  mean_pressure  \n",
       "0  40.245351           5.045351      37.440160  \n",
       "1  33.919043           3.319043      32.282448  \n",
       "2  31.321581           0.371581      30.647686  \n",
       "3  32.673721           0.406279      32.815061  \n",
       "4  34.003979           1.213979      33.342636  "
      ]
     },
     "execution_count": 24,
     "metadata": {},
     "output_type": "execute_result"
    }
   ],
   "source": [
    "df.head()"
   ]
  },
  {
   "cell_type": "code",
   "execution_count": 25,
   "id": "36d69160-3a45-4cd6-93df-1666737c06d4",
   "metadata": {},
   "outputs": [
    {
     "data": {
      "text/plain": [
       "Municipio\n",
       "Aranjuez                 29.345159\n",
       "Villa del Prado          28.936673\n",
       "Colmenar Viejo           28.792953\n",
       "Valdemoro                28.261313\n",
       "San Martín de la Vega    28.147018\n",
       "Name: mean_pressure, dtype: float64"
      ]
     },
     "execution_count": 25,
     "metadata": {},
     "output_type": "execute_result"
    }
   ],
   "source": [
    "df.groupby(\"Municipio\")[\"mean_pressure\"].mean().nlargest()"
   ]
  }
 ],
 "metadata": {
  "kernelspec": {
   "display_name": "Python 3 (ipykernel)",
   "language": "python",
   "name": "python3"
  },
  "language_info": {
   "codemirror_mode": {
    "name": "ipython",
    "version": 3
   },
   "file_extension": ".py",
   "mimetype": "text/x-python",
   "name": "python",
   "nbconvert_exporter": "python",
   "pygments_lexer": "ipython3",
   "version": "3.9.12"
  }
 },
 "nbformat": 4,
 "nbformat_minor": 5
}
