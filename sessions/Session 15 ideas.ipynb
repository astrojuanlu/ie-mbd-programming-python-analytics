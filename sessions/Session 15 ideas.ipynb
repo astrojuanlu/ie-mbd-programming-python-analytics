{
 "cells": [
  {
   "cell_type": "code",
   "execution_count": 1,
   "id": "d4f2cb58-7042-40b3-b881-c90c79e6a944",
   "metadata": {},
   "outputs": [],
   "source": [
    "import json"
   ]
  },
  {
   "cell_type": "code",
   "execution_count": 2,
   "id": "a750b578-54c6-4ffb-8856-fb14321f9453",
   "metadata": {},
   "outputs": [],
   "source": [
    "with open(\"twitter_data.json\") as fh:\n",
    "    data = json.load(fh)"
   ]
  },
  {
   "cell_type": "code",
   "execution_count": 3,
   "id": "facc9e51-e107-4e09-a3b0-8a2d8e1fe576",
   "metadata": {},
   "outputs": [],
   "source": [
    "import pandas as pd"
   ]
  },
  {
   "cell_type": "code",
   "execution_count": 4,
   "id": "cc30d7e3-dccb-4c5f-9107-cfe559a290df",
   "metadata": {},
   "outputs": [],
   "source": [
    "df = pd.json_normalize(data)"
   ]
  },
  {
   "cell_type": "code",
   "execution_count": 7,
   "id": "31f96bdc-920c-42db-a6db-6d3d58b5567c",
   "metadata": {},
   "outputs": [
    {
     "data": {
      "text/html": [
       "<div>\n",
       "<style scoped>\n",
       "    .dataframe tbody tr th:only-of-type {\n",
       "        vertical-align: middle;\n",
       "    }\n",
       "\n",
       "    .dataframe tbody tr th {\n",
       "        vertical-align: top;\n",
       "    }\n",
       "\n",
       "    .dataframe thead th {\n",
       "        text-align: right;\n",
       "    }\n",
       "</style>\n",
       "<table border=\"1\" class=\"dataframe\">\n",
       "  <thead>\n",
       "    <tr style=\"text-align: right;\">\n",
       "      <th></th>\n",
       "      <th>created_at</th>\n",
       "      <th>id</th>\n",
       "      <th>id_str</th>\n",
       "      <th>text</th>\n",
       "      <th>truncated</th>\n",
       "      <th>source</th>\n",
       "      <th>in_reply_to_status_id</th>\n",
       "      <th>in_reply_to_status_id_str</th>\n",
       "      <th>in_reply_to_user_id</th>\n",
       "      <th>in_reply_to_user_id_str</th>\n",
       "      <th>...</th>\n",
       "      <th>quoted_status.contributors</th>\n",
       "      <th>quoted_status.is_quote_status</th>\n",
       "      <th>quoted_status.retweet_count</th>\n",
       "      <th>quoted_status.favorite_count</th>\n",
       "      <th>quoted_status.favorited</th>\n",
       "      <th>quoted_status.retweeted</th>\n",
       "      <th>quoted_status.possibly_sensitive</th>\n",
       "      <th>quoted_status.lang</th>\n",
       "      <th>quoted_status.entities.media</th>\n",
       "      <th>quoted_status.extended_entities.media</th>\n",
       "    </tr>\n",
       "  </thead>\n",
       "  <tbody>\n",
       "    <tr>\n",
       "      <th>0</th>\n",
       "      <td>Wed Apr 22 06:04:57 +0000 2020</td>\n",
       "      <td>1252840795737997317</td>\n",
       "      <td>1252840795737997317</td>\n",
       "      <td>Tennis a la Balboa.\\n\\n#balboaisland #newportb...</td>\n",
       "      <td>True</td>\n",
       "      <td>&lt;a href=\"http://instagram.com\" rel=\"nofollow\"&gt;...</td>\n",
       "      <td>None</td>\n",
       "      <td>None</td>\n",
       "      <td>None</td>\n",
       "      <td>None</td>\n",
       "      <td>...</td>\n",
       "      <td>NaN</td>\n",
       "      <td>NaN</td>\n",
       "      <td>NaN</td>\n",
       "      <td>NaN</td>\n",
       "      <td>NaN</td>\n",
       "      <td>NaN</td>\n",
       "      <td>NaN</td>\n",
       "      <td>NaN</td>\n",
       "      <td>NaN</td>\n",
       "      <td>NaN</td>\n",
       "    </tr>\n",
       "    <tr>\n",
       "      <th>1</th>\n",
       "      <td>Fri May 01 16:27:52 +0000 2020</td>\n",
       "      <td>1256259052461592580</td>\n",
       "      <td>1256259052461592580</td>\n",
       "      <td>#Repost bandcamp\\n• • • • • •\\nTo keep support...</td>\n",
       "      <td>True</td>\n",
       "      <td>&lt;a href=\"http://instagram.com\" rel=\"nofollow\"&gt;...</td>\n",
       "      <td>None</td>\n",
       "      <td>None</td>\n",
       "      <td>None</td>\n",
       "      <td>None</td>\n",
       "      <td>...</td>\n",
       "      <td>NaN</td>\n",
       "      <td>NaN</td>\n",
       "      <td>NaN</td>\n",
       "      <td>NaN</td>\n",
       "      <td>NaN</td>\n",
       "      <td>NaN</td>\n",
       "      <td>NaN</td>\n",
       "      <td>NaN</td>\n",
       "      <td>NaN</td>\n",
       "      <td>NaN</td>\n",
       "    </tr>\n",
       "  </tbody>\n",
       "</table>\n",
       "<p>2 rows × 157 columns</p>\n",
       "</div>"
      ],
      "text/plain": [
       "                       created_at                   id               id_str  \\\n",
       "0  Wed Apr 22 06:04:57 +0000 2020  1252840795737997317  1252840795737997317   \n",
       "1  Fri May 01 16:27:52 +0000 2020  1256259052461592580  1256259052461592580   \n",
       "\n",
       "                                                text  truncated  \\\n",
       "0  Tennis a la Balboa.\\n\\n#balboaisland #newportb...       True   \n",
       "1  #Repost bandcamp\\n• • • • • •\\nTo keep support...       True   \n",
       "\n",
       "                                              source in_reply_to_status_id  \\\n",
       "0  <a href=\"http://instagram.com\" rel=\"nofollow\">...                  None   \n",
       "1  <a href=\"http://instagram.com\" rel=\"nofollow\">...                  None   \n",
       "\n",
       "  in_reply_to_status_id_str in_reply_to_user_id in_reply_to_user_id_str  ...  \\\n",
       "0                      None                None                    None  ...   \n",
       "1                      None                None                    None  ...   \n",
       "\n",
       "  quoted_status.contributors quoted_status.is_quote_status  \\\n",
       "0                        NaN                           NaN   \n",
       "1                        NaN                           NaN   \n",
       "\n",
       "   quoted_status.retweet_count  quoted_status.favorite_count  \\\n",
       "0                          NaN                           NaN   \n",
       "1                          NaN                           NaN   \n",
       "\n",
       "   quoted_status.favorited  quoted_status.retweeted  \\\n",
       "0                      NaN                      NaN   \n",
       "1                      NaN                      NaN   \n",
       "\n",
       "   quoted_status.possibly_sensitive quoted_status.lang  \\\n",
       "0                               NaN                NaN   \n",
       "1                               NaN                NaN   \n",
       "\n",
       "  quoted_status.entities.media quoted_status.extended_entities.media  \n",
       "0                          NaN                                   NaN  \n",
       "1                          NaN                                   NaN  \n",
       "\n",
       "[2 rows x 157 columns]"
      ]
     },
     "execution_count": 7,
     "metadata": {},
     "output_type": "execute_result"
    }
   ],
   "source": [
    "df.head(2)"
   ]
  },
  {
   "cell_type": "code",
   "execution_count": null,
   "id": "76152236-6390-4dee-afed-3760d8d056d3",
   "metadata": {},
   "outputs": [],
   "source": []
  }
 ],
 "metadata": {
  "kernelspec": {
   "display_name": "Python 3",
   "language": "python",
   "name": "python3"
  },
  "language_info": {
   "codemirror_mode": {
    "name": "ipython",
    "version": 3
   },
   "file_extension": ".py",
   "mimetype": "text/x-python",
   "name": "python",
   "nbconvert_exporter": "python",
   "pygments_lexer": "ipython3",
   "version": "3.8.8"
  }
 },
 "nbformat": 4,
 "nbformat_minor": 5
}
