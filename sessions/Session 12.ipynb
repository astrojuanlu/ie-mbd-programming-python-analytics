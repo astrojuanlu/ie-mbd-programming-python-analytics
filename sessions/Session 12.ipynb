{
 "cells": [
  {
   "cell_type": "markdown",
   "id": "bf011c52-c24a-4565-b717-1e113d2afb18",
   "metadata": {},
   "source": [
    "# Session 12"
   ]
  },
  {
   "cell_type": "markdown",
   "id": "6abf09cd-b845-4a1f-ad09-024d59c94de1",
   "metadata": {},
   "source": [
    "## Exercises"
   ]
  },
  {
   "cell_type": "markdown",
   "id": "4e305998-a33c-4e61-ba0a-bb448ea6dc8b",
   "metadata": {},
   "source": [
    "Analyze the `national_covid19_age_range.csv` dataset."
   ]
  },
  {
   "cell_type": "markdown",
   "id": "fe2d82fc-cbf1-4766-adc6-3252f3cae11c",
   "metadata": {},
   "source": [
    "### 1. Statistics by sex\n",
    "\n",
    "1. Exclude rows with age range \"Total\"\n",
    "2. Create two separate `DataFrames`, one for women and one for men\n",
    "3. Compute the median deceases, the mean ICU cases, and the standard deviation of ICU cases for the two sexes"
   ]
  },
  {
   "cell_type": "markdown",
   "id": "ee5c0a6e-7994-4257-a01b-32267aef7947",
   "metadata": {},
   "source": [
    "### 2. Statistics by age\n",
    "\n",
    "1. Create two separate `DataFrames`: one for all the ages except \"Total\", and one for ages 20 to 40\n",
    "2. Compute the average percentage of hospitalized cases with respect to confirmed cases for the two groups."
   ]
  }
 ],
 "metadata": {
  "kernelspec": {
   "display_name": "Python 3 (ipykernel)",
   "language": "python",
   "name": "python3"
  },
  "language_info": {
   "codemirror_mode": {
    "name": "ipython",
    "version": 3
   },
   "file_extension": ".py",
   "mimetype": "text/x-python",
   "name": "python",
   "nbconvert_exporter": "python",
   "pygments_lexer": "ipython3",
   "version": "3.9.12"
  }
 },
 "nbformat": 4,
 "nbformat_minor": 5
}
