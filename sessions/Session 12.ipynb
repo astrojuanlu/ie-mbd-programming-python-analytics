{
 "cells": [
  {
   "cell_type": "code",
   "execution_count": null,
   "id": "fb6e8717-1077-4787-8086-c0b6f39c7f74",
   "metadata": {},
   "outputs": [],
   "source": []
  },
  {
   "cell_type": "code",
   "execution_count": null,
   "id": "f40471e4-a3fd-441c-9eeb-3982de43e9ef",
   "metadata": {},
   "outputs": [],
   "source": []
  },
  {
   "cell_type": "code",
   "execution_count": null,
   "id": "dec2d436-368d-4486-8044-fe5a3feeff55",
   "metadata": {},
   "outputs": [],
   "source": []
  },
  {
   "cell_type": "code",
   "execution_count": null,
   "id": "ce471756-2b3d-4266-b95b-3c0053ddb192",
   "metadata": {},
   "outputs": [],
   "source": []
  },
  {
   "cell_type": "code",
   "execution_count": null,
   "id": "b8dc954e-f942-40c5-b6a2-b565b2234a7a",
   "metadata": {},
   "outputs": [],
   "source": []
  },
  {
   "cell_type": "code",
   "execution_count": null,
   "id": "3ef0b840-6ccc-42b8-9637-110a591f666c",
   "metadata": {},
   "outputs": [],
   "source": []
  },
  {
   "cell_type": "code",
   "execution_count": null,
   "id": "b95b0588-4d37-460c-9af8-89fbb18de4ca",
   "metadata": {},
   "outputs": [],
   "source": []
  },
  {
   "cell_type": "code",
   "execution_count": null,
   "id": "c60b054c-1694-4907-b43e-e36ce4b0d872",
   "metadata": {},
   "outputs": [],
   "source": []
  },
  {
   "cell_type": "code",
   "execution_count": null,
   "id": "4845abac-c80c-4da7-952a-72bf19b187b4",
   "metadata": {},
   "outputs": [],
   "source": []
  },
  {
   "cell_type": "code",
   "execution_count": null,
   "id": "12c57a4c-4d94-4fba-9b92-b691dd082969",
   "metadata": {},
   "outputs": [],
   "source": []
  },
  {
   "cell_type": "code",
   "execution_count": null,
   "id": "e390e276-c3b1-44ec-afb0-0f4c091bc0e2",
   "metadata": {},
   "outputs": [],
   "source": []
  },
  {
   "cell_type": "markdown",
   "id": "ab69db94-c7d0-4b31-9bc0-aae9c708bf60",
   "metadata": {},
   "source": [
    "## Data"
   ]
  },
  {
   "cell_type": "code",
   "execution_count": null,
   "id": "53c838bf-ec45-4e6a-a831-d358a52af90b",
   "metadata": {},
   "outputs": [],
   "source": [
    "import requests\n",
    "\n",
    "DATA_URL = (\n",
    "    \"https://github.com/astrojuanlu/ie-mbd-python-data-analysis-i/\"\n",
    "    \"raw/main/data/twitter_data.json\"\n",
    ")\n",
    "\n",
    "data = requests.get(DATA_URL).json()\n",
    "print(type(data), len(data))"
   ]
  },
  {
   "cell_type": "markdown",
   "id": "a3d51d78-ac3b-482c-92c6-e30427e45313",
   "metadata": {},
   "source": [
    "## Exercises\n",
    "\n",
    "### 1. Cities of tweets\n",
    "\n",
    "Build a set of the cities in which the tweets written. How many distinct cities are there?"
   ]
  },
  {
   "cell_type": "markdown",
   "id": "563d95d1-2bdb-4359-8e83-b05140217b04",
   "metadata": {},
   "source": [
    "### 2. How many tweets in each city\n",
    "\n",
    "Build a dictionary, where the keys are cities and the values are the number of tweets in each city."
   ]
  },
  {
   "cell_type": "markdown",
   "id": "5b68c869-3b1b-402c-9421-ebb22d35f4f5",
   "metadata": {},
   "source": [
    "### 3. How many unique hashtags\n",
    "\n",
    "Build a set of unique, **lowercase** hashtag texts."
   ]
  },
  {
   "cell_type": "markdown",
   "id": "fde18b46-1cf6-48bf-a05b-dc26c39032cb",
   "metadata": {},
   "source": [
    "### 4. How many tweets mentioning each hashtag\n",
    "\n",
    "Build a dictionary, where the keys are the lowercase hashtag texts and the values the number of tweets containing each hashtag. Is there any hashtag that appears more than once?"
   ]
  }
 ],
 "metadata": {
  "kernelspec": {
   "display_name": "Python 3",
   "language": "python",
   "name": "python3"
  },
  "language_info": {
   "codemirror_mode": {
    "name": "ipython",
    "version": 3
   },
   "file_extension": ".py",
   "mimetype": "text/x-python",
   "name": "python",
   "nbconvert_exporter": "python",
   "pygments_lexer": "ipython3",
   "version": "3.8.8"
  }
 },
 "nbformat": 4,
 "nbformat_minor": 5
}
