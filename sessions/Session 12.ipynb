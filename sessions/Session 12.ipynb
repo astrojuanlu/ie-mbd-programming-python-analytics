{
 "cells": [
  {
   "cell_type": "markdown",
   "id": "ab69db94-c7d0-4b31-9bc0-aae9c708bf60",
   "metadata": {},
   "source": [
    "## Data"
   ]
  },
  {
   "cell_type": "code",
   "execution_count": null,
   "id": "53c838bf-ec45-4e6a-a831-d358a52af90b",
   "metadata": {},
   "outputs": [],
   "source": [
    "import requests\n",
    "\n",
    "DATA_URL = (\n",
    "    \"https://github.com/astrojuanlu/ie-mbd-python-data-analysis-i/\"\n",
    "    \"raw/main/data/twitter_data.json\"\n",
    ")\n",
    "\n",
    "data = requests.get(DATA_URL).json()\n",
    "print(type(data), len(data))"
   ]
  },
  {
   "cell_type": "markdown",
   "id": "a3d51d78-ac3b-482c-92c6-e30427e45313",
   "metadata": {},
   "source": [
    "## Exercises\n",
    "\n",
    "### 1. Cities of tweets\n",
    "\n",
    "Build a set of the cities in which the tweets written. How many distinct cities are there?"
   ]
  },
  {
   "cell_type": "markdown",
   "id": "563d95d1-2bdb-4359-8e83-b05140217b04",
   "metadata": {},
   "source": [
    "### 2. How many tweets in each city\n",
    "\n",
    "Build a dictionary, where the keys are cities and the values are the number of tweets in each city."
   ]
  },
  {
   "cell_type": "markdown",
   "id": "5b68c869-3b1b-402c-9421-ebb22d35f4f5",
   "metadata": {},
   "source": [
    "### 3. How many unique hashtags\n",
    "\n",
    "Build a set of unique, **lowercase** hashtag texts."
   ]
  },
  {
   "cell_type": "markdown",
   "id": "fde18b46-1cf6-48bf-a05b-dc26c39032cb",
   "metadata": {},
   "source": [
    "### 4. How many tweets mentioning each hashtag\n",
    "\n",
    "Build a dictionary, where the keys are the lowercase hashtag texts and the values the number of tweets containing each hashtag. Is there any hashtag that appears more than once?"
   ]
  }
 ],
 "metadata": {
  "kernelspec": {
   "display_name": "Python 3",
   "language": "python",
   "name": "python3"
  },
  "language_info": {
   "codemirror_mode": {
    "name": "ipython",
    "version": 3
   },
   "file_extension": ".py",
   "mimetype": "text/x-python",
   "name": "python",
   "nbconvert_exporter": "python",
   "pygments_lexer": "ipython3",
   "version": "3.8.8"
  }
 },
 "nbformat": 4,
 "nbformat_minor": 5
}
