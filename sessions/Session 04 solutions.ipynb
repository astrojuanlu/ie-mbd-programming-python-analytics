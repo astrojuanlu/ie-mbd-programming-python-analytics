{
 "cells": [
  {
   "cell_type": "code",
   "execution_count": 1,
   "id": "ba92a970-7278-4a80-9b8b-43d1736aa976",
   "metadata": {},
   "outputs": [],
   "source": [
    "def sum_sequence(seq):\n",
    "    result = 0\n",
    "    for element in seq:\n",
    "        result = result + element\n",
    "    return result"
   ]
  },
  {
   "cell_type": "code",
   "execution_count": 2,
   "id": "59cc89aa-67d9-49ce-9f17-bd9405cca335",
   "metadata": {},
   "outputs": [
    {
     "data": {
      "text/plain": [
       "4950"
      ]
     },
     "execution_count": 2,
     "metadata": {},
     "output_type": "execute_result"
    }
   ],
   "source": [
    "sum_sequence(range(100))"
   ]
  },
  {
   "cell_type": "code",
   "execution_count": 3,
   "id": "380346fd-0296-4401-bb49-bf4754771989",
   "metadata": {},
   "outputs": [
    {
     "data": {
      "text/plain": [
       "4950"
      ]
     },
     "execution_count": 3,
     "metadata": {},
     "output_type": "execute_result"
    }
   ],
   "source": [
    "sum(range(100))"
   ]
  },
  {
   "cell_type": "code",
   "execution_count": 4,
   "id": "c158b79b-1a70-484c-9fc1-e2a127ee3053",
   "metadata": {},
   "outputs": [],
   "source": [
    "def prod_sequence(seq):\n",
    "    result = 1\n",
    "    for element in seq:\n",
    "        result = result * element\n",
    "    return result"
   ]
  },
  {
   "cell_type": "code",
   "execution_count": 5,
   "id": "3d367c32-b100-4f48-8b66-5dee9d9ad980",
   "metadata": {},
   "outputs": [
    {
     "data": {
      "text/plain": [
       "362880"
      ]
     },
     "execution_count": 5,
     "metadata": {},
     "output_type": "execute_result"
    }
   ],
   "source": [
    "prod_sequence(range(1, 10))"
   ]
  },
  {
   "cell_type": "code",
   "execution_count": 6,
   "id": "1f2daf5b-d990-4d1c-976a-efd2acfb43aa",
   "metadata": {},
   "outputs": [],
   "source": [
    "from math import prod"
   ]
  },
  {
   "cell_type": "code",
   "execution_count": 7,
   "id": "13573982-b000-4d6a-b331-e8a5219509e3",
   "metadata": {},
   "outputs": [
    {
     "data": {
      "text/plain": [
       "362880"
      ]
     },
     "execution_count": 7,
     "metadata": {},
     "output_type": "execute_result"
    }
   ],
   "source": [
    "prod(range(1, 10))"
   ]
  },
  {
   "cell_type": "code",
   "execution_count": 8,
   "id": "d2948d9a-a7fa-4629-8171-62efe415a430",
   "metadata": {},
   "outputs": [],
   "source": [
    "def mean_sequence(seq):\n",
    "    return sum_sequence(seq) / len(seq)"
   ]
  },
  {
   "cell_type": "code",
   "execution_count": 9,
   "id": "df995cfd-a288-4b32-b68b-b302629cfe6a",
   "metadata": {},
   "outputs": [
    {
     "data": {
      "text/plain": [
       "3.25"
      ]
     },
     "execution_count": 9,
     "metadata": {},
     "output_type": "execute_result"
    }
   ],
   "source": [
    "mean_sequence([1, 10, -3, 5])"
   ]
  },
  {
   "cell_type": "code",
   "execution_count": 10,
   "id": "4b35e738-47ba-4b64-abbe-19124b729a93",
   "metadata": {},
   "outputs": [],
   "source": [
    "from statistics import mean"
   ]
  },
  {
   "cell_type": "code",
   "execution_count": 11,
   "id": "8e93854e-db83-4f2c-a5fe-31bd024c1280",
   "metadata": {},
   "outputs": [
    {
     "data": {
      "text/plain": [
       "3.25"
      ]
     },
     "execution_count": 11,
     "metadata": {},
     "output_type": "execute_result"
    }
   ],
   "source": [
    "mean([1, 10, -3, 5])"
   ]
  },
  {
   "cell_type": "code",
   "execution_count": 12,
   "id": "1a68557b-e6d6-4ff4-aad6-bf36010632de",
   "metadata": {},
   "outputs": [],
   "source": [
    "def median_sequence(seq):\n",
    "    seq = sorted(seq)\n",
    "    if len(seq) % 2 == 1:\n",
    "        mid_index = len(seq) // 2\n",
    "        result = seq[mid_index]\n",
    "    else:\n",
    "        mid_index_right = len(seq) // 2\n",
    "        mid_index_left = mid_index_right - 1\n",
    "        result = mean_sequence(seq[mid_index_left:mid_index_right + 1])\n",
    "    return result"
   ]
  },
  {
   "cell_type": "code",
   "execution_count": 13,
   "id": "abc3f221-7a93-4cfc-b6ac-3f68828f71ab",
   "metadata": {},
   "outputs": [
    {
     "data": {
      "text/plain": [
       "4.0"
      ]
     },
     "execution_count": 13,
     "metadata": {},
     "output_type": "execute_result"
    }
   ],
   "source": [
    "median_sequence([10, -1, 3, 5])"
   ]
  },
  {
   "cell_type": "code",
   "execution_count": 14,
   "id": "d9d314dd-93bf-4b36-af86-11b412743695",
   "metadata": {},
   "outputs": [
    {
     "data": {
      "text/plain": [
       "4"
      ]
     },
     "execution_count": 14,
     "metadata": {},
     "output_type": "execute_result"
    }
   ],
   "source": [
    "median_sequence([7, 4, 9, -1, 3])"
   ]
  },
  {
   "cell_type": "code",
   "execution_count": 15,
   "id": "cacb86e0-5c99-4da5-9efa-46599c0ed0b8",
   "metadata": {},
   "outputs": [],
   "source": [
    "from statistics import median"
   ]
  },
  {
   "cell_type": "code",
   "execution_count": 16,
   "id": "a0d56d21-8e5d-42c6-891b-a46d14247ea0",
   "metadata": {},
   "outputs": [
    {
     "data": {
      "text/plain": [
       "4.0"
      ]
     },
     "execution_count": 16,
     "metadata": {},
     "output_type": "execute_result"
    }
   ],
   "source": [
    "median([10, -1, 3, 5])"
   ]
  },
  {
   "cell_type": "code",
   "execution_count": 17,
   "id": "730b538b-e584-474a-a917-7b340ebe70ed",
   "metadata": {},
   "outputs": [
    {
     "data": {
      "text/plain": [
       "4"
      ]
     },
     "execution_count": 17,
     "metadata": {},
     "output_type": "execute_result"
    }
   ],
   "source": [
    "median([7, 4, 9, -1, 3])"
   ]
  },
  {
   "cell_type": "code",
   "execution_count": 18,
   "id": "f927c26e-3383-4e19-9827-50c1e30205fe",
   "metadata": {},
   "outputs": [
    {
     "data": {
      "text/plain": [
       "[(1, 40, 'male', 10.2),\n",
       " (2, 50, 'female', 5.4),\n",
       " (3, 23, 'female', 8.0),\n",
       " (4, 18, 'male', 2.5)]"
      ]
     },
     "execution_count": 18,
     "metadata": {},
     "output_type": "execute_result"
    }
   ],
   "source": [
    "clients = [\n",
    "    (1, 40, \"male\", 10.2),\n",
    "    (2, 50, \"female\", 5.4),\n",
    "    (3, 23, \"female\", 8.0),\n",
    "    (4, 18, \"male\", 2.5),\n",
    "]\n",
    "clients"
   ]
  },
  {
   "cell_type": "code",
   "execution_count": 19,
   "id": "d7e36c91-fa89-4749-8f08-95185f1bde75",
   "metadata": {},
   "outputs": [],
   "source": [
    "def extract_column(clients, column_name):\n",
    "    column_names = [\"id\", \"age\", \"sex\", \"consumption\"]\n",
    "    col_index = column_names.index(column_name)\n",
    "\n",
    "    values = []\n",
    "    for client in clients:\n",
    "        values.append(client[col_index])\n",
    "\n",
    "    return values"
   ]
  },
  {
   "cell_type": "code",
   "execution_count": 20,
   "id": "8998fdb7-9a19-4567-bf77-d865f959f264",
   "metadata": {},
   "outputs": [
    {
     "data": {
      "text/plain": [
       "['male', 'female', 'female', 'male']"
      ]
     },
     "execution_count": 20,
     "metadata": {},
     "output_type": "execute_result"
    }
   ],
   "source": [
    "extract_column(clients, \"sex\")"
   ]
  },
  {
   "cell_type": "code",
   "execution_count": 21,
   "id": "755b3b0e-8aff-4b53-b054-e9e5d6402f16",
   "metadata": {},
   "outputs": [
    {
     "data": {
      "text/plain": [
       "[40, 50, 23, 18]"
      ]
     },
     "execution_count": 21,
     "metadata": {},
     "output_type": "execute_result"
    }
   ],
   "source": [
    "extract_column(clients, \"age\")"
   ]
  },
  {
   "cell_type": "markdown",
   "id": "afd6f356-02cd-4b0e-81fd-6902c78aac8b",
   "metadata": {},
   "source": [
    "Other possible, more convoluted, solutions:"
   ]
  },
  {
   "cell_type": "code",
   "execution_count": 22,
   "id": "25283cb8-9c67-4dfe-af1e-25e14f9519d9",
   "metadata": {
    "tags": []
   },
   "outputs": [],
   "source": [
    "def extract_column_1(clients, column_name):\n",
    "    if column_name == \"id\":\n",
    "        col_index = 0\n",
    "    elif column_name == \"age\":\n",
    "        col_index = 1\n",
    "    elif column_name == \"sex\":\n",
    "        col_index = 2\n",
    "    elif column_name == \"consumption\":\n",
    "        col_index = 3\n",
    "\n",
    "    ..."
   ]
  }
 ],
 "metadata": {
  "kernelspec": {
   "display_name": "Python 3 (ipykernel)",
   "language": "python",
   "name": "python3"
  },
  "language_info": {
   "codemirror_mode": {
    "name": "ipython",
    "version": 3
   },
   "file_extension": ".py",
   "mimetype": "text/x-python",
   "name": "python",
   "nbconvert_exporter": "python",
   "pygments_lexer": "ipython3",
   "version": "3.9.12"
  }
 },
 "nbformat": 4,
 "nbformat_minor": 5
}
