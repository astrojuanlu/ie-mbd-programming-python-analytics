{
 "cells": [
  {
   "cell_type": "markdown",
   "metadata": {},
   "source": [
    "Logistics:\n",
    "\n",
    "- Type password\n",
    "- Launch zoom\n",
    "\n",
    "Ideas:\n",
    "\n",
    "- Technologies: Excel, Visual Basic, R, MATLAB, Python\n",
    "- Intro\n",
    "- Showcase Binder from https://github.com/astrojuanlu/seminar-python-engineering\n",
    "- \"Two types of programming: interactive and not\"\n",
    "- \"Python as calculator\", first without variables\n",
    "- Basic usage of variables\n",
    "- Strings (simple quotes, double quotes)\n",
    "- Code comments\n",
    "- Jupyter interface, keyboard shortcuts\n",
    "- Jupyter outputs\n",
    "- Basic Markdown\n",
    "- `print` function for output\n",
    "- `input` function for input\n",
    "- How to get help: Python docs, Stack Overflow\n",
    "- How to download the notebook, how to view it, how to interact with it\n",
    "- Exercises"
   ]
  },
  {
   "cell_type": "markdown",
   "metadata": {},
   "source": [
    "---"
   ]
  },
  {
   "cell_type": "markdown",
   "metadata": {},
   "source": [
    "## Exercises"
   ]
  },
  {
   "cell_type": "markdown",
   "metadata": {},
   "source": [
    "### 1. Write some Markdown\n",
    "\n",
    "Reproduce the following output. You can use the PNG version of the Python logo found here https://www.python.org/community/logos/.\n",
    "\n",
    "---\n",
    "\n",
    "![Markdown output](../img/quizzes/markdown-output.png)\n",
    "\n",
    "---"
   ]
  },
  {
   "cell_type": "markdown",
   "metadata": {},
   "source": [
    "### 2. Do some math\n",
    "\n",
    "Find out the result of the following mathematical operations:\n",
    "\n",
    "$$ a = 0.1, b = 0.2 \\Rightarrow \\frac{a + b}{a - b} =\\,?$$\n",
    "\n",
    "---\n",
    "\n",
    "$$ c = \\frac{1}{3}, d = 1.25 \\Rightarrow \\frac{10c + \\frac{d}{2}}{3}=\\,?$$\n",
    "$$ $$"
   ]
  },
  {
   "cell_type": "markdown",
   "metadata": {},
   "source": [
    "### 3. Ask your name and age\n",
    "\n",
    "Write a short Python script that:\n",
    "\n",
    "1. asks the user for the name,\n",
    "2. stores it in a variable `name`,\n",
    "3. asks the user for the age,\n",
    "4. stores it in a variable `age`,\n",
    "5. prints the name and age"
   ]
  },
  {
   "cell_type": "markdown",
   "metadata": {},
   "source": [
    "### Extra. Wrap in a function\n",
    "\n",
    "Write a function `ask_name` that takes no parameters, and returns a dictionary with the name and the current date, like this:\n",
    "\n",
    "```python\n",
    "In [1]: ask_name()\n",
    "What is your name? Juan Luis\n",
    "Out [1]: {'name': 'Juan Luis', 'date': '2021-10-04T09:15:40.815764+00:00'}\n",
    "```"
   ]
  },
  {
   "cell_type": "code",
   "execution_count": 7,
   "metadata": {},
   "outputs": [
    {
     "name": "stdin",
     "output_type": "stream",
     "text": [
      "What is your name? Juan Luis\n"
     ]
    },
    {
     "data": {
      "text/plain": [
       "{'name': 'Juan Luis', 'date': '2021-10-04T09:16:10.160595+00:00'}"
      ]
     },
     "execution_count": 7,
     "metadata": {},
     "output_type": "execute_result"
    }
   ],
   "source": [
    "ask_name()"
   ]
  }
 ],
 "metadata": {
  "kernelspec": {
   "display_name": "Python 3",
   "language": "python",
   "name": "python3"
  },
  "language_info": {
   "codemirror_mode": {
    "name": "ipython",
    "version": 3
   },
   "file_extension": ".py",
   "mimetype": "text/x-python",
   "name": "python",
   "nbconvert_exporter": "python",
   "pygments_lexer": "ipython3",
   "version": "3.8.8"
  }
 },
 "nbformat": 4,
 "nbformat_minor": 4
}
