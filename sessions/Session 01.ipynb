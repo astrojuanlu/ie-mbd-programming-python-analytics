{
 "cells": [
  {
   "cell_type": "markdown",
   "metadata": {},
   "source": [
    "## Exercises"
   ]
  },
  {
   "cell_type": "markdown",
   "metadata": {},
   "source": [
    "### 1. Write some Markdown\n",
    "\n",
    "Reproduce the following output. You can use the PNG version of the Python logo found here https://www.python.org/community/logos/.\n",
    "\n",
    "---\n",
    "\n",
    "![Markdown output](../img/quizzes/markdown-output.png)\n",
    "\n",
    "---"
   ]
  },
  {
   "cell_type": "markdown",
   "metadata": {},
   "source": [
    "### 2. Do some math\n",
    "\n",
    "Find out the result of the following mathematical operations:\n",
    "\n",
    "$$ a = 0.1, b = 0.2 \\Rightarrow \\frac{a + b}{a - b} =\\,?$$\n",
    "\n",
    "---\n",
    "\n",
    "$$ c = \\frac{1}{3}, d = 1.25 \\Rightarrow \\frac{10c + \\frac{d}{2}}{3}=\\,?$$\n",
    "$$ $$"
   ]
  },
  {
   "cell_type": "markdown",
   "metadata": {},
   "source": [
    "### 3. Ask your name and age\n",
    "\n",
    "Write a short Python script that:\n",
    "\n",
    "1. asks the user for the name,\n",
    "2. stores it in a variable `name`,\n",
    "3. asks the user for the age,\n",
    "4. stores it in a variable `age`,\n",
    "5. prints the name and age"
   ]
  }
 ],
 "metadata": {
  "kernelspec": {
   "display_name": "Python 3",
   "language": "python",
   "name": "python3"
  },
  "language_info": {
   "codemirror_mode": {
    "name": "ipython",
    "version": 3
   },
   "file_extension": ".py",
   "mimetype": "text/x-python",
   "name": "python",
   "nbconvert_exporter": "python",
   "pygments_lexer": "ipython3",
   "version": "3.8.5"
  }
 },
 "nbformat": 4,
 "nbformat_minor": 4
}
