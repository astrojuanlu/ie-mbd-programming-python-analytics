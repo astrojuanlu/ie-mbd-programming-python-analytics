{
 "cells": [
  {
   "cell_type": "markdown",
   "id": "5a4bbe59-3dd9-4499-8689-1b21265bef8a",
   "metadata": {},
   "source": [
    "# Session 10\n",
    "\n",
    "Objective: analyzing the last Reddit posts using their JSON data."
   ]
  },
  {
   "cell_type": "code",
   "execution_count": 1,
   "id": "e8d49cdf-34c9-4452-81d7-bd7a11056f2e",
   "metadata": {},
   "outputs": [
    {
     "data": {
      "text/plain": [
       "'https://www.reddit.com/r/all.json'"
      ]
     },
     "execution_count": 1,
     "metadata": {},
     "output_type": "execute_result"
    }
   ],
   "source": [
    "URL = \"https://www.reddit.com/r/all.json\"\n",
    "URL"
   ]
  },
  {
   "cell_type": "code",
   "execution_count": 2,
   "id": "e39f4541-98bd-4d95-b052-94793c19b673",
   "metadata": {},
   "outputs": [],
   "source": [
    "import requests  # Not part of the stdlib"
   ]
  },
  {
   "cell_type": "code",
   "execution_count": 3,
   "id": "84757ced-3a1c-46d8-baa9-fe3c3c65ff6e",
   "metadata": {},
   "outputs": [
    {
     "data": {
      "text/plain": [
       "<Response [429]>"
      ]
     },
     "execution_count": 3,
     "metadata": {},
     "output_type": "execute_result"
    }
   ],
   "source": [
    "response = requests.get(URL)\n",
    "response"
   ]
  },
  {
   "cell_type": "markdown",
   "id": "ed3379ff-56ac-462c-ac51-4f0d4acd5504",
   "metadata": {},
   "source": [
    "<div class=\"alert alert-warning\">If the HTTP status is <code>429</code>, download the data from your browser or try again later</div>"
   ]
  },
  {
   "cell_type": "markdown",
   "id": "d47934b7-24fd-4ab7-82f7-0a6c82dd7728",
   "metadata": {},
   "source": [
    "Usual HTTP statuses are:\n",
    "\n",
    "- `200 OK`: Everything went okay\n",
    "- `404 NOT FOUND`: The URL was not found (most widely known because it's more visible)\n",
    "- `429 TOO MANY REQUESTS`: The resource is rate limited\n",
    "- `500 INTERNAL SERVER ERROR`: The server broke while handling the request"
   ]
  },
  {
   "cell_type": "code",
   "execution_count": 7,
   "id": "b3b904d2-f950-4d5f-ac2d-ddc5aa0f3b40",
   "metadata": {},
   "outputs": [
    {
     "data": {
      "text/plain": [
       "200"
      ]
     },
     "execution_count": 7,
     "metadata": {},
     "output_type": "execute_result"
    }
   ],
   "source": [
    "response.status_code"
   ]
  },
  {
   "cell_type": "markdown",
   "id": "9e94c213-2a8a-440d-a408-33d59332ffa3",
   "metadata": {},
   "source": [
    "The `.json()` method of the response turns the data to a Python object representing the JSON:"
   ]
  },
  {
   "cell_type": "code",
   "execution_count": 8,
   "id": "528eb8c8-b9a4-4082-971d-f2ebfac0ade2",
   "metadata": {},
   "outputs": [
    {
     "data": {
      "text/plain": [
       "dict"
      ]
     },
     "execution_count": 8,
     "metadata": {},
     "output_type": "execute_result"
    }
   ],
   "source": [
    "data = response.json()\n",
    "type(data)"
   ]
  },
  {
   "cell_type": "code",
   "execution_count": 11,
   "id": "f7ac4c40-630a-4be1-9914-dd9996cb16b7",
   "metadata": {},
   "outputs": [
    {
     "data": {
      "text/plain": [
       "dict_keys(['kind', 'data'])"
      ]
     },
     "execution_count": 11,
     "metadata": {},
     "output_type": "execute_result"
    }
   ],
   "source": [
    "data.keys()"
   ]
  },
  {
   "cell_type": "code",
   "execution_count": 13,
   "id": "94d4f7c3-9bb7-4ac0-93be-da03596d7f31",
   "metadata": {},
   "outputs": [
    {
     "data": {
      "text/plain": [
       "list"
      ]
     },
     "execution_count": 13,
     "metadata": {},
     "output_type": "execute_result"
    }
   ],
   "source": [
    "type(data[\"data\"][\"children\"])"
   ]
  },
  {
   "cell_type": "markdown",
   "id": "dd776363-f72b-41ed-b52b-b82a2cfc1e11",
   "metadata": {},
   "source": [
    "To write that JSON to disk, you need the `json` module:"
   ]
  },
  {
   "cell_type": "code",
   "execution_count": 2,
   "id": "25953473-aea2-4d3e-98f9-44bdb69acffd",
   "metadata": {},
   "outputs": [],
   "source": [
    "import json  # belongs to the standard library (stdlib)"
   ]
  },
  {
   "cell_type": "code",
   "execution_count": 10,
   "id": "c5d745d2-20c0-4bb3-b02a-7d1e80764f39",
   "metadata": {},
   "outputs": [],
   "source": [
    "# \"with\" closes the file automatically\n",
    "with open(\"reddit_all.json\", mode=\"w\") as fh:  # fh = file handle\n",
    "    json.dump(data, fh)"
   ]
  },
  {
   "cell_type": "markdown",
   "id": "405ec28d-b373-4ffc-9699-cc59117f3b1e",
   "metadata": {},
   "source": [
    "To read it:"
   ]
  },
  {
   "cell_type": "code",
   "execution_count": 3,
   "id": "851157ed-1eba-459e-b50b-60b363903160",
   "metadata": {},
   "outputs": [],
   "source": [
    "with open(\"reddit_all.json\") as fh:\n",
    "    data = json.load(fh)"
   ]
  },
  {
   "cell_type": "markdown",
   "id": "72e44540-c5b2-4d70-8c6b-d55b7fd4e10d",
   "metadata": {},
   "source": [
    "Now, you can proceed analyzing the posts. How many of them are there?"
   ]
  },
  {
   "cell_type": "code",
   "execution_count": 4,
   "id": "11b6fae7-783c-4c6f-addf-1386dae62e94",
   "metadata": {},
   "outputs": [
    {
     "data": {
      "text/plain": [
       "25"
      ]
     },
     "execution_count": 4,
     "metadata": {},
     "output_type": "execute_result"
    }
   ],
   "source": [
    "posts = data[\"data\"][\"children\"]\n",
    "len(posts)"
   ]
  },
  {
   "cell_type": "markdown",
   "id": "54a1ae64-9790-4e53-bb2c-1864b42bfcaa",
   "metadata": {},
   "source": [
    "How many different \"kinds\"?"
   ]
  },
  {
   "cell_type": "code",
   "execution_count": 5,
   "id": "216793ed-67bf-43c3-8c68-58db4c515e9d",
   "metadata": {},
   "outputs": [
    {
     "data": {
      "text/plain": [
       "{'t3'}"
      ]
     },
     "execution_count": 5,
     "metadata": {},
     "output_type": "execute_result"
    }
   ],
   "source": [
    "kinds = {post[\"kind\"] for post in posts}\n",
    "kinds"
   ]
  },
  {
   "cell_type": "markdown",
   "id": "9162d94d-ed60-4a44-8e74-fede59f4e685",
   "metadata": {},
   "source": [
    "If there is only one, we can ignore it (it doesn't make any difference)."
   ]
  },
  {
   "cell_type": "markdown",
   "id": "a49d0326-a113-4713-9fb2-602fc3e33da8",
   "metadata": {},
   "source": [
    "Now, are the IDs unique?"
   ]
  },
  {
   "cell_type": "code",
   "execution_count": 6,
   "id": "3a232965-1993-48c1-b104-22003c9dda2d",
   "metadata": {},
   "outputs": [
    {
     "data": {
      "text/plain": [
       "True"
      ]
     },
     "execution_count": 6,
     "metadata": {},
     "output_type": "execute_result"
    }
   ],
   "source": [
    "ids = {post[\"data\"][\"id\"] for post in posts}\n",
    "len(ids) == len(posts)"
   ]
  },
  {
   "cell_type": "markdown",
   "id": "bcca832f-e8c8-4428-8914-cab1e5fd84f6",
   "metadata": {},
   "source": [
    "The answer is yes!"
   ]
  },
  {
   "cell_type": "markdown",
   "id": "d210945e-1d90-44d2-8540-c2622353aa05",
   "metadata": {},
   "source": [
    "Let's extract the different subreddits:"
   ]
  },
  {
   "cell_type": "code",
   "execution_count": 7,
   "id": "7f635040-853f-4bc6-ae4f-a0b38943b5b9",
   "metadata": {},
   "outputs": [
    {
     "data": {
      "text/plain": [
       "{'yvlc6y': 'pics',\n",
       " 'yvjde7': 'politics',\n",
       " 'yvj89t': 'aww',\n",
       " 'yvjf3r': 'news',\n",
       " 'yvje97': 'WhitePeopleTwitter',\n",
       " 'yvjq82': 'nextfuckinglevel',\n",
       " 'yvj8du': 'LeopardsAteMyFace',\n",
       " 'yvkn7w': 'StarWars',\n",
       " 'yvjnuu': 'lego',\n",
       " 'yvjwa9': 'coolguides',\n",
       " 'yvi52x': 'Damnthatsinteresting',\n",
       " 'yvgxs9': 'antiwork',\n",
       " 'yvj2ic': 'nba',\n",
       " 'yvkts9': 'technicallythetruth',\n",
       " 'yvm23u': 'worldnews',\n",
       " 'yvhs31': 'wholesomememes',\n",
       " 'yvl55a': 'AnimalsBeingBros',\n",
       " 'yviu2n': 'TikTokCringe',\n",
       " 'yvh7wv': 'FunnyAnimals',\n",
       " 'yvh3zx': 'Gamingcirclejerk',\n",
       " 'yvk7an': 'pics',\n",
       " 'yveu7r': 'ProgrammerHumor',\n",
       " 'yvfxt4': 'pcmasterrace',\n",
       " 'yvf9ti': 'wallstreetbets',\n",
       " 'yvmju0': 'meirl'}"
      ]
     },
     "execution_count": 7,
     "metadata": {},
     "output_type": "execute_result"
    }
   ],
   "source": [
    "subreddits = {}\n",
    "for post in posts:\n",
    "    post_id = post[\"data\"][\"id\"]\n",
    "    subreddits[post_id] = post[\"data\"][\"subreddit\"]\n",
    "\n",
    "subreddits"
   ]
  },
  {
   "cell_type": "markdown",
   "id": "74b7b458-f555-45c0-b10b-fbcb25f233b9",
   "metadata": {},
   "source": [
    "We want a simplified version of the posts for simpler analysis. Let's add a `is_memes` key that is `True` if the post belongs to a subreddit with the substring \"meme\" in it."
   ]
  },
  {
   "cell_type": "code",
   "execution_count": 8,
   "id": "00d3f82a-2498-4d13-875c-95fa23b2d99b",
   "metadata": {},
   "outputs": [],
   "source": [
    "def trim_post(post):\n",
    "    is_memes = \"meme\" in post[\"data\"][\"subreddit\"].lower()\n",
    "    return {\n",
    "        \"id\": post[\"data\"][\"id\"],\n",
    "        \"subreddit\": post[\"data\"][\"subreddit\"],\n",
    "        \"upvote_ratio\": post[\"data\"][\"upvote_ratio\"],\n",
    "        \"is_memes\": is_memes,\n",
    "    }"
   ]
  },
  {
   "cell_type": "code",
   "execution_count": 9,
   "id": "e1d98d98-5906-4efd-aa62-b6fb5df3a5cf",
   "metadata": {},
   "outputs": [
    {
     "data": {
      "text/plain": [
       "[{'id': 'yvlc6y',\n",
       "  'subreddit': 'pics',\n",
       "  'upvote_ratio': 0.95,\n",
       "  'is_memes': False},\n",
       " {'id': 'yvjde7',\n",
       "  'subreddit': 'politics',\n",
       "  'upvote_ratio': 0.9,\n",
       "  'is_memes': False},\n",
       " {'id': 'yvj89t', 'subreddit': 'aww', 'upvote_ratio': 0.96, 'is_memes': False}]"
      ]
     },
     "execution_count": 9,
     "metadata": {},
     "output_type": "execute_result"
    }
   ],
   "source": [
    "trimmed_posts = [trim_post(post) for post in posts]\n",
    "trimmed_posts[:3]"
   ]
  },
  {
   "cell_type": "markdown",
   "id": "d8c0b73a-ad77-40e9-bb46-b155db8352fc",
   "metadata": {},
   "source": [
    "And finally, let's see if there's a difference in upvote ratio depending on whether the post belongs to a memes subreddit or not:"
   ]
  },
  {
   "cell_type": "code",
   "execution_count": 10,
   "id": "a5fc665f-8bcc-41d8-9d0c-21ae2ac11bfb",
   "metadata": {},
   "outputs": [
    {
     "data": {
      "text/plain": [
       "{True: [0.97],\n",
       " False: [0.95,\n",
       "  0.9,\n",
       "  0.96,\n",
       "  0.85,\n",
       "  0.96,\n",
       "  0.96,\n",
       "  0.96,\n",
       "  0.93,\n",
       "  0.96,\n",
       "  0.87,\n",
       "  0.87,\n",
       "  0.95,\n",
       "  0.97,\n",
       "  0.98,\n",
       "  0.94,\n",
       "  0.97,\n",
       "  0.92,\n",
       "  0.97,\n",
       "  0.94,\n",
       "  0.84,\n",
       "  0.93,\n",
       "  0.92,\n",
       "  0.94,\n",
       "  0.98]}"
      ]
     },
     "execution_count": 10,
     "metadata": {},
     "output_type": "execute_result"
    }
   ],
   "source": [
    "scores = {\n",
    "    True: [],\n",
    "    False: [],\n",
    "}\n",
    "\n",
    "for post in trimmed_posts:\n",
    "    category = post[\"is_memes\"]\n",
    "    upvote_ratio = post[\"upvote_ratio\"]\n",
    "\n",
    "    scores[category].append(upvote_ratio)\n",
    "\n",
    "scores"
   ]
  },
  {
   "cell_type": "code",
   "execution_count": 11,
   "id": "c52ff442-c7ea-426a-826c-142cbe2fe943",
   "metadata": {},
   "outputs": [
    {
     "data": {
      "text/plain": [
       "{True: 0.97, False: 0.9341666666666667}"
      ]
     },
     "execution_count": 11,
     "metadata": {},
     "output_type": "execute_result"
    }
   ],
   "source": [
    "from statistics import mean\n",
    "\n",
    "{\n",
    "    category: mean(score_list)\n",
    "    for category, score_list\n",
    "    in scores.items()\n",
    "}"
   ]
  },
  {
   "cell_type": "markdown",
   "id": "bc3e8215-f4ef-4b4d-a5c5-4b33bbeabd7a",
   "metadata": {},
   "source": [
    "Or, alternatively, using pandas:"
   ]
  },
  {
   "cell_type": "code",
   "execution_count": 12,
   "id": "7c2137b7-cd7d-4c26-ad1d-b65e0ec4201c",
   "metadata": {},
   "outputs": [],
   "source": [
    "import pandas as pd"
   ]
  },
  {
   "cell_type": "code",
   "execution_count": 13,
   "id": "55146d65-9407-4132-95a2-ee7552ef1b7a",
   "metadata": {},
   "outputs": [
    {
     "data": {
      "text/html": [
       "<div>\n",
       "<style scoped>\n",
       "    .dataframe tbody tr th:only-of-type {\n",
       "        vertical-align: middle;\n",
       "    }\n",
       "\n",
       "    .dataframe tbody tr th {\n",
       "        vertical-align: top;\n",
       "    }\n",
       "\n",
       "    .dataframe thead th {\n",
       "        text-align: right;\n",
       "    }\n",
       "</style>\n",
       "<table border=\"1\" class=\"dataframe\">\n",
       "  <thead>\n",
       "    <tr style=\"text-align: right;\">\n",
       "      <th></th>\n",
       "      <th>id</th>\n",
       "      <th>subreddit</th>\n",
       "      <th>upvote_ratio</th>\n",
       "      <th>is_memes</th>\n",
       "    </tr>\n",
       "  </thead>\n",
       "  <tbody>\n",
       "    <tr>\n",
       "      <th>0</th>\n",
       "      <td>yvlc6y</td>\n",
       "      <td>pics</td>\n",
       "      <td>0.95</td>\n",
       "      <td>False</td>\n",
       "    </tr>\n",
       "    <tr>\n",
       "      <th>1</th>\n",
       "      <td>yvjde7</td>\n",
       "      <td>politics</td>\n",
       "      <td>0.90</td>\n",
       "      <td>False</td>\n",
       "    </tr>\n",
       "    <tr>\n",
       "      <th>2</th>\n",
       "      <td>yvj89t</td>\n",
       "      <td>aww</td>\n",
       "      <td>0.96</td>\n",
       "      <td>False</td>\n",
       "    </tr>\n",
       "    <tr>\n",
       "      <th>3</th>\n",
       "      <td>yvjf3r</td>\n",
       "      <td>news</td>\n",
       "      <td>0.85</td>\n",
       "      <td>False</td>\n",
       "    </tr>\n",
       "    <tr>\n",
       "      <th>4</th>\n",
       "      <td>yvje97</td>\n",
       "      <td>WhitePeopleTwitter</td>\n",
       "      <td>0.96</td>\n",
       "      <td>False</td>\n",
       "    </tr>\n",
       "  </tbody>\n",
       "</table>\n",
       "</div>"
      ],
      "text/plain": [
       "       id           subreddit  upvote_ratio  is_memes\n",
       "0  yvlc6y                pics          0.95     False\n",
       "1  yvjde7            politics          0.90     False\n",
       "2  yvj89t                 aww          0.96     False\n",
       "3  yvjf3r                news          0.85     False\n",
       "4  yvje97  WhitePeopleTwitter          0.96     False"
      ]
     },
     "execution_count": 13,
     "metadata": {},
     "output_type": "execute_result"
    }
   ],
   "source": [
    "df = pd.DataFrame.from_records(trimmed_posts)\n",
    "df.head()"
   ]
  },
  {
   "cell_type": "code",
   "execution_count": 15,
   "id": "0d107379-f3ec-4206-9e94-f60da3844712",
   "metadata": {},
   "outputs": [
    {
     "data": {
      "text/html": [
       "<div>\n",
       "<style scoped>\n",
       "    .dataframe tbody tr th:only-of-type {\n",
       "        vertical-align: middle;\n",
       "    }\n",
       "\n",
       "    .dataframe tbody tr th {\n",
       "        vertical-align: top;\n",
       "    }\n",
       "\n",
       "    .dataframe thead th {\n",
       "        text-align: right;\n",
       "    }\n",
       "</style>\n",
       "<table border=\"1\" class=\"dataframe\">\n",
       "  <thead>\n",
       "    <tr style=\"text-align: right;\">\n",
       "      <th></th>\n",
       "      <th>count</th>\n",
       "      <th>mean</th>\n",
       "      <th>std</th>\n",
       "    </tr>\n",
       "    <tr>\n",
       "      <th>is_memes</th>\n",
       "      <th></th>\n",
       "      <th></th>\n",
       "      <th></th>\n",
       "    </tr>\n",
       "  </thead>\n",
       "  <tbody>\n",
       "    <tr>\n",
       "      <th>False</th>\n",
       "      <td>24.0</td>\n",
       "      <td>0.934167</td>\n",
       "      <td>0.040531</td>\n",
       "    </tr>\n",
       "    <tr>\n",
       "      <th>True</th>\n",
       "      <td>1.0</td>\n",
       "      <td>0.970000</td>\n",
       "      <td>NaN</td>\n",
       "    </tr>\n",
       "  </tbody>\n",
       "</table>\n",
       "</div>"
      ],
      "text/plain": [
       "          count      mean       std\n",
       "is_memes                           \n",
       "False      24.0  0.934167  0.040531\n",
       "True        1.0  0.970000       NaN"
      ]
     },
     "execution_count": 15,
     "metadata": {},
     "output_type": "execute_result"
    }
   ],
   "source": [
    "df.groupby(\"is_memes\")[\"upvote_ratio\"].describe().loc[:, \"count\":\"std\"]"
   ]
  },
  {
   "cell_type": "markdown",
   "id": "cb19e196-fe01-4e69-b30b-304f9c1e9784",
   "metadata": {
    "tags": []
   },
   "source": [
    "### Appendix: `**kwargs`\n",
    "\n",
    "The special `**kwargs` syntax is often found in function definitions. The important part is not the name of the variable (although most people use `kwargs`), but the double star `**` or **unpacking**: it transforms all the named function parameters to a dictionary."
   ]
  },
  {
   "cell_type": "code",
   "execution_count": 16,
   "id": "a77fcf48-9bf0-47cb-b90f-c9e89bffcf26",
   "metadata": {},
   "outputs": [],
   "source": [
    "def accept_parameters(**kwargs):\n",
    "    return kwargs"
   ]
  },
  {
   "cell_type": "code",
   "execution_count": 17,
   "id": "03503398-fbd3-4a48-b8af-ff8ada922079",
   "metadata": {},
   "outputs": [
    {
     "data": {
      "text/plain": [
       "{'a': 1, 'b': [2, 3, 4]}"
      ]
     },
     "execution_count": 17,
     "metadata": {},
     "output_type": "execute_result"
    }
   ],
   "source": [
    "accept_parameters(a=1, b=[2, 3, 4])"
   ]
  }
 ],
 "metadata": {
  "kernelspec": {
   "display_name": "Python 3 (ipykernel)",
   "language": "python",
   "name": "python3"
  },
  "language_info": {
   "codemirror_mode": {
    "name": "ipython",
    "version": 3
   },
   "file_extension": ".py",
   "mimetype": "text/x-python",
   "name": "python",
   "nbconvert_exporter": "python",
   "pygments_lexer": "ipython3",
   "version": "3.9.12"
  }
 },
 "nbformat": 4,
 "nbformat_minor": 5
}
