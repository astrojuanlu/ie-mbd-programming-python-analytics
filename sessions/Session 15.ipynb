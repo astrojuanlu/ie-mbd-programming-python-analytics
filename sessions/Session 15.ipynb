{
 "cells": [
  {
   "cell_type": "markdown",
   "id": "e15c3b63-b202-43b3-b431-33440054cfd0",
   "metadata": {},
   "source": [
    "## Data\n",
    "\n",
    "Use `commission-lobbists-meetings.csv`."
   ]
  },
  {
   "cell_type": "markdown",
   "id": "d65e00fc-1850-4ce6-826d-4ff59e3282da",
   "metadata": {},
   "source": [
    "## Exercises\n",
    "\n",
    "### 1. Data cleaning\n",
    "\n",
    "Read the `commission-lobbists-meetings.csv` file. There are some unnamed columns at the end. Can we discard them? To find out, check how many unique values are there.\n",
    "\n",
    "Drop the columns that only have 1 unique value (and therefore don't add any difference)."
   ]
  },
  {
   "cell_type": "markdown",
   "id": "30e91621-99a6-406f-89fe-75843509cf0f",
   "metadata": {},
   "source": [
    "### 2. Basic data exploration\n",
    "\n",
    "- What are the 10 most common lobbyists overall? And the 10 most common lobbyists for health and non-health-related meetings separately?\n",
    "- What are the 10 most common portfolios and subjects?\n",
    "- How many distinct values of portfolios and subjects are there?"
   ]
  },
  {
   "cell_type": "markdown",
   "id": "42fad8f3-12e9-4e59-b348-f734a1e175a1",
   "metadata": {},
   "source": [
    "### 3. Big Tech\n",
    "\n",
    "- What are the portfolios and subjects with the biggest number of lobby meetings attended by Google?\n",
    "- Which other FAANGs (Meta, Amazon, Apple, Netflix, Alphabet) are present in the lobbyists?\n",
    "- Create a new column `is_faang` with the value `True` if the lobbyist is one of those companies, `False` otherwise"
   ]
  },
  {
   "cell_type": "markdown",
   "id": "0ee88642-21be-403e-b4de-2faa49462024",
   "metadata": {},
   "source": [
    "### 4. Lockdowns\n",
    "\n",
    "- The `location` field also indicates whether a meeting was virtual or not. Study what words identify such meetings.\n",
    "- Create a variable `is_remote` with `True` if the meeting was remove, `False` otherwise\n",
    "- How many meetings were remote in total in the dataset?"
   ]
  },
  {
   "cell_type": "markdown",
   "id": "78675d43-9ff6-4def-87be-a410f21e0224",
   "metadata": {},
   "source": [
    "### Extra\n",
    "\n",
    "- Which are the 3 portfolios with the biggest and smallest number of subjects?\n",
    "- Display the evolution of remote vs non-remote meetings\n",
    "- Extract any other interesting insights"
   ]
  }
 ],
 "metadata": {
  "kernelspec": {
   "display_name": "Python 3 (ipykernel)",
   "language": "python",
   "name": "python3"
  },
  "language_info": {
   "codemirror_mode": {
    "name": "ipython",
    "version": 3
   },
   "file_extension": ".py",
   "mimetype": "text/x-python",
   "name": "python",
   "nbconvert_exporter": "python",
   "pygments_lexer": "ipython3",
   "version": "3.9.12"
  }
 },
 "nbformat": 4,
 "nbformat_minor": 5
}
