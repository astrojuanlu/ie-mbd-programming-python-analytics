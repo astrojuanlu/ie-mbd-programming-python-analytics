{
 "cells": [
  {
   "cell_type": "code",
   "execution_count": 1,
   "id": "097bf548-74ee-4ca1-ae9a-aecdda9234c2",
   "metadata": {
    "execution": {
     "iopub.execute_input": "2022-10-07T13:33:42.604621Z",
     "iopub.status.busy": "2022-10-07T13:33:42.604417Z",
     "iopub.status.idle": "2022-10-07T13:33:42.611517Z",
     "shell.execute_reply": "2022-10-07T13:33:42.611212Z",
     "shell.execute_reply.started": "2022-10-07T13:33:42.604581Z"
    }
   },
   "outputs": [
    {
     "data": {
      "text/plain": [
       "\"Tim O'Reilly\""
      ]
     },
     "execution_count": 1,
     "metadata": {},
     "output_type": "execute_result"
    }
   ],
   "source": [
    "name = \"Tim O'Reilly\"\n",
    "name"
   ]
  },
  {
   "cell_type": "code",
   "execution_count": 2,
   "id": "400ae0d3-e968-4e59-a8eb-098918d54dac",
   "metadata": {
    "execution": {
     "iopub.execute_input": "2022-10-07T13:33:51.549749Z",
     "iopub.status.busy": "2022-10-07T13:33:51.549332Z",
     "iopub.status.idle": "2022-10-07T13:33:51.552276Z",
     "shell.execute_reply": "2022-10-07T13:33:51.551985Z",
     "shell.execute_reply.started": "2022-10-07T13:33:51.549730Z"
    }
   },
   "outputs": [
    {
     "data": {
      "text/plain": [
       "\"tim o'reilly\""
      ]
     },
     "execution_count": 2,
     "metadata": {},
     "output_type": "execute_result"
    }
   ],
   "source": [
    "name.lower()"
   ]
  },
  {
   "cell_type": "code",
   "execution_count": 3,
   "id": "9a70567c-1c5c-455e-b3e8-605b40c3ec27",
   "metadata": {
    "execution": {
     "iopub.execute_input": "2022-10-07T13:33:57.553438Z",
     "iopub.status.busy": "2022-10-07T13:33:57.553237Z",
     "iopub.status.idle": "2022-10-07T13:33:57.555989Z",
     "shell.execute_reply": "2022-10-07T13:33:57.555741Z",
     "shell.execute_reply.started": "2022-10-07T13:33:57.553425Z"
    }
   },
   "outputs": [
    {
     "data": {
      "text/plain": [
       "\"Tom O'Reolly\""
      ]
     },
     "execution_count": 3,
     "metadata": {},
     "output_type": "execute_result"
    }
   ],
   "source": [
    "name.replace(\"i\", \"o\")"
   ]
  },
  {
   "cell_type": "code",
   "execution_count": 7,
   "id": "4b5d005c-754a-4a7c-a2de-93759f239922",
   "metadata": {
    "execution": {
     "iopub.execute_input": "2022-10-07T13:34:27.158753Z",
     "iopub.status.busy": "2022-10-07T13:34:27.158549Z",
     "iopub.status.idle": "2022-10-07T13:34:27.162807Z",
     "shell.execute_reply": "2022-10-07T13:34:27.162560Z",
     "shell.execute_reply.started": "2022-10-07T13:34:27.158734Z"
    },
    "tags": []
   },
   "outputs": [
    {
     "data": {
      "text/plain": [
       "\"Tim O'Reilly\""
      ]
     },
     "execution_count": 7,
     "metadata": {},
     "output_type": "execute_result"
    }
   ],
   "source": [
    "name.lower().title()"
   ]
  },
  {
   "cell_type": "code",
   "execution_count": 8,
   "id": "707ffef5-4f95-45dd-a6d6-88a468022bd9",
   "metadata": {
    "execution": {
     "iopub.execute_input": "2022-10-07T13:34:33.018221Z",
     "iopub.status.busy": "2022-10-07T13:34:33.017927Z",
     "iopub.status.idle": "2022-10-07T13:34:33.023034Z",
     "shell.execute_reply": "2022-10-07T13:34:33.022547Z",
     "shell.execute_reply.started": "2022-10-07T13:34:33.018196Z"
    }
   },
   "outputs": [
    {
     "data": {
      "text/plain": [
       "\"    Tim O'Reilly    \""
      ]
     },
     "execution_count": 8,
     "metadata": {},
     "output_type": "execute_result"
    }
   ],
   "source": [
    "name.center(20)"
   ]
  },
  {
   "cell_type": "code",
   "execution_count": 9,
   "id": "9b8dfa09-c9df-4bdc-96dc-bff2024abba5",
   "metadata": {
    "execution": {
     "iopub.execute_input": "2022-10-07T13:34:40.828141Z",
     "iopub.status.busy": "2022-10-07T13:34:40.828017Z",
     "iopub.status.idle": "2022-10-07T13:34:40.831467Z",
     "shell.execute_reply": "2022-10-07T13:34:40.831133Z",
     "shell.execute_reply.started": "2022-10-07T13:34:40.828130Z"
    }
   },
   "outputs": [
    {
     "data": {
      "text/plain": [
       "\"tIM o'rEILLY\""
      ]
     },
     "execution_count": 9,
     "metadata": {},
     "output_type": "execute_result"
    }
   ],
   "source": [
    "name.swapcase()"
   ]
  },
  {
   "cell_type": "code",
   "execution_count": 10,
   "id": "76e23321-74ab-42f3-8924-b7298581202f",
   "metadata": {
    "execution": {
     "iopub.execute_input": "2022-10-07T13:35:18.428652Z",
     "iopub.status.busy": "2022-10-07T13:35:18.428129Z",
     "iopub.status.idle": "2022-10-07T13:35:18.434150Z",
     "shell.execute_reply": "2022-10-07T13:35:18.433686Z",
     "shell.execute_reply.started": "2022-10-07T13:35:18.428610Z"
    }
   },
   "outputs": [
    {
     "name": "stdout",
     "output_type": "stream",
     "text": [
      "[49, 0, 47, 0, 45, 0, 43, 0, 41, 0, 39, 0, 37, 0, 35, 0, 33, 0, 31, 0, 29, 0, 27, 0, 25, 0, 23, 0, 21, 0, 19, 0, 17, 0, 15, 0, 13, 0, 11, 0, 9, 0, 7, 0, 5, 0, 3, 0, 1, 0]\n"
     ]
    }
   ],
   "source": [
    "weird_list = list(range(50))[::-1]\n",
    "weird_list[1::2] = [0] * 25\n",
    "print(weird_list)"
   ]
  },
  {
   "cell_type": "code",
   "execution_count": 12,
   "id": "ebe4e2a0-3953-42b0-ac4a-bebceccdc0df",
   "metadata": {
    "execution": {
     "iopub.execute_input": "2022-10-07T13:37:32.321190Z",
     "iopub.status.busy": "2022-10-07T13:37:32.320936Z",
     "iopub.status.idle": "2022-10-07T13:37:32.324253Z",
     "shell.execute_reply": "2022-10-07T13:37:32.323969Z",
     "shell.execute_reply.started": "2022-10-07T13:37:32.321168Z"
    },
    "tags": []
   },
   "outputs": [],
   "source": [
    "passengers = [\n",
    "    \"Braund, Mr. Owen Harris\",\n",
    "    \"Cumings, Mrs. John Bradley (Florence Briggs Thayer)\",\n",
    "    \"Heikkinen, Miss. Laina\",\n",
    "    \"Futrelle, Mrs. Jacques Heath (Lily May Peel)\",\n",
    "    \"Allen, Mr. William Henry\",\n",
    "]"
   ]
  },
  {
   "cell_type": "code",
   "execution_count": 14,
   "id": "13345d6b-827a-488f-a3aa-4d4c9dd46f21",
   "metadata": {
    "execution": {
     "iopub.execute_input": "2022-10-07T13:38:02.697818Z",
     "iopub.status.busy": "2022-10-07T13:38:02.697593Z",
     "iopub.status.idle": "2022-10-07T13:38:02.701090Z",
     "shell.execute_reply": "2022-10-07T13:38:02.700761Z",
     "shell.execute_reply.started": "2022-10-07T13:38:02.697799Z"
    },
    "tags": []
   },
   "outputs": [
    {
     "data": {
      "text/plain": [
       "'Mr'"
      ]
     },
     "execution_count": 14,
     "metadata": {},
     "output_type": "execute_result"
    }
   ],
   "source": [
    "passengers[0].split(\",\")[1].split(\".\")[0].strip()"
   ]
  },
  {
   "cell_type": "code",
   "execution_count": 15,
   "id": "da188151-9e7a-4c69-ba19-65fe14c9fccc",
   "metadata": {
    "execution": {
     "iopub.execute_input": "2022-10-07T13:38:12.288660Z",
     "iopub.status.busy": "2022-10-07T13:38:12.288473Z",
     "iopub.status.idle": "2022-10-07T13:38:12.291892Z",
     "shell.execute_reply": "2022-10-07T13:38:12.291495Z",
     "shell.execute_reply.started": "2022-10-07T13:38:12.288646Z"
    },
    "tags": []
   },
   "outputs": [
    {
     "data": {
      "text/plain": [
       "'Mrs'"
      ]
     },
     "execution_count": 15,
     "metadata": {},
     "output_type": "execute_result"
    }
   ],
   "source": [
    "passengers[1].split(\",\")[1].split(\".\")[0].strip()"
   ]
  },
  {
   "cell_type": "code",
   "execution_count": 16,
   "id": "80ea6ab9-e059-4f9d-8f2e-b91dce7f1420",
   "metadata": {
    "execution": {
     "iopub.execute_input": "2022-10-07T13:38:15.677783Z",
     "iopub.status.busy": "2022-10-07T13:38:15.677662Z",
     "iopub.status.idle": "2022-10-07T13:38:15.680689Z",
     "shell.execute_reply": "2022-10-07T13:38:15.680425Z",
     "shell.execute_reply.started": "2022-10-07T13:38:15.677772Z"
    },
    "tags": []
   },
   "outputs": [
    {
     "data": {
      "text/plain": [
       "'Miss'"
      ]
     },
     "execution_count": 16,
     "metadata": {},
     "output_type": "execute_result"
    }
   ],
   "source": [
    "passengers[2].split(\",\")[1].split(\".\")[0].strip()"
   ]
  },
  {
   "cell_type": "markdown",
   "id": "bd2af585-dbc0-467e-a497-55d9dbffb8fc",
   "metadata": {},
   "source": [
    "<div class=\"alert alert-info\">See Session 03 for a way to iterate the list of passengers</div>"
   ]
  }
 ],
 "metadata": {
  "kernelspec": {
   "display_name": "Python 3 (ipykernel)",
   "language": "python",
   "name": "python3"
  },
  "language_info": {
   "codemirror_mode": {
    "name": "ipython",
    "version": 3
   },
   "file_extension": ".py",
   "mimetype": "text/x-python",
   "name": "python",
   "nbconvert_exporter": "python",
   "pygments_lexer": "ipython3",
   "version": "3.9.12"
  }
 },
 "nbformat": 4,
 "nbformat_minor": 5
}
