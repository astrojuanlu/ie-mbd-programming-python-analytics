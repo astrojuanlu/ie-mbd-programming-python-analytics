{
 "cells": [
  {
   "cell_type": "code",
   "execution_count": 1,
   "id": "40cb7847-ebd7-40cf-9067-d13346331dab",
   "metadata": {},
   "outputs": [
    {
     "name": "stdout",
     "output_type": "stream",
     "text": [
      "31\n"
     ]
    }
   ],
   "source": [
    "age = 30\n",
    "age = age + 1\n",
    "print(age)"
   ]
  },
  {
   "cell_type": "code",
   "execution_count": 2,
   "id": "191f86d7-f33b-44b5-a3ef-ec5a776dcb2d",
   "metadata": {},
   "outputs": [
    {
     "name": "stdout",
     "output_type": "stream",
     "text": [
      "Juan LuisCano\n"
     ]
    }
   ],
   "source": [
    "first_name = \"Juan Luis\"\n",
    "last_name = \"Cano\"\n",
    "print(first_name + last_name)"
   ]
  },
  {
   "cell_type": "code",
   "execution_count": 3,
   "id": "1e2693d3-fff1-46fc-9170-f31ce4e2686e",
   "metadata": {},
   "outputs": [
    {
     "name": "stdout",
     "output_type": "stream",
     "text": [
      "e\n"
     ]
    }
   ],
   "source": [
    "name = \"John Doe\"\n",
    "print(name[-1])"
   ]
  },
  {
   "cell_type": "code",
   "execution_count": 10,
   "id": "0047a912-0845-4b2d-aad6-05ca31572f6d",
   "metadata": {},
   "outputs": [
    {
     "name": "stdout",
     "output_type": "stream",
     "text": [
      "*hsi l*\n"
     ]
    }
   ],
   "source": [
    "sentence = \"This is slicing syntax\"\n",
    "print(\"*\" + sentence[1:10:2] + \"*\")"
   ]
  },
  {
   "cell_type": "code",
   "execution_count": 14,
   "id": "4fba856d-10c6-4876-a71c-1a6cea5edaad",
   "metadata": {},
   "outputs": [
    {
     "name": "stdout",
     "output_type": "stream",
     "text": [
      "blhese\n"
     ]
    }
   ],
   "source": [
    "#                                      *  *  *  *\n",
    "#                 0         1         2         3         \n",
    "#                 0123456789012345678901234567890123456789\n",
    "tongue_twister = \"She sells seashells by the seashore\"\n",
    "print(tongue_twister[20:3:-3])"
   ]
  },
  {
   "cell_type": "code",
   "execution_count": 20,
   "id": "b0b70720-259d-4976-a26f-c31779de7504",
   "metadata": {},
   "outputs": [
    {
     "name": "stdout",
     "output_type": "stream",
     "text": [
      "Tom O'Reolly\n"
     ]
    }
   ],
   "source": [
    "name = \"Tim O'Reilly\"\n",
    "print(name.replace(\"i\", \"o\"))"
   ]
  },
  {
   "cell_type": "code",
   "execution_count": 21,
   "id": "b6996a1d-0911-4263-87df-4b41f5338a6b",
   "metadata": {},
   "outputs": [
    {
     "name": "stdout",
     "output_type": "stream",
     "text": [
      "[0, 1, 2, 3, 4, 5, 6, 7, 8, 9]\n"
     ]
    }
   ],
   "source": [
    "print(list(range(10)))"
   ]
  },
  {
   "cell_type": "code",
   "execution_count": 29,
   "id": "4229c6f2-132c-4fda-8f38-0119e39293f5",
   "metadata": {},
   "outputs": [],
   "source": [
    "my_tuple = (1, 2, 3)"
   ]
  },
  {
   "cell_type": "code",
   "execution_count": 24,
   "id": "b787fda8-51be-4422-854d-4559fe257af9",
   "metadata": {},
   "outputs": [
    {
     "data": {
      "text/plain": [
       "(1, 2, 3, 4)"
      ]
     },
     "execution_count": 24,
     "metadata": {},
     "output_type": "execute_result"
    }
   ],
   "source": [
    "my_tuple + (4,)"
   ]
  },
  {
   "cell_type": "code",
   "execution_count": 25,
   "id": "05d02ff3-5193-41e7-b2c1-be9a3b621e2e",
   "metadata": {},
   "outputs": [
    {
     "data": {
      "text/plain": [
       "(1, 2, 3)"
      ]
     },
     "execution_count": 25,
     "metadata": {},
     "output_type": "execute_result"
    }
   ],
   "source": [
    "my_tuple"
   ]
  },
  {
   "cell_type": "code",
   "execution_count": 26,
   "id": "055aad41-e245-40e0-82c7-b3d401868c7f",
   "metadata": {},
   "outputs": [],
   "source": [
    "my_list = [1, 2, 3]"
   ]
  },
  {
   "cell_type": "code",
   "execution_count": 27,
   "id": "f0b32f80-904b-4956-97bb-f7f61fb93776",
   "metadata": {},
   "outputs": [],
   "source": [
    "my_list.append(4)"
   ]
  },
  {
   "cell_type": "code",
   "execution_count": 28,
   "id": "76980f5b-a944-4449-b65b-59ef5cd15c71",
   "metadata": {},
   "outputs": [
    {
     "data": {
      "text/plain": [
       "[1, 2, 3, 4]"
      ]
     },
     "execution_count": 28,
     "metadata": {},
     "output_type": "execute_result"
    }
   ],
   "source": [
    "my_list"
   ]
  },
  {
   "cell_type": "code",
   "execution_count": 37,
   "id": "141fabab-1c1d-4699-9a7d-de9dce851e62",
   "metadata": {},
   "outputs": [
    {
     "ename": "TypeError",
     "evalue": "'tuple' object does not support item assignment",
     "output_type": "error",
     "traceback": [
      "\u001b[0;31m---------------------------------------------------------------------------\u001b[0m",
      "\u001b[0;31mTypeError\u001b[0m                                 Traceback (most recent call last)",
      "Input \u001b[0;32mIn [37]\u001b[0m, in \u001b[0;36m<cell line: 2>\u001b[0;34m()\u001b[0m\n\u001b[1;32m      1\u001b[0m container \u001b[38;5;241m=\u001b[39m \u001b[38;5;241m1\u001b[39m, \u001b[38;5;241m2.0\u001b[39m, \u001b[38;5;124m\"\u001b[39m\u001b[38;5;124m3\u001b[39m\u001b[38;5;124m\"\u001b[39m, \u001b[38;5;124m\"\u001b[39m\u001b[38;5;124mfour\u001b[39m\u001b[38;5;124m\"\u001b[39m\n\u001b[0;32m----> 2\u001b[0m container[\u001b[38;5;241m-\u001b[39m\u001b[38;5;241m1\u001b[39m] \u001b[38;5;241m=\u001b[39m \u001b[38;5;124m\"\u001b[39m\u001b[38;5;124mx\u001b[39m\u001b[38;5;124m\"\u001b[39m\n\u001b[1;32m      3\u001b[0m \u001b[38;5;28mprint\u001b[39m(container)\n",
      "\u001b[0;31mTypeError\u001b[0m: 'tuple' object does not support item assignment"
     ]
    }
   ],
   "source": [
    "container = 1, 2.0, \"3\", \"four\"\n",
    "container[-1] = \"x\"\n",
    "print(container)"
   ]
  },
  {
   "cell_type": "code",
   "execution_count": 36,
   "id": "7caa131a-b30f-4c7b-a3fb-23895302d8eb",
   "metadata": {},
   "outputs": [
    {
     "data": {
      "text/plain": [
       "tuple"
      ]
     },
     "execution_count": 36,
     "metadata": {},
     "output_type": "execute_result"
    }
   ],
   "source": [
    "type(container)"
   ]
  },
  {
   "cell_type": "code",
   "execution_count": 38,
   "id": "6406ab18-4e8e-4537-b680-fd6f9fb3d232",
   "metadata": {},
   "outputs": [
    {
     "ename": "AttributeError",
     "evalue": "'tuple' object has no attribute 'append'",
     "output_type": "error",
     "traceback": [
      "\u001b[0;31m---------------------------------------------------------------------------\u001b[0m",
      "\u001b[0;31mAttributeError\u001b[0m                            Traceback (most recent call last)",
      "Input \u001b[0;32mIn [38]\u001b[0m, in \u001b[0;36m<cell line: 2>\u001b[0;34m()\u001b[0m\n\u001b[1;32m      1\u001b[0m container \u001b[38;5;241m=\u001b[39m \u001b[38;5;241m1\u001b[39m, \u001b[38;5;241m2.0\u001b[39m, \u001b[38;5;124m\"\u001b[39m\u001b[38;5;124m3\u001b[39m\u001b[38;5;124m\"\u001b[39m, \u001b[38;5;124m\"\u001b[39m\u001b[38;5;124mfour\u001b[39m\u001b[38;5;124m\"\u001b[39m\n\u001b[0;32m----> 2\u001b[0m \u001b[43mcontainer\u001b[49m\u001b[38;5;241;43m.\u001b[39;49m\u001b[43mappend\u001b[49m(\u001b[38;5;124m\"\u001b[39m\u001b[38;5;124mx\u001b[39m\u001b[38;5;124m\"\u001b[39m)\n\u001b[1;32m      3\u001b[0m \u001b[38;5;28mprint\u001b[39m(container)\n",
      "\u001b[0;31mAttributeError\u001b[0m: 'tuple' object has no attribute 'append'"
     ]
    }
   ],
   "source": [
    "container = 1, 2.0, \"3\", \"four\"\n",
    "container.append(\"x\")\n",
    "print(container)"
   ]
  },
  {
   "cell_type": "code",
   "execution_count": 49,
   "id": "838d407f-fce1-4e1f-8787-5cb926f91379",
   "metadata": {},
   "outputs": [
    {
     "name": "stdout",
     "output_type": "stream",
     "text": [
      "jcano\n"
     ]
    }
   ],
   "source": [
    "print(\n",
    "    \"jcano@faculty.ie.edu\".split(\"@\")[0].split(\".\")\n",
    "    [0]  # Indexing a list returns a string\n",
    ")"
   ]
  },
  {
   "cell_type": "code",
   "execution_count": 55,
   "id": "a5ac494d-21dc-4329-bdcc-b59b118bc67a",
   "metadata": {},
   "outputs": [
    {
     "name": "stdout",
     "output_type": "stream",
     "text": [
      "['jcano']\n"
     ]
    }
   ],
   "source": [
    "print(\n",
    "    \"jcano@faculty.ie.edu\".split(\"@\")[0].split(\".\")\n",
    "    [-2:]  # Slicing a list returns another list\n",
    ")"
   ]
  },
  {
   "cell_type": "code",
   "execution_count": 60,
   "id": "fb07d03a-8310-405b-b8e6-a2db8668ef91",
   "metadata": {},
   "outputs": [
    {
     "name": "stdout",
     "output_type": "stream",
     "text": [
      "4\n"
     ]
    }
   ],
   "source": [
    "var = print(2 + 2)"
   ]
  },
  {
   "cell_type": "code",
   "execution_count": 61,
   "id": "2df1010a-d73e-4bee-84f1-efd8d8e63140",
   "metadata": {},
   "outputs": [],
   "source": [
    "var"
   ]
  },
  {
   "cell_type": "code",
   "execution_count": 62,
   "id": "f51da2da-aa0b-4138-a840-0c5599e61a5e",
   "metadata": {},
   "outputs": [
    {
     "name": "stdout",
     "output_type": "stream",
     "text": [
      "None\n"
     ]
    }
   ],
   "source": [
    "print(var)"
   ]
  },
  {
   "cell_type": "code",
   "execution_count": 63,
   "id": "84ad01be-2426-4a28-ad80-b6f69b4b11b9",
   "metadata": {},
   "outputs": [
    {
     "name": "stdout",
     "output_type": "stream",
     "text": [
      "You cannot drive yet\n",
      "Out of the conditional\n"
     ]
    }
   ],
   "source": [
    "age = 16\n",
    "if age >= 18:\n",
    "    print(\"You can drive\")\n",
    "elif age < 0:\n",
    "    print(\"The age is invalid\")\n",
    "else:\n",
    "    print(\"You cannot drive yet\")\n",
    "print(\"Out of the conditional\")"
   ]
  },
  {
   "cell_type": "code",
   "execution_count": 64,
   "id": "bc4a35b3-e084-4cec-8483-dc2e24384e94",
   "metadata": {},
   "outputs": [
    {
     "name": "stdout",
     "output_type": "stream",
     "text": [
      "T\n",
      "i\n",
      "m\n",
      "Whitespace detected:\n",
      " \n",
      "O\n",
      "'\n",
      "R\n",
      "e\n",
      "i\n",
      "l\n",
      "l\n",
      "y\n"
     ]
    }
   ],
   "source": [
    "name = \"Tim O'Reilly\"\n",
    "for character in name:\n",
    "    if character == \" \":\n",
    "        print(\"Whitespace detected:\")\n",
    "    print(character)"
   ]
  },
  {
   "cell_type": "code",
   "execution_count": 65,
   "id": "bb91770d-5f8b-4080-a801-19d5ca2f1769",
   "metadata": {},
   "outputs": [
    {
     "name": "stdout",
     "output_type": "stream",
     "text": [
      "1\n",
      "3\n",
      "Number is divisible by 3\n",
      "5\n",
      "7\n",
      "9\n",
      "Number is divisible by 3\n"
     ]
    }
   ],
   "source": [
    "for number in range(1, 10, 2):\n",
    "    print(number)\n",
    "    if number % 3 == 0:\n",
    "        print(\"Number is divisible by 3\")"
   ]
  },
  {
   "cell_type": "code",
   "execution_count": 67,
   "id": "b3179769-7bc7-4018-aba1-06481455fdcb",
   "metadata": {},
   "outputs": [
    {
     "data": {
      "text/plain": [
       "1.1"
      ]
     },
     "execution_count": 67,
     "metadata": {},
     "output_type": "execute_result"
    }
   ],
   "source": [
    "1 + 0.1"
   ]
  },
  {
   "cell_type": "code",
   "execution_count": 66,
   "id": "ffe9f935-e4c8-4fc7-bf56-f50307910c40",
   "metadata": {},
   "outputs": [
    {
     "data": {
      "text/plain": [
       "0.30000000000000004"
      ]
     },
     "execution_count": 66,
     "metadata": {},
     "output_type": "execute_result"
    }
   ],
   "source": [
    "0.1 + 0.2"
   ]
  },
  {
   "cell_type": "code",
   "execution_count": 70,
   "id": "74e57f3b-5542-418d-847c-b72c6d061d3f",
   "metadata": {},
   "outputs": [
    {
     "data": {
      "text/plain": [
       "3151467154836"
      ]
     },
     "execution_count": 70,
     "metadata": {},
     "output_type": "execute_result"
    }
   ],
   "source": [
    "13454354 * 234234"
   ]
  },
  {
   "cell_type": "code",
   "execution_count": 71,
   "id": "aa2dc236-794e-4cd0-9010-6f24e4a0ac8c",
   "metadata": {},
   "outputs": [
    {
     "data": {
      "text/plain": [
       "2"
      ]
     },
     "execution_count": 71,
     "metadata": {},
     "output_type": "execute_result"
    }
   ],
   "source": [
    "4 // 2"
   ]
  },
  {
   "cell_type": "code",
   "execution_count": 72,
   "id": "abcc9696-74ff-41e3-ac3a-705c41d505b5",
   "metadata": {},
   "outputs": [
    {
     "data": {
      "text/plain": [
       "0"
      ]
     },
     "execution_count": 72,
     "metadata": {},
     "output_type": "execute_result"
    }
   ],
   "source": [
    "1 // 3"
   ]
  },
  {
   "cell_type": "code",
   "execution_count": 69,
   "id": "93b9ec4c-d44b-4246-a3c2-f9394e5a1fa4",
   "metadata": {},
   "outputs": [
    {
     "data": {
      "text/plain": [
       "2.0"
      ]
     },
     "execution_count": 69,
     "metadata": {},
     "output_type": "execute_result"
    }
   ],
   "source": [
    "4 / 2"
   ]
  },
  {
   "cell_type": "code",
   "execution_count": 68,
   "id": "f0273d76-6d94-4be4-86bb-b22a93c1ca62",
   "metadata": {},
   "outputs": [
    {
     "data": {
      "text/plain": [
       "0.3333333333333333"
      ]
     },
     "execution_count": 68,
     "metadata": {},
     "output_type": "execute_result"
    }
   ],
   "source": [
    "1 / 3"
   ]
  },
  {
   "cell_type": "code",
   "execution_count": 73,
   "id": "91911156-7934-4baa-b177-47bf7ff89a94",
   "metadata": {},
   "outputs": [
    {
     "name": "stdout",
     "output_type": "stream",
     "text": [
      "7\n"
     ]
    }
   ],
   "source": [
    "def sum_sequence(seq):\n",
    "    result = 1\n",
    "    for element in seq:\n",
    "        result = result + element\n",
    "    return result\n",
    " \n",
    "print(sum_sequence([1, 2, 3]))"
   ]
  },
  {
   "cell_type": "code",
   "execution_count": 77,
   "id": "1f4fa99e-b40e-4e40-be6e-a0903985b294",
   "metadata": {},
   "outputs": [
    {
     "data": {
      "text/plain": [
       "[(1, 40, 'male', 10.2),\n",
       " (2, 50, 'female', 5.4),\n",
       " (3, 23, 'female', 8.0),\n",
       " (4, 18, 'male', 2.5),\n",
       " (1, 40, 'male', 10.2),\n",
       " (2, 50, 'female', 5.4),\n",
       " (3, 23, 'female', 8.0),\n",
       " (4, 18, 'male', 2.5),\n",
       " (1, 40, 'male', 10.2),\n",
       " (2, 50, 'female', 5.4),\n",
       " (3, 23, 'female', 8.0),\n",
       " (4, 18, 'male', 2.5)]"
      ]
     },
     "execution_count": 77,
     "metadata": {},
     "output_type": "execute_result"
    }
   ],
   "source": [
    "clients * 3"
   ]
  },
  {
   "cell_type": "code",
   "execution_count": 86,
   "id": "54fde13b-134f-4dae-98c9-c2b0b7707067",
   "metadata": {},
   "outputs": [
    {
     "name": "stdout",
     "output_type": "stream",
     "text": [
      "[10.2, 5.4, 8.0, 2.5]\n"
     ]
    }
   ],
   "source": [
    "clients = [\n",
    "    (1, 40, \"male\", 10.2),\n",
    "    (2, 50, \"female\", 5.4),\n",
    "    (3, 23, \"female\", 8.0),\n",
    "    (4, 18, \"male\", 2.5),\n",
    "]\n",
    " \n",
    "def extract(clients):\n",
    "    result = []\n",
    "    for client in clients:\n",
    "        result.append(client[3])\n",
    "    return result\n",
    " \n",
    "print(extract(clients))"
   ]
  },
  {
   "cell_type": "code",
   "execution_count": 87,
   "id": "b462caa3-f890-4fba-8a10-9d3280b04fc1",
   "metadata": {},
   "outputs": [
    {
     "data": {
      "text/plain": [
       "([], [])"
      ]
     },
     "execution_count": 87,
     "metadata": {},
     "output_type": "execute_result"
    }
   ],
   "source": [
    "([],[])"
   ]
  },
  {
   "cell_type": "code",
   "execution_count": 88,
   "id": "c36b83f3-d39f-4192-aa02-927bb7d49a1e",
   "metadata": {},
   "outputs": [],
   "source": [
    "_87[0].append(1)"
   ]
  },
  {
   "cell_type": "code",
   "execution_count": 89,
   "id": "ddd281b4-c295-4040-913e-946531079bfa",
   "metadata": {},
   "outputs": [
    {
     "data": {
      "text/plain": [
       "([1], [])"
      ]
     },
     "execution_count": 89,
     "metadata": {},
     "output_type": "execute_result"
    }
   ],
   "source": [
    "_87"
   ]
  },
  {
   "cell_type": "code",
   "execution_count": 91,
   "id": "f0a1fc34-d2d0-4901-9755-74444de57b73",
   "metadata": {},
   "outputs": [
    {
     "ename": "TypeError",
     "evalue": "'tuple' object does not support item assignment",
     "output_type": "error",
     "traceback": [
      "\u001b[0;31m---------------------------------------------------------------------------\u001b[0m",
      "\u001b[0;31mTypeError\u001b[0m                                 Traceback (most recent call last)",
      "Input \u001b[0;32mIn [91]\u001b[0m, in \u001b[0;36m<cell line: 1>\u001b[0;34m()\u001b[0m\n\u001b[0;32m----> 1\u001b[0m _87[\u001b[38;5;241m0\u001b[39m] \u001b[38;5;241m=\u001b[39m \u001b[38;5;124m\"\u001b[39m\u001b[38;5;124mx\u001b[39m\u001b[38;5;124m\"\u001b[39m\n",
      "\u001b[0;31mTypeError\u001b[0m: 'tuple' object does not support item assignment"
     ]
    }
   ],
   "source": [
    "_87[0] = \"x\""
   ]
  },
  {
   "cell_type": "code",
   "execution_count": 92,
   "id": "738a3953-f070-4ded-9df7-2c563eeb8f81",
   "metadata": {},
   "outputs": [
    {
     "name": "stdout",
     "output_type": "stream",
     "text": [
      "{'key_1': 'A', 'key_2': 'B', 'key_3': 'CXX', 'key_4': 'D'}\n"
     ]
    }
   ],
   "source": [
    "my_dictionary = {\n",
    "    \"key_1\": \"A\",\n",
    "    \"key_2\": \"B\",\n",
    "    \"key_3\": \"C\",\n",
    "}\n",
    " \n",
    "my_dictionary[\"key_3\"] = \"CXX\"\n",
    "my_dictionary[\"key_4\"] = \"D\"\n",
    "print(my_dictionary)\n"
   ]
  },
  {
   "cell_type": "code",
   "execution_count": 101,
   "id": "ad98ead8-a3e1-4d75-82cb-d142efe4ef8c",
   "metadata": {},
   "outputs": [
    {
     "name": "stdout",
     "output_type": "stream",
     "text": [
      "key_1 A\n",
      "key_2 B\n",
      "key_3 C\n"
     ]
    }
   ],
   "source": [
    "my_dictionary = {\n",
    "    \"key_1\": \"A\",\n",
    "    \"key_2\": \"B\",\n",
    "    \"key_3\": \"C\",\n",
    "}\n",
    " \n",
    "# for something in my_dictionary:\n",
    "for something in my_dictionary.keys():\n",
    "    print(something, my_dictionary[something])"
   ]
  },
  {
   "cell_type": "code",
   "execution_count": 102,
   "id": "04d0a636-2a9a-4655-9a36-7771e7815390",
   "metadata": {},
   "outputs": [],
   "source": [
    "entities = {\n",
    "  \"hashtags\": [\n",
    "    {\n",
    "      \"text\": \"balboaisland\",\n",
    "      \"indices\": [\n",
    "        21,\n",
    "        34\n",
    "      ]\n",
    "    },\n",
    "    {\n",
    "      \"text\": \"newportbeach\",\n",
    "      \"indices\": [\n",
    "        35,\n",
    "        48\n",
    "      ]\n",
    "    },\n",
    "  ],\n",
    "  \"symbols\": [],\n",
    "  \"user_mentions\": [],\n",
    "  \"urls\": [\n",
    "    {\n",
    "      \"url\": \"https://t.co/px1GCH1bgZ\",\n",
    "      \"expanded_url\": \"https://twitter.com/i/web/status/1252840795737997317\",\n",
    "      \"display_url\": \"twitter.com/i/web/status/1\\u2026\",\n",
    "      \"indices\": [\n",
    "        107,\n",
    "        130\n",
    "      ]\n",
    "    },\n",
    "    {\n",
    "      \"url\": \"https://t.co/ksjdhfksjr\",\n",
    "      \"expanded_url\": \"https://ecosia.org\",\n",
    "      \"display_url\": \"ecosia.org\",\n",
    "      \"indices\": [\n",
    "        131,\n",
    "        145\n",
    "      ]\n",
    "    }\n",
    "  ]\n",
    "}"
   ]
  },
  {
   "cell_type": "code",
   "execution_count": null,
   "id": "857a1187-8a41-4d31-bd54-e2e5d1774f41",
   "metadata": {},
   "outputs": [],
   "source": [
    "def parse_urls(entities):\n",
    "    urls = entities[\"urls\"]\n",
    "    expanded_urls = []\n",
    "    for url_info in urls:\n",
    "        url_tuple = (url_info[\"expanded_url\"],) + tuple(url_info[\"indices\"])\n",
    "        expanded_urls.append(url_tuple)\n",
    "    return expanded_urls\n",
    "print(parse_urls(entities))"
   ]
  },
  {
   "cell_type": "code",
   "execution_count": 110,
   "id": "e459c493-f0f0-4816-b7d9-0677ead97076",
   "metadata": {},
   "outputs": [
    {
     "data": {
      "text/plain": [
       "('xxx', 1, 2)"
      ]
     },
     "execution_count": 110,
     "metadata": {},
     "output_type": "execute_result"
    }
   ],
   "source": [
    "(\"xxx\",) + (1, 2)"
   ]
  },
  {
   "cell_type": "code",
   "execution_count": 105,
   "id": "ac9bd65a-2328-4dbd-9430-9e65d6a01a96",
   "metadata": {},
   "outputs": [],
   "source": [
    "import json\n",
    "\n",
    "with open(\"data.json\", \"w\") as fh:\n",
    "    json.dump(entities, fh)"
   ]
  },
  {
   "cell_type": "code",
   "execution_count": 111,
   "id": "1add491f-e997-44bc-b3d6-3211b9aa7bc3",
   "metadata": {},
   "outputs": [],
   "source": [
    "list_of_dicts = [\n",
    "    {\"a\": 1},\n",
    "    {\"b\": 2},\n",
    "]"
   ]
  },
  {
   "cell_type": "code",
   "execution_count": 113,
   "id": "18ec2b0f-4f7c-41fa-b114-d144747751c3",
   "metadata": {},
   "outputs": [
    {
     "name": "stdout",
     "output_type": "stream",
     "text": [
      "<class 'dict'>\n",
      "<class 'dict'>\n"
     ]
    }
   ],
   "source": [
    "for element in list_of_dicts:\n",
    "    print(type(element))"
   ]
  },
  {
   "cell_type": "code",
   "execution_count": 123,
   "id": "2faf1d2f-67ed-486e-91b7-6296d6e144a9",
   "metadata": {},
   "outputs": [],
   "source": [
    "my_tuple = 1, 2, 3"
   ]
  },
  {
   "cell_type": "code",
   "execution_count": 126,
   "id": "fefa7791-622b-4e06-8b50-89a8e3d47fd7",
   "metadata": {},
   "outputs": [
    {
     "data": {
      "text/plain": [
       "(1, 2, 3, 1, 2, 3, 1, 2, 3, 1, 2, 3)"
      ]
     },
     "execution_count": 126,
     "metadata": {},
     "output_type": "execute_result"
    }
   ],
   "source": [
    "my_tuple = my_tuple + my_tuple\n",
    "\n",
    "my_tuple"
   ]
  }
 ],
 "metadata": {
  "kernelspec": {
   "display_name": "Python 3 (ipykernel)",
   "language": "python",
   "name": "python3"
  },
  "language_info": {
   "codemirror_mode": {
    "name": "ipython",
    "version": 3
   },
   "file_extension": ".py",
   "mimetype": "text/x-python",
   "name": "python",
   "nbconvert_exporter": "python",
   "pygments_lexer": "ipython3",
   "version": "3.9.12"
  }
 },
 "nbformat": 4,
 "nbformat_minor": 5
}
