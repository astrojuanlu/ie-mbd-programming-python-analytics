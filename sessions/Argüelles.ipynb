{
 "cells": [
  {
   "cell_type": "markdown",
   "id": "efa41165-dbe2-41d0-a4ce-25c7f9d37c6b",
   "metadata": {},
   "source": [
    "# Argüelles (Moncloa-Aravaca)"
   ]
  },
  {
   "cell_type": "code",
   "execution_count": 40,
   "id": "25afa3d4-b38c-4efd-ae4e-b2675e9e5f3d",
   "metadata": {},
   "outputs": [],
   "source": [
    "import json\n",
    "\n",
    "import fiona\n",
    "from fiona.transform import transform_geom\n",
    "from ipyleaflet import GeoJSON, Map\n",
    "from shapely.geometry import shape\n",
    "import seaborn as sns\n",
    "import matplotlib.pyplot as plt\n",
    "\n",
    "# sns.set()\n",
    "# See https://stackoverflow.com/a/70000002/554319"
   ]
  },
  {
   "cell_type": "code",
   "execution_count": 2,
   "id": "c192f3b3-3d9f-4f28-aece-0724616859f9",
   "metadata": {},
   "outputs": [],
   "source": [
    "with fiona.open(\"data/Barrios_20210712.shp\") as src:\n",
    "    src_crs = src.crs\n",
    "    for record in src:\n",
    "        if record[\"properties\"][\"NOMBRE\"] == \"Argüelles\":\n",
    "            neighbourhood_geom = transform_geom(\n",
    "                src_crs, \"epsg:4326\", record[\"geometry\"]\n",
    "            )\n",
    "            break\n",
    "\n",
    "with fiona.open(\"data/Distritos_20210712.shp\") as src:\n",
    "    src_crs = src.crs\n",
    "    for record in src:\n",
    "        if record[\"properties\"][\"NOMBRE\"] == \"Moncloa - Aravaca\":\n",
    "            district_geom = transform_geom(src_crs, \"epsg:4326\", record[\"geometry\"])\n",
    "            break"
   ]
  },
  {
   "cell_type": "code",
   "execution_count": 3,
   "id": "98a77461-ade4-447b-b473-60b0603151ce",
   "metadata": {},
   "outputs": [
    {
     "data": {
      "application/vnd.jupyter.widget-view+json": {
       "model_id": "ef5f58d26a5b4625bf7b77e83f0c245f",
       "version_major": 2,
       "version_minor": 0
      },
      "text/plain": [
       "Map(center=[40.42820854189707, -3.7178463042498713], controls=(ZoomControl(options=['position', 'zoom_in_text'…"
      ]
     },
     "metadata": {},
     "output_type": "display_data"
    }
   ],
   "source": [
    "m = Map()\n",
    "\n",
    "m.add_layer(GeoJSON(data=district_geom))\n",
    "m.add_layer(\n",
    "    GeoJSON(\n",
    "        data=neighbourhood_geom,\n",
    "        style={\"fillColor\": \"red\"},\n",
    "    )\n",
    ")\n",
    "\n",
    "# Somehow this ends up with a zoom level that is still too high\n",
    "# minx, miny, maxx, maxy = shape(neighbourhood_geom).bounds\n",
    "# m.fit_bounds([[miny, minx], [maxy, maxx]])\n",
    "# Setting the zoom manually still doesn't cut it\n",
    "# because there is a callback running,\n",
    "# see https://github.com/davidbrochart/ipyleaflet/blob/66374717a5ea87b81c0fed8a8815e3b596073c0b/ipyleaflet/leaflet.py#L2241-L2280\n",
    "# m.zoom = 16\n",
    "m.center = shape(neighbourhood_geom).centroid.y, shape(neighbourhood_geom).centroid.x\n",
    "m.zoom = 14\n",
    "\n",
    "m"
   ]
  },
  {
   "cell_type": "markdown",
   "id": "f52911c0-6260-4dd7-9fe7-3174b24b2860",
   "metadata": {},
   "source": [
    "## Demografía\n",
    "\n",
    "El barrio de Argüelles es el tercer barrio con mayor número de población del distrito, con 24,223 habitantes. En cuanto a la estructura de población por edades, destaca de forma muy considerable el grupo poblacional de 20 a 64 años con un total de 15292. La población infantil/joven cuenta con 3099 personas y de mayores de 65 años 5597, donde el grueso se concentra en la franja de 65 a 84 años. En cuanto a la población extranjera, Argüelles tiene 3353 habitantes de nacionalidad extranjera. "
   ]
  },
  {
   "cell_type": "code",
   "execution_count": 4,
   "id": "0e13578e-678b-482b-8c5e-c34e86504e79",
   "metadata": {},
   "outputs": [],
   "source": [
    "import pandas as pd"
   ]
  },
  {
   "cell_type": "code",
   "execution_count": 5,
   "id": "40eb74f5-4242-413d-89fd-dfc6cead941e",
   "metadata": {},
   "outputs": [
    {
     "data": {
      "text/html": [
       "<div>\n",
       "<style scoped>\n",
       "    .dataframe tbody tr th:only-of-type {\n",
       "        vertical-align: middle;\n",
       "    }\n",
       "\n",
       "    .dataframe tbody tr th {\n",
       "        vertical-align: top;\n",
       "    }\n",
       "\n",
       "    .dataframe thead th {\n",
       "        text-align: right;\n",
       "    }\n",
       "</style>\n",
       "<table border=\"1\" class=\"dataframe\">\n",
       "  <thead>\n",
       "    <tr style=\"text-align: right;\">\n",
       "      <th></th>\n",
       "      <th>COD_DISTRITO</th>\n",
       "      <th>DESC_DISTRITO</th>\n",
       "      <th>COD_DIST_BARRIO</th>\n",
       "      <th>DESC_BARRIO</th>\n",
       "      <th>COD_BARRIO</th>\n",
       "      <th>COD_DIST_SECCION</th>\n",
       "      <th>COD_SECCION</th>\n",
       "      <th>COD_EDAD_INT</th>\n",
       "      <th>EspanolesHombres</th>\n",
       "      <th>EspanolesMujeres</th>\n",
       "      <th>ExtranjerosHombres</th>\n",
       "      <th>ExtranjerosMujeres</th>\n",
       "    </tr>\n",
       "  </thead>\n",
       "  <tbody>\n",
       "    <tr>\n",
       "      <th>0</th>\n",
       "      <td>1</td>\n",
       "      <td>CENTRO</td>\n",
       "      <td>101</td>\n",
       "      <td>PALACIO</td>\n",
       "      <td>1</td>\n",
       "      <td>1001</td>\n",
       "      <td>1</td>\n",
       "      <td>0</td>\n",
       "      <td>2.0</td>\n",
       "      <td>3.0</td>\n",
       "      <td>1.0</td>\n",
       "      <td>NaN</td>\n",
       "    </tr>\n",
       "    <tr>\n",
       "      <th>1</th>\n",
       "      <td>1</td>\n",
       "      <td>CENTRO</td>\n",
       "      <td>101</td>\n",
       "      <td>PALACIO</td>\n",
       "      <td>1</td>\n",
       "      <td>1001</td>\n",
       "      <td>1</td>\n",
       "      <td>1</td>\n",
       "      <td>8.0</td>\n",
       "      <td>NaN</td>\n",
       "      <td>1.0</td>\n",
       "      <td>NaN</td>\n",
       "    </tr>\n",
       "    <tr>\n",
       "      <th>2</th>\n",
       "      <td>1</td>\n",
       "      <td>CENTRO</td>\n",
       "      <td>101</td>\n",
       "      <td>PALACIO</td>\n",
       "      <td>1</td>\n",
       "      <td>1001</td>\n",
       "      <td>1</td>\n",
       "      <td>2</td>\n",
       "      <td>1.0</td>\n",
       "      <td>3.0</td>\n",
       "      <td>NaN</td>\n",
       "      <td>5.0</td>\n",
       "    </tr>\n",
       "    <tr>\n",
       "      <th>3</th>\n",
       "      <td>1</td>\n",
       "      <td>CENTRO</td>\n",
       "      <td>101</td>\n",
       "      <td>PALACIO</td>\n",
       "      <td>1</td>\n",
       "      <td>1001</td>\n",
       "      <td>1</td>\n",
       "      <td>3</td>\n",
       "      <td>5.0</td>\n",
       "      <td>1.0</td>\n",
       "      <td>1.0</td>\n",
       "      <td>NaN</td>\n",
       "    </tr>\n",
       "    <tr>\n",
       "      <th>4</th>\n",
       "      <td>1</td>\n",
       "      <td>CENTRO</td>\n",
       "      <td>101</td>\n",
       "      <td>PALACIO</td>\n",
       "      <td>1</td>\n",
       "      <td>1001</td>\n",
       "      <td>1</td>\n",
       "      <td>4</td>\n",
       "      <td>NaN</td>\n",
       "      <td>NaN</td>\n",
       "      <td>NaN</td>\n",
       "      <td>3.0</td>\n",
       "    </tr>\n",
       "  </tbody>\n",
       "</table>\n",
       "</div>"
      ],
      "text/plain": [
       "   COD_DISTRITO DESC_DISTRITO  COD_DIST_BARRIO DESC_BARRIO  COD_BARRIO  \\\n",
       "0             1        CENTRO              101     PALACIO           1   \n",
       "1             1        CENTRO              101     PALACIO           1   \n",
       "2             1        CENTRO              101     PALACIO           1   \n",
       "3             1        CENTRO              101     PALACIO           1   \n",
       "4             1        CENTRO              101     PALACIO           1   \n",
       "\n",
       "   COD_DIST_SECCION  COD_SECCION  COD_EDAD_INT  EspanolesHombres  \\\n",
       "0              1001            1             0               2.0   \n",
       "1              1001            1             1               8.0   \n",
       "2              1001            1             2               1.0   \n",
       "3              1001            1             3               5.0   \n",
       "4              1001            1             4               NaN   \n",
       "\n",
       "   EspanolesMujeres  ExtranjerosHombres  ExtranjerosMujeres  \n",
       "0               3.0                 1.0                 NaN  \n",
       "1               NaN                 1.0                 NaN  \n",
       "2               3.0                 NaN                 5.0  \n",
       "3               1.0                 1.0                 NaN  \n",
       "4               NaN                 NaN                 3.0  "
      ]
     },
     "execution_count": 5,
     "metadata": {},
     "output_type": "execute_result"
    }
   ],
   "source": [
    "df = pd.read_csv(\"data/Rango_Edades_Seccion_202111.csv\", encoding=\"iso-8859-1\", sep=\";\")\n",
    "df[\"DESC_DISTRITO\"] = df[\"DESC_DISTRITO\"].str.strip()\n",
    "df[\"DESC_BARRIO\"] = df[\"DESC_BARRIO\"].str.strip()\n",
    "df.head()"
   ]
  },
  {
   "cell_type": "code",
   "execution_count": 6,
   "id": "c110016d-4c68-4e61-a10f-30a2f18dede8",
   "metadata": {},
   "outputs": [
    {
     "data": {
      "text/plain": [
       "EspanolesHombres      49908.0\n",
       "EspanolesMujeres      57390.0\n",
       "ExtranjerosHombres     5864.0\n",
       "ExtranjerosMujeres     7916.0\n",
       "Name: MONCLOA-ARAVACA, dtype: float64"
      ]
     },
     "execution_count": 6,
     "metadata": {},
     "output_type": "execute_result"
    }
   ],
   "source": [
    "district_pop = df.groupby(\"DESC_DISTRITO\").sum().loc[\"MONCLOA-ARAVACA\", \"EspanolesHombres\":\"ExtranjerosMujeres\"]\n",
    "district_pop"
   ]
  },
  {
   "cell_type": "code",
   "execution_count": 9,
   "id": "2f057024-e23a-4366-be70-45ea25da6841",
   "metadata": {},
   "outputs": [
    {
     "data": {
      "text/plain": [
       "13780.0"
      ]
     },
     "execution_count": 9,
     "metadata": {},
     "output_type": "execute_result"
    }
   ],
   "source": [
    "district_pop.loc[\"Extranjeros\":].sum()"
   ]
  },
  {
   "cell_type": "code",
   "execution_count": 10,
   "id": "36349b1e-c104-4b3b-b324-23c930efc6e8",
   "metadata": {},
   "outputs": [
    {
     "data": {
      "text/plain": [
       "121078.0"
      ]
     },
     "execution_count": 10,
     "metadata": {},
     "output_type": "execute_result"
    }
   ],
   "source": [
    "district_pop.sum()"
   ]
  },
  {
   "cell_type": "code",
   "execution_count": 11,
   "id": "1705494c-8a8e-48c9-b1f4-9edad6bdd6b5",
   "metadata": {},
   "outputs": [
    {
     "data": {
      "text/plain": [
       "0.11381093179603231"
      ]
     },
     "execution_count": 11,
     "metadata": {},
     "output_type": "execute_result"
    }
   ],
   "source": [
    "district_pop.loc[\"Extranjeros\":].sum() / district_pop.sum()"
   ]
  },
  {
   "cell_type": "code",
   "execution_count": 12,
   "id": "9e806bb8-6e0b-4895-8b9d-4419fdedd00b",
   "metadata": {},
   "outputs": [
    {
     "data": {
      "text/plain": [
       "EspanolesHombres       9469.0\n",
       "EspanolesMujeres      11160.0\n",
       "ExtranjerosHombres     1619.0\n",
       "ExtranjerosMujeres     2088.0\n",
       "Name: ARGUELLES, dtype: float64"
      ]
     },
     "execution_count": 12,
     "metadata": {},
     "output_type": "execute_result"
    }
   ],
   "source": [
    "neighbourhood_pop = df.groupby(\"DESC_BARRIO\").sum().loc[\"ARGUELLES\", \"EspanolesHombres\":\"ExtranjerosMujeres\"]\n",
    "neighbourhood_pop"
   ]
  },
  {
   "cell_type": "code",
   "execution_count": 13,
   "id": "607e712f-75cd-4877-9fb7-0e4ae514197a",
   "metadata": {},
   "outputs": [
    {
     "data": {
      "text/plain": [
       "3707.0"
      ]
     },
     "execution_count": 13,
     "metadata": {},
     "output_type": "execute_result"
    }
   ],
   "source": [
    "neighbourhood_pop.loc[\"Extranjeros\":].sum()"
   ]
  },
  {
   "cell_type": "code",
   "execution_count": 14,
   "id": "7e5403c9-845c-4392-8cb0-fab1e134d3f9",
   "metadata": {},
   "outputs": [
    {
     "data": {
      "text/plain": [
       "24336.0"
      ]
     },
     "execution_count": 14,
     "metadata": {},
     "output_type": "execute_result"
    }
   ],
   "source": [
    "neighbourhood_pop.sum()"
   ]
  },
  {
   "cell_type": "code",
   "execution_count": 15,
   "id": "04e2f487-828a-4431-bb3c-f720ffad7217",
   "metadata": {},
   "outputs": [
    {
     "data": {
      "text/plain": [
       "0.15232577251808022"
      ]
     },
     "execution_count": 15,
     "metadata": {},
     "output_type": "execute_result"
    }
   ],
   "source": [
    "neighbourhood_pop.loc[\"Extranjeros\":].sum() / neighbourhood_pop.sum()"
   ]
  },
  {
   "cell_type": "code",
   "execution_count": 16,
   "id": "4e7c1a7a-d5c0-4dd0-abda-027bc986ba23",
   "metadata": {},
   "outputs": [],
   "source": [
    "from pprint import pprint"
   ]
  },
  {
   "cell_type": "code",
   "execution_count": 17,
   "id": "ef6c3b4f-b49a-4374-aa97-9b559a25eea9",
   "metadata": {},
   "outputs": [],
   "source": [
    "DISTRICT_CODE = 9\n",
    "NEIGHBOURHOOD_CODE = 92"
   ]
  },
  {
   "cell_type": "code",
   "execution_count": 18,
   "id": "ab7fce7f-cf28-4891-b3da-ce3317d38e72",
   "metadata": {},
   "outputs": [],
   "source": [
    "district_records = []\n",
    "\n",
    "with fiona.open(\"data/SECCION_CENSAL/POBLACION_SECCION.shp\") as src:\n",
    "    for record in src:\n",
    "        if int(record[\"properties\"][\"COD_DIS\"]) == DISTRICT_CODE:\n",
    "            district_records.append(record)"
   ]
  },
  {
   "cell_type": "code",
   "execution_count": 19,
   "id": "e1c9f4b9-bcf6-4ed4-a309-ea578d71ebb6",
   "metadata": {},
   "outputs": [
    {
     "name": "stdout",
     "output_type": "stream",
     "text": [
      "[91, 92, 93, 94, 95, 96, 97]\n"
     ]
    }
   ],
   "source": [
    "print(sorted(list({int(r[\"properties\"][\"COD_BAR\"]) for r in district_records})))\n"
   ]
  },
  {
   "cell_type": "code",
   "execution_count": 20,
   "id": "32157b60-4c78-454b-93e6-18bdf6c297cd",
   "metadata": {},
   "outputs": [
    {
     "data": {
      "text/html": [
       "<div>\n",
       "<style scoped>\n",
       "    .dataframe tbody tr th:only-of-type {\n",
       "        vertical-align: middle;\n",
       "    }\n",
       "\n",
       "    .dataframe tbody tr th {\n",
       "        vertical-align: top;\n",
       "    }\n",
       "\n",
       "    .dataframe thead th {\n",
       "        text-align: right;\n",
       "    }\n",
       "</style>\n",
       "<table border=\"1\" class=\"dataframe\">\n",
       "  <thead>\n",
       "    <tr style=\"text-align: right;\">\n",
       "      <th></th>\n",
       "      <th>COD_BAR</th>\n",
       "      <th>COD_DIS</th>\n",
       "      <th>ambos_sexo</th>\n",
       "      <th>ambos_se_1</th>\n",
       "      <th>ambos_se_2</th>\n",
       "      <th>ambos_se_3</th>\n",
       "      <th>ambos_se_4</th>\n",
       "      <th>ambos_se_5</th>\n",
       "      <th>ambos_se_6</th>\n",
       "      <th>ambos_se_7</th>\n",
       "      <th>...</th>\n",
       "      <th>ambos_s_14</th>\n",
       "      <th>ambos_s_15</th>\n",
       "      <th>ambos_s_16</th>\n",
       "      <th>ambos_s_17</th>\n",
       "      <th>ambos_s_18</th>\n",
       "      <th>ambos_s_19</th>\n",
       "      <th>ambos_s_20</th>\n",
       "      <th>ambos_s_21</th>\n",
       "      <th>Shape_STAr</th>\n",
       "      <th>Shape_STLe</th>\n",
       "    </tr>\n",
       "    <tr>\n",
       "      <th>COD_SEC</th>\n",
       "      <th></th>\n",
       "      <th></th>\n",
       "      <th></th>\n",
       "      <th></th>\n",
       "      <th></th>\n",
       "      <th></th>\n",
       "      <th></th>\n",
       "      <th></th>\n",
       "      <th></th>\n",
       "      <th></th>\n",
       "      <th></th>\n",
       "      <th></th>\n",
       "      <th></th>\n",
       "      <th></th>\n",
       "      <th></th>\n",
       "      <th></th>\n",
       "      <th></th>\n",
       "      <th></th>\n",
       "      <th></th>\n",
       "      <th></th>\n",
       "      <th></th>\n",
       "    </tr>\n",
       "  </thead>\n",
       "  <tbody>\n",
       "    <tr>\n",
       "      <th>09001</th>\n",
       "      <td>91</td>\n",
       "      <td>9</td>\n",
       "      <td>1182</td>\n",
       "      <td>39</td>\n",
       "      <td>32</td>\n",
       "      <td>26</td>\n",
       "      <td>32</td>\n",
       "      <td>56</td>\n",
       "      <td>89</td>\n",
       "      <td>90</td>\n",
       "      <td>...</td>\n",
       "      <td>70</td>\n",
       "      <td>37</td>\n",
       "      <td>50</td>\n",
       "      <td>45</td>\n",
       "      <td>54</td>\n",
       "      <td>36</td>\n",
       "      <td>10</td>\n",
       "      <td>3</td>\n",
       "      <td>8.802667e+04</td>\n",
       "      <td>1459.480585</td>\n",
       "    </tr>\n",
       "    <tr>\n",
       "      <th>09002</th>\n",
       "      <td>91</td>\n",
       "      <td>9</td>\n",
       "      <td>1314</td>\n",
       "      <td>42</td>\n",
       "      <td>36</td>\n",
       "      <td>33</td>\n",
       "      <td>124</td>\n",
       "      <td>54</td>\n",
       "      <td>96</td>\n",
       "      <td>90</td>\n",
       "      <td>...</td>\n",
       "      <td>40</td>\n",
       "      <td>39</td>\n",
       "      <td>59</td>\n",
       "      <td>58</td>\n",
       "      <td>59</td>\n",
       "      <td>26</td>\n",
       "      <td>8</td>\n",
       "      <td>0</td>\n",
       "      <td>1.561971e+07</td>\n",
       "      <td>17012.636439</td>\n",
       "    </tr>\n",
       "    <tr>\n",
       "      <th>09004</th>\n",
       "      <td>91</td>\n",
       "      <td>9</td>\n",
       "      <td>1472</td>\n",
       "      <td>37</td>\n",
       "      <td>42</td>\n",
       "      <td>36</td>\n",
       "      <td>60</td>\n",
       "      <td>75</td>\n",
       "      <td>91</td>\n",
       "      <td>102</td>\n",
       "      <td>...</td>\n",
       "      <td>78</td>\n",
       "      <td>58</td>\n",
       "      <td>37</td>\n",
       "      <td>63</td>\n",
       "      <td>75</td>\n",
       "      <td>28</td>\n",
       "      <td>8</td>\n",
       "      <td>3</td>\n",
       "      <td>6.519676e+04</td>\n",
       "      <td>1273.317385</td>\n",
       "    </tr>\n",
       "    <tr>\n",
       "      <th>09005</th>\n",
       "      <td>91</td>\n",
       "      <td>9</td>\n",
       "      <td>912</td>\n",
       "      <td>38</td>\n",
       "      <td>31</td>\n",
       "      <td>31</td>\n",
       "      <td>32</td>\n",
       "      <td>45</td>\n",
       "      <td>54</td>\n",
       "      <td>65</td>\n",
       "      <td>...</td>\n",
       "      <td>42</td>\n",
       "      <td>35</td>\n",
       "      <td>23</td>\n",
       "      <td>36</td>\n",
       "      <td>43</td>\n",
       "      <td>18</td>\n",
       "      <td>3</td>\n",
       "      <td>1</td>\n",
       "      <td>4.357138e+04</td>\n",
       "      <td>907.824350</td>\n",
       "    </tr>\n",
       "    <tr>\n",
       "      <th>09006</th>\n",
       "      <td>91</td>\n",
       "      <td>9</td>\n",
       "      <td>761</td>\n",
       "      <td>29</td>\n",
       "      <td>23</td>\n",
       "      <td>19</td>\n",
       "      <td>37</td>\n",
       "      <td>24</td>\n",
       "      <td>39</td>\n",
       "      <td>45</td>\n",
       "      <td>...</td>\n",
       "      <td>43</td>\n",
       "      <td>41</td>\n",
       "      <td>23</td>\n",
       "      <td>31</td>\n",
       "      <td>33</td>\n",
       "      <td>25</td>\n",
       "      <td>7</td>\n",
       "      <td>0</td>\n",
       "      <td>4.367297e+04</td>\n",
       "      <td>979.521205</td>\n",
       "    </tr>\n",
       "  </tbody>\n",
       "</table>\n",
       "<p>5 rows × 26 columns</p>\n",
       "</div>"
      ],
      "text/plain": [
       "         COD_BAR  COD_DIS  ambos_sexo  ambos_se_1  ambos_se_2  ambos_se_3  \\\n",
       "COD_SEC                                                                     \n",
       "09001         91        9        1182          39          32          26   \n",
       "09002         91        9        1314          42          36          33   \n",
       "09004         91        9        1472          37          42          36   \n",
       "09005         91        9         912          38          31          31   \n",
       "09006         91        9         761          29          23          19   \n",
       "\n",
       "         ambos_se_4  ambos_se_5  ambos_se_6  ambos_se_7  ...  ambos_s_14  \\\n",
       "COD_SEC                                                  ...               \n",
       "09001            32          56          89          90  ...          70   \n",
       "09002           124          54          96          90  ...          40   \n",
       "09004            60          75          91         102  ...          78   \n",
       "09005            32          45          54          65  ...          42   \n",
       "09006            37          24          39          45  ...          43   \n",
       "\n",
       "         ambos_s_15  ambos_s_16  ambos_s_17  ambos_s_18  ambos_s_19  \\\n",
       "COD_SEC                                                               \n",
       "09001            37          50          45          54          36   \n",
       "09002            39          59          58          59          26   \n",
       "09004            58          37          63          75          28   \n",
       "09005            35          23          36          43          18   \n",
       "09006            41          23          31          33          25   \n",
       "\n",
       "         ambos_s_20  ambos_s_21    Shape_STAr    Shape_STLe  \n",
       "COD_SEC                                                      \n",
       "09001            10           3  8.802667e+04   1459.480585  \n",
       "09002             8           0  1.561971e+07  17012.636439  \n",
       "09004             8           3  6.519676e+04   1273.317385  \n",
       "09005             3           1  4.357138e+04    907.824350  \n",
       "09006             7           0  4.367297e+04    979.521205  \n",
       "\n",
       "[5 rows x 26 columns]"
      ]
     },
     "execution_count": 20,
     "metadata": {},
     "output_type": "execute_result"
    }
   ],
   "source": [
    "district_pop2 = pd.DataFrame([r[\"properties\"] for r in district_records]).set_index(\"COD_SEC\").sort_index()\n",
    "district_pop2[\"COD_BAR\"] = district_pop2[\"COD_BAR\"].astype(int)\n",
    "district_pop2[\"COD_DIS\"] = district_pop2[\"COD_DIS\"].astype(int)\n",
    "district_pop2.head()"
   ]
  },
  {
   "cell_type": "code",
   "execution_count": 21,
   "id": "6c6fc1c8-a09d-4f33-8aed-0db5b685dfba",
   "metadata": {},
   "outputs": [
    {
     "data": {
      "text/plain": [
       "120834"
      ]
     },
     "execution_count": 21,
     "metadata": {},
     "output_type": "execute_result"
    }
   ],
   "source": [
    "total_district = district_pop2[\"ambos_sexo\"].sum()\n",
    "total_district"
   ]
  },
  {
   "cell_type": "code",
   "execution_count": 22,
   "id": "1b07be3f-eef1-4fd2-a69d-f543b4833a7c",
   "metadata": {},
   "outputs": [
    {
     "data": {
      "text/plain": [
       "24162"
      ]
     },
     "execution_count": 22,
     "metadata": {},
     "output_type": "execute_result"
    }
   ],
   "source": [
    "total_neighbourhood = district_pop2.loc[district_pop2[\"COD_BAR\"] == NEIGHBOURHOOD_CODE, \"ambos_sexo\"].sum()\n",
    "total_neighbourhood"
   ]
  },
  {
   "cell_type": "markdown",
   "id": "0ba46c27-3127-46a8-9fcd-a17035ffa86d",
   "metadata": {},
   "source": [
    "---"
   ]
  },
  {
   "cell_type": "code",
   "execution_count": 23,
   "id": "9b12016d-0458-40f0-b383-6f77a7259910",
   "metadata": {},
   "outputs": [],
   "source": [
    "district_records = []\n",
    "\n",
    "with fiona.open(\"data/SECCION_CENSAL/POBLACION_HOMBRES_SECCION.shp\") as src:\n",
    "    for record in src:\n",
    "        if int(record[\"properties\"][\"COD_DIS\"]) == DISTRICT_CODE:\n",
    "            district_records.append(record)\n",
    "\n",
    "with fiona.open(\"data/SECCION_CENSAL/POBLACION_MUJERES_SECCION.shp\") as src:\n",
    "    for record in src:\n",
    "        if int(record[\"properties\"][\"COD_DIS\"]) == DISTRICT_CODE:\n",
    "            district_records.append(record)"
   ]
  },
  {
   "cell_type": "code",
   "execution_count": 24,
   "id": "6a633113-8816-413a-8a82-d21e52a0135a",
   "metadata": {},
   "outputs": [
    {
     "data": {
      "text/html": [
       "<div>\n",
       "<style scoped>\n",
       "    .dataframe tbody tr th:only-of-type {\n",
       "        vertical-align: middle;\n",
       "    }\n",
       "\n",
       "    .dataframe tbody tr th {\n",
       "        vertical-align: top;\n",
       "    }\n",
       "\n",
       "    .dataframe thead th {\n",
       "        text-align: right;\n",
       "    }\n",
       "</style>\n",
       "<table border=\"1\" class=\"dataframe\">\n",
       "  <thead>\n",
       "    <tr style=\"text-align: right;\">\n",
       "      <th></th>\n",
       "      <th>COD_BAR</th>\n",
       "      <th>COD_DIS</th>\n",
       "      <th>hombres_to</th>\n",
       "      <th>hombres_00</th>\n",
       "      <th>hombres_05</th>\n",
       "      <th>hombres_10</th>\n",
       "      <th>hombres_15</th>\n",
       "      <th>hombres_20</th>\n",
       "      <th>hombres_25</th>\n",
       "      <th>hombres_30</th>\n",
       "      <th>...</th>\n",
       "      <th>mujeres_55</th>\n",
       "      <th>mujeres_60</th>\n",
       "      <th>mujeres_65</th>\n",
       "      <th>mujeres_70</th>\n",
       "      <th>mujeres_75</th>\n",
       "      <th>mujeres_80</th>\n",
       "      <th>mujeres_85</th>\n",
       "      <th>mujeres_90</th>\n",
       "      <th>mujeres_95</th>\n",
       "      <th>mujeres_11</th>\n",
       "    </tr>\n",
       "    <tr>\n",
       "      <th>COD_SEC</th>\n",
       "      <th></th>\n",
       "      <th></th>\n",
       "      <th></th>\n",
       "      <th></th>\n",
       "      <th></th>\n",
       "      <th></th>\n",
       "      <th></th>\n",
       "      <th></th>\n",
       "      <th></th>\n",
       "      <th></th>\n",
       "      <th></th>\n",
       "      <th></th>\n",
       "      <th></th>\n",
       "      <th></th>\n",
       "      <th></th>\n",
       "      <th></th>\n",
       "      <th></th>\n",
       "      <th></th>\n",
       "      <th></th>\n",
       "      <th></th>\n",
       "      <th></th>\n",
       "    </tr>\n",
       "  </thead>\n",
       "  <tbody>\n",
       "    <tr>\n",
       "      <th>09001</th>\n",
       "      <td>91</td>\n",
       "      <td>09</td>\n",
       "      <td>NaN</td>\n",
       "      <td>NaN</td>\n",
       "      <td>NaN</td>\n",
       "      <td>NaN</td>\n",
       "      <td>NaN</td>\n",
       "      <td>NaN</td>\n",
       "      <td>NaN</td>\n",
       "      <td>NaN</td>\n",
       "      <td>...</td>\n",
       "      <td>59.0</td>\n",
       "      <td>35.0</td>\n",
       "      <td>40.0</td>\n",
       "      <td>19.0</td>\n",
       "      <td>27.0</td>\n",
       "      <td>38.0</td>\n",
       "      <td>39.0</td>\n",
       "      <td>29.0</td>\n",
       "      <td>7.0</td>\n",
       "      <td>2.0</td>\n",
       "    </tr>\n",
       "    <tr>\n",
       "      <th>09001</th>\n",
       "      <td>91</td>\n",
       "      <td>09</td>\n",
       "      <td>526.0</td>\n",
       "      <td>21.0</td>\n",
       "      <td>14.0</td>\n",
       "      <td>11.0</td>\n",
       "      <td>15.0</td>\n",
       "      <td>15.0</td>\n",
       "      <td>43.0</td>\n",
       "      <td>41.0</td>\n",
       "      <td>...</td>\n",
       "      <td>NaN</td>\n",
       "      <td>NaN</td>\n",
       "      <td>NaN</td>\n",
       "      <td>NaN</td>\n",
       "      <td>NaN</td>\n",
       "      <td>NaN</td>\n",
       "      <td>NaN</td>\n",
       "      <td>NaN</td>\n",
       "      <td>NaN</td>\n",
       "      <td>NaN</td>\n",
       "    </tr>\n",
       "    <tr>\n",
       "      <th>09002</th>\n",
       "      <td>91</td>\n",
       "      <td>09</td>\n",
       "      <td>NaN</td>\n",
       "      <td>NaN</td>\n",
       "      <td>NaN</td>\n",
       "      <td>NaN</td>\n",
       "      <td>NaN</td>\n",
       "      <td>NaN</td>\n",
       "      <td>NaN</td>\n",
       "      <td>NaN</td>\n",
       "      <td>...</td>\n",
       "      <td>62.0</td>\n",
       "      <td>44.0</td>\n",
       "      <td>21.0</td>\n",
       "      <td>30.0</td>\n",
       "      <td>37.0</td>\n",
       "      <td>36.0</td>\n",
       "      <td>43.0</td>\n",
       "      <td>19.0</td>\n",
       "      <td>6.0</td>\n",
       "      <td>0.0</td>\n",
       "    </tr>\n",
       "    <tr>\n",
       "      <th>09002</th>\n",
       "      <td>91</td>\n",
       "      <td>09</td>\n",
       "      <td>633.0</td>\n",
       "      <td>26.0</td>\n",
       "      <td>19.0</td>\n",
       "      <td>21.0</td>\n",
       "      <td>102.0</td>\n",
       "      <td>26.0</td>\n",
       "      <td>48.0</td>\n",
       "      <td>43.0</td>\n",
       "      <td>...</td>\n",
       "      <td>NaN</td>\n",
       "      <td>NaN</td>\n",
       "      <td>NaN</td>\n",
       "      <td>NaN</td>\n",
       "      <td>NaN</td>\n",
       "      <td>NaN</td>\n",
       "      <td>NaN</td>\n",
       "      <td>NaN</td>\n",
       "      <td>NaN</td>\n",
       "      <td>NaN</td>\n",
       "    </tr>\n",
       "    <tr>\n",
       "      <th>09004</th>\n",
       "      <td>91</td>\n",
       "      <td>09</td>\n",
       "      <td>655.0</td>\n",
       "      <td>20.0</td>\n",
       "      <td>21.0</td>\n",
       "      <td>18.0</td>\n",
       "      <td>26.0</td>\n",
       "      <td>34.0</td>\n",
       "      <td>42.0</td>\n",
       "      <td>47.0</td>\n",
       "      <td>...</td>\n",
       "      <td>NaN</td>\n",
       "      <td>NaN</td>\n",
       "      <td>NaN</td>\n",
       "      <td>NaN</td>\n",
       "      <td>NaN</td>\n",
       "      <td>NaN</td>\n",
       "      <td>NaN</td>\n",
       "      <td>NaN</td>\n",
       "      <td>NaN</td>\n",
       "      <td>NaN</td>\n",
       "    </tr>\n",
       "  </tbody>\n",
       "</table>\n",
       "<p>5 rows × 48 columns</p>\n",
       "</div>"
      ],
      "text/plain": [
       "        COD_BAR COD_DIS  hombres_to  hombres_00  hombres_05  hombres_10  \\\n",
       "COD_SEC                                                                   \n",
       "09001        91      09         NaN         NaN         NaN         NaN   \n",
       "09001        91      09       526.0        21.0        14.0        11.0   \n",
       "09002        91      09         NaN         NaN         NaN         NaN   \n",
       "09002        91      09       633.0        26.0        19.0        21.0   \n",
       "09004        91      09       655.0        20.0        21.0        18.0   \n",
       "\n",
       "         hombres_15  hombres_20  hombres_25  hombres_30  ...  mujeres_55  \\\n",
       "COD_SEC                                                  ...               \n",
       "09001           NaN         NaN         NaN         NaN  ...        59.0   \n",
       "09001          15.0        15.0        43.0        41.0  ...         NaN   \n",
       "09002           NaN         NaN         NaN         NaN  ...        62.0   \n",
       "09002         102.0        26.0        48.0        43.0  ...         NaN   \n",
       "09004          26.0        34.0        42.0        47.0  ...         NaN   \n",
       "\n",
       "         mujeres_60  mujeres_65  mujeres_70  mujeres_75  mujeres_80  \\\n",
       "COD_SEC                                                               \n",
       "09001          35.0        40.0        19.0        27.0        38.0   \n",
       "09001           NaN         NaN         NaN         NaN         NaN   \n",
       "09002          44.0        21.0        30.0        37.0        36.0   \n",
       "09002           NaN         NaN         NaN         NaN         NaN   \n",
       "09004           NaN         NaN         NaN         NaN         NaN   \n",
       "\n",
       "         mujeres_85  mujeres_90  mujeres_95  mujeres_11  \n",
       "COD_SEC                                                  \n",
       "09001          39.0        29.0         7.0         2.0  \n",
       "09001           NaN         NaN         NaN         NaN  \n",
       "09002          43.0        19.0         6.0         0.0  \n",
       "09002           NaN         NaN         NaN         NaN  \n",
       "09004           NaN         NaN         NaN         NaN  \n",
       "\n",
       "[5 rows x 48 columns]"
      ]
     },
     "execution_count": 24,
     "metadata": {},
     "output_type": "execute_result"
    }
   ],
   "source": [
    "district_pop3 = pd.DataFrame([r[\"properties\"] for r in district_records]).set_index(\"COD_SEC\").sort_index()\n",
    "district_pop3.head()"
   ]
  },
  {
   "cell_type": "code",
   "execution_count": 25,
   "id": "6cd8457e-410e-4b61-bd61-0cdf22ace8af",
   "metadata": {},
   "outputs": [
    {
     "data": {
      "text/html": [
       "<div>\n",
       "<style scoped>\n",
       "    .dataframe tbody tr th:only-of-type {\n",
       "        vertical-align: middle;\n",
       "    }\n",
       "\n",
       "    .dataframe tbody tr th {\n",
       "        vertical-align: top;\n",
       "    }\n",
       "\n",
       "    .dataframe thead th {\n",
       "        text-align: right;\n",
       "    }\n",
       "</style>\n",
       "<table border=\"1\" class=\"dataframe\">\n",
       "  <thead>\n",
       "    <tr style=\"text-align: right;\">\n",
       "      <th></th>\n",
       "      <th>COD_SEC</th>\n",
       "      <th>COD_BAR</th>\n",
       "      <th>COD_DIS</th>\n",
       "      <th>variable</th>\n",
       "      <th>value</th>\n",
       "    </tr>\n",
       "  </thead>\n",
       "  <tbody>\n",
       "    <tr>\n",
       "      <th>0</th>\n",
       "      <td>09001</td>\n",
       "      <td>91</td>\n",
       "      <td>09</td>\n",
       "      <td>hombres_to</td>\n",
       "      <td>NaN</td>\n",
       "    </tr>\n",
       "    <tr>\n",
       "      <th>1021</th>\n",
       "      <td>09001</td>\n",
       "      <td>91</td>\n",
       "      <td>09</td>\n",
       "      <td>hombres_25</td>\n",
       "      <td>43.0</td>\n",
       "    </tr>\n",
       "    <tr>\n",
       "      <th>6461</th>\n",
       "      <td>09001</td>\n",
       "      <td>91</td>\n",
       "      <td>09</td>\n",
       "      <td>mujeres_65</td>\n",
       "      <td>NaN</td>\n",
       "    </tr>\n",
       "    <tr>\n",
       "      <th>6460</th>\n",
       "      <td>09001</td>\n",
       "      <td>91</td>\n",
       "      <td>09</td>\n",
       "      <td>mujeres_65</td>\n",
       "      <td>40.0</td>\n",
       "    </tr>\n",
       "    <tr>\n",
       "      <th>1190</th>\n",
       "      <td>09001</td>\n",
       "      <td>91</td>\n",
       "      <td>09</td>\n",
       "      <td>hombres_30</td>\n",
       "      <td>NaN</td>\n",
       "    </tr>\n",
       "  </tbody>\n",
       "</table>\n",
       "</div>"
      ],
      "text/plain": [
       "     COD_SEC COD_BAR COD_DIS    variable  value\n",
       "0      09001      91      09  hombres_to    NaN\n",
       "1021   09001      91      09  hombres_25   43.0\n",
       "6461   09001      91      09  mujeres_65    NaN\n",
       "6460   09001      91      09  mujeres_65   40.0\n",
       "1190   09001      91      09  hombres_30    NaN"
      ]
     },
     "execution_count": 25,
     "metadata": {},
     "output_type": "execute_result"
    }
   ],
   "source": [
    "district_pop_melt = district_pop3.reset_index().melt(id_vars=[\"COD_SEC\", \"COD_BAR\", \"COD_DIS\"]).sort_values(\"COD_SEC\")\n",
    "district_pop_melt.head()"
   ]
  },
  {
   "cell_type": "code",
   "execution_count": 26,
   "id": "253fb4b3-0ee1-4858-884b-b44b536e4c96",
   "metadata": {},
   "outputs": [
    {
     "data": {
      "text/html": [
       "<div>\n",
       "<style scoped>\n",
       "    .dataframe tbody tr th:only-of-type {\n",
       "        vertical-align: middle;\n",
       "    }\n",
       "\n",
       "    .dataframe tbody tr th {\n",
       "        vertical-align: top;\n",
       "    }\n",
       "\n",
       "    .dataframe thead th {\n",
       "        text-align: right;\n",
       "    }\n",
       "</style>\n",
       "<table border=\"1\" class=\"dataframe\">\n",
       "  <thead>\n",
       "    <tr style=\"text-align: right;\">\n",
       "      <th></th>\n",
       "      <th>COD_SEC</th>\n",
       "      <th>COD_BAR</th>\n",
       "      <th>COD_DIS</th>\n",
       "      <th>variable</th>\n",
       "      <th>value</th>\n",
       "    </tr>\n",
       "  </thead>\n",
       "  <tbody>\n",
       "    <tr>\n",
       "      <th>0</th>\n",
       "      <td>09001</td>\n",
       "      <td>91</td>\n",
       "      <td>09</td>\n",
       "      <td>hombres_to</td>\n",
       "      <td>NaN</td>\n",
       "    </tr>\n",
       "    <tr>\n",
       "      <th>1021</th>\n",
       "      <td>09001</td>\n",
       "      <td>91</td>\n",
       "      <td>09</td>\n",
       "      <td>hombres_25</td>\n",
       "      <td>43.0</td>\n",
       "    </tr>\n",
       "    <tr>\n",
       "      <th>6461</th>\n",
       "      <td>09001</td>\n",
       "      <td>91</td>\n",
       "      <td>09</td>\n",
       "      <td>mujeres_65</td>\n",
       "      <td>NaN</td>\n",
       "    </tr>\n",
       "    <tr>\n",
       "      <th>6460</th>\n",
       "      <td>09001</td>\n",
       "      <td>91</td>\n",
       "      <td>09</td>\n",
       "      <td>mujeres_65</td>\n",
       "      <td>40.0</td>\n",
       "    </tr>\n",
       "    <tr>\n",
       "      <th>1190</th>\n",
       "      <td>09001</td>\n",
       "      <td>91</td>\n",
       "      <td>09</td>\n",
       "      <td>hombres_30</td>\n",
       "      <td>NaN</td>\n",
       "    </tr>\n",
       "    <tr>\n",
       "      <th>...</th>\n",
       "      <td>...</td>\n",
       "      <td>...</td>\n",
       "      <td>...</td>\n",
       "      <td>...</td>\n",
       "      <td>...</td>\n",
       "    </tr>\n",
       "    <tr>\n",
       "      <th>5438</th>\n",
       "      <td>09092</td>\n",
       "      <td>97</td>\n",
       "      <td>09</td>\n",
       "      <td>mujeres_30</td>\n",
       "      <td>NaN</td>\n",
       "    </tr>\n",
       "    <tr>\n",
       "      <th>5439</th>\n",
       "      <td>09092</td>\n",
       "      <td>97</td>\n",
       "      <td>09</td>\n",
       "      <td>mujeres_30</td>\n",
       "      <td>21.0</td>\n",
       "    </tr>\n",
       "    <tr>\n",
       "      <th>5608</th>\n",
       "      <td>09092</td>\n",
       "      <td>97</td>\n",
       "      <td>09</td>\n",
       "      <td>mujeres_35</td>\n",
       "      <td>NaN</td>\n",
       "    </tr>\n",
       "    <tr>\n",
       "      <th>5778</th>\n",
       "      <td>09092</td>\n",
       "      <td>97</td>\n",
       "      <td>09</td>\n",
       "      <td>mujeres_40</td>\n",
       "      <td>NaN</td>\n",
       "    </tr>\n",
       "    <tr>\n",
       "      <th>7819</th>\n",
       "      <td>09092</td>\n",
       "      <td>97</td>\n",
       "      <td>09</td>\n",
       "      <td>mujeres_11</td>\n",
       "      <td>0.0</td>\n",
       "    </tr>\n",
       "  </tbody>\n",
       "</table>\n",
       "<p>7480 rows × 5 columns</p>\n",
       "</div>"
      ],
      "text/plain": [
       "     COD_SEC COD_BAR COD_DIS    variable  value\n",
       "0      09001      91      09  hombres_to    NaN\n",
       "1021   09001      91      09  hombres_25   43.0\n",
       "6461   09001      91      09  mujeres_65    NaN\n",
       "6460   09001      91      09  mujeres_65   40.0\n",
       "1190   09001      91      09  hombres_30    NaN\n",
       "...      ...     ...     ...         ...    ...\n",
       "5438   09092      97      09  mujeres_30    NaN\n",
       "5439   09092      97      09  mujeres_30   21.0\n",
       "5608   09092      97      09  mujeres_35    NaN\n",
       "5778   09092      97      09  mujeres_40    NaN\n",
       "7819   09092      97      09  mujeres_11    0.0\n",
       "\n",
       "[7480 rows x 5 columns]"
      ]
     },
     "execution_count": 26,
     "metadata": {},
     "output_type": "execute_result"
    }
   ],
   "source": [
    "district_pop_melt = district_pop_melt.loc[~district_pop_melt[\"variable\"].str.contains(\"Shape\")]\n",
    "district_pop_melt"
   ]
  },
  {
   "cell_type": "code",
   "execution_count": 27,
   "id": "cfdf8d6f-d54e-45ca-90bd-323576183007",
   "metadata": {},
   "outputs": [],
   "source": [
    "district_pop_melt[\"sex\"] = district_pop_melt[\"variable\"].str.split(\"_\").str.get(0)"
   ]
  },
  {
   "cell_type": "code",
   "execution_count": 28,
   "id": "820e5617-be94-4063-a242-ae18b3351f57",
   "metadata": {},
   "outputs": [],
   "source": [
    "district_pop_melt[\"age\"] = district_pop_melt[\"variable\"].str.split(\"_\").str.get(1)"
   ]
  },
  {
   "cell_type": "code",
   "execution_count": 29,
   "id": "570c7e06-30aa-4643-810f-8d8e9f1b232d",
   "metadata": {},
   "outputs": [
    {
     "data": {
      "text/html": [
       "<div>\n",
       "<style scoped>\n",
       "    .dataframe tbody tr th:only-of-type {\n",
       "        vertical-align: middle;\n",
       "    }\n",
       "\n",
       "    .dataframe tbody tr th {\n",
       "        vertical-align: top;\n",
       "    }\n",
       "\n",
       "    .dataframe thead th {\n",
       "        text-align: right;\n",
       "    }\n",
       "</style>\n",
       "<table border=\"1\" class=\"dataframe\">\n",
       "  <thead>\n",
       "    <tr style=\"text-align: right;\">\n",
       "      <th></th>\n",
       "      <th>COD_SEC</th>\n",
       "      <th>COD_BAR</th>\n",
       "      <th>COD_DIS</th>\n",
       "      <th>value</th>\n",
       "      <th>sex</th>\n",
       "      <th>age</th>\n",
       "    </tr>\n",
       "  </thead>\n",
       "  <tbody>\n",
       "    <tr>\n",
       "      <th>0</th>\n",
       "      <td>09001</td>\n",
       "      <td>91</td>\n",
       "      <td>09</td>\n",
       "      <td>NaN</td>\n",
       "      <td>hombres</td>\n",
       "      <td>to</td>\n",
       "    </tr>\n",
       "    <tr>\n",
       "      <th>1021</th>\n",
       "      <td>09001</td>\n",
       "      <td>91</td>\n",
       "      <td>09</td>\n",
       "      <td>43.0</td>\n",
       "      <td>hombres</td>\n",
       "      <td>25</td>\n",
       "    </tr>\n",
       "    <tr>\n",
       "      <th>6461</th>\n",
       "      <td>09001</td>\n",
       "      <td>91</td>\n",
       "      <td>09</td>\n",
       "      <td>NaN</td>\n",
       "      <td>mujeres</td>\n",
       "      <td>65</td>\n",
       "    </tr>\n",
       "    <tr>\n",
       "      <th>6460</th>\n",
       "      <td>09001</td>\n",
       "      <td>91</td>\n",
       "      <td>09</td>\n",
       "      <td>40.0</td>\n",
       "      <td>mujeres</td>\n",
       "      <td>65</td>\n",
       "    </tr>\n",
       "    <tr>\n",
       "      <th>1190</th>\n",
       "      <td>09001</td>\n",
       "      <td>91</td>\n",
       "      <td>09</td>\n",
       "      <td>NaN</td>\n",
       "      <td>hombres</td>\n",
       "      <td>30</td>\n",
       "    </tr>\n",
       "  </tbody>\n",
       "</table>\n",
       "</div>"
      ],
      "text/plain": [
       "     COD_SEC COD_BAR COD_DIS  value      sex age\n",
       "0      09001      91      09    NaN  hombres  to\n",
       "1021   09001      91      09   43.0  hombres  25\n",
       "6461   09001      91      09    NaN  mujeres  65\n",
       "6460   09001      91      09   40.0  mujeres  65\n",
       "1190   09001      91      09    NaN  hombres  30"
      ]
     },
     "execution_count": 29,
     "metadata": {},
     "output_type": "execute_result"
    }
   ],
   "source": [
    "district_pop_melt = district_pop_melt.drop(columns=[\"variable\"])\n",
    "district_pop_melt.head()"
   ]
  },
  {
   "cell_type": "code",
   "execution_count": 30,
   "id": "5b39d62a-5638-4cc6-98f6-49692bfd12fb",
   "metadata": {},
   "outputs": [],
   "source": [
    "district_pop_melt = district_pop_melt.reset_index(drop=True)"
   ]
  },
  {
   "cell_type": "code",
   "execution_count": 31,
   "id": "adb22a2c-2298-4024-a49d-f79a54b98d08",
   "metadata": {},
   "outputs": [
    {
     "data": {
      "text/plain": [
       "age\n",
       "00    361.0\n",
       "05    419.0\n",
       "10    374.0\n",
       "11      5.0\n",
       "15    389.0\n",
       "20    580.0\n",
       "25    957.0\n",
       "30    856.0\n",
       "35    872.0\n",
       "40    834.0\n",
       "45    852.0\n",
       "50    771.0\n",
       "55    765.0\n",
       "60    728.0\n",
       "65    585.0\n",
       "70    539.0\n",
       "75    474.0\n",
       "80    266.0\n",
       "85    219.0\n",
       "90    109.0\n",
       "95     19.0\n",
       "Name: value, dtype: float64"
      ]
     },
     "execution_count": 31,
     "metadata": {},
     "output_type": "execute_result"
    }
   ],
   "source": [
    "district_pop_melt.loc[\n",
    "    (district_pop_melt[\"COD_BAR\"] == str(NEIGHBOURHOOD_CODE))\n",
    "    & (district_pop_melt[\"sex\"] == \"hombres\")\n",
    "    & (district_pop_melt[\"age\"] != \"to\")\n",
    "].groupby(\"age\")[\"value\"].sum()"
   ]
  },
  {
   "cell_type": "code",
   "execution_count": 32,
   "id": "96f1e950-6b7e-4a79-8dcd-5de932a534c9",
   "metadata": {},
   "outputs": [
    {
     "data": {
      "text/plain": [
       "age\n",
       "00    2465.0\n",
       "05    2748.0\n",
       "10    2882.0\n",
       "11      16.0\n",
       "15    3254.0\n",
       "20    3205.0\n",
       "25    3649.0\n",
       "30    3342.0\n",
       "35    3745.0\n",
       "40    4041.0\n",
       "45    4163.0\n",
       "50    4136.0\n",
       "55    4061.0\n",
       "60    3497.0\n",
       "65    2777.0\n",
       "70    2586.0\n",
       "75    2072.0\n",
       "80    1424.0\n",
       "85    1002.0\n",
       "90     437.0\n",
       "95      86.0\n",
       "Name: value, dtype: float64"
      ]
     },
     "execution_count": 32,
     "metadata": {},
     "output_type": "execute_result"
    }
   ],
   "source": [
    "district_pop_melt.loc[\n",
    "    (district_pop_melt[\"COD_DIS\"].astype(int) == DISTRICT_CODE)\n",
    "    & (district_pop_melt[\"sex\"] == \"hombres\")\n",
    "    & (district_pop_melt[\"age\"] != \"to\")\n",
    "].groupby(\"age\")[\"value\"].sum()"
   ]
  },
  {
   "cell_type": "code",
   "execution_count": 39,
   "id": "d5cbf266-3349-4b04-9f0a-3936e98e083b",
   "metadata": {},
   "outputs": [
    {
     "data": {
      "image/png": "[encoded data removed]",
      "text/plain": [
       "<Figure size 576x576 with 4 Axes>"
      ]
     },
     "metadata": {
      "needs_background": "light"
     },
     "output_type": "display_data"
    }
   ],
   "source": [
    "with plt.rc_context({\n",
    "    \"axes.spines.left\": False,\n",
    "    \"axes.spines.right\": False,\n",
    "    \"axes.spines.top\": False,\n",
    "    \"axes.spines.bottom\": False,\n",
    "    \"ytick.left\": False,\n",
    "}):\n",
    "    fig, (ax_l, ax_r) = plt.subplots(figsize=(8, 8), ncols=2, sharey=True)\n",
    "\n",
    "    district_pop_melt.loc[\n",
    "        (district_pop_melt[\"COD_DIS\"].astype(int) == DISTRICT_CODE)\n",
    "        & (district_pop_melt[\"sex\"] == \"hombres\")\n",
    "        & (district_pop_melt[\"age\"] != \"to\")\n",
    "    ].groupby(\"age\")[\"value\"].sum().plot.barh(ax=ax_l, color=\"#BFE1FF\", label=\"Hombres (Moncloa-Aravaca)\")\n",
    "    ax_l.invert_xaxis()\n",
    "    ax_l.set_facecolor(\"none\")\n",
    "\n",
    "    ax_l2 = ax_l.twiny()\n",
    "    district_pop_melt.loc[\n",
    "        (district_pop_melt[\"COD_BAR\"] == str(NEIGHBOURHOOD_CODE))\n",
    "        & (district_pop_melt[\"sex\"] == \"hombres\")\n",
    "        & (district_pop_melt[\"age\"] != \"to\")\n",
    "    ].groupby(\"age\")[\"value\"].sum().plot.barh(ax=ax_l2, color=\"#3BA3FF\", label=\"Hombres (Argüelles)\")\n",
    "    ax_l2.invert_xaxis()\n",
    "    ax_l2.set_axis_off()\n",
    "\n",
    "    district_pop_melt.loc[\n",
    "        (district_pop_melt[\"COD_DIS\"].astype(int) == DISTRICT_CODE)\n",
    "        & (district_pop_melt[\"sex\"] == \"mujeres\")\n",
    "        & (district_pop_melt[\"age\"] != \"to\")\n",
    "    ].groupby(\"age\")[\"value\"].sum().plot.barh(ax=ax_r, color=\"#ffc0cb\", label=\"Mujeres (Moncloa-Aravaca)\")\n",
    "    ax_r.set_facecolor(\"none\")\n",
    "\n",
    "    ax_r2 = ax_r.twiny()\n",
    "    district_pop_melt.loc[\n",
    "        (district_pop_melt[\"COD_BAR\"] == str(NEIGHBOURHOOD_CODE))\n",
    "        & (district_pop_melt[\"sex\"] == \"hombres\")\n",
    "        & (district_pop_melt[\"age\"] != \"to\")\n",
    "    ].groupby(\"age\")[\"value\"].sum().plot.barh(ax=ax_r2, color=\"#FF3B5B\", label=\"Mujeres (Argüelles)\")\n",
    "    ax_r2.set_axis_off()\n",
    "\n",
    "    fig.legend(loc=1, bbox_to_anchor=(0.1, -0.1, 1, 1), facecolor=\"none\", edgecolor=\"none\")\n",
    "    fig.suptitle(\"Pirámide de población de Argüelles\")\n",
    "    fig.subplots_adjust()"
   ]
  },
  {
   "cell_type": "markdown",
   "id": "fceb14f5-4ccf-4ff9-9751-2ceb71e33055",
   "metadata": {},
   "source": [
    "## Vivienda\n",
    "\n",
    "El precio de la vivienda en Argüelles es el más alto del distrito, superando ampliamente la media del distrito. En cuanto al número de locales en el barrio también es considerablemente superior al del resto de barrios. "
   ]
  },
  {
   "cell_type": "markdown",
   "id": "4adaf3c3-723f-4da5-9d73-27bc344f0243",
   "metadata": {},
   "source": [
    "## Nivel de estudios\n",
    "\n",
    "En cuanto al nivel de estudios, destaca el número de personas con estudios superiores, universitarios que contrasta con un bajo número de personas con estudios inferiores o sin estudios. "
   ]
  },
  {
   "cell_type": "markdown",
   "id": "27e09654-cafc-4247-93c9-697a5a467df0",
   "metadata": {},
   "source": [
    "## Economía\n",
    "\n",
    "El número de personas cotizantes antes de la pandemia (que prevemos ha debido de modificar sustancialmente estas cifras) es de 9244, de los cuales, 1828 serían autónomos, siendo el segundo barrio con mayor número de personas trabajando en este régimen. En cuanto a los sectores destaca, con amplia diferencia el sector servicios. Y en cuanto a las secciones destacan las de actividades profesionales, científicas y técnicas y el comercio al por mayor y al por menor. \n",
    "\n",
    "La estimación de la tasa absoluta de desempleo (antes de la pandemia) es de 4,8 frente a 5,2 de la media del distrito.  Concentrándose el número de en mayores de 35 y mayores de 45. De los desempleados registrados, más de un 25% serían de larga duración. "
   ]
  },
  {
   "cell_type": "markdown",
   "id": "dc3859bd-2d03-4326-8ab4-225904b29fe0",
   "metadata": {},
   "source": [
    "## Política\n",
    "\n",
    "En cuanto a los resultados electorales en las últimas municipales, Más Madrid fue la segunda fuerza más votada en el barrio, después del Partido Popular. Seguirían a Más Madrid, Ciudadanos, con alrededor de 1000 votos menos Vox y finalmente PSOE, que sería el partido con menor respaldo electoral en los comicios de abril de 2019. "
   ]
  }
 ],
 "metadata": {
  "kernelspec": {
   "display_name": "Python 3",
   "language": "python",
   "name": "python3"
  },
  "language_info": {
   "codemirror_mode": {
    "name": "ipython",
    "version": 3
   },
   "file_extension": ".py",
   "mimetype": "text/x-python",
   "name": "python",
   "nbconvert_exporter": "python",
   "pygments_lexer": "ipython3",
   "version": "3.8.8"
  }
 },
 "nbformat": 4,
 "nbformat_minor": 5
}
