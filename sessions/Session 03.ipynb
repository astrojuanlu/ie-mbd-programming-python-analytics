{
 "cells": [
  {
   "cell_type": "markdown",
   "metadata": {},
   "source": [
    "# Session 03"
   ]
  },
  {
   "cell_type": "markdown",
   "metadata": {},
   "source": [
    "## Boolean types and operators"
   ]
  },
  {
   "cell_type": "markdown",
   "metadata": {},
   "source": [
    "Apart from all the types seen so far (`int`, `float`, `str`, `list`, `tuple`, `range`), Python also has boolean types: those representing either binary logic."
   ]
  },
  {
   "cell_type": "code",
   "execution_count": 1,
   "metadata": {
    "execution": {
     "iopub.execute_input": "2022-10-07T14:27:51.309783Z",
     "iopub.status.busy": "2022-10-07T14:27:51.309633Z",
     "iopub.status.idle": "2022-10-07T14:27:51.317696Z",
     "shell.execute_reply": "2022-10-07T14:27:51.317344Z",
     "shell.execute_reply.started": "2022-10-07T14:27:51.309745Z"
    }
   },
   "outputs": [
    {
     "data": {
      "text/plain": [
       "True"
      ]
     },
     "execution_count": 1,
     "metadata": {},
     "output_type": "execute_result"
    }
   ],
   "source": [
    "True"
   ]
  },
  {
   "cell_type": "code",
   "execution_count": 2,
   "metadata": {
    "execution": {
     "iopub.execute_input": "2022-10-07T14:27:52.413891Z",
     "iopub.status.busy": "2022-10-07T14:27:52.413426Z",
     "iopub.status.idle": "2022-10-07T14:27:52.416107Z",
     "shell.execute_reply": "2022-10-07T14:27:52.415871Z",
     "shell.execute_reply.started": "2022-10-07T14:27:52.413868Z"
    }
   },
   "outputs": [
    {
     "data": {
      "text/plain": [
       "False"
      ]
     },
     "execution_count": 2,
     "metadata": {},
     "output_type": "execute_result"
    }
   ],
   "source": [
    "False"
   ]
  },
  {
   "cell_type": "markdown",
   "metadata": {},
   "source": [
    "Boolean values have several associated operations:"
   ]
  },
  {
   "cell_type": "code",
   "execution_count": 3,
   "metadata": {
    "execution": {
     "iopub.execute_input": "2022-10-07T14:29:05.862832Z",
     "iopub.status.busy": "2022-10-07T14:29:05.862697Z",
     "iopub.status.idle": "2022-10-07T14:29:05.865810Z",
     "shell.execute_reply": "2022-10-07T14:29:05.865390Z",
     "shell.execute_reply.started": "2022-10-07T14:29:05.862819Z"
    }
   },
   "outputs": [
    {
     "data": {
      "text/plain": [
       "False"
      ]
     },
     "execution_count": 3,
     "metadata": {},
     "output_type": "execute_result"
    }
   ],
   "source": [
    "not True"
   ]
  },
  {
   "cell_type": "code",
   "execution_count": 4,
   "metadata": {
    "execution": {
     "iopub.execute_input": "2022-10-07T14:29:09.675949Z",
     "iopub.status.busy": "2022-10-07T14:29:09.674614Z",
     "iopub.status.idle": "2022-10-07T14:29:09.682294Z",
     "shell.execute_reply": "2022-10-07T14:29:09.681630Z",
     "shell.execute_reply.started": "2022-10-07T14:29:09.675884Z"
    }
   },
   "outputs": [
    {
     "data": {
      "text/plain": [
       "True"
      ]
     },
     "execution_count": 4,
     "metadata": {},
     "output_type": "execute_result"
    }
   ],
   "source": [
    "True or False"
   ]
  },
  {
   "cell_type": "code",
   "execution_count": 5,
   "metadata": {
    "execution": {
     "iopub.execute_input": "2022-10-07T14:29:14.252960Z",
     "iopub.status.busy": "2022-10-07T14:29:14.252584Z",
     "iopub.status.idle": "2022-10-07T14:29:14.259219Z",
     "shell.execute_reply": "2022-10-07T14:29:14.258631Z",
     "shell.execute_reply.started": "2022-10-07T14:29:14.252919Z"
    }
   },
   "outputs": [
    {
     "data": {
      "text/plain": [
       "False"
      ]
     },
     "execution_count": 5,
     "metadata": {},
     "output_type": "execute_result"
    }
   ],
   "source": [
    "False and True"
   ]
  },
  {
   "cell_type": "markdown",
   "metadata": {},
   "source": [
    "Rather than using `True` and `False` directly like these, boolean values emerge from working with other Python types:"
   ]
  },
  {
   "cell_type": "code",
   "execution_count": 7,
   "metadata": {
    "execution": {
     "iopub.execute_input": "2022-10-07T14:30:47.261975Z",
     "iopub.status.busy": "2022-10-07T14:30:47.261394Z",
     "iopub.status.idle": "2022-10-07T14:30:47.264588Z",
     "shell.execute_reply": "2022-10-07T14:30:47.264347Z",
     "shell.execute_reply.started": "2022-10-07T14:30:47.261958Z"
    },
    "tags": []
   },
   "outputs": [
    {
     "data": {
      "text/plain": [
       "True"
      ]
     },
     "execution_count": 7,
     "metadata": {},
     "output_type": "execute_result"
    }
   ],
   "source": [
    "2 + 2 == 4"
   ]
  },
  {
   "cell_type": "code",
   "execution_count": 8,
   "metadata": {
    "execution": {
     "iopub.execute_input": "2022-10-07T14:31:05.346005Z",
     "iopub.status.busy": "2022-10-07T14:31:05.345665Z",
     "iopub.status.idle": "2022-10-07T14:31:05.348855Z",
     "shell.execute_reply": "2022-10-07T14:31:05.348489Z",
     "shell.execute_reply.started": "2022-10-07T14:31:05.345990Z"
    }
   },
   "outputs": [
    {
     "data": {
      "text/plain": [
       "True"
      ]
     },
     "execution_count": 8,
     "metadata": {},
     "output_type": "execute_result"
    }
   ],
   "source": [
    "10 > -1"
   ]
  },
  {
   "cell_type": "code",
   "execution_count": 9,
   "metadata": {
    "execution": {
     "iopub.execute_input": "2022-10-07T14:31:13.291005Z",
     "iopub.status.busy": "2022-10-07T14:31:13.290881Z",
     "iopub.status.idle": "2022-10-07T14:31:13.293649Z",
     "shell.execute_reply": "2022-10-07T14:31:13.293402Z",
     "shell.execute_reply.started": "2022-10-07T14:31:13.290994Z"
    }
   },
   "outputs": [
    {
     "data": {
      "text/plain": [
       "False"
      ]
     },
     "execution_count": 9,
     "metadata": {},
     "output_type": "execute_result"
    }
   ],
   "source": [
    "5 <= 0"
   ]
  },
  {
   "cell_type": "code",
   "execution_count": 11,
   "metadata": {
    "execution": {
     "iopub.execute_input": "2022-10-07T14:31:32.849186Z",
     "iopub.status.busy": "2022-10-07T14:31:32.848889Z",
     "iopub.status.idle": "2022-10-07T14:31:32.853295Z",
     "shell.execute_reply": "2022-10-07T14:31:32.852962Z",
     "shell.execute_reply.started": "2022-10-07T14:31:32.849160Z"
    },
    "tags": []
   },
   "outputs": [
    {
     "data": {
      "text/plain": [
       "False"
      ]
     },
     "execution_count": 11,
     "metadata": {},
     "output_type": "execute_result"
    }
   ],
   "source": [
    "\"a\" > \"b\"  # lexicographical order"
   ]
  },
  {
   "cell_type": "markdown",
   "metadata": {},
   "source": [
    "<div class=\"alert alert-warning\">Don't confuse the comparison operator <code>==</code> (double equal sign) with the assignment operator <code>=</code> (single equal sign)</div>"
   ]
  },
  {
   "cell_type": "markdown",
   "metadata": {},
   "source": [
    "## Conditionals: `if`"
   ]
  },
  {
   "cell_type": "markdown",
   "metadata": {},
   "source": [
    "Conditionals are used to \"branch\" the code depending on a boolean value. If the condition is true, part of the code will execute:"
   ]
  },
  {
   "cell_type": "code",
   "execution_count": 12,
   "metadata": {
    "execution": {
     "iopub.execute_input": "2022-10-07T14:32:18.566767Z",
     "iopub.status.busy": "2022-10-07T14:32:18.566402Z",
     "iopub.status.idle": "2022-10-07T14:32:18.574881Z",
     "shell.execute_reply": "2022-10-07T14:32:18.574075Z",
     "shell.execute_reply.started": "2022-10-07T14:32:18.566730Z"
    }
   },
   "outputs": [
    {
     "data": {
      "text/plain": [
       "16"
      ]
     },
     "execution_count": 12,
     "metadata": {},
     "output_type": "execute_result"
    }
   ],
   "source": [
    "age = 16\n",
    "age"
   ]
  },
  {
   "cell_type": "code",
   "execution_count": 14,
   "metadata": {
    "execution": {
     "iopub.execute_input": "2022-10-07T14:32:36.604229Z",
     "iopub.status.busy": "2022-10-07T14:32:36.604024Z",
     "iopub.status.idle": "2022-10-07T14:32:36.606231Z",
     "shell.execute_reply": "2022-10-07T14:32:36.605904Z",
     "shell.execute_reply.started": "2022-10-07T14:32:36.604216Z"
    },
    "tags": []
   },
   "outputs": [],
   "source": [
    "if age >= 18:\n",
    "    print(\"You can drive\")\n",
    "\n",
    "# Nothing gets printed"
   ]
  },
  {
   "cell_type": "markdown",
   "metadata": {},
   "source": [
    "Notice that the Python syntax mandates that the statement \"inside\" the conditional is indented:"
   ]
  },
  {
   "cell_type": "code",
   "execution_count": 16,
   "metadata": {
    "execution": {
     "iopub.execute_input": "2022-10-07T14:33:25.911464Z",
     "iopub.status.busy": "2022-10-07T14:33:25.911347Z",
     "iopub.status.idle": "2022-10-07T14:33:25.913847Z",
     "shell.execute_reply": "2022-10-07T14:33:25.913479Z",
     "shell.execute_reply.started": "2022-10-07T14:33:25.911453Z"
    },
    "tags": []
   },
   "outputs": [
    {
     "ename": "IndentationError",
     "evalue": "expected an indented block (3069806706.py, line 2)",
     "output_type": "error",
     "traceback": [
      "\u001b[0;36m  Input \u001b[0;32mIn [16]\u001b[0;36m\u001b[0m\n\u001b[0;31m    print(\"You can drive\")  # IndentationError\u001b[0m\n\u001b[0m    ^\u001b[0m\n\u001b[0;31mIndentationError\u001b[0m\u001b[0;31m:\u001b[0m expected an indented block\n"
     ]
    }
   ],
   "source": [
    "if age >= 18:\n",
    "print(\"You can drive\")  # IndentationError"
   ]
  },
  {
   "cell_type": "markdown",
   "metadata": {},
   "source": [
    "Similarly, to \"exit\" the conditional, you remove one level of indentation. Whatever is written outside the conditional will execute regardless of the condition:"
   ]
  },
  {
   "cell_type": "code",
   "execution_count": 18,
   "metadata": {
    "execution": {
     "iopub.execute_input": "2022-10-07T14:34:25.100410Z",
     "iopub.status.busy": "2022-10-07T14:34:25.100194Z",
     "iopub.status.idle": "2022-10-07T14:34:25.102731Z",
     "shell.execute_reply": "2022-10-07T14:34:25.102482Z",
     "shell.execute_reply.started": "2022-10-07T14:34:25.100397Z"
    },
    "tags": []
   },
   "outputs": [
    {
     "name": "stdout",
     "output_type": "stream",
     "text": [
      "This gets printed regardless\n"
     ]
    }
   ],
   "source": [
    "if age >= 18:\n",
    "    print(\"You can drive\")\n",
    "print(\"This gets printed regardless\")"
   ]
  },
  {
   "cell_type": "markdown",
   "metadata": {},
   "source": [
    "More branches can be added with `elif` (to check further conditions) and a final branch can be added with `else` (that will execute if no other branch got executed):"
   ]
  },
  {
   "cell_type": "code",
   "execution_count": 19,
   "metadata": {
    "execution": {
     "iopub.execute_input": "2022-10-07T14:35:06.414235Z",
     "iopub.status.busy": "2022-10-07T14:35:06.413899Z",
     "iopub.status.idle": "2022-10-07T14:35:06.416960Z",
     "shell.execute_reply": "2022-10-07T14:35:06.416613Z",
     "shell.execute_reply.started": "2022-10-07T14:35:06.414217Z"
    }
   },
   "outputs": [
    {
     "name": "stdout",
     "output_type": "stream",
     "text": [
      "You cannot drive yet\n",
      "Out of the conditional\n"
     ]
    }
   ],
   "source": [
    "if age >= 18:\n",
    "    print(\"You can drive\")\n",
    "elif age < 0:\n",
    "    print(\"The age is invalid\")\n",
    "else:\n",
    "    print(\"You cannot drive yet\")\n",
    "print(\"Out of the conditional\")"
   ]
  },
  {
   "cell_type": "markdown",
   "metadata": {},
   "source": [
    "Anything that evaluates to `True` or `False` can be used for a condition:"
   ]
  },
  {
   "cell_type": "code",
   "execution_count": 21,
   "metadata": {
    "execution": {
     "iopub.execute_input": "2022-10-07T14:36:19.143141Z",
     "iopub.status.busy": "2022-10-07T14:36:19.142907Z",
     "iopub.status.idle": "2022-10-07T14:36:19.146454Z",
     "shell.execute_reply": "2022-10-07T14:36:19.145942Z",
     "shell.execute_reply.started": "2022-10-07T14:36:19.143120Z"
    },
    "tags": []
   },
   "outputs": [
    {
     "name": "stdout",
     "output_type": "stream",
     "text": [
      "Addition and string concatenation work as expected\n"
     ]
    }
   ],
   "source": [
    "condition = (2 + 2 == 4) and (\"hello\" == \"he\" + \"llo\")\n",
    "if condition:\n",
    "    print(\"Addition and string concatenation work as expected\")"
   ]
  },
  {
   "cell_type": "markdown",
   "metadata": {},
   "source": [
    "## Loops: `for` and `while`"
   ]
  },
  {
   "cell_type": "markdown",
   "metadata": {},
   "source": [
    "Loops are used to repeat an action. They are the fundamental building block that allow automating repeating tasks.\n",
    "\n",
    "To prevent a loop from getting stuck, several control methods exist. For example, `for` loops iterate a sequence, and terminate automatically when the last item of the sequence has been processed."
   ]
  },
  {
   "cell_type": "code",
   "execution_count": 22,
   "metadata": {
    "execution": {
     "iopub.execute_input": "2022-10-07T14:47:51.141928Z",
     "iopub.status.busy": "2022-10-07T14:47:51.141810Z",
     "iopub.status.idle": "2022-10-07T14:47:51.144857Z",
     "shell.execute_reply": "2022-10-07T14:47:51.144500Z",
     "shell.execute_reply.started": "2022-10-07T14:47:51.141916Z"
    }
   },
   "outputs": [
    {
     "data": {
      "text/plain": [
       "9"
      ]
     },
     "execution_count": 22,
     "metadata": {},
     "output_type": "execute_result"
    }
   ],
   "source": [
    "name = \"Juan Luis\"\n",
    "len(name)"
   ]
  },
  {
   "cell_type": "code",
   "execution_count": 23,
   "metadata": {
    "execution": {
     "iopub.execute_input": "2022-10-07T14:47:57.453549Z",
     "iopub.status.busy": "2022-10-07T14:47:57.453327Z",
     "iopub.status.idle": "2022-10-07T14:47:57.456554Z",
     "shell.execute_reply": "2022-10-07T14:47:57.456306Z",
     "shell.execute_reply.started": "2022-10-07T14:47:57.453535Z"
    }
   },
   "outputs": [
    {
     "name": "stdout",
     "output_type": "stream",
     "text": [
      "Next character is: J\n",
      "Next character is: u\n",
      "Next character is: a\n",
      "Next character is: n\n",
      "Next character is:  \n",
      "Next character is: L\n",
      "Next character is: u\n",
      "Next character is: i\n",
      "Next character is: s\n"
     ]
    }
   ],
   "source": [
    "# character = name[0]\n",
    "# ...\n",
    "# character = name[1]\n",
    "# ...\n",
    "for character in name:\n",
    "    print(\"Next character is: \" + character)"
   ]
  },
  {
   "cell_type": "markdown",
   "metadata": {},
   "source": [
    "Conditionals can be nested inside loops:"
   ]
  },
  {
   "cell_type": "code",
   "execution_count": 27,
   "metadata": {
    "execution": {
     "iopub.execute_input": "2022-10-07T14:48:59.835193Z",
     "iopub.status.busy": "2022-10-07T14:48:59.835036Z",
     "iopub.status.idle": "2022-10-07T14:48:59.838777Z",
     "shell.execute_reply": "2022-10-07T14:48:59.838436Z",
     "shell.execute_reply.started": "2022-10-07T14:48:59.835178Z"
    },
    "tags": []
   },
   "outputs": [
    {
     "name": "stdout",
     "output_type": "stream",
     "text": [
      "J\n",
      "u\n",
      "a\n",
      "n\n",
      "Whitespace detected:\n",
      " \n",
      "L\n",
      "u\n",
      "i\n",
      "s\n"
     ]
    }
   ],
   "source": [
    "for character in name:\n",
    "    if character == \" \":\n",
    "        print(\"Whitespace detected:\")\n",
    "    print(character)"
   ]
  },
  {
   "cell_type": "markdown",
   "metadata": {},
   "source": [
    "More control statements can be added, for example:\n",
    "\n",
    "- `continue` skips to the next iteration\n",
    "- `break` interrupts the loop immediately"
   ]
  },
  {
   "cell_type": "code",
   "execution_count": 31,
   "metadata": {
    "execution": {
     "iopub.execute_input": "2022-10-07T14:51:51.193306Z",
     "iopub.status.busy": "2022-10-07T14:51:51.193071Z",
     "iopub.status.idle": "2022-10-07T14:51:51.196542Z",
     "shell.execute_reply": "2022-10-07T14:51:51.196221Z",
     "shell.execute_reply.started": "2022-10-07T14:51:51.193288Z"
    },
    "tags": []
   },
   "outputs": [
    {
     "name": "stdout",
     "output_type": "stream",
     "text": [
      "0\n",
      "2\n",
      "4\n",
      "Loop is over\n"
     ]
    }
   ],
   "source": [
    "for number in range(10):\n",
    "    if number % 2 == 1:  # % is the modulo operator, returns the remainder of the division\n",
    "        continue  # Skip to next iteration\n",
    "    if number >= 5:\n",
    "        break  # Numbers larger or equal to 5 will never get printed\n",
    "    print(number)\n",
    "\n",
    "print(\"Loop is over\")"
   ]
  },
  {
   "cell_type": "markdown",
   "metadata": {},
   "source": [
    "Since empty lines inside a control structure are treated as a `SyntaxError`, a `pass` statement can be used, which does nothing:"
   ]
  },
  {
   "cell_type": "code",
   "execution_count": 32,
   "metadata": {
    "execution": {
     "iopub.execute_input": "2022-10-07T14:52:57.483727Z",
     "iopub.status.busy": "2022-10-07T14:52:57.482323Z",
     "iopub.status.idle": "2022-10-07T14:52:57.486790Z",
     "shell.execute_reply": "2022-10-07T14:52:57.486419Z",
     "shell.execute_reply.started": "2022-10-07T14:52:57.483657Z"
    }
   },
   "outputs": [
    {
     "ename": "IndentationError",
     "evalue": "expected an indented block (1302721119.py, line 2)",
     "output_type": "error",
     "traceback": [
      "\u001b[0;36m  Input \u001b[0;32mIn [32]\u001b[0;36m\u001b[0m\n\u001b[0;31m    \u001b[0m\n\u001b[0m    ^\u001b[0m\n\u001b[0;31mIndentationError\u001b[0m\u001b[0;31m:\u001b[0m expected an indented block\n"
     ]
    }
   ],
   "source": [
    "for number in range(10):  # SyntaxError\n",
    "    "
   ]
  },
  {
   "cell_type": "code",
   "execution_count": 33,
   "metadata": {
    "execution": {
     "iopub.execute_input": "2022-10-07T14:53:07.003378Z",
     "iopub.status.busy": "2022-10-07T14:53:07.002992Z",
     "iopub.status.idle": "2022-10-07T14:53:07.009163Z",
     "shell.execute_reply": "2022-10-07T14:53:07.008025Z",
     "shell.execute_reply.started": "2022-10-07T14:53:07.003338Z"
    }
   },
   "outputs": [],
   "source": [
    "for number in range(10):\n",
    "    pass  # Do nothing"
   ]
  },
  {
   "cell_type": "markdown",
   "metadata": {},
   "source": [
    "`while` loops, on the other hand, use a boolean condition to control the iteration. They are more dangerous and can get stuck if the condition is never set to `False`:"
   ]
  },
  {
   "cell_type": "code",
   "execution_count": 34,
   "metadata": {
    "execution": {
     "iopub.execute_input": "2022-10-07T14:53:58.694142Z",
     "iopub.status.busy": "2022-10-07T14:53:58.693704Z",
     "iopub.status.idle": "2022-10-07T14:53:58.697974Z",
     "shell.execute_reply": "2022-10-07T14:53:58.697277Z",
     "shell.execute_reply.started": "2022-10-07T14:53:58.694089Z"
    }
   },
   "outputs": [],
   "source": [
    "# while True:  # Gets stuck forever\n",
    "#     pass"
   ]
  },
  {
   "cell_type": "code",
   "execution_count": 35,
   "metadata": {
    "execution": {
     "iopub.execute_input": "2022-10-07T15:00:51.746281Z",
     "iopub.status.busy": "2022-10-07T15:00:51.746145Z",
     "iopub.status.idle": "2022-10-07T15:00:51.749373Z",
     "shell.execute_reply": "2022-10-07T15:00:51.749076Z",
     "shell.execute_reply.started": "2022-10-07T15:00:51.746269Z"
    }
   },
   "outputs": [
    {
     "name": "stdout",
     "output_type": "stream",
     "text": [
      "0\n",
      "1\n",
      "2\n",
      "3\n",
      "4\n"
     ]
    }
   ],
   "source": [
    "number = 0\n",
    "while number < 5:\n",
    "    print(number)\n",
    "    number = number + 1  # Important! To update the condition so it eventually is made `False`"
   ]
  },
  {
   "cell_type": "markdown",
   "metadata": {},
   "source": [
    "### 1. Fizz buzz\n",
    "\n",
    "(Classical coding interview question)\n",
    "\n",
    "> Print all the numbers from 1 to 100, except that:\n",
    "> - If the number is divisible by 3, write Fizz instead of the number\n",
    "> - If the number is divisible by 5, write Buzz instead of the number\n",
    "> - If the number is divisible by 3 and 5 both, write FizzBuzz instead of the number"
   ]
  },
  {
   "cell_type": "markdown",
   "metadata": {},
   "source": [
    "### 2. Categorize our clients\n",
    "\n",
    "We want to categorize clients of our telecom company according to some features, and bucket them into 2 groups:\n",
    "\n",
    "- Women aged 20 to 25 (both included) or users with any gender younger than 20, in both cases with average monthly data consumption over 5 GB\n",
    "- Men aged 35 to 45 with average monthly data consumption between 2 and 5 GB, or women aged 30 to 40 with average monthly data consumption between 3 and 8 GB\n",
    "\n",
    "To what groups does each user belong?\n",
    "\n",
    "_Tip: Make each user a tuple_\n",
    "\n",
    "| Id | Age (years) | Sex | Average monthly consumption (GB) |\n",
    "| --- | --- | --- | --- |\n",
    "| 1 | 40 | male | 10.2 |\n",
    "| 2 | 50 | female | 5.4 |\n",
    "| 3 | 23 | female | 8.0 |\n",
    "| 4 | 18 | male | 2.5 |"
   ]
  },
  {
   "cell_type": "markdown",
   "metadata": {},
   "source": [
    "### 3. Aggregating numbers\n",
    "\n",
    "Compute the average age of all the clients, as well as the median average monthtly consumption.\n",
    "\n",
    "_Tip: There are several Python libraries that can perform this calculation. Use them to verify that your own implementation is correct._"
   ]
  }
 ],
 "metadata": {
  "kernelspec": {
   "display_name": "Python 3 (ipykernel)",
   "language": "python",
   "name": "python3"
  },
  "language_info": {
   "codemirror_mode": {
    "name": "ipython",
    "version": 3
   },
   "file_extension": ".py",
   "mimetype": "text/x-python",
   "name": "python",
   "nbconvert_exporter": "python",
   "pygments_lexer": "ipython3",
   "version": "3.9.12"
  }
 },
 "nbformat": 4,
 "nbformat_minor": 4
}
