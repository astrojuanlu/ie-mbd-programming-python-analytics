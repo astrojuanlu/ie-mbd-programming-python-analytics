{
 "cells": [
  {
   "cell_type": "markdown",
   "metadata": {},
   "source": [
    "## Exercises"
   ]
  },
  {
   "cell_type": "markdown",
   "metadata": {},
   "source": [
    "### 1. Fizz buzz\n",
    "\n",
    "(Classical coding interview question)\n",
    "\n",
    "> Print all the numbers from 1 to 100, except that:\n",
    "> - If the number is divisible by 3, write Fizz instead of the number\n",
    "> - If the number is divisible by 5, write Buzz instead of the number\n",
    "> - If the number is divisible by 3 and 5 both, write FizzBuzz instead of the number"
   ]
  }
 ],
 "metadata": {
  "kernelspec": {
   "display_name": "Python 3",
   "language": "python",
   "name": "python3"
  },
  "language_info": {
   "codemirror_mode": {
    "name": "ipython",
    "version": 3
   },
   "file_extension": ".py",
   "mimetype": "text/x-python",
   "name": "python",
   "nbconvert_exporter": "python",
   "pygments_lexer": "ipython3",
   "version": "3.8.5"
  }
 },
 "nbformat": 4,
 "nbformat_minor": 4
}
