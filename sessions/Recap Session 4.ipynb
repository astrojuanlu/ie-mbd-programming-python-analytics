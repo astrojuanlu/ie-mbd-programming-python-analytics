{
 "cells": [
  {
   "cell_type": "code",
   "execution_count": 1,
   "id": "0f099d45-918d-4610-8873-6e978df1149c",
   "metadata": {},
   "outputs": [],
   "source": [
    "import json"
   ]
  },
  {
   "cell_type": "code",
   "execution_count": 2,
   "id": "b1f95dbf-2fea-4cac-a747-b79176132eb0",
   "metadata": {},
   "outputs": [],
   "source": [
    "with open(\"data/tenders.es.json\") as fh:\n",
    "    data = json.load(fh)"
   ]
  },
  {
   "cell_type": "code",
   "execution_count": 4,
   "id": "4f19bda6-c65d-4d61-9284-79b8806655b8",
   "metadata": {},
   "outputs": [
    {
     "data": {
      "text/plain": [
       "(dict, 5)"
      ]
     },
     "execution_count": 4,
     "metadata": {},
     "output_type": "execute_result"
    }
   ],
   "source": [
    "type(data), len(data)"
   ]
  },
  {
   "cell_type": "code",
   "execution_count": 5,
   "id": "4a5017a1-7cb7-424e-94fc-44a60b252a40",
   "metadata": {},
   "outputs": [
    {
     "data": {
      "text/plain": [
       "dict_keys(['page_count', 'page_number', 'page_size', 'total', 'data'])"
      ]
     },
     "execution_count": 5,
     "metadata": {},
     "output_type": "execute_result"
    }
   ],
   "source": [
    "data.keys()"
   ]
  },
  {
   "cell_type": "code",
   "execution_count": 7,
   "id": "c1e7f51f-2e7e-424e-8c78-8eea9e706208",
   "metadata": {},
   "outputs": [
    {
     "data": {
      "text/plain": [
       "(list, 100)"
      ]
     },
     "execution_count": 7,
     "metadata": {},
     "output_type": "execute_result"
    }
   ],
   "source": [
    "list_of_tenders = data[\"data\"]\n",
    "type(list_of_tenders), len(list_of_tenders)"
   ]
  },
  {
   "cell_type": "code",
   "execution_count": 8,
   "id": "8dbc1d34-31b2-4d0c-bc92-2dcd7a2a8f44",
   "metadata": {},
   "outputs": [],
   "source": [
    "tender0 = list_of_tenders[0]"
   ]
  },
  {
   "cell_type": "code",
   "execution_count": 9,
   "id": "7ca3ec9d-7ca1-4aa9-919f-f68672684d10",
   "metadata": {},
   "outputs": [
    {
     "data": {
      "text/plain": [
       "dict_keys(['id', 'date', 'deadline_date', 'deadline_length_days', 'title', 'category', 'sid', 'src_url', 'purchaser', 'type', 'awarded'])"
      ]
     },
     "execution_count": 9,
     "metadata": {},
     "output_type": "execute_result"
    }
   ],
   "source": [
    "tender0.keys()"
   ]
  },
  {
   "cell_type": "code",
   "execution_count": 12,
   "id": "b2e3f013-a4ee-4b9c-a7c3-dbde68cb2e95",
   "metadata": {},
   "outputs": [
    {
     "data": {
      "text/plain": [
       "'Negotiated without publicity'"
      ]
     },
     "execution_count": 12,
     "metadata": {},
     "output_type": "execute_result"
    }
   ],
   "source": [
    "tender0[\"type\"][\"name\"]"
   ]
  },
  {
   "cell_type": "code",
   "execution_count": 13,
   "id": "0c6bab62-1e12-4084-919d-4ddcf24adbc7",
   "metadata": {},
   "outputs": [
    {
     "data": {
      "text/plain": [
       "'services'"
      ]
     },
     "execution_count": 13,
     "metadata": {},
     "output_type": "execute_result"
    }
   ],
   "source": [
    "tender0[\"category\"]"
   ]
  },
  {
   "cell_type": "code",
   "execution_count": 15,
   "id": "c4698dcf-6700-4f8d-a26c-dfe527f54e32",
   "metadata": {},
   "outputs": [
    {
     "data": {
      "text/plain": [
       "{'constructions', 'other', 'services', 'supplies'}"
      ]
     },
     "execution_count": 15,
     "metadata": {},
     "output_type": "execute_result"
    }
   ],
   "source": [
    "set_of_categories = {\n",
    "    tender[\"category\"]\n",
    "    for tender in list_of_tenders\n",
    "}\n",
    "set_of_categories"
   ]
  },
  {
   "cell_type": "code",
   "execution_count": 16,
   "id": "e19ce215-da0d-4d67-9c72-96e297f558e2",
   "metadata": {},
   "outputs": [],
   "source": [
    "list_of_categories = [\n",
    "    tender[\"category\"]\n",
    "    for tender in list_of_tenders\n",
    "]"
   ]
  },
  {
   "cell_type": "code",
   "execution_count": 17,
   "id": "0d1d306d-e530-42c5-828b-be89e3a7f73e",
   "metadata": {},
   "outputs": [
    {
     "data": {
      "text/plain": [
       "11"
      ]
     },
     "execution_count": 17,
     "metadata": {},
     "output_type": "execute_result"
    }
   ],
   "source": [
    "list_of_categories.count(\"constructions\")"
   ]
  },
  {
   "cell_type": "code",
   "execution_count": 21,
   "id": "0dd43f4a-97f3-4ba8-b301-a1c446ab3877",
   "metadata": {},
   "outputs": [
    {
     "name": "stdout",
     "output_type": "stream",
     "text": [
      "services 48\n",
      "other 8\n",
      "constructions 11\n",
      "supplies 33\n"
     ]
    }
   ],
   "source": [
    "for category in set_of_categories:\n",
    "    print(category, list_of_categories.count(category))"
   ]
  },
  {
   "cell_type": "code",
   "execution_count": 22,
   "id": "3ea4ce06-321d-48c0-9c99-9e9364ef13f5",
   "metadata": {},
   "outputs": [],
   "source": [
    "from collections import Counter"
   ]
  },
  {
   "cell_type": "code",
   "execution_count": 23,
   "id": "8f776670-6974-45b6-90c0-65daa5ff639d",
   "metadata": {},
   "outputs": [
    {
     "data": {
      "text/plain": [
       "Counter({'services': 48, 'supplies': 33, 'other': 8, 'constructions': 11})"
      ]
     },
     "execution_count": 23,
     "metadata": {},
     "output_type": "execute_result"
    }
   ],
   "source": [
    "Counter(list_of_categories)"
   ]
  },
  {
   "cell_type": "code",
   "execution_count": 24,
   "id": "835b2008-eca0-4f57-b03e-8abaf3a8faa8",
   "metadata": {},
   "outputs": [
    {
     "data": {
      "text/plain": [
       "dict_keys(['id', 'date', 'deadline_date', 'deadline_length_days', 'title', 'category', 'sid', 'src_url', 'purchaser', 'type', 'awarded'])"
      ]
     },
     "execution_count": 24,
     "metadata": {},
     "output_type": "execute_result"
    }
   ],
   "source": [
    "tender0.keys()"
   ]
  },
  {
   "cell_type": "code",
   "execution_count": 26,
   "id": "68e520a6-9129-4424-a5b2-04b2c04fbcd8",
   "metadata": {},
   "outputs": [
    {
     "data": {
      "text/plain": [
       "dict_keys(['id', 'date', 'title', 'category', 'sid', 'src_url', 'purchaser', 'type', 'awarded'])"
      ]
     },
     "execution_count": 26,
     "metadata": {},
     "output_type": "execute_result"
    }
   ],
   "source": [
    "list_of_tenders[2].keys()"
   ]
  },
  {
   "cell_type": "code",
   "execution_count": 27,
   "id": "2ecc3100-4c66-47f2-9abb-400b056b7c8e",
   "metadata": {},
   "outputs": [
    {
     "data": {
      "text/plain": [
       "True"
      ]
     },
     "execution_count": 27,
     "metadata": {},
     "output_type": "execute_result"
    }
   ],
   "source": [
    "\"deadline_date\" in tender0"
   ]
  },
  {
   "cell_type": "code",
   "execution_count": 28,
   "id": "f6ab39d0-9f84-411d-b7a2-e6e41bf4cde8",
   "metadata": {},
   "outputs": [
    {
     "data": {
      "text/plain": [
       "False"
      ]
     },
     "execution_count": 28,
     "metadata": {},
     "output_type": "execute_result"
    }
   ],
   "source": [
    "\"deadline_date\" in list_of_tenders[2]"
   ]
  },
  {
   "cell_type": "markdown",
   "id": "caf12fe3-9a81-4bd0-aa46-c1a9e00d1886",
   "metadata": {},
   "source": [
    "### Exercise 1\n",
    "\n",
    "How many tenders _don't_ have a `deadline_date`?"
   ]
  },
  {
   "cell_type": "markdown",
   "id": "b46e74d1-ad94-4f43-bb6d-64b2238e5dac",
   "metadata": {},
   "source": [
    "### Exercise 1\n",
    "\n",
    "How many tenders _don't_ have a `deadline_date`?"
   ]
  },
  {
   "cell_type": "code",
   "execution_count": 30,
   "id": "7ca7af86-dc42-40a4-bc92-d8f35ddbde6f",
   "metadata": {},
   "outputs": [
    {
     "data": {
      "text/plain": [
       "{'a': 1, 'b': None}"
      ]
     },
     "execution_count": 30,
     "metadata": {},
     "output_type": "execute_result"
    }
   ],
   "source": [
    "dd = {\n",
    "    \"a\": 1,\n",
    "    \"b\": None\n",
    "}\n",
    "dd"
   ]
  },
  {
   "cell_type": "code",
   "execution_count": 31,
   "id": "0768539e-1f65-4749-9a7f-39194d3d5d09",
   "metadata": {},
   "outputs": [
    {
     "data": {
      "text/plain": [
       "True"
      ]
     },
     "execution_count": 31,
     "metadata": {},
     "output_type": "execute_result"
    }
   ],
   "source": [
    "dd[\"b\"] is None"
   ]
  },
  {
   "cell_type": "code",
   "execution_count": 32,
   "id": "08657d17-dfa3-4a90-a803-9f299497c6a3",
   "metadata": {},
   "outputs": [
    {
     "ename": "KeyError",
     "evalue": "'c'",
     "output_type": "error",
     "traceback": [
      "\u001b[0;31m---------------------------------------------------------------------------\u001b[0m",
      "\u001b[0;31mKeyError\u001b[0m                                  Traceback (most recent call last)",
      "\u001b[0;32m<ipython-input-32-eff1f1df9a83>\u001b[0m in \u001b[0;36m<module>\u001b[0;34m\u001b[0m\n\u001b[0;32m----> 1\u001b[0;31m \u001b[0mdd\u001b[0m\u001b[0;34m[\u001b[0m\u001b[0;34m\"c\"\u001b[0m\u001b[0;34m]\u001b[0m \u001b[0;32mis\u001b[0m \u001b[0;32mNone\u001b[0m\u001b[0;34m\u001b[0m\u001b[0;34m\u001b[0m\u001b[0m\n\u001b[0m",
      "\u001b[0;31mKeyError\u001b[0m: 'c'"
     ]
    }
   ],
   "source": [
    "dd[\"c\"] is None"
   ]
  },
  {
   "cell_type": "code",
   "execution_count": 33,
   "id": "298d10a8-7370-451f-a19a-bc6213c94ad1",
   "metadata": {},
   "outputs": [
    {
     "data": {
      "text/plain": [
       "False"
      ]
     },
     "execution_count": 33,
     "metadata": {},
     "output_type": "execute_result"
    }
   ],
   "source": [
    "\"c\" in dd"
   ]
  },
  {
   "cell_type": "code",
   "execution_count": 36,
   "id": "3d4ab07a-ee8c-47d4-b210-a285fb1a8bca",
   "metadata": {},
   "outputs": [],
   "source": [
    "# dd[\"c\"]  # Raises an error if the key doesn't exist"
   ]
  },
  {
   "cell_type": "code",
   "execution_count": 37,
   "id": "f9e7ae84-df44-4f3f-ad9d-cd1d4dd3df99",
   "metadata": {},
   "outputs": [
    {
     "data": {
      "text/plain": [
       "True"
      ]
     },
     "execution_count": 37,
     "metadata": {},
     "output_type": "execute_result"
    }
   ],
   "source": [
    "# dd.get(\"c\")  # Returns None if the key doesn't exist\n",
    "dd.get(\"c\") is None"
   ]
  },
  {
   "cell_type": "code",
   "execution_count": 34,
   "id": "56070498-5427-4554-8d0a-8c5ea1a39c44",
   "metadata": {},
   "outputs": [
    {
     "name": "stdout",
     "output_type": "stream",
     "text": [
      "There is no 'c'\n"
     ]
    }
   ],
   "source": [
    "try:\n",
    "    print(dd[\"c\"])\n",
    "except:\n",
    "    print(\"There is no 'c'\")"
   ]
  },
  {
   "cell_type": "code",
   "execution_count": null,
   "id": "2941a648-edd2-4a96-a2c0-b0e448d9268c",
   "metadata": {},
   "outputs": [],
   "source": []
  },
  {
   "cell_type": "code",
   "execution_count": null,
   "id": "202f3a5c-00a8-4a60-a915-907275ebacca",
   "metadata": {},
   "outputs": [],
   "source": []
  },
  {
   "cell_type": "code",
   "execution_count": 43,
   "id": "041898ab-2f04-4a9a-87b9-caabdc6ecf7c",
   "metadata": {
    "collapsed": true,
    "jupyter": {
     "outputs_hidden": true
    },
    "tags": []
   },
   "outputs": [
    {
     "data": {
      "text/plain": [
       "['2021-06-07',\n",
       " '2021-06-01',\n",
       " '2021-06-11',\n",
       " '2021-05-19',\n",
       " '2021-03-10',\n",
       " '2021-06-08',\n",
       " '2021-06-02',\n",
       " '2021-06-16',\n",
       " '2021-05-31',\n",
       " '2021-05-27',\n",
       " '2021-06-06',\n",
       " '2021-06-19',\n",
       " '2021-05-26',\n",
       " '2021-06-09',\n",
       " '2020-11-30',\n",
       " '2021-05-25',\n",
       " '2021-06-23',\n",
       " '2021-06-10',\n",
       " '2021-04-26',\n",
       " '2021-06-14',\n",
       " '2021-05-21',\n",
       " '2021-04-06',\n",
       " '2021-05-18',\n",
       " '2021-05-10',\n",
       " '2021-06-23',\n",
       " '2021-06-04',\n",
       " '2021-06-04',\n",
       " '2021-05-21',\n",
       " '2021-05-26',\n",
       " '2021-06-08',\n",
       " '2021-03-11',\n",
       " '2021-06-21',\n",
       " '2021-04-07',\n",
       " '2021-05-24',\n",
       " '2021-06-24',\n",
       " '2021-01-22',\n",
       " '2021-05-21',\n",
       " '2021-04-21',\n",
       " '2021-02-26',\n",
       " '2021-03-12',\n",
       " '2021-06-11',\n",
       " '2021-06-01',\n",
       " '2021-05-25',\n",
       " '2021-04-20',\n",
       " '2021-03-22',\n",
       " '2021-05-27',\n",
       " '2021-04-19',\n",
       " '2021-06-09',\n",
       " '2021-05-27',\n",
       " '2021-02-26',\n",
       " '2021-06-16',\n",
       " '2021-05-04',\n",
       " '2021-06-15',\n",
       " '2021-06-15',\n",
       " '2021-05-10',\n",
       " '2021-04-07',\n",
       " '2021-05-14',\n",
       " '2021-06-03',\n",
       " '2021-06-21',\n",
       " '2021-06-08',\n",
       " '2021-05-05',\n",
       " '2021-05-04',\n",
       " '2021-05-19',\n",
       " '2021-05-19',\n",
       " '2021-06-14',\n",
       " '2021-02-18',\n",
       " '2021-05-25',\n",
       " '2021-06-01',\n",
       " '2021-06-21',\n",
       " '2021-06-15',\n",
       " '2021-06-28',\n",
       " '2021-06-21',\n",
       " '2020-12-17',\n",
       " '2021-06-14',\n",
       " '2021-06-14',\n",
       " '2021-06-01',\n",
       " '2021-06-02',\n",
       " '2021-06-29',\n",
       " '2021-06-16',\n",
       " '2021-05-25',\n",
       " '2021-06-24',\n",
       " '2021-06-14']"
      ]
     },
     "execution_count": 43,
     "metadata": {},
     "output_type": "execute_result"
    }
   ],
   "source": [
    "# List comprehension\n",
    "[\n",
    "    tender[\"deadline_date\"]\n",
    "    for tender in list_of_tenders\n",
    "    if \"deadline_date\" in tender\n",
    "]"
   ]
  },
  {
   "cell_type": "code",
   "execution_count": 40,
   "id": "dfb148e8-e776-4b93-97ae-84802e172f73",
   "metadata": {
    "collapsed": true,
    "jupyter": {
     "outputs_hidden": true
    },
    "tags": []
   },
   "outputs": [
    {
     "name": "stdout",
     "output_type": "stream",
     "text": [
      "2021-06-07\n",
      "2021-06-01\n",
      "None\n",
      "None\n",
      "2021-06-11\n",
      "None\n",
      "None\n",
      "None\n",
      "None\n",
      "None\n",
      "None\n",
      "None\n",
      "None\n",
      "None\n",
      "2021-05-19\n",
      "2021-03-10\n",
      "2021-06-08\n",
      "2021-06-02\n",
      "2021-06-16\n",
      "2021-05-31\n",
      "2021-05-27\n",
      "2021-06-06\n",
      "2021-06-19\n",
      "2021-05-26\n",
      "2021-06-09\n",
      "2020-11-30\n",
      "2021-05-25\n",
      "2021-06-23\n",
      "None\n",
      "None\n",
      "2021-06-10\n",
      "2021-04-26\n",
      "2021-06-14\n",
      "2021-05-21\n",
      "2021-04-06\n",
      "2021-05-18\n",
      "None\n",
      "2021-05-10\n",
      "2021-06-23\n",
      "None\n",
      "2021-06-04\n",
      "2021-06-04\n",
      "2021-05-21\n",
      "2021-05-26\n",
      "2021-06-08\n",
      "2021-03-11\n",
      "2021-06-21\n",
      "None\n",
      "2021-04-07\n",
      "2021-05-24\n",
      "2021-06-24\n",
      "2021-01-22\n",
      "2021-05-21\n",
      "None\n",
      "None\n",
      "2021-04-21\n",
      "2021-02-26\n",
      "2021-03-12\n",
      "2021-06-11\n",
      "2021-06-01\n",
      "2021-05-25\n",
      "2021-04-20\n",
      "2021-03-22\n",
      "2021-05-27\n",
      "2021-04-19\n",
      "2021-06-09\n",
      "2021-05-27\n",
      "2021-02-26\n",
      "2021-06-16\n",
      "2021-05-04\n",
      "2021-06-15\n",
      "2021-06-15\n",
      "2021-05-10\n",
      "2021-04-07\n",
      "2021-05-14\n",
      "2021-06-03\n",
      "2021-06-21\n",
      "2021-06-08\n",
      "2021-05-05\n",
      "2021-05-04\n",
      "2021-05-19\n",
      "2021-05-19\n",
      "2021-06-14\n",
      "2021-02-18\n",
      "2021-05-25\n",
      "2021-06-01\n",
      "2021-06-21\n",
      "2021-06-15\n",
      "2021-06-28\n",
      "2021-06-21\n",
      "2020-12-17\n",
      "2021-06-14\n",
      "2021-06-14\n",
      "2021-06-01\n",
      "2021-06-02\n",
      "2021-06-29\n",
      "2021-06-16\n",
      "2021-05-25\n",
      "2021-06-24\n",
      "2021-06-14\n"
     ]
    }
   ],
   "source": [
    "for tender in list_of_tenders:\n",
    "    print(tender.get(\"deadline_date\"))"
   ]
  },
  {
   "cell_type": "code",
   "execution_count": 39,
   "id": "eb8aa952-e38a-4c4d-9a69-7cb6b55bb7ee",
   "metadata": {},
   "outputs": [
    {
     "name": "stdout",
     "output_type": "stream",
     "text": [
      "2021-06-07\n",
      "2021-06-01\n",
      "2021-06-11\n",
      "2021-05-19\n",
      "2021-03-10\n",
      "2021-06-08\n",
      "2021-06-02\n",
      "2021-06-16\n",
      "2021-05-31\n",
      "2021-05-27\n",
      "2021-06-06\n",
      "2021-06-19\n",
      "2021-05-26\n",
      "2021-06-09\n",
      "2020-11-30\n",
      "2021-05-25\n",
      "2021-06-23\n",
      "2021-06-10\n",
      "2021-04-26\n",
      "2021-06-14\n",
      "2021-05-21\n",
      "2021-04-06\n",
      "2021-05-18\n",
      "2021-05-10\n",
      "2021-06-23\n",
      "2021-06-04\n",
      "2021-06-04\n",
      "2021-05-21\n",
      "2021-05-26\n",
      "2021-06-08\n",
      "2021-03-11\n",
      "2021-06-21\n",
      "2021-04-07\n",
      "2021-05-24\n",
      "2021-06-24\n",
      "2021-01-22\n",
      "2021-05-21\n",
      "2021-04-21\n",
      "2021-02-26\n",
      "2021-03-12\n",
      "2021-06-11\n",
      "2021-06-01\n",
      "2021-05-25\n",
      "2021-04-20\n",
      "2021-03-22\n",
      "2021-05-27\n",
      "2021-04-19\n",
      "2021-06-09\n",
      "2021-05-27\n",
      "2021-02-26\n",
      "2021-06-16\n",
      "2021-05-04\n",
      "2021-06-15\n",
      "2021-06-15\n",
      "2021-05-10\n",
      "2021-04-07\n",
      "2021-05-14\n",
      "2021-06-03\n",
      "2021-06-21\n",
      "2021-06-08\n",
      "2021-05-05\n",
      "2021-05-04\n",
      "2021-05-19\n",
      "2021-05-19\n",
      "2021-06-14\n",
      "2021-02-18\n",
      "2021-05-25\n",
      "2021-06-01\n",
      "2021-06-21\n",
      "2021-06-15\n",
      "2021-06-28\n",
      "2021-06-21\n",
      "2020-12-17\n",
      "2021-06-14\n",
      "2021-06-14\n",
      "2021-06-01\n",
      "2021-06-02\n",
      "2021-06-29\n",
      "2021-06-16\n",
      "2021-05-25\n",
      "2021-06-24\n",
      "2021-06-14\n"
     ]
    }
   ],
   "source": [
    "for tender in list_of_tenders:\n",
    "    if \"deadline_date\" in tender:\n",
    "        print(tender[\"deadline_date\"])"
   ]
  },
  {
   "cell_type": "code",
   "execution_count": 56,
   "id": "3709b129-0e20-45cf-90bf-95382c506a41",
   "metadata": {},
   "outputs": [
    {
     "data": {
      "text/plain": [
       "18"
      ]
     },
     "execution_count": 56,
     "metadata": {},
     "output_type": "execute_result"
    }
   ],
   "source": [
    "len([\n",
    "    \"\"\n",
    "    for tender in list_of_tenders\n",
    "    if \"deadline_date\" not in tender\n",
    "])"
   ]
  },
  {
   "cell_type": "code",
   "execution_count": 66,
   "id": "d5fb697b-161b-4a49-a26b-0e852d359b21",
   "metadata": {},
   "outputs": [
    {
     "data": {
      "text/plain": [
       "18"
      ]
     },
     "execution_count": 66,
     "metadata": {},
     "output_type": "execute_result"
    }
   ],
   "source": [
    "len([\n",
    "    1\n",
    "    for tender in list_of_tenders\n",
    "    if \"deadline_date\" not in tender\n",
    "])"
   ]
  },
  {
   "cell_type": "markdown",
   "id": "8dd6fc5e-1073-436c-beb7-94b4676cdaf1",
   "metadata": {},
   "source": [
    "### Exercise 2\n",
    "\n",
    "Create a list of all the **deadline lengths** (as integers)."
   ]
  },
  {
   "cell_type": "code",
   "execution_count": 61,
   "id": "36c2002f-69eb-498b-a133-6d9a46f3b338",
   "metadata": {},
   "outputs": [],
   "source": [
    "list_of_deadline_lengths = []\n",
    "\n",
    "for tender in list_of_tenders:\n",
    "    if \"deadline_length_days\" in tender:\n",
    "        deadline_length = int(tender[\"deadline_length_days\"])\n",
    "        list_of_deadline_lengths.append(deadline_length)"
   ]
  },
  {
   "cell_type": "code",
   "execution_count": 67,
   "id": "a3b1ed57-6e8d-4720-96d2-64bf0ff70692",
   "metadata": {},
   "outputs": [
    {
     "data": {
      "text/plain": [
       "158"
      ]
     },
     "execution_count": 67,
     "metadata": {},
     "output_type": "execute_result"
    }
   ],
   "source": [
    "max(list_of_deadline_lengths)"
   ]
  },
  {
   "cell_type": "code",
   "execution_count": 68,
   "id": "c4019061-ede6-483f-801d-eba9d5fe1888",
   "metadata": {},
   "outputs": [
    {
     "data": {
      "text/plain": [
       "1"
      ]
     },
     "execution_count": 68,
     "metadata": {},
     "output_type": "execute_result"
    }
   ],
   "source": [
    "min(list_of_deadline_lengths)"
   ]
  },
  {
   "cell_type": "code",
   "execution_count": 69,
   "id": "b7c5d030-33c3-4e36-ba42-d56456170867",
   "metadata": {},
   "outputs": [
    {
     "data": {
      "text/plain": [
       "22.22222222222222"
      ]
     },
     "execution_count": 69,
     "metadata": {},
     "output_type": "execute_result"
    }
   ],
   "source": [
    "sum(list_of_deadline_lengths) / len(list_of_deadline_lengths)"
   ]
  },
  {
   "cell_type": "code",
   "execution_count": 70,
   "id": "ec180276-4da7-48ed-a656-bdbd0f8081c5",
   "metadata": {},
   "outputs": [],
   "source": [
    "from statistics import mean"
   ]
  },
  {
   "cell_type": "code",
   "execution_count": 71,
   "id": "b56f596e-f275-4096-abc1-e7bb46d48d71",
   "metadata": {},
   "outputs": [
    {
     "data": {
      "text/plain": [
       "22.22222222222222"
      ]
     },
     "execution_count": 71,
     "metadata": {},
     "output_type": "execute_result"
    }
   ],
   "source": [
    "mean(list_of_deadline_lengths)"
   ]
  },
  {
   "cell_type": "code",
   "execution_count": 72,
   "id": "3c7049e2-1dac-4f92-81d7-529fbb5c8f7a",
   "metadata": {},
   "outputs": [],
   "source": [
    "def extract_month(date_str):\n",
    "    return ..."
   ]
  },
  {
   "cell_type": "code",
   "execution_count": 73,
   "id": "2e148601-7fe4-4fb1-b227-bf293e21ea5a",
   "metadata": {},
   "outputs": [
    {
     "data": {
      "text/plain": [
       "'2021-06-29'"
      ]
     },
     "execution_count": 73,
     "metadata": {},
     "output_type": "execute_result"
    }
   ],
   "source": [
    "tender0[\"date\"]"
   ]
  },
  {
   "cell_type": "code",
   "execution_count": 75,
   "id": "162f824f-557b-4a51-a353-dfee815697ae",
   "metadata": {},
   "outputs": [
    {
     "data": {
      "text/plain": [
       "'06'"
      ]
     },
     "execution_count": 75,
     "metadata": {},
     "output_type": "execute_result"
    }
   ],
   "source": [
    "tender0[\"date\"][5:7]"
   ]
  },
  {
   "cell_type": "code",
   "execution_count": 78,
   "id": "bd19abb0-c740-4f02-812c-8c2466d93b2e",
   "metadata": {},
   "outputs": [
    {
     "data": {
      "text/plain": [
       "6"
      ]
     },
     "execution_count": 78,
     "metadata": {},
     "output_type": "execute_result"
    }
   ],
   "source": [
    "int(tender0[\"date\"].split(\"-\")[1])"
   ]
  },
  {
   "cell_type": "code",
   "execution_count": 83,
   "id": "7485d37f-0985-465e-81a3-26b80ba484b8",
   "metadata": {},
   "outputs": [
    {
     "data": {
      "text/plain": [
       "'06'"
      ]
     },
     "execution_count": 83,
     "metadata": {},
     "output_type": "execute_result"
    }
   ],
   "source": [
    "def extract_month(date_str):\n",
    "    return date_str.split(\"-\")[1]\n",
    "\n",
    "extract_month(\"2021-06-03\")"
   ]
  },
  {
   "cell_type": "code",
   "execution_count": 97,
   "id": "710b5104-04cf-4ee6-98aa-f712df8735eb",
   "metadata": {},
   "outputs": [],
   "source": [
    "# extract_month(tender0)"
   ]
  },
  {
   "cell_type": "code",
   "execution_count": 90,
   "id": "e18bb5e3-d9bf-4158-aca5-38a579a488c5",
   "metadata": {},
   "outputs": [
    {
     "data": {
      "text/plain": [
       "'06'"
      ]
     },
     "execution_count": 90,
     "metadata": {},
     "output_type": "execute_result"
    }
   ],
   "source": [
    "def extract_month_from_tender(tender):\n",
    "    return tender[\"date\"].split(\"-\")[1]\n",
    "\n",
    "extract_month_from_tender(tender0)"
   ]
  },
  {
   "cell_type": "code",
   "execution_count": 98,
   "id": "7b72b162-aff0-4e81-bd4e-d7da46354ee3",
   "metadata": {},
   "outputs": [],
   "source": [
    "# extract_month_from_tender(\"2021-06-03\")"
   ]
  },
  {
   "cell_type": "markdown",
   "id": "8983ea1d-3bd7-493e-9b1c-8738e5afdaed",
   "metadata": {},
   "source": [
    "### Exercise 3\n",
    "\n",
    "- Assemble a list with the months\n",
    "- How many tenders are there in each month?"
   ]
  },
  {
   "cell_type": "markdown",
   "id": "45c9b31e-4199-4b82-983e-6acad2bccb4a",
   "metadata": {},
   "source": [
    "### Exercise 3\n",
    "\n",
    "- Assemble a list with the months\n",
    "- How many tenders are there in each month?"
   ]
  },
  {
   "cell_type": "code",
   "execution_count": 101,
   "id": "a08fd3e0-73fd-4bdb-b82c-bd5fe0deb552",
   "metadata": {},
   "outputs": [],
   "source": [
    "list_of_months = [\n",
    "    extract_month(tender[\"date\"])\n",
    "    for tender in list_of_tenders\n",
    "]"
   ]
  },
  {
   "cell_type": "code",
   "execution_count": 103,
   "id": "19c7e45f-2580-48c6-8ec8-523dd1627d21",
   "metadata": {},
   "outputs": [
    {
     "name": "stdout",
     "output_type": "stream",
     "text": [
      "01 1\n",
      "02 6\n",
      "03 2\n",
      "04 11\n",
      "05 31\n",
      "06 46\n",
      "10 1\n",
      "11 1\n",
      "12 1\n"
     ]
    }
   ],
   "source": [
    "for month in sorted(list(set(list_of_months))):\n",
    "    print(month, list_of_months.count(month))"
   ]
  },
  {
   "cell_type": "markdown",
   "id": "df8be80f-9097-4764-9802-e716286ade10",
   "metadata": {},
   "source": [
    "### Exercise 4\n",
    "\n",
    "Are all the tenders from 2021?"
   ]
  },
  {
   "cell_type": "code",
   "execution_count": 104,
   "id": "07ac2ff3-8fad-4184-aaba-ff48daa9c77a",
   "metadata": {},
   "outputs": [],
   "source": [
    "def extract_year(date_str):\n",
    "    return date_str.split(\"-\")[0]"
   ]
  },
  {
   "cell_type": "code",
   "execution_count": 105,
   "id": "0a148239-42b8-4413-b0d1-db301908fe53",
   "metadata": {},
   "outputs": [
    {
     "data": {
      "text/plain": [
       "'2021'"
      ]
     },
     "execution_count": 105,
     "metadata": {},
     "output_type": "execute_result"
    }
   ],
   "source": [
    "extract_year(\"2021-09-12\")"
   ]
  },
  {
   "cell_type": "code",
   "execution_count": 108,
   "id": "9e668423-167c-4e27-b54a-f4416684c1b8",
   "metadata": {},
   "outputs": [
    {
     "data": {
      "text/plain": [
       "Counter({'2021': 97, '2020': 3})"
      ]
     },
     "execution_count": 108,
     "metadata": {},
     "output_type": "execute_result"
    }
   ],
   "source": [
    "Counter([\n",
    "    extract_year(tender[\"date\"])\n",
    "    for tender in list_of_tenders\n",
    "])"
   ]
  }
 ],
 "metadata": {
  "kernelspec": {
   "display_name": "Python 3",
   "language": "python",
   "name": "python3"
  },
  "language_info": {
   "codemirror_mode": {
    "name": "ipython",
    "version": 3
   },
   "file_extension": ".py",
   "mimetype": "text/x-python",
   "name": "python",
   "nbconvert_exporter": "python",
   "pygments_lexer": "ipython3",
   "version": "3.8.8"
  }
 },
 "nbformat": 4,
 "nbformat_minor": 5
}
