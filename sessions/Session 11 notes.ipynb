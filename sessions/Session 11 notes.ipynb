{
 "cells": [
  {
   "cell_type": "code",
   "execution_count": 1,
   "id": "53c838bf-ec45-4e6a-a831-d358a52af90b",
   "metadata": {},
   "outputs": [
    {
     "name": "stdout",
     "output_type": "stream",
     "text": [
      "<class 'list'> 9\n"
     ]
    }
   ],
   "source": [
    "import requests\n",
    "\n",
    "DATA_URL = (\n",
    "    \"https://github.com/astrojuanlu/ie-mbd-python-data-analysis-i/\"\n",
    "    \"raw/main/data/twitter_data.json\"\n",
    ")\n",
    "\n",
    "data = requests.get(DATA_URL).json()\n",
    "print(type(data), len(data))"
   ]
  },
  {
   "cell_type": "code",
   "execution_count": 6,
   "id": "ac1d96f5-d60b-4d27-ab00-fa26cfaa1bb8",
   "metadata": {},
   "outputs": [
    {
     "name": "stdout",
     "output_type": "stream",
     "text": [
      "1252840795737997317\n",
      "#balboaisland\n",
      "#newportbeach\n",
      "#tennis\n",
      "#covid_19\n",
      "#coronavirus\n",
      "#orangecounty\n",
      "#california\n"
     ]
    }
   ],
   "source": [
    "tweet0 = data[0]\n",
    "print(tweet0[\"id\"])\n",
    "for h_dictionary in tweet0[\"entities\"][\"hashtags\"]:\n",
    "    print(\"#\" + h_dictionary[\"text\"])"
   ]
  },
  {
   "cell_type": "code",
   "execution_count": 7,
   "id": "f8b6287a-2acf-4668-a6ae-e0bb0db01ddc",
   "metadata": {},
   "outputs": [],
   "source": [
    "def print_tweet(tweet):\n",
    "    print(tweet[\"id\"])\n",
    "    for h_dictionary in tweet[\"entities\"][\"hashtags\"]:\n",
    "        print(\"#\" + h_dictionary[\"text\"])"
   ]
  },
  {
   "cell_type": "code",
   "execution_count": 11,
   "id": "36e7b689-4b5a-4e66-895e-73727d656e26",
   "metadata": {},
   "outputs": [
    {
     "name": "stdout",
     "output_type": "stream",
     "text": [
      "1256459430129885184\n",
      "#ThisWeekend\n",
      "#la\n",
      "#LosAngeles\n",
      "#activities\n",
      "#lockdown\n"
     ]
    }
   ],
   "source": [
    "print_tweet(data[2])"
   ]
  },
  {
   "cell_type": "code",
   "execution_count": 13,
   "id": "316c5784-2068-4824-bbdb-967335fe2846",
   "metadata": {},
   "outputs": [
    {
     "data": {
      "text/plain": [
       "7"
      ]
     },
     "execution_count": 13,
     "metadata": {},
     "output_type": "execute_result"
    }
   ],
   "source": [
    "len(tweet0[\"entities\"][\"hashtags\"])"
   ]
  },
  {
   "cell_type": "code",
   "execution_count": 21,
   "id": "3994438c-ac9d-424f-9bc2-f8d0cf01bef7",
   "metadata": {},
   "outputs": [],
   "source": [
    "# Longer version, but `if ... return True ... else ... return False` is not needed\n",
    "def has_hashtags(tweet):\n",
    "    count = len(tweet[\"entities\"][\"hashtags\"])\n",
    "    if count > 0:\n",
    "        return True\n",
    "    else:\n",
    "        return False"
   ]
  },
  {
   "cell_type": "code",
   "execution_count": 45,
   "id": "4b169ae2-54f6-4fd0-97b7-f372ba27581a",
   "metadata": {},
   "outputs": [],
   "source": [
    "def has_hashtags(tweet):\n",
    "    return len(tweet['entities']['hashtags']) > 0"
   ]
  },
  {
   "cell_type": "code",
   "execution_count": 27,
   "id": "48781d0d-e410-475a-b363-bc240ed96e46",
   "metadata": {},
   "outputs": [],
   "source": [
    "# Alternatively, we can turn \n",
    "def has_hashtags(tweet):\n",
    "    return bool(tweet[\"entities\"][\"hashtags\"])"
   ]
  },
  {
   "cell_type": "code",
   "execution_count": 28,
   "id": "662a4d1f-00ff-43ee-ba6e-a3db96c66503",
   "metadata": {},
   "outputs": [
    {
     "data": {
      "text/plain": [
       "False"
      ]
     },
     "execution_count": 28,
     "metadata": {},
     "output_type": "execute_result"
    }
   ],
   "source": [
    "has_hashtags(data[-1])"
   ]
  },
  {
   "cell_type": "code",
   "execution_count": 29,
   "id": "492d0aca-f29f-4a62-9326-ed4fafc59682",
   "metadata": {},
   "outputs": [
    {
     "name": "stdout",
     "output_type": "stream",
     "text": [
      "1252840795737997317 True\n",
      "1256259052461592580 True\n",
      "1256459430129885184 True\n",
      "1256459484521615362 False\n",
      "1258334628345044992 True\n",
      "1253472356476940290 False\n",
      "1253472297144299520 False\n",
      "1254774730529243136 False\n",
      "1258172892077912064 False\n"
     ]
    }
   ],
   "source": [
    "for tweet in data:\n",
    "    print(tweet[\"id\"], has_hashtags(tweet))"
   ]
  },
  {
   "cell_type": "markdown",
   "id": "8762027c-7013-46ff-b6e0-34f382c077bc",
   "metadata": {},
   "source": [
    "('id', 'text', 'favorite_count', 'retweet_count', 'has_hashtags', 'username', 'user_followers')"
   ]
  },
  {
   "cell_type": "code",
   "execution_count": 31,
   "id": "9415714c-fb97-4939-8513-13408da211ee",
   "metadata": {},
   "outputs": [
    {
     "data": {
      "text/plain": [
       "{'created_at': 'Wed Apr 22 06:04:57 +0000 2020',\n",
       " 'id': 1252840795737997317,\n",
       " 'id_str': '1252840795737997317',\n",
       " 'text': 'Tennis a la Balboa.\\n\\n#balboaisland #newportbeach #tennis #covid_19 #coronavirus #orangecounty #california… https://t.co/px1GCH1bgZ',\n",
       " 'truncated': True,\n",
       " 'entities': {'hashtags': [{'text': 'balboaisland', 'indices': [21, 34]},\n",
       "   {'text': 'newportbeach', 'indices': [35, 48]},\n",
       "   {'text': 'tennis', 'indices': [49, 56]},\n",
       "   {'text': 'covid_19', 'indices': [57, 66]},\n",
       "   {'text': 'coronavirus', 'indices': [67, 79]},\n",
       "   {'text': 'orangecounty', 'indices': [80, 93]},\n",
       "   {'text': 'california', 'indices': [94, 105]}],\n",
       "  'symbols': [],\n",
       "  'user_mentions': [],\n",
       "  'urls': [{'url': 'https://t.co/px1GCH1bgZ',\n",
       "    'expanded_url': 'https://twitter.com/i/web/status/1252840795737997317',\n",
       "    'display_url': 'twitter.com/i/web/status/1…',\n",
       "    'indices': [107, 130]}]},\n",
       " 'source': '<a href=\"http://instagram.com\" rel=\"nofollow\">Instagram</a>',\n",
       " 'in_reply_to_status_id': None,\n",
       " 'in_reply_to_status_id_str': None,\n",
       " 'in_reply_to_user_id': None,\n",
       " 'in_reply_to_user_id_str': None,\n",
       " 'in_reply_to_screen_name': None,\n",
       " 'user': {'id': 49263812,\n",
       "  'id_str': '49263812',\n",
       "  'name': 'Joe',\n",
       "  'screen_name': 'JoesNews_',\n",
       "  'location': 'Istanbul Turkey',\n",
       "  'description': 'XCNN cameraman. Traveling around the world, capturing images of interesting people and places along the way.',\n",
       "  'url': None,\n",
       "  'entities': {'description': {'urls': []}},\n",
       "  'protected': False,\n",
       "  'followers_count': 46,\n",
       "  'friends_count': 172,\n",
       "  'listed_count': 0,\n",
       "  'created_at': 'Sun Jun 21 07:42:43 +0000 2009',\n",
       "  'favourites_count': 16,\n",
       "  'utc_offset': None,\n",
       "  'time_zone': None,\n",
       "  'geo_enabled': True,\n",
       "  'verified': False,\n",
       "  'statuses_count': 139,\n",
       "  'lang': None,\n",
       "  'contributors_enabled': False,\n",
       "  'is_translator': False,\n",
       "  'is_translation_enabled': False,\n",
       "  'profile_background_color': 'C0DEED',\n",
       "  'profile_background_image_url': 'http://abs.twimg.com/images/themes/theme1/bg.png',\n",
       "  'profile_background_image_url_https': 'https://abs.twimg.com/images/themes/theme1/bg.png',\n",
       "  'profile_background_tile': False,\n",
       "  'profile_image_url': 'http://pbs.twimg.com/profile_images/1261474596244480000/aFAGor7C_normal.jpg',\n",
       "  'profile_image_url_https': 'https://pbs.twimg.com/profile_images/1261474596244480000/aFAGor7C_normal.jpg',\n",
       "  'profile_banner_url': 'https://pbs.twimg.com/profile_banners/49263812/1589594278',\n",
       "  'profile_link_color': '1DA1F2',\n",
       "  'profile_sidebar_border_color': 'C0DEED',\n",
       "  'profile_sidebar_fill_color': 'DDEEF6',\n",
       "  'profile_text_color': '333333',\n",
       "  'profile_use_background_image': True,\n",
       "  'has_extended_profile': True,\n",
       "  'default_profile': True,\n",
       "  'default_profile_image': False,\n",
       "  'following': False,\n",
       "  'follow_request_sent': False,\n",
       "  'notifications': False,\n",
       "  'translator_type': 'none',\n",
       "  'withheld_in_countries': []},\n",
       " 'geo': {'type': 'Point', 'coordinates': [33.606389, -117.894444]},\n",
       " 'coordinates': {'type': 'Point', 'coordinates': [-117.894444, 33.606389]},\n",
       " 'place': {'id': '0ce4c27ce26030aa',\n",
       "  'url': 'https://api.twitter.com/1.1/geo/id/0ce4c27ce26030aa.json',\n",
       "  'place_type': 'city',\n",
       "  'name': 'Newport Beach',\n",
       "  'full_name': 'Newport Beach, CA',\n",
       "  'country_code': 'US',\n",
       "  'country': 'United States',\n",
       "  'contained_within': [],\n",
       "  'bounding_box': {'type': 'Polygon',\n",
       "   'coordinates': [[[-117.9582193, 33.563618],\n",
       "     [-117.789845, 33.563618],\n",
       "     [-117.789845, 33.671658],\n",
       "     [-117.9582193, 33.671658]]]},\n",
       "  'attributes': {}},\n",
       " 'contributors': None,\n",
       " 'is_quote_status': False,\n",
       " 'retweet_count': 0,\n",
       " 'favorite_count': 0,\n",
       " 'favorited': False,\n",
       " 'retweeted': False,\n",
       " 'possibly_sensitive': False,\n",
       " 'lang': 'en'}"
      ]
     },
     "execution_count": 31,
     "metadata": {},
     "output_type": "execute_result"
    }
   ],
   "source": [
    "tweet0"
   ]
  },
  {
   "cell_type": "code",
   "execution_count": 32,
   "id": "774e9b14-1b27-4cd1-b1c5-1ec997adf3eb",
   "metadata": {},
   "outputs": [],
   "source": [
    "def trim_tweet(tweet):\n",
    "    trimmed_tweet = {}\n",
    "    trimmed_tweet[\"id\"] = tweet[\"id\"]\n",
    "    trimmed_tweet[\"favorite_count\"] = tweet[\"favorite_count\"]\n",
    "    return trimmed_tweet"
   ]
  },
  {
   "cell_type": "code",
   "execution_count": 33,
   "id": "ea4d5ec4-ae2a-4cb3-a6b3-d50e654afa2f",
   "metadata": {},
   "outputs": [
    {
     "data": {
      "text/plain": [
       "{'id': 1252840795737997317, 'favorite_count': 0}"
      ]
     },
     "execution_count": 33,
     "metadata": {},
     "output_type": "execute_result"
    }
   ],
   "source": [
    "trim_tweet(tweet0)"
   ]
  },
  {
   "cell_type": "code",
   "execution_count": 40,
   "id": "0a5d7de9-565b-4a06-9125-678dfc471b9d",
   "metadata": {},
   "outputs": [],
   "source": [
    "def trim_tweet(tweet):\n",
    "    trimmed_tweet = {\n",
    "        \"id\": tweet[\"id\"],\n",
    "        \"favorite_count\": tweet[\"favorite_count\"],\n",
    "        \"has_hashtags\": has_hashtags(tweet),\n",
    "        \"user_followers\": tweet[\"user\"][\"followers_count\"]\n",
    "    }\n",
    "    return trimmed_tweet"
   ]
  },
  {
   "cell_type": "code",
   "execution_count": 41,
   "id": "301c8b39-1cee-459f-bd4e-3c1b6a2eda4a",
   "metadata": {},
   "outputs": [
    {
     "data": {
      "text/plain": [
       "{'id': 1252840795737997317,\n",
       " 'favorite_count': 0,\n",
       " 'has_hashtags': True,\n",
       " 'user_followers': 46}"
      ]
     },
     "execution_count": 41,
     "metadata": {},
     "output_type": "execute_result"
    }
   ],
   "source": [
    "trim_tweet(tweet0)"
   ]
  },
  {
   "cell_type": "code",
   "execution_count": 51,
   "id": "18d32ecd-c678-4277-928e-8529425b85dc",
   "metadata": {},
   "outputs": [
    {
     "data": {
      "text/plain": [
       "dict_keys(['created_at', 'id', 'id_str', 'text', 'truncated', 'entities', 'source', 'in_reply_to_status_id', 'in_reply_to_status_id_str', 'in_reply_to_user_id', 'in_reply_to_user_id_str', 'in_reply_to_screen_name', 'user', 'geo', 'coordinates', 'place', 'contributors', 'is_quote_status', 'retweet_count', 'favorite_count', 'favorited', 'retweeted', 'possibly_sensitive', 'lang'])"
      ]
     },
     "execution_count": 51,
     "metadata": {},
     "output_type": "execute_result"
    }
   ],
   "source": [
    "tweet0.keys()"
   ]
  },
  {
   "cell_type": "code",
   "execution_count": 49,
   "id": "dc976a3a-8530-43d8-946f-f5e254945804",
   "metadata": {},
   "outputs": [],
   "source": [
    "def trim_data(data):\n",
    "    trimmed_data = []\n",
    "    for tweet in data:\n",
    "        next_tweet = trim_tweet(tweet)\n",
    "        trimmed_data.append(next_tweet)\n",
    "\n",
    "    return trimmed_data"
   ]
  },
  {
   "cell_type": "code",
   "execution_count": 52,
   "id": "aa1e47b6-16c7-45c3-9fc9-6556491f3ba2",
   "metadata": {},
   "outputs": [],
   "source": [
    "trimmed_data = trim_data(data)"
   ]
  },
  {
   "cell_type": "code",
   "execution_count": 66,
   "id": "cc6139d8-e7fe-4539-ac19-d6be32d77acb",
   "metadata": {},
   "outputs": [
    {
     "name": "stdout",
     "output_type": "stream",
     "text": [
      "[23, 16, 10]\n"
     ]
    }
   ],
   "source": [
    "favorite_counts = []\n",
    "for tweet in trimmed_data:\n",
    "    if tweet[\"has_hashtags\"] is False and tweet[\"user_followers\"] > 500:\n",
    "        favorite_counts.append(tweet[\"favorite_count\"])\n",
    "print(favorite_counts)"
   ]
  },
  {
   "cell_type": "code",
   "execution_count": 61,
   "id": "f9a98465-f92f-4444-9b2a-b4cc5a5dc5dc",
   "metadata": {},
   "outputs": [
    {
     "data": {
      "text/plain": [
       "16.333333333333332"
      ]
     },
     "execution_count": 61,
     "metadata": {},
     "output_type": "execute_result"
    }
   ],
   "source": [
    "sum(favorite_counts) / len(favorite_counts)"
   ]
  },
  {
   "cell_type": "code",
   "execution_count": 62,
   "id": "af2c4ed0-f869-46a7-9da7-baa2b53c3560",
   "metadata": {},
   "outputs": [],
   "source": [
    "import statistics"
   ]
  },
  {
   "cell_type": "code",
   "execution_count": 63,
   "id": "f1cf7dea-14d5-471c-ac74-80ea11e0dc84",
   "metadata": {},
   "outputs": [
    {
     "data": {
      "text/plain": [
       "16.333333333333332"
      ]
     },
     "execution_count": 63,
     "metadata": {},
     "output_type": "execute_result"
    }
   ],
   "source": [
    "statistics.mean(favorite_counts)"
   ]
  },
  {
   "cell_type": "markdown",
   "id": "ef1a40e8-5227-446d-817b-d95a8a541572",
   "metadata": {},
   "source": [
    "---"
   ]
  },
  {
   "cell_type": "code",
   "execution_count": 67,
   "id": "b32a95cd-9b13-4262-b0c5-1d291dcd491f",
   "metadata": {},
   "outputs": [
    {
     "data": {
      "text/plain": [
       "'https://github.com/astrojuanlu/ie-mbd-python-data-analysis-i/raw/main/data/twitter_data.json'"
      ]
     },
     "execution_count": 67,
     "metadata": {},
     "output_type": "execute_result"
    }
   ],
   "source": [
    "DATA_URL"
   ]
  },
  {
   "cell_type": "code",
   "execution_count": 68,
   "id": "70cf928c-c55d-45c2-b109-85575731598c",
   "metadata": {},
   "outputs": [],
   "source": [
    "import os"
   ]
  },
  {
   "cell_type": "code",
   "execution_count": 73,
   "id": "d8b35b2e-d60f-497e-a974-2b3fba89cece",
   "metadata": {},
   "outputs": [],
   "source": [
    "#help(os)"
   ]
  },
  {
   "cell_type": "code",
   "execution_count": 74,
   "id": "28640600-c18b-4c9a-b9a6-d348a38878b2",
   "metadata": {},
   "outputs": [
    {
     "data": {
      "text/plain": [
       "'/home/juanlu/Projects/IE/1_python-data-analysis-i/ref/material/sessions'"
      ]
     },
     "execution_count": 74,
     "metadata": {},
     "output_type": "execute_result"
    }
   ],
   "source": [
    "os.getcwd()  # Get Current Working Directory"
   ]
  },
  {
   "cell_type": "code",
   "execution_count": 76,
   "id": "e9903fd5-c03e-46cf-9763-8203624eae66",
   "metadata": {},
   "outputs": [],
   "source": [
    "# On Windows: \"C:\\\\Users\\\\\""
   ]
  },
  {
   "cell_type": "code",
   "execution_count": 79,
   "id": "07511fb0-47e0-42cc-8900-996343bb89d6",
   "metadata": {},
   "outputs": [],
   "source": [
    "# os.listdir(\"C:\\\\\")"
   ]
  },
  {
   "cell_type": "code",
   "execution_count": 81,
   "id": "d775c75e-9951-4c98-afda-718c62eb3de1",
   "metadata": {},
   "outputs": [
    {
     "name": "stdout",
     "output_type": "stream",
     "text": [
      "['sbin', 'cdrom', 'var', 'etc', 'usr', 'sys', 'dev', 'mnt', 'srv', 'lib', 'lib32', 'bin', 'proc', 'lost+found', 'libx32', 'swapfile', 'snap', 'lib64', 'run', 'media', 'boot', 'tmp', 'home', 'opt', 'root']\n"
     ]
    }
   ],
   "source": [
    "print(os.listdir(\"/\"))"
   ]
  },
  {
   "cell_type": "code",
   "execution_count": 83,
   "id": "4039f9cc-9e6a-4844-a4ab-eb33a80b6924",
   "metadata": {},
   "outputs": [],
   "source": [
    "#print(os.listdir(\"/Users/username\"))"
   ]
  },
  {
   "cell_type": "code",
   "execution_count": 86,
   "id": "c72e1c73-3ce1-46b7-93f7-c4444ad5f45d",
   "metadata": {},
   "outputs": [
    {
     "data": {
      "text/plain": [
       "'/home/juanlu'"
      ]
     },
     "execution_count": 86,
     "metadata": {},
     "output_type": "execute_result"
    }
   ],
   "source": [
    "# <Right Alt Gr> + <4>\n",
    "os.path.expanduser(\"~\")"
   ]
  },
  {
   "cell_type": "code",
   "execution_count": 87,
   "id": "77a80418-740f-42d9-8be2-4b59a1fae824",
   "metadata": {},
   "outputs": [
    {
     "name": "stdout",
     "output_type": "stream",
     "text": [
      "['Corporate IE University Logo III.jpg', 'software', '3_advanced-python', 'ASSIGNMENTS_CHECKLIST.md', '2_python-data-analysis-ii', 'forums', 'old_subjects', 'Corporate IE University Logo II.jpg', 'documents', '2_python-workshop', '1_python-data-analysis-i', '9_github']\n"
     ]
    }
   ],
   "source": [
    "print(os.listdir(\"/home/juanlu/Projects/IE\"))"
   ]
  },
  {
   "cell_type": "code",
   "execution_count": 89,
   "id": "8bb8a9c3-cffe-4893-b7f4-9ca4c5297b69",
   "metadata": {},
   "outputs": [
    {
     "name": "stdout",
     "output_type": "stream",
     "text": [
      "['Session 09.ipynb', 'Session 01.ipynb', 'Session 16.ipynb', '.ipynb_checkpoints', 'Session 11 notes.ipynb', 'Session 02.ipynb', 'Session 08.ipynb', 'Session 06 notes (Project Euler).ipynb', 'Session 07 notes.ipynb', 'Session 09-solutions.ipynb', 'Session 03.ipynb', 'Session 04.ipynb', 'Session 08 (old).ipynb']\n"
     ]
    }
   ],
   "source": [
    "print(os.listdir(\".\"))  # Single . means current directory"
   ]
  },
  {
   "cell_type": "code",
   "execution_count": 90,
   "id": "72b2d2c9-173e-41f7-9f72-7be978db133a",
   "metadata": {},
   "outputs": [
    {
     "name": "stdout",
     "output_type": "stream",
     "text": [
      "['binder', '.ipynb_checkpoints', 'intro.ipynb', 'img', 'LICENSE.txt', '.gitignore', '.git', 'README.md', 'environment.yml', 'data', 'sessions']\n"
     ]
    }
   ],
   "source": [
    "print(os.listdir(\"..\"))  # Double .. means parent directory"
   ]
  },
  {
   "cell_type": "code",
   "execution_count": 92,
   "id": "c4668aa5-2026-4557-af84-eb454a4e8ea2",
   "metadata": {},
   "outputs": [
    {
     "data": {
      "text/plain": [
       "'/home/juanlu/Projects/IE/1_python-data-analysis-i/ref/material/sessions'"
      ]
     },
     "execution_count": 92,
     "metadata": {},
     "output_type": "execute_result"
    }
   ],
   "source": [
    "os.path.abspath(\".\")  # Relative to absolute"
   ]
  },
  {
   "cell_type": "code",
   "execution_count": 95,
   "id": "841aa61e-2112-4caa-8599-0ccc8b6a48a5",
   "metadata": {},
   "outputs": [
    {
     "data": {
      "text/plain": [
       "'/home/juanlu/Projects/IE/1_python-data-analysis-i/ref'"
      ]
     },
     "execution_count": 95,
     "metadata": {},
     "output_type": "execute_result"
    }
   ],
   "source": [
    "os.path.abspath(\"../..\")  # Two directories up"
   ]
  },
  {
   "cell_type": "code",
   "execution_count": 97,
   "id": "591fe488-5500-48b3-929a-596da1d68dee",
   "metadata": {},
   "outputs": [
    {
     "data": {
      "text/plain": [
       "list"
      ]
     },
     "execution_count": 97,
     "metadata": {},
     "output_type": "execute_result"
    }
   ],
   "source": [
    "type(data)"
   ]
  },
  {
   "cell_type": "code",
   "execution_count": 108,
   "id": "b5e8ce73-0b74-49b7-8b84-a5e9333be527",
   "metadata": {},
   "outputs": [],
   "source": [
    "# \"w\" stands for \"write\"\n",
    "# everything that happens _inside_ the context manager can use the file\n",
    "with open(\"data.txt\", \"w\") as file_handle:\n",
    "    file_handle.write(\"This is some test data\\n\")\n",
    "    file_handle.write(\"More stuff\")"
   ]
  },
  {
   "cell_type": "code",
   "execution_count": 109,
   "id": "6a5b504f-b548-4a5f-97bd-d6287e8f7349",
   "metadata": {},
   "outputs": [],
   "source": [
    "# I/O = Input/Output\n",
    "# This would raise an error\n",
    "# file_handle.write(\"...\")"
   ]
  },
  {
   "cell_type": "code",
   "execution_count": 110,
   "id": "550e0a8a-78ec-426d-a1a8-d20d2bb5bd07",
   "metadata": {},
   "outputs": [],
   "source": [
    "with open(\"data.txt\", \"r\") as file_handle:\n",
    "    contents = file_handle.read()"
   ]
  },
  {
   "cell_type": "code",
   "execution_count": 111,
   "id": "f9f90c2b-ba3f-4463-817a-5b9e9e171f2b",
   "metadata": {},
   "outputs": [
    {
     "data": {
      "text/plain": [
       "'This is some test data\\nMore stuff'"
      ]
     },
     "execution_count": 111,
     "metadata": {},
     "output_type": "execute_result"
    }
   ],
   "source": [
    "contents"
   ]
  },
  {
   "cell_type": "code",
   "execution_count": 112,
   "id": "169a5868-ad89-46c7-be0d-941d1abac69e",
   "metadata": {},
   "outputs": [
    {
     "name": "stdout",
     "output_type": "stream",
     "text": [
      "This is some test data\n",
      "More stuff\n"
     ]
    }
   ],
   "source": [
    "print(contents)"
   ]
  },
  {
   "cell_type": "code",
   "execution_count": 113,
   "id": "0c66b341-ff5d-4507-8186-c7aacd90233e",
   "metadata": {},
   "outputs": [],
   "source": [
    "# Execute to see the documentation\n",
    "# open?"
   ]
  },
  {
   "cell_type": "code",
   "execution_count": 114,
   "id": "933c1b61-301f-47a8-bb0b-9b99229e5c52",
   "metadata": {},
   "outputs": [],
   "source": [
    "import json"
   ]
  },
  {
   "cell_type": "code",
   "execution_count": 116,
   "id": "adde020a-d6aa-4669-8f0a-3ee04b87d3cd",
   "metadata": {},
   "outputs": [
    {
     "data": {
      "text/plain": [
       "str"
      ]
     },
     "execution_count": 116,
     "metadata": {},
     "output_type": "execute_result"
    }
   ],
   "source": [
    "type(json.dumps(data))"
   ]
  },
  {
   "cell_type": "code",
   "execution_count": 117,
   "id": "efe2fee8-1b9f-4862-9945-8ac62883617a",
   "metadata": {},
   "outputs": [],
   "source": [
    "with open(\"twitter_data.json\", \"w\") as file_handle:\n",
    "    file_handle.write(json.dumps(data))"
   ]
  },
  {
   "cell_type": "code",
   "execution_count": 118,
   "id": "8ef97e96-ebbe-4df6-a717-d55a83274c33",
   "metadata": {},
   "outputs": [],
   "source": [
    "content = json.dumps(data)"
   ]
  },
  {
   "cell_type": "code",
   "execution_count": 140,
   "id": "092d6d69-83bf-446d-a722-29c4b4df2951",
   "metadata": {},
   "outputs": [
    {
     "data": {
      "text/plain": [
       "'[{\"created_at\": \"Wed Apr 22 06:04:57 +0000 2020\", \"id\": 1252840795737997317, \"id_str\": \"125284079573'"
      ]
     },
     "execution_count": 140,
     "metadata": {},
     "output_type": "execute_result"
    }
   ],
   "source": [
    "content[:100]  # Show only first characters to save some space"
   ]
  },
  {
   "cell_type": "code",
   "execution_count": 121,
   "id": "8f0a8464-ebab-4c41-8364-973f6c4abfe8",
   "metadata": {},
   "outputs": [],
   "source": [
    "#json.loads(content)"
   ]
  },
  {
   "cell_type": "code",
   "execution_count": 122,
   "id": "d81cff9c-3dcf-4e8d-8a82-587cc963fc20",
   "metadata": {},
   "outputs": [],
   "source": [
    "with open(\"twitter_data.json\") as fh:\n",
    "    data = json.loads(fh.read())  # load*s* = load string"
   ]
  },
  {
   "cell_type": "code",
   "execution_count": 125,
   "id": "2c76af00-09a7-4464-a0e0-d027e81b1fe1",
   "metadata": {},
   "outputs": [
    {
     "data": {
      "text/plain": [
       "list"
      ]
     },
     "execution_count": 125,
     "metadata": {},
     "output_type": "execute_result"
    }
   ],
   "source": [
    "type(data)"
   ]
  },
  {
   "cell_type": "code",
   "execution_count": 129,
   "id": "e4d26bf0-b4a3-4f37-a521-f2175dfdc2fe",
   "metadata": {},
   "outputs": [],
   "source": [
    "with open(\"twitter_data.json\") as fh:\n",
    "    data = json.load(fh)  # load (without s) = load file handle"
   ]
  },
  {
   "cell_type": "code",
   "execution_count": 130,
   "id": "a073a588-159b-4ff0-aa98-336b6d3609cb",
   "metadata": {},
   "outputs": [
    {
     "data": {
      "text/plain": [
       "[{'created_at': 'Wed Apr 22 06:04:57 +0000 2020',\n",
       "  'id': 1252840795737997317,\n",
       "  'id_str': '1252840795737997317',\n",
       "  'text': 'Tennis a la Balboa.\\n\\n#balboaisland #newportbeach #tennis #covid_19 #coronavirus #orangecounty #california… https://t.co/px1GCH1bgZ',\n",
       "  'truncated': True,\n",
       "  'entities': {'hashtags': [{'text': 'balboaisland', 'indices': [21, 34]},\n",
       "    {'text': 'newportbeach', 'indices': [35, 48]},\n",
       "    {'text': 'tennis', 'indices': [49, 56]},\n",
       "    {'text': 'covid_19', 'indices': [57, 66]},\n",
       "    {'text': 'coronavirus', 'indices': [67, 79]},\n",
       "    {'text': 'orangecounty', 'indices': [80, 93]},\n",
       "    {'text': 'california', 'indices': [94, 105]}],\n",
       "   'symbols': [],\n",
       "   'user_mentions': [],\n",
       "   'urls': [{'url': 'https://t.co/px1GCH1bgZ',\n",
       "     'expanded_url': 'https://twitter.com/i/web/status/1252840795737997317',\n",
       "     'display_url': 'twitter.com/i/web/status/1…',\n",
       "     'indices': [107, 130]}]},\n",
       "  'source': '<a href=\"http://instagram.com\" rel=\"nofollow\">Instagram</a>',\n",
       "  'in_reply_to_status_id': None,\n",
       "  'in_reply_to_status_id_str': None,\n",
       "  'in_reply_to_user_id': None,\n",
       "  'in_reply_to_user_id_str': None,\n",
       "  'in_reply_to_screen_name': None,\n",
       "  'user': {'id': 49263812,\n",
       "   'id_str': '49263812',\n",
       "   'name': 'Joe',\n",
       "   'screen_name': 'JoesNews_',\n",
       "   'location': 'Istanbul Turkey',\n",
       "   'description': 'XCNN cameraman. Traveling around the world, capturing images of interesting people and places along the way.',\n",
       "   'url': None,\n",
       "   'entities': {'description': {'urls': []}},\n",
       "   'protected': False,\n",
       "   'followers_count': 46,\n",
       "   'friends_count': 172,\n",
       "   'listed_count': 0,\n",
       "   'created_at': 'Sun Jun 21 07:42:43 +0000 2009',\n",
       "   'favourites_count': 16,\n",
       "   'utc_offset': None,\n",
       "   'time_zone': None,\n",
       "   'geo_enabled': True,\n",
       "   'verified': False,\n",
       "   'statuses_count': 139,\n",
       "   'lang': None,\n",
       "   'contributors_enabled': False,\n",
       "   'is_translator': False,\n",
       "   'is_translation_enabled': False,\n",
       "   'profile_background_color': 'C0DEED',\n",
       "   'profile_background_image_url': 'http://abs.twimg.com/images/themes/theme1/bg.png',\n",
       "   'profile_background_image_url_https': 'https://abs.twimg.com/images/themes/theme1/bg.png',\n",
       "   'profile_background_tile': False,\n",
       "   'profile_image_url': 'http://pbs.twimg.com/profile_images/1261474596244480000/aFAGor7C_normal.jpg',\n",
       "   'profile_image_url_https': 'https://pbs.twimg.com/profile_images/1261474596244480000/aFAGor7C_normal.jpg',\n",
       "   'profile_banner_url': 'https://pbs.twimg.com/profile_banners/49263812/1589594278',\n",
       "   'profile_link_color': '1DA1F2',\n",
       "   'profile_sidebar_border_color': 'C0DEED',\n",
       "   'profile_sidebar_fill_color': 'DDEEF6',\n",
       "   'profile_text_color': '333333',\n",
       "   'profile_use_background_image': True,\n",
       "   'has_extended_profile': True,\n",
       "   'default_profile': True,\n",
       "   'default_profile_image': False,\n",
       "   'following': False,\n",
       "   'follow_request_sent': False,\n",
       "   'notifications': False,\n",
       "   'translator_type': 'none',\n",
       "   'withheld_in_countries': []},\n",
       "  'geo': {'type': 'Point', 'coordinates': [33.606389, -117.894444]},\n",
       "  'coordinates': {'type': 'Point', 'coordinates': [-117.894444, 33.606389]},\n",
       "  'place': {'id': '0ce4c27ce26030aa',\n",
       "   'url': 'https://api.twitter.com/1.1/geo/id/0ce4c27ce26030aa.json',\n",
       "   'place_type': 'city',\n",
       "   'name': 'Newport Beach',\n",
       "   'full_name': 'Newport Beach, CA',\n",
       "   'country_code': 'US',\n",
       "   'country': 'United States',\n",
       "   'contained_within': [],\n",
       "   'bounding_box': {'type': 'Polygon',\n",
       "    'coordinates': [[[-117.9582193, 33.563618],\n",
       "      [-117.789845, 33.563618],\n",
       "      [-117.789845, 33.671658],\n",
       "      [-117.9582193, 33.671658]]]},\n",
       "   'attributes': {}},\n",
       "  'contributors': None,\n",
       "  'is_quote_status': False,\n",
       "  'retweet_count': 0,\n",
       "  'favorite_count': 0,\n",
       "  'favorited': False,\n",
       "  'retweeted': False,\n",
       "  'possibly_sensitive': False,\n",
       "  'lang': 'en'},\n",
       " {'created_at': 'Fri May 01 16:27:52 +0000 2020',\n",
       "  'id': 1256259052461592580,\n",
       "  'id_str': '1256259052461592580',\n",
       "  'text': '#Repost bandcamp\\n• • • • • •\\nTo keep supporting musicians during the Covid-19 pandemic, we are waiving our revenue… https://t.co/W7mJY3QPH0',\n",
       "  'truncated': True,\n",
       "  'entities': {'hashtags': [{'text': 'Repost', 'indices': [0, 7]}],\n",
       "   'symbols': [],\n",
       "   'user_mentions': [],\n",
       "   'urls': [{'url': 'https://t.co/W7mJY3QPH0',\n",
       "     'expanded_url': 'https://twitter.com/i/web/status/1256259052461592580',\n",
       "     'display_url': 'twitter.com/i/web/status/1…',\n",
       "     'indices': [116, 139]}]},\n",
       "  'source': '<a href=\"http://instagram.com\" rel=\"nofollow\">Instagram</a>',\n",
       "  'in_reply_to_status_id': None,\n",
       "  'in_reply_to_status_id_str': None,\n",
       "  'in_reply_to_user_id': None,\n",
       "  'in_reply_to_user_id_str': None,\n",
       "  'in_reply_to_screen_name': None,\n",
       "  'user': {'id': 950842388,\n",
       "   'id_str': '950842388',\n",
       "   'name': 'Magda-Vega',\n",
       "   'screen_name': 'MagdaVegaSLC',\n",
       "   'location': 'SL,UT',\n",
       "   'description': 'Rock & Roll from the Dead Lake / Destroyer out now on Galaxy 420 Records / Bandcamp, Soundcloud, Spotify, Apple Music, YouTube and everywhere digital',\n",
       "   'url': 'https://t.co/34rRTdxL1k',\n",
       "   'entities': {'url': {'urls': [{'url': 'https://t.co/34rRTdxL1k',\n",
       "       'expanded_url': 'http://MagdaVegaSLC.bandcamp.com',\n",
       "       'display_url': 'MagdaVegaSLC.bandcamp.com',\n",
       "       'indices': [0, 23]}]},\n",
       "    'description': {'urls': []}},\n",
       "   'protected': False,\n",
       "   'followers_count': 84,\n",
       "   'friends_count': 135,\n",
       "   'listed_count': 0,\n",
       "   'created_at': 'Fri Nov 16 02:29:29 +0000 2012',\n",
       "   'favourites_count': 26,\n",
       "   'utc_offset': None,\n",
       "   'time_zone': None,\n",
       "   'geo_enabled': True,\n",
       "   'verified': False,\n",
       "   'statuses_count': 569,\n",
       "   'lang': None,\n",
       "   'contributors_enabled': False,\n",
       "   'is_translator': False,\n",
       "   'is_translation_enabled': False,\n",
       "   'profile_background_color': '131516',\n",
       "   'profile_background_image_url': 'http://abs.twimg.com/images/themes/theme14/bg.gif',\n",
       "   'profile_background_image_url_https': 'https://abs.twimg.com/images/themes/theme14/bg.gif',\n",
       "   'profile_background_tile': False,\n",
       "   'profile_image_url': 'http://pbs.twimg.com/profile_images/1261792126771384321/CJvgbt26_normal.jpg',\n",
       "   'profile_image_url_https': 'https://pbs.twimg.com/profile_images/1261792126771384321/CJvgbt26_normal.jpg',\n",
       "   'profile_banner_url': 'https://pbs.twimg.com/profile_banners/950842388/1589669721',\n",
       "   'profile_link_color': '1B95E0',\n",
       "   'profile_sidebar_border_color': '000000',\n",
       "   'profile_sidebar_fill_color': 'EFEFEF',\n",
       "   'profile_text_color': '333333',\n",
       "   'profile_use_background_image': False,\n",
       "   'has_extended_profile': True,\n",
       "   'default_profile': False,\n",
       "   'default_profile_image': False,\n",
       "   'following': False,\n",
       "   'follow_request_sent': False,\n",
       "   'notifications': False,\n",
       "   'translator_type': 'none',\n",
       "   'withheld_in_countries': []},\n",
       "  'geo': {'type': 'Point', 'coordinates': [37.80805, -122.26923]},\n",
       "  'coordinates': {'type': 'Point', 'coordinates': [-122.26923, 37.80805]},\n",
       "  'place': {'id': 'ab2f2fac83aa388d',\n",
       "   'url': 'https://api.twitter.com/1.1/geo/id/ab2f2fac83aa388d.json',\n",
       "   'place_type': 'city',\n",
       "   'name': 'Oakland',\n",
       "   'full_name': 'Oakland, CA',\n",
       "   'country_code': 'US',\n",
       "   'country': 'United States',\n",
       "   'contained_within': [],\n",
       "   'bounding_box': {'type': 'Polygon',\n",
       "    'coordinates': [[[-122.34266, 37.699279],\n",
       "      [-122.114711, 37.699279],\n",
       "      [-122.114711, 37.8847092],\n",
       "      [-122.34266, 37.8847092]]]},\n",
       "   'attributes': {}},\n",
       "  'contributors': None,\n",
       "  'is_quote_status': False,\n",
       "  'retweet_count': 0,\n",
       "  'favorite_count': 0,\n",
       "  'favorited': False,\n",
       "  'retweeted': False,\n",
       "  'possibly_sensitive': False,\n",
       "  'lang': 'en'},\n",
       " {'created_at': 'Sat May 02 05:44:06 +0000 2020',\n",
       "  'id': 1256459430129885184,\n",
       "  'id_str': '1256459430129885184',\n",
       "  'text': 'Things to Do (Inside) in L.A. #ThisWeekend https://t.co/DnsuwtVXbb via @LAMag\\n#la #LosAngeles #activities #lockdown… https://t.co/QvFjrEAfFj',\n",
       "  'truncated': True,\n",
       "  'entities': {'hashtags': [{'text': 'ThisWeekend', 'indices': [30, 42]},\n",
       "    {'text': 'la', 'indices': [78, 81]},\n",
       "    {'text': 'LosAngeles', 'indices': [82, 93]},\n",
       "    {'text': 'activities', 'indices': [94, 105]},\n",
       "    {'text': 'lockdown', 'indices': [106, 115]}],\n",
       "   'symbols': [],\n",
       "   'user_mentions': [{'screen_name': 'LAmag',\n",
       "     'name': 'Los Angeles Magazine',\n",
       "     'id': 36218435,\n",
       "     'id_str': '36218435',\n",
       "     'indices': [71, 77]}],\n",
       "   'urls': [{'url': 'https://t.co/DnsuwtVXbb',\n",
       "     'expanded_url': 'https://www.lamag.com/culturefiles/things-to-do-inside-in-l-a-this-weekend/',\n",
       "     'display_url': 'lamag.com/culturefiles/t…',\n",
       "     'indices': [43, 66]},\n",
       "    {'url': 'https://t.co/QvFjrEAfFj',\n",
       "     'expanded_url': 'https://twitter.com/i/web/status/1256459430129885184',\n",
       "     'display_url': 'twitter.com/i/web/status/1…',\n",
       "     'indices': [117, 140]}]},\n",
       "  'source': '<a href=\"http://twitter.com/download/android\" rel=\"nofollow\">Twitter for Android</a>',\n",
       "  'in_reply_to_status_id': None,\n",
       "  'in_reply_to_status_id_str': None,\n",
       "  'in_reply_to_user_id': None,\n",
       "  'in_reply_to_user_id_str': None,\n",
       "  'in_reply_to_screen_name': None,\n",
       "  'user': {'id': 3090682562,\n",
       "   'id_str': '3090682562',\n",
       "   'name': 'A-List SociAl',\n",
       "   'screen_name': 'alistsocialent',\n",
       "   'location': 'North Hollywood, Los Angeles',\n",
       "   'description': '#Karaoke #music & video #DJ • all  genres-venues-occasions • All Digital • 500K+ downloadable songs •  https://t.co/XYzpi0Il4W',\n",
       "   'url': 'https://t.co/St3ZdQIdG1',\n",
       "   'entities': {'url': {'urls': [{'url': 'https://t.co/St3ZdQIdG1',\n",
       "       'expanded_url': 'http://www.alistsocialent.com',\n",
       "       'display_url': 'alistsocialent.com',\n",
       "       'indices': [0, 23]}]},\n",
       "    'description': {'urls': [{'url': 'https://t.co/XYzpi0Il4W',\n",
       "       'expanded_url': 'http://alistsocialent.com',\n",
       "       'display_url': 'alistsocialent.com',\n",
       "       'indices': [103, 126]}]}},\n",
       "   'protected': False,\n",
       "   'followers_count': 68,\n",
       "   'friends_count': 154,\n",
       "   'listed_count': 1,\n",
       "   'created_at': 'Mon Mar 16 19:10:35 +0000 2015',\n",
       "   'favourites_count': 807,\n",
       "   'utc_offset': None,\n",
       "   'time_zone': None,\n",
       "   'geo_enabled': True,\n",
       "   'verified': False,\n",
       "   'statuses_count': 1101,\n",
       "   'lang': None,\n",
       "   'contributors_enabled': False,\n",
       "   'is_translator': False,\n",
       "   'is_translation_enabled': False,\n",
       "   'profile_background_color': 'C0DEED',\n",
       "   'profile_background_image_url': 'http://abs.twimg.com/images/themes/theme1/bg.png',\n",
       "   'profile_background_image_url_https': 'https://abs.twimg.com/images/themes/theme1/bg.png',\n",
       "   'profile_background_tile': False,\n",
       "   'profile_image_url': 'http://pbs.twimg.com/profile_images/741097057323081728/GKuWu0lA_normal.jpg',\n",
       "   'profile_image_url_https': 'https://pbs.twimg.com/profile_images/741097057323081728/GKuWu0lA_normal.jpg',\n",
       "   'profile_banner_url': 'https://pbs.twimg.com/profile_banners/3090682562/1514144634',\n",
       "   'profile_link_color': '1DA1F2',\n",
       "   'profile_sidebar_border_color': 'C0DEED',\n",
       "   'profile_sidebar_fill_color': 'DDEEF6',\n",
       "   'profile_text_color': '333333',\n",
       "   'profile_use_background_image': True,\n",
       "   'has_extended_profile': True,\n",
       "   'default_profile': True,\n",
       "   'default_profile_image': False,\n",
       "   'following': False,\n",
       "   'follow_request_sent': False,\n",
       "   'notifications': False,\n",
       "   'translator_type': 'none',\n",
       "   'withheld_in_countries': []},\n",
       "  'geo': None,\n",
       "  'coordinates': None,\n",
       "  'place': {'id': '3b77caf94bfc81fe',\n",
       "   'url': 'https://api.twitter.com/1.1/geo/id/3b77caf94bfc81fe.json',\n",
       "   'place_type': 'city',\n",
       "   'name': 'Los Angeles',\n",
       "   'full_name': 'Los Angeles, CA',\n",
       "   'country_code': 'US',\n",
       "   'country': 'United States',\n",
       "   'contained_within': [],\n",
       "   'bounding_box': {'type': 'Polygon',\n",
       "    'coordinates': [[[-118.668404, 33.704538],\n",
       "      [-118.155409, 33.704538],\n",
       "      [-118.155409, 34.337041],\n",
       "      [-118.668404, 34.337041]]]},\n",
       "   'attributes': {}},\n",
       "  'contributors': None,\n",
       "  'is_quote_status': False,\n",
       "  'retweet_count': 0,\n",
       "  'favorite_count': 0,\n",
       "  'favorited': False,\n",
       "  'retweeted': False,\n",
       "  'possibly_sensitive': False,\n",
       "  'lang': 'en'},\n",
       " {'created_at': 'Sat May 02 05:44:19 +0000 2020',\n",
       "  'id': 1256459484521615362,\n",
       "  'id_str': '1256459484521615362',\n",
       "  'text': 'Many of San Franciscians are unable to rent today. Where is our State Senator @Scott_Wiener? What is he during for… https://t.co/0WmXryP7vm',\n",
       "  'truncated': True,\n",
       "  'entities': {'hashtags': [],\n",
       "   'symbols': [],\n",
       "   'user_mentions': [{'screen_name': 'Scott_Wiener',\n",
       "     'name': 'Senator Scott Wiener',\n",
       "     'id': 26703365,\n",
       "     'id_str': '26703365',\n",
       "     'indices': [78, 91]}],\n",
       "   'urls': [{'url': 'https://t.co/0WmXryP7vm',\n",
       "     'expanded_url': 'https://twitter.com/i/web/status/1256459484521615362',\n",
       "     'display_url': 'twitter.com/i/web/status/1…',\n",
       "     'indices': [116, 139]}]},\n",
       "  'source': '<a href=\"http://twitter.com/download/iphone\" rel=\"nofollow\">Twitter for iPhone</a>',\n",
       "  'in_reply_to_status_id': None,\n",
       "  'in_reply_to_status_id_str': None,\n",
       "  'in_reply_to_user_id': None,\n",
       "  'in_reply_to_user_id_str': None,\n",
       "  'in_reply_to_screen_name': None,\n",
       "  'user': {'id': 1666624981,\n",
       "   'id_str': '1666624981',\n",
       "   'name': 'Kaylah Paige Williams ✊🏾🏳️\\u200d🌈🌹',\n",
       "   'screen_name': 'KaylahSF',\n",
       "   'location': 'San Francisco, CA',\n",
       "   'description': 'Proud Cat Mom, Organizer for #DeltaAFA, Co-chair of @AfroSocialistSF, United Flight Attendant, Former Campaign Manager to @ChesaBoudin',\n",
       "   'url': None,\n",
       "   'entities': {'description': {'urls': []}},\n",
       "   'protected': False,\n",
       "   'followers_count': 1596,\n",
       "   'friends_count': 728,\n",
       "   'listed_count': 6,\n",
       "   'created_at': 'Tue Aug 13 02:47:25 +0000 2013',\n",
       "   'favourites_count': 10791,\n",
       "   'utc_offset': None,\n",
       "   'time_zone': None,\n",
       "   'geo_enabled': True,\n",
       "   'verified': False,\n",
       "   'statuses_count': 2149,\n",
       "   'lang': None,\n",
       "   'contributors_enabled': False,\n",
       "   'is_translator': False,\n",
       "   'is_translation_enabled': False,\n",
       "   'profile_background_color': 'C0DEED',\n",
       "   'profile_background_image_url': 'http://abs.twimg.com/images/themes/theme1/bg.png',\n",
       "   'profile_background_image_url_https': 'https://abs.twimg.com/images/themes/theme1/bg.png',\n",
       "   'profile_background_tile': False,\n",
       "   'profile_image_url': 'http://pbs.twimg.com/profile_images/1247606740218040320/Ku1Xrib6_normal.jpg',\n",
       "   'profile_image_url_https': 'https://pbs.twimg.com/profile_images/1247606740218040320/Ku1Xrib6_normal.jpg',\n",
       "   'profile_banner_url': 'https://pbs.twimg.com/profile_banners/1666624981/1621399160',\n",
       "   'profile_link_color': '1DA1F2',\n",
       "   'profile_sidebar_border_color': 'C0DEED',\n",
       "   'profile_sidebar_fill_color': 'DDEEF6',\n",
       "   'profile_text_color': '333333',\n",
       "   'profile_use_background_image': True,\n",
       "   'has_extended_profile': True,\n",
       "   'default_profile': True,\n",
       "   'default_profile_image': False,\n",
       "   'following': False,\n",
       "   'follow_request_sent': False,\n",
       "   'notifications': False,\n",
       "   'translator_type': 'none',\n",
       "   'withheld_in_countries': []},\n",
       "  'geo': None,\n",
       "  'coordinates': None,\n",
       "  'place': {'id': '5a110d312052166f',\n",
       "   'url': 'https://api.twitter.com/1.1/geo/id/5a110d312052166f.json',\n",
       "   'place_type': 'city',\n",
       "   'name': 'San Francisco',\n",
       "   'full_name': 'San Francisco, CA',\n",
       "   'country_code': 'US',\n",
       "   'country': 'United States',\n",
       "   'contained_within': [],\n",
       "   'bounding_box': {'type': 'Polygon',\n",
       "    'coordinates': [[[-122.514926, 37.708075],\n",
       "      [-122.357031, 37.708075],\n",
       "      [-122.357031, 37.833238],\n",
       "      [-122.514926, 37.833238]]]},\n",
       "   'attributes': {}},\n",
       "  'contributors': None,\n",
       "  'is_quote_status': True,\n",
       "  'quoted_status_id': 1256404868501139456,\n",
       "  'quoted_status_id_str': '1256404868501139456',\n",
       "  'quoted_status': {'created_at': 'Sat May 02 02:07:18 +0000 2020',\n",
       "   'id': 1256404868501139456,\n",
       "   'id_str': '1256404868501139456',\n",
       "   'text': 'Where is @Scott_Wiener on #CancelRent ?\\n\\nIf I were State Senator, I would be introducing a statewide COVID-eviction… https://t.co/63960ydtCo',\n",
       "   'truncated': True,\n",
       "   'entities': {'hashtags': [{'text': 'CancelRent', 'indices': [26, 37]}],\n",
       "    'symbols': [],\n",
       "    'user_mentions': [{'screen_name': 'Scott_Wiener',\n",
       "      'name': 'Senator Scott Wiener',\n",
       "      'id': 26703365,\n",
       "      'id_str': '26703365',\n",
       "      'indices': [9, 22]}],\n",
       "    'urls': [{'url': 'https://t.co/63960ydtCo',\n",
       "      'expanded_url': 'https://twitter.com/i/web/status/1256404868501139456',\n",
       "      'display_url': 'twitter.com/i/web/status/1…',\n",
       "      'indices': [117, 140]}]},\n",
       "   'source': '<a href=\"https://mobile.twitter.com\" rel=\"nofollow\">Twitter Web App</a>',\n",
       "   'in_reply_to_status_id': None,\n",
       "   'in_reply_to_status_id_str': None,\n",
       "   'in_reply_to_user_id': None,\n",
       "   'in_reply_to_user_id_str': None,\n",
       "   'in_reply_to_screen_name': None,\n",
       "   'user': {'id': 1198792771085033472,\n",
       "    'id_str': '1198792771085033472',\n",
       "    'name': 'Jackie Fielder',\n",
       "    'screen_name': 'JackieFielder_',\n",
       "    'location': 'San Francisco, CA',\n",
       "    'description': 'Comms: @stopmoneypipe Organizing: @Daybreak_PAC @sfpublicbank Yapping: @daybreakpod. Citizen, MHA Nation. Ran for CA state senate in 2020 corporate-free 🏳️\\u200d🌈',\n",
       "    'url': 'https://t.co/WCi4sReB8c',\n",
       "    'entities': {'url': {'urls': [{'url': 'https://t.co/WCi4sReB8c',\n",
       "        'expanded_url': 'http://linktr.ee/jackiefielder_',\n",
       "        'display_url': 'linktr.ee/jackiefielder_',\n",
       "        'indices': [0, 23]}]},\n",
       "     'description': {'urls': []}},\n",
       "    'protected': False,\n",
       "    'followers_count': 19329,\n",
       "    'friends_count': 1817,\n",
       "    'listed_count': 119,\n",
       "    'created_at': 'Mon Nov 25 02:37:39 +0000 2019',\n",
       "    'favourites_count': 2821,\n",
       "    'utc_offset': None,\n",
       "    'time_zone': None,\n",
       "    'geo_enabled': True,\n",
       "    'verified': True,\n",
       "    'statuses_count': 5078,\n",
       "    'lang': None,\n",
       "    'contributors_enabled': False,\n",
       "    'is_translator': False,\n",
       "    'is_translation_enabled': False,\n",
       "    'profile_background_color': 'F5F8FA',\n",
       "    'profile_background_image_url': None,\n",
       "    'profile_background_image_url_https': None,\n",
       "    'profile_background_tile': False,\n",
       "    'profile_image_url': 'http://pbs.twimg.com/profile_images/1395513934543691780/HLQlCXOv_normal.jpg',\n",
       "    'profile_image_url_https': 'https://pbs.twimg.com/profile_images/1395513934543691780/HLQlCXOv_normal.jpg',\n",
       "    'profile_banner_url': 'https://pbs.twimg.com/profile_banners/1198792771085033472/1623694835',\n",
       "    'profile_link_color': '1DA1F2',\n",
       "    'profile_sidebar_border_color': 'C0DEED',\n",
       "    'profile_sidebar_fill_color': 'DDEEF6',\n",
       "    'profile_text_color': '333333',\n",
       "    'profile_use_background_image': True,\n",
       "    'has_extended_profile': True,\n",
       "    'default_profile': True,\n",
       "    'default_profile_image': False,\n",
       "    'following': False,\n",
       "    'follow_request_sent': False,\n",
       "    'notifications': False,\n",
       "    'translator_type': 'none',\n",
       "    'withheld_in_countries': []},\n",
       "   'geo': None,\n",
       "   'coordinates': None,\n",
       "   'place': None,\n",
       "   'contributors': None,\n",
       "   'is_quote_status': False,\n",
       "   'retweet_count': 129,\n",
       "   'favorite_count': 246,\n",
       "   'favorited': False,\n",
       "   'retweeted': False,\n",
       "   'possibly_sensitive': False,\n",
       "   'lang': 'en'},\n",
       "  'retweet_count': 8,\n",
       "  'favorite_count': 23,\n",
       "  'favorited': False,\n",
       "  'retweeted': False,\n",
       "  'possibly_sensitive': False,\n",
       "  'lang': 'en'},\n",
       " {'created_at': 'Thu May 07 09:55:28 +0000 2020',\n",
       "  'id': 1258334628345044992,\n",
       "  'id_str': '1258334628345044992',\n",
       "  'text': '#COVID19 vs #Protesters https://t.co/UT7oW2KcGU',\n",
       "  'truncated': False,\n",
       "  'entities': {'hashtags': [{'text': 'COVID19', 'indices': [0, 8]},\n",
       "    {'text': 'Protesters', 'indices': [12, 23]}],\n",
       "   'symbols': [],\n",
       "   'user_mentions': [],\n",
       "   'urls': [{'url': 'https://t.co/UT7oW2KcGU',\n",
       "     'expanded_url': 'https://twitter.com/ElTrumpo/status/1258289496921079810',\n",
       "     'display_url': 'twitter.com/ElTrumpo/statu…',\n",
       "     'indices': [24, 47]}]},\n",
       "  'source': '<a href=\"http://twitter.com/download/android\" rel=\"nofollow\">Twitter for Android</a>',\n",
       "  'in_reply_to_status_id': None,\n",
       "  'in_reply_to_status_id_str': None,\n",
       "  'in_reply_to_user_id': None,\n",
       "  'in_reply_to_user_id_str': None,\n",
       "  'in_reply_to_screen_name': None,\n",
       "  'user': {'id': 61370039,\n",
       "   'id_str': '61370039',\n",
       "   'name': '#1PainInTheAssFan',\n",
       "   'screen_name': 'hernandezsteve',\n",
       "   'location': 'Dixon, CA',\n",
       "   'description': 'full time mail man, full time Husband and Father, part time philosopher. Listen to @guysfromwitchita https://t.co/PWuZkGjNeF',\n",
       "   'url': None,\n",
       "   'entities': {'description': {'urls': [{'url': 'https://t.co/PWuZkGjNeF',\n",
       "       'expanded_url': 'http://thoseguysfromwichita.com',\n",
       "       'display_url': 'thoseguysfromwichita.com',\n",
       "       'indices': [101, 124]}]}},\n",
       "   'protected': False,\n",
       "   'followers_count': 622,\n",
       "   'friends_count': 664,\n",
       "   'listed_count': 38,\n",
       "   'created_at': 'Thu Jul 30 02:47:51 +0000 2009',\n",
       "   'favourites_count': 14309,\n",
       "   'utc_offset': None,\n",
       "   'time_zone': None,\n",
       "   'geo_enabled': True,\n",
       "   'verified': False,\n",
       "   'statuses_count': 60766,\n",
       "   'lang': None,\n",
       "   'contributors_enabled': False,\n",
       "   'is_translator': False,\n",
       "   'is_translation_enabled': False,\n",
       "   'profile_background_color': '89D662',\n",
       "   'profile_background_image_url': 'http://abs.twimg.com/images/themes/theme1/bg.png',\n",
       "   'profile_background_image_url_https': 'https://abs.twimg.com/images/themes/theme1/bg.png',\n",
       "   'profile_background_tile': False,\n",
       "   'profile_image_url': 'http://pbs.twimg.com/profile_images/1201514105065992192/lnjKLDOZ_normal.jpg',\n",
       "   'profile_image_url_https': 'https://pbs.twimg.com/profile_images/1201514105065992192/lnjKLDOZ_normal.jpg',\n",
       "   'profile_banner_url': 'https://pbs.twimg.com/profile_banners/61370039/1534423597',\n",
       "   'profile_link_color': '9E1965',\n",
       "   'profile_sidebar_border_color': 'D3ED0E',\n",
       "   'profile_sidebar_fill_color': 'ECF0D1',\n",
       "   'profile_text_color': 'E89954',\n",
       "   'profile_use_background_image': True,\n",
       "   'has_extended_profile': True,\n",
       "   'default_profile': False,\n",
       "   'default_profile_image': False,\n",
       "   'following': False,\n",
       "   'follow_request_sent': False,\n",
       "   'notifications': False,\n",
       "   'translator_type': 'none',\n",
       "   'withheld_in_countries': []},\n",
       "  'geo': None,\n",
       "  'coordinates': None,\n",
       "  'place': {'id': '0941c439c73f4f7b',\n",
       "   'url': 'https://api.twitter.com/1.1/geo/id/0941c439c73f4f7b.json',\n",
       "   'place_type': 'city',\n",
       "   'name': 'Dixon',\n",
       "   'full_name': 'Dixon, CA',\n",
       "   'country_code': 'US',\n",
       "   'country': 'United States',\n",
       "   'contained_within': [],\n",
       "   'bounding_box': {'type': 'Polygon',\n",
       "    'coordinates': [[[-121.862342, 38.421895],\n",
       "      [-121.805679, 38.421895],\n",
       "      [-121.805679, 38.473182],\n",
       "      [-121.862342, 38.473182]]]},\n",
       "   'attributes': {}},\n",
       "  'contributors': None,\n",
       "  'is_quote_status': True,\n",
       "  'quoted_status_id': 1258289496921079810,\n",
       "  'quoted_status_id_str': '1258289496921079810',\n",
       "  'retweet_count': 0,\n",
       "  'favorite_count': 0,\n",
       "  'favorited': False,\n",
       "  'retweeted': False,\n",
       "  'possibly_sensitive': False,\n",
       "  'lang': 'und'},\n",
       " {'created_at': 'Thu Apr 23 23:54:32 +0000 2020',\n",
       "  'id': 1253472356476940290,\n",
       "  'id_str': '1253472356476940290',\n",
       "  'text': 'Sunlight shown to kill COVID virus faster....this lady was on to something. https://t.co/Yz1AzmR03d',\n",
       "  'truncated': False,\n",
       "  'entities': {'hashtags': [],\n",
       "   'symbols': [],\n",
       "   'user_mentions': [],\n",
       "   'urls': [{'url': 'https://t.co/Yz1AzmR03d',\n",
       "     'expanded_url': 'https://twitter.com/Jezebel/status/1199032514351915008',\n",
       "     'display_url': 'twitter.com/Jezebel/status…',\n",
       "     'indices': [76, 99]}]},\n",
       "  'source': '<a href=\"http://twitter.com/download/iphone\" rel=\"nofollow\">Twitter for iPhone</a>',\n",
       "  'in_reply_to_status_id': None,\n",
       "  'in_reply_to_status_id_str': None,\n",
       "  'in_reply_to_user_id': None,\n",
       "  'in_reply_to_user_id_str': None,\n",
       "  'in_reply_to_screen_name': None,\n",
       "  'user': {'id': 132635016,\n",
       "   'id_str': '132635016',\n",
       "   'name': 'Rob2.0',\n",
       "   'screen_name': 'rc_cardsfan',\n",
       "   'location': 'California, USA',\n",
       "   'description': 'Father&husband. Just a guy. Sports, entertainment, & current events.  Other stuff too. Amateur Critic...of Everything . I only send good tweets.   #stlcards',\n",
       "   'url': None,\n",
       "   'entities': {'description': {'urls': []}},\n",
       "   'protected': False,\n",
       "   'followers_count': 239,\n",
       "   'friends_count': 300,\n",
       "   'listed_count': 5,\n",
       "   'created_at': 'Tue Apr 13 19:40:25 +0000 2010',\n",
       "   'favourites_count': 8064,\n",
       "   'utc_offset': None,\n",
       "   'time_zone': None,\n",
       "   'geo_enabled': True,\n",
       "   'verified': False,\n",
       "   'statuses_count': 8223,\n",
       "   'lang': None,\n",
       "   'contributors_enabled': False,\n",
       "   'is_translator': False,\n",
       "   'is_translation_enabled': False,\n",
       "   'profile_background_color': 'C0DEED',\n",
       "   'profile_background_image_url': 'http://abs.twimg.com/images/themes/theme1/bg.png',\n",
       "   'profile_background_image_url_https': 'https://abs.twimg.com/images/themes/theme1/bg.png',\n",
       "   'profile_background_tile': False,\n",
       "   'profile_image_url': 'http://pbs.twimg.com/profile_images/1352089406232883200/1GrG28Ap_normal.jpg',\n",
       "   'profile_image_url_https': 'https://pbs.twimg.com/profile_images/1352089406232883200/1GrG28Ap_normal.jpg',\n",
       "   'profile_banner_url': 'https://pbs.twimg.com/profile_banners/132635016/1611198210',\n",
       "   'profile_link_color': '1DA1F2',\n",
       "   'profile_sidebar_border_color': 'C0DEED',\n",
       "   'profile_sidebar_fill_color': 'DDEEF6',\n",
       "   'profile_text_color': '333333',\n",
       "   'profile_use_background_image': True,\n",
       "   'has_extended_profile': False,\n",
       "   'default_profile': True,\n",
       "   'default_profile_image': False,\n",
       "   'following': False,\n",
       "   'follow_request_sent': False,\n",
       "   'notifications': False,\n",
       "   'translator_type': 'none',\n",
       "   'withheld_in_countries': []},\n",
       "  'geo': None,\n",
       "  'coordinates': None,\n",
       "  'place': {'id': 'e41805d7248dbf1e',\n",
       "   'url': 'https://api.twitter.com/1.1/geo/id/e41805d7248dbf1e.json',\n",
       "   'place_type': 'city',\n",
       "   'name': 'Modesto',\n",
       "   'full_name': 'Modesto, CA',\n",
       "   'country_code': 'US',\n",
       "   'country': 'United States',\n",
       "   'contained_within': [],\n",
       "   'bounding_box': {'type': 'Polygon',\n",
       "    'coordinates': [[[-121.074342, 37.59485],\n",
       "      [-120.900594, 37.59485],\n",
       "      [-120.900594, 37.732784],\n",
       "      [-121.074342, 37.732784]]]},\n",
       "   'attributes': {}},\n",
       "  'contributors': None,\n",
       "  'is_quote_status': True,\n",
       "  'quoted_status_id': 1199032514351915008,\n",
       "  'quoted_status_id_str': '1199032514351915008',\n",
       "  'quoted_status': {'created_at': 'Mon Nov 25 18:30:03 +0000 2019',\n",
       "   'id': 1199032514351915008,\n",
       "   'id_str': '1199032514351915008',\n",
       "   'text': 'Sunbathe your asshole, for wellness https://t.co/50pmdiohZ1 https://t.co/OfLGulPqL2',\n",
       "   'truncated': False,\n",
       "   'entities': {'hashtags': [],\n",
       "    'symbols': [],\n",
       "    'user_mentions': [],\n",
       "    'urls': [{'url': 'https://t.co/50pmdiohZ1',\n",
       "      'expanded_url': 'https://trib.al/bCIIh9e',\n",
       "      'display_url': 'trib.al/bCIIh9e',\n",
       "      'indices': [36, 59]}],\n",
       "    'media': [{'id': 1199032511197831168,\n",
       "      'id_str': '1199032511197831168',\n",
       "      'indices': [60, 83],\n",
       "      'media_url': 'http://pbs.twimg.com/media/EKPRt1gXYAAH-m9.jpg',\n",
       "      'media_url_https': 'https://pbs.twimg.com/media/EKPRt1gXYAAH-m9.jpg',\n",
       "      'url': 'https://t.co/OfLGulPqL2',\n",
       "      'display_url': 'pic.twitter.com/OfLGulPqL2',\n",
       "      'expanded_url': 'https://twitter.com/Jezebel/status/1199032514351915008/photo/1',\n",
       "      'type': 'photo',\n",
       "      'sizes': {'thumb': {'w': 150, 'h': 150, 'resize': 'crop'},\n",
       "       'small': {'w': 680, 'h': 383, 'resize': 'fit'},\n",
       "       'medium': {'w': 1200, 'h': 676, 'resize': 'fit'},\n",
       "       'large': {'w': 1600, 'h': 901, 'resize': 'fit'}}}]},\n",
       "   'extended_entities': {'media': [{'id': 1199032511197831168,\n",
       "      'id_str': '1199032511197831168',\n",
       "      'indices': [60, 83],\n",
       "      'media_url': 'http://pbs.twimg.com/media/EKPRt1gXYAAH-m9.jpg',\n",
       "      'media_url_https': 'https://pbs.twimg.com/media/EKPRt1gXYAAH-m9.jpg',\n",
       "      'url': 'https://t.co/OfLGulPqL2',\n",
       "      'display_url': 'pic.twitter.com/OfLGulPqL2',\n",
       "      'expanded_url': 'https://twitter.com/Jezebel/status/1199032514351915008/photo/1',\n",
       "      'type': 'photo',\n",
       "      'sizes': {'thumb': {'w': 150, 'h': 150, 'resize': 'crop'},\n",
       "       'small': {'w': 680, 'h': 383, 'resize': 'fit'},\n",
       "       'medium': {'w': 1200, 'h': 676, 'resize': 'fit'},\n",
       "       'large': {'w': 1600, 'h': 901, 'resize': 'fit'}}}]},\n",
       "   'source': '<a href=\"http://www.socialflow.com\" rel=\"nofollow\">SocialFlow</a>',\n",
       "   'in_reply_to_status_id': None,\n",
       "   'in_reply_to_status_id_str': None,\n",
       "   'in_reply_to_user_id': None,\n",
       "   'in_reply_to_user_id_str': None,\n",
       "   'in_reply_to_screen_name': None,\n",
       "   'user': {'id': 8192222,\n",
       "    'id_str': '8192222',\n",
       "    'name': 'Jezebel',\n",
       "    'screen_name': 'Jezebel',\n",
       "    'location': '',\n",
       "    'description': 'A Supposedly Feminist Website',\n",
       "    'url': 'https://t.co/srsMvdaAy4',\n",
       "    'entities': {'url': {'urls': [{'url': 'https://t.co/srsMvdaAy4',\n",
       "        'expanded_url': 'http://jezebel.com',\n",
       "        'display_url': 'jezebel.com',\n",
       "        'indices': [0, 23]}]},\n",
       "     'description': {'urls': []}},\n",
       "    'protected': False,\n",
       "    'followers_count': 313171,\n",
       "    'friends_count': 32,\n",
       "    'listed_count': 5940,\n",
       "    'created_at': 'Tue Aug 14 22:57:34 +0000 2007',\n",
       "    'favourites_count': 152,\n",
       "    'utc_offset': None,\n",
       "    'time_zone': None,\n",
       "    'geo_enabled': False,\n",
       "    'verified': True,\n",
       "    'statuses_count': 116065,\n",
       "    'lang': None,\n",
       "    'contributors_enabled': False,\n",
       "    'is_translator': False,\n",
       "    'is_translation_enabled': False,\n",
       "    'profile_background_color': 'F6FFFE',\n",
       "    'profile_background_image_url': 'http://abs.twimg.com/images/themes/theme1/bg.png',\n",
       "    'profile_background_image_url_https': 'https://abs.twimg.com/images/themes/theme1/bg.png',\n",
       "    'profile_background_tile': True,\n",
       "    'profile_image_url': 'http://pbs.twimg.com/profile_images/590580350532845568/rLGWqV5a_normal.png',\n",
       "    'profile_image_url_https': 'https://pbs.twimg.com/profile_images/590580350532845568/rLGWqV5a_normal.png',\n",
       "    'profile_banner_url': 'https://pbs.twimg.com/profile_banners/8192222/1549661568',\n",
       "    'profile_link_color': 'C91353',\n",
       "    'profile_sidebar_border_color': 'AFABBA',\n",
       "    'profile_sidebar_fill_color': 'DFEFEF',\n",
       "    'profile_text_color': '000000',\n",
       "    'profile_use_background_image': False,\n",
       "    'has_extended_profile': False,\n",
       "    'default_profile': False,\n",
       "    'default_profile_image': False,\n",
       "    'following': False,\n",
       "    'follow_request_sent': False,\n",
       "    'notifications': False,\n",
       "    'translator_type': 'none',\n",
       "    'withheld_in_countries': []},\n",
       "   'geo': None,\n",
       "   'coordinates': None,\n",
       "   'place': None,\n",
       "   'contributors': None,\n",
       "   'is_quote_status': False,\n",
       "   'retweet_count': 1522,\n",
       "   'favorite_count': 4572,\n",
       "   'favorited': False,\n",
       "   'retweeted': False,\n",
       "   'possibly_sensitive': False,\n",
       "   'lang': 'en'},\n",
       "  'retweet_count': 0,\n",
       "  'favorite_count': 4,\n",
       "  'favorited': False,\n",
       "  'retweeted': False,\n",
       "  'possibly_sensitive': False,\n",
       "  'lang': 'en'},\n",
       " {'created_at': 'Thu Apr 23 23:54:18 +0000 2020',\n",
       "  'id': 1253472297144299520,\n",
       "  'id_str': '1253472297144299520',\n",
       "  'text': 'I think I’m going to venture out into these streets today and COVID responsibly shoot these LA streets',\n",
       "  'truncated': False,\n",
       "  'entities': {'hashtags': [], 'symbols': [], 'user_mentions': [], 'urls': []},\n",
       "  'source': '<a href=\"http://twitter.com/download/iphone\" rel=\"nofollow\">Twitter for iPhone</a>',\n",
       "  'in_reply_to_status_id': None,\n",
       "  'in_reply_to_status_id_str': None,\n",
       "  'in_reply_to_user_id': None,\n",
       "  'in_reply_to_user_id_str': None,\n",
       "  'in_reply_to_screen_name': None,\n",
       "  'user': {'id': 565686514,\n",
       "   'id_str': '565686514',\n",
       "   'name': 'ALΞX',\n",
       "   'screen_name': 'alexvarsaphoto',\n",
       "   'location': 'Los Angeles, CA',\n",
       "   'description': '',\n",
       "   'url': 'https://t.co/gyBPBqR9jD',\n",
       "   'entities': {'url': {'urls': [{'url': 'https://t.co/gyBPBqR9jD',\n",
       "       'expanded_url': 'http://www.facebook.com/alexvarsaphoto',\n",
       "       'display_url': 'facebook.com/alexvarsaphoto',\n",
       "       'indices': [0, 23]}]},\n",
       "    'description': {'urls': []}},\n",
       "   'protected': False,\n",
       "   'followers_count': 1543,\n",
       "   'friends_count': 1369,\n",
       "   'listed_count': 4,\n",
       "   'created_at': 'Sat Apr 28 19:30:28 +0000 2012',\n",
       "   'favourites_count': 20621,\n",
       "   'utc_offset': None,\n",
       "   'time_zone': None,\n",
       "   'geo_enabled': True,\n",
       "   'verified': False,\n",
       "   'statuses_count': 12182,\n",
       "   'lang': None,\n",
       "   'contributors_enabled': False,\n",
       "   'is_translator': False,\n",
       "   'is_translation_enabled': False,\n",
       "   'profile_background_color': '131516',\n",
       "   'profile_background_image_url': 'http://abs.twimg.com/images/themes/theme14/bg.gif',\n",
       "   'profile_background_image_url_https': 'https://abs.twimg.com/images/themes/theme14/bg.gif',\n",
       "   'profile_background_tile': True,\n",
       "   'profile_image_url': 'http://pbs.twimg.com/profile_images/1199675309110505472/jlTlp7z8_normal.jpg',\n",
       "   'profile_image_url_https': 'https://pbs.twimg.com/profile_images/1199675309110505472/jlTlp7z8_normal.jpg',\n",
       "   'profile_banner_url': 'https://pbs.twimg.com/profile_banners/565686514/1548564049',\n",
       "   'profile_link_color': '009999',\n",
       "   'profile_sidebar_border_color': 'EEEEEE',\n",
       "   'profile_sidebar_fill_color': 'EFEFEF',\n",
       "   'profile_text_color': '333333',\n",
       "   'profile_use_background_image': True,\n",
       "   'has_extended_profile': True,\n",
       "   'default_profile': False,\n",
       "   'default_profile_image': False,\n",
       "   'following': False,\n",
       "   'follow_request_sent': False,\n",
       "   'notifications': False,\n",
       "   'translator_type': 'none',\n",
       "   'withheld_in_countries': []},\n",
       "  'geo': None,\n",
       "  'coordinates': None,\n",
       "  'place': {'id': '3b77caf94bfc81fe',\n",
       "   'url': 'https://api.twitter.com/1.1/geo/id/3b77caf94bfc81fe.json',\n",
       "   'place_type': 'city',\n",
       "   'name': 'Los Angeles',\n",
       "   'full_name': 'Los Angeles, CA',\n",
       "   'country_code': 'US',\n",
       "   'country': 'United States',\n",
       "   'contained_within': [],\n",
       "   'bounding_box': {'type': 'Polygon',\n",
       "    'coordinates': [[[-118.668404, 33.704538],\n",
       "      [-118.155409, 33.704538],\n",
       "      [-118.155409, 34.337041],\n",
       "      [-118.668404, 34.337041]]]},\n",
       "   'attributes': {}},\n",
       "  'contributors': None,\n",
       "  'is_quote_status': False,\n",
       "  'retweet_count': 0,\n",
       "  'favorite_count': 16,\n",
       "  'favorited': False,\n",
       "  'retweeted': False,\n",
       "  'lang': 'en'},\n",
       " {'created_at': 'Mon Apr 27 14:09:43 +0000 2020',\n",
       "  'id': 1254774730529243136,\n",
       "  'id_str': '1254774730529243136',\n",
       "  'text': 'hoje acaba minha quarentena. fui convocada pra voltar ao hospital depois de 45 dias em casa. hoje também tenho pess… https://t.co/Q0comhlAEq',\n",
       "  'truncated': True,\n",
       "  'entities': {'hashtags': [],\n",
       "   'symbols': [],\n",
       "   'user_mentions': [],\n",
       "   'urls': [{'url': 'https://t.co/Q0comhlAEq',\n",
       "     'expanded_url': 'https://twitter.com/i/web/status/1254774730529243136',\n",
       "     'display_url': 'twitter.com/i/web/status/1…',\n",
       "     'indices': [117, 140]}]},\n",
       "  'source': '<a href=\"http://twitter.com/download/iphone\" rel=\"nofollow\">Twitter for iPhone</a>',\n",
       "  'in_reply_to_status_id': None,\n",
       "  'in_reply_to_status_id_str': None,\n",
       "  'in_reply_to_user_id': None,\n",
       "  'in_reply_to_user_id_str': None,\n",
       "  'in_reply_to_screen_name': None,\n",
       "  'user': {'id': 33959299,\n",
       "   'id_str': '33959299',\n",
       "   'name': 'milena',\n",
       "   'screen_name': 'millysobral',\n",
       "   'location': 'West Hollywood, CA',\n",
       "   'description': '',\n",
       "   'url': None,\n",
       "   'entities': {'description': {'urls': []}},\n",
       "   'protected': False,\n",
       "   'followers_count': 462,\n",
       "   'friends_count': 418,\n",
       "   'listed_count': 11,\n",
       "   'created_at': 'Tue Apr 21 16:43:35 +0000 2009',\n",
       "   'favourites_count': 6493,\n",
       "   'utc_offset': None,\n",
       "   'time_zone': None,\n",
       "   'geo_enabled': True,\n",
       "   'verified': False,\n",
       "   'statuses_count': 20132,\n",
       "   'lang': None,\n",
       "   'contributors_enabled': False,\n",
       "   'is_translator': False,\n",
       "   'is_translation_enabled': False,\n",
       "   'profile_background_color': 'FFFFFF',\n",
       "   'profile_background_image_url': 'http://abs.twimg.com/images/themes/theme16/bg.gif',\n",
       "   'profile_background_image_url_https': 'https://abs.twimg.com/images/themes/theme16/bg.gif',\n",
       "   'profile_background_tile': True,\n",
       "   'profile_image_url': 'http://pbs.twimg.com/profile_images/1374941570781220865/7HojiYHm_normal.jpg',\n",
       "   'profile_image_url_https': 'https://pbs.twimg.com/profile_images/1374941570781220865/7HojiYHm_normal.jpg',\n",
       "   'profile_banner_url': 'https://pbs.twimg.com/profile_banners/33959299/1529188897',\n",
       "   'profile_link_color': '8A1317',\n",
       "   'profile_sidebar_border_color': '421B42',\n",
       "   'profile_sidebar_fill_color': 'DBD8DB',\n",
       "   'profile_text_color': '262E69',\n",
       "   'profile_use_background_image': True,\n",
       "   'has_extended_profile': True,\n",
       "   'default_profile': False,\n",
       "   'default_profile_image': False,\n",
       "   'following': False,\n",
       "   'follow_request_sent': False,\n",
       "   'notifications': False,\n",
       "   'translator_type': 'none',\n",
       "   'withheld_in_countries': []},\n",
       "  'geo': None,\n",
       "  'coordinates': None,\n",
       "  'place': {'id': '1927193c57f35d51',\n",
       "   'url': 'https://api.twitter.com/1.1/geo/id/1927193c57f35d51.json',\n",
       "   'place_type': 'city',\n",
       "   'name': 'West Hollywood',\n",
       "   'full_name': 'West Hollywood, CA',\n",
       "   'country_code': 'US',\n",
       "   'country': 'United States',\n",
       "   'contained_within': [],\n",
       "   'bounding_box': {'type': 'Polygon',\n",
       "    'coordinates': [[[-118.3959042, 34.075963],\n",
       "      [-118.3433861, 34.075963],\n",
       "      [-118.3433861, 34.098056],\n",
       "      [-118.3959042, 34.098056]]]},\n",
       "   'attributes': {}},\n",
       "  'contributors': None,\n",
       "  'is_quote_status': False,\n",
       "  'retweet_count': 2,\n",
       "  'favorite_count': 20,\n",
       "  'favorited': False,\n",
       "  'retweeted': False,\n",
       "  'lang': 'pt'},\n",
       " {'created_at': 'Wed May 06 23:12:47 +0000 2020',\n",
       "  'id': 1258172892077912064,\n",
       "  'id_str': '1258172892077912064',\n",
       "  'text': 'CoVid coming at 2020 like https://t.co/iLHv2SrW5B',\n",
       "  'truncated': False,\n",
       "  'entities': {'hashtags': [],\n",
       "   'symbols': [],\n",
       "   'user_mentions': [],\n",
       "   'urls': [{'url': 'https://t.co/iLHv2SrW5B',\n",
       "     'expanded_url': 'https://twitter.com/RexChapman/status/1257781893644333067',\n",
       "     'display_url': 'twitter.com/RexChapman/sta…',\n",
       "     'indices': [26, 49]}]},\n",
       "  'source': '<a href=\"http://twitter.com/download/iphone\" rel=\"nofollow\">Twitter for iPhone</a>',\n",
       "  'in_reply_to_status_id': None,\n",
       "  'in_reply_to_status_id_str': None,\n",
       "  'in_reply_to_user_id': None,\n",
       "  'in_reply_to_user_id_str': None,\n",
       "  'in_reply_to_screen_name': None,\n",
       "  'user': {'id': 15022532,\n",
       "   'id_str': '15022532',\n",
       "   'name': 'jonny umansky',\n",
       "   'screen_name': 'jonnyumansky',\n",
       "   'location': 'Los Angeles, CA',\n",
       "   'description': 'Writer / Producer / Romcom Revivalist',\n",
       "   'url': 'https://t.co/xsBubDsKC9',\n",
       "   'entities': {'url': {'urls': [{'url': 'https://t.co/xsBubDsKC9',\n",
       "       'expanded_url': 'http://instgram.com/jonnyumansky',\n",
       "       'display_url': 'instgram.com/jonnyumansky',\n",
       "       'indices': [0, 23]}]},\n",
       "    'description': {'urls': []}},\n",
       "   'protected': False,\n",
       "   'followers_count': 2075,\n",
       "   'friends_count': 483,\n",
       "   'listed_count': 46,\n",
       "   'created_at': 'Thu Jun 05 19:52:31 +0000 2008',\n",
       "   'favourites_count': 79429,\n",
       "   'utc_offset': None,\n",
       "   'time_zone': None,\n",
       "   'geo_enabled': True,\n",
       "   'verified': True,\n",
       "   'statuses_count': 1271,\n",
       "   'lang': None,\n",
       "   'contributors_enabled': False,\n",
       "   'is_translator': False,\n",
       "   'is_translation_enabled': False,\n",
       "   'profile_background_color': '000000',\n",
       "   'profile_background_image_url': 'http://abs.twimg.com/images/themes/theme15/bg.png',\n",
       "   'profile_background_image_url_https': 'https://abs.twimg.com/images/themes/theme15/bg.png',\n",
       "   'profile_background_tile': False,\n",
       "   'profile_image_url': 'http://pbs.twimg.com/profile_images/1165048152799379456/v6zJZ9lT_normal.jpg',\n",
       "   'profile_image_url_https': 'https://pbs.twimg.com/profile_images/1165048152799379456/v6zJZ9lT_normal.jpg',\n",
       "   'profile_banner_url': 'https://pbs.twimg.com/profile_banners/15022532/1398193827',\n",
       "   'profile_link_color': '1B95E0',\n",
       "   'profile_sidebar_border_color': '000000',\n",
       "   'profile_sidebar_fill_color': '000000',\n",
       "   'profile_text_color': '000000',\n",
       "   'profile_use_background_image': False,\n",
       "   'has_extended_profile': True,\n",
       "   'default_profile': False,\n",
       "   'default_profile_image': False,\n",
       "   'following': False,\n",
       "   'follow_request_sent': False,\n",
       "   'notifications': False,\n",
       "   'translator_type': 'none',\n",
       "   'withheld_in_countries': []},\n",
       "  'geo': None,\n",
       "  'coordinates': None,\n",
       "  'place': {'id': '3b77caf94bfc81fe',\n",
       "   'url': 'https://api.twitter.com/1.1/geo/id/3b77caf94bfc81fe.json',\n",
       "   'place_type': 'city',\n",
       "   'name': 'Los Angeles',\n",
       "   'full_name': 'Los Angeles, CA',\n",
       "   'country_code': 'US',\n",
       "   'country': 'United States',\n",
       "   'contained_within': [],\n",
       "   'bounding_box': {'type': 'Polygon',\n",
       "    'coordinates': [[[-118.668404, 33.704538],\n",
       "      [-118.155409, 33.704538],\n",
       "      [-118.155409, 34.337041],\n",
       "      [-118.668404, 34.337041]]]},\n",
       "   'attributes': {}},\n",
       "  'contributors': None,\n",
       "  'is_quote_status': True,\n",
       "  'quoted_status_id': 1257781893644333067,\n",
       "  'quoted_status_id_str': '1257781893644333067',\n",
       "  'quoted_status': {'created_at': 'Tue May 05 21:19:06 +0000 2020',\n",
       "   'id': 1257781893644333067,\n",
       "   'id_str': '1257781893644333067',\n",
       "   'text': 'Always make sure your homemade wine has fully fermented before opening... https://t.co/WGKab8sdQo',\n",
       "   'truncated': False,\n",
       "   'entities': {'hashtags': [],\n",
       "    'symbols': [],\n",
       "    'user_mentions': [],\n",
       "    'urls': [{'url': 'https://t.co/WGKab8sdQo',\n",
       "      'expanded_url': 'https://twitter.com/BadJim007/status/1257734986641412096/video/1',\n",
       "      'display_url': 'twitter.com/BadJim007/stat…',\n",
       "      'indices': [74, 97]}]},\n",
       "   'source': '<a href=\"http://twitter.com/download/iphone\" rel=\"nofollow\">Twitter for iPhone</a>',\n",
       "   'in_reply_to_status_id': None,\n",
       "   'in_reply_to_status_id_str': None,\n",
       "   'in_reply_to_user_id': None,\n",
       "   'in_reply_to_user_id_str': None,\n",
       "   'in_reply_to_screen_name': None,\n",
       "   'user': {'id': 324703658,\n",
       "    'id_str': '324703658',\n",
       "    'name': 'Rex Chapman🏇🏼',\n",
       "    'screen_name': 'RexChapman',\n",
       "    'location': 'Lexington/Phoenix ',\n",
       "    'description': 'I hold the microphone like a grudge',\n",
       "    'url': 'https://t.co/ZoLueztjQ9',\n",
       "    'entities': {'url': {'urls': [{'url': 'https://t.co/ZoLueztjQ9',\n",
       "        'expanded_url': 'http://podcasts.iheartradio.com/chargesapple',\n",
       "        'display_url': 'podcasts.iheartradio.com/chargesapple',\n",
       "        'indices': [0, 23]}]},\n",
       "     'description': {'urls': []}},\n",
       "    'protected': False,\n",
       "    'followers_count': 1178169,\n",
       "    'friends_count': 23398,\n",
       "    'listed_count': 4493,\n",
       "    'created_at': 'Mon Jun 27 02:36:27 +0000 2011',\n",
       "    'favourites_count': 257677,\n",
       "    'utc_offset': None,\n",
       "    'time_zone': None,\n",
       "    'geo_enabled': True,\n",
       "    'verified': True,\n",
       "    'statuses_count': 165987,\n",
       "    'lang': None,\n",
       "    'contributors_enabled': False,\n",
       "    'is_translator': False,\n",
       "    'is_translation_enabled': False,\n",
       "    'profile_background_color': '0E21F0',\n",
       "    'profile_background_image_url': 'http://abs.twimg.com/images/themes/theme1/bg.png',\n",
       "    'profile_background_image_url_https': 'https://abs.twimg.com/images/themes/theme1/bg.png',\n",
       "    'profile_background_tile': True,\n",
       "    'profile_image_url': 'http://pbs.twimg.com/profile_images/1055264484745494530/QLX6B5o9_normal.jpg',\n",
       "    'profile_image_url_https': 'https://pbs.twimg.com/profile_images/1055264484745494530/QLX6B5o9_normal.jpg',\n",
       "    'profile_banner_url': 'https://pbs.twimg.com/profile_banners/324703658/1539742514',\n",
       "    'profile_link_color': '2C12EB',\n",
       "    'profile_sidebar_border_color': 'FFFFFF',\n",
       "    'profile_sidebar_fill_color': '100D14',\n",
       "    'profile_text_color': 'EB0E20',\n",
       "    'profile_use_background_image': True,\n",
       "    'has_extended_profile': True,\n",
       "    'default_profile': False,\n",
       "    'default_profile_image': False,\n",
       "    'following': False,\n",
       "    'follow_request_sent': False,\n",
       "    'notifications': False,\n",
       "    'translator_type': 'none',\n",
       "    'withheld_in_countries': []},\n",
       "   'geo': None,\n",
       "   'coordinates': None,\n",
       "   'place': None,\n",
       "   'contributors': None,\n",
       "   'is_quote_status': False,\n",
       "   'retweet_count': 9005,\n",
       "   'favorite_count': 41873,\n",
       "   'favorited': False,\n",
       "   'retweeted': False,\n",
       "   'possibly_sensitive': False,\n",
       "   'lang': 'en'},\n",
       "  'retweet_count': 0,\n",
       "  'favorite_count': 10,\n",
       "  'favorited': False,\n",
       "  'retweeted': False,\n",
       "  'possibly_sensitive': False,\n",
       "  'lang': 'en'}]"
      ]
     },
     "execution_count": 130,
     "metadata": {},
     "output_type": "execute_result"
    }
   ],
   "source": [
    "data"
   ]
  },
  {
   "cell_type": "code",
   "execution_count": null,
   "id": "b20c0a62-943f-4565-add5-3aceafe5cef6",
   "metadata": {},
   "outputs": [],
   "source": []
  }
 ],
 "metadata": {
  "kernelspec": {
   "display_name": "Python 3",
   "language": "python",
   "name": "python3"
  },
  "language_info": {
   "codemirror_mode": {
    "name": "ipython",
    "version": 3
   },
   "file_extension": ".py",
   "mimetype": "text/x-python",
   "name": "python",
   "nbconvert_exporter": "python",
   "pygments_lexer": "ipython3",
   "version": "3.8.8"
  }
 },
 "nbformat": 4,
 "nbformat_minor": 5
}
