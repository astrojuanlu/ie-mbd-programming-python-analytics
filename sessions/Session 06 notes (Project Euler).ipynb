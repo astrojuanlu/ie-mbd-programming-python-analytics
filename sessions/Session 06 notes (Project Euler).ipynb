{
 "cells": [
  {
   "cell_type": "markdown",
   "id": "21f33e0e-09e0-41dd-945c-41f59231668b",
   "metadata": {},
   "source": [
    "## Problem 1\n",
    "\n",
    "> If we list all the natural numbers below 10 that are multiples of 3 or 5, we get 3, 5, 6 and 9. The sum of these multiples is 23.\n",
    ">\n",
    "> Find the sum of all the multiples of 3 or 5 below 1000.\n"
   ]
  },
  {
   "cell_type": "code",
   "execution_count": null,
   "id": "a32f95bb-7d4b-4703-8758-43fea3b29354",
   "metadata": {},
   "outputs": [],
   "source": [
    "# This repeats some code, better to do it the other way\n",
    "if number % 3 == 0:\n",
    "    my_multiples.append(number)\n",
    "elif number % 5 == 0:\n",
    "    my_multiples.append(number)"
   ]
  },
  {
   "cell_type": "code",
   "execution_count": 11,
   "id": "8ef2ae6e-7c4e-4759-9ee9-76d83280ff7e",
   "metadata": {},
   "outputs": [
    {
     "name": "stdout",
     "output_type": "stream",
     "text": [
      "[3, 5, 6, 9, 10, 12, 15, 18, 20, 21, 24, 25, 27, 30, 33, 35, 36, 39, 40, 42, 45, 48, 50, 51, 54, 55, 57, 60, 63, 65, 66, 69, 70, 72, 75, 78, 80, 81, 84, 85, 87, 90, 93, 95, 96, 99, 100, 102, 105, 108, 110, 111, 114, 115, 117, 120, 123, 125, 126, 129, 130, 132, 135, 138, 140, 141, 144, 145, 147, 150, 153, 155, 156, 159, 160, 162, 165, 168, 170, 171, 174, 175, 177, 180, 183, 185, 186, 189, 190, 192, 195, 198, 200, 201, 204, 205, 207, 210, 213, 215, 216, 219, 220, 222, 225, 228, 230, 231, 234, 235, 237, 240, 243, 245, 246, 249, 250, 252, 255, 258, 260, 261, 264, 265, 267, 270, 273, 275, 276, 279, 280, 282, 285, 288, 290, 291, 294, 295, 297, 300, 303, 305, 306, 309, 310, 312, 315, 318, 320, 321, 324, 325, 327, 330, 333, 335, 336, 339, 340, 342, 345, 348, 350, 351, 354, 355, 357, 360, 363, 365, 366, 369, 370, 372, 375, 378, 380, 381, 384, 385, 387, 390, 393, 395, 396, 399, 400, 402, 405, 408, 410, 411, 414, 415, 417, 420, 423, 425, 426, 429, 430, 432, 435, 438, 440, 441, 444, 445, 447, 450, 453, 455, 456, 459, 460, 462, 465, 468, 470, 471, 474, 475, 477, 480, 483, 485, 486, 489, 490, 492, 495, 498, 500, 501, 504, 505, 507, 510, 513, 515, 516, 519, 520, 522, 525, 528, 530, 531, 534, 535, 537, 540, 543, 545, 546, 549, 550, 552, 555, 558, 560, 561, 564, 565, 567, 570, 573, 575, 576, 579, 580, 582, 585, 588, 590, 591, 594, 595, 597, 600, 603, 605, 606, 609, 610, 612, 615, 618, 620, 621, 624, 625, 627, 630, 633, 635, 636, 639, 640, 642, 645, 648, 650, 651, 654, 655, 657, 660, 663, 665, 666, 669, 670, 672, 675, 678, 680, 681, 684, 685, 687, 690, 693, 695, 696, 699, 700, 702, 705, 708, 710, 711, 714, 715, 717, 720, 723, 725, 726, 729, 730, 732, 735, 738, 740, 741, 744, 745, 747, 750, 753, 755, 756, 759, 760, 762, 765, 768, 770, 771, 774, 775, 777, 780, 783, 785, 786, 789, 790, 792, 795, 798, 800, 801, 804, 805, 807, 810, 813, 815, 816, 819, 820, 822, 825, 828, 830, 831, 834, 835, 837, 840, 843, 845, 846, 849, 850, 852, 855, 858, 860, 861, 864, 865, 867, 870, 873, 875, 876, 879, 880, 882, 885, 888, 890, 891, 894, 895, 897, 900, 903, 905, 906, 909, 910, 912, 915, 918, 920, 921, 924, 925, 927, 930, 933, 935, 936, 939, 940, 942, 945, 948, 950, 951, 954, 955, 957, 960, 963, 965, 966, 969, 970, 972, 975, 978, 980, 981, 984, 985, 987, 990, 993, 995, 996, 999]\n"
     ]
    }
   ],
   "source": [
    "my_multiples = []\n",
    "for number in range(1, 1000):\n",
    "    if (number % 3 == 0) or (number % 5 == 0):\n",
    "        my_multiples.append(number)\n",
    "\n",
    "print(my_multiples)"
   ]
  },
  {
   "cell_type": "code",
   "execution_count": 12,
   "id": "44c61ca6-8497-4dea-97d5-27bba9e00a59",
   "metadata": {},
   "outputs": [
    {
     "name": "stdout",
     "output_type": "stream",
     "text": [
      "233168\n"
     ]
    }
   ],
   "source": [
    "# This block of code sums a sequence of numbers\n",
    "result = 0\n",
    "for number in my_multiples:\n",
    "    result = result + number\n",
    "print(result)"
   ]
  },
  {
   "cell_type": "code",
   "execution_count": 14,
   "id": "ccf43ae0-2143-4558-aec1-e9226706e255",
   "metadata": {},
   "outputs": [
    {
     "data": {
      "text/plain": [
       "233168"
      ]
     },
     "execution_count": 14,
     "metadata": {},
     "output_type": "execute_result"
    }
   ],
   "source": [
    "# Same as above\n",
    "sum(my_multiples)"
   ]
  },
  {
   "cell_type": "code",
   "execution_count": 15,
   "id": "247e0a22-71b1-48b1-b50d-1c094503985d",
   "metadata": {},
   "outputs": [
    {
     "name": "stdout",
     "output_type": "stream",
     "text": [
      "233168\n"
     ]
    }
   ],
   "source": [
    "# Solution to problem 1\n",
    "my_multiples = []\n",
    "for number in range(1, 1000):\n",
    "    if (number % 3 == 0) or (number % 5 == 0):\n",
    "        my_multiples.append(number)\n",
    "\n",
    "print(sum(my_multiples))"
   ]
  },
  {
   "cell_type": "markdown",
   "id": "187e28dc-2063-4827-8311-03298d823626",
   "metadata": {},
   "source": [
    "## Problem 6\n",
    "\n",
    "> The sum of the squares of the first ten natural numbers is,\n",
    "> $$1^2 + 2^2 + \\dots = 385$$\n",
    "> The square of the sum of the first ten natural numbers is,\n",
    ">\n",
    "> Hence the difference between the sum of the squares of the first ten natural numbers and the square of the sum is\n",
    "> \n",
    ">\n",
    "> Find the difference between the sum of the squares of the first one hundred natural numbers and the square of the sum."
   ]
  },
  {
   "cell_type": "code",
   "execution_count": 24,
   "id": "507d8815-9139-48cf-8482-d02d0e5abe8b",
   "metadata": {},
   "outputs": [
    {
     "name": "stdout",
     "output_type": "stream",
     "text": [
      "25502500\n",
      "338350\n",
      "25164150\n"
     ]
    }
   ],
   "source": [
    "# Square of the sum\n",
    "square_of_sum = sum(range(101)) ** 2\n",
    "\n",
    "squares = []  # Empty list\n",
    "for number in range(101):\n",
    "    next_square = number ** 2\n",
    "    squares.append(next_square)\n",
    "\n",
    "sum_of_squares = sum(squares)\n",
    "\n",
    "print(square_of_sum)\n",
    "print(sum_of_squares)\n",
    "print(square_of_sum - sum_of_squares)"
   ]
  },
  {
   "cell_type": "markdown",
   "id": "622fdd9e-fe69-453e-872d-9167a2950b73",
   "metadata": {},
   "source": [
    "## Problem 2\n",
    "\n",
    "> Each new term in the Fibonacci sequence is generated by adding the previous two terms. By starting with 1 and 2, the first 10 terms will be:\n",
    ">\n",
    "> 1, 2, 3, 5, 8, 13, 21, 34, 55, 89, ...\n",
    ">\n",
    "> By considering the terms in the Fibonacci sequence whose values do not exceed four million, find the sum of the even-valued terms.\n"
   ]
  },
  {
   "cell_type": "code",
   "execution_count": 31,
   "id": "aa291f5d-8579-42aa-b6f0-8f0bb9e56a33",
   "metadata": {},
   "outputs": [
    {
     "name": "stdout",
     "output_type": "stream",
     "text": [
      "1 2\n",
      "3\n",
      "5\n",
      "7\n"
     ]
    }
   ],
   "source": [
    "limit = 90\n",
    "\n",
    "x = 1\n",
    "y = 2\n",
    "print(x, y)\n",
    "\n",
    "z = x + y\n",
    "print(z)\n",
    "\n",
    "z = y + z\n",
    "print(z)\n",
    "\n",
    "z = y + z\n",
    "print(z)"
   ]
  },
  {
   "cell_type": "code",
   "execution_count": 45,
   "id": "72d396a2-b25f-491a-a1e2-a942dac527e0",
   "metadata": {},
   "outputs": [
    {
     "name": "stdout",
     "output_type": "stream",
     "text": [
      "90\n"
     ]
    },
    {
     "data": {
      "text/plain": [
       "[1, 2, 3, 5, 8, 13, 21, 34, 55, 89]"
      ]
     },
     "execution_count": 45,
     "metadata": {},
     "output_type": "execute_result"
    }
   ],
   "source": [
    "limit = 90\n",
    "fibonacci = [1, 2]\n",
    "print(limit)\n",
    "\n",
    "while fibonacci[-1] + fibonacci[-2] < limit:\n",
    "    fibonacci.append(fibonacci[-1] + fibonacci[-2])\n",
    "\n",
    "fibonacci"
   ]
  },
  {
   "cell_type": "code",
   "execution_count": 46,
   "id": "64681249-b994-4cbd-b7d5-d671b1bfdfc6",
   "metadata": {},
   "outputs": [
    {
     "data": {
      "text/plain": [
       "44"
      ]
     },
     "execution_count": 46,
     "metadata": {},
     "output_type": "execute_result"
    }
   ],
   "source": [
    "# Even terms of the Fibonacci sequence\n",
    "fibonacci_even = []\n",
    "for number in fibonacci:\n",
    "    if number % 2 == 0:\n",
    "        fibonacci_even.append(number)\n",
    "\n",
    "sum(fibonacci_even)"
   ]
  },
  {
   "cell_type": "code",
   "execution_count": 47,
   "id": "cc79e387-1878-411c-ba3e-0f73fd793b08",
   "metadata": {},
   "outputs": [
    {
     "name": "stdout",
     "output_type": "stream",
     "text": [
      "1 2\n"
     ]
    }
   ],
   "source": [
    "x, y = 1, 2\n",
    "print(x, y)"
   ]
  },
  {
   "cell_type": "code",
   "execution_count": 60,
   "id": "76acd3bf-defc-4540-8cb6-3eb9f6beddbc",
   "metadata": {},
   "outputs": [
    {
     "name": "stdout",
     "output_type": "stream",
     "text": [
      "610 987\n"
     ]
    }
   ],
   "source": [
    "x, y = y, x + y\n",
    "print(x, y)"
   ]
  },
  {
   "cell_type": "markdown",
   "id": "b4d7408b-6f8f-4b92-8b1e-2fbf3701ff92",
   "metadata": {},
   "source": [
    "## Problem 4\n",
    "\n",
    "> A palindromic number reads the same both ways. The largest palindrome made from the product of two 2-digit numbers is 9009 = 91 × 99.\n",
    ">\n",
    "> Find the largest palindrome made from the product of two 3-digit numbers."
   ]
  },
  {
   "cell_type": "code",
   "execution_count": 63,
   "id": "0322da80-6c2e-4dae-a5ec-01fa5405dcd2",
   "metadata": {},
   "outputs": [
    {
     "data": {
      "text/plain": [
       "100"
      ]
     },
     "execution_count": 63,
     "metadata": {},
     "output_type": "execute_result"
    }
   ],
   "source": [
    "max_element = 0\n",
    "for number in [10, 1, 99, 8, -1, 100]:\n",
    "    if number > max_element:\n",
    "        max_element = number\n",
    "max_element"
   ]
  },
  {
   "cell_type": "code",
   "execution_count": 62,
   "id": "2eb4c007-200c-444c-96a1-3027fae8a842",
   "metadata": {},
   "outputs": [
    {
     "data": {
      "text/plain": [
       "100"
      ]
     },
     "execution_count": 62,
     "metadata": {},
     "output_type": "execute_result"
    }
   ],
   "source": [
    "max([10, 1, 99, 8, -1, 100])"
   ]
  },
  {
   "cell_type": "code",
   "execution_count": 70,
   "id": "bd951233-ea57-4e3d-866d-64ef7c9fbc0f",
   "metadata": {},
   "outputs": [
    {
     "data": {
      "text/plain": [
       "'siuL nauJ'"
      ]
     },
     "execution_count": 70,
     "metadata": {},
     "output_type": "execute_result"
    }
   ],
   "source": [
    "\"Juan Luis\"[::-1]"
   ]
  },
  {
   "cell_type": "code",
   "execution_count": 72,
   "id": "033dfb8f-cb7e-4d8b-8a11-08760c089c3a",
   "metadata": {},
   "outputs": [
    {
     "data": {
      "text/plain": [
       "True"
      ]
     },
     "execution_count": 72,
     "metadata": {},
     "output_type": "execute_result"
    }
   ],
   "source": [
    "number = 9009\n",
    "str(number)[::-1] == str(number)"
   ]
  },
  {
   "cell_type": "code",
   "execution_count": 80,
   "id": "0d0d8463-1280-4d91-9e4a-d1121431aa6c",
   "metadata": {},
   "outputs": [],
   "source": [
    "palindromes = []\n",
    "\n",
    "for number_a in range(100, 1000):\n",
    "    for number_b in range(100, 1000):\n",
    "        product = number_a * number_b\n",
    "        if str(product) == str(product)[::-1]:\n",
    "            palindromes.append(product)"
   ]
  },
  {
   "cell_type": "code",
   "execution_count": 81,
   "id": "1218d3e7-31e2-4eaa-81a2-6f13378f3d19",
   "metadata": {},
   "outputs": [
    {
     "data": {
      "text/plain": [
       "906609"
      ]
     },
     "execution_count": 81,
     "metadata": {},
     "output_type": "execute_result"
    }
   ],
   "source": [
    "max(palindromes)"
   ]
  },
  {
   "cell_type": "code",
   "execution_count": null,
   "id": "4a4de03c-b40f-45bb-b945-6a53161992fb",
   "metadata": {},
   "outputs": [],
   "source": []
  }
 ],
 "metadata": {
  "kernelspec": {
   "display_name": "Python 3",
   "language": "python",
   "name": "python3"
  },
  "language_info": {
   "codemirror_mode": {
    "name": "ipython",
    "version": 3
   },
   "file_extension": ".py",
   "mimetype": "text/x-python",
   "name": "python",
   "nbconvert_exporter": "python",
   "pygments_lexer": "ipython3",
   "version": "3.8.8"
  }
 },
 "nbformat": 4,
 "nbformat_minor": 5
}
