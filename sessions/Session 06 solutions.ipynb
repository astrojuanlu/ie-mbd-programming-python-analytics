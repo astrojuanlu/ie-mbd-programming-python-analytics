{
 "cells": [
  {
   "cell_type": "code",
   "execution_count": 1,
   "metadata": {},
   "outputs": [
    {
     "name": "stdout",
     "output_type": "stream",
     "text": [
      "<class 'list'> 9\n"
     ]
    }
   ],
   "source": [
    "import requests\n",
    "\n",
    "DATA_URL = (\n",
    "    \"https://github.com/astrojuanlu/ie-mbd-python-data-analysis-i/\"\n",
    "    \"raw/main/data/twitter_data.json\"\n",
    ")\n",
    "\n",
    "data = requests.get(DATA_URL).json()\n",
    "print(type(data), len(data))"
   ]
  },
  {
   "cell_type": "code",
   "execution_count": 2,
   "metadata": {},
   "outputs": [],
   "source": [
    "def print_tweet(tweet):\n",
    "    print(tweet[\"id\"])\n",
    "    for hashtag_data in tweet[\"entities\"][\"hashtags\"]:\n",
    "        print(f\"#{hashtag_data['text']}\")"
   ]
  },
  {
   "cell_type": "code",
   "execution_count": 3,
   "metadata": {},
   "outputs": [
    {
     "name": "stdout",
     "output_type": "stream",
     "text": [
      "1252840795737997317\n",
      "#balboaisland\n",
      "#newportbeach\n",
      "#tennis\n",
      "#covid_19\n",
      "#coronavirus\n",
      "#orangecounty\n",
      "#california\n",
      "1256259052461592580\n",
      "#Repost\n",
      "1256459430129885184\n",
      "#ThisWeekend\n",
      "#la\n",
      "#LosAngeles\n",
      "#activities\n",
      "#lockdown\n",
      "1256459484521615362\n",
      "1258334628345044992\n",
      "#COVID19\n",
      "#Protesters\n",
      "1253472356476940290\n",
      "1253472297144299520\n",
      "1254774730529243136\n",
      "1258172892077912064\n"
     ]
    }
   ],
   "source": [
    "for tweet in data:\n",
    "    print_tweet(tweet)"
   ]
  },
  {
   "cell_type": "code",
   "execution_count": 4,
   "metadata": {},
   "outputs": [],
   "source": [
    "def has_hashtags(tweet):\n",
    "    return bool(tweet[\"entities\"][\"hashtags\"])"
   ]
  },
  {
   "cell_type": "code",
   "execution_count": 5,
   "metadata": {},
   "outputs": [
    {
     "name": "stdout",
     "output_type": "stream",
     "text": [
      "1252840795737997317 True\n",
      "1256259052461592580 True\n",
      "1256459430129885184 True\n",
      "1256459484521615362 False\n",
      "1258334628345044992 True\n",
      "1253472356476940290 False\n",
      "1253472297144299520 False\n",
      "1254774730529243136 False\n",
      "1258172892077912064 False\n"
     ]
    }
   ],
   "source": [
    "for tweet in data:\n",
    "    print(tweet[\"id\"], has_hashtags(tweet))"
   ]
  },
  {
   "cell_type": "code",
   "execution_count": 6,
   "metadata": {},
   "outputs": [],
   "source": [
    "def print_tweet(tweet):\n",
    "    print(tweet[\"id\"])\n",
    "    if has_hashtags(tweet):\n",
    "        for hashtag_data in tweet[\"entities\"][\"hashtags\"]:\n",
    "            print(f\"#{hashtag_data['text']}\")\n",
    "    else:\n",
    "        print(\"(no hashtags)\")"
   ]
  },
  {
   "cell_type": "code",
   "execution_count": 7,
   "metadata": {},
   "outputs": [
    {
     "name": "stdout",
     "output_type": "stream",
     "text": [
      "1258334628345044992\n",
      "#COVID19\n",
      "#Protesters\n"
     ]
    }
   ],
   "source": [
    "print_tweet(data[4])"
   ]
  },
  {
   "cell_type": "code",
   "execution_count": 8,
   "metadata": {},
   "outputs": [
    {
     "name": "stdout",
     "output_type": "stream",
     "text": [
      "1253472356476940290\n",
      "(no hashtags)\n"
     ]
    }
   ],
   "source": [
    "print_tweet(data[5])"
   ]
  },
  {
   "cell_type": "code",
   "execution_count": 9,
   "metadata": {},
   "outputs": [],
   "source": [
    "def trim_tweet(tweet):\n",
    "    return {\n",
    "        \"id\": tweet[\"id\"],\n",
    "        \"text\": tweet[\"text\"],\n",
    "        \"favorite_count\": tweet[\"favorite_count\"],\n",
    "        \"retweet_count\": tweet[\"favorite_count\"],\n",
    "        \"has_hashtags\": has_hashtags(tweet),\n",
    "        \"username\": tweet[\"user\"][\"screen_name\"],\n",
    "        \"user_followers\": tweet[\"user\"][\"followers_count\"]\n",
    "    }"
   ]
  },
  {
   "cell_type": "code",
   "execution_count": 10,
   "metadata": {},
   "outputs": [
    {
     "data": {
      "text/plain": [
       "{'id': 1252840795737997317,\n",
       " 'text': 'Tennis a la Balboa.\\n\\n#balboaisland #newportbeach #tennis #covid_19 #coronavirus #orangecounty #california… https://t.co/px1GCH1bgZ',\n",
       " 'favorite_count': 0,\n",
       " 'retweet_count': 0,\n",
       " 'has_hashtags': True,\n",
       " 'username': 'JoesNews_',\n",
       " 'user_followers': 46}"
      ]
     },
     "execution_count": 10,
     "metadata": {},
     "output_type": "execute_result"
    }
   ],
   "source": [
    "trim_tweet(data[0])"
   ]
  },
  {
   "cell_type": "code",
   "execution_count": 11,
   "metadata": {},
   "outputs": [],
   "source": [
    "def trim_data(tweet_list):\n",
    "    return [trim_tweet(tweet) for tweet in tweet_list]"
   ]
  },
  {
   "cell_type": "code",
   "execution_count": 12,
   "metadata": {},
   "outputs": [
    {
     "data": {
      "text/plain": [
       "[{'id': 1252840795737997317,\n",
       "  'text': 'Tennis a la Balboa.\\n\\n#balboaisland #newportbeach #tennis #covid_19 #coronavirus #orangecounty #california… https://t.co/px1GCH1bgZ',\n",
       "  'favorite_count': 0,\n",
       "  'retweet_count': 0,\n",
       "  'has_hashtags': True,\n",
       "  'username': 'JoesNews_',\n",
       "  'user_followers': 46},\n",
       " {'id': 1256259052461592580,\n",
       "  'text': '#Repost bandcamp\\n• • • • • •\\nTo keep supporting musicians during the Covid-19 pandemic, we are waiving our revenue… https://t.co/W7mJY3QPH0',\n",
       "  'favorite_count': 0,\n",
       "  'retweet_count': 0,\n",
       "  'has_hashtags': True,\n",
       "  'username': 'MagdaVegaSLC',\n",
       "  'user_followers': 84},\n",
       " {'id': 1256459430129885184,\n",
       "  'text': 'Things to Do (Inside) in L.A. #ThisWeekend https://t.co/DnsuwtVXbb via @LAMag\\n#la #LosAngeles #activities #lockdown… https://t.co/QvFjrEAfFj',\n",
       "  'favorite_count': 0,\n",
       "  'retweet_count': 0,\n",
       "  'has_hashtags': True,\n",
       "  'username': 'alistsocialent',\n",
       "  'user_followers': 68}]"
      ]
     },
     "execution_count": 12,
     "metadata": {},
     "output_type": "execute_result"
    }
   ],
   "source": [
    "trim_data(data[:3])"
   ]
  },
  {
   "cell_type": "code",
   "execution_count": 13,
   "metadata": {},
   "outputs": [],
   "source": [
    "from statistics import mean"
   ]
  },
  {
   "cell_type": "code",
   "execution_count": 14,
   "metadata": {},
   "outputs": [
    {
     "data": {
      "text/plain": [
       "16.333333333333332"
      ]
     },
     "execution_count": 14,
     "metadata": {},
     "output_type": "execute_result"
    }
   ],
   "source": [
    "filtered_tweets = []\n",
    "for tweet in trim_data(data):\n",
    "    if (tweet[\"user_followers\"] > 500) and not tweet[\"has_hashtags\"]:\n",
    "        filtered_tweets.append(tweet)\n",
    "\n",
    "mean([t[\"favorite_count\"] for t in filtered_tweets])"
   ]
  }
 ],
 "metadata": {
  "kernelspec": {
   "display_name": "Python 3 (ipykernel)",
   "language": "python",
   "name": "python3"
  },
  "language_info": {
   "codemirror_mode": {
    "name": "ipython",
    "version": 3
   },
   "file_extension": ".py",
   "mimetype": "text/x-python",
   "name": "python",
   "nbconvert_exporter": "python",
   "pygments_lexer": "ipython3",
   "version": "3.9.12"
  }
 },
 "nbformat": 4,
 "nbformat_minor": 4
}
