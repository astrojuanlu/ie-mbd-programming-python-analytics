{
 "cells": [
  {
   "cell_type": "code",
   "execution_count": 1,
   "id": "0e660847-71ec-468d-9579-be95242f42c5",
   "metadata": {},
   "outputs": [],
   "source": [
    "import json"
   ]
  },
  {
   "cell_type": "code",
   "execution_count": 6,
   "id": "712cd41f-4f96-40ff-826a-0bc167617e69",
   "metadata": {},
   "outputs": [],
   "source": [
    "with open(\"data/rick-and-morty.json\") as fh:\n",
    "    data = json.load(fh)"
   ]
  },
  {
   "cell_type": "code",
   "execution_count": 3,
   "id": "522ad50f-a368-403a-8691-09dc2d40dc23",
   "metadata": {},
   "outputs": [
    {
     "data": {
      "text/plain": [
       "dict"
      ]
     },
     "execution_count": 3,
     "metadata": {},
     "output_type": "execute_result"
    }
   ],
   "source": [
    "type(data)"
   ]
  },
  {
   "cell_type": "code",
   "execution_count": 4,
   "id": "18fe48f2-e830-498d-bd2f-dfa1c679ee8a",
   "metadata": {},
   "outputs": [
    {
     "data": {
      "text/plain": [
       "24"
      ]
     },
     "execution_count": 4,
     "metadata": {},
     "output_type": "execute_result"
    }
   ],
   "source": [
    "len(data)"
   ]
  },
  {
   "cell_type": "markdown",
   "id": "d5b17754-fc5d-4f6d-b3ce-6a27b2c51c7e",
   "metadata": {},
   "source": [
    "### Exercise 1\n",
    "\n",
    "Print the id and the name and the airdate of every episode"
   ]
  },
  {
   "cell_type": "code",
   "execution_count": 9,
   "id": "152dcfdb-3bd0-4087-aa27-404873898286",
   "metadata": {},
   "outputs": [],
   "source": [
    "# You can use a variable or not, up to you\n",
    "episodes = data[\"_embedded\"][\"episodes\"]\n",
    "for episode in episodes:\n",
    "    ..."
   ]
  },
  {
   "cell_type": "code",
   "execution_count": 10,
   "id": "c92ea1fb-3c1b-4dce-92bb-10218619f425",
   "metadata": {
    "collapsed": true,
    "jupyter": {
     "outputs_hidden": true
    },
    "tags": []
   },
   "outputs": [
    {
     "name": "stdout",
     "output_type": "stream",
     "text": [
      "14308 Pilot 2013-12-02\n",
      "14309 Lawnmower Dog 2013-12-09\n",
      "14310 Anatomy Park 2013-12-16\n",
      "14311 M. Night Shaym-Aliens! 2014-01-13\n",
      "14312 Meeseeks and Destroy 2014-01-20\n",
      "14313 Rick Potion #9 2014-01-27\n",
      "14314 Raising Gazorpazorp 2014-03-10\n",
      "14315 Rixty Minutes 2014-03-17\n",
      "14316 Something Ricked This Way Comes 2014-03-24\n",
      "14317 Close Rick-Counters of the Rick Kind 2014-04-07\n",
      "14318 Ricksy Business 2014-04-14\n",
      "157166 A Rickle in Time 2015-07-26\n",
      "183053 Mortynight Run 2015-08-02\n",
      "201178 Auto Erotic Assimilation 2015-08-09\n",
      "201179 Total Rickall 2015-08-16\n",
      "201180 Get Schwifty 2015-08-23\n",
      "201181 The Ricks Must Be Crazy 2015-08-30\n",
      "211831 Big Trouble in Little Sanchez 2015-09-13\n",
      "211832 Interdimensional Cable 2: Tempting Fate 2015-09-20\n",
      "211833 Look Who's Purging Now 2015-09-27\n",
      "211834 The Wedding Squanchers 2015-10-04\n",
      "1119144 The Rickshank Rickdemption 2017-04-01\n",
      "1144079 Rickmancing the Stone 2017-07-30\n",
      "1247370 Pickle Rick 2017-08-06\n",
      "1247371 Vindicators 3: The Return of Worldender 2017-08-13\n",
      "1264543 The Whirly Dirly Conspiracy 2017-08-20\n",
      "1264544 Rest and Ricklaxation 2017-08-27\n",
      "1269493 The Ricklantis Mixup 2017-09-10\n",
      "1269494 Morty's Mind Blowers 2017-09-17\n",
      "1285112 The ABC's of Beth 2017-09-24\n",
      "1285113 The Rickchurian Mortydate 2017-10-01\n",
      "1729610 Edge of Tomorty: Rick, Die, Rickpeat 2019-11-10\n",
      "1751878 The Old Man and the Seat 2019-11-17\n",
      "1751879 One Crew Over the Crewcoo's Morty 2019-11-24\n",
      "1751880 Claw and Hoarder: Special Ricktim's Morty 2019-12-08\n",
      "1751881 Rattlestar Ricklactica 2019-12-15\n",
      "1827600 Never Ricking Morty 2020-05-03\n",
      "1830517 Promortyus 2020-05-10\n",
      "1839342 The Vat of Acid Episode 2020-05-17\n",
      "1839343 Childrick of Mort 2020-05-24\n",
      "1839344 Star Mort Rickturn of the Jerri 2020-05-31\n",
      "2055782 Mort Dinner Rick Andre 2021-06-20\n",
      "2111926 Mortyplicity 2021-06-27\n",
      "2115503 A Rickconvenient Mort 2021-07-04\n",
      "2121946 Rickdependence Spray 2021-07-11\n",
      "2125581 Amortycan Grickfitti 2021-07-18\n",
      "2127407 Rick & Morty's Thanksploitation Spectacular 2021-07-25\n",
      "2127409 Gotron Jerrysis Rickvangelion 2021-08-01\n",
      "2130798 Rickternal Friendshine of the Spotless Mort 2021-08-08\n",
      "2130799 Forgetting Sarick Mortshall 2021-09-05\n",
      "2130800 Rickmurai Jack 2021-09-05\n"
     ]
    }
   ],
   "source": [
    "# Avoid `for i in`! What is `i`?\n",
    "for episode in data[\"_embedded\"][\"episodes\"]:\n",
    "    print(episode[\"id\"], episode[\"name\"], episode[\"airdate\"])"
   ]
  },
  {
   "cell_type": "markdown",
   "id": "e010a051-9232-485b-9a3f-878dc1040b92",
   "metadata": {},
   "source": [
    "### Exercise 2\n",
    "\n",
    "What is the longest episode name?"
   ]
  },
  {
   "cell_type": "code",
   "execution_count": 11,
   "id": "b7fdfd3a-b1ed-4106-a932-a15b3d1ba079",
   "metadata": {},
   "outputs": [],
   "source": [
    "episodes = data[\"_embedded\"][\"episodes\"]"
   ]
  },
  {
   "cell_type": "code",
   "execution_count": 14,
   "id": "85269742-3332-47ab-806b-462d8b48adec",
   "metadata": {},
   "outputs": [
    {
     "ename": "TypeError",
     "evalue": "list indices must be integers or slices, not str",
     "output_type": "error",
     "traceback": [
      "\u001b[0;31m---------------------------------------------------------------------------\u001b[0m",
      "\u001b[0;31mTypeError\u001b[0m                                 Traceback (most recent call last)",
      "\u001b[0;32m<ipython-input-14-7e24a77f783b>\u001b[0m in \u001b[0;36m<module>\u001b[0;34m\u001b[0m\n\u001b[0;32m----> 1\u001b[0;31m \u001b[0mmax\u001b[0m\u001b[0;34m(\u001b[0m\u001b[0mlen\u001b[0m\u001b[0;34m(\u001b[0m\u001b[0mepisodes\u001b[0m\u001b[0;34m[\u001b[0m\u001b[0;34m\"name\"\u001b[0m\u001b[0;34m]\u001b[0m\u001b[0;34m)\u001b[0m\u001b[0;34m)\u001b[0m\u001b[0;34m\u001b[0m\u001b[0;34m\u001b[0m\u001b[0m\n\u001b[0m",
      "\u001b[0;31mTypeError\u001b[0m: list indices must be integers or slices, not str"
     ]
    }
   ],
   "source": [
    "max(len(episodes[\"name\"]))"
   ]
  },
  {
   "cell_type": "code",
   "execution_count": 17,
   "id": "4f2e3d38-17e5-4301-998d-a21c9f78b7a5",
   "metadata": {},
   "outputs": [
    {
     "name": "stdout",
     "output_type": "stream",
     "text": [
      "[5, 13, 12, 22, 20, 14, 19, 13, 31, 36, 15, 16, 14, 24, 13, 12, 23, 29, 39, 22, 22, 26, 21, 11, 39, 27, 21, 20, 20, 17, 25, 36, 24, 33, 41, 22, 19, 10, 23, 17, 31, 22, 12, 21, 20, 20, 43, 29, 43, 27, 14]\n"
     ]
    }
   ],
   "source": [
    "# List comprehension\n",
    "list_of_episode_name_lengths = [len(episode[\"name\"]) for episode in episodes]\n",
    "print(list_of_episode_name_lengths)"
   ]
  },
  {
   "cell_type": "code",
   "execution_count": 20,
   "id": "53827550-64a4-4351-9732-621e9296711b",
   "metadata": {},
   "outputs": [
    {
     "data": {
      "text/plain": [
       "43"
      ]
     },
     "execution_count": 20,
     "metadata": {},
     "output_type": "execute_result"
    }
   ],
   "source": [
    "max(list_of_episode_name_lengths)"
   ]
  },
  {
   "cell_type": "code",
   "execution_count": 21,
   "id": "ddfeb48a-9d0d-49d0-903e-5405716710df",
   "metadata": {},
   "outputs": [],
   "source": [
    "# Normal `for` loop\n",
    "list_of_episode_name_lengths = []\n",
    "for episode in episodes:\n",
    "    name_length = len(episode[\"name\"])\n",
    "    list_of_episode_name_lengths.append(name_length)"
   ]
  },
  {
   "cell_type": "code",
   "execution_count": 23,
   "id": "2484e22b-31d8-4acb-947e-6b21134d517e",
   "metadata": {},
   "outputs": [
    {
     "data": {
      "text/plain": [
       "43"
      ]
     },
     "execution_count": 23,
     "metadata": {},
     "output_type": "execute_result"
    }
   ],
   "source": [
    "max(list_of_episode_name_lengths)"
   ]
  },
  {
   "cell_type": "code",
   "execution_count": 12,
   "id": "a835ded9-355c-471a-9ece-86290586e436",
   "metadata": {
    "collapsed": true,
    "jupyter": {
     "outputs_hidden": true
    },
    "tags": []
   },
   "outputs": [
    {
     "name": "stdout",
     "output_type": "stream",
     "text": [
      "5\n",
      "13\n",
      "12\n",
      "22\n",
      "20\n",
      "14\n",
      "19\n",
      "13\n",
      "31\n",
      "36\n",
      "15\n",
      "16\n",
      "14\n",
      "24\n",
      "13\n",
      "12\n",
      "23\n",
      "29\n",
      "39\n",
      "22\n",
      "22\n",
      "26\n",
      "21\n",
      "11\n",
      "39\n",
      "27\n",
      "21\n",
      "20\n",
      "20\n",
      "17\n",
      "25\n",
      "36\n",
      "24\n",
      "33\n",
      "41\n",
      "22\n",
      "19\n",
      "10\n",
      "23\n",
      "17\n",
      "31\n",
      "22\n",
      "12\n",
      "21\n",
      "20\n",
      "20\n",
      "43\n",
      "29\n",
      "43\n",
      "27\n",
      "14\n"
     ]
    }
   ],
   "source": [
    "for episode in episodes:\n",
    "    print(len(episode[\"name\"]))"
   ]
  },
  {
   "cell_type": "code",
   "execution_count": 29,
   "id": "ce07905f-6d87-43f3-a9e5-c22a066fa53b",
   "metadata": {},
   "outputs": [
    {
     "name": "stdout",
     "output_type": "stream",
     "text": [
      "['Pilot', 'Lawnmower Dog', 'Anatomy Park', 'M. Night Shaym-Aliens!', 'Meeseeks and Destroy', 'Rick Potion #9', 'Raising Gazorpazorp', 'Rixty Minutes', 'Something Ricked This Way Comes', 'Close Rick-Counters of the Rick Kind', 'Ricksy Business', 'A Rickle in Time', 'Mortynight Run', 'Auto Erotic Assimilation', 'Total Rickall', 'Get Schwifty', 'The Ricks Must Be Crazy', 'Big Trouble in Little Sanchez', 'Interdimensional Cable 2: Tempting Fate', \"Look Who's Purging Now\", 'The Wedding Squanchers', 'The Rickshank Rickdemption', 'Rickmancing the Stone', 'Pickle Rick', 'Vindicators 3: The Return of Worldender', 'The Whirly Dirly Conspiracy', 'Rest and Ricklaxation', 'The Ricklantis Mixup', \"Morty's Mind Blowers\", \"The ABC's of Beth\", 'The Rickchurian Mortydate', 'Edge of Tomorty: Rick, Die, Rickpeat', 'The Old Man and the Seat', \"One Crew Over the Crewcoo's Morty\", \"Claw and Hoarder: Special Ricktim's Morty\", 'Rattlestar Ricklactica', 'Never Ricking Morty', 'Promortyus', 'The Vat of Acid Episode', 'Childrick of Mort', 'Star Mort Rickturn of the Jerri', 'Mort Dinner Rick Andre', 'Mortyplicity', 'A Rickconvenient Mort', 'Rickdependence Spray', 'Amortycan Grickfitti', \"Rick & Morty's Thanksploitation Spectacular\", 'Gotron Jerrysis Rickvangelion', 'Rickternal Friendshine of the Spotless Mort', 'Forgetting Sarick Mortshall', 'Rickmurai Jack']\n"
     ]
    }
   ],
   "source": [
    "list_of_names = [episode[\"name\"] for episode in episodes]\n",
    "print(list_of_names)"
   ]
  },
  {
   "cell_type": "code",
   "execution_count": 35,
   "id": "5f6d7a0b-6fce-4bec-8d8e-0888318c3277",
   "metadata": {},
   "outputs": [
    {
     "data": {
      "text/plain": [
       "99"
      ]
     },
     "execution_count": 35,
     "metadata": {},
     "output_type": "execute_result"
    }
   ],
   "source": [
    "max([1, 2, 3, 99, -1])"
   ]
  },
  {
   "cell_type": "code",
   "execution_count": 36,
   "id": "d57e339a-b9e2-4dd4-b3d6-acc52692a80e",
   "metadata": {},
   "outputs": [
    {
     "data": {
      "text/plain": [
       "True"
      ]
     },
     "execution_count": 36,
     "metadata": {},
     "output_type": "execute_result"
    }
   ],
   "source": [
    "99 > 3 > 2"
   ]
  },
  {
   "cell_type": "code",
   "execution_count": 37,
   "id": "b6c39f77-0e8a-4171-b138-cfce9030889b",
   "metadata": {},
   "outputs": [
    {
     "data": {
      "text/plain": [
       "True"
      ]
     },
     "execution_count": 37,
     "metadata": {},
     "output_type": "execute_result"
    }
   ],
   "source": [
    "\"V\" > \"F\""
   ]
  },
  {
   "cell_type": "code",
   "execution_count": 32,
   "id": "1108ec00-bf39-4c53-9f45-0bc9cdacd320",
   "metadata": {},
   "outputs": [
    {
     "data": {
      "text/plain": [
       "'Vindicators 3: The Return of Worldender'"
      ]
     },
     "execution_count": 32,
     "metadata": {},
     "output_type": "execute_result"
    }
   ],
   "source": [
    "max(list_of_names)"
   ]
  },
  {
   "cell_type": "code",
   "execution_count": 34,
   "id": "66b382f3-c8ed-4174-b360-379c3086a050",
   "metadata": {},
   "outputs": [
    {
     "data": {
      "text/plain": [
       "\"Rick & Morty's Thanksploitation Spectacular\""
      ]
     },
     "execution_count": 34,
     "metadata": {},
     "output_type": "execute_result"
    }
   ],
   "source": [
    "max(list_of_names, key=len)"
   ]
  },
  {
   "cell_type": "code",
   "execution_count": 33,
   "id": "e0b2df07-f48f-4a17-a331-076465a9d61f",
   "metadata": {},
   "outputs": [
    {
     "data": {
      "text/plain": [
       "True"
      ]
     },
     "execution_count": 33,
     "metadata": {},
     "output_type": "execute_result"
    }
   ],
   "source": [
    "\"a\" < \"b\" < \"c\""
   ]
  },
  {
   "cell_type": "code",
   "execution_count": 39,
   "id": "b4ce23e8-e128-4e56-8eaa-02933cb8bed9",
   "metadata": {},
   "outputs": [
    {
     "data": {
      "text/plain": [
       "[-99, 1, 2, 4, 99]"
      ]
     },
     "execution_count": 39,
     "metadata": {},
     "output_type": "execute_result"
    }
   ],
   "source": [
    "sorted([1, 2, -99, 99, 4])"
   ]
  },
  {
   "cell_type": "code",
   "execution_count": 44,
   "id": "e00eb313-72c5-4e3c-b716-d327fd1177f6",
   "metadata": {},
   "outputs": [
    {
     "name": "stdout",
     "output_type": "stream",
     "text": [
      "['Pilot', 'Promortyus', 'Pickle Rick', 'Anatomy Park', 'Get Schwifty', 'Mortyplicity', 'Lawnmower Dog', 'Rixty Minutes', 'Total Rickall', 'Rick Potion #9', 'Mortynight Run', 'Rickmurai Jack', 'Ricksy Business', 'A Rickle in Time', \"The ABC's of Beth\", 'Childrick of Mort', 'Raising Gazorpazorp', 'Never Ricking Morty', 'Meeseeks and Destroy', 'The Ricklantis Mixup', \"Morty's Mind Blowers\", 'Rickdependence Spray', 'Amortycan Grickfitti', 'Rickmancing the Stone', 'Rest and Ricklaxation', 'A Rickconvenient Mort', 'M. Night Shaym-Aliens!', \"Look Who's Purging Now\", 'The Wedding Squanchers', 'Rattlestar Ricklactica', 'Mort Dinner Rick Andre', 'The Ricks Must Be Crazy', 'The Vat of Acid Episode', 'Auto Erotic Assimilation', 'The Old Man and the Seat', 'The Rickchurian Mortydate', 'The Rickshank Rickdemption', 'The Whirly Dirly Conspiracy', 'Forgetting Sarick Mortshall', 'Big Trouble in Little Sanchez', 'Gotron Jerrysis Rickvangelion', 'Something Ricked This Way Comes', 'Star Mort Rickturn of the Jerri', \"One Crew Over the Crewcoo's Morty\", 'Close Rick-Counters of the Rick Kind', 'Edge of Tomorty: Rick, Die, Rickpeat', 'Interdimensional Cable 2: Tempting Fate', 'Vindicators 3: The Return of Worldender', \"Claw and Hoarder: Special Ricktim's Morty\", \"Rick & Morty's Thanksploitation Spectacular\", 'Rickternal Friendshine of the Spotless Mort']\n"
     ]
    }
   ],
   "source": [
    "print(sorted(list_of_names, key=len))"
   ]
  },
  {
   "cell_type": "code",
   "execution_count": 46,
   "id": "22f4b681-c98a-435f-a993-b1e8d9916c5b",
   "metadata": {},
   "outputs": [
    {
     "data": {
      "text/plain": [
       "\"Rick & Morty's Thanksploitation Spectacular\""
      ]
     },
     "execution_count": 46,
     "metadata": {},
     "output_type": "execute_result"
    }
   ],
   "source": [
    "longest_name = max(list_of_names, key=len)\n",
    "longest_name"
   ]
  },
  {
   "cell_type": "code",
   "execution_count": 47,
   "id": "f9dcd719-1f35-4993-9f4e-17061a4cec84",
   "metadata": {},
   "outputs": [
    {
     "data": {
      "text/plain": [
       "43"
      ]
     },
     "execution_count": 47,
     "metadata": {},
     "output_type": "execute_result"
    }
   ],
   "source": [
    "max_length = len(longest_name)\n",
    "max_length"
   ]
  },
  {
   "cell_type": "code",
   "execution_count": 48,
   "id": "f4ba373f-a54b-4f10-ae71-3a430b5b5698",
   "metadata": {},
   "outputs": [
    {
     "name": "stdout",
     "output_type": "stream",
     "text": [
      "Rick & Morty's Thanksploitation Spectacular\n",
      "Rickternal Friendshine of the Spotless Mort\n"
     ]
    }
   ],
   "source": [
    "for name in list_of_names:\n",
    "    if len(name) == max_length:\n",
    "        print(name)"
   ]
  },
  {
   "cell_type": "code",
   "execution_count": 50,
   "id": "9b76a16b-14d5-467e-ba3c-c53ba6291e45",
   "metadata": {},
   "outputs": [
    {
     "data": {
      "text/plain": [
       "{'a': 1, 'b': 1, 'c': 2}"
      ]
     },
     "execution_count": 50,
     "metadata": {},
     "output_type": "execute_result"
    }
   ],
   "source": [
    "my_d = {\n",
    "    \"a\": 1,\n",
    "    \"b\": 1,\n",
    "    \"c\": 2,\n",
    "}\n",
    "my_d"
   ]
  },
  {
   "cell_type": "code",
   "execution_count": 52,
   "id": "ff263e01-085f-489c-b8a5-56b2b18790c7",
   "metadata": {},
   "outputs": [
    {
     "name": "stdout",
     "output_type": "stream",
     "text": [
      "a\n",
      "b\n"
     ]
    }
   ],
   "source": [
    "for key, value in my_d.items():\n",
    "    if value == 1:\n",
    "        print(key)"
   ]
  },
  {
   "cell_type": "code",
   "execution_count": 54,
   "id": "fbeef773-0f16-4859-bfb5-d3e26ecd122a",
   "metadata": {},
   "outputs": [
    {
     "data": {
      "text/plain": [
       "2"
      ]
     },
     "execution_count": 54,
     "metadata": {},
     "output_type": "execute_result"
    }
   ],
   "source": [
    "max(my_d.values())"
   ]
  },
  {
   "cell_type": "code",
   "execution_count": 58,
   "id": "2d06eb13-bf47-40a4-a594-80f0691d7db1",
   "metadata": {},
   "outputs": [
    {
     "data": {
      "text/plain": [
       "2"
      ]
     },
     "execution_count": 58,
     "metadata": {},
     "output_type": "execute_result"
    }
   ],
   "source": [
    "# my_d[\"c\"]\n",
    "my_d.get(\"c\")"
   ]
  },
  {
   "cell_type": "code",
   "execution_count": 59,
   "id": "052a688a-4391-460b-bfd1-08a2ab1e0163",
   "metadata": {},
   "outputs": [],
   "source": [
    "my_d.get(\"xxx\")"
   ]
  },
  {
   "cell_type": "code",
   "execution_count": 62,
   "id": "356ad851-8192-46c3-b290-ba82b022b09f",
   "metadata": {},
   "outputs": [
    {
     "data": {
      "text/plain": [
       "'c'"
      ]
     },
     "execution_count": 62,
     "metadata": {},
     "output_type": "execute_result"
    }
   ],
   "source": [
    "max(my_d, key=my_d.get)"
   ]
  },
  {
   "cell_type": "code",
   "execution_count": 63,
   "id": "89c869db-01ca-4e8e-8c6d-af02a7e49721",
   "metadata": {},
   "outputs": [],
   "source": [
    "dictionary_of_names = {}\n",
    "\n",
    "for episode in episodes:\n",
    "    dictionary_of_names[episode[\"name\"]] = len(episode[\"name\"])"
   ]
  },
  {
   "cell_type": "code",
   "execution_count": 69,
   "id": "22ab4972-17c5-4050-add4-5f59c59b8f58",
   "metadata": {},
   "outputs": [
    {
     "name": "stdout",
     "output_type": "stream",
     "text": [
      "{'Pilot': 5, 'Lawnmower Dog': 13, 'Anatomy Park': 12, 'M. Night Shaym-Aliens!': 22, 'Meeseeks and Destroy': 20, 'Rick Potion #9': 14, 'Raising Gazorpazorp': 19, 'Rixty Minutes': 13, 'Something Ricked This Way Comes': 31, 'Close Rick-Counters of the Rick Kind': 36, 'Ricksy Business': 15, 'A Rickle in Time': 16, 'Mortynight Run': 14, 'Auto Erotic Assimilation': 24, 'Total Rickall': 13, 'Get Schwifty': 12, 'The Ricks Must Be Crazy': 23, 'Big Trouble in Little Sanchez': 29, 'Interdimensional Cable 2: Tempting Fate': 39, \"Look Who's Purging Now\": 22, 'The Wedding Squanchers': 22, 'The Rickshank Rickdemption': 26, 'Rickmancing the Stone': 21, 'Pickle Rick': 11, 'Vindicators 3: The Return of Worldender': 39, 'The Whirly Dirly Conspiracy': 27, 'Rest and Ricklaxation': 21, 'The Ricklantis Mixup': 20, \"Morty's Mind Blowers\": 20, \"The ABC's of Beth\": 17, 'The Rickchurian Mortydate': 25, 'Edge of Tomorty: Rick, Die, Rickpeat': 36, 'The Old Man and the Seat': 24, \"One Crew Over the Crewcoo's Morty\": 33, \"Claw and Hoarder: Special Ricktim's Morty\": 41, 'Rattlestar Ricklactica': 22, 'Never Ricking Morty': 19, 'Promortyus': 10, 'The Vat of Acid Episode': 23, 'Childrick of Mort': 17, 'Star Mort Rickturn of the Jerri': 31, 'Mort Dinner Rick Andre': 22, 'Mortyplicity': 12, 'A Rickconvenient Mort': 21, 'Rickdependence Spray': 20, 'Amortycan Grickfitti': 20, \"Rick & Morty's Thanksploitation Spectacular\": 43, 'Gotron Jerrysis Rickvangelion': 29, 'Rickternal Friendshine of the Spotless Mort': 43, 'Forgetting Sarick Mortshall': 27, 'Rickmurai Jack': 14}\n"
     ]
    }
   ],
   "source": [
    "print(dictionary_of_names)"
   ]
  },
  {
   "cell_type": "code",
   "execution_count": 65,
   "id": "7ca3671a-361e-42b5-88aa-35b35c914a06",
   "metadata": {},
   "outputs": [
    {
     "data": {
      "text/plain": [
       "\"Rick & Morty's Thanksploitation Spectacular\""
      ]
     },
     "execution_count": 65,
     "metadata": {},
     "output_type": "execute_result"
    }
   ],
   "source": [
    "max(dictionary_of_names, key=dictionary_of_names.get)"
   ]
  },
  {
   "cell_type": "code",
   "execution_count": 67,
   "id": "4c045903-e472-4d69-bdda-4ed9b53cdfd7",
   "metadata": {},
   "outputs": [
    {
     "data": {
      "text/plain": [
       "5"
      ]
     },
     "execution_count": 67,
     "metadata": {},
     "output_type": "execute_result"
    }
   ],
   "source": [
    "dictionary_of_names.get(\"Pilot\")"
   ]
  },
  {
   "cell_type": "code",
   "execution_count": 74,
   "id": "35ba46d9-9696-4e84-92b9-80a39707d242",
   "metadata": {},
   "outputs": [
    {
     "data": {
      "text/plain": [
       "\"Rick & Morty's Thanksploitation Spectacular\""
      ]
     },
     "execution_count": 74,
     "metadata": {},
     "output_type": "execute_result"
    }
   ],
   "source": [
    "longest_name = max(dictionary_of_names, key=dictionary_of_names.get)\n",
    "longest_name"
   ]
  },
  {
   "cell_type": "code",
   "execution_count": 77,
   "id": "e26dc569-b14b-4bd7-89d8-300a4c8fbe0c",
   "metadata": {},
   "outputs": [
    {
     "data": {
      "text/plain": [
       "43"
      ]
     },
     "execution_count": 77,
     "metadata": {},
     "output_type": "execute_result"
    }
   ],
   "source": [
    "max_length = len(longest_name)\n",
    "max_length"
   ]
  },
  {
   "cell_type": "code",
   "execution_count": 76,
   "id": "902b37de-ee29-4c5d-b0a3-b66615183460",
   "metadata": {},
   "outputs": [
    {
     "name": "stdout",
     "output_type": "stream",
     "text": [
      "Rick & Morty's Thanksploitation Spectacular\n",
      "Rickternal Friendshine of the Spotless Mort\n"
     ]
    }
   ],
   "source": [
    "for name, length in dictionary_of_names.items():\n",
    "    if length == max_length:\n",
    "        print(name)"
   ]
  },
  {
   "cell_type": "code",
   "execution_count": 93,
   "id": "8413ba30-210e-496e-91bb-16be23e48cb5",
   "metadata": {},
   "outputs": [],
   "source": [
    "max_length = 0\n",
    "longest_name = \"\"\n",
    "\n",
    "for episode in episodes:\n",
    "    name = episode[\"name\"]\n",
    "    length = len(name)\n",
    "\n",
    "    if length > max_length:\n",
    "        longest_name = name\n",
    "        max_length = length"
   ]
  },
  {
   "cell_type": "code",
   "execution_count": 94,
   "id": "479ecb20-06d8-4f3f-8e4c-298057d8f993",
   "metadata": {},
   "outputs": [
    {
     "data": {
      "text/plain": [
       "(\"Rick & Morty's Thanksploitation Spectacular\", 43)"
      ]
     },
     "execution_count": 94,
     "metadata": {},
     "output_type": "execute_result"
    }
   ],
   "source": [
    "longest_name, max_length"
   ]
  },
  {
   "cell_type": "code",
   "execution_count": 101,
   "id": "87a0bbc9-d9b6-4ad9-acf2-f2a8e4d561e4",
   "metadata": {},
   "outputs": [],
   "source": [
    "list_of_longest_names = []\n",
    "\n",
    "for episode in episodes:\n",
    "    name = episode[\"name\"]\n",
    "    length = len(name)\n",
    "\n",
    "    if length == max_length:\n",
    "        list_of_longest_names.append(name)"
   ]
  },
  {
   "cell_type": "code",
   "execution_count": 102,
   "id": "282e42de-2122-417e-838a-53d53c1222c2",
   "metadata": {},
   "outputs": [
    {
     "data": {
      "text/plain": [
       "[\"Rick & Morty's Thanksploitation Spectacular\",\n",
       " 'Rickternal Friendshine of the Spotless Mort']"
      ]
     },
     "execution_count": 102,
     "metadata": {},
     "output_type": "execute_result"
    }
   ],
   "source": [
    "list_of_longest_names"
   ]
  },
  {
   "cell_type": "markdown",
   "id": "d2e75dcd-8a3a-4d8a-8e49-aadacaadd237",
   "metadata": {},
   "source": [
    "### Exercise 3\n",
    "\n",
    "What is (or what _are_) the **episode(s) name(s)** with the **highest rating**?"
   ]
  },
  {
   "cell_type": "code",
   "execution_count": 104,
   "id": "91500879-9baa-48a7-a2ec-98d63e7a9c7f",
   "metadata": {},
   "outputs": [
    {
     "data": {
      "text/plain": [
       "'The Wedding Squanchers'"
      ]
     },
     "execution_count": 104,
     "metadata": {},
     "output_type": "execute_result"
    }
   ],
   "source": [
    "ratings = {\n",
    "    episode[\"name\"]: episode[\"rating\"][\"average\"]\n",
    "    for episode in episodes\n",
    "}\n",
    "\n",
    "max(ratings, key=ratings.get)"
   ]
  },
  {
   "cell_type": "code",
   "execution_count": 105,
   "id": "eb5546ad-6910-44e4-bfca-50e873c0c8f5",
   "metadata": {},
   "outputs": [
    {
     "data": {
      "text/plain": [
       "{'Pilot': 8.6,\n",
       " 'Lawnmower Dog': 8.9,\n",
       " 'Anatomy Park': 9,\n",
       " 'M. Night Shaym-Aliens!': 9,\n",
       " 'Meeseeks and Destroy': 9,\n",
       " 'Rick Potion #9': 9.1,\n",
       " 'Raising Gazorpazorp': 8.8,\n",
       " 'Rixty Minutes': 9.2,\n",
       " 'Something Ricked This Way Comes': 9.2,\n",
       " 'Close Rick-Counters of the Rick Kind': 9.4,\n",
       " 'Ricksy Business': 8.9,\n",
       " 'A Rickle in Time': 9.3,\n",
       " 'Mortynight Run': 9.4,\n",
       " 'Auto Erotic Assimilation': 9.2,\n",
       " 'Total Rickall': 9.6,\n",
       " 'Get Schwifty': 9,\n",
       " 'The Ricks Must Be Crazy': 9.5,\n",
       " 'Big Trouble in Little Sanchez': 9,\n",
       " 'Interdimensional Cable 2: Tempting Fate': 8.5,\n",
       " \"Look Who's Purging Now\": 9.3,\n",
       " 'The Wedding Squanchers': 9.8,\n",
       " 'The Rickshank Rickdemption': 9.7,\n",
       " 'Rickmancing the Stone': 8.8,\n",
       " 'Pickle Rick': 9.5,\n",
       " 'Vindicators 3: The Return of Worldender': 8.7,\n",
       " 'The Whirly Dirly Conspiracy': 8.7,\n",
       " 'Rest and Ricklaxation': 8.8,\n",
       " 'The Ricklantis Mixup': 9.3,\n",
       " \"Morty's Mind Blowers\": 9,\n",
       " \"The ABC's of Beth\": 8.8,\n",
       " 'The Rickchurian Mortydate': 8.8,\n",
       " 'Edge of Tomorty: Rick, Die, Rickpeat': 8.5,\n",
       " 'The Old Man and the Seat': 8.1,\n",
       " \"One Crew Over the Crewcoo's Morty\": 8.4,\n",
       " \"Claw and Hoarder: Special Ricktim's Morty\": 8,\n",
       " 'Rattlestar Ricklactica': 9.2,\n",
       " 'Never Ricking Morty': 7.5,\n",
       " 'Promortyus': 8.7,\n",
       " 'The Vat of Acid Episode': 9.1,\n",
       " 'Childrick of Mort': 8.6,\n",
       " 'Star Mort Rickturn of the Jerri': 9,\n",
       " 'Mort Dinner Rick Andre': 9.1,\n",
       " 'Mortyplicity': 9,\n",
       " 'A Rickconvenient Mort': 8.6,\n",
       " 'Rickdependence Spray': 8.2,\n",
       " 'Amortycan Grickfitti': 8.2,\n",
       " \"Rick & Morty's Thanksploitation Spectacular\": 8.2,\n",
       " 'Gotron Jerrysis Rickvangelion': 8.3,\n",
       " 'Rickternal Friendshine of the Spotless Mort': 8.3,\n",
       " 'Forgetting Sarick Mortshall': 8.8,\n",
       " 'Rickmurai Jack': 9.1}"
      ]
     },
     "execution_count": 105,
     "metadata": {},
     "output_type": "execute_result"
    }
   ],
   "source": [
    "ratings"
   ]
  }
 ],
 "metadata": {
  "kernelspec": {
   "display_name": "Python 3",
   "language": "python",
   "name": "python3"
  },
  "language_info": {
   "codemirror_mode": {
    "name": "ipython",
    "version": 3
   },
   "file_extension": ".py",
   "mimetype": "text/x-python",
   "name": "python",
   "nbconvert_exporter": "python",
   "pygments_lexer": "ipython3",
   "version": "3.8.8"
  }
 },
 "nbformat": 4,
 "nbformat_minor": 5
}
