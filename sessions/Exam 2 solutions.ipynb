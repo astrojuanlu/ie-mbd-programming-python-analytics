{
 "cells": [
  {
   "cell_type": "code",
   "execution_count": 1,
   "id": "ad68ccbb-747b-4715-a7e2-4c71d86aada4",
   "metadata": {},
   "outputs": [],
   "source": [
    "import pandas as pd"
   ]
  },
  {
   "cell_type": "code",
   "execution_count": 2,
   "id": "ae554db3-5159-49ab-b714-74c20b693ba1",
   "metadata": {},
   "outputs": [
    {
     "data": {
      "text/html": [
       "<div>\n",
       "<style scoped>\n",
       "    .dataframe tbody tr th:only-of-type {\n",
       "        vertical-align: middle;\n",
       "    }\n",
       "\n",
       "    .dataframe tbody tr th {\n",
       "        vertical-align: top;\n",
       "    }\n",
       "\n",
       "    .dataframe thead th {\n",
       "        text-align: right;\n",
       "    }\n",
       "</style>\n",
       "<table border=\"1\" class=\"dataframe\">\n",
       "  <thead>\n",
       "    <tr style=\"text-align: right;\">\n",
       "      <th></th>\n",
       "      <th>points</th>\n",
       "      <th>title</th>\n",
       "      <th>description</th>\n",
       "      <th>taster_name</th>\n",
       "      <th>taster_twitter_handle</th>\n",
       "      <th>price</th>\n",
       "      <th>designation</th>\n",
       "      <th>variety</th>\n",
       "      <th>region_1</th>\n",
       "      <th>region_2</th>\n",
       "      <th>province</th>\n",
       "      <th>country</th>\n",
       "      <th>winery</th>\n",
       "    </tr>\n",
       "  </thead>\n",
       "  <tbody>\n",
       "    <tr>\n",
       "      <th>0</th>\n",
       "      <td>87</td>\n",
       "      <td>Nicosia 2013 Vulkà Bianco  (Etna)</td>\n",
       "      <td>Aromas include tropical fruit, broom, brimston...</td>\n",
       "      <td>Kerin O’Keefe</td>\n",
       "      <td>@kerinokeefe</td>\n",
       "      <td>NaN</td>\n",
       "      <td>Vulkà Bianco</td>\n",
       "      <td>White Blend</td>\n",
       "      <td>Etna</td>\n",
       "      <td>NaN</td>\n",
       "      <td>Sicily &amp; Sardinia</td>\n",
       "      <td>Italy</td>\n",
       "      <td>Nicosia</td>\n",
       "    </tr>\n",
       "    <tr>\n",
       "      <th>1</th>\n",
       "      <td>87</td>\n",
       "      <td>Quinta dos Avidagos 2011 Avidagos Red (Douro)</td>\n",
       "      <td>This is ripe and fruity, a wine that is smooth...</td>\n",
       "      <td>Roger Voss</td>\n",
       "      <td>@vossroger</td>\n",
       "      <td>15.0</td>\n",
       "      <td>Avidagos</td>\n",
       "      <td>Portuguese Red</td>\n",
       "      <td>NaN</td>\n",
       "      <td>NaN</td>\n",
       "      <td>Douro</td>\n",
       "      <td>Portugal</td>\n",
       "      <td>Quinta dos Avidagos</td>\n",
       "    </tr>\n",
       "    <tr>\n",
       "      <th>2</th>\n",
       "      <td>87</td>\n",
       "      <td>Rainstorm 2013 Pinot Gris (Willamette Valley)</td>\n",
       "      <td>Tart and snappy, the flavors of lime flesh and...</td>\n",
       "      <td>Paul Gregutt</td>\n",
       "      <td>@paulgwine</td>\n",
       "      <td>14.0</td>\n",
       "      <td>NaN</td>\n",
       "      <td>Pinot Gris</td>\n",
       "      <td>Willamette Valley</td>\n",
       "      <td>Willamette Valley</td>\n",
       "      <td>Oregon</td>\n",
       "      <td>US</td>\n",
       "      <td>Rainstorm</td>\n",
       "    </tr>\n",
       "    <tr>\n",
       "      <th>3</th>\n",
       "      <td>87</td>\n",
       "      <td>St. Julian 2013 Reserve Late Harvest Riesling ...</td>\n",
       "      <td>Pineapple rind, lemon pith and orange blossom ...</td>\n",
       "      <td>Alexander Peartree</td>\n",
       "      <td>NaN</td>\n",
       "      <td>13.0</td>\n",
       "      <td>Reserve Late Harvest</td>\n",
       "      <td>Riesling</td>\n",
       "      <td>Lake Michigan Shore</td>\n",
       "      <td>NaN</td>\n",
       "      <td>Michigan</td>\n",
       "      <td>US</td>\n",
       "      <td>St. Julian</td>\n",
       "    </tr>\n",
       "    <tr>\n",
       "      <th>4</th>\n",
       "      <td>87</td>\n",
       "      <td>Sweet Cheeks 2012 Vintner's Reserve Wild Child...</td>\n",
       "      <td>Much like the regular bottling from 2012, this...</td>\n",
       "      <td>Paul Gregutt</td>\n",
       "      <td>@paulgwine</td>\n",
       "      <td>65.0</td>\n",
       "      <td>Vintner's Reserve Wild Child Block</td>\n",
       "      <td>Pinot Noir</td>\n",
       "      <td>Willamette Valley</td>\n",
       "      <td>Willamette Valley</td>\n",
       "      <td>Oregon</td>\n",
       "      <td>US</td>\n",
       "      <td>Sweet Cheeks</td>\n",
       "    </tr>\n",
       "  </tbody>\n",
       "</table>\n",
       "</div>"
      ],
      "text/plain": [
       "   points                                              title  \\\n",
       "0      87                  Nicosia 2013 Vulkà Bianco  (Etna)   \n",
       "1      87      Quinta dos Avidagos 2011 Avidagos Red (Douro)   \n",
       "2      87      Rainstorm 2013 Pinot Gris (Willamette Valley)   \n",
       "3      87  St. Julian 2013 Reserve Late Harvest Riesling ...   \n",
       "4      87  Sweet Cheeks 2012 Vintner's Reserve Wild Child...   \n",
       "\n",
       "                                         description         taster_name  \\\n",
       "0  Aromas include tropical fruit, broom, brimston...       Kerin O’Keefe   \n",
       "1  This is ripe and fruity, a wine that is smooth...          Roger Voss   \n",
       "2  Tart and snappy, the flavors of lime flesh and...        Paul Gregutt   \n",
       "3  Pineapple rind, lemon pith and orange blossom ...  Alexander Peartree   \n",
       "4  Much like the regular bottling from 2012, this...        Paul Gregutt   \n",
       "\n",
       "  taster_twitter_handle  price                         designation  \\\n",
       "0          @kerinokeefe    NaN                        Vulkà Bianco   \n",
       "1            @vossroger   15.0                            Avidagos   \n",
       "2           @paulgwine    14.0                                 NaN   \n",
       "3                   NaN   13.0                Reserve Late Harvest   \n",
       "4           @paulgwine    65.0  Vintner's Reserve Wild Child Block   \n",
       "\n",
       "          variety             region_1           region_2           province  \\\n",
       "0     White Blend                 Etna                NaN  Sicily & Sardinia   \n",
       "1  Portuguese Red                  NaN                NaN              Douro   \n",
       "2      Pinot Gris    Willamette Valley  Willamette Valley             Oregon   \n",
       "3        Riesling  Lake Michigan Shore                NaN           Michigan   \n",
       "4      Pinot Noir    Willamette Valley  Willamette Valley             Oregon   \n",
       "\n",
       "    country               winery  \n",
       "0     Italy              Nicosia  \n",
       "1  Portugal  Quinta dos Avidagos  \n",
       "2        US            Rainstorm  \n",
       "3        US           St. Julian  \n",
       "4        US         Sweet Cheeks  "
      ]
     },
     "execution_count": 2,
     "metadata": {},
     "output_type": "execute_result"
    }
   ],
   "source": [
    "df = pd.read_csv(\"../data/wine_reviews.csv\")\n",
    "df.head()"
   ]
  },
  {
   "cell_type": "code",
   "execution_count": 3,
   "id": "def49f24-df60-4785-a47d-c1952d07a7ce",
   "metadata": {},
   "outputs": [
    {
     "data": {
      "text/plain": [
       "129971"
      ]
     },
     "execution_count": 3,
     "metadata": {},
     "output_type": "execute_result"
    }
   ],
   "source": [
    "len(df)"
   ]
  },
  {
   "cell_type": "code",
   "execution_count": 4,
   "id": "f64a8601-0c36-4ab5-9a93-11ebd84bb9de",
   "metadata": {},
   "outputs": [
    {
     "data": {
      "text/plain": [
       "13"
      ]
     },
     "execution_count": 4,
     "metadata": {},
     "output_type": "execute_result"
    }
   ],
   "source": [
    "len(df.columns)"
   ]
  },
  {
   "cell_type": "code",
   "execution_count": 5,
   "id": "5659d808-1f21-4e5b-af2d-ea7d3fce906f",
   "metadata": {},
   "outputs": [
    {
     "data": {
      "text/plain": [
       "points                     int64\n",
       "title                     object\n",
       "description               object\n",
       "taster_name               object\n",
       "taster_twitter_handle     object\n",
       "price                    float64\n",
       "designation               object\n",
       "variety                   object\n",
       "region_1                  object\n",
       "region_2                  object\n",
       "province                  object\n",
       "country                   object\n",
       "winery                    object\n",
       "dtype: object"
      ]
     },
     "execution_count": 5,
     "metadata": {},
     "output_type": "execute_result"
    }
   ],
   "source": [
    "df.dtypes"
   ]
  },
  {
   "cell_type": "markdown",
   "id": "5f3841fd-6a68-4fc0-ab74-5e0c9e9f8aa3",
   "metadata": {},
   "source": [
    "Hence `points` and `price`"
   ]
  },
  {
   "cell_type": "code",
   "execution_count": 6,
   "id": "16b6eff5-520b-484c-8001-de31187238ce",
   "metadata": {},
   "outputs": [
    {
     "data": {
      "text/plain": [
       "35.363389129985535"
      ]
     },
     "execution_count": 6,
     "metadata": {},
     "output_type": "execute_result"
    }
   ],
   "source": [
    "df[\"price\"].mean()"
   ]
  },
  {
   "cell_type": "code",
   "execution_count": 7,
   "id": "d8743253-ec32-4b6a-b545-93eadf6ef289",
   "metadata": {},
   "outputs": [
    {
     "data": {
      "text/plain": [
       "count    129971.000000\n",
       "mean         88.447138\n",
       "std           3.039730\n",
       "min          80.000000\n",
       "25%          86.000000\n",
       "50%          88.000000\n",
       "75%          91.000000\n",
       "max         100.000000\n",
       "Name: points, dtype: float64"
      ]
     },
     "execution_count": 7,
     "metadata": {},
     "output_type": "execute_result"
    }
   ],
   "source": [
    "df[\"points\"].describe()"
   ]
  },
  {
   "cell_type": "code",
   "execution_count": 8,
   "id": "e59df94e-916e-437b-a100-0b8c00143368",
   "metadata": {},
   "outputs": [
    {
     "data": {
      "text/plain": [
       "91.0"
      ]
     },
     "execution_count": 8,
     "metadata": {},
     "output_type": "execute_result"
    }
   ],
   "source": [
    "df[\"points\"].describe().loc[\"75%\"]"
   ]
  },
  {
   "cell_type": "code",
   "execution_count": 9,
   "id": "de5bfede-3801-4b9c-9413-c2f11b042624",
   "metadata": {},
   "outputs": [
    {
     "data": {
      "text/plain": [
       "43"
      ]
     },
     "execution_count": 9,
     "metadata": {},
     "output_type": "execute_result"
    }
   ],
   "source": [
    "df[\"country\"].nunique()"
   ]
  },
  {
   "cell_type": "code",
   "execution_count": 10,
   "id": "1ac86958-8799-4478-962d-07445e3ea7bf",
   "metadata": {},
   "outputs": [
    {
     "data": {
      "text/plain": [
       "44"
      ]
     },
     "execution_count": 10,
     "metadata": {},
     "output_type": "execute_result"
    }
   ],
   "source": [
    "# Notice that `.unique()` includes `NaN` and therefore it's not valid!\n",
    "len(df[\"country\"].unique())"
   ]
  },
  {
   "cell_type": "code",
   "execution_count": 11,
   "id": "70606145-6539-4bf6-8e53-86cc5e6d188d",
   "metadata": {},
   "outputs": [
    {
     "data": {
      "text/plain": [
       "12"
      ]
     },
     "execution_count": 11,
     "metadata": {},
     "output_type": "execute_result"
    }
   ],
   "source": [
    "len(df.loc[(df[\"country\"] == \"France\") & (df[\"price\"] > 1000)])"
   ]
  },
  {
   "cell_type": "code",
   "execution_count": 12,
   "id": "e35e7391-3698-4722-bd3a-d6920cfe4493",
   "metadata": {},
   "outputs": [
    {
     "data": {
      "text/plain": [
       "46.0"
      ]
     },
     "execution_count": 12,
     "metadata": {},
     "output_type": "execute_result"
    }
   ],
   "source": [
    "df.loc[\n",
    "    (df[\"country\"] == \"Argentina\")\n",
    "    & (df[\"description\"].str.contains(\"banana\")),\n",
    "    \"price\"\n",
    "].max()"
   ]
  },
  {
   "cell_type": "code",
   "execution_count": 13,
   "id": "fdeafd34-4d95-48e8-8cd5-1ce91b8df815",
   "metadata": {},
   "outputs": [
    {
     "data": {
      "text/plain": [
       "country\n",
       "US        54504\n",
       "France    22093\n",
       "Italy     19540\n",
       "Spain      6645\n",
       "dtype: int64"
      ]
     },
     "execution_count": 13,
     "metadata": {},
     "output_type": "execute_result"
    }
   ],
   "source": [
    "df.groupby(\"country\").size().sort_values(ascending=False).head(4)"
   ]
  },
  {
   "cell_type": "code",
   "execution_count": 14,
   "id": "95caf877-a523-4c46-ac09-a4f921f2c2eb",
   "metadata": {},
   "outputs": [
    {
     "data": {
      "text/plain": [
       "country\n",
       "US        54504\n",
       "France    22093\n",
       "Italy     19540\n",
       "Spain      6645\n",
       "dtype: int64"
      ]
     },
     "execution_count": 14,
     "metadata": {},
     "output_type": "execute_result"
    }
   ],
   "source": [
    "# Alternatively\n",
    "df.groupby(\"country\").size().nlargest(4)"
   ]
  },
  {
   "cell_type": "code",
   "execution_count": 15,
   "id": "2facfeee-a0f2-45e3-be02-944d47a6acfb",
   "metadata": {},
   "outputs": [
    {
     "data": {
      "text/plain": [
       "country\n",
       "England    91.581081\n",
       "India      90.222222\n",
       "Austria    90.101345\n",
       "Germany    89.851732\n",
       "Name: points, dtype: float64"
      ]
     },
     "execution_count": 15,
     "metadata": {},
     "output_type": "execute_result"
    }
   ],
   "source": [
    "df.groupby(\"country\")[\"points\"].mean().nlargest(4)"
   ]
  },
  {
   "cell_type": "code",
   "execution_count": 16,
   "id": "cab7a01b-f95d-49f0-8523-c03782674bef",
   "metadata": {},
   "outputs": [
    {
     "data": {
      "text/plain": [
       "province\n",
       "Südburgenland    94.000000\n",
       "Madeira          93.230769\n",
       "Mittelrhein      92.000000\n",
       "Puente Alto      91.733333\n",
       "Name: points, dtype: float64"
      ]
     },
     "execution_count": 16,
     "metadata": {},
     "output_type": "execute_result"
    }
   ],
   "source": [
    "df.groupby(\"province\")[\"points\"].mean().nlargest(4)"
   ]
  },
  {
   "cell_type": "code",
   "execution_count": 17,
   "id": "9d93f8b1-cf08-4974-87e8-99b7c062ef5c",
   "metadata": {},
   "outputs": [
    {
     "data": {
      "text/plain": [
       "variety\n",
       "Ramisco             495.0\n",
       "Terrantez           236.0\n",
       "Francisa            160.0\n",
       "Rosenmuskateller    150.0\n",
       "Name: price, dtype: float64"
      ]
     },
     "execution_count": 17,
     "metadata": {},
     "output_type": "execute_result"
    }
   ],
   "source": [
    "df.groupby(\"variety\")[\"price\"].mean().nlargest(4)"
   ]
  },
  {
   "cell_type": "code",
   "execution_count": 18,
   "id": "d68f3467-f2a7-48d6-82bb-f9caaeffeb3c",
   "metadata": {},
   "outputs": [
    {
     "data": {
      "text/plain": [
       "taster_name\n",
       "Anna Lee C. Iijima    18\n",
       "Susan Kostrzewa       15\n",
       "Jeff Jenssen          14\n",
       "Joe Czerwinski        11\n",
       "Name: country, dtype: int64"
      ]
     },
     "execution_count": 18,
     "metadata": {},
     "output_type": "execute_result"
    }
   ],
   "source": [
    "df.groupby(\"taster_name\")[\"country\"].nunique().nlargest(4)"
   ]
  },
  {
   "cell_type": "code",
   "execution_count": 19,
   "id": "a567b256-0c06-4fed-bea4-88ed330c595a",
   "metadata": {},
   "outputs": [
    {
     "data": {
      "text/plain": [
       "province\n",
       "California        180\n",
       "Burgundy          114\n",
       "Central Italy      68\n",
       "Southern Italy     63\n",
       "Name: region_1, dtype: int64"
      ]
     },
     "execution_count": 19,
     "metadata": {},
     "output_type": "execute_result"
    }
   ],
   "source": [
    "df.groupby(\"province\")[\"region_1\"].nunique().nlargest(4)"
   ]
  },
  {
   "cell_type": "code",
   "execution_count": 20,
   "id": "c818db9a-694c-4f77-8b7a-10a6e7c8969b",
   "metadata": {},
   "outputs": [
    {
     "data": {
      "text/html": [
       "<div>\n",
       "<style scoped>\n",
       "    .dataframe tbody tr th:only-of-type {\n",
       "        vertical-align: middle;\n",
       "    }\n",
       "\n",
       "    .dataframe tbody tr th {\n",
       "        vertical-align: top;\n",
       "    }\n",
       "\n",
       "    .dataframe thead th {\n",
       "        text-align: right;\n",
       "    }\n",
       "</style>\n",
       "<table border=\"1\" class=\"dataframe\">\n",
       "  <thead>\n",
       "    <tr style=\"text-align: right;\">\n",
       "      <th>province</th>\n",
       "      <th>Andalucia</th>\n",
       "      <th>Catalonia</th>\n",
       "      <th>Central Spain</th>\n",
       "      <th>Galicia</th>\n",
       "      <th>Levante</th>\n",
       "      <th>Northern Spain</th>\n",
       "      <th>Spain Other</th>\n",
       "      <th>Spanish Islands</th>\n",
       "    </tr>\n",
       "    <tr>\n",
       "      <th>taster_name</th>\n",
       "      <th></th>\n",
       "      <th></th>\n",
       "      <th></th>\n",
       "      <th></th>\n",
       "      <th></th>\n",
       "      <th></th>\n",
       "      <th></th>\n",
       "      <th></th>\n",
       "    </tr>\n",
       "  </thead>\n",
       "  <tbody>\n",
       "    <tr>\n",
       "      <th>Joe Czerwinski</th>\n",
       "      <td>NaN</td>\n",
       "      <td>85.0</td>\n",
       "      <td>NaN</td>\n",
       "      <td>NaN</td>\n",
       "      <td>NaN</td>\n",
       "      <td>NaN</td>\n",
       "      <td>NaN</td>\n",
       "      <td>NaN</td>\n",
       "    </tr>\n",
       "    <tr>\n",
       "      <th>Lauren Buzzeo</th>\n",
       "      <td>NaN</td>\n",
       "      <td>NaN</td>\n",
       "      <td>NaN</td>\n",
       "      <td>NaN</td>\n",
       "      <td>NaN</td>\n",
       "      <td>83.0</td>\n",
       "      <td>NaN</td>\n",
       "      <td>NaN</td>\n",
       "    </tr>\n",
       "    <tr>\n",
       "      <th>Michael Schachner</th>\n",
       "      <td>90.0</td>\n",
       "      <td>87.0</td>\n",
       "      <td>85.0</td>\n",
       "      <td>88.0</td>\n",
       "      <td>87.0</td>\n",
       "      <td>87.0</td>\n",
       "      <td>85.0</td>\n",
       "      <td>88.0</td>\n",
       "    </tr>\n",
       "    <tr>\n",
       "      <th>Paul Gregutt</th>\n",
       "      <td>NaN</td>\n",
       "      <td>85.5</td>\n",
       "      <td>NaN</td>\n",
       "      <td>NaN</td>\n",
       "      <td>NaN</td>\n",
       "      <td>NaN</td>\n",
       "      <td>NaN</td>\n",
       "      <td>NaN</td>\n",
       "    </tr>\n",
       "  </tbody>\n",
       "</table>\n",
       "</div>"
      ],
      "text/plain": [
       "province           Andalucia  Catalonia  Central Spain  Galicia  Levante  \\\n",
       "taster_name                                                                \n",
       "Joe Czerwinski           NaN       85.0            NaN      NaN      NaN   \n",
       "Lauren Buzzeo            NaN        NaN            NaN      NaN      NaN   \n",
       "Michael Schachner       90.0       87.0           85.0     88.0     87.0   \n",
       "Paul Gregutt             NaN       85.5            NaN      NaN      NaN   \n",
       "\n",
       "province           Northern Spain  Spain Other  Spanish Islands  \n",
       "taster_name                                                      \n",
       "Joe Czerwinski                NaN          NaN              NaN  \n",
       "Lauren Buzzeo                83.0          NaN              NaN  \n",
       "Michael Schachner            87.0         85.0             88.0  \n",
       "Paul Gregutt                  NaN          NaN              NaN  "
      ]
     },
     "execution_count": 20,
     "metadata": {},
     "output_type": "execute_result"
    }
   ],
   "source": [
    "pivot_spanish = df.loc[df[\"country\"] == \"Spain\"].pivot_table(\n",
    "    index=\"taster_name\",\n",
    "    columns=\"province\",\n",
    "    values=\"points\",\n",
    "    aggfunc=\"median\",\n",
    ")\n",
    "pivot_spanish"
   ]
  },
  {
   "cell_type": "code",
   "execution_count": 21,
   "id": "88ae87bb-44c8-47cb-b95c-801f7a294dbe",
   "metadata": {},
   "outputs": [
    {
     "data": {
      "text/plain": [
       "87.0"
      ]
     },
     "execution_count": 21,
     "metadata": {},
     "output_type": "execute_result"
    }
   ],
   "source": [
    "pivot_spanish.iloc[2, 5]"
   ]
  },
  {
   "cell_type": "code",
   "execution_count": 22,
   "id": "2cf9f324-2180-4c59-8f11-c23ee1b3acad",
   "metadata": {},
   "outputs": [
    {
     "data": {
      "text/html": [
       "<div>\n",
       "<style scoped>\n",
       "    .dataframe tbody tr th:only-of-type {\n",
       "        vertical-align: middle;\n",
       "    }\n",
       "\n",
       "    .dataframe tbody tr th {\n",
       "        vertical-align: top;\n",
       "    }\n",
       "\n",
       "    .dataframe thead th {\n",
       "        text-align: right;\n",
       "    }\n",
       "</style>\n",
       "<table border=\"1\" class=\"dataframe\">\n",
       "  <thead>\n",
       "    <tr style=\"text-align: right;\">\n",
       "      <th>taster_name</th>\n",
       "      <th>Anne Krebiehl MW</th>\n",
       "      <th>Matt Kettmann</th>\n",
       "      <th>Roger Voss</th>\n",
       "    </tr>\n",
       "    <tr>\n",
       "      <th>country</th>\n",
       "      <th></th>\n",
       "      <th></th>\n",
       "      <th></th>\n",
       "    </tr>\n",
       "  </thead>\n",
       "  <tbody>\n",
       "    <tr>\n",
       "      <th>Austria</th>\n",
       "      <td>94.0</td>\n",
       "      <td>NaN</td>\n",
       "      <td>NaN</td>\n",
       "    </tr>\n",
       "    <tr>\n",
       "      <th>France</th>\n",
       "      <td>NaN</td>\n",
       "      <td>NaN</td>\n",
       "      <td>96.166667</td>\n",
       "    </tr>\n",
       "    <tr>\n",
       "      <th>US</th>\n",
       "      <td>NaN</td>\n",
       "      <td>91.0</td>\n",
       "      <td>NaN</td>\n",
       "    </tr>\n",
       "  </tbody>\n",
       "</table>\n",
       "</div>"
      ],
      "text/plain": [
       "taster_name  Anne Krebiehl MW  Matt Kettmann  Roger Voss\n",
       "country                                                 \n",
       "Austria                  94.0            NaN         NaN\n",
       "France                    NaN            NaN   96.166667\n",
       "US                        NaN           91.0         NaN"
      ]
     },
     "execution_count": 22,
     "metadata": {},
     "output_type": "execute_result"
    }
   ],
   "source": [
    "pivot_expensive = df.loc[df[\"price\"] > 1_000].pivot_table(\n",
    "    index=\"country\",\n",
    "    columns=\"taster_name\",\n",
    "    values=\"points\",\n",
    "    aggfunc=\"mean\",\n",
    ")\n",
    "pivot_expensive"
   ]
  },
  {
   "cell_type": "code",
   "execution_count": 23,
   "id": "2122bd38-bf36-4566-8826-af52b1c10a73",
   "metadata": {},
   "outputs": [
    {
     "data": {
      "text/plain": [
       "96.16666666666667"
      ]
     },
     "execution_count": 23,
     "metadata": {},
     "output_type": "execute_result"
    }
   ],
   "source": [
    "pivot_expensive.iloc[1, 2]"
   ]
  },
  {
   "cell_type": "code",
   "execution_count": 24,
   "id": "164170d6-009c-4c84-9459-1cff27362d0f",
   "metadata": {},
   "outputs": [
    {
     "data": {
      "text/plain": [
       "finish.     12859\n",
       "now.         6980\n",
       "acidity.     3218\n",
       "years.       3000\n",
       "Name: description, dtype: int64"
      ]
     },
     "execution_count": 24,
     "metadata": {},
     "output_type": "execute_result"
    }
   ],
   "source": [
    "df[\"description\"].str.split().str[-1].value_counts().nlargest(4)"
   ]
  },
  {
   "cell_type": "code",
   "execution_count": 25,
   "id": "1bbb541e-f3f5-4c6a-9def-c7ec5e700fa5",
   "metadata": {},
   "outputs": [
    {
     "data": {
      "text/html": [
       "<div>\n",
       "<style scoped>\n",
       "    .dataframe tbody tr th:only-of-type {\n",
       "        vertical-align: middle;\n",
       "    }\n",
       "\n",
       "    .dataframe tbody tr th {\n",
       "        vertical-align: top;\n",
       "    }\n",
       "\n",
       "    .dataframe thead th {\n",
       "        text-align: right;\n",
       "    }\n",
       "</style>\n",
       "<table border=\"1\" class=\"dataframe\">\n",
       "  <thead>\n",
       "    <tr style=\"text-align: right;\">\n",
       "      <th></th>\n",
       "      <th>count</th>\n",
       "      <th>mean</th>\n",
       "      <th>std</th>\n",
       "      <th>min</th>\n",
       "      <th>25%</th>\n",
       "      <th>50%</th>\n",
       "      <th>75%</th>\n",
       "      <th>max</th>\n",
       "    </tr>\n",
       "    <tr>\n",
       "      <th>variety</th>\n",
       "      <th></th>\n",
       "      <th></th>\n",
       "      <th></th>\n",
       "      <th></th>\n",
       "      <th></th>\n",
       "      <th></th>\n",
       "      <th></th>\n",
       "      <th></th>\n",
       "    </tr>\n",
       "  </thead>\n",
       "  <tbody>\n",
       "    <tr>\n",
       "      <th>Abouriou</th>\n",
       "      <td>3.0</td>\n",
       "      <td>35.000000</td>\n",
       "      <td>34.641016</td>\n",
       "      <td>15.0</td>\n",
       "      <td>15.00</td>\n",
       "      <td>15.0</td>\n",
       "      <td>45.0</td>\n",
       "      <td>75.0</td>\n",
       "    </tr>\n",
       "    <tr>\n",
       "      <th>Agiorgitiko</th>\n",
       "      <td>63.0</td>\n",
       "      <td>23.571429</td>\n",
       "      <td>12.367640</td>\n",
       "      <td>10.0</td>\n",
       "      <td>15.00</td>\n",
       "      <td>20.0</td>\n",
       "      <td>27.0</td>\n",
       "      <td>66.0</td>\n",
       "    </tr>\n",
       "    <tr>\n",
       "      <th>Aglianico</th>\n",
       "      <td>294.0</td>\n",
       "      <td>38.887755</td>\n",
       "      <td>23.435723</td>\n",
       "      <td>6.0</td>\n",
       "      <td>22.25</td>\n",
       "      <td>33.5</td>\n",
       "      <td>49.0</td>\n",
       "      <td>180.0</td>\n",
       "    </tr>\n",
       "    <tr>\n",
       "      <th>Aidani</th>\n",
       "      <td>1.0</td>\n",
       "      <td>27.000000</td>\n",
       "      <td>NaN</td>\n",
       "      <td>27.0</td>\n",
       "      <td>27.00</td>\n",
       "      <td>27.0</td>\n",
       "      <td>27.0</td>\n",
       "      <td>27.0</td>\n",
       "    </tr>\n",
       "  </tbody>\n",
       "</table>\n",
       "</div>"
      ],
      "text/plain": [
       "             count       mean        std   min    25%   50%   75%    max\n",
       "variety                                                                 \n",
       "Abouriou       3.0  35.000000  34.641016  15.0  15.00  15.0  45.0   75.0\n",
       "Agiorgitiko   63.0  23.571429  12.367640  10.0  15.00  20.0  27.0   66.0\n",
       "Aglianico    294.0  38.887755  23.435723   6.0  22.25  33.5  49.0  180.0\n",
       "Aidani         1.0  27.000000        NaN  27.0  27.00  27.0  27.0   27.0"
      ]
     },
     "execution_count": 25,
     "metadata": {},
     "output_type": "execute_result"
    }
   ],
   "source": [
    "varieties_price = df.groupby(\"variety\")[\"price\"].describe()\n",
    "varieties_price.head(4)"
   ]
  },
  {
   "cell_type": "code",
   "execution_count": 26,
   "id": "67247bad-8e38-4ff4-a981-802c90a545eb",
   "metadata": {},
   "outputs": [
    {
     "data": {
      "text/plain": [
       "variety\n",
       "Bordeaux-style Red Blend    3293.0\n",
       "Pinot Noir                  2495.0\n",
       "Chardonnay                  2009.0\n",
       "Grüner Veltliner            1091.0\n",
       "dtype: float64"
      ]
     },
     "execution_count": 26,
     "metadata": {},
     "output_type": "execute_result"
    }
   ],
   "source": [
    "(varieties_price[\"max\"] - varieties_price[\"min\"]).nlargest(4)"
   ]
  },
  {
   "cell_type": "code",
   "execution_count": 27,
   "id": "3a6e3da8-4da1-4490-99a2-77e9382a385b",
   "metadata": {},
   "outputs": [
    {
     "data": {
      "text/plain": [
       "variety\n",
       "Bordeaux-style Red Blend    3293.0\n",
       "Pinot Noir                  2495.0\n",
       "Chardonnay                  2009.0\n",
       "Grüner Veltliner            1091.0\n",
       "Name: price, dtype: float64"
      ]
     },
     "execution_count": 27,
     "metadata": {},
     "output_type": "execute_result"
    }
   ],
   "source": [
    "# Alternatively\n",
    "df.groupby(\"variety\")[\"price\"].agg(lambda s: s.max() - s.min()).nlargest(4)"
   ]
  },
  {
   "cell_type": "code",
   "execution_count": 28,
   "id": "525d6457-c73d-40b8-ace6-b44ff6479bc4",
   "metadata": {},
   "outputs": [],
   "source": [
    "df[\"review_length\"] = df[\"description\"].str.len()"
   ]
  },
  {
   "cell_type": "code",
   "execution_count": 29,
   "id": "4d09edd4-d898-40be-bbbb-a4193959986e",
   "metadata": {},
   "outputs": [
    {
     "data": {
      "text/plain": [
       "taster_name\n",
       "Matt Kettmann       293.604706\n",
       "Lauren Buzzeo       288.642507\n",
       "Anne Krebiehl MW    280.242605\n",
       "Mike DeSimone       272.463035\n",
       "Name: review_length, dtype: float64"
      ]
     },
     "execution_count": 29,
     "metadata": {},
     "output_type": "execute_result"
    }
   ],
   "source": [
    "df.groupby(\"taster_name\")[\"review_length\"].mean().nlargest(4)"
   ]
  },
  {
   "cell_type": "code",
   "execution_count": 30,
   "id": "6c1cbca6-4d83-49d3-b59d-d0bb3785afd2",
   "metadata": {},
   "outputs": [
    {
     "data": {
      "text/plain": [
       "taster_name\n",
       "Matt Kettmann       293.604706\n",
       "Lauren Buzzeo       288.642507\n",
       "Anne Krebiehl MW    280.242605\n",
       "Mike DeSimone       272.463035\n",
       "Name: description, dtype: float64"
      ]
     },
     "execution_count": 30,
     "metadata": {},
     "output_type": "execute_result"
    }
   ],
   "source": [
    "# Alternatively\n",
    "df.groupby(\"taster_name\")[\"description\"].agg(lambda s: s.str.len().mean()).nlargest(4)"
   ]
  },
  {
   "cell_type": "code",
   "execution_count": 31,
   "id": "4370daff-a24f-4cef-bcbe-d03f0939c90a",
   "metadata": {},
   "outputs": [
    {
     "data": {
      "text/plain": [
       "21"
      ]
     },
     "execution_count": 31,
     "metadata": {},
     "output_type": "execute_result"
    }
   ],
   "source": [
    "df.loc[\n",
    "    # na=False is needed, and means \"if the variety is NaN, assume it does not contain 'pinot'\"\n",
    "    df[\"variety\"].str.lower().str.contains(\"pinot\", na=False),\n",
    "    \"variety\"\n",
    "].nunique()"
   ]
  },
  {
   "cell_type": "code",
   "execution_count": 32,
   "id": "7052df39-3d7f-4901-abb4-a9e94f9c4307",
   "metadata": {},
   "outputs": [
    {
     "data": {
      "text/plain": [
       "taster_name\n",
       "Alexander Peartree                 [nan]\n",
       "Anna Lee C. Iijima                 [nan]\n",
       "Anne Krebiehl MW           [@AnneInVino]\n",
       "Carrie Dykes                       [nan]\n",
       "Christina Pickard      [@winewchristina]\n",
       "Fiona Adams                   [@bkfiona]\n",
       "Jeff Jenssen            [@worldwineguys]\n",
       "Jim Gordon            [@gordone_cellars]\n",
       "Joe Czerwinski                  [@JoeCz]\n",
       "Kerin O’Keefe             [@kerinokeefe]\n",
       "Lauren Buzzeo                [@laurbuzz]\n",
       "Matt Kettmann            [@mattkettmann]\n",
       "Michael Schachner          [@wineschach]\n",
       "Mike DeSimone           [@worldwineguys]\n",
       "Paul Gregutt               [@paulgwine ]\n",
       "Roger Voss                  [@vossroger]\n",
       "Sean P. Sullivan         [@wawinereport]\n",
       "Susan Kostrzewa          [@suskostrzewa]\n",
       "Virginie Boone                 [@vboone]\n",
       "Name: taster_twitter_handle, dtype: object"
      ]
     },
     "execution_count": 32,
     "metadata": {},
     "output_type": "execute_result"
    }
   ],
   "source": [
    "# Look: two people (Jeff Jenssen and Mike DeSimone) have the same Twitter handle (@worldwineguys)!\n",
    "df.groupby(\"taster_name\")[\"taster_twitter_handle\"].unique()"
   ]
  },
  {
   "cell_type": "code",
   "execution_count": 33,
   "id": "eeac743f-1a38-46e4-b3a0-358962554d8f",
   "metadata": {},
   "outputs": [
    {
     "data": {
      "text/plain": [
       "0.7894736842105263"
      ]
     },
     "execution_count": 33,
     "metadata": {},
     "output_type": "execute_result"
    }
   ],
   "source": [
    "# Therefore, doing a naïve division of .nunique() doesn't work\n",
    "df[\"taster_twitter_handle\"].nunique() / df[\"taster_name\"].nunique()"
   ]
  },
  {
   "cell_type": "code",
   "execution_count": 34,
   "id": "ccd49f26-2eae-4f17-9d1b-c19dcb0b6e29",
   "metadata": {},
   "outputs": [
    {
     "data": {
      "text/plain": [
       "0.8421052631578947"
      ]
     },
     "execution_count": 34,
     "metadata": {},
     "output_type": "execute_result"
    }
   ],
   "source": [
    "# Une way of doing the correct calculation is\n",
    "df.groupby(\"taster_name\")[\"taster_twitter_handle\"].nunique().sum() / df[\"taster_name\"].nunique()"
   ]
  },
  {
   "cell_type": "code",
   "execution_count": 35,
   "id": "d123e6af-7edc-4c03-b0e0-5205badb9970",
   "metadata": {},
   "outputs": [
    {
     "data": {
      "text/html": [
       "<div>\n",
       "<style scoped>\n",
       "    .dataframe tbody tr th:only-of-type {\n",
       "        vertical-align: middle;\n",
       "    }\n",
       "\n",
       "    .dataframe tbody tr th {\n",
       "        vertical-align: top;\n",
       "    }\n",
       "\n",
       "    .dataframe thead th {\n",
       "        text-align: right;\n",
       "    }\n",
       "</style>\n",
       "<table border=\"1\" class=\"dataframe\">\n",
       "  <thead>\n",
       "    <tr style=\"text-align: right;\">\n",
       "      <th></th>\n",
       "      <th>taster_twitter_handle</th>\n",
       "    </tr>\n",
       "    <tr>\n",
       "      <th>taster_name</th>\n",
       "      <th></th>\n",
       "    </tr>\n",
       "  </thead>\n",
       "  <tbody>\n",
       "    <tr>\n",
       "      <th>Alexander Peartree</th>\n",
       "      <td>None</td>\n",
       "    </tr>\n",
       "    <tr>\n",
       "      <th>Anna Lee C. Iijima</th>\n",
       "      <td>None</td>\n",
       "    </tr>\n",
       "    <tr>\n",
       "      <th>Anne Krebiehl MW</th>\n",
       "      <td>@AnneInVino</td>\n",
       "    </tr>\n",
       "    <tr>\n",
       "      <th>Carrie Dykes</th>\n",
       "      <td>None</td>\n",
       "    </tr>\n",
       "  </tbody>\n",
       "</table>\n",
       "</div>"
      ],
      "text/plain": [
       "                   taster_twitter_handle\n",
       "taster_name                             \n",
       "Alexander Peartree                  None\n",
       "Anna Lee C. Iijima                  None\n",
       "Anne Krebiehl MW             @AnneInVino\n",
       "Carrie Dykes                        None"
      ]
     },
     "execution_count": 35,
     "metadata": {},
     "output_type": "execute_result"
    }
   ],
   "source": [
    "# Alternatively (a bit more involved)\n",
    "# Notice the double square bracket to return a DataFrame instead of a Series\n",
    "tasters = df.groupby(\"taster_name\")[[\"taster_twitter_handle\"]].first()\n",
    "tasters.head(4)"
   ]
  },
  {
   "cell_type": "code",
   "execution_count": 36,
   "id": "866ee6d3-d846-44c0-9843-7fbc181aa005",
   "metadata": {},
   "outputs": [
    {
     "data": {
      "text/plain": [
       "0.8421052631578947"
      ]
     },
     "execution_count": 36,
     "metadata": {},
     "output_type": "execute_result"
    }
   ],
   "source": [
    "tasters[\"has_twitter\"] = tasters[\"taster_twitter_handle\"].notnull()\n",
    "tasters[\"has_twitter\"].sum() / len(tasters)"
   ]
  },
  {
   "cell_type": "code",
   "execution_count": 37,
   "id": "6c165195-bfc6-4d45-a00c-3385679db1ec",
   "metadata": {},
   "outputs": [
    {
     "data": {
      "text/plain": [
       "0.8"
      ]
     },
     "execution_count": 37,
     "metadata": {},
     "output_type": "execute_result"
    }
   ],
   "source": [
    "# This is also wrong, for different reasons: remember that `.unique()` retains NaNs!\n",
    "len(df[\"taster_twitter_handle\"].unique()) / len(df[\"taster_name\"].unique())"
   ]
  },
  {
   "cell_type": "code",
   "execution_count": 38,
   "id": "5e78e0b0-4c2b-408d-aaa6-d1a3753e25e2",
   "metadata": {},
   "outputs": [
    {
     "data": {
      "text/plain": [
       "106520.0"
      ]
     },
     "execution_count": 38,
     "metadata": {},
     "output_type": "execute_result"
    }
   ],
   "source": [
    "df.loc[\n",
    "    df[\"title\"].str.contains(\"2012\")\n",
    "    & ((df[\"taster_name\"] == \"Michael Schachner\") | (df[\"taster_name\"] == \"Roger Voss\")),\n",
    "    \"price\"\n",
    "].sum()"
   ]
  },
  {
   "cell_type": "code",
   "execution_count": 39,
   "id": "1d7593c2-d111-4332-a3d0-ca680f9fb39f",
   "metadata": {},
   "outputs": [
    {
     "data": {
      "text/plain": [
       "88"
      ]
     },
     "execution_count": 39,
     "metadata": {},
     "output_type": "execute_result"
    }
   ],
   "source": [
    "df[\"word_count\"] = df[\"description\"].str.split().str.len()\n",
    "df.loc[df[\"taster_name\"] == \"Joe Czerwinski\", \"word_count\"].max()"
   ]
  },
  {
   "cell_type": "code",
   "execution_count": 40,
   "id": "ec249967-e444-415e-a2ad-679ae44b051c",
   "metadata": {},
   "outputs": [
    {
     "data": {
      "text/plain": [
       "0    aromas include tropical fruit, broom, brimston...\n",
       "1    this is ripe and fruity, a wine that is smooth...\n",
       "2    tart and snappy, the flavors of lime flesh and...\n",
       "3    pineapple rind, lemon pith and orange blossom ...\n",
       "4    much like the regular bottling from 2012, this...\n",
       "Name: description, dtype: object"
      ]
     },
     "execution_count": 40,
     "metadata": {},
     "output_type": "execute_result"
    }
   ],
   "source": [
    "descriptions = df[\"description\"].str.lower()\n",
    "descriptions.head()"
   ]
  },
  {
   "cell_type": "code",
   "execution_count": 41,
   "id": "858c5e40-898c-4304-aec2-d29c3cffacca",
   "metadata": {},
   "outputs": [],
   "source": [
    "# In principle this should have worked,\n",
    "# but I interrupted it because it was taking a very long time\n",
    "# all_descriptions = descriptions.sum()"
   ]
  },
  {
   "cell_type": "code",
   "execution_count": 42,
   "id": "8c00bb95-8d30-4af6-a7f1-fffba22dd89d",
   "metadata": {},
   "outputs": [],
   "source": [
    "all_descriptions = \" \".join(descriptions)"
   ]
  },
  {
   "cell_type": "code",
   "execution_count": 43,
   "id": "60a17a09-9c41-40e2-9cb9-7537e586f975",
   "metadata": {},
   "outputs": [
    {
     "data": {
      "text/plain": [
       "[('and', 347199),\n",
       " ('the', 220802),\n",
       " ('a', 179318),\n",
       " ('of', 172882),\n",
       " ('with', 120172),\n",
       " ('this', 113584),\n",
       " ('is', 96263),\n",
       " ('in', 61814),\n",
       " ('wine', 56151),\n",
       " ('to', 55423),\n",
       " ('it', 54326),\n",
       " ('on', 45193),\n",
       " ('flavors', 41815)]"
      ]
     },
     "execution_count": 43,
     "metadata": {},
     "output_type": "execute_result"
    }
   ],
   "source": [
    "# You can count the words manually\n",
    "word_counts = {}\n",
    "for word in all_descriptions.split():\n",
    "    if word not in word_counts:\n",
    "        word_counts[word] = 1\n",
    "    else:\n",
    "        word_counts[word] += 1\n",
    "\n",
    "sorted(word_counts.items(), key=lambda item_pair: item_pair[1], reverse=True)[:13]"
   ]
  },
  {
   "cell_type": "code",
   "execution_count": 44,
   "id": "5d1949ed-4a2f-48aa-8bf6-6af776ba68f8",
   "metadata": {},
   "outputs": [
    {
     "data": {
      "text/plain": [
       "[('and', 347199),\n",
       " ('the', 220802),\n",
       " ('a', 179318),\n",
       " ('of', 172882),\n",
       " ('with', 120172),\n",
       " ('this', 113584),\n",
       " ('is', 96263),\n",
       " ('in', 61814),\n",
       " ('wine', 56151),\n",
       " ('to', 55423),\n",
       " ('it', 54326),\n",
       " ('on', 45193),\n",
       " ('flavors', 41815)]"
      ]
     },
     "execution_count": 44,
     "metadata": {},
     "output_type": "execute_result"
    }
   ],
   "source": [
    "# Or you can use a Counter (see solutions of Session 07)\n",
    "from collections import Counter\n",
    "\n",
    "word_counts = Counter(all_descriptions.split())\n",
    "word_counts.most_common(13)"
   ]
  }
 ],
 "metadata": {
  "kernelspec": {
   "display_name": "Python 3 (ipykernel)",
   "language": "python",
   "name": "python3"
  },
  "language_info": {
   "codemirror_mode": {
    "name": "ipython",
    "version": 3
   },
   "file_extension": ".py",
   "mimetype": "text/x-python",
   "name": "python",
   "nbconvert_exporter": "python",
   "pygments_lexer": "ipython3",
   "version": "3.9.12"
  }
 },
 "nbformat": 4,
 "nbformat_minor": 5
}
