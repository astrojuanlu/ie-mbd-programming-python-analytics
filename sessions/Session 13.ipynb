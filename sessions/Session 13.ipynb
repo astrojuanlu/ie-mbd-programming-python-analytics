{
 "cells": [
  {
   "cell_type": "markdown",
   "id": "ab69db94-c7d0-4b31-9bc0-aae9c708bf60",
   "metadata": {},
   "source": [
    "## Data\n",
    "\n",
    "Use `twitter_data.json` from previous sessions."
   ]
  },
  {
   "cell_type": "markdown",
   "id": "a3d51d78-ac3b-482c-92c6-e30427e45313",
   "metadata": {},
   "source": [
    "## Exercises\n",
    "\n",
    "### 1. Most popular user\n",
    "\n",
    "What's the tweet made by the user with the largest number of followers? And what if we exclude those without hashtags?\n",
    "\n",
    "Try to write the solution in two ways:\n",
    "\n",
    "- Using `for` loops and normal `if` conditionals\n",
    "- Using `lambda` functions and Python built-ins (`min`, `max`, `filter`)"
   ]
  },
  {
   "cell_type": "markdown",
   "id": "3d9adb91-10b9-4d73-b383-97a5ee10d81c",
   "metadata": {},
   "source": [
    "### 2. Tweet locations\n",
    "\n",
    "Assemble a list of geographic coordinates of tweets that have it enabled."
   ]
  },
  {
   "cell_type": "markdown",
   "id": "3b33cdde-af4f-459a-ba77-989f4dbeb39a",
   "metadata": {},
   "source": [
    "### 3. Expanded urls\n",
    "\n",
    "Assemble a list of expanded URLs of users that have them in their profile."
   ]
  }
 ],
 "metadata": {
  "kernelspec": {
   "display_name": "Python 3",
   "language": "python",
   "name": "python3"
  },
  "language_info": {
   "codemirror_mode": {
    "name": "ipython",
    "version": 3
   },
   "file_extension": ".py",
   "mimetype": "text/x-python",
   "name": "python",
   "nbconvert_exporter": "python",
   "pygments_lexer": "ipython3",
   "version": "3.8.8"
  }
 },
 "nbformat": 4,
 "nbformat_minor": 5
}
