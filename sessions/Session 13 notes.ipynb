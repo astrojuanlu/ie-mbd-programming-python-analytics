{
 "cells": [
  {
   "cell_type": "code",
   "execution_count": 1,
   "id": "bebb8216-609c-4edc-8088-935d5e2ec335",
   "metadata": {},
   "outputs": [],
   "source": [
    "import json"
   ]
  },
  {
   "cell_type": "code",
   "execution_count": 2,
   "id": "0ca1f5a2-78b9-4815-8493-9e860ae96143",
   "metadata": {},
   "outputs": [
    {
     "name": "stdout",
     "output_type": "stream",
     "text": [
      "[{\"created\n"
     ]
    }
   ],
   "source": [
    "with open(\"twitter_data.json\") as fh:\n",
    "    print(fh.read()[:10])"
   ]
  },
  {
   "cell_type": "code",
   "execution_count": 4,
   "id": "ee6eb1cf-e8d4-4ab9-9eb9-215408262f49",
   "metadata": {},
   "outputs": [
    {
     "data": {
      "text/plain": [
       "(9, list)"
      ]
     },
     "execution_count": 4,
     "metadata": {},
     "output_type": "execute_result"
    }
   ],
   "source": [
    "with open(\"twitter_data.json\") as fh:\n",
    "    content = fh.read()  # All file handles have .read() that produces a str\n",
    "    data = json.loads(content)  # load*s* receives a *s*tring\n",
    "    # data = json.loads(fh.read())\n",
    "\n",
    "len(data), type(data)"
   ]
  },
  {
   "cell_type": "code",
   "execution_count": 15,
   "id": "3775bb10-0a11-42f5-aeae-de9c2c8697d6",
   "metadata": {},
   "outputs": [
    {
     "data": {
      "text/plain": [
       "(9, list)"
      ]
     },
     "execution_count": 15,
     "metadata": {},
     "output_type": "execute_result"
    }
   ],
   "source": [
    "with open(\"twitter_data.json\") as fh:\n",
    "    data = json.load(fh)  # load receives a file handle\n",
    "\n",
    "len(data), type(data)"
   ]
  },
  {
   "cell_type": "code",
   "execution_count": 18,
   "id": "dc8ee6c7-5ac4-4877-8564-4176b138b8f9",
   "metadata": {},
   "outputs": [],
   "source": [
    "# data"
   ]
  },
  {
   "cell_type": "code",
   "execution_count": 19,
   "id": "892fd4ac-1b58-443e-bdd5-f7acb22a3e2a",
   "metadata": {},
   "outputs": [],
   "source": [
    "t0 = data[0]"
   ]
  },
  {
   "cell_type": "code",
   "execution_count": 20,
   "id": "c6d356b7-1258-43af-a46f-914dfbdeaab0",
   "metadata": {},
   "outputs": [
    {
     "data": {
      "text/plain": [
       "{'type': 'Point', 'coordinates': [-117.894444, 33.606389]}"
      ]
     },
     "execution_count": 20,
     "metadata": {},
     "output_type": "execute_result"
    }
   ],
   "source": [
    "t0[\"coordinates\"]  # GeoJSON"
   ]
  },
  {
   "cell_type": "code",
   "execution_count": 24,
   "id": "6478126d-5ea0-4629-b96d-b7a39c6d2a63",
   "metadata": {},
   "outputs": [
    {
     "data": {
      "text/plain": [
       "{'type': 'Point', 'coordinates': [-117.894444, 33.606389]}"
      ]
     },
     "execution_count": 24,
     "metadata": {},
     "output_type": "execute_result"
    }
   ],
   "source": [
    "t0[\"coordinates\"]"
   ]
  },
  {
   "cell_type": "code",
   "execution_count": 25,
   "id": "0496cc54-f583-49c3-ace4-25830253595f",
   "metadata": {},
   "outputs": [
    {
     "data": {
      "text/plain": [
       "[-117.894444, 33.606389]"
      ]
     },
     "execution_count": 25,
     "metadata": {},
     "output_type": "execute_result"
    }
   ],
   "source": [
    "t0[\"coordinates\"][\"coordinates\"]"
   ]
  },
  {
   "cell_type": "code",
   "execution_count": 23,
   "id": "d4cd19da-30c3-4d40-93e7-962f008b3889",
   "metadata": {},
   "outputs": [
    {
     "data": {
      "text/plain": [
       "-117.894444"
      ]
     },
     "execution_count": 23,
     "metadata": {},
     "output_type": "execute_result"
    }
   ],
   "source": [
    "t0[\"coordinates\"][\"coordinates\"][0]"
   ]
  },
  {
   "cell_type": "code",
   "execution_count": 26,
   "id": "30ae4dc8-3284-4d1d-a5d6-6c8467ef847f",
   "metadata": {},
   "outputs": [
    {
     "ename": "TypeError",
     "evalue": "'NoneType' object is not subscriptable",
     "output_type": "error",
     "traceback": [
      "\u001b[0;31m---------------------------------------------------------------------------\u001b[0m",
      "\u001b[0;31mTypeError\u001b[0m                                 Traceback (most recent call last)",
      "\u001b[0;32m<ipython-input-26-e545a255545d>\u001b[0m in \u001b[0;36m<module>\u001b[0;34m\u001b[0m\n\u001b[0;32m----> 1\u001b[0;31m \u001b[0;34m[\u001b[0m\u001b[0mtweet\u001b[0m\u001b[0;34m[\u001b[0m\u001b[0;34m\"coordinates\"\u001b[0m\u001b[0;34m]\u001b[0m\u001b[0;34m[\u001b[0m\u001b[0;34m\"coordinates\"\u001b[0m\u001b[0;34m]\u001b[0m\u001b[0;34m[\u001b[0m\u001b[0;36m0\u001b[0m\u001b[0;34m]\u001b[0m \u001b[0;32mfor\u001b[0m \u001b[0mtweet\u001b[0m \u001b[0;32min\u001b[0m \u001b[0mdata\u001b[0m\u001b[0;34m]\u001b[0m\u001b[0;34m\u001b[0m\u001b[0;34m\u001b[0m\u001b[0m\n\u001b[0m",
      "\u001b[0;32m<ipython-input-26-e545a255545d>\u001b[0m in \u001b[0;36m<listcomp>\u001b[0;34m(.0)\u001b[0m\n\u001b[0;32m----> 1\u001b[0;31m \u001b[0;34m[\u001b[0m\u001b[0mtweet\u001b[0m\u001b[0;34m[\u001b[0m\u001b[0;34m\"coordinates\"\u001b[0m\u001b[0;34m]\u001b[0m\u001b[0;34m[\u001b[0m\u001b[0;34m\"coordinates\"\u001b[0m\u001b[0;34m]\u001b[0m\u001b[0;34m[\u001b[0m\u001b[0;36m0\u001b[0m\u001b[0;34m]\u001b[0m \u001b[0;32mfor\u001b[0m \u001b[0mtweet\u001b[0m \u001b[0;32min\u001b[0m \u001b[0mdata\u001b[0m\u001b[0;34m]\u001b[0m\u001b[0;34m\u001b[0m\u001b[0;34m\u001b[0m\u001b[0m\n\u001b[0m",
      "\u001b[0;31mTypeError\u001b[0m: 'NoneType' object is not subscriptable"
     ]
    }
   ],
   "source": [
    "[tweet[\"coordinates\"][\"coordinates\"][0] for tweet in data]"
   ]
  },
  {
   "cell_type": "code",
   "execution_count": 32,
   "id": "a1d04f68-74e3-4398-bc79-4ff6262b4682",
   "metadata": {},
   "outputs": [
    {
     "data": {
      "text/plain": [
       "[-117.894444, -122.26923]"
      ]
     },
     "execution_count": 32,
     "metadata": {},
     "output_type": "execute_result"
    }
   ],
   "source": [
    "longitudes = []\n",
    "for tweet in data:\n",
    "    if tweet[\"coordinates\"] is not None:\n",
    "        longitudes.append(tweet[\"coordinates\"][\"coordinates\"][0])\n",
    "longitudes"
   ]
  },
  {
   "cell_type": "code",
   "execution_count": 38,
   "id": "156fc3ba-87e9-455b-b081-7e2dab222351",
   "metadata": {},
   "outputs": [
    {
     "data": {
      "text/plain": [
       "[-117.894444, -122.26923]"
      ]
     },
     "execution_count": 38,
     "metadata": {},
     "output_type": "execute_result"
    }
   ],
   "source": [
    "longitudes = [\n",
    "    tweet[\"coordinates\"][\"coordinates\"][0]\n",
    "    for tweet in data\n",
    "    if tweet[\"coordinates\"] is not None\n",
    "]\n",
    "longitudes"
   ]
  },
  {
   "cell_type": "code",
   "execution_count": 44,
   "id": "361d0de4-d2d4-4754-aa5a-f59a7f54f4f3",
   "metadata": {},
   "outputs": [],
   "source": [
    "# while True:\n",
    "#     divisor = input(\"Write a number\")\n",
    "#     print(1 / float(divisor))"
   ]
  },
  {
   "cell_type": "code",
   "execution_count": 42,
   "id": "4eaf8cf0-c7ec-4d89-a173-e0adc4e25187",
   "metadata": {},
   "outputs": [
    {
     "name": "stdout",
     "output_type": "stream",
     "text": [
      "About to divide by zero...\n",
      "Error with the division!\n"
     ]
    }
   ],
   "source": [
    "try:\n",
    "    print(\"About to divide by zero...\")\n",
    "    1 / 0\n",
    "    print(\"This will never happen\")\n",
    "except ZeroDivisionError:\n",
    "    print(\"Error with the division!\")"
   ]
  },
  {
   "cell_type": "code",
   "execution_count": 46,
   "id": "b5b59e81-84cd-4437-831e-82b1c52f65ef",
   "metadata": {},
   "outputs": [],
   "source": [
    "# open?"
   ]
  },
  {
   "cell_type": "code",
   "execution_count": 56,
   "id": "f3c83e7b-2cff-4796-a7b5-bab4fa7dfab3",
   "metadata": {},
   "outputs": [
    {
     "data": {
      "text/plain": [
       "[-117.894444, -122.26923]"
      ]
     },
     "execution_count": 56,
     "metadata": {},
     "output_type": "execute_result"
    }
   ],
   "source": [
    "longitudes = []\n",
    "for tweet in data:\n",
    "    try:\n",
    "        longitudes.append(tweet[\"coordinates\"][\"coordinates\"][0])\n",
    "    except TypeError:\n",
    "        # tweet[\"coordinates\"] = None\n",
    "        # pass  # pass doesn't do anything\n",
    "        # print(\"Tweet has no coordinates, skipping\")\n",
    "longitudes"
   ]
  },
  {
   "cell_type": "code",
   "execution_count": 58,
   "id": "58c80916-556d-4eee-9283-3121d190352d",
   "metadata": {},
   "outputs": [
    {
     "name": "stdout",
     "output_type": "stream",
     "text": [
      "3.63 µs ± 280 ns per loop (mean ± std. dev. of 7 runs, 100000 loops each)\n"
     ]
    }
   ],
   "source": [
    "%%timeit \n",
    "longitudes = []\n",
    "for tweet in data:\n",
    "    try:\n",
    "        longitudes.append(tweet[\"coordinates\"][\"coordinates\"][0])\n",
    "    except TypeError:\n",
    "        pass\n",
    "longitudes"
   ]
  },
  {
   "cell_type": "code",
   "execution_count": 59,
   "id": "bd81c3e2-30d9-43c1-86c1-e12147765af3",
   "metadata": {},
   "outputs": [
    {
     "name": "stdout",
     "output_type": "stream",
     "text": [
      "820 ns ± 164 ns per loop (mean ± std. dev. of 7 runs, 1000000 loops each)\n"
     ]
    }
   ],
   "source": [
    "%%timeit\n",
    "longitudes = []\n",
    "for tweet in data:\n",
    "    if tweet[\"coordinates\"] is not None:\n",
    "        longitudes.append(tweet[\"coordinates\"][\"coordinates\"][0])\n",
    "longitudes"
   ]
  },
  {
   "cell_type": "code",
   "execution_count": 60,
   "id": "69f3437b-acb5-4a51-ac26-07e689e95d26",
   "metadata": {},
   "outputs": [
    {
     "name": "stdout",
     "output_type": "stream",
     "text": [
      "854 ns ± 156 ns per loop (mean ± std. dev. of 7 runs, 1000000 loops each)\n"
     ]
    }
   ],
   "source": [
    "%%timeit\n",
    "longitudes = [\n",
    "    tweet[\"coordinates\"][\"coordinates\"][0]\n",
    "    for tweet in data\n",
    "    if tweet[\"coordinates\"] is not None\n",
    "]\n",
    "longitudes"
   ]
  },
  {
   "cell_type": "code",
   "execution_count": 57,
   "id": "4ed90e25-f218-4881-81b2-ded8182d1087",
   "metadata": {},
   "outputs": [
    {
     "data": {
      "text/plain": [
       "[{'type': 'Point', 'coordinates': [-117.894444, 33.606389]},\n",
       " {'type': 'Point', 'coordinates': [-122.26923, 37.80805]},\n",
       " None,\n",
       " None,\n",
       " None,\n",
       " None,\n",
       " None,\n",
       " None,\n",
       " None]"
      ]
     },
     "execution_count": 57,
     "metadata": {},
     "output_type": "execute_result"
    }
   ],
   "source": [
    "[\n",
    "    tweet[\"coordinates\"] for tweet in data\n",
    "]"
   ]
  },
  {
   "cell_type": "code",
   "execution_count": null,
   "id": "a348f1a8-e2a5-4b0c-bb86-28fd769d40f0",
   "metadata": {},
   "outputs": [],
   "source": []
  },
  {
   "cell_type": "code",
   "execution_count": 33,
   "id": "4571620e-fd0b-4a79-9027-aa99df5ec58b",
   "metadata": {},
   "outputs": [
    {
     "name": "stdout",
     "output_type": "stream",
     "text": [
      "1252840795737997317\n",
      "1256259052461592580\n"
     ]
    }
   ],
   "source": [
    "for tweet in data:\n",
    "    if tweet[\"coordinates\"] is not None:\n",
    "        print(tweet[\"id\"])"
   ]
  },
  {
   "cell_type": "code",
   "execution_count": null,
   "id": "a53fc873-e4c4-45b3-a2eb-f72f8dcc29c2",
   "metadata": {},
   "outputs": [],
   "source": []
  },
  {
   "cell_type": "code",
   "execution_count": null,
   "id": "bf81ee10-4791-4d1a-b025-1e50b187a383",
   "metadata": {},
   "outputs": [],
   "source": []
  },
  {
   "cell_type": "code",
   "execution_count": null,
   "id": "1f8c1bdd-b737-4b23-bdd2-6e4fe7fb8237",
   "metadata": {},
   "outputs": [],
   "source": []
  },
  {
   "cell_type": "code",
   "execution_count": null,
   "id": "96a9a53a-39ab-4e53-8f40-a20fc05a7557",
   "metadata": {},
   "outputs": [],
   "source": []
  },
  {
   "cell_type": "code",
   "execution_count": null,
   "id": "bf4566e1-0b58-4a7e-a212-42aa8e9f49fe",
   "metadata": {},
   "outputs": [],
   "source": []
  },
  {
   "cell_type": "code",
   "execution_count": null,
   "id": "e50b27d0-a180-4fec-8e34-88ef78c5e9da",
   "metadata": {},
   "outputs": [],
   "source": []
  },
  {
   "cell_type": "markdown",
   "id": "ab69db94-c7d0-4b31-9bc0-aae9c708bf60",
   "metadata": {},
   "source": [
    "## Data\n",
    "\n",
    "Use `twitter_data.json` from previous sessions."
   ]
  },
  {
   "cell_type": "markdown",
   "id": "3b33cdde-af4f-459a-ba77-989f4dbeb39a",
   "metadata": {},
   "source": [
    "### Expanded urls\n",
    "\n",
    "Assemble a list of expanded URLs of users that have them in their profile."
   ]
  },
  {
   "cell_type": "markdown",
   "id": "a3d51d78-ac3b-482c-92c6-e30427e45313",
   "metadata": {},
   "source": [
    "### Most popular user\n",
    "\n",
    "What's the tweet made by the user with the largest number of followers? And what if we exclude those without hashtags?\n",
    "\n",
    "Try to write the solution in two ways:\n",
    "\n",
    "- Using `for` loops and normal `if` conditionals\n",
    "- Using `lambda` functions and Python built-ins (`min`, `max`, `filter`)"
   ]
  },
  {
   "cell_type": "markdown",
   "id": "3d620532-1ead-4e72-b00d-065de58247ac",
   "metadata": {},
   "source": [
    "---"
   ]
  },
  {
   "cell_type": "markdown",
   "id": "da32c712-7cd1-4a0a-8d01-8afcd164f92a",
   "metadata": {},
   "source": [
    "## Exercises\n",
    "\n",
    "### 1. Cities of tweets\n",
    "\n",
    "Build a set of the cities in which the tweets written. How many distinct cities are there?"
   ]
  },
  {
   "cell_type": "code",
   "execution_count": 62,
   "id": "dfa709db-4826-4f6c-b437-2d7d91d085a3",
   "metadata": {},
   "outputs": [
    {
     "data": {
      "text/plain": [
       "{'Dixon',\n",
       " 'Los Angeles',\n",
       " 'Modesto',\n",
       " 'Newport Beach',\n",
       " 'Oakland',\n",
       " 'San Francisco',\n",
       " 'West Hollywood'}"
      ]
     },
     "execution_count": 62,
     "metadata": {},
     "output_type": "execute_result"
    }
   ],
   "source": [
    "{tweet[\"place\"][\"name\"] for tweet in data}  # Set comprehension"
   ]
  },
  {
   "cell_type": "code",
   "execution_count": 63,
   "id": "7c601dbe-91c4-4975-b0c0-5de9b9d1614b",
   "metadata": {},
   "outputs": [
    {
     "data": {
      "text/plain": [
       "7"
      ]
     },
     "execution_count": 63,
     "metadata": {},
     "output_type": "execute_result"
    }
   ],
   "source": [
    "len(_62)"
   ]
  },
  {
   "cell_type": "markdown",
   "id": "f0ca39a7-e6cc-4725-9c0a-1c9f8d9fc5fc",
   "metadata": {},
   "source": [
    "### 2. How many tweets in each city\n",
    "\n",
    "Build a dictionary, where the keys are cities and the values are the number of tweets in each city."
   ]
  },
  {
   "cell_type": "code",
   "execution_count": 74,
   "id": "7a786162-b7ce-42dd-b18a-1e62a96739ac",
   "metadata": {},
   "outputs": [
    {
     "data": {
      "text/plain": [
       "['Newport Beach',\n",
       " 'Oakland',\n",
       " 'Los Angeles',\n",
       " 'San Francisco',\n",
       " 'Dixon',\n",
       " 'Modesto',\n",
       " 'Los Angeles',\n",
       " 'West Hollywood',\n",
       " 'Los Angeles']"
      ]
     },
     "execution_count": 74,
     "metadata": {},
     "output_type": "execute_result"
    }
   ],
   "source": [
    "[tweet[\"place\"][\"name\"] for tweet in data]"
   ]
  },
  {
   "cell_type": "code",
   "execution_count": 5,
   "id": "ab0505fa-1979-4517-bd23-5ca3a6ee6e58",
   "metadata": {},
   "outputs": [
    {
     "data": {
      "text/plain": [
       "{'Newport Beach': 1,\n",
       " 'Oakland': 1,\n",
       " 'Los Angeles': 3,\n",
       " 'San Francisco': 1,\n",
       " 'Dixon': 1,\n",
       " 'Modesto': 1,\n",
       " 'West Hollywood': 1}"
      ]
     },
     "execution_count": 5,
     "metadata": {},
     "output_type": "execute_result"
    }
   ],
   "source": [
    "city_counts = {}\n",
    "for tweet in data:\n",
    "    city_name = tweet[\"place\"][\"name\"]\n",
    "    if city_name not in city_counts:\n",
    "        city_counts[city_name] = 1\n",
    "    else:\n",
    "        city_counts[city_name] += 1\n",
    "city_counts"
   ]
  },
  {
   "cell_type": "code",
   "execution_count": 6,
   "id": "e58839d5-36af-4805-ab31-3b29c8ad9b83",
   "metadata": {},
   "outputs": [
    {
     "data": {
      "text/plain": [
       "{'Newport Beach': 1,\n",
       " 'Oakland': 1,\n",
       " 'Los Angeles': 3,\n",
       " 'San Francisco': 1,\n",
       " 'Dixon': 1,\n",
       " 'Modesto': 1,\n",
       " 'West Hollywood': 1}"
      ]
     },
     "execution_count": 6,
     "metadata": {},
     "output_type": "execute_result"
    }
   ],
   "source": [
    "all_cities = [tweet[\"place\"][\"name\"] for tweet in data]\n",
    "\n",
    "city_counts = {}\n",
    "for city_name in all_cities:\n",
    "    city_counts[city_name] = all_cities.count(city_name)\n",
    "\n",
    "city_counts"
   ]
  },
  {
   "cell_type": "code",
   "execution_count": null,
   "id": "e8701622-5e79-4d80-ba4e-d80050743ba4",
   "metadata": {},
   "outputs": [],
   "source": []
  },
  {
   "cell_type": "markdown",
   "id": "df03a2fa-ebe7-43b7-9c3a-fc16883377e8",
   "metadata": {},
   "source": [
    "### 3. How many unique hashtags\n",
    "\n",
    "Build a set of unique, **lowercase** hashtag texts."
   ]
  },
  {
   "cell_type": "code",
   "execution_count": 77,
   "id": "b641208b-e3e3-4368-9c21-b1bf4d7fb898",
   "metadata": {},
   "outputs": [
    {
     "data": {
      "text/plain": [
       "['balboaisland',\n",
       " 'newportbeach',\n",
       " 'tennis',\n",
       " 'covid_19',\n",
       " 'coronavirus',\n",
       " 'orangecounty',\n",
       " 'california']"
      ]
     },
     "execution_count": 77,
     "metadata": {},
     "output_type": "execute_result"
    }
   ],
   "source": [
    "[hashtag[\"text\"] for hashtag in t0[\"entities\"][\"hashtags\"]]"
   ]
  },
  {
   "cell_type": "code",
   "execution_count": 81,
   "id": "a43280b4-d705-4e4e-8bef-e3b0d7f547be",
   "metadata": {},
   "outputs": [
    {
     "data": {
      "text/plain": [
       "{'activities',\n",
       " 'balboaisland',\n",
       " 'california',\n",
       " 'coronavirus',\n",
       " 'covid19',\n",
       " 'covid_19',\n",
       " 'la',\n",
       " 'lockdown',\n",
       " 'losangeles',\n",
       " 'newportbeach',\n",
       " 'orangecounty',\n",
       " 'protesters',\n",
       " 'repost',\n",
       " 'tennis',\n",
       " 'thisweekend'}"
      ]
     },
     "execution_count": 81,
     "metadata": {},
     "output_type": "execute_result"
    }
   ],
   "source": [
    "hashtags = set()\n",
    "for tweet in data:\n",
    "    for hashtag in tweet[\"entities\"][\"hashtags\"]:\n",
    "        hashtags.add(hashtag[\"text\"].lower())\n",
    "hashtags"
   ]
  },
  {
   "cell_type": "markdown",
   "id": "c53243b2-4e63-46a5-acaf-2e6c571a994b",
   "metadata": {},
   "source": [
    "### 4. How many tweets mentioning each hashtag\n",
    "\n",
    "Build a dictionary, where the keys are the lowercase hashtag texts and the values the number of tweets containing each hashtag. Is there any hashtag that appears more than once?"
   ]
  },
  {
   "cell_type": "code",
   "execution_count": 94,
   "id": "c774b168-c4cd-4337-8265-ce701fbd305e",
   "metadata": {},
   "outputs": [
    {
     "name": "stderr",
     "output_type": "stream",
     "text": [
      "<>:1: SyntaxWarning: list indices must be integers or slices, not str; perhaps you missed a comma?\n",
      "<>:1: SyntaxWarning: list indices must be integers or slices, not str; perhaps you missed a comma?\n",
      "<ipython-input-94-4ffee77c2f44>:1: SyntaxWarning: list indices must be integers or slices, not str; perhaps you missed a comma?\n",
      "  [1, 2, 3][\"a\"]\n"
     ]
    },
    {
     "ename": "TypeError",
     "evalue": "list indices must be integers or slices, not str",
     "output_type": "error",
     "traceback": [
      "\u001b[0;31m---------------------------------------------------------------------------\u001b[0m",
      "\u001b[0;31mTypeError\u001b[0m                                 Traceback (most recent call last)",
      "\u001b[0;32m<ipython-input-94-4ffee77c2f44>\u001b[0m in \u001b[0;36m<module>\u001b[0;34m\u001b[0m\n\u001b[0;32m----> 1\u001b[0;31m \u001b[0;34m[\u001b[0m\u001b[0;36m1\u001b[0m\u001b[0;34m,\u001b[0m \u001b[0;36m2\u001b[0m\u001b[0;34m,\u001b[0m \u001b[0;36m3\u001b[0m\u001b[0;34m]\u001b[0m\u001b[0;34m[\u001b[0m\u001b[0;34m\"a\"\u001b[0m\u001b[0;34m]\u001b[0m\u001b[0;34m\u001b[0m\u001b[0;34m\u001b[0m\u001b[0m\n\u001b[0m",
      "\u001b[0;31mTypeError\u001b[0m: list indices must be integers or slices, not str"
     ]
    }
   ],
   "source": [
    "[1, 2, 3][\"a\"]"
   ]
  },
  {
   "cell_type": "code",
   "execution_count": 93,
   "id": "12aaafe3-20e8-4afb-8693-b21de84c29f4",
   "metadata": {},
   "outputs": [
    {
     "data": {
      "text/plain": [
       "{'balboaisland': 1,\n",
       " 'newportbeach': 1,\n",
       " 'tennis': 1,\n",
       " 'covid_19': 1,\n",
       " 'coronavirus': 1,\n",
       " 'orangecounty': 1,\n",
       " 'california': 1,\n",
       " 'repost': 1,\n",
       " 'thisweekend': 1,\n",
       " 'la': 1,\n",
       " 'losangeles': 1,\n",
       " 'activities': 1,\n",
       " 'lockdown': 1,\n",
       " 'covid19': 1,\n",
       " 'protesters': 1}"
      ]
     },
     "execution_count": 93,
     "metadata": {},
     "output_type": "execute_result"
    }
   ],
   "source": [
    "hashtag_counts = {}\n",
    "\n",
    "for tweet in data:\n",
    "    for hashtag in tweet[\"entities\"][\"hashtags\"]:\n",
    "        ht_text = hashtag[\"text\"].lower()\n",
    "        if ht_text not in hashtag_counts:  # If it's the first time that I see it\n",
    "            hashtag_counts[ht_text] = 1\n",
    "        else:\n",
    "            hashtag_counts[ht_text] += 1\n",
    "\n",
    "hashtag_counts"
   ]
  },
  {
   "cell_type": "code",
   "execution_count": null,
   "id": "3c94406c-730c-44cb-b9d9-74874e9bf8b2",
   "metadata": {},
   "outputs": [],
   "source": []
  },
  {
   "cell_type": "code",
   "execution_count": null,
   "id": "5a572b00-890c-4309-9134-e5385f25bcc6",
   "metadata": {},
   "outputs": [],
   "source": []
  },
  {
   "cell_type": "code",
   "execution_count": null,
   "id": "4ac6540f-6c88-4530-9d5a-9bbf29db0fb1",
   "metadata": {},
   "outputs": [],
   "source": []
  },
  {
   "cell_type": "code",
   "execution_count": null,
   "id": "4fa0ca94-910a-452d-aa78-f8d06d129f5e",
   "metadata": {},
   "outputs": [],
   "source": []
  },
  {
   "cell_type": "code",
   "execution_count": null,
   "id": "51429715-c741-4cb5-a48d-93dd700d451a",
   "metadata": {},
   "outputs": [],
   "source": []
  },
  {
   "cell_type": "code",
   "execution_count": null,
   "id": "3f78ed65-467f-4b77-9deb-248abe262f63",
   "metadata": {},
   "outputs": [],
   "source": []
  },
  {
   "cell_type": "code",
   "execution_count": null,
   "id": "afa0f178-2b04-45e9-9ed3-a214ea8dc4c7",
   "metadata": {},
   "outputs": [],
   "source": []
  },
  {
   "cell_type": "code",
   "execution_count": null,
   "id": "a8570606-874b-41a9-bb04-fd0d524a0242",
   "metadata": {},
   "outputs": [],
   "source": []
  },
  {
   "cell_type": "code",
   "execution_count": null,
   "id": "24b9032d-8b9a-4774-897d-64489060fbc9",
   "metadata": {},
   "outputs": [],
   "source": []
  },
  {
   "cell_type": "code",
   "execution_count": null,
   "id": "7e4ac360-93ef-444f-bcc3-65a99079bdd5",
   "metadata": {},
   "outputs": [],
   "source": []
  },
  {
   "cell_type": "code",
   "execution_count": null,
   "id": "677b1243-e087-4302-b581-0f3b518a70b2",
   "metadata": {},
   "outputs": [],
   "source": []
  },
  {
   "cell_type": "code",
   "execution_count": 83,
   "id": "ddbc4c54-99e2-4a8a-910b-ecdbc1fc9a1d",
   "metadata": {},
   "outputs": [
    {
     "data": {
      "text/plain": [
       "{'balboaisland': 1,\n",
       " 'newportbeach': 1,\n",
       " 'tennis': 1,\n",
       " 'covid_19': 1,\n",
       " 'coronavirus': 1,\n",
       " 'orangecounty': 1,\n",
       " 'california': 1,\n",
       " 'repost': 1,\n",
       " 'thisweekend': 1,\n",
       " 'la': 1,\n",
       " 'losangeles': 1,\n",
       " 'activities': 1,\n",
       " 'lockdown': 1,\n",
       " 'covid19': 1,\n",
       " 'protesters': 1}"
      ]
     },
     "execution_count": 83,
     "metadata": {},
     "output_type": "execute_result"
    }
   ],
   "source": [
    "hashtag_counts = {}\n",
    "\n",
    "for tweet in data:\n",
    "    for hashtag in tweet[\"entities\"][\"hashtags\"]:\n",
    "        ht_text = hashtag[\"text\"].lower()\n",
    "        if ht_text not in hashtag_counts:\n",
    "            hashtag_counts[ht_text] = 1\n",
    "        else:\n",
    "            hashtag_counts[ht_text] += 1\n",
    "\n",
    "hashtag_counts"
   ]
  },
  {
   "cell_type": "code",
   "execution_count": null,
   "id": "fede9d03-5396-45f7-bf4a-8bc482c753ac",
   "metadata": {},
   "outputs": [],
   "source": []
  }
 ],
 "metadata": {
  "kernelspec": {
   "display_name": "Python 3",
   "language": "python",
   "name": "python3"
  },
  "language_info": {
   "codemirror_mode": {
    "name": "ipython",
    "version": 3
   },
   "file_extension": ".py",
   "mimetype": "text/x-python",
   "name": "python",
   "nbconvert_exporter": "python",
   "pygments_lexer": "ipython3",
   "version": "3.8.8"
  }
 },
 "nbformat": 4,
 "nbformat_minor": 5
}
