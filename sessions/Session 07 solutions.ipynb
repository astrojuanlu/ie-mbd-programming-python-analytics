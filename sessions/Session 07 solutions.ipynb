{
 "cells": [
  {
   "cell_type": "code",
   "execution_count": 1,
   "id": "4338752b-8e65-43c9-9b45-43ef36813ec0",
   "metadata": {
    "tags": []
   },
   "outputs": [
    {
     "name": "stdout",
     "output_type": "stream",
     "text": [
      "<class 'dict'> 24\n"
     ]
    }
   ],
   "source": [
    "import requests\n",
    "\n",
    "DATA_URL = (\n",
    "    \"https://github.com/astrojuanlu/ie-mbd-python-data-analysis-i/\"\n",
    "    \"raw/main/data/rick-and-morty.json\"\n",
    ")\n",
    "\n",
    "data = requests.get(DATA_URL).json()\n",
    "print(type(data), len(data))"
   ]
  },
  {
   "cell_type": "code",
   "execution_count": 2,
   "id": "d69a4f0c-69b0-4de9-a6a1-269ec769b5a1",
   "metadata": {},
   "outputs": [
    {
     "data": {
      "text/plain": [
       "51"
      ]
     },
     "execution_count": 2,
     "metadata": {},
     "output_type": "execute_result"
    }
   ],
   "source": [
    "len(data[\"_embedded\"][\"episodes\"])"
   ]
  },
  {
   "cell_type": "code",
   "execution_count": 3,
   "id": "2fb01aca-52f9-4ef8-a199-71c1afd18483",
   "metadata": {},
   "outputs": [
    {
     "data": {
      "text/plain": [
       "{1: 11, 2: 10, 3: 10, 4: 10, 5: 10}"
      ]
     },
     "execution_count": 3,
     "metadata": {},
     "output_type": "execute_result"
    }
   ],
   "source": [
    "season_counts = {}\n",
    "for episode in data[\"_embedded\"][\"episodes\"]:\n",
    "    if episode[\"season\"] not in season_counts:\n",
    "        season_counts[episode[\"season\"]] = 1\n",
    "    else:\n",
    "        season_counts[episode[\"season\"]] += 1\n",
    "\n",
    "season_counts"
   ]
  },
  {
   "cell_type": "code",
   "execution_count": 4,
   "id": "326c3345-63ce-4912-8b4f-33d1e63ff9bb",
   "metadata": {},
   "outputs": [],
   "source": [
    "from statistics import mean, stdev"
   ]
  },
  {
   "cell_type": "code",
   "execution_count": 5,
   "id": "aaa99198-9b23-4158-886a-915ef6cc814e",
   "metadata": {},
   "outputs": [
    {
     "data": {
      "text/plain": [
       "(8.876470588235295, 0.4654409673821666)"
      ]
     },
     "execution_count": 5,
     "metadata": {},
     "output_type": "execute_result"
    }
   ],
   "source": [
    "ratings = []\n",
    "for episode in data[\"_embedded\"][\"episodes\"]:\n",
    "    ratings.append(episode[\"rating\"][\"average\"])\n",
    "\n",
    "mean(ratings), stdev(ratings)"
   ]
  },
  {
   "cell_type": "code",
   "execution_count": 6,
   "id": "993b5eba-a993-402e-82a2-474f62aaba55",
   "metadata": {},
   "outputs": [
    {
     "data": {
      "text/plain": [
       "[('a', 42),\n",
       " ('to', 37),\n",
       " ('Rick', 34),\n",
       " ('and', 34),\n",
       " ('Morty', 28),\n",
       " ('the', 25),\n",
       " ('in', 22),\n",
       " ('of', 21),\n",
       " ('broh.', 14),\n",
       " ('on', 13),\n",
       " ('with', 12),\n",
       " ('Jerry', 10),\n",
       " ('his', 9),\n",
       " ('an', 8),\n",
       " ('their', 8)]"
      ]
     },
     "execution_count": 6,
     "metadata": {},
     "output_type": "execute_result"
    }
   ],
   "source": [
    "summaries = [\n",
    "    episode[\"summary\"].replace(\"<p>\", \"\").replace(\"</p>\", \"\")\n",
    "    for episode in data[\"_embedded\"][\"episodes\"]\n",
    "]\n",
    "\n",
    "word_counts = {}\n",
    "for word in \" \".join(summaries).split():\n",
    "    if word not in word_counts:\n",
    "        word_counts[word] = 1\n",
    "    else:\n",
    "        word_counts[word] += 1\n",
    "\n",
    "sorted(word_counts.items(), key=lambda pair: pair[1], reverse=True)[:15]"
   ]
  },
  {
   "cell_type": "code",
   "execution_count": 7,
   "id": "b7d84243-21c9-4c62-b90e-4097ba3a762b",
   "metadata": {},
   "outputs": [
    {
     "data": {
      "text/plain": [
       "[('Rick', 34),\n",
       " ('Morty', 28),\n",
       " ('broh.', 14),\n",
       " ('Jerry', 10),\n",
       " ('new', 7),\n",
       " ('gets', 5),\n",
       " ('family', 5),\n",
       " ('Beth', 5),\n",
       " ('takes', 4),\n",
       " (\"It's\", 4),\n",
       " ('The', 4),\n",
       " (\"Morty's\", 3),\n",
       " ('time', 3),\n",
       " ('Rick.', 3),\n",
       " ('adventure', 3)]"
      ]
     },
     "execution_count": 7,
     "metadata": {},
     "output_type": "execute_result"
    }
   ],
   "source": [
    "# Craft a custom set of stopwords, or use an external one\n",
    "# stopwords = {\"a\", \"to\", \"and\", \"the\", \"in\", \"of\", \"on\", \"his\", \"an\", \"their\", \"with\", \"is\", \"for\", \"this\", \"are\", \"have\", \"they\", \"but\"}\n",
    "from sklearn.feature_extraction.text import ENGLISH_STOP_WORDS\n",
    "\n",
    "clean_word_counts = {\n",
    "    word: count\n",
    "    for word, count in word_counts.items()\n",
    "    if word not in ENGLISH_STOP_WORDS\n",
    "}\n",
    "\n",
    "sorted(clean_word_counts.items(), key=lambda pair: pair[1], reverse=True)[:15]"
   ]
  },
  {
   "cell_type": "markdown",
   "id": "42e3a047-667a-4b63-a320-df0d7417e59b",
   "metadata": {},
   "source": [
    "---"
   ]
  },
  {
   "cell_type": "markdown",
   "id": "b75866df-d34d-4b6f-be6a-33d93a902110",
   "metadata": {},
   "source": [
    "Alternative solutions with pandas:"
   ]
  },
  {
   "cell_type": "code",
   "execution_count": 8,
   "id": "19cbbfe4-e60e-4527-980b-5e40966cef8f",
   "metadata": {},
   "outputs": [],
   "source": [
    "import pandas as pd"
   ]
  },
  {
   "cell_type": "code",
   "execution_count": 9,
   "id": "2f8f2909-9d6f-41c0-8ea3-a5dd50fa84cd",
   "metadata": {},
   "outputs": [
    {
     "data": {
      "text/html": [
       "<div>\n",
       "<style scoped>\n",
       "    .dataframe tbody tr th:only-of-type {\n",
       "        vertical-align: middle;\n",
       "    }\n",
       "\n",
       "    .dataframe tbody tr th {\n",
       "        vertical-align: top;\n",
       "    }\n",
       "\n",
       "    .dataframe thead th {\n",
       "        text-align: right;\n",
       "    }\n",
       "</style>\n",
       "<table border=\"1\" class=\"dataframe\">\n",
       "  <thead>\n",
       "    <tr style=\"text-align: right;\">\n",
       "      <th></th>\n",
       "      <th>id</th>\n",
       "      <th>url</th>\n",
       "      <th>name</th>\n",
       "      <th>season</th>\n",
       "      <th>number</th>\n",
       "      <th>type</th>\n",
       "      <th>airdate</th>\n",
       "      <th>airtime</th>\n",
       "      <th>airstamp</th>\n",
       "      <th>runtime</th>\n",
       "      <th>rating</th>\n",
       "      <th>image</th>\n",
       "      <th>summary</th>\n",
       "      <th>_links</th>\n",
       "    </tr>\n",
       "  </thead>\n",
       "  <tbody>\n",
       "    <tr>\n",
       "      <th>0</th>\n",
       "      <td>14308</td>\n",
       "      <td>https://www.tvmaze.com/episodes/14308/rick-and...</td>\n",
       "      <td>Pilot</td>\n",
       "      <td>1</td>\n",
       "      <td>1</td>\n",
       "      <td>regular</td>\n",
       "      <td>2013-12-02</td>\n",
       "      <td>22:30</td>\n",
       "      <td>2013-12-03T03:30:00+00:00</td>\n",
       "      <td>30</td>\n",
       "      <td>{'average': 8.6}</td>\n",
       "      <td>{'medium': 'https://static.tvmaze.com/uploads/...</td>\n",
       "      <td>&lt;p&gt;Rick takes Morty to another dimension to ge...</td>\n",
       "      <td>{'self': {'href': 'https://api.tvmaze.com/epis...</td>\n",
       "    </tr>\n",
       "    <tr>\n",
       "      <th>1</th>\n",
       "      <td>14309</td>\n",
       "      <td>https://www.tvmaze.com/episodes/14309/rick-and...</td>\n",
       "      <td>Lawnmower Dog</td>\n",
       "      <td>1</td>\n",
       "      <td>2</td>\n",
       "      <td>regular</td>\n",
       "      <td>2013-12-09</td>\n",
       "      <td>22:30</td>\n",
       "      <td>2013-12-10T03:30:00+00:00</td>\n",
       "      <td>30</td>\n",
       "      <td>{'average': 8.9}</td>\n",
       "      <td>{'medium': 'https://static.tvmaze.com/uploads/...</td>\n",
       "      <td>&lt;p&gt;Morty's small, white dog Snuffles gets on t...</td>\n",
       "      <td>{'self': {'href': 'https://api.tvmaze.com/epis...</td>\n",
       "    </tr>\n",
       "    <tr>\n",
       "      <th>2</th>\n",
       "      <td>14310</td>\n",
       "      <td>https://www.tvmaze.com/episodes/14310/rick-and...</td>\n",
       "      <td>Anatomy Park</td>\n",
       "      <td>1</td>\n",
       "      <td>3</td>\n",
       "      <td>regular</td>\n",
       "      <td>2013-12-16</td>\n",
       "      <td>22:30</td>\n",
       "      <td>2013-12-17T03:30:00+00:00</td>\n",
       "      <td>30</td>\n",
       "      <td>{'average': 9}</td>\n",
       "      <td>{'medium': 'https://static.tvmaze.com/uploads/...</td>\n",
       "      <td>&lt;p&gt;It's around Christmas time and Jerry's pare...</td>\n",
       "      <td>{'self': {'href': 'https://api.tvmaze.com/epis...</td>\n",
       "    </tr>\n",
       "    <tr>\n",
       "      <th>3</th>\n",
       "      <td>14311</td>\n",
       "      <td>https://www.tvmaze.com/episodes/14311/rick-and...</td>\n",
       "      <td>M. Night Shaym-Aliens!</td>\n",
       "      <td>1</td>\n",
       "      <td>4</td>\n",
       "      <td>regular</td>\n",
       "      <td>2014-01-13</td>\n",
       "      <td>22:30</td>\n",
       "      <td>2014-01-14T03:30:00+00:00</td>\n",
       "      <td>30</td>\n",
       "      <td>{'average': 9}</td>\n",
       "      <td>{'medium': 'https://static.tvmaze.com/uploads/...</td>\n",
       "      <td>&lt;p&gt;Rick and Morty try to get to the bottom of ...</td>\n",
       "      <td>{'self': {'href': 'https://api.tvmaze.com/epis...</td>\n",
       "    </tr>\n",
       "    <tr>\n",
       "      <th>4</th>\n",
       "      <td>14312</td>\n",
       "      <td>https://www.tvmaze.com/episodes/14312/rick-and...</td>\n",
       "      <td>Meeseeks and Destroy</td>\n",
       "      <td>1</td>\n",
       "      <td>5</td>\n",
       "      <td>regular</td>\n",
       "      <td>2014-01-20</td>\n",
       "      <td>22:30</td>\n",
       "      <td>2014-01-21T03:30:00+00:00</td>\n",
       "      <td>30</td>\n",
       "      <td>{'average': 9}</td>\n",
       "      <td>{'medium': 'https://static.tvmaze.com/uploads/...</td>\n",
       "      <td>&lt;p&gt;Rick provides the family with a solution to...</td>\n",
       "      <td>{'self': {'href': 'https://api.tvmaze.com/epis...</td>\n",
       "    </tr>\n",
       "  </tbody>\n",
       "</table>\n",
       "</div>"
      ],
      "text/plain": [
       "      id                                                url  \\\n",
       "0  14308  https://www.tvmaze.com/episodes/14308/rick-and...   \n",
       "1  14309  https://www.tvmaze.com/episodes/14309/rick-and...   \n",
       "2  14310  https://www.tvmaze.com/episodes/14310/rick-and...   \n",
       "3  14311  https://www.tvmaze.com/episodes/14311/rick-and...   \n",
       "4  14312  https://www.tvmaze.com/episodes/14312/rick-and...   \n",
       "\n",
       "                     name  season  number     type     airdate airtime  \\\n",
       "0                   Pilot       1       1  regular  2013-12-02   22:30   \n",
       "1           Lawnmower Dog       1       2  regular  2013-12-09   22:30   \n",
       "2            Anatomy Park       1       3  regular  2013-12-16   22:30   \n",
       "3  M. Night Shaym-Aliens!       1       4  regular  2014-01-13   22:30   \n",
       "4    Meeseeks and Destroy       1       5  regular  2014-01-20   22:30   \n",
       "\n",
       "                    airstamp  runtime            rating  \\\n",
       "0  2013-12-03T03:30:00+00:00       30  {'average': 8.6}   \n",
       "1  2013-12-10T03:30:00+00:00       30  {'average': 8.9}   \n",
       "2  2013-12-17T03:30:00+00:00       30    {'average': 9}   \n",
       "3  2014-01-14T03:30:00+00:00       30    {'average': 9}   \n",
       "4  2014-01-21T03:30:00+00:00       30    {'average': 9}   \n",
       "\n",
       "                                               image  \\\n",
       "0  {'medium': 'https://static.tvmaze.com/uploads/...   \n",
       "1  {'medium': 'https://static.tvmaze.com/uploads/...   \n",
       "2  {'medium': 'https://static.tvmaze.com/uploads/...   \n",
       "3  {'medium': 'https://static.tvmaze.com/uploads/...   \n",
       "4  {'medium': 'https://static.tvmaze.com/uploads/...   \n",
       "\n",
       "                                             summary  \\\n",
       "0  <p>Rick takes Morty to another dimension to ge...   \n",
       "1  <p>Morty's small, white dog Snuffles gets on t...   \n",
       "2  <p>It's around Christmas time and Jerry's pare...   \n",
       "3  <p>Rick and Morty try to get to the bottom of ...   \n",
       "4  <p>Rick provides the family with a solution to...   \n",
       "\n",
       "                                              _links  \n",
       "0  {'self': {'href': 'https://api.tvmaze.com/epis...  \n",
       "1  {'self': {'href': 'https://api.tvmaze.com/epis...  \n",
       "2  {'self': {'href': 'https://api.tvmaze.com/epis...  \n",
       "3  {'self': {'href': 'https://api.tvmaze.com/epis...  \n",
       "4  {'self': {'href': 'https://api.tvmaze.com/epis...  "
      ]
     },
     "execution_count": 9,
     "metadata": {},
     "output_type": "execute_result"
    }
   ],
   "source": [
    "df = pd.DataFrame.from_records(data[\"_embedded\"][\"episodes\"])\n",
    "df.head()"
   ]
  },
  {
   "cell_type": "code",
   "execution_count": 10,
   "id": "4bbb1f33-24f0-4ebb-bdba-d06a81f61242",
   "metadata": {},
   "outputs": [
    {
     "data": {
      "text/plain": [
       "51"
      ]
     },
     "execution_count": 10,
     "metadata": {},
     "output_type": "execute_result"
    }
   ],
   "source": [
    "len(df)"
   ]
  },
  {
   "cell_type": "code",
   "execution_count": 11,
   "id": "2022104e-5469-4db8-9b0d-e7c80ce6282f",
   "metadata": {},
   "outputs": [
    {
     "data": {
      "text/plain": [
       "season\n",
       "1    11\n",
       "2    10\n",
       "3    10\n",
       "4    10\n",
       "5    10\n",
       "dtype: int64"
      ]
     },
     "execution_count": 11,
     "metadata": {},
     "output_type": "execute_result"
    }
   ],
   "source": [
    "df.groupby(\"season\").size()"
   ]
  },
  {
   "cell_type": "code",
   "execution_count": 12,
   "id": "dec90088-7e30-4b07-afdd-9e0383944906",
   "metadata": {},
   "outputs": [
    {
     "data": {
      "text/plain": [
       "count    51.000000\n",
       "mean      8.876471\n",
       "std       0.465441\n",
       "min       7.500000\n",
       "25%       8.600000\n",
       "50%       9.000000\n",
       "75%       9.200000\n",
       "max       9.800000\n",
       "Name: rating, dtype: float64"
      ]
     },
     "execution_count": 12,
     "metadata": {},
     "output_type": "execute_result"
    }
   ],
   "source": [
    "df[\"rating\"].str[\"average\"].describe()"
   ]
  },
  {
   "cell_type": "markdown",
   "id": "773ff682-6995-4a1e-ae40-90b1c023d4f8",
   "metadata": {},
   "source": [
    "Extra trick with Python `collections`:"
   ]
  },
  {
   "cell_type": "code",
   "execution_count": 13,
   "id": "3f961fb7-5296-4cee-b25a-ea9dd954e479",
   "metadata": {},
   "outputs": [],
   "source": [
    "from collections import Counter"
   ]
  },
  {
   "cell_type": "code",
   "execution_count": 14,
   "id": "1b50192b-686a-43b0-87ed-6c7e06197cf7",
   "metadata": {},
   "outputs": [
    {
     "data": {
      "text/plain": [
       "[('a', 42),\n",
       " ('to', 37),\n",
       " ('Rick', 34),\n",
       " ('and', 34),\n",
       " ('Morty', 28),\n",
       " ('the', 25),\n",
       " ('in', 22),\n",
       " ('of', 21),\n",
       " ('broh.', 14),\n",
       " ('on', 13),\n",
       " ('with', 12),\n",
       " ('Jerry', 10),\n",
       " ('his', 9),\n",
       " ('an', 8),\n",
       " ('their', 8)]"
      ]
     },
     "execution_count": 14,
     "metadata": {},
     "output_type": "execute_result"
    }
   ],
   "source": [
    "summaries = df[\"summary\"].str.replace(\"<p>\", \"\").str.replace(\"</p>\", \"\").tolist()\n",
    "\n",
    "word_counts = Counter(\" \".join(summaries).split())\n",
    "\n",
    "word_counts.most_common(15)"
   ]
  },
  {
   "cell_type": "code",
   "execution_count": 15,
   "id": "35a45768-6844-4e88-bc04-86832e4c14a6",
   "metadata": {},
   "outputs": [
    {
     "data": {
      "text/plain": [
       "[('Rick', 34),\n",
       " ('Morty', 28),\n",
       " ('broh.', 14),\n",
       " ('Jerry', 10),\n",
       " ('new', 7),\n",
       " ('gets', 5),\n",
       " ('family', 5),\n",
       " ('Beth', 5),\n",
       " ('takes', 4),\n",
       " (\"It's\", 4),\n",
       " ('The', 4),\n",
       " (\"Morty's\", 3),\n",
       " ('time', 3),\n",
       " ('Rick.', 3),\n",
       " ('adventure', 3)]"
      ]
     },
     "execution_count": 15,
     "metadata": {},
     "output_type": "execute_result"
    }
   ],
   "source": [
    "clean_word_counts = Counter({\n",
    "    word: count\n",
    "    for word, count in word_counts.items()\n",
    "    if word not in ENGLISH_STOP_WORDS\n",
    "})\n",
    "\n",
    "clean_word_counts.most_common(15)"
   ]
  },
  {
   "cell_type": "code",
   "execution_count": null,
   "id": "4a914120-b40b-4819-97be-a3b6072bfceb",
   "metadata": {},
   "outputs": [],
   "source": []
  }
 ],
 "metadata": {
  "kernelspec": {
   "display_name": "Python 3 (ipykernel)",
   "language": "python",
   "name": "python3"
  },
  "language_info": {
   "codemirror_mode": {
    "name": "ipython",
    "version": 3
   },
   "file_extension": ".py",
   "mimetype": "text/x-python",
   "name": "python",
   "nbconvert_exporter": "python",
   "pygments_lexer": "ipython3",
   "version": "3.9.12"
  }
 },
 "nbformat": 4,
 "nbformat_minor": 5
}
