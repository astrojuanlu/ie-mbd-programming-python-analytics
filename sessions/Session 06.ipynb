{
 "cells": [
  {
   "cell_type": "markdown",
   "metadata": {},
   "source": [
    "# Session 06"
   ]
  },
  {
   "cell_type": "markdown",
   "metadata": {},
   "source": [
    "## Dictionaries"
   ]
  },
  {
   "cell_type": "markdown",
   "metadata": {},
   "source": [
    "After covering tuples and lists, the last essential data structure are dictionaries. Dictionaries are mappings between keys and values:"
   ]
  },
  {
   "cell_type": "code",
   "execution_count": 1,
   "metadata": {},
   "outputs": [
    {
     "data": {
      "text/plain": [
       "{'key_1': 'A', 'key_2': 'B', 'key_3': 'C'}"
      ]
     },
     "execution_count": 1,
     "metadata": {},
     "output_type": "execute_result"
    }
   ],
   "source": [
    "my_dictionary = {\n",
    "    \"key_1\": \"A\",\n",
    "    \"key_2\": \"B\",\n",
    "    \"key_3\": \"C\",\n",
    "}\n",
    "my_dictionary"
   ]
  },
  {
   "cell_type": "markdown",
   "metadata": {},
   "source": [
    "The keys and the values of the dictionary can be extracted separately:"
   ]
  },
  {
   "cell_type": "code",
   "execution_count": 2,
   "metadata": {},
   "outputs": [
    {
     "data": {
      "text/plain": [
       "dict_keys(['key_1', 'key_2', 'key_3'])"
      ]
     },
     "execution_count": 2,
     "metadata": {},
     "output_type": "execute_result"
    }
   ],
   "source": [
    "my_dictionary.keys()"
   ]
  },
  {
   "cell_type": "code",
   "execution_count": 3,
   "metadata": {},
   "outputs": [
    {
     "data": {
      "text/plain": [
       "dict_values(['A', 'B', 'C'])"
      ]
     },
     "execution_count": 3,
     "metadata": {},
     "output_type": "execute_result"
    }
   ],
   "source": [
    "my_dictionary.values()"
   ]
  },
  {
   "cell_type": "markdown",
   "metadata": {},
   "source": [
    "And `.items()` can be used to extract pairs of `(key, value)`:"
   ]
  },
  {
   "cell_type": "code",
   "execution_count": 4,
   "metadata": {},
   "outputs": [
    {
     "data": {
      "text/plain": [
       "dict_items([('key_1', 'A'), ('key_2', 'B'), ('key_3', 'C')])"
      ]
     },
     "execution_count": 4,
     "metadata": {},
     "output_type": "execute_result"
    }
   ],
   "source": [
    "my_dictionary.items()"
   ]
  },
  {
   "cell_type": "markdown",
   "metadata": {},
   "source": [
    "While sequences are indexed by position, dictionaries are indexed by key:"
   ]
  },
  {
   "cell_type": "code",
   "execution_count": 5,
   "metadata": {},
   "outputs": [
    {
     "data": {
      "text/plain": [
       "'A'"
      ]
     },
     "execution_count": 5,
     "metadata": {},
     "output_type": "execute_result"
    }
   ],
   "source": [
    "my_dictionary[\"key_1\"]"
   ]
  },
  {
   "cell_type": "markdown",
   "metadata": {},
   "source": [
    "Dictionaries are mutable, which means that you can add new keys or mutate existing values:"
   ]
  },
  {
   "cell_type": "code",
   "execution_count": 6,
   "metadata": {},
   "outputs": [
    {
     "data": {
      "text/plain": [
       "{'key_1': 'a', 'key_2': 'B', 'key_3': 'C', 'key_4': 'D'}"
      ]
     },
     "execution_count": 6,
     "metadata": {},
     "output_type": "execute_result"
    }
   ],
   "source": [
    "my_dictionary[\"key_4\"] = \"D\"\n",
    "my_dictionary[\"key_1\"] = \"a\"\n",
    "my_dictionary"
   ]
  },
  {
   "cell_type": "markdown",
   "metadata": {},
   "source": [
    "Only immutable objects can be keys:"
   ]
  },
  {
   "cell_type": "code",
   "execution_count": 7,
   "metadata": {},
   "outputs": [
    {
     "ename": "TypeError",
     "evalue": "unhashable type: 'list'",
     "output_type": "error",
     "traceback": [
      "\u001b[0;31m---------------------------------------------------------------------------\u001b[0m",
      "\u001b[0;31mTypeError\u001b[0m                                 Traceback (most recent call last)",
      "Input \u001b[0;32mIn [7]\u001b[0m, in \u001b[0;36m<cell line: 1>\u001b[0;34m()\u001b[0m\n\u001b[0;32m----> 1\u001b[0m my_dictionary[[\u001b[38;5;241m0\u001b[39m]] \u001b[38;5;241m=\u001b[39m \u001b[38;5;124m\"\u001b[39m\u001b[38;5;124mZero\u001b[39m\u001b[38;5;124m\"\u001b[39m\n",
      "\u001b[0;31mTypeError\u001b[0m: unhashable type: 'list'"
     ]
    }
   ],
   "source": [
    "my_dictionary[[0]] = \"Zero\""
   ]
  },
  {
   "cell_type": "markdown",
   "metadata": {},
   "source": [
    "There are three ways to iterate a dictionary: over its keys, over its values, or both:"
   ]
  },
  {
   "cell_type": "code",
   "execution_count": 8,
   "metadata": {},
   "outputs": [
    {
     "name": "stdout",
     "output_type": "stream",
     "text": [
      "key_1\n",
      "key_2\n",
      "key_3\n",
      "key_4\n"
     ]
    }
   ],
   "source": [
    "for key in my_dictionary:\n",
    "    print(key)"
   ]
  },
  {
   "cell_type": "code",
   "execution_count": 9,
   "metadata": {},
   "outputs": [
    {
     "name": "stdout",
     "output_type": "stream",
     "text": [
      "a\n",
      "B\n",
      "C\n",
      "D\n"
     ]
    }
   ],
   "source": [
    "for value in my_dictionary.values():\n",
    "    print(value)"
   ]
  },
  {
   "cell_type": "code",
   "execution_count": 10,
   "metadata": {},
   "outputs": [
    {
     "name": "stdout",
     "output_type": "stream",
     "text": [
      "key_1 : a\n",
      "key_2 : B\n",
      "key_3 : C\n",
      "key_4 : D\n"
     ]
    }
   ],
   "source": [
    "for key, value in my_dictionary.items():\n",
    "    print(key, \":\", value)"
   ]
  },
  {
   "cell_type": "markdown",
   "metadata": {},
   "source": [
    "Dictionaries, lists, and tuples can be arbitrarily nested. For example, this is an excerpt of a tweet represented as JSON data (see `data/twitter_data.json`):"
   ]
  },
  {
   "cell_type": "code",
   "execution_count": 11,
   "metadata": {},
   "outputs": [],
   "source": [
    "data = [\n",
    "    {\n",
    "        \"created_at\": \"Wed Apr 22 06:04:57 +0000 2020\",\n",
    "        \"entities\": {\n",
    "            \"hashtags\": [\n",
    "                {\n",
    "                    \"text\": \"balboaisland\",\n",
    "                    \"indices\": [\n",
    "                        21,\n",
    "                        34\n",
    "                    ]\n",
    "                },\n",
    "                {\n",
    "                    \"text\": \"newportbeach\",\n",
    "                    \"indices\": [\n",
    "                        35,\n",
    "                        48\n",
    "                    ]\n",
    "                },\n",
    "            ]\n",
    "        }\n",
    "    }\n",
    "]"
   ]
  },
  {
   "cell_type": "code",
   "execution_count": 12,
   "metadata": {},
   "outputs": [
    {
     "data": {
      "text/plain": [
       "[21, 34]"
      ]
     },
     "execution_count": 12,
     "metadata": {},
     "output_type": "execute_result"
    }
   ],
   "source": [
    "data[0][\"entities\"][\"hashtags\"][0][\"indices\"]"
   ]
  },
  {
   "cell_type": "markdown",
   "metadata": {},
   "source": [
    "_Those are lists inside dictionaries inside lists inside dictionaries inside dictionaries inside a list._"
   ]
  },
  {
   "cell_type": "markdown",
   "metadata": {},
   "source": [
    "## Sets"
   ]
  },
  {
   "cell_type": "markdown",
   "metadata": {},
   "source": [
    "Sets are not so common, but very handy for some use cases: they are an unordered collection of unique elements. This means that they can't contain duplicates:"
   ]
  },
  {
   "cell_type": "code",
   "execution_count": 13,
   "metadata": {},
   "outputs": [
    {
     "data": {
      "text/plain": [
       "{'a', 'b', 'c', 'd'}"
      ]
     },
     "execution_count": 13,
     "metadata": {},
     "output_type": "execute_result"
    }
   ],
   "source": [
    "my_set = {\"a\", \"b\", \"c\", \"c\", \"c\", \"c\", \"d\", \"d\"}\n",
    "my_set"
   ]
  },
  {
   "cell_type": "markdown",
   "metadata": {},
   "source": [
    "Since they are unordered, they cannot be indexed:"
   ]
  },
  {
   "cell_type": "code",
   "execution_count": 14,
   "metadata": {},
   "outputs": [
    {
     "ename": "TypeError",
     "evalue": "'set' object is not subscriptable",
     "output_type": "error",
     "traceback": [
      "\u001b[0;31m---------------------------------------------------------------------------\u001b[0m",
      "\u001b[0;31mTypeError\u001b[0m                                 Traceback (most recent call last)",
      "Input \u001b[0;32mIn [14]\u001b[0m, in \u001b[0;36m<cell line: 1>\u001b[0;34m()\u001b[0m\n\u001b[0;32m----> 1\u001b[0m \u001b[43mmy_set\u001b[49m\u001b[43m[\u001b[49m\u001b[38;5;241;43m0\u001b[39;49m\u001b[43m]\u001b[49m\n",
      "\u001b[0;31mTypeError\u001b[0m: 'set' object is not subscriptable"
     ]
    }
   ],
   "source": [
    "my_set[0]"
   ]
  },
  {
   "cell_type": "markdown",
   "metadata": {},
   "source": [
    "But they can be operated together:\n",
    "\n",
    "![Venn diagram](../img/venn-diagram.png)"
   ]
  },
  {
   "cell_type": "code",
   "execution_count": 15,
   "metadata": {},
   "outputs": [
    {
     "data": {
      "text/plain": [
       "{'a', 'b', 'c'}"
      ]
     },
     "execution_count": 15,
     "metadata": {},
     "output_type": "execute_result"
    }
   ],
   "source": [
    "# Union\n",
    "{\"a\", \"b\"} | {\"b\", \"c\"}"
   ]
  },
  {
   "cell_type": "code",
   "execution_count": 16,
   "metadata": {},
   "outputs": [
    {
     "data": {
      "text/plain": [
       "{'b'}"
      ]
     },
     "execution_count": 16,
     "metadata": {},
     "output_type": "execute_result"
    }
   ],
   "source": [
    "# Intersection\n",
    "{\"a\", \"b\"} & {\"b\", \"c\"}"
   ]
  },
  {
   "cell_type": "code",
   "execution_count": 17,
   "metadata": {},
   "outputs": [
    {
     "data": {
      "text/plain": [
       "{'a'}"
      ]
     },
     "execution_count": 17,
     "metadata": {},
     "output_type": "execute_result"
    }
   ],
   "source": [
    "# Difference\n",
    "{\"a\", \"b\"} - {\"b\", \"c\"}"
   ]
  },
  {
   "cell_type": "code",
   "execution_count": 18,
   "metadata": {},
   "outputs": [
    {
     "data": {
      "text/plain": [
       "{'a', 'c'}"
      ]
     },
     "execution_count": 18,
     "metadata": {},
     "output_type": "execute_result"
    }
   ],
   "source": [
    "# Exclusive disjunction\n",
    "{\"a\", \"b\"} ^ {\"b\", \"c\"}"
   ]
  },
  {
   "cell_type": "markdown",
   "metadata": {},
   "source": [
    "And iterated:"
   ]
  },
  {
   "cell_type": "code",
   "execution_count": 19,
   "metadata": {},
   "outputs": [
    {
     "name": "stdout",
     "output_type": "stream",
     "text": [
      "a\n",
      "b\n",
      "c\n"
     ]
    }
   ],
   "source": [
    "for element in {\"a\", \"b\"} | {\"b\", \"c\"}:\n",
    "    print(element)"
   ]
  },
  {
   "cell_type": "markdown",
   "metadata": {},
   "source": [
    "<div class=\"alert alert-warning\">Remember: sets are unordered! So iterating them will yield the elements, but the order can't be guaranteed.</div>"
   ]
  },
  {
   "cell_type": "markdown",
   "metadata": {
    "tags": []
   },
   "source": [
    "## List, dictionary, and set comprehensions"
   ]
  },
  {
   "cell_type": "markdown",
   "metadata": {},
   "source": [
    "Python provides a compact way of creating containers without using the usual `for` loops covered so far: comprehensions. This list comprehension:"
   ]
  },
  {
   "cell_type": "code",
   "execution_count": 20,
   "metadata": {},
   "outputs": [
    {
     "data": {
      "text/plain": [
       "[0, 1, 4, 9, 16]"
      ]
     },
     "execution_count": 20,
     "metadata": {},
     "output_type": "execute_result"
    }
   ],
   "source": [
    "my_list = [number ** 2 for number in range(5)]\n",
    "my_list"
   ]
  },
  {
   "cell_type": "markdown",
   "metadata": {},
   "source": [
    "Is equivalent to this code block:"
   ]
  },
  {
   "cell_type": "code",
   "execution_count": 21,
   "metadata": {},
   "outputs": [
    {
     "data": {
      "text/plain": [
       "[0, 1, 4, 9, 16]"
      ]
     },
     "execution_count": 21,
     "metadata": {},
     "output_type": "execute_result"
    }
   ],
   "source": [
    "my_list = []\n",
    "for number in range(5):\n",
    "    my_list.append(number ** 2)\n",
    "my_list"
   ]
  },
  {
   "cell_type": "markdown",
   "metadata": {},
   "source": [
    "A similar syntax works for dictionaries and sets:"
   ]
  },
  {
   "cell_type": "code",
   "execution_count": 22,
   "metadata": {},
   "outputs": [
    {
     "data": {
      "text/plain": [
       "{'a': 0, 'b': 1, 'c': 2, 'd': 3, 'e': 4}"
      ]
     },
     "execution_count": 22,
     "metadata": {},
     "output_type": "execute_result"
    }
   ],
   "source": [
    "{letter: number for number, letter in enumerate(\"abcde\")}"
   ]
  },
  {
   "cell_type": "code",
   "execution_count": 23,
   "metadata": {},
   "outputs": [
    {
     "data": {
      "text/plain": [
       "{'a', 'complete', 'is', 'sentence', 'this'}"
      ]
     },
     "execution_count": 23,
     "metadata": {},
     "output_type": "execute_result"
    }
   ],
   "source": [
    "{word.lower() for word in \"This is a complete sentence\".split()}"
   ]
  },
  {
   "cell_type": "markdown",
   "metadata": {},
   "source": [
    "<div class=\"alert alert-warning\">Using parentheses does not generate a \"tuple comprehension\", but a totally different thing: a generator expression. We will not cover generators in this course.</div>"
   ]
  },
  {
   "cell_type": "code",
   "execution_count": 24,
   "metadata": {},
   "outputs": [
    {
     "data": {
      "text/plain": [
       "<generator object <genexpr> at 0x7f44c53bd040>"
      ]
     },
     "execution_count": 24,
     "metadata": {},
     "output_type": "execute_result"
    }
   ],
   "source": [
    "(number ** 2 for number in range(5))"
   ]
  },
  {
   "cell_type": "markdown",
   "metadata": {},
   "source": [
    "## Exercises"
   ]
  },
  {
   "cell_type": "markdown",
   "metadata": {},
   "source": [
    "### Twitter data\n",
    "\n",
    "The file `twitter_data.json` contains a subset of real tweets obtained from http://covid19research.site/geo-tagged_twitter_datasets/, with full metadata as retrieved by the Twitter API. These are the first 10 lines:\n",
    "\n",
    "```\n",
    "[\n",
    "  {\n",
    "    \"created_at\": \"Wed Apr 22 06:04:57 +0000 2020\",\n",
    "    \"id\": 1252840795737997317,\n",
    "    \"id_str\": \"1252840795737997317\",\n",
    "    \"text\": \"Tennis a la Balboa.\\n\\n#balboaisland #newportbeach #tennis #covid_19 #coronavirus #orangecounty #california\\u2026 https://t.co/px1GCH1bgZ\",\n",
    "    \"truncated\": true,\n",
    "    \"entities\": {\n",
    "      \"hashtags\": [\n",
    "        {\n",
    "```\n",
    "\n",
    "You can load it as a list of dictionaries using the code below."
   ]
  },
  {
   "cell_type": "code",
   "execution_count": 25,
   "metadata": {},
   "outputs": [
    {
     "name": "stdout",
     "output_type": "stream",
     "text": [
      "<class 'list'> 9\n"
     ]
    }
   ],
   "source": [
    "import requests\n",
    "\n",
    "DATA_URL = (\n",
    "    \"https://github.com/astrojuanlu/ie-mbd-python-data-analysis-i/\"\n",
    "    \"raw/main/data/twitter_data.json\"\n",
    ")\n",
    "\n",
    "data = requests.get(DATA_URL).json()\n",
    "print(type(data), len(data))"
   ]
  },
  {
   "cell_type": "markdown",
   "metadata": {},
   "source": [
    "### 1. Print hashtags\n",
    "\n",
    "Save the first tweet of the list in a separate variable called `first_tweet`, and print its ID (stored in the `id` key) and all its hashtags (stored in the `entities` key).\n",
    "\n",
    "Expected result:\n",
    "\n",
    "```\n",
    "1252840795737997317\n",
    "#balboaisland\n",
    "#newportbeach\n",
    "#tennis\n",
    "#covid_19\n",
    "#coronavirus\n",
    "#orangecounty\n",
    "#california\n",
    "```"
   ]
  },
  {
   "cell_type": "markdown",
   "metadata": {},
   "source": [
    "### 2. Function `print_tweet`\n",
    "\n",
    "Wrap the logic from the previous exercise in a function `print_tweet(tweet)` that takes a dictionary representing a single tweet. Then call it for all the tweets in `data`."
   ]
  },
  {
   "cell_type": "code",
   "execution_count": 27,
   "metadata": {},
   "outputs": [
    {
     "name": "stdout",
     "output_type": "stream",
     "text": [
      "1252840795737997317\n",
      "#balboaisland\n",
      "#newportbeach\n",
      "#tennis\n",
      "#covid_19\n",
      "#coronavirus\n",
      "#orangecounty\n",
      "#california\n",
      "1256259052461592580\n",
      "#Repost\n",
      "1256459430129885184\n",
      "#ThisWeekend\n",
      "#la\n",
      "#LosAngeles\n",
      "#activities\n",
      "#lockdown\n",
      "1256459484521615362\n",
      "1258334628345044992\n",
      "#COVID19\n",
      "#Protesters\n",
      "1253472356476940290\n",
      "1253472297144299520\n",
      "1254774730529243136\n",
      "1258172892077912064\n"
     ]
    }
   ],
   "source": [
    "for tweet in data:\n",
    "    print_tweet(tweet)"
   ]
  },
  {
   "cell_type": "markdown",
   "metadata": {
    "tags": []
   },
   "source": [
    "### 3. Check hashtags\n",
    "\n",
    "Write a function `has_hashtags` that takes a single tweet and returns `True` if the list of hashtags is non-empty (has length larger than zero), `False` otherwise. Then iterate over all the tweets in `data` and call `has_hashtags` for all of them."
   ]
  },
  {
   "cell_type": "code",
   "execution_count": 29,
   "metadata": {},
   "outputs": [
    {
     "name": "stdout",
     "output_type": "stream",
     "text": [
      "1252840795737997317 True\n",
      "1256259052461592580 True\n",
      "1256459430129885184 True\n",
      "1256459484521615362 False\n",
      "1258334628345044992 True\n",
      "1253472356476940290 False\n",
      "1253472297144299520 False\n",
      "1254774730529243136 False\n",
      "1258172892077912064 False\n"
     ]
    }
   ],
   "source": [
    "for tweet in data:\n",
    "    print(tweet[\"id\"], has_hashtags(tweet))"
   ]
  },
  {
   "cell_type": "markdown",
   "metadata": {
    "tags": []
   },
   "source": [
    "### 4. Improve `print_tweet`\n",
    "\n",
    "Modify `print_tweet` so that, if no hashtags are found, it prints `(no hashtags)`. Use the `has_hashtags` function above."
   ]
  },
  {
   "cell_type": "code",
   "execution_count": 31,
   "metadata": {},
   "outputs": [
    {
     "name": "stdout",
     "output_type": "stream",
     "text": [
      "1258334628345044992\n",
      "#COVID19\n",
      "#Protesters\n"
     ]
    }
   ],
   "source": [
    "print_tweet(data[4])"
   ]
  },
  {
   "cell_type": "code",
   "execution_count": 32,
   "metadata": {},
   "outputs": [
    {
     "name": "stdout",
     "output_type": "stream",
     "text": [
      "1253472356476940290\n",
      "(no hashtags)\n"
     ]
    }
   ],
   "source": [
    "print_tweet(data[5])"
   ]
  },
  {
   "cell_type": "markdown",
   "metadata": {},
   "source": [
    "### 5. Trimming tweets\n",
    "\n",
    "Write a function `trim_tweet(tweet)` that takes a dictionary representing a single tweet and returns a simpler dictionary, with keys `('id', 'text', 'favorite_count', 'retweet_count', 'has_hashtags', 'username', 'user_followers')`. Try to guess which fields of the original tweet you should use for each output key."
   ]
  },
  {
   "cell_type": "code",
   "execution_count": 34,
   "metadata": {},
   "outputs": [
    {
     "data": {
      "text/plain": [
       "{'id': 1252840795737997317,\n",
       " 'text': 'Tennis a la Balboa.\\n\\n#balboaisland #newportbeach #tennis #covid_19 #coronavirus #orangecounty #california… https://t.co/px1GCH1bgZ',\n",
       " 'favorite_count': 0,\n",
       " 'retweet_count': 0,\n",
       " 'has_hashtags': True,\n",
       " 'username': 'JoesNews_',\n",
       " 'user_followers': 46}"
      ]
     },
     "execution_count": 34,
     "metadata": {},
     "output_type": "execute_result"
    }
   ],
   "source": [
    "trim_tweet(data[0])"
   ]
  },
  {
   "cell_type": "markdown",
   "metadata": {},
   "source": [
    "### 6. Trimming the data"
   ]
  },
  {
   "cell_type": "markdown",
   "metadata": {},
   "source": [
    "Write a function `trim_data(tweet_list)` that receives a tweets list (like the original data) and returns another list of simplified tweets, by applying `trim_tweet` to each tweet in the list."
   ]
  },
  {
   "cell_type": "code",
   "execution_count": 36,
   "metadata": {},
   "outputs": [
    {
     "data": {
      "text/plain": [
       "[{'id': 1252840795737997317,\n",
       "  'text': 'Tennis a la Balboa.\\n\\n#balboaisland #newportbeach #tennis #covid_19 #coronavirus #orangecounty #california… https://t.co/px1GCH1bgZ',\n",
       "  'favorite_count': 0,\n",
       "  'retweet_count': 0,\n",
       "  'has_hashtags': True,\n",
       "  'username': 'JoesNews_',\n",
       "  'user_followers': 46},\n",
       " {'id': 1256259052461592580,\n",
       "  'text': '#Repost bandcamp\\n• • • • • •\\nTo keep supporting musicians during the Covid-19 pandemic, we are waiving our revenue… https://t.co/W7mJY3QPH0',\n",
       "  'favorite_count': 0,\n",
       "  'retweet_count': 0,\n",
       "  'has_hashtags': True,\n",
       "  'username': 'MagdaVegaSLC',\n",
       "  'user_followers': 84},\n",
       " {'id': 1256459430129885184,\n",
       "  'text': 'Things to Do (Inside) in L.A. #ThisWeekend https://t.co/DnsuwtVXbb via @LAMag\\n#la #LosAngeles #activities #lockdown… https://t.co/QvFjrEAfFj',\n",
       "  'favorite_count': 0,\n",
       "  'retweet_count': 0,\n",
       "  'has_hashtags': True,\n",
       "  'username': 'alistsocialent',\n",
       "  'user_followers': 68}]"
      ]
     },
     "execution_count": 36,
     "metadata": {},
     "output_type": "execute_result"
    }
   ],
   "source": [
    "trim_data(data[:3])"
   ]
  },
  {
   "cell_type": "markdown",
   "metadata": {},
   "source": [
    "### 7. Simple analytics on Twitter data\n",
    "\n",
    "Apply the `trim_data` function to the data and find **the mean favorite count of the tweets without hashtags written by people with more than 500 followers**.\n",
    "\n",
    "_Hint: The answer is around 16_"
   ]
  }
 ],
 "metadata": {
  "kernelspec": {
   "display_name": "Python 3 (ipykernel)",
   "language": "python",
   "name": "python3"
  },
  "language_info": {
   "codemirror_mode": {
    "name": "ipython",
    "version": 3
   },
   "file_extension": ".py",
   "mimetype": "text/x-python",
   "name": "python",
   "nbconvert_exporter": "python",
   "pygments_lexer": "ipython3",
   "version": "3.9.12"
  }
 },
 "nbformat": 4,
 "nbformat_minor": 4
}
