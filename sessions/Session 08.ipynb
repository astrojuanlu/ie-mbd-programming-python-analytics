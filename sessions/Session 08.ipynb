{
 "cells": [
  {
   "cell_type": "markdown",
   "metadata": {},
   "source": [
    "## Exercises"
   ]
  },
  {
   "cell_type": "markdown",
   "metadata": {},
   "source": [
    "### 1. Process a data line\n",
    "\n",
    "Create a function `process_line` that receives a string like\n",
    "\n",
    "```\n",
    "\"1,22,male,10.5\"\n",
    "```\n",
    "\n",
    "and returns a tuple like this:\n",
    "\n",
    "```\n",
    "(1, 22, 'male', 10.5)\n",
    "```\n",
    "\n",
    "### 2. Manually read a `.csv` file\n",
    "\n",
    "Given the `clients.csv` file:\n",
    "\n",
    "```\n",
    "id,age,sex,average_consumption_gb\n",
    "1,22,male,10.5\n",
    "2,40,female,5.5\n",
    "3,55,male,7.5\n",
    "```\n",
    "\n",
    "write a function that:\n",
    "\n",
    "- Receives a file handle (therefore, the file is opened from the outside)\n",
    "- Processes each line _that is not the header_ and convert it to a tuple using `process_line` (hint: skip the first line by using `enumerate`)\n",
    "- Returns a list of tuples "
   ]
  }
 ],
 "metadata": {
  "kernelspec": {
   "display_name": "Python 3",
   "language": "python",
   "name": "python3"
  },
  "language_info": {
   "codemirror_mode": {
    "name": "ipython",
    "version": 3
   },
   "file_extension": ".py",
   "mimetype": "text/x-python",
   "name": "python",
   "nbconvert_exporter": "python",
   "pygments_lexer": "ipython3",
   "version": "3.8.10"
  }
 },
 "nbformat": 4,
 "nbformat_minor": 4
}
