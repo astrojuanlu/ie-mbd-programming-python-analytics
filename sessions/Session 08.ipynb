{
 "cells": [
  {
   "cell_type": "markdown",
   "metadata": {},
   "source": [
    "## Data\n",
    "\n",
    "| Id | Age (years) | Sex | Average monthly consumption (GB) |\n",
    "| --- | --- | --- | --- |\n",
    "| 1 | 40 | male | 10.2 |\n",
    "| 2 | 50 | female | 5.4 |\n",
    "| 3 | 23 | female | 8.0 |\n",
    "| 4 | 18 | male | 2.5 |"
   ]
  },
  {
   "cell_type": "markdown",
   "metadata": {},
   "source": [
    "## Exercises"
   ]
  },
  {
   "cell_type": "markdown",
   "metadata": {},
   "source": [
    "### 1. Compute the mean\n",
    "\n",
    "Create a function called `compute_mean` that receives a list of numerical values and computes the **mean**.\n",
    "\n",
    "### 2. Basic insights\n",
    "\n",
    "Create a function called `mean_consumption` that receives `clients_data` with the format above, and returns the **mean average consumption**."
   ]
  }
 ],
 "metadata": {
  "kernelspec": {
   "display_name": "Python 3",
   "language": "python",
   "name": "python3"
  },
  "language_info": {
   "codemirror_mode": {
    "name": "ipython",
    "version": 3
   },
   "file_extension": ".py",
   "mimetype": "text/x-python",
   "name": "python",
   "nbconvert_exporter": "python",
   "pygments_lexer": "ipython3",
   "version": "3.8.8"
  }
 },
 "nbformat": 4,
 "nbformat_minor": 4
}
