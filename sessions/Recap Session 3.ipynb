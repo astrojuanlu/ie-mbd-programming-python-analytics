{
 "cells": [
  {
   "cell_type": "code",
   "execution_count": 1,
   "id": "32c65ab5-ac59-4d38-afd5-620483b5e067",
   "metadata": {},
   "outputs": [],
   "source": [
    "import json"
   ]
  },
  {
   "cell_type": "code",
   "execution_count": 8,
   "id": "46e80577-a2c4-40aa-b239-9e8b4e7f3f6c",
   "metadata": {},
   "outputs": [],
   "source": [
    "with open(\"data/tenders.es.json\") as fh:\n",
    "    data = json.load(fh)"
   ]
  },
  {
   "cell_type": "code",
   "execution_count": 9,
   "id": "922d4c58-5ee7-4e9c-88ae-4631408b7c9d",
   "metadata": {},
   "outputs": [
    {
     "data": {
      "text/plain": [
       "dict"
      ]
     },
     "execution_count": 9,
     "metadata": {},
     "output_type": "execute_result"
    }
   ],
   "source": [
    "type(data)"
   ]
  },
  {
   "cell_type": "code",
   "execution_count": 10,
   "id": "40e6ef5a-f7ad-45e1-bb0f-c675276d6c48",
   "metadata": {},
   "outputs": [
    {
     "data": {
      "text/plain": [
       "dict_keys(['page_count', 'page_number', 'page_size', 'total', 'data'])"
      ]
     },
     "execution_count": 10,
     "metadata": {},
     "output_type": "execute_result"
    }
   ],
   "source": [
    "data.keys()"
   ]
  },
  {
   "cell_type": "code",
   "execution_count": 11,
   "id": "c7348baf-d7a9-46c4-85b2-14eca12c553c",
   "metadata": {},
   "outputs": [
    {
     "name": "stdout",
     "output_type": "stream",
     "text": [
      "page_count <class 'int'>\n",
      "page_number <class 'int'>\n",
      "page_size <class 'int'>\n",
      "total <class 'int'>\n",
      "data <class 'list'>\n"
     ]
    }
   ],
   "source": [
    "for key, value in data.items():\n",
    "    print(key, type(value))"
   ]
  },
  {
   "cell_type": "markdown",
   "id": "fa1fb324-5f9c-4985-84dc-1fd7a2007619",
   "metadata": {},
   "source": [
    "### Exercise 1\n",
    "\n",
    "Save the first tender in a variable `tender0` and print\n",
    "\n",
    "1. How many keys does it have,\n",
    "2. The type of the value corresponding to every key\n",
    "3. Which ones of these keys are dictionaries or lists?"
   ]
  },
  {
   "cell_type": "code",
   "execution_count": 15,
   "id": "3715ad29-2fc7-4cdc-8c7f-a5e2e5fac0e3",
   "metadata": {},
   "outputs": [
    {
     "data": {
      "text/plain": [
       "dict_keys(['page_count', 'page_number', 'page_size', 'total', 'data'])"
      ]
     },
     "execution_count": 15,
     "metadata": {},
     "output_type": "execute_result"
    }
   ],
   "source": [
    "data.keys()"
   ]
  },
  {
   "cell_type": "code",
   "execution_count": 16,
   "id": "6909381c-b5ff-48d0-b84a-c6c749bf34ed",
   "metadata": {},
   "outputs": [],
   "source": [
    "# data[0]"
   ]
  },
  {
   "cell_type": "code",
   "execution_count": 17,
   "id": "8c558393-0eba-4c50-a59d-88cc4d1630dc",
   "metadata": {},
   "outputs": [],
   "source": [
    "tender0 = data[\"data\"][0]"
   ]
  },
  {
   "cell_type": "code",
   "execution_count": 21,
   "id": "556eceb6-306b-4fc5-807b-d1e5e54fe050",
   "metadata": {},
   "outputs": [
    {
     "data": {
      "text/plain": [
       "11"
      ]
     },
     "execution_count": 21,
     "metadata": {},
     "output_type": "execute_result"
    }
   ],
   "source": [
    "len(tender0)"
   ]
  },
  {
   "cell_type": "code",
   "execution_count": 19,
   "id": "67019511-ce78-4ba6-b92b-c15dbb4e0aa2",
   "metadata": {},
   "outputs": [
    {
     "data": {
      "text/plain": [
       "11"
      ]
     },
     "execution_count": 19,
     "metadata": {},
     "output_type": "execute_result"
    }
   ],
   "source": [
    "len(tender0.keys())"
   ]
  },
  {
   "cell_type": "code",
   "execution_count": 20,
   "id": "f503b9e1-0b1d-4583-ae48-d3f2c32e423f",
   "metadata": {},
   "outputs": [
    {
     "name": "stdout",
     "output_type": "stream",
     "text": [
      "id <class 'str'>\n",
      "date <class 'str'>\n",
      "deadline_date <class 'str'>\n",
      "deadline_length_days <class 'str'>\n",
      "title <class 'str'>\n",
      "category <class 'str'>\n",
      "sid <class 'str'>\n",
      "src_url <class 'str'>\n",
      "purchaser <class 'dict'>\n",
      "type <class 'dict'>\n",
      "awarded <class 'list'>\n"
     ]
    }
   ],
   "source": [
    "for key, value in tender0.items():\n",
    "    print(key, type(value))"
   ]
  },
  {
   "cell_type": "code",
   "execution_count": 26,
   "id": "b7252ff8-f16b-47de-bd52-1eb52046d7ff",
   "metadata": {},
   "outputs": [],
   "source": [
    "# str(type(tender0)) == \"<class 'dict'>\""
   ]
  },
  {
   "cell_type": "code",
   "execution_count": 27,
   "id": "f5d8816e-b323-4c81-85ac-3d117bef7aba",
   "metadata": {},
   "outputs": [
    {
     "data": {
      "text/plain": [
       "True"
      ]
     },
     "execution_count": 27,
     "metadata": {},
     "output_type": "execute_result"
    }
   ],
   "source": [
    "type(tender0) == dict"
   ]
  },
  {
   "cell_type": "code",
   "execution_count": 43,
   "id": "f49ce472-7c8b-40be-95b5-3d6a2576d3ee",
   "metadata": {},
   "outputs": [
    {
     "data": {
      "text/plain": [
       "True"
      ]
     },
     "execution_count": 43,
     "metadata": {},
     "output_type": "execute_result"
    }
   ],
   "source": [
    "\"a\" in (\"a\", \"b\")"
   ]
  },
  {
   "cell_type": "code",
   "execution_count": null,
   "id": "5ab51f99-b97f-4b9c-bfeb-8623256c7658",
   "metadata": {},
   "outputs": [],
   "source": []
  },
  {
   "cell_type": "code",
   "execution_count": 31,
   "id": "76a679dd-6ac9-4745-83d0-060eeeb7f246",
   "metadata": {},
   "outputs": [
    {
     "data": {
      "text/plain": [
       "True"
      ]
     },
     "execution_count": 31,
     "metadata": {},
     "output_type": "execute_result"
    }
   ],
   "source": [
    "type([]) in (dict, list)"
   ]
  },
  {
   "cell_type": "code",
   "execution_count": 32,
   "id": "0abe29c9-99a6-4872-a634-cbb553b14ffe",
   "metadata": {},
   "outputs": [
    {
     "data": {
      "text/plain": [
       "True"
      ]
     },
     "execution_count": 32,
     "metadata": {},
     "output_type": "execute_result"
    }
   ],
   "source": [
    "type({}) in (dict, list)"
   ]
  },
  {
   "cell_type": "code",
   "execution_count": 53,
   "id": "386b6382-3eeb-47a4-9810-c16f8a47b662",
   "metadata": {},
   "outputs": [
    {
     "data": {
      "text/plain": [
       "\"<class 'list'>\""
      ]
     },
     "execution_count": 53,
     "metadata": {},
     "output_type": "execute_result"
    }
   ],
   "source": [
    "str(type([]))"
   ]
  },
  {
   "cell_type": "code",
   "execution_count": 46,
   "id": "79aa4517-c65b-46f7-96d1-9b05e0f7f65c",
   "metadata": {},
   "outputs": [
    {
     "data": {
      "text/plain": [
       "\"<class 'list'>\""
      ]
     },
     "execution_count": 46,
     "metadata": {},
     "output_type": "execute_result"
    }
   ],
   "source": [
    "list_type_str = str(type([]))\n",
    "list_type_str"
   ]
  },
  {
   "cell_type": "code",
   "execution_count": 49,
   "id": "6b4500cb-4a1d-4a0b-9388-2e2328e39ac1",
   "metadata": {},
   "outputs": [
    {
     "data": {
      "text/plain": [
       "['<class ', 'list', '>']"
      ]
     },
     "execution_count": 49,
     "metadata": {},
     "output_type": "execute_result"
    }
   ],
   "source": [
    "list_type_str.split(\"'\")"
   ]
  },
  {
   "cell_type": "code",
   "execution_count": 50,
   "id": "206628d5-fffe-41c6-b59e-3536efd63b53",
   "metadata": {},
   "outputs": [
    {
     "data": {
      "text/plain": [
       "'list'"
      ]
     },
     "execution_count": 50,
     "metadata": {},
     "output_type": "execute_result"
    }
   ],
   "source": [
    "_49[1]"
   ]
  },
  {
   "cell_type": "code",
   "execution_count": null,
   "id": "e45ce8fc-fb45-4901-a9a7-d21ab0a73517",
   "metadata": {},
   "outputs": [],
   "source": []
  },
  {
   "cell_type": "code",
   "execution_count": 45,
   "id": "6bf218fc-7823-4c0f-b34c-546d0179d1eb",
   "metadata": {},
   "outputs": [
    {
     "name": "stdout",
     "output_type": "stream",
     "text": [
      "purchaser\n",
      "type\n",
      "awarded\n"
     ]
    }
   ],
   "source": [
    "for key, value in tender0.items():\n",
    "    # if type(value) == dict or type(value) == list:\n",
    "    if type(value) in (dict, list):\n",
    "        print(key)"
   ]
  },
  {
   "cell_type": "code",
   "execution_count": 41,
   "id": "3efe7650-da51-4af5-85e2-5d8aebc23f73",
   "metadata": {},
   "outputs": [],
   "source": [
    "for key in tender0:\n",
    "    value = tender0[key]\n",
    "    ..."
   ]
  },
  {
   "cell_type": "code",
   "execution_count": 54,
   "id": "dbbf4ebb-8ac8-4e39-a42d-e7e648042d46",
   "metadata": {},
   "outputs": [
    {
     "data": {
      "text/plain": [
       "{'id': '1988', 'sid': None, 'name': None}"
      ]
     },
     "execution_count": 54,
     "metadata": {},
     "output_type": "execute_result"
    }
   ],
   "source": [
    "tender0[\"purchaser\"]"
   ]
  },
  {
   "cell_type": "code",
   "execution_count": 55,
   "id": "a5dc5179-4e70-4354-8e8b-0650e221493f",
   "metadata": {},
   "outputs": [
    {
     "data": {
      "text/plain": [
       "{'id': 'negotiated-without-publicity',\n",
       " 'name': 'Negotiated without publicity',\n",
       " 'slug': 'negotiated-without-publicity'}"
      ]
     },
     "execution_count": 55,
     "metadata": {},
     "output_type": "execute_result"
    }
   ],
   "source": [
    "tender0[\"type\"]"
   ]
  },
  {
   "cell_type": "code",
   "execution_count": 56,
   "id": "f220cfe7-775e-4f31-b51b-e7d76980f274",
   "metadata": {},
   "outputs": [
    {
     "data": {
      "text/plain": [
       "[{'date': '2021-06-29',\n",
       "  'value_for_two': 163560.4,\n",
       "  'suppliers_id': '156913',\n",
       "  'suppliers': [{'name': 'FUNDACIÓN PARA LA INVESTIGACIÓN BIOMÉDICA DEL HOSPITAL GREGORIO MARAÑÓN',\n",
       "    'id': '156913',\n",
       "    'slug': 'fundacion-para-la-investigacion-biomedica-del-hospital-gregorio-maranon'}],\n",
       "  'value_for_three': 163560.4,\n",
       "  'count': '1',\n",
       "  'offers_count': 1,\n",
       "  'value_for_one': 163560.4,\n",
       "  'suppliers_name': 'FUNDACIÓN PARA LA INVESTIGACIÓN BIOMÉDICA DEL HOSPITAL GREGORIO MARAÑÓN',\n",
       "  'value': '163560.40',\n",
       "  'offers_count_data': {'1': {'count': 1, 'value': '163560.40'}}}]"
      ]
     },
     "execution_count": 56,
     "metadata": {},
     "output_type": "execute_result"
    }
   ],
   "source": [
    "tender0[\"awarded\"]"
   ]
  },
  {
   "cell_type": "markdown",
   "id": "5ff4d067-8073-4fd8-87ed-7d7ba51c3fae",
   "metadata": {},
   "source": [
    "### Exercise 2\n",
    "\n",
    "Create a `set` of distinct type names.\n",
    "\n",
    "1. Store the tenders in a variable called `list_of_tenders`\n",
    "2. Start with an empty set\n",
    "3. For every tender in the list of tenders\n",
    "4. Store the type name in a variable called `type_name`\n",
    "5. Use the `.add` method of sets to add it"
   ]
  },
  {
   "cell_type": "code",
   "execution_count": 66,
   "id": "56f908fa-be0d-4e73-81ed-65b7cbbbb3be",
   "metadata": {},
   "outputs": [
    {
     "data": {
      "text/plain": [
       "(100, list)"
      ]
     },
     "execution_count": 66,
     "metadata": {},
     "output_type": "execute_result"
    }
   ],
   "source": [
    "list_of_tenders = data[\"data\"]\n",
    "len(list_of_tenders), type(list_of_tenders)"
   ]
  },
  {
   "cell_type": "code",
   "execution_count": 68,
   "id": "821ede1c-00b4-4249-bbc9-193adfb7a874",
   "metadata": {},
   "outputs": [
    {
     "data": {
      "text/plain": [
       "set()"
      ]
     },
     "execution_count": 68,
     "metadata": {},
     "output_type": "execute_result"
    }
   ],
   "source": [
    "set_of_type_names = set()\n",
    "set_of_type_names"
   ]
  },
  {
   "cell_type": "code",
   "execution_count": 74,
   "id": "f6cfc95d-3255-4973-b9e2-d4f4bf1551a2",
   "metadata": {},
   "outputs": [],
   "source": [
    "for tender in list_of_tenders:\n",
    "    type_name = tender[\"type\"][\"name\"]\n",
    "    set_of_type_names.add(type_name)"
   ]
  },
  {
   "cell_type": "code",
   "execution_count": 75,
   "id": "4958d2bd-1e99-4a83-89d6-62e43bee5c30",
   "metadata": {},
   "outputs": [
    {
     "data": {
      "text/plain": [
       "{'Autodefined',\n",
       " 'Contract based on a framework agreement',\n",
       " 'Negotiated without publicity',\n",
       " 'Open',\n",
       " 'Simplified open'}"
      ]
     },
     "execution_count": 75,
     "metadata": {},
     "output_type": "execute_result"
    }
   ],
   "source": [
    "set_of_type_names"
   ]
  },
  {
   "cell_type": "code",
   "execution_count": 83,
   "id": "8bf89ff3-0317-4039-a66f-b66a790fdf87",
   "metadata": {},
   "outputs": [],
   "source": [
    "list_of_type_names = []"
   ]
  },
  {
   "cell_type": "code",
   "execution_count": 86,
   "id": "8432999e-4cad-4de4-9535-66c5f3062338",
   "metadata": {},
   "outputs": [],
   "source": [
    "for tender in list_of_tenders:\n",
    "    type_name = tender[\"type\"][\"name\"]\n",
    "    list_of_type_names.append(type_name)"
   ]
  },
  {
   "cell_type": "code",
   "execution_count": 87,
   "id": "50a22d5c-7361-4398-b571-89c4f2c30633",
   "metadata": {},
   "outputs": [
    {
     "data": {
      "text/plain": [
       "{'Autodefined',\n",
       " 'Contract based on a framework agreement',\n",
       " 'Negotiated without publicity',\n",
       " 'Open',\n",
       " 'Simplified open'}"
      ]
     },
     "execution_count": 87,
     "metadata": {},
     "output_type": "execute_result"
    }
   ],
   "source": [
    "set(list_of_type_names)"
   ]
  },
  {
   "cell_type": "markdown",
   "id": "6e722028-88ad-49f7-88f6-907c725ba8bd",
   "metadata": {},
   "source": [
    "### Exercise 3\n",
    "\n",
    "Print how many \"negotiated without publicity\" tenders are there in the dataset."
   ]
  },
  {
   "cell_type": "code",
   "execution_count": 90,
   "id": "16a4b3fb-7928-4cfb-8b65-3a3fd0662e68",
   "metadata": {},
   "outputs": [
    {
     "data": {
      "text/plain": [
       "['Negotiated without publicity',\n",
       " 'Simplified open',\n",
       " 'Contract based on a framework agreement',\n",
       " 'Contract based on a framework agreement',\n",
       " 'Open']"
      ]
     },
     "execution_count": 90,
     "metadata": {},
     "output_type": "execute_result"
    }
   ],
   "source": [
    "list_of_type_names = [\n",
    "    tender[\"type\"][\"name\"]\n",
    "    for tender in list_of_tenders\n",
    "]  # List comprehension\n",
    "\n",
    "list_of_type_names[:5]"
   ]
  },
  {
   "cell_type": "code",
   "execution_count": 91,
   "id": "354d81d5-49db-483a-8fa9-5ce994d9154d",
   "metadata": {},
   "outputs": [
    {
     "data": {
      "text/plain": [
       "11"
      ]
     },
     "execution_count": 91,
     "metadata": {},
     "output_type": "execute_result"
    }
   ],
   "source": [
    "list_of_type_names.count(\"Negotiated without publicity\")"
   ]
  },
  {
   "cell_type": "code",
   "execution_count": 92,
   "id": "29ad9988-9f42-47ae-97f4-1dfddc05c5c7",
   "metadata": {},
   "outputs": [],
   "source": [
    "num_shady_tenders = 0\n",
    "for tender in list_of_tenders:\n",
    "    if tender[\"type\"][\"name\"] == \"Negotiated without publicity\":\n",
    "        num_shady_tenders += 1"
   ]
  },
  {
   "cell_type": "code",
   "execution_count": 93,
   "id": "bfaacc3b-def2-4c0c-be6c-d9d7b1096e6e",
   "metadata": {},
   "outputs": [
    {
     "data": {
      "text/plain": [
       "11"
      ]
     },
     "execution_count": 93,
     "metadata": {},
     "output_type": "execute_result"
    }
   ],
   "source": [
    "num_shady_tenders"
   ]
  },
  {
   "cell_type": "markdown",
   "id": "7cc274cd-99d8-40e3-bb3b-648d7840646f",
   "metadata": {},
   "source": [
    "### Exercise 4\n",
    "\n",
    "How many tenders are _of every category_? (\"category\" = type name)"
   ]
  }
 ],
 "metadata": {
  "kernelspec": {
   "display_name": "Python 3",
   "language": "python",
   "name": "python3"
  },
  "language_info": {
   "codemirror_mode": {
    "name": "ipython",
    "version": 3
   },
   "file_extension": ".py",
   "mimetype": "text/x-python",
   "name": "python",
   "nbconvert_exporter": "python",
   "pygments_lexer": "ipython3",
   "version": "3.8.8"
  }
 },
 "nbformat": 4,
 "nbformat_minor": 5
}
