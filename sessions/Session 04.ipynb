{
 "cells": [
  {
   "cell_type": "markdown",
   "metadata": {},
   "source": [
    "## Exercises"
   ]
  },
  {
   "cell_type": "markdown",
   "metadata": {},
   "source": [
    "### 1. Fizz buzz\n",
    "\n",
    "(Classical coding interview question)\n",
    "\n",
    "> Print all the numbers from 1 to 100, except that:\n",
    "> - If the number is divisible by 3, write Fizz instead of the number\n",
    "> - If the number is divisible by 5, write Buzz instead of the number\n",
    "> - If the number is divisible by 3 and 5 both, write FizzBuzz instead of the number"
   ]
  },
  {
   "cell_type": "markdown",
   "metadata": {},
   "source": [
    "### 2. Categorize our clients\n",
    "\n",
    "We want to categorize clients of our telecom company according to some features, and bucket them into 2 groups:\n",
    "\n",
    "- Women aged 20 to 25 (both included) or users with any gender younger than 20, in both cases with average monthly data consumption over 5 GB\n",
    "- Men aged 35 to 45 with average monthly data consumption between 2 and 5 GB, or women aged 30 to 40 with average monthly data consumption between 3 and 8 GB\n",
    "\n",
    "To what groups does each user belong?\n",
    "\n",
    "1. Store client data in a **list** of **dictionaries**\n",
    "2. Iterate over each client, and print whether or not they belong to group A, and same with group B\n",
    "\n",
    "| Id | Age (years) | Sex | Average monthly consumption (GB) |\n",
    "| --- | --- | --- | --- |\n",
    "| 1 | 40 | male | 10.2 |\n",
    "| 2 | 50 | female | 5.4 |\n",
    "| 3 | 23 | female | 8.0 |\n",
    "| 4 | 18 | male | 2.5 |"
   ]
  }
 ],
 "metadata": {
  "kernelspec": {
   "display_name": "Python 3",
   "language": "python",
   "name": "python3"
  },
  "language_info": {
   "codemirror_mode": {
    "name": "ipython",
    "version": 3
   },
   "file_extension": ".py",
   "mimetype": "text/x-python",
   "name": "python",
   "nbconvert_exporter": "python",
   "pygments_lexer": "ipython3",
   "version": "3.8.8"
  }
 },
 "nbformat": 4,
 "nbformat_minor": 4
}
