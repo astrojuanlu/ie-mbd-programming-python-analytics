{
 "cells": [
  {
   "cell_type": "markdown",
   "metadata": {},
   "source": [
    "# Session 04"
   ]
  },
  {
   "cell_type": "markdown",
   "metadata": {},
   "source": [
    "## User-defined functions"
   ]
  },
  {
   "cell_type": "markdown",
   "metadata": {},
   "source": [
    "Python provides several built-in functions that have been used in previous sessions:"
   ]
  },
  {
   "cell_type": "code",
   "execution_count": 1,
   "metadata": {
    "execution": {
     "iopub.execute_input": "2022-10-14T17:20:30.402775Z",
     "iopub.status.busy": "2022-10-14T17:20:30.402269Z",
     "iopub.status.idle": "2022-10-14T17:20:30.413194Z",
     "shell.execute_reply": "2022-10-14T17:20:30.412944Z",
     "shell.execute_reply.started": "2022-10-14T17:20:30.402635Z"
    }
   },
   "outputs": [
    {
     "data": {
      "text/plain": [
       "1000"
      ]
     },
     "execution_count": 1,
     "metadata": {},
     "output_type": "execute_result"
    }
   ],
   "source": [
    "max([10, 100, 1_000])"
   ]
  },
  {
   "cell_type": "code",
   "execution_count": 4,
   "metadata": {
    "execution": {
     "iopub.execute_input": "2022-10-14T17:20:56.281088Z",
     "iopub.status.busy": "2022-10-14T17:20:56.280967Z",
     "iopub.status.idle": "2022-10-14T17:20:56.284091Z",
     "shell.execute_reply": "2022-10-14T17:20:56.283602Z",
     "shell.execute_reply.started": "2022-10-14T17:20:56.281077Z"
    }
   },
   "outputs": [
    {
     "data": {
      "text/plain": [
       "4"
      ]
     },
     "execution_count": 4,
     "metadata": {},
     "output_type": "execute_result"
    }
   ],
   "source": [
    "round(3.9)"
   ]
  },
  {
   "cell_type": "code",
   "execution_count": 6,
   "metadata": {
    "execution": {
     "iopub.execute_input": "2022-10-14T17:26:55.043917Z",
     "iopub.status.busy": "2022-10-14T17:26:55.043535Z",
     "iopub.status.idle": "2022-10-14T17:26:55.046607Z",
     "shell.execute_reply": "2022-10-14T17:26:55.046368Z",
     "shell.execute_reply.started": "2022-10-14T17:26:55.043900Z"
    },
    "tags": []
   },
   "outputs": [
    {
     "data": {
      "text/plain": [
       "1.6666666666666667"
      ]
     },
     "execution_count": 6,
     "metadata": {},
     "output_type": "execute_result"
    }
   ],
   "source": [
    "from statistics import mean\n",
    "\n",
    "mean([1, 1, 3])"
   ]
  },
  {
   "cell_type": "markdown",
   "metadata": {},
   "source": [
    "A function can be considered a \"black box\" that takes some inputs, returns some outputs, and encapsulates all the internal behavior so that it's \"invisible\".\n",
    "\n",
    "![Function as a black box](../img/function-black-box.png)"
   ]
  },
  {
   "cell_type": "markdown",
   "metadata": {},
   "source": [
    "To define custom Python functions, beyond those built-in or available from third-party libraries, use the `def` keyword:"
   ]
  },
  {
   "cell_type": "code",
   "execution_count": 8,
   "metadata": {
    "execution": {
     "iopub.execute_input": "2022-10-14T17:28:01.585081Z",
     "iopub.status.busy": "2022-10-14T17:28:01.584699Z",
     "iopub.status.idle": "2022-10-14T17:28:01.588092Z",
     "shell.execute_reply": "2022-10-14T17:28:01.587783Z",
     "shell.execute_reply.started": "2022-10-14T17:28:01.585062Z"
    },
    "tags": []
   },
   "outputs": [
    {
     "data": {
      "text/plain": [
       "'This is the output'"
      ]
     },
     "execution_count": 8,
     "metadata": {},
     "output_type": "execute_result"
    }
   ],
   "source": [
    "def function(input_1, input_2):\n",
    "    # Do something\n",
    "    output = input_1 + input_2\n",
    "    return output\n",
    "\n",
    "function(\"This is\", \" the output\")"
   ]
  },
  {
   "cell_type": "markdown",
   "metadata": {},
   "source": [
    "<div class=\"alert alert-danger\">Notice that the variables <code>input_1</code>, <code>input_2</code>, and <code>output</code> only exist _inside_ the function!</div>"
   ]
  },
  {
   "cell_type": "code",
   "execution_count": 9,
   "metadata": {
    "execution": {
     "iopub.execute_input": "2022-10-14T17:28:19.238627Z",
     "iopub.status.busy": "2022-10-14T17:28:19.238319Z",
     "iopub.status.idle": "2022-10-14T17:28:19.491017Z",
     "shell.execute_reply": "2022-10-14T17:28:19.490612Z",
     "shell.execute_reply.started": "2022-10-14T17:28:19.238612Z"
    }
   },
   "outputs": [
    {
     "ename": "NameError",
     "evalue": "name 'input_1' is not defined",
     "output_type": "error",
     "traceback": [
      "\u001b[0;31m---------------------------------------------------------------------------\u001b[0m",
      "\u001b[0;31mNameError\u001b[0m                                 Traceback (most recent call last)",
      "Input \u001b[0;32mIn [9]\u001b[0m, in \u001b[0;36m<cell line: 1>\u001b[0;34m()\u001b[0m\n\u001b[0;32m----> 1\u001b[0m \u001b[43minput_1\u001b[49m\n",
      "\u001b[0;31mNameError\u001b[0m: name 'input_1' is not defined"
     ]
    }
   ],
   "source": [
    "input_1"
   ]
  },
  {
   "cell_type": "code",
   "execution_count": 10,
   "metadata": {
    "execution": {
     "iopub.execute_input": "2022-10-14T17:28:22.417143Z",
     "iopub.status.busy": "2022-10-14T17:28:22.416967Z",
     "iopub.status.idle": "2022-10-14T17:28:22.428513Z",
     "shell.execute_reply": "2022-10-14T17:28:22.428121Z",
     "shell.execute_reply.started": "2022-10-14T17:28:22.417125Z"
    }
   },
   "outputs": [
    {
     "ename": "NameError",
     "evalue": "name 'output' is not defined",
     "output_type": "error",
     "traceback": [
      "\u001b[0;31m---------------------------------------------------------------------------\u001b[0m",
      "\u001b[0;31mNameError\u001b[0m                                 Traceback (most recent call last)",
      "Input \u001b[0;32mIn [10]\u001b[0m, in \u001b[0;36m<cell line: 1>\u001b[0;34m()\u001b[0m\n\u001b[0;32m----> 1\u001b[0m \u001b[43moutput\u001b[49m\n",
      "\u001b[0;31mNameError\u001b[0m: name 'output' is not defined"
     ]
    }
   ],
   "source": [
    "output"
   ]
  },
  {
   "cell_type": "markdown",
   "metadata": {},
   "source": [
    "### Returning several outputs"
   ]
  },
  {
   "cell_type": "markdown",
   "metadata": {},
   "source": [
    "Can a function return several outputs? Yes: returning a sequence. See how sequence unpacking works:"
   ]
  },
  {
   "cell_type": "code",
   "execution_count": 11,
   "metadata": {
    "execution": {
     "iopub.execute_input": "2022-10-14T17:29:42.378717Z",
     "iopub.status.busy": "2022-10-14T17:29:42.378391Z",
     "iopub.status.idle": "2022-10-14T17:29:42.381372Z",
     "shell.execute_reply": "2022-10-14T17:29:42.381123Z",
     "shell.execute_reply.started": "2022-10-14T17:29:42.378693Z"
    }
   },
   "outputs": [
    {
     "name": "stdout",
     "output_type": "stream",
     "text": [
      "1\n",
      "2\n"
     ]
    }
   ],
   "source": [
    "a, b = 1, 2\n",
    "print(a)\n",
    "print(b)"
   ]
  },
  {
   "cell_type": "markdown",
   "metadata": {},
   "source": [
    "Hence, you can leverage that with functions:"
   ]
  },
  {
   "cell_type": "code",
   "execution_count": 12,
   "metadata": {
    "execution": {
     "iopub.execute_input": "2022-10-14T17:30:14.502393Z",
     "iopub.status.busy": "2022-10-14T17:30:14.502040Z",
     "iopub.status.idle": "2022-10-14T17:30:14.504513Z",
     "shell.execute_reply": "2022-10-14T17:30:14.504253Z",
     "shell.execute_reply.started": "2022-10-14T17:30:14.502377Z"
    }
   },
   "outputs": [
    {
     "name": "stdout",
     "output_type": "stream",
     "text": [
      "1\n",
      "2\n"
     ]
    }
   ],
   "source": [
    "def return_1_2():  # No inputs\n",
    "    return 1, 2\n",
    "\n",
    "a, b = return_1_2()\n",
    "print(a)\n",
    "print(b)"
   ]
  },
  {
   "cell_type": "markdown",
   "metadata": {},
   "source": [
    "### Passing parameters"
   ]
  },
  {
   "cell_type": "markdown",
   "metadata": {},
   "source": [
    "So far, you are calling the functions without naming the parameters, but you can specify their names too. The rule is that, once you name a parameter, all the following ones should be named:"
   ]
  },
  {
   "cell_type": "code",
   "execution_count": 13,
   "metadata": {
    "execution": {
     "iopub.execute_input": "2022-10-14T17:31:30.860506Z",
     "iopub.status.busy": "2022-10-14T17:31:30.859953Z",
     "iopub.status.idle": "2022-10-14T17:31:30.865155Z",
     "shell.execute_reply": "2022-10-14T17:31:30.864402Z",
     "shell.execute_reply.started": "2022-10-14T17:31:30.860460Z"
    }
   },
   "outputs": [],
   "source": [
    "def add_three_numbers(a, b, c):\n",
    "    return a + b + c"
   ]
  },
  {
   "cell_type": "code",
   "execution_count": 14,
   "metadata": {
    "execution": {
     "iopub.execute_input": "2022-10-14T17:31:35.671506Z",
     "iopub.status.busy": "2022-10-14T17:31:35.671087Z",
     "iopub.status.idle": "2022-10-14T17:31:35.676981Z",
     "shell.execute_reply": "2022-10-14T17:31:35.676702Z",
     "shell.execute_reply.started": "2022-10-14T17:31:35.671455Z"
    }
   },
   "outputs": [
    {
     "data": {
      "text/plain": [
       "6"
      ]
     },
     "execution_count": 14,
     "metadata": {},
     "output_type": "execute_result"
    }
   ],
   "source": [
    "add_three_numbers(1, 2, 3)"
   ]
  },
  {
   "cell_type": "code",
   "execution_count": 15,
   "metadata": {
    "execution": {
     "iopub.execute_input": "2022-10-14T17:31:41.487613Z",
     "iopub.status.busy": "2022-10-14T17:31:41.487490Z",
     "iopub.status.idle": "2022-10-14T17:31:41.491026Z",
     "shell.execute_reply": "2022-10-14T17:31:41.490514Z",
     "shell.execute_reply.started": "2022-10-14T17:31:41.487602Z"
    }
   },
   "outputs": [
    {
     "data": {
      "text/plain": [
       "6"
      ]
     },
     "execution_count": 15,
     "metadata": {},
     "output_type": "execute_result"
    }
   ],
   "source": [
    "add_three_numbers(1, b=2, c=3)"
   ]
  },
  {
   "cell_type": "code",
   "execution_count": 16,
   "metadata": {
    "execution": {
     "iopub.execute_input": "2022-10-14T17:31:46.672684Z",
     "iopub.status.busy": "2022-10-14T17:31:46.672284Z",
     "iopub.status.idle": "2022-10-14T17:31:46.679902Z",
     "shell.execute_reply": "2022-10-14T17:31:46.678821Z",
     "shell.execute_reply.started": "2022-10-14T17:31:46.672646Z"
    }
   },
   "outputs": [
    {
     "ename": "SyntaxError",
     "evalue": "positional argument follows keyword argument (3910655836.py, line 1)",
     "output_type": "error",
     "traceback": [
      "\u001b[0;36m  Input \u001b[0;32mIn [16]\u001b[0;36m\u001b[0m\n\u001b[0;31m    add_three_numbers(a=1, 2, 3)\u001b[0m\n\u001b[0m                               ^\u001b[0m\n\u001b[0;31mSyntaxError\u001b[0m\u001b[0;31m:\u001b[0m positional argument follows keyword argument\n"
     ]
    }
   ],
   "source": [
    "add_three_numbers(a=1, 2, 3)"
   ]
  },
  {
   "cell_type": "markdown",
   "metadata": {},
   "source": [
    "### Documenting"
   ]
  },
  {
   "cell_type": "markdown",
   "metadata": {},
   "source": [
    "To document a function, add a string right below the function definition. This is called the function \"docstring\"."
   ]
  },
  {
   "cell_type": "code",
   "execution_count": 18,
   "metadata": {
    "execution": {
     "iopub.execute_input": "2022-10-14T18:02:44.440533Z",
     "iopub.status.busy": "2022-10-14T18:02:44.439761Z",
     "iopub.status.idle": "2022-10-14T18:02:44.445409Z",
     "shell.execute_reply": "2022-10-14T18:02:44.444632Z",
     "shell.execute_reply.started": "2022-10-14T18:02:44.440492Z"
    }
   },
   "outputs": [],
   "source": [
    "def add(a, b):\n",
    "    \"Add two numbers\"\n",
    "    return a + b"
   ]
  },
  {
   "cell_type": "code",
   "execution_count": 19,
   "metadata": {
    "execution": {
     "iopub.execute_input": "2022-10-14T18:02:46.577552Z",
     "iopub.status.busy": "2022-10-14T18:02:46.577170Z",
     "iopub.status.idle": "2022-10-14T18:02:46.581297Z",
     "shell.execute_reply": "2022-10-14T18:02:46.580976Z",
     "shell.execute_reply.started": "2022-10-14T18:02:46.577511Z"
    }
   },
   "outputs": [
    {
     "data": {
      "text/plain": [
       "\u001b[0;31mSignature:\u001b[0m \u001b[0madd\u001b[0m\u001b[0;34m(\u001b[0m\u001b[0ma\u001b[0m\u001b[0;34m,\u001b[0m \u001b[0mb\u001b[0m\u001b[0;34m)\u001b[0m\u001b[0;34m\u001b[0m\u001b[0;34m\u001b[0m\u001b[0m\n",
       "\u001b[0;31mDocstring:\u001b[0m Add two numbers\n",
       "\u001b[0;31mFile:\u001b[0m      /tmp/ipykernel_12648/3286287043.py\n",
       "\u001b[0;31mType:\u001b[0m      function\n"
      ]
     },
     "metadata": {},
     "output_type": "display_data"
    }
   ],
   "source": [
    "add?"
   ]
  },
  {
   "cell_type": "markdown",
   "metadata": {},
   "source": [
    "Usually multi-line strings are used:"
   ]
  },
  {
   "cell_type": "code",
   "execution_count": 20,
   "metadata": {
    "execution": {
     "iopub.execute_input": "2022-10-14T18:03:32.632405Z",
     "iopub.status.busy": "2022-10-14T18:03:32.631972Z",
     "iopub.status.idle": "2022-10-14T18:03:32.639433Z",
     "shell.execute_reply": "2022-10-14T18:03:32.638904Z",
     "shell.execute_reply.started": "2022-10-14T18:03:32.632354Z"
    }
   },
   "outputs": [
    {
     "data": {
      "text/plain": [
       "'This is\\na multi-line\\nstring\\nwrapped in triple quotes'"
      ]
     },
     "execution_count": 20,
     "metadata": {},
     "output_type": "execute_result"
    }
   ],
   "source": [
    "multi_line_string = \"\"\"This is\n",
    "a multi-line\n",
    "string\n",
    "wrapped in triple quotes\"\"\"\n",
    "multi_line_string"
   ]
  },
  {
   "cell_type": "markdown",
   "metadata": {},
   "source": [
    "<div class=\"alert alert-info\">Notice that line breaks get stored inside the string as <code>\\n</code>. To \"convert\" those characters to their real meaning, use the <code>print()</code> function.</div>"
   ]
  },
  {
   "cell_type": "code",
   "execution_count": 21,
   "metadata": {
    "execution": {
     "iopub.execute_input": "2022-10-14T18:04:20.161760Z",
     "iopub.status.busy": "2022-10-14T18:04:20.161636Z",
     "iopub.status.idle": "2022-10-14T18:04:20.164387Z",
     "shell.execute_reply": "2022-10-14T18:04:20.164134Z",
     "shell.execute_reply.started": "2022-10-14T18:04:20.161750Z"
    }
   },
   "outputs": [
    {
     "name": "stdout",
     "output_type": "stream",
     "text": [
      "This is\n",
      "a multi-line\n",
      "string\n",
      "wrapped in triple quotes\n"
     ]
    }
   ],
   "source": [
    "print(multi_line_string)"
   ]
  },
  {
   "cell_type": "code",
   "execution_count": 22,
   "metadata": {
    "execution": {
     "iopub.execute_input": "2022-10-14T18:05:08.365651Z",
     "iopub.status.busy": "2022-10-14T18:05:08.365150Z",
     "iopub.status.idle": "2022-10-14T18:05:08.367731Z",
     "shell.execute_reply": "2022-10-14T18:05:08.367439Z",
     "shell.execute_reply.started": "2022-10-14T18:05:08.365625Z"
    }
   },
   "outputs": [],
   "source": [
    "def add(a, b):\n",
    "    \"\"\"Add two numbers\n",
    "\n",
    "    Parameters\n",
    "    ----------\n",
    "    a : float\n",
    "        First number.\n",
    "    b : float\n",
    "        Second number.\n",
    "\n",
    "    \"\"\"\n",
    "    return a + b"
   ]
  },
  {
   "cell_type": "code",
   "execution_count": 23,
   "metadata": {
    "execution": {
     "iopub.execute_input": "2022-10-14T18:05:10.304326Z",
     "iopub.status.busy": "2022-10-14T18:05:10.303940Z",
     "iopub.status.idle": "2022-10-14T18:05:10.311695Z",
     "shell.execute_reply": "2022-10-14T18:05:10.310578Z",
     "shell.execute_reply.started": "2022-10-14T18:05:10.304287Z"
    }
   },
   "outputs": [
    {
     "data": {
      "text/plain": [
       "\u001b[0;31mSignature:\u001b[0m \u001b[0madd\u001b[0m\u001b[0;34m(\u001b[0m\u001b[0ma\u001b[0m\u001b[0;34m,\u001b[0m \u001b[0mb\u001b[0m\u001b[0;34m)\u001b[0m\u001b[0;34m\u001b[0m\u001b[0;34m\u001b[0m\u001b[0m\n",
       "\u001b[0;31mDocstring:\u001b[0m\n",
       "Add two numbers\n",
       "\n",
       "Parameters\n",
       "----------\n",
       "a : float\n",
       "    First number.\n",
       "b : float\n",
       "    Second number.\n",
       "\u001b[0;31mFile:\u001b[0m      /tmp/ipykernel_12648/2879400319.py\n",
       "\u001b[0;31mType:\u001b[0m      function\n"
      ]
     },
     "metadata": {},
     "output_type": "display_data"
    }
   ],
   "source": [
    "add?"
   ]
  },
  {
   "cell_type": "markdown",
   "metadata": {},
   "source": [
    "## `lambda` (inline) functions"
   ]
  },
  {
   "cell_type": "markdown",
   "metadata": {},
   "source": [
    "Inline functions are created with the `lambda` keyword. They are exactly like normal functions, with one limitation: they cannot contain statements (conditionals, loops). In simple terms, the body of the function can only be one line."
   ]
  },
  {
   "cell_type": "code",
   "execution_count": 24,
   "metadata": {
    "execution": {
     "iopub.execute_input": "2022-10-14T18:13:11.342864Z",
     "iopub.status.busy": "2022-10-14T18:13:11.342722Z",
     "iopub.status.idle": "2022-10-14T18:13:11.345520Z",
     "shell.execute_reply": "2022-10-14T18:13:11.345292Z",
     "shell.execute_reply.started": "2022-10-14T18:13:11.342852Z"
    }
   },
   "outputs": [
    {
     "data": {
      "text/plain": [
       "3.0"
      ]
     },
     "execution_count": 24,
     "metadata": {},
     "output_type": "execute_result"
    }
   ],
   "source": [
    "def add(a, b):\n",
    "    return a + b\n",
    "\n",
    "add(1, 2.0)"
   ]
  },
  {
   "cell_type": "code",
   "execution_count": 25,
   "metadata": {
    "execution": {
     "iopub.execute_input": "2022-10-14T18:13:25.586012Z",
     "iopub.status.busy": "2022-10-14T18:13:25.585606Z",
     "iopub.status.idle": "2022-10-14T18:13:25.592773Z",
     "shell.execute_reply": "2022-10-14T18:13:25.592067Z",
     "shell.execute_reply.started": "2022-10-14T18:13:25.585970Z"
    }
   },
   "outputs": [
    {
     "data": {
      "text/plain": [
       "3.0"
      ]
     },
     "execution_count": 25,
     "metadata": {},
     "output_type": "execute_result"
    }
   ],
   "source": [
    "add = lambda a, b: a + b\n",
    "\n",
    "add(1, 2.0)"
   ]
  },
  {
   "cell_type": "markdown",
   "metadata": {},
   "source": [
    "However, `lambda` functions are not usually stored in variables: they are used when quick, small functions are required and we don't want to bother defining a normal function. For example:"
   ]
  },
  {
   "cell_type": "code",
   "execution_count": 27,
   "metadata": {
    "execution": {
     "iopub.execute_input": "2022-10-14T18:14:48.207389Z",
     "iopub.status.busy": "2022-10-14T18:14:48.207190Z",
     "iopub.status.idle": "2022-10-14T18:14:48.211287Z",
     "shell.execute_reply": "2022-10-14T18:14:48.210900Z",
     "shell.execute_reply.started": "2022-10-14T18:14:48.207367Z"
    },
    "tags": []
   },
   "outputs": [
    {
     "data": {
      "text/plain": [
       "[('!', 0), ('Hello', 10), ('World', -10)]"
      ]
     },
     "execution_count": 27,
     "metadata": {},
     "output_type": "execute_result"
    }
   ],
   "source": [
    "seq = [(\"Hello\", 10), (\"World\", -10), (\"!\", 0)]\n",
    "sorted(seq)"
   ]
  },
  {
   "cell_type": "code",
   "execution_count": 29,
   "metadata": {
    "execution": {
     "iopub.execute_input": "2022-10-14T18:19:15.070450Z",
     "iopub.status.busy": "2022-10-14T18:19:15.070249Z",
     "iopub.status.idle": "2022-10-14T18:19:15.073636Z",
     "shell.execute_reply": "2022-10-14T18:19:15.073351Z",
     "shell.execute_reply.started": "2022-10-14T18:19:15.070427Z"
    },
    "tags": []
   },
   "outputs": [
    {
     "data": {
      "text/plain": [
       "True"
      ]
     },
     "execution_count": 29,
     "metadata": {},
     "output_type": "execute_result"
    }
   ],
   "source": [
    "# Works, because tuples, like all sequences, are compared lexicographically\n",
    "(\"!\", 0) < (\"World\", -10)"
   ]
  },
  {
   "cell_type": "code",
   "execution_count": 30,
   "metadata": {
    "execution": {
     "iopub.execute_input": "2022-10-14T18:19:32.360573Z",
     "iopub.status.busy": "2022-10-14T18:19:32.359939Z",
     "iopub.status.idle": "2022-10-14T18:19:32.365987Z",
     "shell.execute_reply": "2022-10-14T18:19:32.365493Z",
     "shell.execute_reply.started": "2022-10-14T18:19:32.360527Z"
    }
   },
   "outputs": [
    {
     "data": {
      "text/plain": [
       "[('World', -10), ('!', 0), ('Hello', 10)]"
      ]
     },
     "execution_count": 30,
     "metadata": {},
     "output_type": "execute_result"
    }
   ],
   "source": [
    "# If I want to sort by number:\n",
    "sorted(seq, key=lambda seq: seq[1])"
   ]
  },
  {
   "cell_type": "code",
   "execution_count": 31,
   "metadata": {
    "execution": {
     "iopub.execute_input": "2022-10-14T18:20:11.643048Z",
     "iopub.status.busy": "2022-10-14T18:20:11.642907Z",
     "iopub.status.idle": "2022-10-14T18:20:11.646222Z",
     "shell.execute_reply": "2022-10-14T18:20:11.645852Z",
     "shell.execute_reply.started": "2022-10-14T18:20:11.643037Z"
    }
   },
   "outputs": [
    {
     "data": {
      "text/plain": [
       "10"
      ]
     },
     "execution_count": 31,
     "metadata": {},
     "output_type": "execute_result"
    }
   ],
   "source": [
    "# Explanation:\n",
    "def get_second(seq):\n",
    "    return seq[1]\n",
    "\n",
    "get_second((\"Hello\", 10))"
   ]
  },
  {
   "cell_type": "code",
   "execution_count": 32,
   "metadata": {
    "execution": {
     "iopub.execute_input": "2022-10-14T18:20:21.174163Z",
     "iopub.status.busy": "2022-10-14T18:20:21.173898Z",
     "iopub.status.idle": "2022-10-14T18:20:21.179880Z",
     "shell.execute_reply": "2022-10-14T18:20:21.179310Z",
     "shell.execute_reply.started": "2022-10-14T18:20:21.174137Z"
    }
   },
   "outputs": [
    {
     "data": {
      "text/plain": [
       "[('World', -10), ('!', 0), ('Hello', 10)]"
      ]
     },
     "execution_count": 32,
     "metadata": {},
     "output_type": "execute_result"
    }
   ],
   "source": [
    "sorted(seq, key=get_second)"
   ]
  },
  {
   "cell_type": "markdown",
   "metadata": {},
   "source": [
    "<div class=\"alert alert-info\">To add conditionals and loops to <code>lambda</code> functions, you can use <a href=\"https://docs.python.org/3/reference/expressions.html\">conditional expressions</a> and <a href=\"https://docs.python.org/3/reference/expressions.html\">comprehensions</a> respectively. But it's better to keep <code>lambda</code> functions as short as possible, or they become too difficult to understand and debug.</div>"
   ]
  },
  {
   "cell_type": "markdown",
   "metadata": {},
   "source": [
    "## Exercises"
   ]
  },
  {
   "cell_type": "markdown",
   "metadata": {},
   "source": [
    "### 1. Sum and product of numbers\n",
    "\n",
    "Create a function `sum_sequence` that takes a sequence of numbers (a list, a tuple, a range) and returns the sum of all of them as a number. You can't use the `sum` built-in function - instead, use it to cross-check your result.\n",
    "\n",
    "Next, create a `prod_sequence` that takes a sequence of numbers and returns the product of all of them as a number. Cross-check your result with [`math.prod`](https://docs.python.org/3.10/library/math.html#math.prod)."
   ]
  },
  {
   "cell_type": "markdown",
   "metadata": {},
   "source": [
    "### 2. Mean and median\n",
    "\n",
    "Using your `sum_sequence` function defined above, create a function `mean_sequence` that returns the mean of an sequence of numbers (a list, a tuple, a range). Cross-check its result with `statistics.mean`.\n",
    "\n",
    "Next, create a `median_sequence` that returns the median of a sequence of numbers. Cross-check its result with `statistics.median`."
   ]
  },
  {
   "cell_type": "markdown",
   "metadata": {},
   "source": [
    "### 3. Extract a nested sequence\n",
    "\n",
    "Given our list of clients:\n",
    "\n",
    "| Id | Age (years) | Sex | Average monthly consumption (GB) |\n",
    "| --- | --- | --- | --- |\n",
    "| 1 | 40 | male | 10.2 |\n",
    "| 2 | 50 | female | 5.4 |\n",
    "| 3 | 23 | female | 8.0 |\n",
    "| 4 | 18 | male | 2.5 |\n",
    "\n",
    "Store them as a list of tuples. Then, create a function `extract_column(clients, column_name)` that takes two parameters: the list of tuples representing the clients, and a column name that can be one of `(\"id\", \"age\", \"sex\", \"consumption\")`, and that returns a list with the desired values. For example:"
   ]
  },
  {
   "cell_type": "code",
   "execution_count": 3,
   "metadata": {
    "execution": {
     "iopub.execute_input": "2022-10-14T18:41:45.622752Z",
     "iopub.status.busy": "2022-10-14T18:41:45.622632Z",
     "iopub.status.idle": "2022-10-14T18:41:45.628321Z",
     "shell.execute_reply": "2022-10-14T18:41:45.628052Z",
     "shell.execute_reply.started": "2022-10-14T18:41:45.622742Z"
    },
    "tags": []
   },
   "outputs": [
    {
     "data": {
      "text/plain": [
       "['male', 'female', 'female', 'male']"
      ]
     },
     "execution_count": 3,
     "metadata": {},
     "output_type": "execute_result"
    }
   ],
   "source": [
    "extract_column(clients, \"sex\")"
   ]
  },
  {
   "cell_type": "code",
   "execution_count": 4,
   "metadata": {
    "execution": {
     "iopub.execute_input": "2022-10-14T18:42:13.061479Z",
     "iopub.status.busy": "2022-10-14T18:42:13.060990Z",
     "iopub.status.idle": "2022-10-14T18:42:13.072665Z",
     "shell.execute_reply": "2022-10-14T18:42:13.072384Z",
     "shell.execute_reply.started": "2022-10-14T18:42:13.061410Z"
    },
    "tags": []
   },
   "outputs": [
    {
     "data": {
      "text/plain": [
       "[40, 50, 23, 18]"
      ]
     },
     "execution_count": 4,
     "metadata": {},
     "output_type": "execute_result"
    }
   ],
   "source": [
    "extract_column(clients, \"age\")"
   ]
  }
 ],
 "metadata": {
  "kernelspec": {
   "display_name": "Python 3 (ipykernel)",
   "language": "python",
   "name": "python3"
  },
  "language_info": {
   "codemirror_mode": {
    "name": "ipython",
    "version": 3
   },
   "file_extension": ".py",
   "mimetype": "text/x-python",
   "name": "python",
   "nbconvert_exporter": "python",
   "pygments_lexer": "ipython3",
   "version": "3.9.12"
  }
 },
 "nbformat": 4,
 "nbformat_minor": 4
}
