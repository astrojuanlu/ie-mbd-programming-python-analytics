{
 "cells": [
  {
   "cell_type": "markdown",
   "metadata": {},
   "source": [
    "## Data\n",
    "\n",
    "The file `twitter_data.json` contains a subset of real tweets obtained from http://covid19research.site/geo-tagged_twitter_datasets/, with full metadata as retrieved by the Twitter API. You can load it as a list of dictionaries using the code below."
   ]
  },
  {
   "cell_type": "code",
   "execution_count": 1,
   "metadata": {},
   "outputs": [
    {
     "name": "stdout",
     "output_type": "stream",
     "text": [
      "[\n",
      "  {\n",
      "    \"created_at\": \"Wed Apr 22 06:04:57 +0000 2020\",\n",
      "    \"id\": 1252840795737997317,\n",
      "    \"id_str\": \"1252840795737997317\",\n",
      "    \"text\": \"Tennis a la Balboa.\\n\\n#balboaisland #newportbeach #tennis #covid_19 #coronavirus #orangecounty #california\\u2026 https://t.co/px1GCH1bgZ\",\n",
      "    \"truncated\": true,\n",
      "    \"entities\": {\n",
      "      \"hashtags\": [\n",
      "        {\n"
     ]
    }
   ],
   "source": [
    "!head ../data/twitter_data.json"
   ]
  },
  {
   "cell_type": "code",
   "execution_count": 2,
   "metadata": {},
   "outputs": [
    {
     "name": "stdout",
     "output_type": "stream",
     "text": [
      "<class 'list'> 9\n"
     ]
    }
   ],
   "source": [
    "import requests\n",
    "\n",
    "DATA_URL = (\n",
    "    \"https://github.com/astrojuanlu/ie-mbd-python-data-analysis-i/\"\n",
    "    \"raw/main/data/twitter_data.json\"\n",
    ")\n",
    "\n",
    "data = requests.get(DATA_URL).json()\n",
    "print(type(data), len(data))"
   ]
  },
  {
   "cell_type": "markdown",
   "metadata": {},
   "source": [
    "## Exercises\n",
    "\n",
    "### 1. Print hashtags\n",
    "\n",
    "Save the first tweet of the list in a separate variable, and print its ID (stored in the `id` key) and all its hashtags (stored in the `entities` key).\n",
    "\n",
    "Expected result:\n",
    "\n",
    "```\n",
    "1252840795737997317\n",
    "#balboaisland\n",
    "#newportbeach\n",
    "#tennis\n",
    "#covid_19\n",
    "#coronavirus\n",
    "#orangecounty\n",
    "#california\n",
    "```"
   ]
  },
  {
   "cell_type": "markdown",
   "metadata": {},
   "source": [
    "### 2. Function `print_tweet`\n",
    "\n",
    "Write a function `print_tweet` that takes a parameter called `tweet` representing a single tweet (therefore, a `dict`), and prints its ID and all its hashtags. Then iterate over all the tweets in `data` and call `print_tweet` for all of them."
   ]
  },
  {
   "cell_type": "markdown",
   "metadata": {},
   "source": [
    "### 3. Check hashtags\n",
    "\n",
    "Write a function `has_hashtags` that takes a single tweet and returns `True` if the list of hashtags is non-empty (has length larger than zero), `False` otherwise. Then iterate over all the tweets in `data` and call `has_hashtags` for all of them.\n",
    "\n",
    "Expected result:\n",
    "\n",
    "```\n",
    "1252840795737997317 True\n",
    "1256259052461592580 True\n",
    "1256459430129885184 True\n",
    "1256459484521615362 False\n",
    "1258334628345044992 True\n",
    "1253472356476940290 False\n",
    "1253472297144299520 False\n",
    "1254774730529243136 False\n",
    "1258172892077912064 False\n",
    "```"
   ]
  },
  {
   "cell_type": "markdown",
   "metadata": {},
   "source": [
    "### Extras (practice)\n",
    "\n",
    "- Write a function `trim_tweet` that takes a single tweet (therefore, a dictionary) and returns a simpler dictionary, with keys `('id', 'text', 'favorite_count', 'retweet_count', 'has_hashtags', 'username', 'user_followers')`. Try to guess which fields of the original tweet you should use for each output key.\n",
    "- Write a function `trim_data` that receives a tweets list (like the original data) and returns another list of simplified tweets, by applying `trim_tweet` to each tweet in the list.\n",
    "- Apply the `trim_data` function to our data and find **the mean favorite count of the tweets without hashtags written by people with more than 500 followers**. (The answer is around 16)"
   ]
  }
 ],
 "metadata": {
  "kernelspec": {
   "display_name": "Python 3",
   "language": "python",
   "name": "python3"
  },
  "language_info": {
   "codemirror_mode": {
    "name": "ipython",
    "version": 3
   },
   "file_extension": ".py",
   "mimetype": "text/x-python",
   "name": "python",
   "nbconvert_exporter": "python",
   "pygments_lexer": "ipython3",
   "version": "3.8.8"
  }
 },
 "nbformat": 4,
 "nbformat_minor": 4
}
