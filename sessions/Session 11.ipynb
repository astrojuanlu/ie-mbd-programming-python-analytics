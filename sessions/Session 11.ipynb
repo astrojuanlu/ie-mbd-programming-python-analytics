{
 "cells": [
  {
   "cell_type": "markdown",
   "id": "72969862-788e-492c-938b-5cde7e1a5a88",
   "metadata": {},
   "source": [
    "# Session 11"
   ]
  },
  {
   "cell_type": "markdown",
   "id": "8c0e92b0-e3f7-4e51-8759-78c54eeb8346",
   "metadata": {},
   "source": [
    "## Introducing pandas objects"
   ]
  },
  {
   "cell_type": "markdown",
   "id": "d4a2d08e-5ba5-4aa7-966e-af1393820393",
   "metadata": {},
   "source": [
    "pandas is the most widely used Python library to read and manipulate tabular data. Its most important object is the `DataFrame`, which represents a rectangular table of rows and columns.\n",
    "\n",
    "To start using pandas, you need to import it first. The most common way to import pandas is this:"
   ]
  },
  {
   "cell_type": "code",
   "execution_count": 1,
   "id": "3a6231dd-58e7-455a-8b62-1eb8899f5140",
   "metadata": {},
   "outputs": [],
   "source": [
    "import pandas as pd"
   ]
  },
  {
   "cell_type": "markdown",
   "id": "766a4d38-6b23-4898-ace3-5502e60df0c9",
   "metadata": {},
   "source": [
    "All the pandas functions will be accessible under the `pd` alias:"
   ]
  },
  {
   "cell_type": "code",
   "execution_count": 2,
   "id": "eb4f0fdb-79a3-4122-9e12-8f98b7d62c60",
   "metadata": {},
   "outputs": [
    {
     "data": {
      "text/plain": [
       "'1.4.2'"
      ]
     },
     "execution_count": 2,
     "metadata": {},
     "output_type": "execute_result"
    }
   ],
   "source": [
    "pd.__version__"
   ]
  },
  {
   "cell_type": "markdown",
   "id": "269bd9df-b420-4e12-9104-18271b17bab6",
   "metadata": {},
   "source": [
    "Each of the columns of a `DataFrame` is a `Series` object. `Series` are mutable (hence you can add, remove, and replace elements) and homogeneous (all its elements must have the same type). As you will see, `Series` can be indexed by numerical position (like lists) or by label (like dictionaries).\n",
    "\n",
    "For example, let's create a `Series` from a Python `list`:"
   ]
  },
  {
   "cell_type": "code",
   "execution_count": 3,
   "id": "fa2db462-c967-446f-9cac-bd86fa7df18c",
   "metadata": {},
   "outputs": [
    {
     "data": {
      "text/plain": [
       "[10, 11, 12, 13, 14]"
      ]
     },
     "execution_count": 3,
     "metadata": {},
     "output_type": "execute_result"
    }
   ],
   "source": [
    "my_list = list(range(10, 15))\n",
    "my_list"
   ]
  },
  {
   "cell_type": "code",
   "execution_count": 4,
   "id": "997d0c80-99a5-4074-baeb-d5cc764a60a8",
   "metadata": {},
   "outputs": [
    {
     "data": {
      "text/plain": [
       "0    10\n",
       "1    11\n",
       "2    12\n",
       "3    13\n",
       "4    14\n",
       "dtype: int64"
      ]
     },
     "execution_count": 4,
     "metadata": {},
     "output_type": "execute_result"
    }
   ],
   "source": [
    "ser = pd.Series(my_list)\n",
    "ser"
   ]
  },
  {
   "cell_type": "code",
   "execution_count": 5,
   "id": "ac6ba12d-a005-4a8e-a686-3f4b54ab83a9",
   "metadata": {},
   "outputs": [
    {
     "data": {
      "text/plain": [
       "pandas.core.series.Series"
      ]
     },
     "execution_count": 5,
     "metadata": {},
     "output_type": "execute_result"
    }
   ],
   "source": [
    "type(ser)"
   ]
  },
  {
   "cell_type": "markdown",
   "id": "c9a815b5-3b01-4fd4-bfdb-22aac129edfd",
   "metadata": {},
   "source": [
    "`Series` have an important property, the `dtype`, that holds the type of its individual elements. As you can see in the string representation of the `Series`, the `dtype` of `ser` is `int64`, which means that `ser` is a `Series` of integers."
   ]
  },
  {
   "cell_type": "code",
   "execution_count": 6,
   "id": "2be7311b-4bbd-43e8-abcb-d3db44d7c322",
   "metadata": {},
   "outputs": [
    {
     "data": {
      "text/plain": [
       "dtype('int64')"
      ]
     },
     "execution_count": 6,
     "metadata": {},
     "output_type": "execute_result"
    }
   ],
   "source": [
    "ser.dtype"
   ]
  },
  {
   "cell_type": "markdown",
   "id": "6a8a1766-e1b9-4fa0-8ebd-85210ecb9bda",
   "metadata": {},
   "source": [
    "<div class=\"alert alert-info\">The <code>64</code> part in <code>int64</code> alludes to how much memory does pandas use to store those integers, which is fixed to 64 bits. This means that, contrary to Python integers, there is a maximum integer pandas can store in an <code>int64</code>. But you don't need to worry about that now.</div>"
   ]
  },
  {
   "cell_type": "markdown",
   "id": "f2189c69-acf7-4ce6-80b5-056e33733b11",
   "metadata": {},
   "source": [
    "`Series` objects have a large number of methods, including some typical statistical and aggregation ones:"
   ]
  },
  {
   "cell_type": "code",
   "execution_count": 7,
   "id": "6498cae4-3338-4d84-9ec9-64b22f200f3a",
   "metadata": {},
   "outputs": [
    {
     "data": {
      "text/plain": [
       "(14, 10)"
      ]
     },
     "execution_count": 7,
     "metadata": {},
     "output_type": "execute_result"
    }
   ],
   "source": [
    "ser.max(), ser.min()"
   ]
  },
  {
   "cell_type": "code",
   "execution_count": 8,
   "id": "1f30f0ae-3aed-4d8b-9b8d-9fa6e4eb94a5",
   "metadata": {},
   "outputs": [
    {
     "data": {
      "text/plain": [
       "(12.0, 12.0, 1.5811388300841898)"
      ]
     },
     "execution_count": 8,
     "metadata": {},
     "output_type": "execute_result"
    }
   ],
   "source": [
    "ser.mean(), ser.median(), ser.std()"
   ]
  },
  {
   "cell_type": "markdown",
   "id": "953cc4d7-c260-4e04-90f7-e41ca91ff3ea",
   "metadata": {},
   "source": [
    "And some more sophisticated methods:"
   ]
  },
  {
   "cell_type": "code",
   "execution_count": 9,
   "id": "2d873c3c-895e-43b5-a699-d2ccb94b1f2a",
   "metadata": {},
   "outputs": [
    {
     "data": {
      "text/plain": [
       "count     5.000000\n",
       "mean     12.000000\n",
       "std       1.581139\n",
       "min      10.000000\n",
       "25%      11.000000\n",
       "50%      12.000000\n",
       "75%      13.000000\n",
       "max      14.000000\n",
       "dtype: float64"
      ]
     },
     "execution_count": 9,
     "metadata": {},
     "output_type": "execute_result"
    }
   ],
   "source": [
    "ser.describe()"
   ]
  },
  {
   "cell_type": "markdown",
   "id": "0c18ebf7-d3f3-4322-824c-60b659d61ec7",
   "metadata": {},
   "source": [
    "A `Series` has some `values` and an `index`. The `index` will become very important when working with `DataFrame`s."
   ]
  },
  {
   "cell_type": "code",
   "execution_count": 10,
   "id": "9aadf443-e563-49b5-ba23-472519a2506b",
   "metadata": {},
   "outputs": [
    {
     "data": {
      "text/plain": [
       "0    10\n",
       "1    11\n",
       "2    12\n",
       "3    13\n",
       "4    14\n",
       "dtype: int64"
      ]
     },
     "execution_count": 10,
     "metadata": {},
     "output_type": "execute_result"
    }
   ],
   "source": [
    "ser"
   ]
  },
  {
   "cell_type": "code",
   "execution_count": 11,
   "id": "33a3d196-6c62-41a6-92ce-f5a23dfb6add",
   "metadata": {},
   "outputs": [
    {
     "data": {
      "text/plain": [
       "array([10, 11, 12, 13, 14])"
      ]
     },
     "execution_count": 11,
     "metadata": {},
     "output_type": "execute_result"
    }
   ],
   "source": [
    "ser.values"
   ]
  },
  {
   "cell_type": "code",
   "execution_count": 12,
   "id": "6be8749d-c2e1-4c67-88e3-89289a61eaa8",
   "metadata": {},
   "outputs": [
    {
     "data": {
      "text/plain": [
       "RangeIndex(start=0, stop=5, step=1)"
      ]
     },
     "execution_count": 12,
     "metadata": {},
     "output_type": "execute_result"
    }
   ],
   "source": [
    "ser.index"
   ]
  },
  {
   "cell_type": "markdown",
   "id": "bb0f87d0-c530-47a9-83da-f256a3066d1c",
   "metadata": {},
   "source": [
    "You can refer to values by index using the `.loc` accessor:"
   ]
  },
  {
   "cell_type": "code",
   "execution_count": 13,
   "id": "660e4cef-5d21-42c9-a147-886a21a0b53c",
   "metadata": {},
   "outputs": [
    {
     "data": {
      "text/plain": [
       "10"
      ]
     },
     "execution_count": 13,
     "metadata": {},
     "output_type": "execute_result"
    }
   ],
   "source": [
    "ser.loc[0]"
   ]
  },
  {
   "cell_type": "markdown",
   "id": "dcbcadda-805e-49ae-b357-b8c24cd160d6",
   "metadata": {},
   "source": [
    "<div class=\"alert alert-warning\">Notice that we don't call <code>loc</code> a <em>method</em> because it is not called! It is a special object that \"abuses\" the indexing/slicing syntax. If you call it with parenthesis, you will get an error.</div>"
   ]
  },
  {
   "cell_type": "markdown",
   "id": "20b3633c-c323-4f71-98f9-4751e30a677f",
   "metadata": {},
   "source": [
    "The semantics of `.loc` with respect to slicing are slightly different from the base ones from Python. Most importantly, the end of the slice is included!"
   ]
  },
  {
   "cell_type": "code",
   "execution_count": 14,
   "id": "19733e4f-82e1-473a-91cc-7c37bab575a5",
   "metadata": {},
   "outputs": [
    {
     "data": {
      "text/plain": [
       "1    11\n",
       "2    12\n",
       "3    13\n",
       "dtype: int64"
      ]
     },
     "execution_count": 14,
     "metadata": {},
     "output_type": "execute_result"
    }
   ],
   "source": [
    "ser.loc[1:3]"
   ]
  },
  {
   "cell_type": "markdown",
   "id": "13b40b38-6dd5-441f-b677-a6a51c4a225c",
   "metadata": {},
   "source": [
    "As mentioned before, `DataFrame` objects are rectangular tables formed by a number of columns (`Series` objects). Each column can have a different `dtype`, but all of them must have the same number of rows.\n",
    "\n",
    "`DataFrame` objects can be created with the `DataFrame()` initializer as you did earlier with `Series`, but in most cases they will appear as a result of other function or method calls, for example `pandas.read_csv`:"
   ]
  },
  {
   "cell_type": "code",
   "execution_count": 15,
   "id": "3d45cd30-a562-4393-b33d-f4209bdea757",
   "metadata": {},
   "outputs": [],
   "source": [
    "df = pd.read_csv(\"../data/national_covid19.csv\")"
   ]
  },
  {
   "cell_type": "markdown",
   "id": "9fd7d155-5b34-4c1c-9038-9cf776dfcaa2",
   "metadata": {},
   "source": [
    "It's a good practice to display the first few rows of the `DataFrame` right after opening it:"
   ]
  },
  {
   "cell_type": "code",
   "execution_count": 16,
   "id": "715956ab-5f22-48b3-9247-3c8dde898fff",
   "metadata": {},
   "outputs": [
    {
     "data": {
      "text/html": [
       "<div>\n",
       "<style scoped>\n",
       "    .dataframe tbody tr th:only-of-type {\n",
       "        vertical-align: middle;\n",
       "    }\n",
       "\n",
       "    .dataframe tbody tr th {\n",
       "        vertical-align: top;\n",
       "    }\n",
       "\n",
       "    .dataframe thead th {\n",
       "        text-align: right;\n",
       "    }\n",
       "</style>\n",
       "<table border=\"1\" class=\"dataframe\">\n",
       "  <thead>\n",
       "    <tr style=\"text-align: right;\">\n",
       "      <th></th>\n",
       "      <th>date</th>\n",
       "      <th>cases_total</th>\n",
       "      <th>cases_pcr</th>\n",
       "      <th>cases_test_ab</th>\n",
       "      <th>discharges</th>\n",
       "      <th>deceases</th>\n",
       "      <th>icu</th>\n",
       "      <th>hospitalized</th>\n",
       "    </tr>\n",
       "  </thead>\n",
       "  <tbody>\n",
       "    <tr>\n",
       "      <th>0</th>\n",
       "      <td>2020-02-21</td>\n",
       "      <td>3.0</td>\n",
       "      <td>3</td>\n",
       "      <td>NaN</td>\n",
       "      <td>NaN</td>\n",
       "      <td>NaN</td>\n",
       "      <td>NaN</td>\n",
       "      <td>NaN</td>\n",
       "    </tr>\n",
       "    <tr>\n",
       "      <th>1</th>\n",
       "      <td>2020-02-22</td>\n",
       "      <td>3.0</td>\n",
       "      <td>3</td>\n",
       "      <td>NaN</td>\n",
       "      <td>NaN</td>\n",
       "      <td>NaN</td>\n",
       "      <td>NaN</td>\n",
       "      <td>NaN</td>\n",
       "    </tr>\n",
       "    <tr>\n",
       "      <th>2</th>\n",
       "      <td>2020-02-23</td>\n",
       "      <td>3.0</td>\n",
       "      <td>3</td>\n",
       "      <td>NaN</td>\n",
       "      <td>NaN</td>\n",
       "      <td>NaN</td>\n",
       "      <td>NaN</td>\n",
       "      <td>NaN</td>\n",
       "    </tr>\n",
       "    <tr>\n",
       "      <th>3</th>\n",
       "      <td>2020-02-24</td>\n",
       "      <td>3.0</td>\n",
       "      <td>3</td>\n",
       "      <td>NaN</td>\n",
       "      <td>NaN</td>\n",
       "      <td>NaN</td>\n",
       "      <td>NaN</td>\n",
       "      <td>NaN</td>\n",
       "    </tr>\n",
       "    <tr>\n",
       "      <th>4</th>\n",
       "      <td>2020-02-25</td>\n",
       "      <td>4.0</td>\n",
       "      <td>4</td>\n",
       "      <td>NaN</td>\n",
       "      <td>NaN</td>\n",
       "      <td>NaN</td>\n",
       "      <td>NaN</td>\n",
       "      <td>NaN</td>\n",
       "    </tr>\n",
       "  </tbody>\n",
       "</table>\n",
       "</div>"
      ],
      "text/plain": [
       "         date  cases_total  cases_pcr  cases_test_ab  discharges  deceases  \\\n",
       "0  2020-02-21          3.0          3            NaN         NaN       NaN   \n",
       "1  2020-02-22          3.0          3            NaN         NaN       NaN   \n",
       "2  2020-02-23          3.0          3            NaN         NaN       NaN   \n",
       "3  2020-02-24          3.0          3            NaN         NaN       NaN   \n",
       "4  2020-02-25          4.0          4            NaN         NaN       NaN   \n",
       "\n",
       "   icu  hospitalized  \n",
       "0  NaN           NaN  \n",
       "1  NaN           NaN  \n",
       "2  NaN           NaN  \n",
       "3  NaN           NaN  \n",
       "4  NaN           NaN  "
      ]
     },
     "execution_count": 16,
     "metadata": {},
     "output_type": "execute_result"
    }
   ],
   "source": [
    "df.head()"
   ]
  },
  {
   "cell_type": "markdown",
   "id": "6da5fb81-9ebe-4ea0-a508-2ffdf86f0b20",
   "metadata": {},
   "source": [
    "Notice that you can retrieve the `dtypes` of the `DataFrame` (it's no longer a single `dtype`!) as well as a few other important properties:"
   ]
  },
  {
   "cell_type": "code",
   "execution_count": 17,
   "id": "29a5c6cc-6842-41c5-8d00-f7af8ae13fbb",
   "metadata": {},
   "outputs": [
    {
     "data": {
      "text/plain": [
       "date              object\n",
       "cases_total      float64\n",
       "cases_pcr          int64\n",
       "cases_test_ab    float64\n",
       "discharges       float64\n",
       "deceases         float64\n",
       "icu              float64\n",
       "hospitalized     float64\n",
       "dtype: object"
      ]
     },
     "execution_count": 17,
     "metadata": {},
     "output_type": "execute_result"
    }
   ],
   "source": [
    "df.dtypes"
   ]
  },
  {
   "cell_type": "code",
   "execution_count": 18,
   "id": "dd4d23d8-c64e-416c-b4ff-3a14ec708378",
   "metadata": {},
   "outputs": [
    {
     "data": {
      "text/plain": [
       "(183, 8)"
      ]
     },
     "execution_count": 18,
     "metadata": {},
     "output_type": "execute_result"
    }
   ],
   "source": [
    "df.shape"
   ]
  },
  {
   "cell_type": "markdown",
   "id": "22c237e4-fd52-4fee-9367-dde2c5bf8460",
   "metadata": {},
   "source": [
    "Some clarifications:\n",
    "\n",
    "- The `object` dtype means something pandas couldn't parse. Could be a string, a string representing a date, or something completely different. In most cases it means `str`, but be careful when they appear.\n",
    "- `float64` is similar to `int64`: a floating point value with 64 bits of precision.\n",
    "- `NaN` means \"Not a Number\" and in general it means \"missing value\". In following sessions you will see how to effectively handle missing values, and what do they mean."
   ]
  },
  {
   "cell_type": "markdown",
   "id": "ec2aeab4-bbbe-4ddf-ab45-168f192c553e",
   "metadata": {},
   "source": [
    "`DataFrame` objects have a large number of methods as well. When calling aggregation methods like `max()` or `mean()`, by default they're applied to all columns:"
   ]
  },
  {
   "cell_type": "code",
   "execution_count": 19,
   "id": "3e945c57-c46d-4cce-9803-2eda2af494bf",
   "metadata": {},
   "outputs": [
    {
     "data": {
      "text/plain": [
       "date             2020-09-10\n",
       "cases_total        280117.0\n",
       "cases_pcr            554143\n",
       "cases_test_ab       47080.0\n",
       "discharges         150376.0\n",
       "deceases            29699.0\n",
       "icu                 12700.0\n",
       "hospitalized       138917.0\n",
       "dtype: object"
      ]
     },
     "execution_count": 19,
     "metadata": {},
     "output_type": "execute_result"
    }
   ],
   "source": [
    "df.max()"
   ]
  },
  {
   "cell_type": "code",
   "execution_count": 20,
   "id": "860c4e3f-ae90-49cf-88a5-e61e61ba50c4",
   "metadata": {},
   "outputs": [
    {
     "data": {
      "text/html": [
       "<div>\n",
       "<style scoped>\n",
       "    .dataframe tbody tr th:only-of-type {\n",
       "        vertical-align: middle;\n",
       "    }\n",
       "\n",
       "    .dataframe tbody tr th {\n",
       "        vertical-align: top;\n",
       "    }\n",
       "\n",
       "    .dataframe thead th {\n",
       "        text-align: right;\n",
       "    }\n",
       "</style>\n",
       "<table border=\"1\" class=\"dataframe\">\n",
       "  <thead>\n",
       "    <tr style=\"text-align: right;\">\n",
       "      <th></th>\n",
       "      <th>cases_total</th>\n",
       "      <th>cases_pcr</th>\n",
       "      <th>cases_test_ab</th>\n",
       "      <th>discharges</th>\n",
       "      <th>deceases</th>\n",
       "      <th>icu</th>\n",
       "      <th>hospitalized</th>\n",
       "    </tr>\n",
       "  </thead>\n",
       "  <tbody>\n",
       "    <tr>\n",
       "      <th>count</th>\n",
       "      <td>91.000000</td>\n",
       "      <td>183.000000</td>\n",
       "      <td>48.000000</td>\n",
       "      <td>71.000000</td>\n",
       "      <td>171.000000</td>\n",
       "      <td>115.000000</td>\n",
       "      <td>117.000000</td>\n",
       "    </tr>\n",
       "    <tr>\n",
       "      <th>mean</th>\n",
       "      <td>131623.747253</td>\n",
       "      <td>209864.874317</td>\n",
       "      <td>21786.166667</td>\n",
       "      <td>63269.084507</td>\n",
       "      <td>21883.994152</td>\n",
       "      <td>11656.826087</td>\n",
       "      <td>125698.555556</td>\n",
       "    </tr>\n",
       "    <tr>\n",
       "      <th>std</th>\n",
       "      <td>107000.307291</td>\n",
       "      <td>126527.584749</td>\n",
       "      <td>17522.577549</td>\n",
       "      <td>52674.500062</td>\n",
       "      <td>9955.662054</td>\n",
       "      <td>384.250564</td>\n",
       "      <td>4743.664351</td>\n",
       "    </tr>\n",
       "    <tr>\n",
       "      <th>min</th>\n",
       "      <td>3.000000</td>\n",
       "      <td>3.000000</td>\n",
       "      <td>12.000000</td>\n",
       "      <td>24.000000</td>\n",
       "      <td>1.000000</td>\n",
       "      <td>10688.000000</td>\n",
       "      <td>113149.000000</td>\n",
       "    </tr>\n",
       "    <tr>\n",
       "      <th>25%</th>\n",
       "      <td>8716.000000</td>\n",
       "      <td>145125.500000</td>\n",
       "      <td>1798.250000</td>\n",
       "      <td>7408.500000</td>\n",
       "      <td>18591.500000</td>\n",
       "      <td>11408.500000</td>\n",
       "      <td>123987.000000</td>\n",
       "    </tr>\n",
       "    <tr>\n",
       "      <th>50%</th>\n",
       "      <td>142533.000000</td>\n",
       "      <td>234824.000000</td>\n",
       "      <td>20750.000000</td>\n",
       "      <td>59165.000000</td>\n",
       "      <td>27136.000000</td>\n",
       "      <td>11650.000000</td>\n",
       "      <td>124964.000000</td>\n",
       "    </tr>\n",
       "    <tr>\n",
       "      <th>75%</th>\n",
       "      <td>236720.000000</td>\n",
       "      <td>252784.500000</td>\n",
       "      <td>39472.000000</td>\n",
       "      <td>113363.000000</td>\n",
       "      <td>28418.000000</td>\n",
       "      <td>11793.000000</td>\n",
       "      <td>126880.000000</td>\n",
       "    </tr>\n",
       "    <tr>\n",
       "      <th>max</th>\n",
       "      <td>280117.000000</td>\n",
       "      <td>554143.000000</td>\n",
       "      <td>47080.000000</td>\n",
       "      <td>150376.000000</td>\n",
       "      <td>29699.000000</td>\n",
       "      <td>12700.000000</td>\n",
       "      <td>138917.000000</td>\n",
       "    </tr>\n",
       "  </tbody>\n",
       "</table>\n",
       "</div>"
      ],
      "text/plain": [
       "         cases_total      cases_pcr  cases_test_ab     discharges  \\\n",
       "count      91.000000     183.000000      48.000000      71.000000   \n",
       "mean   131623.747253  209864.874317   21786.166667   63269.084507   \n",
       "std    107000.307291  126527.584749   17522.577549   52674.500062   \n",
       "min         3.000000       3.000000      12.000000      24.000000   \n",
       "25%      8716.000000  145125.500000    1798.250000    7408.500000   \n",
       "50%    142533.000000  234824.000000   20750.000000   59165.000000   \n",
       "75%    236720.000000  252784.500000   39472.000000  113363.000000   \n",
       "max    280117.000000  554143.000000   47080.000000  150376.000000   \n",
       "\n",
       "           deceases           icu   hospitalized  \n",
       "count    171.000000    115.000000     117.000000  \n",
       "mean   21883.994152  11656.826087  125698.555556  \n",
       "std     9955.662054    384.250564    4743.664351  \n",
       "min        1.000000  10688.000000  113149.000000  \n",
       "25%    18591.500000  11408.500000  123987.000000  \n",
       "50%    27136.000000  11650.000000  124964.000000  \n",
       "75%    28418.000000  11793.000000  126880.000000  \n",
       "max    29699.000000  12700.000000  138917.000000  "
      ]
     },
     "execution_count": 20,
     "metadata": {},
     "output_type": "execute_result"
    }
   ],
   "source": [
    "df.describe()"
   ]
  },
  {
   "cell_type": "markdown",
   "id": "78916a15-3d44-49c2-a82f-6414541ceac2",
   "metadata": {},
   "source": [
    "## Indexing"
   ]
  },
  {
   "cell_type": "markdown",
   "id": "689a308f-416d-4682-8c6c-6e5aa6c0c089",
   "metadata": {},
   "source": [
    "To extract a single column, use the indexing syntax, like you would do with a dictionary, to return a `Series`:"
   ]
  },
  {
   "cell_type": "code",
   "execution_count": 21,
   "id": "de3a7544-0390-4fb9-bea4-d787587f5046",
   "metadata": {},
   "outputs": [
    {
     "data": {
      "text/plain": [
       "0      3.0\n",
       "1      3.0\n",
       "2      3.0\n",
       "3      3.0\n",
       "4      4.0\n",
       "      ... \n",
       "178    NaN\n",
       "179    NaN\n",
       "180    NaN\n",
       "181    NaN\n",
       "182    NaN\n",
       "Name: cases_total, Length: 183, dtype: float64"
      ]
     },
     "execution_count": 21,
     "metadata": {},
     "output_type": "execute_result"
    }
   ],
   "source": [
    "df[\"cases_total\"]"
   ]
  },
  {
   "cell_type": "markdown",
   "id": "d7e641c4-7910-4c1e-a7cd-ae59f4d59334",
   "metadata": {},
   "source": [
    "For anything else (retrieving a slice of columns, slicing both rows and columns), use the `.loc` accessor instead:"
   ]
  },
  {
   "cell_type": "code",
   "execution_count": 22,
   "id": "f084ffe3-aaf5-4997-b3b5-93a8127c47e1",
   "metadata": {},
   "outputs": [
    {
     "data": {
      "text/html": [
       "<div>\n",
       "<style scoped>\n",
       "    .dataframe tbody tr th:only-of-type {\n",
       "        vertical-align: middle;\n",
       "    }\n",
       "\n",
       "    .dataframe tbody tr th {\n",
       "        vertical-align: top;\n",
       "    }\n",
       "\n",
       "    .dataframe thead th {\n",
       "        text-align: right;\n",
       "    }\n",
       "</style>\n",
       "<table border=\"1\" class=\"dataframe\">\n",
       "  <thead>\n",
       "    <tr style=\"text-align: right;\">\n",
       "      <th></th>\n",
       "      <th>deceases</th>\n",
       "      <th>icu</th>\n",
       "      <th>hospitalized</th>\n",
       "    </tr>\n",
       "  </thead>\n",
       "  <tbody>\n",
       "    <tr>\n",
       "      <th>0</th>\n",
       "      <td>NaN</td>\n",
       "      <td>NaN</td>\n",
       "      <td>NaN</td>\n",
       "    </tr>\n",
       "    <tr>\n",
       "      <th>1</th>\n",
       "      <td>NaN</td>\n",
       "      <td>NaN</td>\n",
       "      <td>NaN</td>\n",
       "    </tr>\n",
       "    <tr>\n",
       "      <th>2</th>\n",
       "      <td>NaN</td>\n",
       "      <td>NaN</td>\n",
       "      <td>NaN</td>\n",
       "    </tr>\n",
       "    <tr>\n",
       "      <th>3</th>\n",
       "      <td>NaN</td>\n",
       "      <td>NaN</td>\n",
       "      <td>NaN</td>\n",
       "    </tr>\n",
       "    <tr>\n",
       "      <th>4</th>\n",
       "      <td>NaN</td>\n",
       "      <td>NaN</td>\n",
       "      <td>NaN</td>\n",
       "    </tr>\n",
       "    <tr>\n",
       "      <th>...</th>\n",
       "      <td>...</td>\n",
       "      <td>...</td>\n",
       "      <td>...</td>\n",
       "    </tr>\n",
       "    <tr>\n",
       "      <th>178</th>\n",
       "      <td>29418.0</td>\n",
       "      <td>12471.0</td>\n",
       "      <td>136322.0</td>\n",
       "    </tr>\n",
       "    <tr>\n",
       "      <th>179</th>\n",
       "      <td>29516.0</td>\n",
       "      <td>12566.0</td>\n",
       "      <td>137288.0</td>\n",
       "    </tr>\n",
       "    <tr>\n",
       "      <th>180</th>\n",
       "      <td>29594.0</td>\n",
       "      <td>12615.0</td>\n",
       "      <td>137863.0</td>\n",
       "    </tr>\n",
       "    <tr>\n",
       "      <th>181</th>\n",
       "      <td>29628.0</td>\n",
       "      <td>12660.0</td>\n",
       "      <td>138410.0</td>\n",
       "    </tr>\n",
       "    <tr>\n",
       "      <th>182</th>\n",
       "      <td>29699.0</td>\n",
       "      <td>12700.0</td>\n",
       "      <td>138917.0</td>\n",
       "    </tr>\n",
       "  </tbody>\n",
       "</table>\n",
       "<p>183 rows × 3 columns</p>\n",
       "</div>"
      ],
      "text/plain": [
       "     deceases      icu  hospitalized\n",
       "0         NaN      NaN           NaN\n",
       "1         NaN      NaN           NaN\n",
       "2         NaN      NaN           NaN\n",
       "3         NaN      NaN           NaN\n",
       "4         NaN      NaN           NaN\n",
       "..        ...      ...           ...\n",
       "178   29418.0  12471.0      136322.0\n",
       "179   29516.0  12566.0      137288.0\n",
       "180   29594.0  12615.0      137863.0\n",
       "181   29628.0  12660.0      138410.0\n",
       "182   29699.0  12700.0      138917.0\n",
       "\n",
       "[183 rows x 3 columns]"
      ]
     },
     "execution_count": 22,
     "metadata": {},
     "output_type": "execute_result"
    }
   ],
   "source": [
    "df.loc[:, \"deceases\":]  # All rows, from the \"deceases\" column to the last one"
   ]
  },
  {
   "cell_type": "code",
   "execution_count": 23,
   "id": "b9a30863-6631-4541-b03e-2cd43e296c32",
   "metadata": {},
   "outputs": [
    {
     "data": {
      "text/html": [
       "<div>\n",
       "<style scoped>\n",
       "    .dataframe tbody tr th:only-of-type {\n",
       "        vertical-align: middle;\n",
       "    }\n",
       "\n",
       "    .dataframe tbody tr th {\n",
       "        vertical-align: top;\n",
       "    }\n",
       "\n",
       "    .dataframe thead th {\n",
       "        text-align: right;\n",
       "    }\n",
       "</style>\n",
       "<table border=\"1\" class=\"dataframe\">\n",
       "  <thead>\n",
       "    <tr style=\"text-align: right;\">\n",
       "      <th></th>\n",
       "      <th>cases_total</th>\n",
       "      <th>cases_pcr</th>\n",
       "    </tr>\n",
       "  </thead>\n",
       "  <tbody>\n",
       "    <tr>\n",
       "      <th>0</th>\n",
       "      <td>3.0</td>\n",
       "      <td>3</td>\n",
       "    </tr>\n",
       "    <tr>\n",
       "      <th>1</th>\n",
       "      <td>3.0</td>\n",
       "      <td>3</td>\n",
       "    </tr>\n",
       "    <tr>\n",
       "      <th>2</th>\n",
       "      <td>3.0</td>\n",
       "      <td>3</td>\n",
       "    </tr>\n",
       "    <tr>\n",
       "      <th>3</th>\n",
       "      <td>3.0</td>\n",
       "      <td>3</td>\n",
       "    </tr>\n",
       "    <tr>\n",
       "      <th>4</th>\n",
       "      <td>4.0</td>\n",
       "      <td>4</td>\n",
       "    </tr>\n",
       "    <tr>\n",
       "      <th>5</th>\n",
       "      <td>10.0</td>\n",
       "      <td>10</td>\n",
       "    </tr>\n",
       "  </tbody>\n",
       "</table>\n",
       "</div>"
      ],
      "text/plain": [
       "   cases_total  cases_pcr\n",
       "0          3.0          3\n",
       "1          3.0          3\n",
       "2          3.0          3\n",
       "3          3.0          3\n",
       "4          4.0          4\n",
       "5         10.0         10"
      ]
     },
     "execution_count": 23,
     "metadata": {},
     "output_type": "execute_result"
    }
   ],
   "source": [
    "df.loc[:5, [\"cases_total\", \"cases_pcr\"]]  # Rows up to the one with the index 5 inclusive, columns \"cases_total\" and \"cases_pcr\" only"
   ]
  },
  {
   "cell_type": "code",
   "execution_count": 24,
   "id": "bf49916a-da99-4518-b7ee-f510ceb22e82",
   "metadata": {},
   "outputs": [
    {
     "data": {
      "text/html": [
       "<div>\n",
       "<style scoped>\n",
       "    .dataframe tbody tr th:only-of-type {\n",
       "        vertical-align: middle;\n",
       "    }\n",
       "\n",
       "    .dataframe tbody tr th {\n",
       "        vertical-align: top;\n",
       "    }\n",
       "\n",
       "    .dataframe thead th {\n",
       "        text-align: right;\n",
       "    }\n",
       "</style>\n",
       "<table border=\"1\" class=\"dataframe\">\n",
       "  <thead>\n",
       "    <tr style=\"text-align: right;\">\n",
       "      <th></th>\n",
       "      <th>icu</th>\n",
       "      <th>hospitalized</th>\n",
       "    </tr>\n",
       "  </thead>\n",
       "  <tbody>\n",
       "    <tr>\n",
       "      <th>100</th>\n",
       "      <td>11400.0</td>\n",
       "      <td>123871.0</td>\n",
       "    </tr>\n",
       "    <tr>\n",
       "      <th>110</th>\n",
       "      <td>11613.0</td>\n",
       "      <td>124479.0</td>\n",
       "    </tr>\n",
       "  </tbody>\n",
       "</table>\n",
       "</div>"
      ],
      "text/plain": [
       "         icu  hospitalized\n",
       "100  11400.0      123871.0\n",
       "110  11613.0      124479.0"
      ]
     },
     "execution_count": 24,
     "metadata": {},
     "output_type": "execute_result"
    }
   ],
   "source": [
    "df.loc[\n",
    "    [100, 110],  # Rows labeled 5 and 10\n",
    "    [\"icu\", \"hospitalized\"]\n",
    "]"
   ]
  },
  {
   "cell_type": "markdown",
   "id": "a51561ff-07a9-43d8-b14c-16505861188b",
   "metadata": {},
   "source": [
    "Notice that these methods work for _any_ `DataFrame`. For example, the result of `.describe()` is _also_ a `DataFrame`!"
   ]
  },
  {
   "cell_type": "code",
   "execution_count": 25,
   "id": "35d7ceea-fc80-4a08-a8a2-a1c4d6b23d2a",
   "metadata": {},
   "outputs": [
    {
     "data": {
      "text/html": [
       "<div>\n",
       "<style scoped>\n",
       "    .dataframe tbody tr th:only-of-type {\n",
       "        vertical-align: middle;\n",
       "    }\n",
       "\n",
       "    .dataframe tbody tr th {\n",
       "        vertical-align: top;\n",
       "    }\n",
       "\n",
       "    .dataframe thead th {\n",
       "        text-align: right;\n",
       "    }\n",
       "</style>\n",
       "<table border=\"1\" class=\"dataframe\">\n",
       "  <thead>\n",
       "    <tr style=\"text-align: right;\">\n",
       "      <th></th>\n",
       "      <th>cases_total</th>\n",
       "      <th>cases_pcr</th>\n",
       "      <th>cases_test_ab</th>\n",
       "      <th>discharges</th>\n",
       "      <th>deceases</th>\n",
       "      <th>icu</th>\n",
       "      <th>hospitalized</th>\n",
       "    </tr>\n",
       "  </thead>\n",
       "  <tbody>\n",
       "    <tr>\n",
       "      <th>count</th>\n",
       "      <td>91.000000</td>\n",
       "      <td>183.000000</td>\n",
       "      <td>48.000000</td>\n",
       "      <td>71.000000</td>\n",
       "      <td>171.000000</td>\n",
       "      <td>115.000000</td>\n",
       "      <td>117.000000</td>\n",
       "    </tr>\n",
       "    <tr>\n",
       "      <th>mean</th>\n",
       "      <td>131623.747253</td>\n",
       "      <td>209864.874317</td>\n",
       "      <td>21786.166667</td>\n",
       "      <td>63269.084507</td>\n",
       "      <td>21883.994152</td>\n",
       "      <td>11656.826087</td>\n",
       "      <td>125698.555556</td>\n",
       "    </tr>\n",
       "    <tr>\n",
       "      <th>std</th>\n",
       "      <td>107000.307291</td>\n",
       "      <td>126527.584749</td>\n",
       "      <td>17522.577549</td>\n",
       "      <td>52674.500062</td>\n",
       "      <td>9955.662054</td>\n",
       "      <td>384.250564</td>\n",
       "      <td>4743.664351</td>\n",
       "    </tr>\n",
       "    <tr>\n",
       "      <th>min</th>\n",
       "      <td>3.000000</td>\n",
       "      <td>3.000000</td>\n",
       "      <td>12.000000</td>\n",
       "      <td>24.000000</td>\n",
       "      <td>1.000000</td>\n",
       "      <td>10688.000000</td>\n",
       "      <td>113149.000000</td>\n",
       "    </tr>\n",
       "    <tr>\n",
       "      <th>25%</th>\n",
       "      <td>8716.000000</td>\n",
       "      <td>145125.500000</td>\n",
       "      <td>1798.250000</td>\n",
       "      <td>7408.500000</td>\n",
       "      <td>18591.500000</td>\n",
       "      <td>11408.500000</td>\n",
       "      <td>123987.000000</td>\n",
       "    </tr>\n",
       "    <tr>\n",
       "      <th>50%</th>\n",
       "      <td>142533.000000</td>\n",
       "      <td>234824.000000</td>\n",
       "      <td>20750.000000</td>\n",
       "      <td>59165.000000</td>\n",
       "      <td>27136.000000</td>\n",
       "      <td>11650.000000</td>\n",
       "      <td>124964.000000</td>\n",
       "    </tr>\n",
       "    <tr>\n",
       "      <th>75%</th>\n",
       "      <td>236720.000000</td>\n",
       "      <td>252784.500000</td>\n",
       "      <td>39472.000000</td>\n",
       "      <td>113363.000000</td>\n",
       "      <td>28418.000000</td>\n",
       "      <td>11793.000000</td>\n",
       "      <td>126880.000000</td>\n",
       "    </tr>\n",
       "    <tr>\n",
       "      <th>max</th>\n",
       "      <td>280117.000000</td>\n",
       "      <td>554143.000000</td>\n",
       "      <td>47080.000000</td>\n",
       "      <td>150376.000000</td>\n",
       "      <td>29699.000000</td>\n",
       "      <td>12700.000000</td>\n",
       "      <td>138917.000000</td>\n",
       "    </tr>\n",
       "  </tbody>\n",
       "</table>\n",
       "</div>"
      ],
      "text/plain": [
       "         cases_total      cases_pcr  cases_test_ab     discharges  \\\n",
       "count      91.000000     183.000000      48.000000      71.000000   \n",
       "mean   131623.747253  209864.874317   21786.166667   63269.084507   \n",
       "std    107000.307291  126527.584749   17522.577549   52674.500062   \n",
       "min         3.000000       3.000000      12.000000      24.000000   \n",
       "25%      8716.000000  145125.500000    1798.250000    7408.500000   \n",
       "50%    142533.000000  234824.000000   20750.000000   59165.000000   \n",
       "75%    236720.000000  252784.500000   39472.000000  113363.000000   \n",
       "max    280117.000000  554143.000000   47080.000000  150376.000000   \n",
       "\n",
       "           deceases           icu   hospitalized  \n",
       "count    171.000000    115.000000     117.000000  \n",
       "mean   21883.994152  11656.826087  125698.555556  \n",
       "std     9955.662054    384.250564    4743.664351  \n",
       "min        1.000000  10688.000000  113149.000000  \n",
       "25%    18591.500000  11408.500000  123987.000000  \n",
       "50%    27136.000000  11650.000000  124964.000000  \n",
       "75%    28418.000000  11793.000000  126880.000000  \n",
       "max    29699.000000  12700.000000  138917.000000  "
      ]
     },
     "execution_count": 25,
     "metadata": {},
     "output_type": "execute_result"
    }
   ],
   "source": [
    "stats = df.describe()\n",
    "stats"
   ]
  },
  {
   "cell_type": "code",
   "execution_count": 26,
   "id": "1518c021-5cc8-4fca-9534-adbebeb13491",
   "metadata": {},
   "outputs": [
    {
     "data": {
      "text/plain": [
       "pandas.core.frame.DataFrame"
      ]
     },
     "execution_count": 26,
     "metadata": {},
     "output_type": "execute_result"
    }
   ],
   "source": [
    "type(stats)"
   ]
  },
  {
   "cell_type": "code",
   "execution_count": 27,
   "id": "9f4a88bb-14ca-4631-b8b0-81b9ea228d7f",
   "metadata": {},
   "outputs": [
    {
     "data": {
      "text/html": [
       "<div>\n",
       "<style scoped>\n",
       "    .dataframe tbody tr th:only-of-type {\n",
       "        vertical-align: middle;\n",
       "    }\n",
       "\n",
       "    .dataframe tbody tr th {\n",
       "        vertical-align: top;\n",
       "    }\n",
       "\n",
       "    .dataframe thead th {\n",
       "        text-align: right;\n",
       "    }\n",
       "</style>\n",
       "<table border=\"1\" class=\"dataframe\">\n",
       "  <thead>\n",
       "    <tr style=\"text-align: right;\">\n",
       "      <th></th>\n",
       "      <th>cases_total</th>\n",
       "      <th>icu</th>\n",
       "    </tr>\n",
       "  </thead>\n",
       "  <tbody>\n",
       "    <tr>\n",
       "      <th>min</th>\n",
       "      <td>3.0</td>\n",
       "      <td>10688.0</td>\n",
       "    </tr>\n",
       "    <tr>\n",
       "      <th>25%</th>\n",
       "      <td>8716.0</td>\n",
       "      <td>11408.5</td>\n",
       "    </tr>\n",
       "    <tr>\n",
       "      <th>50%</th>\n",
       "      <td>142533.0</td>\n",
       "      <td>11650.0</td>\n",
       "    </tr>\n",
       "    <tr>\n",
       "      <th>75%</th>\n",
       "      <td>236720.0</td>\n",
       "      <td>11793.0</td>\n",
       "    </tr>\n",
       "    <tr>\n",
       "      <th>max</th>\n",
       "      <td>280117.0</td>\n",
       "      <td>12700.0</td>\n",
       "    </tr>\n",
       "  </tbody>\n",
       "</table>\n",
       "</div>"
      ],
      "text/plain": [
       "     cases_total      icu\n",
       "min          3.0  10688.0\n",
       "25%       8716.0  11408.5\n",
       "50%     142533.0  11650.0\n",
       "75%     236720.0  11793.0\n",
       "max     280117.0  12700.0"
      ]
     },
     "execution_count": 27,
     "metadata": {},
     "output_type": "execute_result"
    }
   ],
   "source": [
    "stats.loc[\"min\":\"max\", [\"cases_total\", \"icu\"]]"
   ]
  },
  {
   "cell_type": "markdown",
   "id": "4b9c94b7-5a71-4bd5-8c6a-6c0cf33c1e59",
   "metadata": {},
   "source": [
    "## Selection"
   ]
  },
  {
   "cell_type": "markdown",
   "id": "df1b1284-285a-4ce1-8b7a-6314dea06858",
   "metadata": {},
   "source": [
    "Filtering a `DataFrame` according to some condition is also done with the `.loc` accessor. For this, you can leverage the fact that operations between pandas `DataFrame` or `Series` objects and Python scalars are broadcasted automatically. In other words: operations are performed in sequence for all the elements of the pandas object."
   ]
  },
  {
   "cell_type": "code",
   "execution_count": 28,
   "id": "9eb9bfed-4100-4a5b-af98-1772b523b40d",
   "metadata": {},
   "outputs": [
    {
     "data": {
      "text/plain": [
       "False"
      ]
     },
     "execution_count": 28,
     "metadata": {},
     "output_type": "execute_result"
    }
   ],
   "source": [
    "3 > 100  # Returns False"
   ]
  },
  {
   "cell_type": "code",
   "execution_count": 29,
   "id": "38bdf18a-5a96-493a-bb0c-6012189bdfe7",
   "metadata": {},
   "outputs": [
    {
     "data": {
      "text/plain": [
       "0      False\n",
       "1      False\n",
       "2      False\n",
       "3      False\n",
       "4      False\n",
       "       ...  \n",
       "178    False\n",
       "179    False\n",
       "180    False\n",
       "181    False\n",
       "182    False\n",
       "Name: cases_total, Length: 183, dtype: bool"
      ]
     },
     "execution_count": 29,
     "metadata": {},
     "output_type": "execute_result"
    }
   ],
   "source": [
    "df[\"cases_total\"] > 100  # Returns a Series of boolean values"
   ]
  },
  {
   "cell_type": "markdown",
   "id": "ad3fd4e9-7794-40c3-a2f6-3131ca755cde",
   "metadata": {},
   "source": [
    "Does the previous `Series` contain any `True` value? You can check with the `.any()` method:"
   ]
  },
  {
   "cell_type": "code",
   "execution_count": 30,
   "id": "2407ed48-c959-4858-9149-5565ed5be605",
   "metadata": {},
   "outputs": [
    {
     "data": {
      "text/plain": [
       "True"
      ]
     },
     "execution_count": 30,
     "metadata": {},
     "output_type": "execute_result"
    }
   ],
   "source": [
    "cases_filter = df[\"cases_total\"] > 100\n",
    "cases_filter.any()"
   ]
  },
  {
   "cell_type": "code",
   "execution_count": 31,
   "id": "0f103a33-df5a-43e6-9bf1-4f0cd64dc3e8",
   "metadata": {},
   "outputs": [
    {
     "data": {
      "text/plain": [
       "dtype('bool')"
      ]
     },
     "execution_count": 31,
     "metadata": {},
     "output_type": "execute_result"
    }
   ],
   "source": [
    "cases_filter.dtype"
   ]
  },
  {
   "cell_type": "markdown",
   "id": "83ab81ac-b54a-4754-8e68-ea38c761bbe6",
   "metadata": {},
   "source": [
    "You can use this filter or mask inside `.loc` to select a subset of rows:"
   ]
  },
  {
   "cell_type": "code",
   "execution_count": 32,
   "id": "de85b2eb-66a3-4be5-bf88-b7a7d912acaf",
   "metadata": {},
   "outputs": [
    {
     "data": {
      "text/html": [
       "<div>\n",
       "<style scoped>\n",
       "    .dataframe tbody tr th:only-of-type {\n",
       "        vertical-align: middle;\n",
       "    }\n",
       "\n",
       "    .dataframe tbody tr th {\n",
       "        vertical-align: top;\n",
       "    }\n",
       "\n",
       "    .dataframe thead th {\n",
       "        text-align: right;\n",
       "    }\n",
       "</style>\n",
       "<table border=\"1\" class=\"dataframe\">\n",
       "  <thead>\n",
       "    <tr style=\"text-align: right;\">\n",
       "      <th></th>\n",
       "      <th>date</th>\n",
       "      <th>cases_total</th>\n",
       "      <th>cases_pcr</th>\n",
       "      <th>cases_test_ab</th>\n",
       "      <th>discharges</th>\n",
       "      <th>deceases</th>\n",
       "      <th>icu</th>\n",
       "      <th>hospitalized</th>\n",
       "    </tr>\n",
       "  </thead>\n",
       "  <tbody>\n",
       "    <tr>\n",
       "      <th>10</th>\n",
       "      <td>2020-03-02</td>\n",
       "      <td>138.0</td>\n",
       "      <td>138</td>\n",
       "      <td>NaN</td>\n",
       "      <td>NaN</td>\n",
       "      <td>NaN</td>\n",
       "      <td>NaN</td>\n",
       "      <td>NaN</td>\n",
       "    </tr>\n",
       "    <tr>\n",
       "      <th>11</th>\n",
       "      <td>2020-03-03</td>\n",
       "      <td>195.0</td>\n",
       "      <td>195</td>\n",
       "      <td>NaN</td>\n",
       "      <td>NaN</td>\n",
       "      <td>NaN</td>\n",
       "      <td>NaN</td>\n",
       "      <td>NaN</td>\n",
       "    </tr>\n",
       "    <tr>\n",
       "      <th>12</th>\n",
       "      <td>2020-03-04</td>\n",
       "      <td>269.0</td>\n",
       "      <td>269</td>\n",
       "      <td>NaN</td>\n",
       "      <td>NaN</td>\n",
       "      <td>1.0</td>\n",
       "      <td>NaN</td>\n",
       "      <td>NaN</td>\n",
       "    </tr>\n",
       "    <tr>\n",
       "      <th>13</th>\n",
       "      <td>2020-03-05</td>\n",
       "      <td>351.0</td>\n",
       "      <td>351</td>\n",
       "      <td>NaN</td>\n",
       "      <td>NaN</td>\n",
       "      <td>3.0</td>\n",
       "      <td>NaN</td>\n",
       "      <td>NaN</td>\n",
       "    </tr>\n",
       "    <tr>\n",
       "      <th>14</th>\n",
       "      <td>2020-03-06</td>\n",
       "      <td>533.0</td>\n",
       "      <td>533</td>\n",
       "      <td>NaN</td>\n",
       "      <td>NaN</td>\n",
       "      <td>5.0</td>\n",
       "      <td>NaN</td>\n",
       "      <td>NaN</td>\n",
       "    </tr>\n",
       "    <tr>\n",
       "      <th>...</th>\n",
       "      <td>...</td>\n",
       "      <td>...</td>\n",
       "      <td>...</td>\n",
       "      <td>...</td>\n",
       "      <td>...</td>\n",
       "      <td>...</td>\n",
       "      <td>...</td>\n",
       "      <td>...</td>\n",
       "    </tr>\n",
       "    <tr>\n",
       "      <th>86</th>\n",
       "      <td>2020-05-17</td>\n",
       "      <td>278020.0</td>\n",
       "      <td>231651</td>\n",
       "      <td>46369.0</td>\n",
       "      <td>149579.0</td>\n",
       "      <td>27634.0</td>\n",
       "      <td>11378.0</td>\n",
       "      <td>123835.0</td>\n",
       "    </tr>\n",
       "    <tr>\n",
       "      <th>87</th>\n",
       "      <td>2020-05-18</td>\n",
       "      <td>278548.0</td>\n",
       "      <td>231966</td>\n",
       "      <td>46582.0</td>\n",
       "      <td>150376.0</td>\n",
       "      <td>27693.0</td>\n",
       "      <td>11391.0</td>\n",
       "      <td>123991.0</td>\n",
       "    </tr>\n",
       "    <tr>\n",
       "      <th>88</th>\n",
       "      <td>2020-05-19</td>\n",
       "      <td>279012.0</td>\n",
       "      <td>232246</td>\n",
       "      <td>46766.0</td>\n",
       "      <td>NaN</td>\n",
       "      <td>27793.0</td>\n",
       "      <td>11403.0</td>\n",
       "      <td>124421.0</td>\n",
       "    </tr>\n",
       "    <tr>\n",
       "      <th>89</th>\n",
       "      <td>2020-05-20</td>\n",
       "      <td>279662.0</td>\n",
       "      <td>232693</td>\n",
       "      <td>46969.0</td>\n",
       "      <td>NaN</td>\n",
       "      <td>27892.0</td>\n",
       "      <td>11434.0</td>\n",
       "      <td>124381.0</td>\n",
       "    </tr>\n",
       "    <tr>\n",
       "      <th>90</th>\n",
       "      <td>2020-05-21</td>\n",
       "      <td>280117.0</td>\n",
       "      <td>233037</td>\n",
       "      <td>47080.0</td>\n",
       "      <td>NaN</td>\n",
       "      <td>27940.0</td>\n",
       "      <td>11454.0</td>\n",
       "      <td>124521.0</td>\n",
       "    </tr>\n",
       "  </tbody>\n",
       "</table>\n",
       "<p>81 rows × 8 columns</p>\n",
       "</div>"
      ],
      "text/plain": [
       "          date  cases_total  cases_pcr  cases_test_ab  discharges  deceases  \\\n",
       "10  2020-03-02        138.0        138            NaN         NaN       NaN   \n",
       "11  2020-03-03        195.0        195            NaN         NaN       NaN   \n",
       "12  2020-03-04        269.0        269            NaN         NaN       1.0   \n",
       "13  2020-03-05        351.0        351            NaN         NaN       3.0   \n",
       "14  2020-03-06        533.0        533            NaN         NaN       5.0   \n",
       "..         ...          ...        ...            ...         ...       ...   \n",
       "86  2020-05-17     278020.0     231651        46369.0    149579.0   27634.0   \n",
       "87  2020-05-18     278548.0     231966        46582.0    150376.0   27693.0   \n",
       "88  2020-05-19     279012.0     232246        46766.0         NaN   27793.0   \n",
       "89  2020-05-20     279662.0     232693        46969.0         NaN   27892.0   \n",
       "90  2020-05-21     280117.0     233037        47080.0         NaN   27940.0   \n",
       "\n",
       "        icu  hospitalized  \n",
       "10      NaN           NaN  \n",
       "11      NaN           NaN  \n",
       "12      NaN           NaN  \n",
       "13      NaN           NaN  \n",
       "14      NaN           NaN  \n",
       "..      ...           ...  \n",
       "86  11378.0      123835.0  \n",
       "87  11391.0      123991.0  \n",
       "88  11403.0      124421.0  \n",
       "89  11434.0      124381.0  \n",
       "90  11454.0      124521.0  \n",
       "\n",
       "[81 rows x 8 columns]"
      ]
     },
     "execution_count": 32,
     "metadata": {},
     "output_type": "execute_result"
    }
   ],
   "source": [
    "df.loc[cases_filter]"
   ]
  },
  {
   "cell_type": "markdown",
   "id": "1dada4b8-d472-4248-8229-4786c263fc2a",
   "metadata": {},
   "source": [
    "Combining filters requires some care, because the usual boolean Python operators don't work:"
   ]
  },
  {
   "cell_type": "code",
   "execution_count": 33,
   "id": "33ee59ef-be42-411b-ade1-15bbbcc7826c",
   "metadata": {},
   "outputs": [
    {
     "data": {
      "text/plain": [
       "False"
      ]
     },
     "execution_count": 33,
     "metadata": {},
     "output_type": "execute_result"
    }
   ],
   "source": [
    "(3 > 100) and (3 < 1_000)"
   ]
  },
  {
   "cell_type": "code",
   "execution_count": 34,
   "id": "e5aac387-fb08-4b06-adb6-7c656d6dccc5",
   "metadata": {},
   "outputs": [
    {
     "ename": "ValueError",
     "evalue": "The truth value of a Series is ambiguous. Use a.empty, a.bool(), a.item(), a.any() or a.all().",
     "output_type": "error",
     "traceback": [
      "\u001b[0;31m---------------------------------------------------------------------------\u001b[0m",
      "\u001b[0;31mValueError\u001b[0m                                Traceback (most recent call last)",
      "Input \u001b[0;32mIn [34]\u001b[0m, in \u001b[0;36m<cell line: 1>\u001b[0;34m()\u001b[0m\n\u001b[0;32m----> 1\u001b[0m (df[\u001b[38;5;124m\"\u001b[39m\u001b[38;5;124mcases_total\u001b[39m\u001b[38;5;124m\"\u001b[39m] \u001b[38;5;241m>\u001b[39m \u001b[38;5;241m100\u001b[39m) \u001b[38;5;129;01mand\u001b[39;00m (df[\u001b[38;5;124m\"\u001b[39m\u001b[38;5;124mcases_total\u001b[39m\u001b[38;5;124m\"\u001b[39m] \u001b[38;5;241m<\u001b[39m \u001b[38;5;241m1_000\u001b[39m)\n",
      "File \u001b[0;32m~/.micromamba/envs/mbd39/lib/python3.9/site-packages/pandas/core/generic.py:1527\u001b[0m, in \u001b[0;36mNDFrame.__nonzero__\u001b[0;34m(self)\u001b[0m\n\u001b[1;32m   1525\u001b[0m \u001b[38;5;129m@final\u001b[39m\n\u001b[1;32m   1526\u001b[0m \u001b[38;5;28;01mdef\u001b[39;00m \u001b[38;5;21m__nonzero__\u001b[39m(\u001b[38;5;28mself\u001b[39m):\n\u001b[0;32m-> 1527\u001b[0m     \u001b[38;5;28;01mraise\u001b[39;00m \u001b[38;5;167;01mValueError\u001b[39;00m(\n\u001b[1;32m   1528\u001b[0m         \u001b[38;5;124mf\u001b[39m\u001b[38;5;124m\"\u001b[39m\u001b[38;5;124mThe truth value of a \u001b[39m\u001b[38;5;132;01m{\u001b[39;00m\u001b[38;5;28mtype\u001b[39m(\u001b[38;5;28mself\u001b[39m)\u001b[38;5;241m.\u001b[39m\u001b[38;5;18m__name__\u001b[39m\u001b[38;5;132;01m}\u001b[39;00m\u001b[38;5;124m is ambiguous. \u001b[39m\u001b[38;5;124m\"\u001b[39m\n\u001b[1;32m   1529\u001b[0m         \u001b[38;5;124m\"\u001b[39m\u001b[38;5;124mUse a.empty, a.bool(), a.item(), a.any() or a.all().\u001b[39m\u001b[38;5;124m\"\u001b[39m\n\u001b[1;32m   1530\u001b[0m     )\n",
      "\u001b[0;31mValueError\u001b[0m: The truth value of a Series is ambiguous. Use a.empty, a.bool(), a.item(), a.any() or a.all()."
     ]
    }
   ],
   "source": [
    "(df[\"cases_total\"] > 100) and (df[\"cases_total\"] < 1_000)  # Fails!"
   ]
  },
  {
   "cell_type": "markdown",
   "id": "9483fa12-425f-4b0a-9244-fc939c6c199c",
   "metadata": {},
   "source": [
    "To operate boolean pandas `Series`, you need to use the bitwise operators:\n",
    "\n",
    "- Bitwise OR `|`\n",
    "- Bitwise AND `&`\n",
    "- Bitwise NOT `~`"
   ]
  },
  {
   "cell_type": "code",
   "execution_count": 35,
   "id": "5423c268-d3a3-4476-a8b6-bee383f0908e",
   "metadata": {},
   "outputs": [
    {
     "data": {
      "text/html": [
       "<div>\n",
       "<style scoped>\n",
       "    .dataframe tbody tr th:only-of-type {\n",
       "        vertical-align: middle;\n",
       "    }\n",
       "\n",
       "    .dataframe tbody tr th {\n",
       "        vertical-align: top;\n",
       "    }\n",
       "\n",
       "    .dataframe thead th {\n",
       "        text-align: right;\n",
       "    }\n",
       "</style>\n",
       "<table border=\"1\" class=\"dataframe\">\n",
       "  <thead>\n",
       "    <tr style=\"text-align: right;\">\n",
       "      <th></th>\n",
       "      <th>date</th>\n",
       "      <th>cases_total</th>\n",
       "      <th>cases_pcr</th>\n",
       "      <th>cases_test_ab</th>\n",
       "      <th>discharges</th>\n",
       "      <th>deceases</th>\n",
       "      <th>icu</th>\n",
       "      <th>hospitalized</th>\n",
       "    </tr>\n",
       "  </thead>\n",
       "  <tbody>\n",
       "    <tr>\n",
       "      <th>10</th>\n",
       "      <td>2020-03-02</td>\n",
       "      <td>138.0</td>\n",
       "      <td>138</td>\n",
       "      <td>NaN</td>\n",
       "      <td>NaN</td>\n",
       "      <td>NaN</td>\n",
       "      <td>NaN</td>\n",
       "      <td>NaN</td>\n",
       "    </tr>\n",
       "    <tr>\n",
       "      <th>11</th>\n",
       "      <td>2020-03-03</td>\n",
       "      <td>195.0</td>\n",
       "      <td>195</td>\n",
       "      <td>NaN</td>\n",
       "      <td>NaN</td>\n",
       "      <td>NaN</td>\n",
       "      <td>NaN</td>\n",
       "      <td>NaN</td>\n",
       "    </tr>\n",
       "    <tr>\n",
       "      <th>12</th>\n",
       "      <td>2020-03-04</td>\n",
       "      <td>269.0</td>\n",
       "      <td>269</td>\n",
       "      <td>NaN</td>\n",
       "      <td>NaN</td>\n",
       "      <td>1.0</td>\n",
       "      <td>NaN</td>\n",
       "      <td>NaN</td>\n",
       "    </tr>\n",
       "    <tr>\n",
       "      <th>13</th>\n",
       "      <td>2020-03-05</td>\n",
       "      <td>351.0</td>\n",
       "      <td>351</td>\n",
       "      <td>NaN</td>\n",
       "      <td>NaN</td>\n",
       "      <td>3.0</td>\n",
       "      <td>NaN</td>\n",
       "      <td>NaN</td>\n",
       "    </tr>\n",
       "    <tr>\n",
       "      <th>14</th>\n",
       "      <td>2020-03-06</td>\n",
       "      <td>533.0</td>\n",
       "      <td>533</td>\n",
       "      <td>NaN</td>\n",
       "      <td>NaN</td>\n",
       "      <td>5.0</td>\n",
       "      <td>NaN</td>\n",
       "      <td>NaN</td>\n",
       "    </tr>\n",
       "    <tr>\n",
       "      <th>15</th>\n",
       "      <td>2020-03-07</td>\n",
       "      <td>768.0</td>\n",
       "      <td>768</td>\n",
       "      <td>NaN</td>\n",
       "      <td>NaN</td>\n",
       "      <td>8.0</td>\n",
       "      <td>NaN</td>\n",
       "      <td>NaN</td>\n",
       "    </tr>\n",
       "  </tbody>\n",
       "</table>\n",
       "</div>"
      ],
      "text/plain": [
       "          date  cases_total  cases_pcr  cases_test_ab  discharges  deceases  \\\n",
       "10  2020-03-02        138.0        138            NaN         NaN       NaN   \n",
       "11  2020-03-03        195.0        195            NaN         NaN       NaN   \n",
       "12  2020-03-04        269.0        269            NaN         NaN       1.0   \n",
       "13  2020-03-05        351.0        351            NaN         NaN       3.0   \n",
       "14  2020-03-06        533.0        533            NaN         NaN       5.0   \n",
       "15  2020-03-07        768.0        768            NaN         NaN       8.0   \n",
       "\n",
       "    icu  hospitalized  \n",
       "10  NaN           NaN  \n",
       "11  NaN           NaN  \n",
       "12  NaN           NaN  \n",
       "13  NaN           NaN  \n",
       "14  NaN           NaN  \n",
       "15  NaN           NaN  "
      ]
     },
     "execution_count": 35,
     "metadata": {},
     "output_type": "execute_result"
    }
   ],
   "source": [
    "# Select rows with cases_total between 100 and 1000\n",
    "cases_filter = (100 < df[\"cases_total\"]) & (df[\"cases_total\"] < 1_000)\n",
    "df.loc[cases_filter]"
   ]
  },
  {
   "cell_type": "code",
   "execution_count": 36,
   "id": "12e7b874-3ccd-4958-b68c-57ab81048032",
   "metadata": {},
   "outputs": [
    {
     "data": {
      "text/html": [
       "<div>\n",
       "<style scoped>\n",
       "    .dataframe tbody tr th:only-of-type {\n",
       "        vertical-align: middle;\n",
       "    }\n",
       "\n",
       "    .dataframe tbody tr th {\n",
       "        vertical-align: top;\n",
       "    }\n",
       "\n",
       "    .dataframe thead th {\n",
       "        text-align: right;\n",
       "    }\n",
       "</style>\n",
       "<table border=\"1\" class=\"dataframe\">\n",
       "  <thead>\n",
       "    <tr style=\"text-align: right;\">\n",
       "      <th></th>\n",
       "      <th>date</th>\n",
       "      <th>cases_total</th>\n",
       "      <th>cases_pcr</th>\n",
       "      <th>cases_test_ab</th>\n",
       "      <th>discharges</th>\n",
       "      <th>deceases</th>\n",
       "      <th>icu</th>\n",
       "      <th>hospitalized</th>\n",
       "    </tr>\n",
       "  </thead>\n",
       "  <tbody>\n",
       "    <tr>\n",
       "      <th>68</th>\n",
       "      <td>2020-04-29</td>\n",
       "      <td>238456.0</td>\n",
       "      <td>214387</td>\n",
       "      <td>24069.0</td>\n",
       "      <td>108947.0</td>\n",
       "      <td>24272.0</td>\n",
       "      <td>10688.0</td>\n",
       "      <td>114994.0</td>\n",
       "    </tr>\n",
       "    <tr>\n",
       "      <th>69</th>\n",
       "      <td>2020-04-30</td>\n",
       "      <td>241653.0</td>\n",
       "      <td>215663</td>\n",
       "      <td>25990.0</td>\n",
       "      <td>112050.0</td>\n",
       "      <td>24537.0</td>\n",
       "      <td>10745.0</td>\n",
       "      <td>115787.0</td>\n",
       "    </tr>\n",
       "    <tr>\n",
       "      <th>70</th>\n",
       "      <td>2020-05-01</td>\n",
       "      <td>244848.0</td>\n",
       "      <td>216965</td>\n",
       "      <td>27883.0</td>\n",
       "      <td>114676.0</td>\n",
       "      <td>24818.0</td>\n",
       "      <td>10826.0</td>\n",
       "      <td>116497.0</td>\n",
       "    </tr>\n",
       "    <tr>\n",
       "      <th>71</th>\n",
       "      <td>2020-05-02</td>\n",
       "      <td>247516.0</td>\n",
       "      <td>218394</td>\n",
       "      <td>29122.0</td>\n",
       "      <td>117248.0</td>\n",
       "      <td>25097.0</td>\n",
       "      <td>10876.0</td>\n",
       "      <td>117021.0</td>\n",
       "    </tr>\n",
       "    <tr>\n",
       "      <th>72</th>\n",
       "      <td>2020-05-03</td>\n",
       "      <td>249050.0</td>\n",
       "      <td>219277</td>\n",
       "      <td>29773.0</td>\n",
       "      <td>118902.0</td>\n",
       "      <td>25260.0</td>\n",
       "      <td>10940.0</td>\n",
       "      <td>117550.0</td>\n",
       "    </tr>\n",
       "    <tr>\n",
       "      <th>...</th>\n",
       "      <td>...</td>\n",
       "      <td>...</td>\n",
       "      <td>...</td>\n",
       "      <td>...</td>\n",
       "      <td>...</td>\n",
       "      <td>...</td>\n",
       "      <td>...</td>\n",
       "      <td>...</td>\n",
       "    </tr>\n",
       "    <tr>\n",
       "      <th>178</th>\n",
       "      <td>2020-09-04</td>\n",
       "      <td>NaN</td>\n",
       "      <td>498989</td>\n",
       "      <td>NaN</td>\n",
       "      <td>NaN</td>\n",
       "      <td>29418.0</td>\n",
       "      <td>12471.0</td>\n",
       "      <td>136322.0</td>\n",
       "    </tr>\n",
       "    <tr>\n",
       "      <th>179</th>\n",
       "      <td>2020-09-07</td>\n",
       "      <td>NaN</td>\n",
       "      <td>525549</td>\n",
       "      <td>NaN</td>\n",
       "      <td>NaN</td>\n",
       "      <td>29516.0</td>\n",
       "      <td>12566.0</td>\n",
       "      <td>137288.0</td>\n",
       "    </tr>\n",
       "    <tr>\n",
       "      <th>180</th>\n",
       "      <td>2020-09-08</td>\n",
       "      <td>NaN</td>\n",
       "      <td>534513</td>\n",
       "      <td>NaN</td>\n",
       "      <td>NaN</td>\n",
       "      <td>29594.0</td>\n",
       "      <td>12615.0</td>\n",
       "      <td>137863.0</td>\n",
       "    </tr>\n",
       "    <tr>\n",
       "      <th>181</th>\n",
       "      <td>2020-09-09</td>\n",
       "      <td>NaN</td>\n",
       "      <td>543379</td>\n",
       "      <td>NaN</td>\n",
       "      <td>NaN</td>\n",
       "      <td>29628.0</td>\n",
       "      <td>12660.0</td>\n",
       "      <td>138410.0</td>\n",
       "    </tr>\n",
       "    <tr>\n",
       "      <th>182</th>\n",
       "      <td>2020-09-10</td>\n",
       "      <td>NaN</td>\n",
       "      <td>554143</td>\n",
       "      <td>NaN</td>\n",
       "      <td>NaN</td>\n",
       "      <td>29699.0</td>\n",
       "      <td>12700.0</td>\n",
       "      <td>138917.0</td>\n",
       "    </tr>\n",
       "  </tbody>\n",
       "</table>\n",
       "<p>115 rows × 8 columns</p>\n",
       "</div>"
      ],
      "text/plain": [
       "           date  cases_total  cases_pcr  cases_test_ab  discharges  deceases  \\\n",
       "68   2020-04-29     238456.0     214387        24069.0    108947.0   24272.0   \n",
       "69   2020-04-30     241653.0     215663        25990.0    112050.0   24537.0   \n",
       "70   2020-05-01     244848.0     216965        27883.0    114676.0   24818.0   \n",
       "71   2020-05-02     247516.0     218394        29122.0    117248.0   25097.0   \n",
       "72   2020-05-03     249050.0     219277        29773.0    118902.0   25260.0   \n",
       "..          ...          ...        ...            ...         ...       ...   \n",
       "178  2020-09-04          NaN     498989            NaN         NaN   29418.0   \n",
       "179  2020-09-07          NaN     525549            NaN         NaN   29516.0   \n",
       "180  2020-09-08          NaN     534513            NaN         NaN   29594.0   \n",
       "181  2020-09-09          NaN     543379            NaN         NaN   29628.0   \n",
       "182  2020-09-10          NaN     554143            NaN         NaN   29699.0   \n",
       "\n",
       "         icu  hospitalized  \n",
       "68   10688.0      114994.0  \n",
       "69   10745.0      115787.0  \n",
       "70   10826.0      116497.0  \n",
       "71   10876.0      117021.0  \n",
       "72   10940.0      117550.0  \n",
       "..       ...           ...  \n",
       "178  12471.0      136322.0  \n",
       "179  12566.0      137288.0  \n",
       "180  12615.0      137863.0  \n",
       "181  12660.0      138410.0  \n",
       "182  12700.0      138917.0  \n",
       "\n",
       "[115 rows x 8 columns]"
      ]
     },
     "execution_count": 36,
     "metadata": {},
     "output_type": "execute_result"
    }
   ],
   "source": [
    "# Select cases where \"icu\" is not null, equivalent to\n",
    "# df.loc[df[\"icu\"].notnull()]\n",
    "df.loc[~df[\"icu\"].isnull()]"
   ]
  },
  {
   "cell_type": "markdown",
   "id": "681e9904-b478-4072-8dd0-75f13ccac256",
   "metadata": {},
   "source": [
    "## Exercises"
   ]
  },
  {
   "cell_type": "markdown",
   "id": "768b50a6-dabc-4737-a745-9962d2925d48",
   "metadata": {},
   "source": [
    "### 1. Selecting rows and columns\n",
    "\n",
    "Display the PCR cases and discharges where the total cases are between 2000 and 500000 and ICU cases are less than 100000."
   ]
  },
  {
   "cell_type": "markdown",
   "id": "db39fc17-4196-411c-a831-12002122e3c1",
   "metadata": {},
   "source": [
    "### 2. Loading semi-structured data\n",
    "\n",
    "Load the `reddit_all.json` data to a Python object, then use the method `pandas.DataFrame.from_records` to turn the list of posts into a `DataFrame`:"
   ]
  },
  {
   "cell_type": "code",
   "execution_count": 66,
   "id": "36806e18-6d39-4a9d-92d4-ffe0d6fa1713",
   "metadata": {},
   "outputs": [
    {
     "name": "stdout",
     "output_type": "stream",
     "text": [
      "<class 'dict'> 2\n"
     ]
    }
   ],
   "source": [
    "import requests\n",
    "\n",
    "DATA_URL = (\n",
    "    \"https://github.com/astrojuanlu/ie-mbd-python-data-analysis-i/\"\n",
    "    \"raw/main/data/reddit_all.json\"\n",
    ")\n",
    "\n",
    "data = requests.get(DATA_URL).json()\n",
    "print(type(data), len(data))"
   ]
  },
  {
   "cell_type": "code",
   "execution_count": 67,
   "id": "78e12c89-786d-44a0-aef3-5986803b178a",
   "metadata": {},
   "outputs": [
    {
     "data": {
      "text/html": [
       "<div>\n",
       "<style scoped>\n",
       "    .dataframe tbody tr th:only-of-type {\n",
       "        vertical-align: middle;\n",
       "    }\n",
       "\n",
       "    .dataframe tbody tr th {\n",
       "        vertical-align: top;\n",
       "    }\n",
       "\n",
       "    .dataframe thead th {\n",
       "        text-align: right;\n",
       "    }\n",
       "</style>\n",
       "<table border=\"1\" class=\"dataframe\">\n",
       "  <thead>\n",
       "    <tr style=\"text-align: right;\">\n",
       "      <th></th>\n",
       "      <th>approved_at_utc</th>\n",
       "      <th>subreddit</th>\n",
       "      <th>selftext</th>\n",
       "      <th>author_fullname</th>\n",
       "      <th>saved</th>\n",
       "      <th>mod_reason_title</th>\n",
       "      <th>gilded</th>\n",
       "      <th>clicked</th>\n",
       "      <th>title</th>\n",
       "      <th>link_flair_richtext</th>\n",
       "      <th>...</th>\n",
       "      <th>subreddit_subscribers</th>\n",
       "      <th>created_utc</th>\n",
       "      <th>num_crossposts</th>\n",
       "      <th>media</th>\n",
       "      <th>is_video</th>\n",
       "      <th>post_hint</th>\n",
       "      <th>preview</th>\n",
       "      <th>link_flair_template_id</th>\n",
       "      <th>crosspost_parent_list</th>\n",
       "      <th>crosspost_parent</th>\n",
       "    </tr>\n",
       "  </thead>\n",
       "  <tbody>\n",
       "    <tr>\n",
       "      <th>0</th>\n",
       "      <td>None</td>\n",
       "      <td>wallstreetbets</td>\n",
       "      <td></td>\n",
       "      <td>t2_amboe4pe</td>\n",
       "      <td>False</td>\n",
       "      <td>None</td>\n",
       "      <td>2</td>\n",
       "      <td>False</td>\n",
       "      <td>🔮WallStreetBets Predictions Tournament for Oct...</td>\n",
       "      <td>[]</td>\n",
       "      <td>...</td>\n",
       "      <td>12952239</td>\n",
       "      <td>1.666916e+09</td>\n",
       "      <td>20</td>\n",
       "      <td>None</td>\n",
       "      <td>False</td>\n",
       "      <td>NaN</td>\n",
       "      <td>NaN</td>\n",
       "      <td>NaN</td>\n",
       "      <td>NaN</td>\n",
       "      <td>NaN</td>\n",
       "    </tr>\n",
       "    <tr>\n",
       "      <th>1</th>\n",
       "      <td>None</td>\n",
       "      <td>funny</td>\n",
       "      <td></td>\n",
       "      <td>t2_2ta10nt2</td>\n",
       "      <td>False</td>\n",
       "      <td>None</td>\n",
       "      <td>0</td>\n",
       "      <td>False</td>\n",
       "      <td>The perfect ad...</td>\n",
       "      <td>[]</td>\n",
       "      <td>...</td>\n",
       "      <td>44163467</td>\n",
       "      <td>1.666948e+09</td>\n",
       "      <td>5</td>\n",
       "      <td>{'reddit_video': {'bitrate_kbps': 2400, 'fallb...</td>\n",
       "      <td>True</td>\n",
       "      <td>hosted:video</td>\n",
       "      <td>{'images': [{'source': {'url': 'https://extern...</td>\n",
       "      <td>85409106-7d50-11e7-a2b0-0ea49b7e8eb0</td>\n",
       "      <td>NaN</td>\n",
       "      <td>NaN</td>\n",
       "    </tr>\n",
       "    <tr>\n",
       "      <th>2</th>\n",
       "      <td>None</td>\n",
       "      <td>aww</td>\n",
       "      <td></td>\n",
       "      <td>t2_b8tjnz2o</td>\n",
       "      <td>False</td>\n",
       "      <td>None</td>\n",
       "      <td>0</td>\n",
       "      <td>False</td>\n",
       "      <td>My own little house elf</td>\n",
       "      <td>[]</td>\n",
       "      <td>...</td>\n",
       "      <td>32474395</td>\n",
       "      <td>1.666951e+09</td>\n",
       "      <td>1</td>\n",
       "      <td>None</td>\n",
       "      <td>False</td>\n",
       "      <td>image</td>\n",
       "      <td>{'images': [{'source': {'url': 'https://extern...</td>\n",
       "      <td>NaN</td>\n",
       "      <td>NaN</td>\n",
       "      <td>NaN</td>\n",
       "    </tr>\n",
       "    <tr>\n",
       "      <th>3</th>\n",
       "      <td>None</td>\n",
       "      <td>me_irl</td>\n",
       "      <td></td>\n",
       "      <td>t2_g7uxrjse</td>\n",
       "      <td>False</td>\n",
       "      <td>None</td>\n",
       "      <td>0</td>\n",
       "      <td>False</td>\n",
       "      <td>Me_irl</td>\n",
       "      <td>[]</td>\n",
       "      <td>...</td>\n",
       "      <td>6627159</td>\n",
       "      <td>1.666943e+09</td>\n",
       "      <td>8</td>\n",
       "      <td>None</td>\n",
       "      <td>False</td>\n",
       "      <td>image</td>\n",
       "      <td>{'images': [{'source': {'url': 'https://previe...</td>\n",
       "      <td>NaN</td>\n",
       "      <td>NaN</td>\n",
       "      <td>NaN</td>\n",
       "    </tr>\n",
       "    <tr>\n",
       "      <th>4</th>\n",
       "      <td>None</td>\n",
       "      <td>LeopardsAteMyFace</td>\n",
       "      <td></td>\n",
       "      <td>t2_pvm3eesf</td>\n",
       "      <td>False</td>\n",
       "      <td>None</td>\n",
       "      <td>0</td>\n",
       "      <td>False</td>\n",
       "      <td>Ted Cruz is suprised to learn that delaying vo...</td>\n",
       "      <td>[]</td>\n",
       "      <td>...</td>\n",
       "      <td>895163</td>\n",
       "      <td>1.666950e+09</td>\n",
       "      <td>0</td>\n",
       "      <td>None</td>\n",
       "      <td>False</td>\n",
       "      <td>image</td>\n",
       "      <td>{'images': [{'source': {'url': 'https://previe...</td>\n",
       "      <td>NaN</td>\n",
       "      <td>NaN</td>\n",
       "      <td>NaN</td>\n",
       "    </tr>\n",
       "  </tbody>\n",
       "</table>\n",
       "<p>5 rows × 113 columns</p>\n",
       "</div>"
      ],
      "text/plain": [
       "  approved_at_utc          subreddit selftext author_fullname  saved  \\\n",
       "0            None     wallstreetbets              t2_amboe4pe  False   \n",
       "1            None              funny              t2_2ta10nt2  False   \n",
       "2            None                aww              t2_b8tjnz2o  False   \n",
       "3            None             me_irl              t2_g7uxrjse  False   \n",
       "4            None  LeopardsAteMyFace              t2_pvm3eesf  False   \n",
       "\n",
       "  mod_reason_title  gilded  clicked  \\\n",
       "0             None       2    False   \n",
       "1             None       0    False   \n",
       "2             None       0    False   \n",
       "3             None       0    False   \n",
       "4             None       0    False   \n",
       "\n",
       "                                               title link_flair_richtext  ...  \\\n",
       "0  🔮WallStreetBets Predictions Tournament for Oct...                  []  ...   \n",
       "1                                  The perfect ad...                  []  ...   \n",
       "2                            My own little house elf                  []  ...   \n",
       "3                                             Me_irl                  []  ...   \n",
       "4  Ted Cruz is suprised to learn that delaying vo...                  []  ...   \n",
       "\n",
       "  subreddit_subscribers   created_utc  num_crossposts  \\\n",
       "0              12952239  1.666916e+09              20   \n",
       "1              44163467  1.666948e+09               5   \n",
       "2              32474395  1.666951e+09               1   \n",
       "3               6627159  1.666943e+09               8   \n",
       "4                895163  1.666950e+09               0   \n",
       "\n",
       "                                               media  is_video     post_hint  \\\n",
       "0                                               None     False           NaN   \n",
       "1  {'reddit_video': {'bitrate_kbps': 2400, 'fallb...      True  hosted:video   \n",
       "2                                               None     False         image   \n",
       "3                                               None     False         image   \n",
       "4                                               None     False         image   \n",
       "\n",
       "                                             preview  \\\n",
       "0                                                NaN   \n",
       "1  {'images': [{'source': {'url': 'https://extern...   \n",
       "2  {'images': [{'source': {'url': 'https://extern...   \n",
       "3  {'images': [{'source': {'url': 'https://previe...   \n",
       "4  {'images': [{'source': {'url': 'https://previe...   \n",
       "\n",
       "                 link_flair_template_id crosspost_parent_list  \\\n",
       "0                                   NaN                   NaN   \n",
       "1  85409106-7d50-11e7-a2b0-0ea49b7e8eb0                   NaN   \n",
       "2                                   NaN                   NaN   \n",
       "3                                   NaN                   NaN   \n",
       "4                                   NaN                   NaN   \n",
       "\n",
       "   crosspost_parent  \n",
       "0               NaN  \n",
       "1               NaN  \n",
       "2               NaN  \n",
       "3               NaN  \n",
       "4               NaN  \n",
       "\n",
       "[5 rows x 113 columns]"
      ]
     },
     "execution_count": 67,
     "metadata": {},
     "output_type": "execute_result"
    }
   ],
   "source": [
    "...\n",
    "df_posts.head()"
   ]
  }
 ],
 "metadata": {
  "kernelspec": {
   "display_name": "Python 3 (ipykernel)",
   "language": "python",
   "name": "python3"
  },
  "language_info": {
   "codemirror_mode": {
    "name": "ipython",
    "version": 3
   },
   "file_extension": ".py",
   "mimetype": "text/x-python",
   "name": "python",
   "nbconvert_exporter": "python",
   "pygments_lexer": "ipython3",
   "version": "3.9.12"
  }
 },
 "nbformat": 4,
 "nbformat_minor": 5
}
