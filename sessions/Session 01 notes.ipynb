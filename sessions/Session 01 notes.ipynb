{
 "cells": [
  {
   "cell_type": "code",
   "execution_count": 4,
   "id": "5b53a605-201a-4a87-a8f1-cc8f3fb43075",
   "metadata": {},
   "outputs": [],
   "source": [
    "import this"
   ]
  },
  {
   "cell_type": "code",
   "execution_count": 5,
   "id": "22d5440b-04be-4bfa-9b81-14e99d0c3025",
   "metadata": {},
   "outputs": [
    {
     "data": {
      "text/plain": [
       "4"
      ]
     },
     "execution_count": 5,
     "metadata": {},
     "output_type": "execute_result"
    }
   ],
   "source": [
    "2 + 2"
   ]
  },
  {
   "cell_type": "code",
   "execution_count": 6,
   "id": "1bd1a7b3-c832-41e5-8a5c-1065fcf403a5",
   "metadata": {},
   "outputs": [
    {
     "data": {
      "text/plain": [
       "6"
      ]
     },
     "execution_count": 6,
     "metadata": {},
     "output_type": "execute_result"
    }
   ],
   "source": [
    "1 + 1\n",
    "2 + 2\n",
    "3 + 3"
   ]
  },
  {
   "cell_type": "code",
   "execution_count": 7,
   "id": "23cc1a2d-03b6-4116-9b49-fff618acfcdc",
   "metadata": {},
   "outputs": [
    {
     "data": {
      "text/plain": [
       "16"
      ]
     },
     "execution_count": 7,
     "metadata": {},
     "output_type": "execute_result"
    }
   ],
   "source": [
    "2 ** 4"
   ]
  },
  {
   "cell_type": "code",
   "execution_count": 8,
   "id": "5ee83275-e4ba-40a6-8ca3-535123e1c6e6",
   "metadata": {},
   "outputs": [
    {
     "data": {
      "text/plain": [
       "2.0"
      ]
     },
     "execution_count": 8,
     "metadata": {},
     "output_type": "execute_result"
    }
   ],
   "source": [
    "2.0"
   ]
  },
  {
   "cell_type": "code",
   "execution_count": 9,
   "id": "483e7404-903d-40ca-b13b-beb833f4e558",
   "metadata": {},
   "outputs": [
    {
     "data": {
      "text/plain": [
       "3"
      ]
     },
     "execution_count": 9,
     "metadata": {},
     "output_type": "execute_result"
    }
   ],
   "source": [
    "1 + 2"
   ]
  },
  {
   "cell_type": "code",
   "execution_count": 10,
   "id": "b812111b-521c-42da-a8b9-c10f8df01f4f",
   "metadata": {},
   "outputs": [
    {
     "data": {
      "text/plain": [
       "0.30000000000000004"
      ]
     },
     "execution_count": 10,
     "metadata": {},
     "output_type": "execute_result"
    }
   ],
   "source": [
    "0.1 + 0.2"
   ]
  },
  {
   "cell_type": "code",
   "execution_count": 11,
   "id": "b38096f3-b48e-41ac-be81-22b0d9dc552f",
   "metadata": {},
   "outputs": [],
   "source": [
    "age = 30"
   ]
  },
  {
   "cell_type": "code",
   "execution_count": 12,
   "id": "37a9282f-45dd-4048-a60e-6f13a70d97d3",
   "metadata": {},
   "outputs": [
    {
     "data": {
      "text/plain": [
       "30"
      ]
     },
     "execution_count": 12,
     "metadata": {},
     "output_type": "execute_result"
    }
   ],
   "source": [
    "age"
   ]
  },
  {
   "cell_type": "code",
   "execution_count": 13,
   "id": "0c6b761c-b612-4ace-8725-b1993d036755",
   "metadata": {},
   "outputs": [
    {
     "name": "stdout",
     "output_type": "stream",
     "text": [
      "30\n"
     ]
    }
   ],
   "source": [
    "print(age)"
   ]
  },
  {
   "cell_type": "code",
   "execution_count": 14,
   "id": "24dddbae-b42b-4628-8627-6573b789ae8d",
   "metadata": {},
   "outputs": [],
   "source": [
    "age_normalized = 30"
   ]
  },
  {
   "cell_type": "code",
   "execution_count": 15,
   "id": "28502424-55e6-4940-8be3-0ac0e04d6b50",
   "metadata": {},
   "outputs": [
    {
     "ename": "NameError",
     "evalue": "name 'age_xx' is not defined",
     "output_type": "error",
     "traceback": [
      "\u001b[0;31m---------------------------------------------------------------------------\u001b[0m",
      "\u001b[0;31mNameError\u001b[0m                                 Traceback (most recent call last)",
      "\u001b[0;32m/tmp/ipykernel_99/1235144522.py\u001b[0m in \u001b[0;36m<module>\u001b[0;34m\u001b[0m\n\u001b[0;32m----> 1\u001b[0;31m \u001b[0mage_xx\u001b[0m\u001b[0;34m\u001b[0m\u001b[0;34m\u001b[0m\u001b[0m\n\u001b[0m",
      "\u001b[0;31mNameError\u001b[0m: name 'age_xx' is not defined"
     ]
    }
   ],
   "source": [
    "age_xx"
   ]
  },
  {
   "cell_type": "code",
   "execution_count": 16,
   "id": "a3a3fb7d-8b3f-4762-aa82-d851f5195c37",
   "metadata": {},
   "outputs": [
    {
     "data": {
      "text/plain": [
       "60"
      ]
     },
     "execution_count": 16,
     "metadata": {},
     "output_type": "execute_result"
    }
   ],
   "source": [
    "30 + 30"
   ]
  },
  {
   "cell_type": "code",
   "execution_count": 17,
   "id": "6d764b43-e1b5-4011-99dc-0f7ece9c278b",
   "metadata": {},
   "outputs": [
    {
     "data": {
      "text/plain": [
       "60"
      ]
     },
     "execution_count": 17,
     "metadata": {},
     "output_type": "execute_result"
    }
   ],
   "source": [
    "age + age"
   ]
  },
  {
   "cell_type": "code",
   "execution_count": 23,
   "id": "14aa6b2a-e079-43f1-ab74-b1b4cf7f6291",
   "metadata": {},
   "outputs": [],
   "source": [
    "name = \"Juan Luis\""
   ]
  },
  {
   "cell_type": "code",
   "execution_count": 24,
   "id": "9ed5c38c-0652-4d76-9a86-87736c8ff985",
   "metadata": {},
   "outputs": [
    {
     "data": {
      "text/plain": [
       "'Juan Luis'"
      ]
     },
     "execution_count": 24,
     "metadata": {},
     "output_type": "execute_result"
    }
   ],
   "source": [
    "name"
   ]
  },
  {
   "cell_type": "code",
   "execution_count": 25,
   "id": "3ba3f793-4ec4-4568-8527-7b35277e2f19",
   "metadata": {},
   "outputs": [
    {
     "data": {
      "text/plain": [
       "14"
      ]
     },
     "execution_count": 25,
     "metadata": {},
     "output_type": "execute_result"
    }
   ],
   "source": [
    "2 + 3 * 4"
   ]
  },
  {
   "cell_type": "code",
   "execution_count": 26,
   "id": "f86d5e98-f4b3-4112-b8c9-60ffa4bf2095",
   "metadata": {},
   "outputs": [
    {
     "data": {
      "text/plain": [
       "20"
      ]
     },
     "execution_count": 26,
     "metadata": {},
     "output_type": "execute_result"
    }
   ],
   "source": [
    "(2 + 3) * 4"
   ]
  },
  {
   "cell_type": "code",
   "execution_count": 29,
   "id": "177fc3c0-8857-4738-8cb7-f4ce05e5e01c",
   "metadata": {},
   "outputs": [
    {
     "name": "stdout",
     "output_type": "stream",
     "text": [
      "2\n",
      "4\n",
      "6\n"
     ]
    }
   ],
   "source": [
    "print(1 + 1)\n",
    "print(2 + 2)\n",
    "print(3 + 3)"
   ]
  },
  {
   "cell_type": "code",
   "execution_count": 30,
   "id": "99561abe-d5ca-4526-8e7c-281d8bad8115",
   "metadata": {},
   "outputs": [
    {
     "name": "stdout",
     "output_type": "stream",
     "text": [
      "2 4 6\n"
     ]
    }
   ],
   "source": [
    "print(1 + 1, 2 + 2, 3 + 3)"
   ]
  },
  {
   "cell_type": "code",
   "execution_count": 31,
   "id": "3f4a84a7-ead1-48f3-a1da-797bc5f49b6e",
   "metadata": {},
   "outputs": [
    {
     "data": {
      "text/plain": [
       "30"
      ]
     },
     "execution_count": 31,
     "metadata": {},
     "output_type": "execute_result"
    }
   ],
   "source": [
    "age = 30\n",
    "age"
   ]
  },
  {
   "cell_type": "code",
   "execution_count": 32,
   "id": "f81a7acc-7482-438d-ad7a-344bd895a3b3",
   "metadata": {},
   "outputs": [
    {
     "data": {
      "text/plain": [
       "31"
      ]
     },
     "execution_count": 32,
     "metadata": {},
     "output_type": "execute_result"
    }
   ],
   "source": [
    "age = 31\n",
    "age"
   ]
  },
  {
   "cell_type": "code",
   "execution_count": 34,
   "id": "5050f4c8-f3d8-4d8a-ba31-15a998a04d07",
   "metadata": {},
   "outputs": [
    {
     "data": {
      "text/plain": [
       "31.5"
      ]
     },
     "execution_count": 34,
     "metadata": {},
     "output_type": "execute_result"
    }
   ],
   "source": [
    "age = 31.5\n",
    "age"
   ]
  },
  {
   "cell_type": "code",
   "execution_count": 40,
   "id": "81142742-cbe6-4e44-b6ed-991c7ff200c2",
   "metadata": {},
   "outputs": [
    {
     "name": "stdin",
     "output_type": "stream",
     "text": [
      "What's your name? Juan Luis\n"
     ]
    },
    {
     "data": {
      "text/plain": [
       "'Juan Luis'"
      ]
     },
     "execution_count": 40,
     "metadata": {},
     "output_type": "execute_result"
    }
   ],
   "source": [
    "input(\"What's your name?\")"
   ]
  },
  {
   "cell_type": "code",
   "execution_count": 41,
   "id": "27cc2698-9181-4876-b4bf-f767466159a7",
   "metadata": {},
   "outputs": [
    {
     "data": {
      "text/plain": [
       "2"
      ]
     },
     "execution_count": 41,
     "metadata": {},
     "output_type": "execute_result"
    }
   ],
   "source": [
    "1 + 1"
   ]
  },
  {
   "cell_type": "code",
   "execution_count": 42,
   "id": "e8977677-8f12-43b3-a0ce-d78b43a4aec7",
   "metadata": {},
   "outputs": [
    {
     "data": {
      "text/plain": [
       "'Juan Luis'"
      ]
     },
     "execution_count": 42,
     "metadata": {},
     "output_type": "execute_result"
    }
   ],
   "source": [
    "name = \"Juan Luis\"\n",
    "name"
   ]
  },
  {
   "cell_type": "code",
   "execution_count": null,
   "id": "7df720db-3b42-4264-83ac-5798178e7ac2",
   "metadata": {},
   "outputs": [],
   "source": [
    "name = input(\"What's your name?\")\n",
    "name"
   ]
  },
  {
   "cell_type": "code",
   "execution_count": 48,
   "id": "bc97dd91-ae53-47fb-afce-609115e9a42a",
   "metadata": {},
   "outputs": [
    {
     "data": {
      "text/plain": [
       "'Juan Luis'"
      ]
     },
     "execution_count": 48,
     "metadata": {},
     "output_type": "execute_result"
    }
   ],
   "source": [
    "name"
   ]
  },
  {
   "cell_type": "code",
   "execution_count": 50,
   "id": "f34dbabf-224b-459c-8a05-3e10dc918fc2",
   "metadata": {},
   "outputs": [
    {
     "data": {
      "text/plain": [
       "-3.0000000000000004"
      ]
     },
     "execution_count": 50,
     "metadata": {},
     "output_type": "execute_result"
    }
   ],
   "source": [
    "a = 0.1\n",
    "b = 0.2\n",
    "\n",
    "(a + b) / (a - b)"
   ]
  },
  {
   "cell_type": "code",
   "execution_count": 51,
   "id": "ab3e5710-71a6-42cf-ac02-2576a2167dbc",
   "metadata": {},
   "outputs": [
    {
     "data": {
      "text/plain": [
       "1.3194444444444444"
      ]
     },
     "execution_count": 51,
     "metadata": {},
     "output_type": "execute_result"
    }
   ],
   "source": [
    "c = 1/3\n",
    "d = 1.25\n",
    "\n",
    "(10 * c + d / 2) / 3"
   ]
  },
  {
   "cell_type": "code",
   "execution_count": 52,
   "id": "c29455b4-469c-4f04-b591-f10349df0248",
   "metadata": {},
   "outputs": [
    {
     "name": "stdin",
     "output_type": "stream",
     "text": [
      "What's your name? Juan Luis\n",
      "age? 30\n"
     ]
    },
    {
     "name": "stdout",
     "output_type": "stream",
     "text": [
      "Juan Luis 30\n"
     ]
    }
   ],
   "source": [
    "name = input(\"What's your name?\")\n",
    "age = input(\"age?\")\n",
    "\n",
    "print(name, age)"
   ]
  },
  {
   "cell_type": "code",
   "execution_count": null,
   "id": "e508f927-d62b-4eab-a61d-b8efda8f5990",
   "metadata": {},
   "outputs": [],
   "source": []
  }
 ],
 "metadata": {
  "kernelspec": {
   "display_name": "Python 3",
   "language": "python",
   "name": "python3"
  },
  "language_info": {
   "codemirror_mode": {
    "name": "ipython",
    "version": 3
   },
   "file_extension": ".py",
   "mimetype": "text/x-python",
   "name": "python",
   "nbconvert_exporter": "python",
   "pygments_lexer": "ipython3",
   "version": "3.8.8"
  }
 },
 "nbformat": 4,
 "nbformat_minor": 5
}
