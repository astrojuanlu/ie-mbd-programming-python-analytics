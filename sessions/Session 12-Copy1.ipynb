{
 "cells": [
  {
   "cell_type": "markdown",
   "id": "1a76f5e2-8f12-4d28-902f-9a81b8da2930",
   "metadata": {},
   "source": [
    "Logistics:\n",
    "\n",
    "- Type password\n",
    "- Launch zoom\n",
    "\n",
    "Outline & timing (80 minutes, 1h20m):\n",
    "\n",
    "- `_5m ( 5m)` \n",
    "- `_5m (10m)` \n",
    "\n",
    "Ideas:\n",
    "\n",
    "- Load Twitter data again\n",
    "- Save it to disk, to remember, and load it from disk\n",
    "- Build a list of languages: with a `for` loop, and with comprehensions\n",
    "- Comprehensions can also contain conditionals\n",
    "- Now, how to make them unique? Modify the `for` loop using the `in` and `not in` operators\n",
    "- ...or use sets! Basic sets, comprehensions\n",
    "- Sets are sequences, can be iterated over, compute length - but they are not sorted\n",
    "- Set operations: union `|`, intersection `&`, difference `-` with Venn diagrams\n",
    "- Check if an element belongs to a set\n",
    "- Dictionaries: some common tasks"
   ]
  },
  {
   "cell_type": "code",
   "execution_count": 1,
   "id": "53c838bf-ec45-4e6a-a831-d358a52af90b",
   "metadata": {},
   "outputs": [
    {
     "name": "stdout",
     "output_type": "stream",
     "text": [
      "<class 'list'> 9\n"
     ]
    }
   ],
   "source": [
    "import requests\n",
    "\n",
    "DATA_URL = (\n",
    "    \"https://github.com/astrojuanlu/ie-mbd-python-data-analysis-i/\"\n",
    "    \"raw/main/data/twitter_data.json\"\n",
    ")\n",
    "\n",
    "data = requests.get(DATA_URL).json()\n",
    "print(type(data), len(data))"
   ]
  },
  {
   "cell_type": "code",
   "execution_count": 21,
   "id": "f6143056-631b-4037-8522-2c91e7406763",
   "metadata": {},
   "outputs": [
    {
     "data": {
      "text/plain": [
       "{'a', 'b', 'c'}"
      ]
     },
     "execution_count": 21,
     "metadata": {},
     "output_type": "execute_result"
    }
   ],
   "source": [
    "s = {\"a\", \"b\", \"c\"}\n",
    "s"
   ]
  },
  {
   "cell_type": "code",
   "execution_count": 23,
   "id": "bb077d18-caf6-44bd-8e70-c2035c54b26e",
   "metadata": {},
   "outputs": [],
   "source": [
    "s.add(\"d\")"
   ]
  },
  {
   "cell_type": "code",
   "execution_count": 26,
   "id": "6875cd20-e42a-4d55-8a45-cfdc38f123a5",
   "metadata": {},
   "outputs": [
    {
     "data": {
      "text/plain": [
       "{'c', 'd'}"
      ]
     },
     "execution_count": 26,
     "metadata": {},
     "output_type": "execute_result"
    }
   ],
   "source": [
    "s & {\"c\", \"d\", \"e\"}"
   ]
  },
  {
   "cell_type": "code",
   "execution_count": 27,
   "id": "5e6bc1a7-975d-4cb2-a434-e9e97393e623",
   "metadata": {},
   "outputs": [
    {
     "data": {
      "text/plain": [
       "{'a': 1, 'b': 2}"
      ]
     },
     "execution_count": 27,
     "metadata": {},
     "output_type": "execute_result"
    }
   ],
   "source": [
    "d = {\"a\": 1, \"b\": 2}\n",
    "d"
   ]
  },
  {
   "cell_type": "code",
   "execution_count": 29,
   "id": "847dc9fb-be61-4047-8105-87e7e078805f",
   "metadata": {},
   "outputs": [
    {
     "data": {
      "text/plain": [
       "{'a', 'b', 'c'}"
      ]
     },
     "execution_count": 29,
     "metadata": {},
     "output_type": "execute_result"
    }
   ],
   "source": [
    "d.keys() | {\"b\", \"c\"}"
   ]
  },
  {
   "cell_type": "code",
   "execution_count": null,
   "id": "c1531321-a69d-41f2-9a5a-4ba71c1e56e1",
   "metadata": {},
   "outputs": [],
   "source": []
  },
  {
   "cell_type": "code",
   "execution_count": 3,
   "id": "28e6bcef-758b-4587-bcfe-17e73e4ff791",
   "metadata": {},
   "outputs": [
    {
     "data": {
      "text/plain": [
       "dict_keys(['created_at', 'id', 'id_str', 'text', 'truncated', 'entities', 'source', 'in_reply_to_status_id', 'in_reply_to_status_id_str', 'in_reply_to_user_id', 'in_reply_to_user_id_str', 'in_reply_to_screen_name', 'user', 'geo', 'coordinates', 'place', 'contributors', 'is_quote_status', 'retweet_count', 'favorite_count', 'favorited', 'retweeted', 'possibly_sensitive', 'lang'])"
      ]
     },
     "execution_count": 3,
     "metadata": {},
     "output_type": "execute_result"
    }
   ],
   "source": [
    "data[0].keys()"
   ]
  },
  {
   "cell_type": "code",
   "execution_count": 4,
   "id": "e39f5ab9-e898-4564-a048-18fca4af2ff4",
   "metadata": {},
   "outputs": [
    {
     "data": {
      "text/plain": [
       "{'en', 'pt', 'und'}"
      ]
     },
     "execution_count": 4,
     "metadata": {},
     "output_type": "execute_result"
    }
   ],
   "source": [
    "{tweet[\"lang\"] for tweet in data}"
   ]
  },
  {
   "cell_type": "code",
   "execution_count": 11,
   "id": "3b244809-f66b-450c-9ba0-4479a128fc94",
   "metadata": {},
   "outputs": [
    {
     "data": {
      "text/plain": [
       "{'created_at': 'Wed Apr 22 06:04:57 +0000 2020',\n",
       " 'id': 1252840795737997317,\n",
       " 'id_str': '1252840795737997317',\n",
       " 'text': 'Tennis a la Balboa.\\n\\n#balboaisland #newportbeach #tennis #covid_19 #coronavirus #orangecounty #california… https://t.co/px1GCH1bgZ',\n",
       " 'truncated': True,\n",
       " 'entities': {'hashtags': [{'text': 'balboaisland', 'indices': [21, 34]},\n",
       "   {'text': 'newportbeach', 'indices': [35, 48]},\n",
       "   {'text': 'tennis', 'indices': [49, 56]},\n",
       "   {'text': 'covid_19', 'indices': [57, 66]},\n",
       "   {'text': 'coronavirus', 'indices': [67, 79]},\n",
       "   {'text': 'orangecounty', 'indices': [80, 93]},\n",
       "   {'text': 'california', 'indices': [94, 105]}],\n",
       "  'symbols': [],\n",
       "  'user_mentions': [],\n",
       "  'urls': [{'url': 'https://t.co/px1GCH1bgZ',\n",
       "    'expanded_url': 'https://twitter.com/i/web/status/1252840795737997317',\n",
       "    'display_url': 'twitter.com/i/web/status/1…',\n",
       "    'indices': [107, 130]}]},\n",
       " 'source': '<a href=\"http://instagram.com\" rel=\"nofollow\">Instagram</a>',\n",
       " 'in_reply_to_status_id': None,\n",
       " 'in_reply_to_status_id_str': None,\n",
       " 'in_reply_to_user_id': None,\n",
       " 'in_reply_to_user_id_str': None,\n",
       " 'in_reply_to_screen_name': None,\n",
       " 'user': {'id': 49263812,\n",
       "  'id_str': '49263812',\n",
       "  'name': 'Joe',\n",
       "  'screen_name': 'JoesNews_',\n",
       "  'location': 'Istanbul Turkey',\n",
       "  'description': 'XCNN cameraman. Traveling around the world, capturing images of interesting people and places along the way.',\n",
       "  'url': None,\n",
       "  'entities': {'description': {'urls': []}},\n",
       "  'protected': False,\n",
       "  'followers_count': 46,\n",
       "  'friends_count': 172,\n",
       "  'listed_count': 0,\n",
       "  'created_at': 'Sun Jun 21 07:42:43 +0000 2009',\n",
       "  'favourites_count': 16,\n",
       "  'utc_offset': None,\n",
       "  'time_zone': None,\n",
       "  'geo_enabled': True,\n",
       "  'verified': False,\n",
       "  'statuses_count': 139,\n",
       "  'lang': None,\n",
       "  'contributors_enabled': False,\n",
       "  'is_translator': False,\n",
       "  'is_translation_enabled': False,\n",
       "  'profile_background_color': 'C0DEED',\n",
       "  'profile_background_image_url': 'http://abs.twimg.com/images/themes/theme1/bg.png',\n",
       "  'profile_background_image_url_https': 'https://abs.twimg.com/images/themes/theme1/bg.png',\n",
       "  'profile_background_tile': False,\n",
       "  'profile_image_url': 'http://pbs.twimg.com/profile_images/1261474596244480000/aFAGor7C_normal.jpg',\n",
       "  'profile_image_url_https': 'https://pbs.twimg.com/profile_images/1261474596244480000/aFAGor7C_normal.jpg',\n",
       "  'profile_banner_url': 'https://pbs.twimg.com/profile_banners/49263812/1589594278',\n",
       "  'profile_link_color': '1DA1F2',\n",
       "  'profile_sidebar_border_color': 'C0DEED',\n",
       "  'profile_sidebar_fill_color': 'DDEEF6',\n",
       "  'profile_text_color': '333333',\n",
       "  'profile_use_background_image': True,\n",
       "  'has_extended_profile': True,\n",
       "  'default_profile': True,\n",
       "  'default_profile_image': False,\n",
       "  'following': False,\n",
       "  'follow_request_sent': False,\n",
       "  'notifications': False,\n",
       "  'translator_type': 'none',\n",
       "  'withheld_in_countries': []},\n",
       " 'geo': {'type': 'Point', 'coordinates': [33.606389, -117.894444]},\n",
       " 'coordinates': {'type': 'Point', 'coordinates': [-117.894444, 33.606389]},\n",
       " 'place': {'id': '0ce4c27ce26030aa',\n",
       "  'url': 'https://api.twitter.com/1.1/geo/id/0ce4c27ce26030aa.json',\n",
       "  'place_type': 'city',\n",
       "  'name': 'Newport Beach',\n",
       "  'full_name': 'Newport Beach, CA',\n",
       "  'country_code': 'US',\n",
       "  'country': 'United States',\n",
       "  'contained_within': [],\n",
       "  'bounding_box': {'type': 'Polygon',\n",
       "   'coordinates': [[[-117.9582193, 33.563618],\n",
       "     [-117.789845, 33.563618],\n",
       "     [-117.789845, 33.671658],\n",
       "     [-117.9582193, 33.671658]]]},\n",
       "  'attributes': {}},\n",
       " 'contributors': None,\n",
       " 'is_quote_status': False,\n",
       " 'retweet_count': 0,\n",
       " 'favorite_count': 0,\n",
       " 'favorited': False,\n",
       " 'retweeted': False,\n",
       " 'possibly_sensitive': False,\n",
       " 'lang': 'en'}"
      ]
     },
     "execution_count": 11,
     "metadata": {},
     "output_type": "execute_result"
    }
   ],
   "source": [
    "t0 = data[0]\n",
    "t0"
   ]
  },
  {
   "cell_type": "code",
   "execution_count": 9,
   "id": "ec63529d-4e88-400b-9dd4-1dc9a6228d1e",
   "metadata": {},
   "outputs": [
    {
     "data": {
      "text/plain": [
       "{None}"
      ]
     },
     "execution_count": 9,
     "metadata": {},
     "output_type": "execute_result"
    }
   ],
   "source": [
    "{tweet[\"user\"][\"time_zone\"] for tweet in data}"
   ]
  },
  {
   "cell_type": "code",
   "execution_count": null,
   "id": "065faa76-50d0-44b8-883c-2c3365e14de9",
   "metadata": {},
   "outputs": [],
   "source": [
    "{tweet[\"user\"]}"
   ]
  },
  {
   "cell_type": "code",
   "execution_count": 39,
   "id": "66a45482-759a-433a-9ff5-60efdcb066c6",
   "metadata": {},
   "outputs": [
    {
     "data": {
      "text/plain": [
       "['en', 'en', 'en', 'en', 'und', 'en', 'en', 'pt', 'en']"
      ]
     },
     "execution_count": 39,
     "metadata": {},
     "output_type": "execute_result"
    }
   ],
   "source": [
    "ls = []\n",
    "for tweet in data:\n",
    "    ls.append(tweet[\"lang\"])\n",
    "ls"
   ]
  },
  {
   "cell_type": "code",
   "execution_count": 42,
   "id": "2d23dd5f-6c3d-47e0-a518-ddd0a3cf0f5b",
   "metadata": {},
   "outputs": [
    {
     "data": {
      "text/plain": [
       "['en', 'en', 'en', 'en', 'und', 'en', 'en', 'pt', 'en']"
      ]
     },
     "execution_count": 42,
     "metadata": {},
     "output_type": "execute_result"
    }
   ],
   "source": [
    "[tweet[\"lang\"] for tweet in data]"
   ]
  },
  {
   "cell_type": "code",
   "execution_count": 41,
   "id": "e1205975-19e4-4ada-82b2-8670af8f2376",
   "metadata": {},
   "outputs": [
    {
     "data": {
      "text/plain": [
       "['en', 'und', 'pt']"
      ]
     },
     "execution_count": 41,
     "metadata": {},
     "output_type": "execute_result"
    }
   ],
   "source": [
    "ls = []\n",
    "for tweet in data:\n",
    "    if tweet[\"lang\"] not in ls:\n",
    "        ls.append(tweet[\"lang\"])\n",
    "ls"
   ]
  },
  {
   "cell_type": "code",
   "execution_count": 40,
   "id": "3c3a359d-1004-41bf-8a91-c511c67d0b8f",
   "metadata": {},
   "outputs": [
    {
     "data": {
      "text/plain": [
       "{'en', 'pt', 'und'}"
      ]
     },
     "execution_count": 40,
     "metadata": {},
     "output_type": "execute_result"
    }
   ],
   "source": [
    "set(ls)"
   ]
  },
  {
   "cell_type": "code",
   "execution_count": null,
   "id": "addad3b5-dc9e-42fd-8c5f-a0e014648649",
   "metadata": {},
   "outputs": [],
   "source": []
  },
  {
   "cell_type": "code",
   "execution_count": null,
   "id": "0af7da2c-b512-4a68-85b4-011480ff4f18",
   "metadata": {},
   "outputs": [],
   "source": []
  },
  {
   "cell_type": "code",
   "execution_count": 48,
   "id": "afc677a8-97c5-495e-bb5f-8b0f227ef523",
   "metadata": {},
   "outputs": [
    {
     "data": {
      "text/plain": [
       "{'Dixon',\n",
       " 'Los Angeles',\n",
       " 'Modesto',\n",
       " 'Newport Beach',\n",
       " 'Oakland',\n",
       " 'San Francisco',\n",
       " 'West Hollywood'}"
      ]
     },
     "execution_count": 48,
     "metadata": {},
     "output_type": "execute_result"
    }
   ],
   "source": [
    "{t[\"place\"][\"name\"] for t in data}"
   ]
  },
  {
   "cell_type": "code",
   "execution_count": 44,
   "id": "1e4f6455-003c-4fe2-8ae3-7ddbfbadef19",
   "metadata": {},
   "outputs": [
    {
     "data": {
      "text/plain": [
       "{'created_at': 'Wed Apr 22 06:04:57 +0000 2020',\n",
       " 'id': 1252840795737997317,\n",
       " 'id_str': '1252840795737997317',\n",
       " 'text': 'Tennis a la Balboa.\\n\\n#balboaisland #newportbeach #tennis #covid_19 #coronavirus #orangecounty #california… https://t.co/px1GCH1bgZ',\n",
       " 'truncated': True,\n",
       " 'entities': {'hashtags': [{'text': 'balboaisland', 'indices': [21, 34]},\n",
       "   {'text': 'newportbeach', 'indices': [35, 48]},\n",
       "   {'text': 'tennis', 'indices': [49, 56]},\n",
       "   {'text': 'covid_19', 'indices': [57, 66]},\n",
       "   {'text': 'coronavirus', 'indices': [67, 79]},\n",
       "   {'text': 'orangecounty', 'indices': [80, 93]},\n",
       "   {'text': 'california', 'indices': [94, 105]}],\n",
       "  'symbols': [],\n",
       "  'user_mentions': [],\n",
       "  'urls': [{'url': 'https://t.co/px1GCH1bgZ',\n",
       "    'expanded_url': 'https://twitter.com/i/web/status/1252840795737997317',\n",
       "    'display_url': 'twitter.com/i/web/status/1…',\n",
       "    'indices': [107, 130]}]},\n",
       " 'source': '<a href=\"http://instagram.com\" rel=\"nofollow\">Instagram</a>',\n",
       " 'in_reply_to_status_id': None,\n",
       " 'in_reply_to_status_id_str': None,\n",
       " 'in_reply_to_user_id': None,\n",
       " 'in_reply_to_user_id_str': None,\n",
       " 'in_reply_to_screen_name': None,\n",
       " 'user': {'id': 49263812,\n",
       "  'id_str': '49263812',\n",
       "  'name': 'Joe',\n",
       "  'screen_name': 'JoesNews_',\n",
       "  'location': 'Istanbul Turkey',\n",
       "  'description': 'XCNN cameraman. Traveling around the world, capturing images of interesting people and places along the way.',\n",
       "  'url': None,\n",
       "  'entities': {'description': {'urls': []}},\n",
       "  'protected': False,\n",
       "  'followers_count': 46,\n",
       "  'friends_count': 172,\n",
       "  'listed_count': 0,\n",
       "  'created_at': 'Sun Jun 21 07:42:43 +0000 2009',\n",
       "  'favourites_count': 16,\n",
       "  'utc_offset': None,\n",
       "  'time_zone': None,\n",
       "  'geo_enabled': True,\n",
       "  'verified': False,\n",
       "  'statuses_count': 139,\n",
       "  'lang': None,\n",
       "  'contributors_enabled': False,\n",
       "  'is_translator': False,\n",
       "  'is_translation_enabled': False,\n",
       "  'profile_background_color': 'C0DEED',\n",
       "  'profile_background_image_url': 'http://abs.twimg.com/images/themes/theme1/bg.png',\n",
       "  'profile_background_image_url_https': 'https://abs.twimg.com/images/themes/theme1/bg.png',\n",
       "  'profile_background_tile': False,\n",
       "  'profile_image_url': 'http://pbs.twimg.com/profile_images/1261474596244480000/aFAGor7C_normal.jpg',\n",
       "  'profile_image_url_https': 'https://pbs.twimg.com/profile_images/1261474596244480000/aFAGor7C_normal.jpg',\n",
       "  'profile_banner_url': 'https://pbs.twimg.com/profile_banners/49263812/1589594278',\n",
       "  'profile_link_color': '1DA1F2',\n",
       "  'profile_sidebar_border_color': 'C0DEED',\n",
       "  'profile_sidebar_fill_color': 'DDEEF6',\n",
       "  'profile_text_color': '333333',\n",
       "  'profile_use_background_image': True,\n",
       "  'has_extended_profile': True,\n",
       "  'default_profile': True,\n",
       "  'default_profile_image': False,\n",
       "  'following': False,\n",
       "  'follow_request_sent': False,\n",
       "  'notifications': False,\n",
       "  'translator_type': 'none',\n",
       "  'withheld_in_countries': []},\n",
       " 'geo': {'type': 'Point', 'coordinates': [33.606389, -117.894444]},\n",
       " 'coordinates': {'type': 'Point', 'coordinates': [-117.894444, 33.606389]},\n",
       " 'place': {'id': '0ce4c27ce26030aa',\n",
       "  'url': 'https://api.twitter.com/1.1/geo/id/0ce4c27ce26030aa.json',\n",
       "  'place_type': 'city',\n",
       "  'name': 'Newport Beach',\n",
       "  'full_name': 'Newport Beach, CA',\n",
       "  'country_code': 'US',\n",
       "  'country': 'United States',\n",
       "  'contained_within': [],\n",
       "  'bounding_box': {'type': 'Polygon',\n",
       "   'coordinates': [[[-117.9582193, 33.563618],\n",
       "     [-117.789845, 33.563618],\n",
       "     [-117.789845, 33.671658],\n",
       "     [-117.9582193, 33.671658]]]},\n",
       "  'attributes': {}},\n",
       " 'contributors': None,\n",
       " 'is_quote_status': False,\n",
       " 'retweet_count': 0,\n",
       " 'favorite_count': 0,\n",
       " 'favorited': False,\n",
       " 'retweeted': False,\n",
       " 'possibly_sensitive': False,\n",
       " 'lang': 'en'}"
      ]
     },
     "execution_count": 44,
     "metadata": {},
     "output_type": "execute_result"
    }
   ],
   "source": [
    "t0"
   ]
  },
  {
   "cell_type": "code",
   "execution_count": null,
   "id": "45aaba57-9ce4-4986-bed1-aa4b51a3eb09",
   "metadata": {},
   "outputs": [],
   "source": []
  },
  {
   "cell_type": "code",
   "execution_count": null,
   "id": "8e62f9a6-fc9b-4d56-93ae-eba47732c692",
   "metadata": {},
   "outputs": [],
   "source": []
  },
  {
   "cell_type": "code",
   "execution_count": null,
   "id": "fd9ce9d0-e9e1-4fce-86ee-ca7618d57880",
   "metadata": {},
   "outputs": [],
   "source": []
  },
  {
   "cell_type": "code",
   "execution_count": null,
   "id": "8d17d812-c12d-478c-9c8d-e79a3165f4e8",
   "metadata": {},
   "outputs": [],
   "source": []
  },
  {
   "cell_type": "code",
   "execution_count": null,
   "id": "27cccc67-a923-4970-bf9b-216659061cb1",
   "metadata": {},
   "outputs": [],
   "source": []
  },
  {
   "cell_type": "code",
   "execution_count": null,
   "id": "1ecbd1c4-e9cc-47c0-9d36-23b895a4739e",
   "metadata": {},
   "outputs": [],
   "source": []
  },
  {
   "cell_type": "markdown",
   "id": "a3d51d78-ac3b-482c-92c6-e30427e45313",
   "metadata": {},
   "source": [
    "## Exercises\n",
    "\n",
    "### 1. Cities of tweets\n",
    "\n",
    "Build a set of the cities in which the tweets written. How many distinct cities are there?"
   ]
  },
  {
   "cell_type": "code",
   "execution_count": 49,
   "id": "0be0e6e4-d59c-4bb1-864b-2155b34c2c7a",
   "metadata": {},
   "outputs": [
    {
     "data": {
      "text/plain": [
       "{'Dixon',\n",
       " 'Los Angeles',\n",
       " 'Modesto',\n",
       " 'Newport Beach',\n",
       " 'Oakland',\n",
       " 'San Francisco',\n",
       " 'West Hollywood'}"
      ]
     },
     "execution_count": 49,
     "metadata": {},
     "output_type": "execute_result"
    }
   ],
   "source": [
    "cities = {tweet[\"place\"][\"name\"] for tweet in data}\n",
    "cities"
   ]
  },
  {
   "cell_type": "code",
   "execution_count": 50,
   "id": "3ac9dfc6-67d8-4cfb-a8dc-29ae138a99ee",
   "metadata": {},
   "outputs": [
    {
     "data": {
      "text/plain": [
       "7"
      ]
     },
     "execution_count": 50,
     "metadata": {},
     "output_type": "execute_result"
    }
   ],
   "source": [
    "len(cities)"
   ]
  },
  {
   "cell_type": "markdown",
   "id": "563d95d1-2bdb-4359-8e83-b05140217b04",
   "metadata": {},
   "source": [
    "### 2. How many tweets in each city\n",
    "\n",
    "Build a dictionary, where the keys are cities and the values are the number of tweets in each city."
   ]
  },
  {
   "cell_type": "code",
   "execution_count": 51,
   "id": "747b8db8-3918-43a3-bb39-daf1c7db2397",
   "metadata": {},
   "outputs": [
    {
     "data": {
      "text/plain": [
       "{'Oakland': 0,\n",
       " 'Los Angeles': 0,\n",
       " 'West Hollywood': 0,\n",
       " 'San Francisco': 0,\n",
       " 'Modesto': 0,\n",
       " 'Dixon': 0,\n",
       " 'Newport Beach': 0}"
      ]
     },
     "execution_count": 51,
     "metadata": {},
     "output_type": "execute_result"
    }
   ],
   "source": [
    "d = dict.fromkeys(cities, 0)\n",
    "d"
   ]
  },
  {
   "cell_type": "code",
   "execution_count": 52,
   "id": "af0e2bec-eff0-4724-aede-3a0c8193826d",
   "metadata": {},
   "outputs": [
    {
     "data": {
      "text/plain": [
       "{'Oakland': 0,\n",
       " 'Los Angeles': 0,\n",
       " 'West Hollywood': 0,\n",
       " 'San Francisco': 0,\n",
       " 'Modesto': 0,\n",
       " 'Dixon': 0,\n",
       " 'Newport Beach': 0}"
      ]
     },
     "execution_count": 52,
     "metadata": {},
     "output_type": "execute_result"
    }
   ],
   "source": [
    "d = {}\n",
    "for city in cities:\n",
    "    d[city] = 0\n",
    "d"
   ]
  },
  {
   "cell_type": "code",
   "execution_count": 53,
   "id": "7cb7c6f3-d384-433e-871f-ca73dab6a5cd",
   "metadata": {},
   "outputs": [],
   "source": [
    "for tweet in data:\n",
    "    city = tweet[\"place\"][\"name\"]\n",
    "    d[city] += 1"
   ]
  },
  {
   "cell_type": "code",
   "execution_count": 54,
   "id": "6af86271-6214-4c0a-9756-d1727a521437",
   "metadata": {},
   "outputs": [
    {
     "data": {
      "text/plain": [
       "{'Oakland': 1,\n",
       " 'Los Angeles': 3,\n",
       " 'West Hollywood': 1,\n",
       " 'San Francisco': 1,\n",
       " 'Modesto': 1,\n",
       " 'Dixon': 1,\n",
       " 'Newport Beach': 1}"
      ]
     },
     "execution_count": 54,
     "metadata": {},
     "output_type": "execute_result"
    }
   ],
   "source": [
    "d"
   ]
  },
  {
   "cell_type": "markdown",
   "id": "5b68c869-3b1b-402c-9421-ebb22d35f4f5",
   "metadata": {},
   "source": [
    "### 3. How many unique hashtags\n",
    "\n",
    "Build a set of unique, **lowercase** hashtag texts."
   ]
  },
  {
   "cell_type": "code",
   "execution_count": 61,
   "id": "6005725a-c709-4d6f-a93b-15e9ae999fbd",
   "metadata": {},
   "outputs": [
    {
     "data": {
      "text/plain": [
       "{'activities',\n",
       " 'balboaisland',\n",
       " 'california',\n",
       " 'coronavirus',\n",
       " 'covid19',\n",
       " 'covid_19',\n",
       " 'la',\n",
       " 'lockdown',\n",
       " 'losangeles',\n",
       " 'newportbeach',\n",
       " 'orangecounty',\n",
       " 'protesters',\n",
       " 'repost',\n",
       " 'tennis',\n",
       " 'thisweekend'}"
      ]
     },
     "execution_count": 61,
     "metadata": {},
     "output_type": "execute_result"
    }
   ],
   "source": [
    "hashtags = set()\n",
    "for tweet in data:\n",
    "    hashtags |= {h[\"text\"].lower() for h in tweet[\"entities\"][\"hashtags\"]}\n",
    "hashtags"
   ]
  },
  {
   "cell_type": "code",
   "execution_count": 69,
   "id": "d7fb711c-03e6-4224-8060-0f5f99f435f3",
   "metadata": {},
   "outputs": [
    {
     "data": {
      "text/plain": [
       "{'activities',\n",
       " 'balboaisland',\n",
       " 'california',\n",
       " 'coronavirus',\n",
       " 'covid19',\n",
       " 'covid_19',\n",
       " 'la',\n",
       " 'lockdown',\n",
       " 'losangeles',\n",
       " 'newportbeach',\n",
       " 'orangecounty',\n",
       " 'protesters',\n",
       " 'repost',\n",
       " 'tennis',\n",
       " 'thisweekend'}"
      ]
     },
     "execution_count": 69,
     "metadata": {},
     "output_type": "execute_result"
    }
   ],
   "source": [
    "hs = []\n",
    "for tweet in data:\n",
    "    for h in tweet[\"entities\"][\"hashtags\"]:\n",
    "        ht = h[\"text\"].lower()\n",
    "        if ht not in hs:\n",
    "            hs.append(ht)\n",
    "set(hs)"
   ]
  },
  {
   "cell_type": "markdown",
   "id": "fde18b46-1cf6-48bf-a05b-dc26c39032cb",
   "metadata": {},
   "source": [
    "### 4. How many tweets mentioning each hashtag\n",
    "\n",
    "Build a dictionary, where the keys are the hashtag texts and the values the number of tweets containing each hashtag. Is there any hashtag that appears more than once?"
   ]
  },
  {
   "cell_type": "code",
   "execution_count": 70,
   "id": "8d65c4a9-8ec6-452f-9105-6fa610e4cb66",
   "metadata": {},
   "outputs": [],
   "source": [
    "hashtag_counts = dict.fromkeys(hashtags, 0)\n",
    "for tweet in data:\n",
    "    for hashtag in hashtags:\n",
    "        if hashtag in [h[\"text\"].lower() for h in tweet[\"entities\"][\"hashtags\"]]:\n",
    "            hashtag_counts[hashtag] += 1"
   ]
  },
  {
   "cell_type": "code",
   "execution_count": 71,
   "id": "647e5c82-9069-4515-8bb5-22133b328497",
   "metadata": {},
   "outputs": [
    {
     "data": {
      "text/plain": [
       "{'tennis': 1,\n",
       " 'orangecounty': 1,\n",
       " 'la': 1,\n",
       " 'losangeles': 1,\n",
       " 'activities': 1,\n",
       " 'protesters': 1,\n",
       " 'thisweekend': 1,\n",
       " 'coronavirus': 1,\n",
       " 'california': 1,\n",
       " 'lockdown': 1,\n",
       " 'covid19': 1,\n",
       " 'covid_19': 1,\n",
       " 'newportbeach': 1,\n",
       " 'balboaisland': 1,\n",
       " 'repost': 1}"
      ]
     },
     "execution_count": 71,
     "metadata": {},
     "output_type": "execute_result"
    }
   ],
   "source": [
    "hashtag_counts"
   ]
  },
  {
   "cell_type": "code",
   "execution_count": 73,
   "id": "945f6183-34f7-4ad0-9c85-ea1d07f17a68",
   "metadata": {},
   "outputs": [
    {
     "data": {
      "text/plain": [
       "[]"
      ]
     },
     "execution_count": 73,
     "metadata": {},
     "output_type": "execute_result"
    }
   ],
   "source": [
    "[v for v in hashtag_counts.values() if v > 1]"
   ]
  },
  {
   "cell_type": "code",
   "execution_count": null,
   "id": "b93b0b83-bfa3-4f9d-9728-4c4161dc43d8",
   "metadata": {},
   "outputs": [],
   "source": []
  }
 ],
 "metadata": {
  "kernelspec": {
   "display_name": "Python 3",
   "language": "python",
   "name": "python3"
  },
  "language_info": {
   "codemirror_mode": {
    "name": "ipython",
    "version": 3
   },
   "file_extension": ".py",
   "mimetype": "text/x-python",
   "name": "python",
   "nbconvert_exporter": "python",
   "pygments_lexer": "ipython3",
   "version": "3.8.8"
  }
 },
 "nbformat": 4,
 "nbformat_minor": 5
}
