{
 "cells": [
  {
   "cell_type": "markdown",
   "id": "52231913-2e0c-4f24-8972-0b9e2e9a2b3e",
   "metadata": {},
   "source": [
    "## Problem 5\n",
    "\n",
    "> 2520 is the smallest number that can be divided by each of the numbers from 1 to 10 without any remainder.\n",
    ">\n",
    "> What is the smallest positive number that is evenly divisible by all of the numbers from 1 to 20?"
   ]
  },
  {
   "cell_type": "code",
   "execution_count": 14,
   "id": "cb63c957-95de-46b0-833e-7ab3a1115b28",
   "metadata": {},
   "outputs": [
    {
     "name": "stdout",
     "output_type": "stream",
     "text": [
      "False\n"
     ]
    }
   ],
   "source": [
    "number = 2524\n",
    "is_divisible = True\n",
    "\n",
    "for divisor in range(20, 1, -1):\n",
    "    if number % divisor != 0:\n",
    "        is_divisible = False\n",
    "        break\n",
    "\n",
    "# At the end of the for loop\n",
    "print(is_divisible)"
   ]
  },
  {
   "cell_type": "code",
   "execution_count": null,
   "id": "3a0362e1-cb5e-49be-b84a-8c5f68f67a62",
   "metadata": {},
   "outputs": [],
   "source": [
    "# number = number + 1\n",
    "# number += 1  # Augment operators (shortened version of the above)"
   ]
  },
  {
   "cell_type": "code",
   "execution_count": 26,
   "id": "26655cb0-3a78-4e8e-b048-5d872f09e62e",
   "metadata": {},
   "outputs": [
    {
     "name": "stdout",
     "output_type": "stream",
     "text": [
      "232792560\n"
     ]
    }
   ],
   "source": [
    "number = 1\n",
    "\n",
    "while True:\n",
    "    # Check if number is divisible by all\n",
    "    is_divisible = True\n",
    "    for divisor in range(20, 1, -1):\n",
    "        if number % divisor != 0:\n",
    "            is_divisible = False\n",
    "            break\n",
    "\n",
    "    # Did I find my solution?\n",
    "    # if is_divisible is True:  # Same as below, but shorter\n",
    "    if is_divisible:\n",
    "        break\n",
    "    else:\n",
    "        number = number + 1\n",
    "\n",
    "print(number)"
   ]
  },
  {
   "cell_type": "markdown",
   "id": "7ec1a8ff-d3af-41f7-80b4-0f1838418983",
   "metadata": {},
   "source": [
    "## Problem 9\n",
    "\n",
    "> A Pythagorean triplet is a set of three natural numbers, a < b < c, for which,\n",
    "> $a^2 + b^2 = c^2$\n",
    ">\n",
    "> For example, $3^2 + 4^2 = 9 + 16 = 25 = 5^2$.\n",
    ">\n",
    "> There exists exactly one Pythagorean triplet for which a + b + c = 1000.\n",
    "Find the product $abc$.\n"
   ]
  },
  {
   "cell_type": "markdown",
   "id": "9b403b40-0db4-4792-94bb-2bb3824caf83",
   "metadata": {},
   "source": [
    "$$\n",
    "a^2 + b^2 = c^2 \\\\\n",
    "c = \\sqrt(a^2 + b^2)\n",
    "$$"
   ]
  },
  {
   "cell_type": "code",
   "execution_count": 28,
   "id": "3a77c531-8093-424a-9fb2-93bfe46eae17",
   "metadata": {},
   "outputs": [
    {
     "name": "stdout",
     "output_type": "stream",
     "text": [
      "200 375 425.0\n",
      "31875000.0\n"
     ]
    }
   ],
   "source": [
    "for a in range(1, 1000):\n",
    "    solution = False\n",
    "    for b in range(a + 1, 1000 - a):\n",
    "        # for c in range(b + 1, ...):  # I replace this by c = ...\n",
    "        c = (a ** 2 + b ** 2) ** 0.5  # Square root\n",
    "        # if (a ** 2 + b** 2 == c**2):  # This condition is not needed anymore\n",
    "        # this is a Pythagorean triplet\n",
    "        if a + b + c == 1000:\n",
    "            solution = True\n",
    "            break\n",
    "\n",
    "    if solution:\n",
    "        break\n",
    "\n",
    "print(a, b, c)\n",
    "print(a * b * c)"
   ]
  },
  {
   "cell_type": "code",
   "execution_count": 29,
   "id": "a5e819a1-47e7-49b5-8c6b-1e3e98cbca62",
   "metadata": {},
   "outputs": [
    {
     "name": "stdout",
     "output_type": "stream",
     "text": [
      "200 375 425\n",
      "31875000\n"
     ]
    }
   ],
   "source": [
    "for a in range(1, 1000):\n",
    "    solution = False\n",
    "    for b in range(a + 1, 1000 - a):\n",
    "        # for c in range(b + 1, ...):  # I replace this by c = ...\n",
    "        c = 1000 - a - b  # Square root\n",
    "        if a ** 2 + b ** 2 == c ** 2:\n",
    "            solution = True\n",
    "            break\n",
    "\n",
    "    if solution:\n",
    "        break\n",
    "\n",
    "print(a, b, c)\n",
    "print(a * b * c)"
   ]
  },
  {
   "cell_type": "markdown",
   "id": "fcf404cd-7cbf-47ec-a215-eb09181a0c50",
   "metadata": {},
   "source": [
    "## Problem 16\n",
    "\n",
    "> $2^{15} = 32768$ and the sum of its digits is $3 + 2 + 7 + 6 + 8 = 26$.\n",
    ">\n",
    "> What is the sum of the digits of the number $2^{1000}$?\n",
    "\n",
    "(Math is written in $\\LaTeX$)\n",
    "\n",
    "$\\frac{a}{b}$\n"
   ]
  },
  {
   "cell_type": "code",
   "execution_count": 32,
   "id": "9bef426f-2ebc-4438-b6d9-15e93196220b",
   "metadata": {},
   "outputs": [
    {
     "data": {
      "text/plain": [
       "6"
      ]
     },
     "execution_count": 32,
     "metadata": {},
     "output_type": "execute_result"
    }
   ],
   "source": [
    "sum([1, 2, 3])"
   ]
  },
  {
   "cell_type": "code",
   "execution_count": 35,
   "id": "f7050c62-6121-4f3a-a8e1-9aea27d89922",
   "metadata": {},
   "outputs": [],
   "source": [
    "# sum(str(2 ** 15))  # Cannot work"
   ]
  },
  {
   "cell_type": "code",
   "execution_count": 38,
   "id": "16d8ddac-4f8e-4a92-8c81-bb0f3c08346b",
   "metadata": {},
   "outputs": [
    {
     "data": {
      "text/plain": [
       "1366"
      ]
     },
     "execution_count": 38,
     "metadata": {},
     "output_type": "execute_result"
    }
   ],
   "source": [
    "sum(int(i) for i in str(2 ** 1000))  # Generator comprehension"
   ]
  },
  {
   "cell_type": "code",
   "execution_count": 37,
   "id": "7b1680b2-8158-4608-9ab6-710bbc615ce9",
   "metadata": {},
   "outputs": [
    {
     "name": "stdout",
     "output_type": "stream",
     "text": [
      "1366\n"
     ]
    }
   ],
   "source": [
    "result = 0\n",
    "for digit in str(2 ** 1000):\n",
    "    result = result + int(digit)\n",
    "print(result)"
   ]
  },
  {
   "cell_type": "code",
   "execution_count": 39,
   "id": "e658d6ea-a436-4640-94f5-88b60dea941c",
   "metadata": {},
   "outputs": [
    {
     "data": {
      "text/plain": [
       "1366"
      ]
     },
     "execution_count": 39,
     "metadata": {},
     "output_type": "execute_result"
    }
   ],
   "source": [
    "digits = []\n",
    "for digit in str(2 ** 1000):\n",
    "    digits.append(int(digit))\n",
    "sum(digits)"
   ]
  },
  {
   "cell_type": "markdown",
   "id": "0f1654d0-06b9-4afe-a62c-b354bae4b2e1",
   "metadata": {},
   "source": [
    "## Problem 25\n",
    "\n",
    "The Fibonacci sequence is defined by the recurrence relation:\n",
    "\n",
    "    Fn = Fn−1 + Fn−2, where F1 = 1 and F2 = 1.\n",
    "\n",
    "Hence the first 12 terms will be:\n",
    "\n",
    "    F1 = 1\n",
    "    F2 = 1\n",
    "    F3 = 2\n",
    "    F4 = 3\n",
    "    F5 = 5\n",
    "    F6 = 8\n",
    "    F7 = 13\n",
    "    F8 = 21\n",
    "    F9 = 34\n",
    "    F10 = 55\n",
    "    F11 = 89\n",
    "    F12 = 144\n",
    "\n",
    "The 12th term, F12, is the first term to contain three digits.\n",
    "\n",
    "What is the index of the first term in the Fibonacci sequence to contain 1000 digits?\n"
   ]
  },
  {
   "cell_type": "code",
   "execution_count": 40,
   "id": "41794458-eead-41c7-b41b-99af275920b1",
   "metadata": {},
   "outputs": [
    {
     "data": {
      "text/plain": [
       "144"
      ]
     },
     "execution_count": 40,
     "metadata": {},
     "output_type": "execute_result"
    }
   ],
   "source": [
    "f12 = 144\n",
    "f12"
   ]
  },
  {
   "cell_type": "code",
   "execution_count": 42,
   "id": "c23a4bb4-fbdc-40b4-b7b3-af4863bce940",
   "metadata": {},
   "outputs": [
    {
     "data": {
      "text/plain": [
       "3"
      ]
     },
     "execution_count": 42,
     "metadata": {},
     "output_type": "execute_result"
    }
   ],
   "source": [
    "len(str(f12))"
   ]
  },
  {
   "cell_type": "code",
   "execution_count": 48,
   "id": "bd303d0b-dfb9-45ea-bd84-f3f94378efe7",
   "metadata": {},
   "outputs": [
    {
     "name": "stdout",
     "output_type": "stream",
     "text": [
      "4782\n",
      "4782\n"
     ]
    }
   ],
   "source": [
    "fibonacci_list = [1, 1]\n",
    "# index = 2  # Alternatively, I can keep track of the index\n",
    "\n",
    "while len(str(fibonacci_list[-1])) < 1000:\n",
    "    next_fibonacci = fibonacci_list[-1] + fibonacci_list[-2]\n",
    "    fibonacci_list.append(next_fibonacci)\n",
    "    # index = index + 1\n",
    "\n",
    "# print(next_fibonacci)\n",
    "print(len(fibonacci_list))\n",
    "# print(index)"
   ]
  },
  {
   "cell_type": "code",
   "execution_count": 49,
   "id": "d72526e8-3c8e-4209-bfd5-b728ea1f8c25",
   "metadata": {},
   "outputs": [
    {
     "data": {
      "text/plain": [
       "11"
      ]
     },
     "execution_count": 49,
     "metadata": {},
     "output_type": "execute_result"
    }
   ],
   "source": [
    "fibonacci_list.index(144)"
   ]
  },
  {
   "cell_type": "code",
   "execution_count": 51,
   "id": "d9cfd5de-d9f3-46f5-9353-619434ec1744",
   "metadata": {},
   "outputs": [
    {
     "data": {
      "text/plain": [
       "4000000"
      ]
     },
     "execution_count": 51,
     "metadata": {},
     "output_type": "execute_result"
    }
   ],
   "source": [
    "4_000_000"
   ]
  }
 ],
 "metadata": {
  "kernelspec": {
   "display_name": "Python 3",
   "language": "python",
   "name": "python3"
  },
  "language_info": {
   "codemirror_mode": {
    "name": "ipython",
    "version": 3
   },
   "file_extension": ".py",
   "mimetype": "text/x-python",
   "name": "python",
   "nbconvert_exporter": "python",
   "pygments_lexer": "ipython3",
   "version": "3.8.8"
  }
 },
 "nbformat": 4,
 "nbformat_minor": 5
}
