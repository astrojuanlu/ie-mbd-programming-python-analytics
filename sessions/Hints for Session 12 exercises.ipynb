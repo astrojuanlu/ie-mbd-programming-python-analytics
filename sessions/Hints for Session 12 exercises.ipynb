{
 "cells": [
  {
   "cell_type": "markdown",
   "id": "ab69db94-c7d0-4b31-9bc0-aae9c708bf60",
   "metadata": {},
   "source": [
    "## Data"
   ]
  },
  {
   "cell_type": "code",
   "execution_count": 1,
   "id": "53c838bf-ec45-4e6a-a831-d358a52af90b",
   "metadata": {},
   "outputs": [
    {
     "name": "stdout",
     "output_type": "stream",
     "text": [
      "<class 'list'> 9\n"
     ]
    }
   ],
   "source": [
    "import requests\n",
    "\n",
    "DATA_URL = (\n",
    "    \"https://github.com/astrojuanlu/ie-mbd-python-data-analysis-i/\"\n",
    "    \"raw/main/data/twitter_data.json\"\n",
    ")\n",
    "\n",
    "data = requests.get(DATA_URL).json()\n",
    "print(type(data), len(data))"
   ]
  },
  {
   "cell_type": "markdown",
   "id": "3af07590-049a-46e9-a68c-01fb44150fd1",
   "metadata": {},
   "source": [
    "## Exercises\n",
    "\n",
    "### 1. Cities of tweets\n",
    "\n",
    "Build a set of the cities in which the tweets written. How many distinct cities are there?"
   ]
  },
  {
   "cell_type": "code",
   "execution_count": 10,
   "id": "8337e629-ac06-4bd4-87c0-a621a6df0373",
   "metadata": {},
   "outputs": [],
   "source": [
    "# data[0][\"name\"]  # KeyError"
   ]
  },
  {
   "cell_type": "code",
   "execution_count": 4,
   "id": "c9020965-408c-4742-8533-e932685596ec",
   "metadata": {},
   "outputs": [
    {
     "name": "stdout",
     "output_type": "stream",
     "text": [
      "{'Dixon', 'Newport Beach', 'San Francisco', 'Oakland', 'Modesto', 'West Hollywood', 'Los Angeles'}\n"
     ]
    },
    {
     "data": {
      "text/plain": [
       "7"
      ]
     },
     "execution_count": 4,
     "metadata": {},
     "output_type": "execute_result"
    }
   ],
   "source": [
    "cities = {tweet[\"place\"][\"name\"] for tweet in data}\n",
    "print(cities)\n",
    "len(cities)"
   ]
  },
  {
   "cell_type": "code",
   "execution_count": 12,
   "id": "12e9f96f-b30d-474f-965e-991d6b05d7ab",
   "metadata": {},
   "outputs": [
    {
     "data": {
      "text/plain": [
       "{'Dixon',\n",
       " 'Los Angeles',\n",
       " 'Modesto',\n",
       " 'Newport Beach',\n",
       " 'Oakland',\n",
       " 'San Francisco',\n",
       " 'West Hollywood'}"
      ]
     },
     "execution_count": 12,
     "metadata": {},
     "output_type": "execute_result"
    }
   ],
   "source": [
    "cities = []\n",
    "for tweet in data:\n",
    "    cities.append(tweet[\"place\"][\"name\"])\n",
    "cities = set(cities)\n",
    "cities"
   ]
  },
  {
   "cell_type": "markdown",
   "id": "563d95d1-2bdb-4359-8e83-b05140217b04",
   "metadata": {},
   "source": [
    "### 2. How many tweets in each city\n",
    "\n",
    "Build a dictionary, where the keys are cities and the values are the number of tweets in each city."
   ]
  },
  {
   "cell_type": "code",
   "execution_count": 16,
   "id": "aa9ae1eb-2d8b-41af-8bdf-f7e5efc19912",
   "metadata": {},
   "outputs": [
    {
     "data": {
      "text/plain": [
       "dict"
      ]
     },
     "execution_count": 16,
     "metadata": {},
     "output_type": "execute_result"
    }
   ],
   "source": [
    "type({})  # An empty dictionary"
   ]
  },
  {
   "cell_type": "code",
   "execution_count": 17,
   "id": "7b912911-877b-4459-9964-05b0cd6b20f5",
   "metadata": {},
   "outputs": [
    {
     "data": {
      "text/plain": [
       "set"
      ]
     },
     "execution_count": 17,
     "metadata": {},
     "output_type": "execute_result"
    }
   ],
   "source": [
    "type(set())  # An empty set"
   ]
  },
  {
   "cell_type": "code",
   "execution_count": 18,
   "id": "2e5ecab5-7f18-45d7-98e1-a8788e5e5346",
   "metadata": {},
   "outputs": [],
   "source": [
    "# Start with an empty dictionary\n",
    "# For every distinct city, set dictionary[city] to 0\n",
    "# For every tweet, increase the value of dictionary[city] in +1"
   ]
  },
  {
   "cell_type": "code",
   "execution_count": 20,
   "id": "32be87dc-4460-4898-9047-591157da8caa",
   "metadata": {},
   "outputs": [
    {
     "data": {
      "text/plain": [
       "2"
      ]
     },
     "execution_count": 20,
     "metadata": {},
     "output_type": "execute_result"
    }
   ],
   "source": [
    "[\"en\", \"en\", \"pt\"].count(\"en\")  # The \"en\" string appears 2 times"
   ]
  },
  {
   "cell_type": "markdown",
   "id": "5b68c869-3b1b-402c-9421-ebb22d35f4f5",
   "metadata": {},
   "source": [
    "### 3. How many unique hashtags\n",
    "\n",
    "Build a set of unique, **lowercase** hashtag texts."
   ]
  },
  {
   "cell_type": "markdown",
   "id": "fde18b46-1cf6-48bf-a05b-dc26c39032cb",
   "metadata": {},
   "source": [
    "### 4. How many tweets mentioning each hashtag\n",
    "\n",
    "Build a dictionary, where the keys are the lowercase hashtag texts and the values the number of tweets containing each hashtag. Is there any hashtag that appears more than once?"
   ]
  }
 ],
 "metadata": {
  "kernelspec": {
   "display_name": "Python 3",
   "language": "python",
   "name": "python3"
  },
  "language_info": {
   "codemirror_mode": {
    "name": "ipython",
    "version": 3
   },
   "file_extension": ".py",
   "mimetype": "text/x-python",
   "name": "python",
   "nbconvert_exporter": "python",
   "pygments_lexer": "ipython3",
   "version": "3.8.8"
  }
 },
 "nbformat": 4,
 "nbformat_minor": 5
}
