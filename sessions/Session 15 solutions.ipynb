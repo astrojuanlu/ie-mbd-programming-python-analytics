{
 "cells": [
  {
   "cell_type": "code",
   "execution_count": 1,
   "id": "3e57beb9-bd13-438a-9f34-acf71f26e105",
   "metadata": {
    "execution": {
     "iopub.execute_input": "2022-11-18T14:09:45.415289Z",
     "iopub.status.busy": "2022-11-18T14:09:45.415071Z",
     "iopub.status.idle": "2022-11-18T14:09:45.573695Z",
     "shell.execute_reply": "2022-11-18T14:09:45.573349Z",
     "shell.execute_reply.started": "2022-11-18T14:09:45.415245Z"
    }
   },
   "outputs": [],
   "source": [
    "import pandas as pd"
   ]
  },
  {
   "cell_type": "code",
   "execution_count": 2,
   "id": "2a2bd352-066f-4d17-b5f0-3cc8c725abf2",
   "metadata": {
    "execution": {
     "iopub.execute_input": "2022-11-18T14:09:45.574158Z",
     "iopub.status.busy": "2022-11-18T14:09:45.574077Z",
     "iopub.status.idle": "2022-11-18T14:09:45.607571Z",
     "shell.execute_reply": "2022-11-18T14:09:45.607344Z",
     "shell.execute_reply.started": "2022-11-18T14:09:45.574148Z"
    },
    "tags": []
   },
   "outputs": [
    {
     "data": {
      "text/html": [
       "<div>\n",
       "<style scoped>\n",
       "    .dataframe tbody tr th:only-of-type {\n",
       "        vertical-align: middle;\n",
       "    }\n",
       "\n",
       "    .dataframe tbody tr th {\n",
       "        vertical-align: top;\n",
       "    }\n",
       "\n",
       "    .dataframe thead th {\n",
       "        text-align: right;\n",
       "    }\n",
       "</style>\n",
       "<table border=\"1\" class=\"dataframe\">\n",
       "  <thead>\n",
       "    <tr style=\"text-align: right;\">\n",
       "      <th></th>\n",
       "      <th>nr</th>\n",
       "      <th>commission_representative</th>\n",
       "      <th>portfolio</th>\n",
       "      <th>date</th>\n",
       "      <th>location</th>\n",
       "      <th>subject(s)-edited</th>\n",
       "      <th>lobbyist</th>\n",
       "      <th>health_meeting_or_lab</th>\n",
       "      <th>Unnamed: 8</th>\n",
       "      <th>Unnamed: 9</th>\n",
       "      <th>Unnamed: 10</th>\n",
       "    </tr>\n",
       "  </thead>\n",
       "  <tbody>\n",
       "    <tr>\n",
       "      <th>0</th>\n",
       "      <td>1</td>\n",
       "      <td>Ladislav Miko, Director-General</td>\n",
       "      <td>Director-General of Health and Food Safety (SA...</td>\n",
       "      <td>15/04/2015</td>\n",
       "      <td>Brussels, BELGIUM</td>\n",
       "      <td>Seeds</td>\n",
       "      <td>ARCHE NOAH, Gesellschaft für die Erhaltung der...</td>\n",
       "      <td>False</td>\n",
       "      <td>NaN</td>\n",
       "      <td>NaN</td>\n",
       "      <td>NaN</td>\n",
       "    </tr>\n",
       "    <tr>\n",
       "      <th>1</th>\n",
       "      <td>2</td>\n",
       "      <td>Arunas Ribokas, Cabinet member of Vytenis Andr...</td>\n",
       "      <td>Health &amp; Food Safety</td>\n",
       "      <td>30/01/2015</td>\n",
       "      <td>Brussels</td>\n",
       "      <td>The Food Chain, Innovation and Challenges, Foo...</td>\n",
       "      <td>ARCHE NOAH, Gesellschaft für die Erhaltung der...</td>\n",
       "      <td>False</td>\n",
       "      <td>NaN</td>\n",
       "      <td>NaN</td>\n",
       "      <td>NaN</td>\n",
       "    </tr>\n",
       "    <tr>\n",
       "      <th>2</th>\n",
       "      <td>3</td>\n",
       "      <td>Nathalie Chaze, Cabinet member of Vytenis Andr...</td>\n",
       "      <td>Health &amp; Food Safety</td>\n",
       "      <td>6/01/2015</td>\n",
       "      <td>Brussels</td>\n",
       "      <td>Plant Reproductive Material Proposal</td>\n",
       "      <td>ARCHE NOAH, Gesellschaft für die Erhaltung der...</td>\n",
       "      <td>False</td>\n",
       "      <td>NaN</td>\n",
       "      <td>NaN</td>\n",
       "      <td>NaN</td>\n",
       "    </tr>\n",
       "    <tr>\n",
       "      <th>3</th>\n",
       "      <td>1</td>\n",
       "      <td>Roberto Viola, Director-General</td>\n",
       "      <td>Director-General of Communications Networks, C...</td>\n",
       "      <td>21/02/2019</td>\n",
       "      <td>Brussels</td>\n",
       "      <td>Quantum Technologies</td>\n",
       "      <td>Austrian Institute of Technology GmbH (AIT)</td>\n",
       "      <td>False</td>\n",
       "      <td>NaN</td>\n",
       "      <td>NaN</td>\n",
       "      <td>NaN</td>\n",
       "    </tr>\n",
       "    <tr>\n",
       "      <th>4</th>\n",
       "      <td>2</td>\n",
       "      <td>Mariya Gabriel, Commissioner</td>\n",
       "      <td>Digital Economy and Society</td>\n",
       "      <td>8/01/2019</td>\n",
       "      <td>Sofia</td>\n",
       "      <td>Cloud computing, Cybersecurity</td>\n",
       "      <td>Austrian Institute of Technology GmbH (AIT)</td>\n",
       "      <td>False</td>\n",
       "      <td>NaN</td>\n",
       "      <td>NaN</td>\n",
       "      <td>NaN</td>\n",
       "    </tr>\n",
       "  </tbody>\n",
       "</table>\n",
       "</div>"
      ],
      "text/plain": [
       "   nr                          commission_representative  \\\n",
       "0   1                    Ladislav Miko, Director-General   \n",
       "1   2  Arunas Ribokas, Cabinet member of Vytenis Andr...   \n",
       "2   3  Nathalie Chaze, Cabinet member of Vytenis Andr...   \n",
       "3   1                    Roberto Viola, Director-General   \n",
       "4   2                       Mariya Gabriel, Commissioner   \n",
       "\n",
       "                                           portfolio        date  \\\n",
       "0  Director-General of Health and Food Safety (SA...  15/04/2015   \n",
       "1                               Health & Food Safety  30/01/2015   \n",
       "2                               Health & Food Safety   6/01/2015   \n",
       "3  Director-General of Communications Networks, C...  21/02/2019   \n",
       "4                        Digital Economy and Society   8/01/2019   \n",
       "\n",
       "            location                                  subject(s)-edited  \\\n",
       "0  Brussels, BELGIUM                                              Seeds   \n",
       "1           Brussels  The Food Chain, Innovation and Challenges, Foo...   \n",
       "2           Brussels               Plant Reproductive Material Proposal   \n",
       "3           Brussels                               Quantum Technologies   \n",
       "4              Sofia                     Cloud computing, Cybersecurity   \n",
       "\n",
       "                                            lobbyist  health_meeting_or_lab  \\\n",
       "0  ARCHE NOAH, Gesellschaft für die Erhaltung der...                  False   \n",
       "1  ARCHE NOAH, Gesellschaft für die Erhaltung der...                  False   \n",
       "2  ARCHE NOAH, Gesellschaft für die Erhaltung der...                  False   \n",
       "3        Austrian Institute of Technology GmbH (AIT)                  False   \n",
       "4        Austrian Institute of Technology GmbH (AIT)                  False   \n",
       "\n",
       "   Unnamed: 8  Unnamed: 9 Unnamed: 10  \n",
       "0         NaN         NaN         NaN  \n",
       "1         NaN         NaN         NaN  \n",
       "2         NaN         NaN         NaN  \n",
       "3         NaN         NaN         NaN  \n",
       "4         NaN         NaN         NaN  "
      ]
     },
     "execution_count": 2,
     "metadata": {},
     "output_type": "execute_result"
    }
   ],
   "source": [
    "df = pd.read_csv(\"../data/commission-lobbists-meetings.csv\")\n",
    "df.head()"
   ]
  },
  {
   "cell_type": "code",
   "execution_count": 3,
   "id": "87e4ab3b-a178-4c6e-b3a6-d1073771f247",
   "metadata": {
    "execution": {
     "iopub.execute_input": "2022-11-18T14:09:45.608390Z",
     "iopub.status.busy": "2022-11-18T14:09:45.608306Z",
     "iopub.status.idle": "2022-11-18T14:09:45.612106Z",
     "shell.execute_reply": "2022-11-18T14:09:45.611851Z",
     "shell.execute_reply.started": "2022-11-18T14:09:45.608380Z"
    }
   },
   "outputs": [
    {
     "name": "stdout",
     "output_type": "stream",
     "text": [
      "0\n",
      "0\n",
      "1\n"
     ]
    }
   ],
   "source": [
    "print(df[\"Unnamed: 8\"].nunique())\n",
    "print(df[\"Unnamed: 9\"].nunique())\n",
    "print(df[\"Unnamed: 10\"].nunique())"
   ]
  },
  {
   "cell_type": "code",
   "execution_count": 4,
   "id": "ad69de10-d04e-42e0-8bf6-43b289b810de",
   "metadata": {
    "execution": {
     "iopub.execute_input": "2022-11-18T14:09:45.612580Z",
     "iopub.status.busy": "2022-11-18T14:09:45.612508Z",
     "iopub.status.idle": "2022-11-18T14:09:45.615903Z",
     "shell.execute_reply": "2022-11-18T14:09:45.615614Z",
     "shell.execute_reply.started": "2022-11-18T14:09:45.612571Z"
    },
    "tags": []
   },
   "outputs": [
    {
     "name": "stdout",
     "output_type": "stream",
     "text": [
      "Unnamed: 8 0\n",
      "Unnamed: 9 0\n",
      "Unnamed: 10 1\n"
     ]
    }
   ],
   "source": [
    "# To avoid copy-paste:\n",
    "for num in range(8, 11):\n",
    "    col_name = f\"Unnamed: {num}\"  # \"f-strings\" https://realpython.com/python-f-strings/\n",
    "    print(col_name, df[col_name].nunique())"
   ]
  },
  {
   "cell_type": "markdown",
   "id": "6b4828b5-7781-47f7-b838-791069b05d6d",
   "metadata": {},
   "source": [
    "What happens with the last column?"
   ]
  },
  {
   "cell_type": "code",
   "execution_count": 5,
   "id": "9c6fc325-59f8-48e6-a00c-a9f3f964e206",
   "metadata": {
    "execution": {
     "iopub.execute_input": "2022-11-18T14:09:45.616511Z",
     "iopub.status.busy": "2022-11-18T14:09:45.616355Z",
     "iopub.status.idle": "2022-11-18T14:09:45.619802Z",
     "shell.execute_reply": "2022-11-18T14:09:45.619438Z",
     "shell.execute_reply.started": "2022-11-18T14:09:45.616502Z"
    }
   },
   "outputs": [
    {
     "data": {
      "text/plain": [
       "15/03/2021    1\n",
       "Name: Unnamed: 10, dtype: int64"
      ]
     },
     "execution_count": 5,
     "metadata": {},
     "output_type": "execute_result"
    }
   ],
   "source": [
    "df[\"Unnamed: 10\"].value_counts()"
   ]
  },
  {
   "cell_type": "code",
   "execution_count": 6,
   "id": "198b2ff6-47f7-4086-8f1e-e8de94bee752",
   "metadata": {
    "execution": {
     "iopub.execute_input": "2022-11-18T14:09:45.620516Z",
     "iopub.status.busy": "2022-11-18T14:09:45.620418Z",
     "iopub.status.idle": "2022-11-18T14:09:45.627380Z",
     "shell.execute_reply": "2022-11-18T14:09:45.627017Z",
     "shell.execute_reply.started": "2022-11-18T14:09:45.620502Z"
    }
   },
   "outputs": [
    {
     "data": {
      "text/html": [
       "<div>\n",
       "<style scoped>\n",
       "    .dataframe tbody tr th:only-of-type {\n",
       "        vertical-align: middle;\n",
       "    }\n",
       "\n",
       "    .dataframe tbody tr th {\n",
       "        vertical-align: top;\n",
       "    }\n",
       "\n",
       "    .dataframe thead th {\n",
       "        text-align: right;\n",
       "    }\n",
       "</style>\n",
       "<table border=\"1\" class=\"dataframe\">\n",
       "  <thead>\n",
       "    <tr style=\"text-align: right;\">\n",
       "      <th></th>\n",
       "      <th>nr</th>\n",
       "      <th>commission_representative</th>\n",
       "      <th>portfolio</th>\n",
       "      <th>date</th>\n",
       "      <th>location</th>\n",
       "      <th>subject(s)-edited</th>\n",
       "      <th>lobbyist</th>\n",
       "      <th>health_meeting_or_lab</th>\n",
       "      <th>Unnamed: 8</th>\n",
       "      <th>Unnamed: 9</th>\n",
       "      <th>Unnamed: 10</th>\n",
       "    </tr>\n",
       "  </thead>\n",
       "  <tbody>\n",
       "    <tr>\n",
       "      <th>12004</th>\n",
       "      <td>4</td>\n",
       "      <td>Isabelle Perignon, Cabinet member of Didier Re...</td>\n",
       "      <td>Justice</td>\n",
       "      <td>17/12/2020</td>\n",
       "      <td>video conferencing</td>\n",
       "      <td>consumer policy and green pledges</td>\n",
       "      <td>Nestlé S.A. (Nestlé (SIX/ NESN))</td>\n",
       "      <td>False</td>\n",
       "      <td>NaN</td>\n",
       "      <td>NaN</td>\n",
       "      <td>15/03/2021</td>\n",
       "    </tr>\n",
       "  </tbody>\n",
       "</table>\n",
       "</div>"
      ],
      "text/plain": [
       "       nr                          commission_representative portfolio  \\\n",
       "12004   4  Isabelle Perignon, Cabinet member of Didier Re...   Justice   \n",
       "\n",
       "             date            location                  subject(s)-edited  \\\n",
       "12004  17/12/2020  video conferencing  consumer policy and green pledges   \n",
       "\n",
       "                               lobbyist  health_meeting_or_lab  Unnamed: 8  \\\n",
       "12004  Nestlé S.A. (Nestlé (SIX/ NESN))                  False         NaN   \n",
       "\n",
       "       Unnamed: 9 Unnamed: 10  \n",
       "12004         NaN  15/03/2021  "
      ]
     },
     "execution_count": 6,
     "metadata": {},
     "output_type": "execute_result"
    }
   ],
   "source": [
    "df.loc[df[\"Unnamed: 10\"] == \"15/03/2021\"]"
   ]
  },
  {
   "cell_type": "code",
   "execution_count": 7,
   "id": "ce853170-28ed-4285-a39d-84eb51bf3dba",
   "metadata": {
    "execution": {
     "iopub.execute_input": "2022-11-18T14:09:45.627888Z",
     "iopub.status.busy": "2022-11-18T14:09:45.627811Z",
     "iopub.status.idle": "2022-11-18T14:09:45.633861Z",
     "shell.execute_reply": "2022-11-18T14:09:45.633538Z",
     "shell.execute_reply.started": "2022-11-18T14:09:45.627877Z"
    },
    "tags": []
   },
   "outputs": [
    {
     "data": {
      "text/html": [
       "<div>\n",
       "<style scoped>\n",
       "    .dataframe tbody tr th:only-of-type {\n",
       "        vertical-align: middle;\n",
       "    }\n",
       "\n",
       "    .dataframe tbody tr th {\n",
       "        vertical-align: top;\n",
       "    }\n",
       "\n",
       "    .dataframe thead th {\n",
       "        text-align: right;\n",
       "    }\n",
       "</style>\n",
       "<table border=\"1\" class=\"dataframe\">\n",
       "  <thead>\n",
       "    <tr style=\"text-align: right;\">\n",
       "      <th></th>\n",
       "      <th>nr</th>\n",
       "      <th>commission_representative</th>\n",
       "      <th>portfolio</th>\n",
       "      <th>date</th>\n",
       "      <th>location</th>\n",
       "      <th>subject(s)-edited</th>\n",
       "      <th>lobbyist</th>\n",
       "      <th>health_meeting_or_lab</th>\n",
       "      <th>Unnamed: 8</th>\n",
       "      <th>Unnamed: 9</th>\n",
       "      <th>Unnamed: 10</th>\n",
       "    </tr>\n",
       "  </thead>\n",
       "  <tbody>\n",
       "    <tr>\n",
       "      <th>12004</th>\n",
       "      <td>4</td>\n",
       "      <td>Isabelle Perignon, Cabinet member of Didier Re...</td>\n",
       "      <td>Justice</td>\n",
       "      <td>17/12/2020</td>\n",
       "      <td>video conferencing</td>\n",
       "      <td>consumer policy and green pledges</td>\n",
       "      <td>Nestlé S.A. (Nestlé (SIX/ NESN))</td>\n",
       "      <td>False</td>\n",
       "      <td>NaN</td>\n",
       "      <td>NaN</td>\n",
       "      <td>15/03/2021</td>\n",
       "    </tr>\n",
       "  </tbody>\n",
       "</table>\n",
       "</div>"
      ],
      "text/plain": [
       "       nr                          commission_representative portfolio  \\\n",
       "12004   4  Isabelle Perignon, Cabinet member of Didier Re...   Justice   \n",
       "\n",
       "             date            location                  subject(s)-edited  \\\n",
       "12004  17/12/2020  video conferencing  consumer policy and green pledges   \n",
       "\n",
       "                               lobbyist  health_meeting_or_lab  Unnamed: 8  \\\n",
       "12004  Nestlé S.A. (Nestlé (SIX/ NESN))                  False         NaN   \n",
       "\n",
       "       Unnamed: 9 Unnamed: 10  \n",
       "12004         NaN  15/03/2021  "
      ]
     },
     "execution_count": 7,
     "metadata": {},
     "output_type": "execute_result"
    }
   ],
   "source": [
    "# Or, alternatively (we haven't seen .notnull() yet, but worth noting)\n",
    "df.loc[df[\"Unnamed: 10\"].notnull()]"
   ]
  },
  {
   "cell_type": "markdown",
   "id": "0940b5df-ea5c-4bba-8842-87d3ad8040d6",
   "metadata": {},
   "source": [
    "Looks like an error of some sort, drop `Unnamed: 10` too."
   ]
  },
  {
   "cell_type": "markdown",
   "id": "53f8d5d9-1526-483e-80b1-b1c5743087ad",
   "metadata": {},
   "source": [
    "Several ways of dropping the columns:"
   ]
  },
  {
   "cell_type": "code",
   "execution_count": 8,
   "id": "d9cf9624-4a41-450d-a588-c4e3fe87ef26",
   "metadata": {
    "execution": {
     "iopub.execute_input": "2022-11-18T14:09:45.634322Z",
     "iopub.status.busy": "2022-11-18T14:09:45.634249Z",
     "iopub.status.idle": "2022-11-18T14:09:45.635895Z",
     "shell.execute_reply": "2022-11-18T14:09:45.635632Z",
     "shell.execute_reply.started": "2022-11-18T14:09:45.634312Z"
    },
    "tags": []
   },
   "outputs": [],
   "source": [
    "#df = df.drop(columns=[f\"Unnamed: {num}\" for num in range(8, 11)])\n",
    "#df = df.drop([f\"Unnamed: {num}\" for num in range(8, 11)], axis=1)"
   ]
  },
  {
   "cell_type": "code",
   "execution_count": 9,
   "id": "8a632797-bd47-428d-9487-c43944491361",
   "metadata": {
    "execution": {
     "iopub.execute_input": "2022-11-18T14:09:45.636362Z",
     "iopub.status.busy": "2022-11-18T14:09:45.636219Z",
     "iopub.status.idle": "2022-11-18T14:09:45.637765Z",
     "shell.execute_reply": "2022-11-18T14:09:45.637559Z",
     "shell.execute_reply.started": "2022-11-18T14:09:45.636352Z"
    },
    "tags": []
   },
   "outputs": [],
   "source": [
    "#for col_name in df:\n",
    "#    if df[col_name].nunique() <= 1:\n",
    "#        df = df.drop(col_name, axis=1)"
   ]
  },
  {
   "cell_type": "code",
   "execution_count": 10,
   "id": "89fc0085-4cb0-4dd0-a1a1-5f36079cdd59",
   "metadata": {
    "execution": {
     "iopub.execute_input": "2022-11-18T14:09:45.638173Z",
     "iopub.status.busy": "2022-11-18T14:09:45.638072Z",
     "iopub.status.idle": "2022-11-18T14:09:45.639529Z",
     "shell.execute_reply": "2022-11-18T14:09:45.639308Z",
     "shell.execute_reply.started": "2022-11-18T14:09:45.638164Z"
    }
   },
   "outputs": [],
   "source": [
    "# This would work for Unnamed: 8 and 9, but not 10\n",
    "#df.dropna(axis=1, how=\"all\")"
   ]
  },
  {
   "cell_type": "code",
   "execution_count": 11,
   "id": "315ca330-7d2a-4413-9fb6-4bfe5ec71a8c",
   "metadata": {
    "execution": {
     "iopub.execute_input": "2022-11-18T14:09:45.639912Z",
     "iopub.status.busy": "2022-11-18T14:09:45.639849Z",
     "iopub.status.idle": "2022-11-18T14:09:45.647173Z",
     "shell.execute_reply": "2022-11-18T14:09:45.646814Z",
     "shell.execute_reply.started": "2022-11-18T14:09:45.639904Z"
    }
   },
   "outputs": [
    {
     "data": {
      "text/html": [
       "<div>\n",
       "<style scoped>\n",
       "    .dataframe tbody tr th:only-of-type {\n",
       "        vertical-align: middle;\n",
       "    }\n",
       "\n",
       "    .dataframe tbody tr th {\n",
       "        vertical-align: top;\n",
       "    }\n",
       "\n",
       "    .dataframe thead th {\n",
       "        text-align: right;\n",
       "    }\n",
       "</style>\n",
       "<table border=\"1\" class=\"dataframe\">\n",
       "  <thead>\n",
       "    <tr style=\"text-align: right;\">\n",
       "      <th></th>\n",
       "      <th>nr</th>\n",
       "      <th>commission_representative</th>\n",
       "      <th>portfolio</th>\n",
       "      <th>date</th>\n",
       "      <th>location</th>\n",
       "      <th>subject(s)-edited</th>\n",
       "      <th>lobbyist</th>\n",
       "      <th>health_meeting_or_lab</th>\n",
       "    </tr>\n",
       "  </thead>\n",
       "  <tbody>\n",
       "    <tr>\n",
       "      <th>0</th>\n",
       "      <td>1</td>\n",
       "      <td>Ladislav Miko, Director-General</td>\n",
       "      <td>Director-General of Health and Food Safety (SA...</td>\n",
       "      <td>15/04/2015</td>\n",
       "      <td>Brussels, BELGIUM</td>\n",
       "      <td>Seeds</td>\n",
       "      <td>ARCHE NOAH, Gesellschaft für die Erhaltung der...</td>\n",
       "      <td>False</td>\n",
       "    </tr>\n",
       "    <tr>\n",
       "      <th>1</th>\n",
       "      <td>2</td>\n",
       "      <td>Arunas Ribokas, Cabinet member of Vytenis Andr...</td>\n",
       "      <td>Health &amp; Food Safety</td>\n",
       "      <td>30/01/2015</td>\n",
       "      <td>Brussels</td>\n",
       "      <td>The Food Chain, Innovation and Challenges, Foo...</td>\n",
       "      <td>ARCHE NOAH, Gesellschaft für die Erhaltung der...</td>\n",
       "      <td>False</td>\n",
       "    </tr>\n",
       "    <tr>\n",
       "      <th>2</th>\n",
       "      <td>3</td>\n",
       "      <td>Nathalie Chaze, Cabinet member of Vytenis Andr...</td>\n",
       "      <td>Health &amp; Food Safety</td>\n",
       "      <td>6/01/2015</td>\n",
       "      <td>Brussels</td>\n",
       "      <td>Plant Reproductive Material Proposal</td>\n",
       "      <td>ARCHE NOAH, Gesellschaft für die Erhaltung der...</td>\n",
       "      <td>False</td>\n",
       "    </tr>\n",
       "    <tr>\n",
       "      <th>3</th>\n",
       "      <td>1</td>\n",
       "      <td>Roberto Viola, Director-General</td>\n",
       "      <td>Director-General of Communications Networks, C...</td>\n",
       "      <td>21/02/2019</td>\n",
       "      <td>Brussels</td>\n",
       "      <td>Quantum Technologies</td>\n",
       "      <td>Austrian Institute of Technology GmbH (AIT)</td>\n",
       "      <td>False</td>\n",
       "    </tr>\n",
       "    <tr>\n",
       "      <th>4</th>\n",
       "      <td>2</td>\n",
       "      <td>Mariya Gabriel, Commissioner</td>\n",
       "      <td>Digital Economy and Society</td>\n",
       "      <td>8/01/2019</td>\n",
       "      <td>Sofia</td>\n",
       "      <td>Cloud computing, Cybersecurity</td>\n",
       "      <td>Austrian Institute of Technology GmbH (AIT)</td>\n",
       "      <td>False</td>\n",
       "    </tr>\n",
       "  </tbody>\n",
       "</table>\n",
       "</div>"
      ],
      "text/plain": [
       "   nr                          commission_representative  \\\n",
       "0   1                    Ladislav Miko, Director-General   \n",
       "1   2  Arunas Ribokas, Cabinet member of Vytenis Andr...   \n",
       "2   3  Nathalie Chaze, Cabinet member of Vytenis Andr...   \n",
       "3   1                    Roberto Viola, Director-General   \n",
       "4   2                       Mariya Gabriel, Commissioner   \n",
       "\n",
       "                                           portfolio        date  \\\n",
       "0  Director-General of Health and Food Safety (SA...  15/04/2015   \n",
       "1                               Health & Food Safety  30/01/2015   \n",
       "2                               Health & Food Safety   6/01/2015   \n",
       "3  Director-General of Communications Networks, C...  21/02/2019   \n",
       "4                        Digital Economy and Society   8/01/2019   \n",
       "\n",
       "            location                                  subject(s)-edited  \\\n",
       "0  Brussels, BELGIUM                                              Seeds   \n",
       "1           Brussels  The Food Chain, Innovation and Challenges, Foo...   \n",
       "2           Brussels               Plant Reproductive Material Proposal   \n",
       "3           Brussels                               Quantum Technologies   \n",
       "4              Sofia                     Cloud computing, Cybersecurity   \n",
       "\n",
       "                                            lobbyist  health_meeting_or_lab  \n",
       "0  ARCHE NOAH, Gesellschaft für die Erhaltung der...                  False  \n",
       "1  ARCHE NOAH, Gesellschaft für die Erhaltung der...                  False  \n",
       "2  ARCHE NOAH, Gesellschaft für die Erhaltung der...                  False  \n",
       "3        Austrian Institute of Technology GmbH (AIT)                  False  \n",
       "4        Austrian Institute of Technology GmbH (AIT)                  False  "
      ]
     },
     "execution_count": 11,
     "metadata": {},
     "output_type": "execute_result"
    }
   ],
   "source": [
    "df = df.loc[:, :\"health_meeting_or_lab\"]\n",
    "df.head()"
   ]
  },
  {
   "cell_type": "markdown",
   "id": "24cb807d-7cd1-4de8-8453-a0a83607c17b",
   "metadata": {},
   "source": [
    "Most common lobbyists:"
   ]
  },
  {
   "cell_type": "code",
   "execution_count": 12,
   "id": "61207818-b776-40b7-9cad-5a1a00a22b14",
   "metadata": {
    "execution": {
     "iopub.execute_input": "2022-11-18T14:09:45.649026Z",
     "iopub.status.busy": "2022-11-18T14:09:45.648887Z",
     "iopub.status.idle": "2022-11-18T14:09:45.654525Z",
     "shell.execute_reply": "2022-11-18T14:09:45.654285Z",
     "shell.execute_reply.started": "2022-11-18T14:09:45.649008Z"
    },
    "tags": []
   },
   "outputs": [
    {
     "data": {
      "text/plain": [
       "Google                                                                                 250\n",
       "Bureau Européen des Unions de Consommateurs (BEUC)                                     189\n",
       "Transport and Environment (European Federation for Transport and Environment) (T&E)    155\n",
       "WWF European Policy Programme (WWF EPO)                                                151\n",
       "DIGITALEUROPE (DE)                                                                     151\n",
       "Microsoft Corporation                                                                  144\n",
       "American Chamber of Commerce to the European Union (AmCham EU)                         144\n",
       "EuroCommerce                                                                           138\n",
       "European farmers (COPA)                                                                137\n",
       "Vodafone Belgium SA (VBSA)                                                             123\n",
       "Name: lobbyist, dtype: int64"
      ]
     },
     "execution_count": 12,
     "metadata": {},
     "output_type": "execute_result"
    }
   ],
   "source": [
    "(\n",
    "    df[\"lobbyist\"]\n",
    "    .value_counts()\n",
    "    .nlargest(10)  # .head(10) would also work in this case\n",
    "                   # because .value_counts() sorts the result\n",
    ")"
   ]
  },
  {
   "cell_type": "code",
   "execution_count": 13,
   "id": "e5b1e084-7f10-459c-a7cb-66641ed43a80",
   "metadata": {
    "execution": {
     "iopub.execute_input": "2022-11-18T14:09:45.655084Z",
     "iopub.status.busy": "2022-11-18T14:09:45.654901Z",
     "iopub.status.idle": "2022-11-18T14:09:45.658154Z",
     "shell.execute_reply": "2022-11-18T14:09:45.657953Z",
     "shell.execute_reply.started": "2022-11-18T14:09:45.655072Z"
    }
   },
   "outputs": [
    {
     "data": {
      "text/plain": [
       "Digital Economy and Society                                                                               692\n",
       "Health & Food Safety                                                                                      688\n",
       "Jobs, Growth, Investment and Competitiveness                                                              687\n",
       "Agriculture & Rural Development                                                                           520\n",
       "Digital Single Market                                                                                     507\n",
       "President                                                                                                 494\n",
       "Trade                                                                                                     417\n",
       "European Green Deal                                                                                       400\n",
       "Internal Market, Industry, Entrepreneurship and SMEs                                                      395\n",
       "Better Regulation, Interinstitutional Relations, the Rule of Law and the Charter of Fundamental Rights    359\n",
       "Name: portfolio, dtype: int64"
      ]
     },
     "execution_count": 13,
     "metadata": {},
     "output_type": "execute_result"
    }
   ],
   "source": [
    "df[\"portfolio\"].value_counts().head(10)"
   ]
  },
  {
   "cell_type": "code",
   "execution_count": 14,
   "id": "3a13d758-0c68-4971-9b98-29455362d853",
   "metadata": {
    "execution": {
     "iopub.execute_input": "2022-11-18T14:09:45.658649Z",
     "iopub.status.busy": "2022-11-18T14:09:45.658541Z",
     "iopub.status.idle": "2022-11-18T14:09:45.665723Z",
     "shell.execute_reply": "2022-11-18T14:09:45.665410Z",
     "shell.execute_reply.started": "2022-11-18T14:09:45.658640Z"
    },
    "tags": []
   },
   "outputs": [
    {
     "data": {
      "text/plain": [
       "DSM                                                                                                     163\n",
       "Digital Single Market                                                                                   132\n",
       "Circular Economy                                                                                        103\n",
       "Video call with Pharmaceutical Industrial Associations, the European Medicines Agency and the Europe     79\n",
       "Business discussion                                                                                      74\n",
       "Meeting with the Task Force for the Preparation and Conduct of the Negotiations with the United King     63\n",
       "Alcohol labelling                                                                                        60\n",
       "Energy Union                                                                                             47\n",
       "Video call with Pharmaceutical Industrial Associations and the European Medicines Agency to discuss      42\n",
       "Copyright                                                                                                41\n",
       "Name: subject(s)-edited, dtype: int64"
      ]
     },
     "execution_count": 14,
     "metadata": {},
     "output_type": "execute_result"
    }
   ],
   "source": [
    "(\n",
    "    df[\"subject(s)-edited\"]\n",
    "    .str[:100]  # Trim length for presentation purposes only\n",
    "    .value_counts()\n",
    "    .head(10)\n",
    ")"
   ]
  },
  {
   "cell_type": "code",
   "execution_count": 15,
   "id": "34fec862-a1ee-4f0e-b598-d5a93696f3a3",
   "metadata": {
    "execution": {
     "iopub.execute_input": "2022-11-18T14:09:45.666296Z",
     "iopub.status.busy": "2022-11-18T14:09:45.666157Z",
     "iopub.status.idle": "2022-11-18T14:09:45.669114Z",
     "shell.execute_reply": "2022-11-18T14:09:45.668906Z",
     "shell.execute_reply.started": "2022-11-18T14:09:45.666283Z"
    }
   },
   "outputs": [
    {
     "data": {
      "text/plain": [
       "101"
      ]
     },
     "execution_count": 15,
     "metadata": {},
     "output_type": "execute_result"
    }
   ],
   "source": [
    "df[\"portfolio\"].nunique()"
   ]
  },
  {
   "cell_type": "code",
   "execution_count": 16,
   "id": "4cc895d3-b364-466a-a97e-192d25f9ee5d",
   "metadata": {
    "execution": {
     "iopub.execute_input": "2022-11-18T14:09:45.669647Z",
     "iopub.status.busy": "2022-11-18T14:09:45.669468Z",
     "iopub.status.idle": "2022-11-18T14:09:45.673115Z",
     "shell.execute_reply": "2022-11-18T14:09:45.672876Z",
     "shell.execute_reply.started": "2022-11-18T14:09:45.669638Z"
    }
   },
   "outputs": [
    {
     "data": {
      "text/plain": [
       "8012"
      ]
     },
     "execution_count": 16,
     "metadata": {},
     "output_type": "execute_result"
    }
   ],
   "source": [
    "df[\"subject(s)-edited\"].nunique()"
   ]
  },
  {
   "cell_type": "code",
   "execution_count": 17,
   "id": "bbdf519e-1869-4823-8b35-8481b9105fcf",
   "metadata": {
    "execution": {
     "iopub.execute_input": "2022-11-18T14:09:45.673607Z",
     "iopub.status.busy": "2022-11-18T14:09:45.673501Z",
     "iopub.status.idle": "2022-11-18T14:09:45.678496Z",
     "shell.execute_reply": "2022-11-18T14:09:45.678221Z",
     "shell.execute_reply.started": "2022-11-18T14:09:45.673598Z"
    },
    "tags": []
   },
   "outputs": [
    {
     "data": {
      "text/html": [
       "<div>\n",
       "<style scoped>\n",
       "    .dataframe tbody tr th:only-of-type {\n",
       "        vertical-align: middle;\n",
       "    }\n",
       "\n",
       "    .dataframe tbody tr th {\n",
       "        vertical-align: top;\n",
       "    }\n",
       "\n",
       "    .dataframe thead th {\n",
       "        text-align: right;\n",
       "    }\n",
       "</style>\n",
       "<table border=\"1\" class=\"dataframe\">\n",
       "  <thead>\n",
       "    <tr style=\"text-align: right;\">\n",
       "      <th></th>\n",
       "      <th>portfolio</th>\n",
       "      <th>subject(s)-edited</th>\n",
       "    </tr>\n",
       "  </thead>\n",
       "  <tbody>\n",
       "    <tr>\n",
       "      <th>11246</th>\n",
       "      <td>Values and Transparency</td>\n",
       "      <td>Disinformation COVID -19</td>\n",
       "    </tr>\n",
       "    <tr>\n",
       "      <th>11247</th>\n",
       "      <td>Internal Market</td>\n",
       "      <td>Cloud</td>\n",
       "    </tr>\n",
       "    <tr>\n",
       "      <th>11248</th>\n",
       "      <td>Values and Transparency</td>\n",
       "      <td>EDAP,DSA</td>\n",
       "    </tr>\n",
       "    <tr>\n",
       "      <th>11249</th>\n",
       "      <td>Values and Transparency</td>\n",
       "      <td>EDAP</td>\n",
       "    </tr>\n",
       "    <tr>\n",
       "      <th>11250</th>\n",
       "      <td>Internal Market</td>\n",
       "      <td>Roundtable with platforms on DSA and DMA</td>\n",
       "    </tr>\n",
       "  </tbody>\n",
       "</table>\n",
       "</div>"
      ],
      "text/plain": [
       "                     portfolio                         subject(s)-edited\n",
       "11246  Values and Transparency                  Disinformation COVID -19\n",
       "11247          Internal Market                                     Cloud\n",
       "11248  Values and Transparency                                  EDAP,DSA\n",
       "11249  Values and Transparency                                      EDAP\n",
       "11250          Internal Market  Roundtable with platforms on DSA and DMA"
      ]
     },
     "execution_count": 17,
     "metadata": {},
     "output_type": "execute_result"
    }
   ],
   "source": [
    "google_subjects = df.loc[df[\"lobbyist\"] == \"Google\", [\"portfolio\", \"subject(s)-edited\"]]\n",
    "google_subjects.head()"
   ]
  },
  {
   "cell_type": "code",
   "execution_count": 18,
   "id": "3dd02ba9-17dc-4f9c-b10e-8fada2a18695",
   "metadata": {
    "execution": {
     "iopub.execute_input": "2022-11-18T14:09:45.679156Z",
     "iopub.status.busy": "2022-11-18T14:09:45.679035Z",
     "iopub.status.idle": "2022-11-18T14:09:45.689445Z",
     "shell.execute_reply": "2022-11-18T14:09:45.689090Z",
     "shell.execute_reply.started": "2022-11-18T14:09:45.679140Z"
    }
   },
   "outputs": [
    {
     "data": {
      "text/plain": [
       "portfolio                               subject(s)-edited        \n",
       "Digital Economy and Society             Copyright                    4\n",
       "                                        DSM                          4\n",
       "Education, Culture, Youth and Sport     Digital Single Market        4\n",
       "President                               Digital Single Market        3\n",
       "Justice, Consumers and Gender Equality  Code of Conduct              3\n",
       "Security Union                          Cyber security               3\n",
       "Digital Single Market                   Copyright                    3\n",
       "Education, Culture, Youth and Sport     ICT in education             3\n",
       "                                        Google News and Copyright    2\n",
       "Security Union                          Cybersecurity                2\n",
       "dtype: int64"
      ]
     },
     "execution_count": 18,
     "metadata": {},
     "output_type": "execute_result"
    }
   ],
   "source": [
    "# To see the most common (portfolio, subject) pairs:\n",
    "google_subjects.value_counts().nlargest(10)"
   ]
  },
  {
   "cell_type": "code",
   "execution_count": 19,
   "id": "be61b67a-4866-4602-b5b0-b63505d8d183",
   "metadata": {
    "execution": {
     "iopub.execute_input": "2022-11-18T14:09:45.690089Z",
     "iopub.status.busy": "2022-11-18T14:09:45.689966Z",
     "iopub.status.idle": "2022-11-18T14:09:45.694567Z",
     "shell.execute_reply": "2022-11-18T14:09:45.694276Z",
     "shell.execute_reply.started": "2022-11-18T14:09:45.690072Z"
    },
    "tags": []
   },
   "outputs": [
    {
     "data": {
      "text/plain": [
       "Digital Economy and Society                                                      32\n",
       "Justice, Consumers and Gender Equality                                           28\n",
       "Digital Single Market                                                            26\n",
       "Education, Culture, Youth and Sport                                              19\n",
       "Director-General of Communications Networks, Content and Technology (CONNECT)    11\n",
       "Values and Transparency                                                           9\n",
       "Internal Market, Industry, Entrepreneurship and SMEs                              9\n",
       "Jobs, Growth, Investment and Competitiveness                                      9\n",
       "Agriculture & Rural Development                                                   8\n",
       "Internal Market                                                                   8\n",
       "Name: portfolio, dtype: int64"
      ]
     },
     "execution_count": 19,
     "metadata": {},
     "output_type": "execute_result"
    }
   ],
   "source": [
    "# Most common portfolios and subjects, separately\n",
    "google_subjects[\"portfolio\"].value_counts().nlargest(10)"
   ]
  },
  {
   "cell_type": "code",
   "execution_count": 20,
   "id": "ad6d4377-dcfa-49ec-8598-3423b2be3002",
   "metadata": {
    "execution": {
     "iopub.execute_input": "2022-11-18T14:09:45.695283Z",
     "iopub.status.busy": "2022-11-18T14:09:45.695154Z",
     "iopub.status.idle": "2022-11-18T14:09:45.700273Z",
     "shell.execute_reply": "2022-11-18T14:09:45.699941Z",
     "shell.execute_reply.started": "2022-11-18T14:09:45.695266Z"
    },
    "tags": []
   },
   "outputs": [
    {
     "data": {
      "text/plain": [
       "Digital Single Market      12\n",
       "Copyright                   9\n",
       "DSM                         4\n",
       "Business Europe CEO day     4\n",
       "Digital skills              3\n",
       "ICT in education            3\n",
       "Disinformation              3\n",
       "Code of Conduct             3\n",
       "Cyber security              3\n",
       "Cybersecurity               2\n",
       "Name: subject(s)-edited, dtype: int64"
      ]
     },
     "execution_count": 20,
     "metadata": {},
     "output_type": "execute_result"
    }
   ],
   "source": [
    "# Most common portfolios and subjects, separately\n",
    "google_subjects[\"subject(s)-edited\"].value_counts().nlargest(10)"
   ]
  },
  {
   "cell_type": "code",
   "execution_count": 21,
   "id": "5e25b3ce-6fd3-469a-afab-22f82b882cf1",
   "metadata": {
    "execution": {
     "iopub.execute_input": "2022-11-18T14:09:45.701101Z",
     "iopub.status.busy": "2022-11-18T14:09:45.700977Z",
     "iopub.status.idle": "2022-11-18T14:09:45.706394Z",
     "shell.execute_reply": "2022-11-18T14:09:45.706126Z",
     "shell.execute_reply.started": "2022-11-18T14:09:45.701085Z"
    },
    "tags": []
   },
   "outputs": [],
   "source": [
    "lobbyists = df[\"lobbyist\"].str.lower()"
   ]
  },
  {
   "cell_type": "code",
   "execution_count": 22,
   "id": "bb771475-3f83-4467-9ecd-25750be8ac36",
   "metadata": {
    "execution": {
     "iopub.execute_input": "2022-11-18T14:09:45.707011Z",
     "iopub.status.busy": "2022-11-18T14:09:45.706814Z",
     "iopub.status.idle": "2022-11-18T14:09:45.714598Z",
     "shell.execute_reply": "2022-11-18T14:09:45.714233Z",
     "shell.execute_reply.started": "2022-11-18T14:09:45.706998Z"
    },
    "tags": []
   },
   "outputs": [
    {
     "data": {
      "text/plain": [
       "False"
      ]
     },
     "execution_count": 22,
     "metadata": {},
     "output_type": "execute_result"
    }
   ],
   "source": [
    "# Apparently, no other FAANG companies in this list\n",
    "lobbyists.str.contains(\"amazon\").any()"
   ]
  },
  {
   "cell_type": "code",
   "execution_count": 23,
   "id": "76cc3ea3-7985-4888-bdc8-b4459a7ffbe0",
   "metadata": {
    "execution": {
     "iopub.execute_input": "2022-11-18T14:09:45.715270Z",
     "iopub.status.busy": "2022-11-18T14:09:45.715135Z",
     "iopub.status.idle": "2022-11-18T14:09:45.722533Z",
     "shell.execute_reply": "2022-11-18T14:09:45.722120Z",
     "shell.execute_reply.started": "2022-11-18T14:09:45.715252Z"
    },
    "tags": []
   },
   "outputs": [
    {
     "data": {
      "text/plain": [
       "False"
      ]
     },
     "execution_count": 23,
     "metadata": {},
     "output_type": "execute_result"
    }
   ],
   "source": [
    "lobbyists.str.contains(\"apple\").any()"
   ]
  },
  {
   "cell_type": "code",
   "execution_count": 24,
   "id": "57e614cd-fd73-4fd3-b066-db0d45773eb3",
   "metadata": {
    "execution": {
     "iopub.execute_input": "2022-11-18T14:09:45.723184Z",
     "iopub.status.busy": "2022-11-18T14:09:45.723071Z",
     "iopub.status.idle": "2022-11-18T14:09:45.730849Z",
     "shell.execute_reply": "2022-11-18T14:09:45.730395Z",
     "shell.execute_reply.started": "2022-11-18T14:09:45.723168Z"
    },
    "tags": []
   },
   "outputs": [
    {
     "data": {
      "text/plain": [
       "False"
      ]
     },
     "execution_count": 24,
     "metadata": {},
     "output_type": "execute_result"
    }
   ],
   "source": [
    "lobbyists.str.contains(\"netflix\").any()"
   ]
  },
  {
   "cell_type": "code",
   "execution_count": 25,
   "id": "e9079422-66eb-4e2c-ab9d-5332bdc7e4cb",
   "metadata": {
    "execution": {
     "iopub.execute_input": "2022-11-18T14:09:45.731551Z",
     "iopub.status.busy": "2022-11-18T14:09:45.731432Z",
     "iopub.status.idle": "2022-11-18T14:09:45.738679Z",
     "shell.execute_reply": "2022-11-18T14:09:45.738343Z",
     "shell.execute_reply.started": "2022-11-18T14:09:45.731536Z"
    },
    "tags": []
   },
   "outputs": [
    {
     "data": {
      "text/plain": [
       "False"
      ]
     },
     "execution_count": 25,
     "metadata": {},
     "output_type": "execute_result"
    }
   ],
   "source": [
    "lobbyists.str.contains(\"facebook\").any()"
   ]
  },
  {
   "cell_type": "code",
   "execution_count": 26,
   "id": "f6d291f9-47a4-4442-b38c-6e6437632e6b",
   "metadata": {
    "execution": {
     "iopub.execute_input": "2022-11-18T14:09:45.739347Z",
     "iopub.status.busy": "2022-11-18T14:09:45.739222Z",
     "iopub.status.idle": "2022-11-18T14:09:45.746586Z",
     "shell.execute_reply": "2022-11-18T14:09:45.746242Z",
     "shell.execute_reply.started": "2022-11-18T14:09:45.739329Z"
    },
    "tags": []
   },
   "outputs": [
    {
     "data": {
      "text/plain": [
       "True"
      ]
     },
     "execution_count": 26,
     "metadata": {},
     "output_type": "execute_result"
    }
   ],
   "source": [
    "# But!\n",
    "lobbyists.str.contains(\"microsoft\").any()"
   ]
  },
  {
   "cell_type": "code",
   "execution_count": 27,
   "id": "74095859-a5f6-4db5-8010-290980bd2ef3",
   "metadata": {
    "execution": {
     "iopub.execute_input": "2022-11-18T14:09:45.747323Z",
     "iopub.status.busy": "2022-11-18T14:09:45.747192Z",
     "iopub.status.idle": "2022-11-18T14:09:45.758849Z",
     "shell.execute_reply": "2022-11-18T14:09:45.758473Z",
     "shell.execute_reply.started": "2022-11-18T14:09:45.747307Z"
    },
    "tags": []
   },
   "outputs": [
    {
     "data": {
      "text/plain": [
       "array(['Microsoft Corporation'], dtype=object)"
      ]
     },
     "execution_count": 27,
     "metadata": {},
     "output_type": "execute_result"
    }
   ],
   "source": [
    "df.loc[df[\"lobbyist\"].str.lower().str.contains(\"microsoft\"), \"lobbyist\"].unique()"
   ]
  },
  {
   "cell_type": "markdown",
   "id": "9c87273a-01ed-4cf5-97cc-0e8e00a74496",
   "metadata": {},
   "source": [
    "So, instead of calling it `is_faang`, let's call it `is_bigtech`:"
   ]
  },
  {
   "cell_type": "code",
   "execution_count": 28,
   "id": "348d7343-303a-4d62-888f-e0561a481cda",
   "metadata": {
    "execution": {
     "iopub.execute_input": "2022-11-18T14:09:45.759784Z",
     "iopub.status.busy": "2022-11-18T14:09:45.759632Z",
     "iopub.status.idle": "2022-11-18T14:09:45.781856Z",
     "shell.execute_reply": "2022-11-18T14:09:45.781470Z",
     "shell.execute_reply.started": "2022-11-18T14:09:45.759766Z"
    },
    "tags": []
   },
   "outputs": [
    {
     "data": {
      "text/html": [
       "<div>\n",
       "<style scoped>\n",
       "    .dataframe tbody tr th:only-of-type {\n",
       "        vertical-align: middle;\n",
       "    }\n",
       "\n",
       "    .dataframe tbody tr th {\n",
       "        vertical-align: top;\n",
       "    }\n",
       "\n",
       "    .dataframe thead th {\n",
       "        text-align: right;\n",
       "    }\n",
       "</style>\n",
       "<table border=\"1\" class=\"dataframe\">\n",
       "  <thead>\n",
       "    <tr style=\"text-align: right;\">\n",
       "      <th></th>\n",
       "      <th>nr</th>\n",
       "      <th>commission_representative</th>\n",
       "      <th>portfolio</th>\n",
       "      <th>date</th>\n",
       "      <th>location</th>\n",
       "      <th>subject(s)-edited</th>\n",
       "      <th>lobbyist</th>\n",
       "      <th>health_meeting_or_lab</th>\n",
       "      <th>is_bigtech</th>\n",
       "    </tr>\n",
       "  </thead>\n",
       "  <tbody>\n",
       "    <tr>\n",
       "      <th>11246</th>\n",
       "      <td>1</td>\n",
       "      <td>Věra Jourová, Vice-President</td>\n",
       "      <td>Values and Transparency</td>\n",
       "      <td>22/02/2021</td>\n",
       "      <td>Videoconference</td>\n",
       "      <td>Disinformation COVID -19</td>\n",
       "      <td>Google</td>\n",
       "      <td>True</td>\n",
       "      <td>True</td>\n",
       "    </tr>\n",
       "    <tr>\n",
       "      <th>11247</th>\n",
       "      <td>2</td>\n",
       "      <td>Fabrice Comptour, Cabinet member of Thierry Br...</td>\n",
       "      <td>Internal Market</td>\n",
       "      <td>15/01/2021</td>\n",
       "      <td>Videoconference</td>\n",
       "      <td>Cloud</td>\n",
       "      <td>Google</td>\n",
       "      <td>False</td>\n",
       "      <td>True</td>\n",
       "    </tr>\n",
       "    <tr>\n",
       "      <th>11248</th>\n",
       "      <td>3</td>\n",
       "      <td>Renate Nikolay, Cabinet member of Věra Jourová...</td>\n",
       "      <td>Values and Transparency</td>\n",
       "      <td>16/12/2020</td>\n",
       "      <td>videoconference</td>\n",
       "      <td>EDAP,DSA</td>\n",
       "      <td>Google</td>\n",
       "      <td>False</td>\n",
       "      <td>True</td>\n",
       "    </tr>\n",
       "    <tr>\n",
       "      <th>11249</th>\n",
       "      <td>4</td>\n",
       "      <td>Věra Jourová, Vice-President</td>\n",
       "      <td>Values and Transparency</td>\n",
       "      <td>7/12/2020</td>\n",
       "      <td>videoconference</td>\n",
       "      <td>EDAP</td>\n",
       "      <td>Google</td>\n",
       "      <td>False</td>\n",
       "      <td>True</td>\n",
       "    </tr>\n",
       "    <tr>\n",
       "      <th>11250</th>\n",
       "      <td>5</td>\n",
       "      <td>Thierry Breton, Commissioner;Filomena Chirico,...</td>\n",
       "      <td>Internal Market</td>\n",
       "      <td>2/12/2020</td>\n",
       "      <td>Videoconference</td>\n",
       "      <td>Roundtable with platforms on DSA and DMA</td>\n",
       "      <td>Google</td>\n",
       "      <td>False</td>\n",
       "      <td>True</td>\n",
       "    </tr>\n",
       "  </tbody>\n",
       "</table>\n",
       "</div>"
      ],
      "text/plain": [
       "       nr                          commission_representative  \\\n",
       "11246   1                       Věra Jourová, Vice-President   \n",
       "11247   2  Fabrice Comptour, Cabinet member of Thierry Br...   \n",
       "11248   3  Renate Nikolay, Cabinet member of Věra Jourová...   \n",
       "11249   4                       Věra Jourová, Vice-President   \n",
       "11250   5  Thierry Breton, Commissioner;Filomena Chirico,...   \n",
       "\n",
       "                     portfolio        date         location  \\\n",
       "11246  Values and Transparency  22/02/2021  Videoconference   \n",
       "11247          Internal Market  15/01/2021  Videoconference   \n",
       "11248  Values and Transparency  16/12/2020  videoconference   \n",
       "11249  Values and Transparency   7/12/2020  videoconference   \n",
       "11250          Internal Market   2/12/2020  Videoconference   \n",
       "\n",
       "                              subject(s)-edited lobbyist  \\\n",
       "11246                  Disinformation COVID -19   Google   \n",
       "11247                                     Cloud   Google   \n",
       "11248                                  EDAP,DSA   Google   \n",
       "11249                                      EDAP   Google   \n",
       "11250  Roundtable with platforms on DSA and DMA   Google   \n",
       "\n",
       "       health_meeting_or_lab  is_bigtech  \n",
       "11246                   True        True  \n",
       "11247                  False        True  \n",
       "11248                  False        True  \n",
       "11249                  False        True  \n",
       "11250                  False        True  "
      ]
     },
     "execution_count": 28,
     "metadata": {},
     "output_type": "execute_result"
    }
   ],
   "source": [
    "df[\"is_bigtech\"] = (\n",
    "    df[\"lobbyist\"].str.lower().str.contains(\"google\")\n",
    "    | df[\"lobbyist\"].str.lower().str.contains(\"microsoft\")\n",
    ")\n",
    "df.loc[df[\"is_bigtech\"]].head()"
   ]
  },
  {
   "cell_type": "code",
   "execution_count": 29,
   "id": "2f242d01-2ac3-4aaa-91d4-43deebcd76c9",
   "metadata": {
    "execution": {
     "iopub.execute_input": "2022-11-18T14:09:45.782424Z",
     "iopub.status.busy": "2022-11-18T14:09:45.782342Z",
     "iopub.status.idle": "2022-11-18T14:09:45.785370Z",
     "shell.execute_reply": "2022-11-18T14:09:45.785035Z",
     "shell.execute_reply.started": "2022-11-18T14:09:45.782414Z"
    },
    "tags": []
   },
   "outputs": [
    {
     "name": "stdout",
     "output_type": "stream",
     "text": [
      "['Brussels, BELGIUM', 'Brussels', 'Sofia', 'Brusselse', 'Brussels, Belgium', 'webex', 'Virtual meeting', 'Brussels - virtual', 'Brussels, BERL', 'video-call', 'Conference call', 'Videoconference', 'Berlaymont 8th floor', 'Virtual', 'virtual', 'Conference Call', 'VC meeting', 'Linz', 'Belgium, Brussels, BERL', 'videoconference (Brussels)', 'Brussels - video conference', 'Brussels/online', 'Brussels Belguim', 'BRUSSELS', 'Virtual Presentation', 'Video Conferencing', 'Virtual call', 'Hong Kong', 'BERL', 'video-conferencing', 'Video conference (skype)', 'Sassenheim', 'Video-conference', 'Brussels, BE', 'video conference', 'Video conference', 'teleconference', 'videoconference', 'Brussels (VC)', 'Bruxelles', 'videocall', 'Video Conference', 'video- conferencing', 'video conference (Brussels)', 'Video - conferencing', 'video conferencing', 'virutal', 'Brussels - videoconference', 'Ireland', 'Avenue des Arts 53', 'Stuttgart', 'Milan', 'Washington DC', 'Berlaymont', 'Amcham', 'Brussels - EC premises', 'AmCham EU office, on Avenue des Arts 53, 1000 Brussels', 'Video Conference - Brussels', 'Berlaymont Hotel', 'Silken Berlaymont Hotel', 'Davos', 'Davos, Switzerland', 'Online', 'Webex meeting', 'Brussels (WEBEX)', 'Munich', 'Brussels Belgium', 'Dresden', 'Berlin', 'BXL', 'Lisbon', 'Brussels (video conference)', 'Paris', 'Videconference', 'Brussels, Berl', 'Videoconference call', 'Video conferencing', 'Teleconference', 'Brussels (BELGIUM)', 'Brussels - Belgium', 'The Hague, Netherlands', 'BERL 08/304', 'Phone call', 'Brussels, video conference', 'Video meeting', 'Brussels B232', 'BREY - Brussels', 'Bxl', 'BERL 8th floor', 'BERL 09/346', 'BERL, Berlaymont', 'Brussels, belgium', 'BERL 8/275', 'Brussels, Berlaymont', 'Luxembourg', 'Prague', 'Madrid', 'Vienna', 'Stockholm', 'Bratislava', 'ECHO, L86', 'online', 'Brussels - online', 'Bruxelles, Belgique', 'Brussels, Berlgium', 'European Commission, Brussels, Belgium', 'BU-24 3/87', 'Berlaymont, Brussels', 'video phone call', 'Brussles', 'Berlaymont Brussels', 'Brussels, online', 'zoom platform', 'Belgium', 'Video- conferencing', 'Berlaymont, Brussels, Belgium', 'PHone call', 'BREY-Brussels', 'Brussels - Webex meeting', 'BERL 08/318', 'Brussels - conferencecall', 'CSR Europe office- Brussels', 'Michel Servoz office', 'Video call', 'video call', 'video-conference', 'Videoconferencing', 'Brussels, skype meeting', 'Brussels (online)', 'Videomeeting', 'Brussels/Belgium', 'Brussels, BERL 089/318', \"Brussels, Director- General's office\", 'Brussels- belgium', 'BREY 14/069', 'Rue de la Loi 41', 'BERl', 'Singapore', 'Berl 10/411', 'VC', 'brussels', 'Valletta, Malta', 'Video conference (Brussels)', 'Brussels/ videocall', 'BERL, Brussels, BE', 'conference call', 'Webinar', 'telephone conference', 'Bruxelles - Skype meeting', 'Strasbourg', 'Sofitel Brussels', 'BERL, Brussels', 'BE/Brussels', 'Riga, Latvia', 'Berlaymont building, Brussels', 'Belgium, Brussels', 'Berl 10/021', 'EP, Brussels', 'Square de Meeûs 18, B-1050 Brussels', 'BERL 10/390', 'BERL 10/411', 'Brussels - Webex call', 'videoconference call', 'Brussels Belgium.', 'Webex', 'B232 07/066', 'Videoconference (Webex)', 'virtual meeting', 'Webex VC', 'videoconferencing', 'video meeting', 'Carcassone, France', 'Copa Cogeca Secretariat', 'BERL 08/323', 'EP', 'EP esplanade', 'EAPN, Boulevard Bischoffscheim 11, 1000 Brussels', 'European Commission,', 'WebEx Video meeting', 'European Association of Paritarian Institutions', 'Madrid, Spain', 'Brussels, Belgium.', 'Live Debate', 'Brussels (Berlaymont)', 'Brussels (virtual)', 'telephone call', 'Videocall', 'Helsinki', 'Avenue Van Nieuwenhuyse 4, Brussels', 'New Hotel Charlemagne - meeting room Ambiorix', 'European Commission, Brussels', 'Brussels, Belguim', 'Bruxelles - Skype call', 'Nice, France', 'Greece', 'DG AGRI, Rue de la Loi 130', 'Online event', 'Roma', 'Sant Egidio office Brussels', 'Brussles - video conference', 'Brussels Video Meeting', 'bRUSSELS', 'BERL 09/374', 'BERL 10/041', 'Brussells', 'Bonn', 'WEBEX', 'Philanthropy House, Rue Royale 94, 1000 Brussels, Belgium', 'Virtual event', 'Brussels - SKYPE meeting', 'berlaymont', 'BERL Bruxelles', 'Ancient Olympia, Greece', 'Lausanne, Switzerland', 'Brussels - virtual meeting', 'Brussels - virtual call', 'Brussels (via Teams)', 'Brussels - webinar', 'Milano, IT', 'Brussels, Berl 10 /400', 'Virtual conference', 'on line event', 'rue du Trone', 'restaurant Icônes', 'BERL 10/180', 'Brussels/video conference', 'online meeting', 'Virtually', 'Brussels (Teams)', 'Brussels, Berl 10 /411', 'Brussels - BERL', 'Amsterdam', 'On line', 'Gent', 'BERL 12/62', 'Videoconference (Brussels)', 'Brussels- European Commission', 'Brussels (conference call)', 'Euractive, Bd de Charlemagne, Brussels', 'Avignon, France', 'Brussels - Videoconference', 'Brussels, BREY', 'European Commission - Barlaymont Building', 'Brussels, BERL 08 /318', 'Brussels Videoconference', 'Square Meeus 5- 6, Brussels', 'BERL - Bruxelles', 'Beralymont', 'BERL 13/244', 'Brussels - Webex - virtual meeting', 'Berlin, Germany', 'Brusels', 'Marrakech', 'Dublin, Ireland', 'Le Bourget (Paris), France', 'Le Bourget( Paris), France', 'Washington', 'BERL 13/093', 'Sofia, Bulgaria', 'Hannover, DE', 'video confrence (Brussels)', 'Brussels Virtual', 'Leuven, Belgium', 'Leuven', 'European Commission', 'Videoonference', 'Utrecht', 'Brussels (virtual meeting)', 'videophone call', 'Brussels VC Interactio', 'Athens', 'Brussels (Webex)', 'Teams meeting', 'Brussels, phone call', 'VB Wien', 'Brussels, BERL 08 /304', 'New York', 'Phone conference', 'München', 'Brussel', 'Exchange of views', 'Video Meeting', 'The Hague', 'brussels, berlaymont', 'brussels, belgium', 'London', 'Port Moresby, PNG', 'European Commission – Brussels (Berlaymont)', 'European Commission - Berlaymont', 'Vilnius, Lithuania', 'Brussels - Webex- virtual meeting', 'BERL 10/286', 'Berlaymont - Brussels', 'Berlaymont, Room 11/062', 'BERL 12/217', 'Helsinki, Finland', 'Skype meeting', 'VTC', 'Comece Secretariat', 'Brussels (webex)', 'Göteborg, Sweden', 'Riga', 'Rue Montoyer 47, Brussels', 'Brussel, Belgium', 'Zoom meeting', 'Brussels (video- conference)', '1 Rue Zinner', 'BERL 12/243', 'Videoconfernce', \"Concert Noble, Rue d'Arlon 82, 1000 Brussels\", 'video - conference', 'Vodeo call', 'Viceo call', 'Online call', 'Video-Call', 'Brussels (video conferencel)', 'Brussels, Berlaymont Building', 'Videoconference meeting', 'Digital', 'Barcelona', 'Rome', 'Germany', 'Lech', 'Frankfurt, Germany', 'videophonecall', 'Brussels VC', 'Phone call - Brussels', 'Brussels - video call meeting', 'European Commission – Brussels', 'European Commission - Berl', 'Beaulieu', 'Avenue Tervuren 168', 'Tirana', 'BERL 11/076', 'Nicosia, Cyprus', 'Brussels, Europan Parl (Magritte Group)', 'Strasbourg, France', 'PRAGUE, CZECH REPUBLIC', 'ireland', 'Dalian', 'Copenhagen', 'Copenhagen, Denmark', 'BER 12/243', 'Brussles, Belguim', 'Brussels,Belgium', 'Brussels; Belgium', 'Tallinn (Estonia)', 'Tartu, Estonia', 'Stanhope Hotel, Rue de Commerce, Brussels', 'European Parliament', 'MO59 8/10', 'Belgium, Bruxelles, BERL', 'skype meeting', 'video confererence', 'Brusssels', 'Espoo', 'Janakkala', 'Oslo', 'Paris, France', 'Gateway building – Luchthaven Nationaal 1J, 1930 Zaventem, Belgium', 'Lisbon, Portugal', 'Brussels, BERL 08 /323', 'Virtual Conference', 'Brussels-Belgium', 'teams', 'France', 'Brussels - online meeting', 'Hotel Amigo, Brussels', 'bruxelles', 'World Economic Forum, Davos', 'Vidéoconférence', 'Brussels - Berlaymont', 'videocinference', 'Belgium - Brussel', 'Brussels/ online', 'phone call', 'Teheran, Iran', 'Algiers', 'Brussels - Skype meeting', 'PARIS', 'Antwerp', nan, \"Martin's Hotel, Bruxelles\", \"Hotel Martin's Brussels EU\", 'Brussels (VTC)', 'Brussls, Belgium', 'BERLIN', 'Representation to the EU of the Association of German Chambers of Commerce and Industry (CCI Germany)', 'Berl 8/165', 'Brussels/BE', 'Markgröningen /Germany', 'Hotel Plaza, Brussels', 'Haus der deutschen Wirtschaft, Berlin', 'Brüssel', 'Hannover', 'Hannover, Germany', 'BERL 10/390 Deutsche Sozialversicherung Europavertretung', 'Skopje', 'Brussels, Brussels', 'Evian', 'Steigenberger Hotel Berlin', 'Berlin/Germany', 'Berlaymont , Brussels', 'Brussels (by video conference)', 'Karlsruhe', 'VideoConference', 'Frankfurt', 'Brussels/ BE', 'Hannover CEBIT', 'Brussels, Belgium, BERL', 'European Commission- Brussels - Berlaymont', 'Representation North Rhine Westfalia, Rue Montoyer 47, Brussels', 'Illingen', 'BERL 8/304', 'Juelich', 'Kiel', 'BERL - Bxl', 'MFF', 'L-41; 12/31', \"European Commission Brussels, Ms Calviño's office\", 'KfW premises; Frankfurt am Main; Germany', 'Amsterdam, The Netherlands', 'BERL 8/26', 'Ludwigsburg', 'Belgium, Brussels, BERL 10th', 'Heidelberg', 'Walldorf', 'Berlaymont 10 /072', 'Munich, Germany', 'Berlin Germany', 'Virtual Meeting', 'Cologne, Germany', 'viedo conference', 'Bruxelles, Belgium', 'Mannheim', 'virtual event', 'Brussles, BERL 08 /304', 'Video Conference Brussels', 'Dublin', 'DUBLIN', 'Brussels virtual meeting', 'iRELAND', 'Kilkenny, Ireland', 'Limerick', 'Berl 10/394', 'San Francisco, US', 'San Francisco, USA', 'Videolink (Brussels)', 'Italy, Rome', 'Brussesl', 'skype', 'webex videocall', 'Brussels/online meeting', 'Confindustria', 'Rome, Italy', 'BER 08/323', 'Brussels (VC mtg)', 'Cernobbio', 'Milan, Italy', 'Venice', 'Brussles, Belgium', 'VP`s office 10 /041', 'Online meeting', 'Brussels (phone call)', 'Tallinn', 'virtual interview (Brussels)', 'Eindhoven', 'Marseille, France', 'Ljublijana', 'Kuków, Poland', 'Brussels - conference call', 'Tour & Taxis - Brussels', 'Video-call', 'Brussels (vide conference)', 'Breda', 'video confenrence (Brussels)', 'Leiden', 'Brussels (videoconference)', 'The Hague, The Netherlands', 'The Netherlands, Den Haag', 'Oosterbeek', 'Brussels (Video conference)', 'Warsaw, Poland', 'Warsaw', 'Brussels, VC', 'St. Petersburg', 'Manila', 'Chiang Mai', 'Ljubljana', 'Webconference', \"Saint Julian's, Malta\", 'Bruxelles / BRE2', 'Rue Parnasse - Bruxelles', 'virtual meeting via videoconference', 'Bryssels, Belgium', 'Brussels, virtual meeting', 'Brussels EAC', 'Zurich', 'Grand Hotel Union. Ljubljana', 'Switzerland', 'Brussels / online', 'Video Conferencing.', 'berl', 'Nyon, Switzerland', 'Geneva', 'BERL/10', 'Berl Building Bruxelles', 'BERL 11/176', 'Video call Brussels', 'Irealnd', 'Skype', 'British Chamber of Commerce in Belgium', 'Cercle Lorainne, Brussels', 'Brussels (webinar)', 'BERL 2/320', 'Berl buirlding in Brussels', 'Derry /Londonderry, Northern Ireland', 'UK', 'BERL 13/173', 'CBI Brussels', 'London - BT Centre', 'DG MARE', 'Berl 8/97', 'Vilvoorde', 'brussels, Belgium', \"Brussels - Commissioner's office\", 'Birmingham', 'Amsterdam - Elsevier HQ', 'Brussels BERL 2 /320', 'Suwon, South Korea', 'Berlaymont 9th floor', 'london', \"Rue d'Italie, 9-13, 1050 Brussels\", \"Director-General's office\", 'London, UK', 'WebEx', 'Meet and Meat', 'BERL 8/36', 'BRUSSELS, BELGIUM', 'Brussels, videoconference', 'Lyon', 'European parliament', 'Atlanta', 'Capetown', 'Milano', 'berl building in Brussels', 'Video phone call', 'Brussels (Skype for Business)', 'Boston', 'Washington DC, USA', 'BERL, Bruxelles', 'BERL 8/165', 'BERL 10/152', 'San Francisco (US)', 'Sillicon Valley', 'Mountain View California', 'Silicon Valley, USA', 'Brussels German Marshall Fund Forum – Brussels', 'Silicon Valley', 'J-70 04/71', 'Berlaymont 10 /021', 'Office of Commissioner Avramopoulos - BERLAYMONT Building', 'Davos Switzerland', 'Vienna, Austria', 'New York, USA', 'Seattle', 'Redmond', 'European Commission Brussels', 'Puurs, Belgium', 'Videoconference Brussels', 'RIGA', 'BERL 40/411', 'Brusseks', 'Seneffe', 'Malta']\n"
     ]
    }
   ],
   "source": [
    "print(df[\"location\"].unique().tolist())"
   ]
  },
  {
   "cell_type": "code",
   "execution_count": 30,
   "id": "09fd8b6b-036c-4b24-b34f-0fcb187245f5",
   "metadata": {
    "execution": {
     "iopub.execute_input": "2022-11-18T14:09:45.785925Z",
     "iopub.status.busy": "2022-11-18T14:09:45.785851Z",
     "iopub.status.idle": "2022-11-18T14:09:45.794359Z",
     "shell.execute_reply": "2022-11-18T14:09:45.794065Z",
     "shell.execute_reply.started": "2022-11-18T14:09:45.785915Z"
    },
    "tags": []
   },
   "outputs": [],
   "source": [
    "df[\"is_remote\"] = (\n",
    "    df[\"location\"]\n",
    "    .str.lower()\n",
    "    .str.contains(\n",
    "        \"video|conference|online|virtual|zoom|webex|skype\",  # Instead of chaining several long conditions, you can use regular expressions!\n",
    "        na=False,  # If the location is unknown, assume is not remote\n",
    "    )\n",
    ")"
   ]
  },
  {
   "cell_type": "code",
   "execution_count": 31,
   "id": "3383f5df-d623-4106-87dc-9b67a2e72c38",
   "metadata": {
    "execution": {
     "iopub.execute_input": "2022-11-18T14:09:45.794815Z",
     "iopub.status.busy": "2022-11-18T14:09:45.794744Z",
     "iopub.status.idle": "2022-11-18T14:09:45.797943Z",
     "shell.execute_reply": "2022-11-18T14:09:45.797651Z",
     "shell.execute_reply.started": "2022-11-18T14:09:45.794805Z"
    },
    "tags": []
   },
   "outputs": [
    {
     "data": {
      "text/plain": [
       "False    10343\n",
       "True      1682\n",
       "Name: is_remote, dtype: int64"
      ]
     },
     "execution_count": 31,
     "metadata": {},
     "output_type": "execute_result"
    }
   ],
   "source": [
    "df[\"is_remote\"].value_counts()"
   ]
  },
  {
   "cell_type": "code",
   "execution_count": 32,
   "id": "208b10d9-dfa7-470e-937a-a7f3219e2374",
   "metadata": {
    "execution": {
     "iopub.execute_input": "2022-11-18T14:09:45.798372Z",
     "iopub.status.busy": "2022-11-18T14:09:45.798299Z",
     "iopub.status.idle": "2022-11-18T14:09:45.805399Z",
     "shell.execute_reply": "2022-11-18T14:09:45.805105Z",
     "shell.execute_reply.started": "2022-11-18T14:09:45.798362Z"
    },
    "tags": []
   },
   "outputs": [
    {
     "data": {
      "text/plain": [
       "portfolio\n",
       "Jobs, Growth, Investment and Competitiveness    481\n",
       "Health & Food Safety                            404\n",
       "Agriculture & Rural Development                 353\n",
       "Name: subject(s)-edited, dtype: int64"
      ]
     },
     "execution_count": 32,
     "metadata": {},
     "output_type": "execute_result"
    }
   ],
   "source": [
    "subjects_by_portfolio = df.groupby(\"portfolio\")[\"subject(s)-edited\"].nunique()\n",
    "subjects_by_portfolio.nlargest(3)"
   ]
  },
  {
   "cell_type": "code",
   "execution_count": 33,
   "id": "96d0d34a-950c-43a5-846a-a45266e05e6c",
   "metadata": {
    "execution": {
     "iopub.execute_input": "2022-11-18T14:09:45.805865Z",
     "iopub.status.busy": "2022-11-18T14:09:45.805789Z",
     "iopub.status.idle": "2022-11-18T14:09:45.809085Z",
     "shell.execute_reply": "2022-11-18T14:09:45.808850Z",
     "shell.execute_reply.started": "2022-11-18T14:09:45.805855Z"
    }
   },
   "outputs": [
    {
     "data": {
      "text/plain": [
       "portfolio\n",
       "Acting Director-General of Justice and Consumers (JUST)    1\n",
       "Director-General of Publications Office(OP)                1\n",
       "Director-General of Structural Reform Support (REFORM)     1\n",
       "Name: subject(s)-edited, dtype: int64"
      ]
     },
     "execution_count": 33,
     "metadata": {},
     "output_type": "execute_result"
    }
   ],
   "source": [
    "subjects_by_portfolio.nsmallest(3)"
   ]
  },
  {
   "cell_type": "code",
   "execution_count": 34,
   "id": "df915dfd-b7ef-4cd3-ac31-9ec533561efb",
   "metadata": {
    "execution": {
     "iopub.execute_input": "2022-11-18T14:09:45.809483Z",
     "iopub.status.busy": "2022-11-18T14:09:45.809413Z",
     "iopub.status.idle": "2022-11-18T14:09:45.836459Z",
     "shell.execute_reply": "2022-11-18T14:09:45.836063Z",
     "shell.execute_reply.started": "2022-11-18T14:09:45.809474Z"
    },
    "tags": []
   },
   "outputs": [
    {
     "data": {
      "text/html": [
       "<div>\n",
       "<style scoped>\n",
       "    .dataframe tbody tr th:only-of-type {\n",
       "        vertical-align: middle;\n",
       "    }\n",
       "\n",
       "    .dataframe tbody tr th {\n",
       "        vertical-align: top;\n",
       "    }\n",
       "\n",
       "    .dataframe thead th {\n",
       "        text-align: right;\n",
       "    }\n",
       "</style>\n",
       "<table border=\"1\" class=\"dataframe\">\n",
       "  <thead>\n",
       "    <tr style=\"text-align: right;\">\n",
       "      <th></th>\n",
       "      <th>nr</th>\n",
       "      <th>commission_representative</th>\n",
       "      <th>portfolio</th>\n",
       "      <th>location</th>\n",
       "      <th>subject(s)-edited</th>\n",
       "      <th>lobbyist</th>\n",
       "      <th>health_meeting_or_lab</th>\n",
       "      <th>is_bigtech</th>\n",
       "      <th>is_remote</th>\n",
       "    </tr>\n",
       "    <tr>\n",
       "      <th>date</th>\n",
       "      <th></th>\n",
       "      <th></th>\n",
       "      <th></th>\n",
       "      <th></th>\n",
       "      <th></th>\n",
       "      <th></th>\n",
       "      <th></th>\n",
       "      <th></th>\n",
       "      <th></th>\n",
       "    </tr>\n",
       "  </thead>\n",
       "  <tbody>\n",
       "    <tr>\n",
       "      <th>2015-04-15</th>\n",
       "      <td>1</td>\n",
       "      <td>Ladislav Miko, Director-General</td>\n",
       "      <td>Director-General of Health and Food Safety (SA...</td>\n",
       "      <td>Brussels, BELGIUM</td>\n",
       "      <td>Seeds</td>\n",
       "      <td>ARCHE NOAH, Gesellschaft für die Erhaltung der...</td>\n",
       "      <td>False</td>\n",
       "      <td>False</td>\n",
       "      <td>False</td>\n",
       "    </tr>\n",
       "    <tr>\n",
       "      <th>2015-01-30</th>\n",
       "      <td>2</td>\n",
       "      <td>Arunas Ribokas, Cabinet member of Vytenis Andr...</td>\n",
       "      <td>Health &amp; Food Safety</td>\n",
       "      <td>Brussels</td>\n",
       "      <td>The Food Chain, Innovation and Challenges, Foo...</td>\n",
       "      <td>ARCHE NOAH, Gesellschaft für die Erhaltung der...</td>\n",
       "      <td>False</td>\n",
       "      <td>False</td>\n",
       "      <td>False</td>\n",
       "    </tr>\n",
       "    <tr>\n",
       "      <th>2015-01-06</th>\n",
       "      <td>3</td>\n",
       "      <td>Nathalie Chaze, Cabinet member of Vytenis Andr...</td>\n",
       "      <td>Health &amp; Food Safety</td>\n",
       "      <td>Brussels</td>\n",
       "      <td>Plant Reproductive Material Proposal</td>\n",
       "      <td>ARCHE NOAH, Gesellschaft für die Erhaltung der...</td>\n",
       "      <td>False</td>\n",
       "      <td>False</td>\n",
       "      <td>False</td>\n",
       "    </tr>\n",
       "    <tr>\n",
       "      <th>2019-02-21</th>\n",
       "      <td>1</td>\n",
       "      <td>Roberto Viola, Director-General</td>\n",
       "      <td>Director-General of Communications Networks, C...</td>\n",
       "      <td>Brussels</td>\n",
       "      <td>Quantum Technologies</td>\n",
       "      <td>Austrian Institute of Technology GmbH (AIT)</td>\n",
       "      <td>False</td>\n",
       "      <td>False</td>\n",
       "      <td>False</td>\n",
       "    </tr>\n",
       "    <tr>\n",
       "      <th>2019-01-08</th>\n",
       "      <td>2</td>\n",
       "      <td>Mariya Gabriel, Commissioner</td>\n",
       "      <td>Digital Economy and Society</td>\n",
       "      <td>Sofia</td>\n",
       "      <td>Cloud computing, Cybersecurity</td>\n",
       "      <td>Austrian Institute of Technology GmbH (AIT)</td>\n",
       "      <td>False</td>\n",
       "      <td>False</td>\n",
       "      <td>False</td>\n",
       "    </tr>\n",
       "  </tbody>\n",
       "</table>\n",
       "</div>"
      ],
      "text/plain": [
       "            nr                          commission_representative  \\\n",
       "date                                                                \n",
       "2015-04-15   1                    Ladislav Miko, Director-General   \n",
       "2015-01-30   2  Arunas Ribokas, Cabinet member of Vytenis Andr...   \n",
       "2015-01-06   3  Nathalie Chaze, Cabinet member of Vytenis Andr...   \n",
       "2019-02-21   1                    Roberto Viola, Director-General   \n",
       "2019-01-08   2                       Mariya Gabriel, Commissioner   \n",
       "\n",
       "                                                    portfolio  \\\n",
       "date                                                            \n",
       "2015-04-15  Director-General of Health and Food Safety (SA...   \n",
       "2015-01-30                               Health & Food Safety   \n",
       "2015-01-06                               Health & Food Safety   \n",
       "2019-02-21  Director-General of Communications Networks, C...   \n",
       "2019-01-08                        Digital Economy and Society   \n",
       "\n",
       "                     location  \\\n",
       "date                            \n",
       "2015-04-15  Brussels, BELGIUM   \n",
       "2015-01-30           Brussels   \n",
       "2015-01-06           Brussels   \n",
       "2019-02-21           Brussels   \n",
       "2019-01-08              Sofia   \n",
       "\n",
       "                                            subject(s)-edited  \\\n",
       "date                                                            \n",
       "2015-04-15                                              Seeds   \n",
       "2015-01-30  The Food Chain, Innovation and Challenges, Foo...   \n",
       "2015-01-06               Plant Reproductive Material Proposal   \n",
       "2019-02-21                               Quantum Technologies   \n",
       "2019-01-08                     Cloud computing, Cybersecurity   \n",
       "\n",
       "                                                     lobbyist  \\\n",
       "date                                                            \n",
       "2015-04-15  ARCHE NOAH, Gesellschaft für die Erhaltung der...   \n",
       "2015-01-30  ARCHE NOAH, Gesellschaft für die Erhaltung der...   \n",
       "2015-01-06  ARCHE NOAH, Gesellschaft für die Erhaltung der...   \n",
       "2019-02-21        Austrian Institute of Technology GmbH (AIT)   \n",
       "2019-01-08        Austrian Institute of Technology GmbH (AIT)   \n",
       "\n",
       "            health_meeting_or_lab  is_bigtech  is_remote  \n",
       "date                                                      \n",
       "2015-04-15                  False       False      False  \n",
       "2015-01-30                  False       False      False  \n",
       "2015-01-06                  False       False      False  \n",
       "2019-02-21                  False       False      False  \n",
       "2019-01-08                  False       False      False  "
      ]
     },
     "execution_count": 34,
     "metadata": {},
     "output_type": "execute_result"
    }
   ],
   "source": [
    "(\n",
    "    df\n",
    "    .assign(date=pd.to_datetime(df[\"date\"], infer_datetime_format=True))\n",
    "    .set_index(\"date\")\n",
    ").head()"
   ]
  },
  {
   "cell_type": "code",
   "execution_count": 35,
   "id": "6b2bfd1b-2bd5-4a34-902e-0a5f45206c8d",
   "metadata": {
    "execution": {
     "iopub.execute_input": "2022-11-18T14:09:45.837045Z",
     "iopub.status.busy": "2022-11-18T14:09:45.836909Z",
     "iopub.status.idle": "2022-11-18T14:09:46.572582Z",
     "shell.execute_reply": "2022-11-18T14:09:46.572286Z",
     "shell.execute_reply.started": "2022-11-18T14:09:45.837034Z"
    },
    "tags": []
   },
   "outputs": [
    {
     "data": {
      "text/plain": [
       "<AxesSubplot:xlabel='date'>"
      ]
     },
     "execution_count": 35,
     "metadata": {},
     "output_type": "execute_result"
    },
    {
     "data": {
      "image/png": "[encoded data removed]",
      "text/plain": [
       "<Figure size 432x288 with 1 Axes>"
      ]
     },
     "metadata": {},
     "output_type": "display_data"
    }
   ],
   "source": [
    "# Advanced!\n",
    "import seaborn as sns\n",
    "sns.set()\n",
    "\n",
    "(\n",
    "    df\n",
    "    .assign(date=pd.to_datetime(df[\"date\"], infer_datetime_format=True))\n",
    "    .set_index(\"date\")\n",
    "    .resample(\"W\")\n",
    "    [\"is_remote\"]\n",
    "    .value_counts()\n",
    "    .unstack()\n",
    "    .plot()\n",
    ")"
   ]
  }
 ],
 "metadata": {
  "kernelspec": {
   "display_name": "Python 3 (ipykernel)",
   "language": "python",
   "name": "python3"
  },
  "language_info": {
   "codemirror_mode": {
    "name": "ipython",
    "version": 3
   },
   "file_extension": ".py",
   "mimetype": "text/x-python",
   "name": "python",
   "nbconvert_exporter": "python",
   "pygments_lexer": "ipython3",
   "version": "3.9.12"
  }
 },
 "nbformat": 4,
 "nbformat_minor": 5
}
