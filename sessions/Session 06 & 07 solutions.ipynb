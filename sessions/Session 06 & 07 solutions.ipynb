{
 "cells": [
  {
   "cell_type": "code",
   "execution_count": 1,
   "id": "76f80ddd-a3ba-4003-85dd-ac8a78c1c292",
   "metadata": {
    "execution": {
     "iopub.execute_input": "2022-10-24T17:26:12.164089Z",
     "iopub.status.busy": "2022-10-24T17:26:12.163855Z",
     "iopub.status.idle": "2022-10-24T17:26:12.891946Z",
     "shell.execute_reply": "2022-10-24T17:26:12.891606Z",
     "shell.execute_reply.started": "2022-10-24T17:26:12.164045Z"
    }
   },
   "outputs": [
    {
     "name": "stdout",
     "output_type": "stream",
     "text": [
      "<class 'list'> 9\n"
     ]
    }
   ],
   "source": [
    "import requests\n",
    "\n",
    "DATA_URL = (\n",
    "    \"https://github.com/astrojuanlu/ie-mbd-python-data-analysis-i/\"\n",
    "    \"raw/main/data/twitter_data.json\"\n",
    ")\n",
    "\n",
    "data = requests.get(DATA_URL).json()\n",
    "print(type(data), len(data))"
   ]
  },
  {
   "cell_type": "code",
   "execution_count": 2,
   "id": "85fc7aea-f451-4f3c-b1e6-851cf29a8e8e",
   "metadata": {
    "execution": {
     "iopub.execute_input": "2022-10-24T17:26:22.774672Z",
     "iopub.status.busy": "2022-10-24T17:26:22.774463Z",
     "iopub.status.idle": "2022-10-24T17:26:22.779918Z",
     "shell.execute_reply": "2022-10-24T17:26:22.779643Z",
     "shell.execute_reply.started": "2022-10-24T17:26:22.774658Z"
    }
   },
   "outputs": [
    {
     "data": {
      "text/plain": [
       "dict"
      ]
     },
     "execution_count": 2,
     "metadata": {},
     "output_type": "execute_result"
    }
   ],
   "source": [
    "first_tweet = data[0]\n",
    "type(first_tweet)"
   ]
  },
  {
   "cell_type": "code",
   "execution_count": 3,
   "id": "6c1fcf1e-1252-4943-8bd3-c52be39c8512",
   "metadata": {
    "execution": {
     "iopub.execute_input": "2022-10-24T17:26:58.496118Z",
     "iopub.status.busy": "2022-10-24T17:26:58.495945Z",
     "iopub.status.idle": "2022-10-24T17:26:58.498935Z",
     "shell.execute_reply": "2022-10-24T17:26:58.498642Z",
     "shell.execute_reply.started": "2022-10-24T17:26:58.496103Z"
    }
   },
   "outputs": [
    {
     "name": "stdout",
     "output_type": "stream",
     "text": [
      "1252840795737997317\n",
      "#balboaisland\n",
      "#newportbeach\n",
      "#tennis\n",
      "#covid_19\n",
      "#coronavirus\n",
      "#orangecounty\n",
      "#california\n"
     ]
    }
   ],
   "source": [
    "print(first_tweet[\"id\"])\n",
    "hashtags_info = first_tweet[\"entities\"][\"hashtags\"]\n",
    "for hashtag_dict in hashtags_info:\n",
    "    print(\"#\" + hashtag_dict[\"text\"])"
   ]
  },
  {
   "cell_type": "code",
   "execution_count": 4,
   "id": "0e863f4c-dcb9-4125-9ffa-30a4992fb1d4",
   "metadata": {
    "execution": {
     "iopub.execute_input": "2022-10-24T17:27:50.582425Z",
     "iopub.status.busy": "2022-10-24T17:27:50.582228Z",
     "iopub.status.idle": "2022-10-24T17:27:50.585653Z",
     "shell.execute_reply": "2022-10-24T17:27:50.585330Z",
     "shell.execute_reply.started": "2022-10-24T17:27:50.582412Z"
    }
   },
   "outputs": [
    {
     "name": "stdout",
     "output_type": "stream",
     "text": [
      "1252840795737997317\n",
      "#balboaisland\n",
      "#newportbeach\n",
      "#tennis\n",
      "#covid_19\n",
      "#coronavirus\n",
      "#orangecounty\n",
      "#california\n"
     ]
    }
   ],
   "source": [
    "def print_tweet(tweet):\n",
    "    print(tweet[\"id\"])\n",
    "    hashtags_info = tweet[\"entities\"][\"hashtags\"]\n",
    "    for hashtag_dict in hashtags_info:\n",
    "        print(\"#\" + hashtag_dict[\"text\"])\n",
    "\n",
    "print_tweet(first_tweet)"
   ]
  },
  {
   "cell_type": "code",
   "execution_count": 5,
   "id": "7c5ca7f4-17d7-455e-8c73-27300daaf5cf",
   "metadata": {
    "execution": {
     "iopub.execute_input": "2022-10-24T17:28:00.983518Z",
     "iopub.status.busy": "2022-10-24T17:28:00.983314Z",
     "iopub.status.idle": "2022-10-24T17:28:00.987070Z",
     "shell.execute_reply": "2022-10-24T17:28:00.986752Z",
     "shell.execute_reply.started": "2022-10-24T17:28:00.983505Z"
    }
   },
   "outputs": [
    {
     "name": "stdout",
     "output_type": "stream",
     "text": [
      "1252840795737997317\n",
      "#balboaisland\n",
      "#newportbeach\n",
      "#tennis\n",
      "#covid_19\n",
      "#coronavirus\n",
      "#orangecounty\n",
      "#california\n",
      "1256259052461592580\n",
      "#Repost\n",
      "1256459430129885184\n",
      "#ThisWeekend\n",
      "#la\n",
      "#LosAngeles\n",
      "#activities\n",
      "#lockdown\n",
      "1256459484521615362\n",
      "1258334628345044992\n",
      "#COVID19\n",
      "#Protesters\n",
      "1253472356476940290\n",
      "1253472297144299520\n",
      "1254774730529243136\n",
      "1258172892077912064\n"
     ]
    }
   ],
   "source": [
    "for tweet in data:\n",
    "    print_tweet(tweet)"
   ]
  }
 ],
 "metadata": {
  "kernelspec": {
   "display_name": "Python 3 (ipykernel)",
   "language": "python",
   "name": "python3"
  },
  "language_info": {
   "codemirror_mode": {
    "name": "ipython",
    "version": 3
   },
   "file_extension": ".py",
   "mimetype": "text/x-python",
   "name": "python",
   "nbconvert_exporter": "python",
   "pygments_lexer": "ipython3",
   "version": "3.9.12"
  }
 },
 "nbformat": 4,
 "nbformat_minor": 5
}
