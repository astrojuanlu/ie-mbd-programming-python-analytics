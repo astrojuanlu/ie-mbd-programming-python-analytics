{
 "cells": [
  {
   "cell_type": "code",
   "execution_count": 1,
   "id": "76f80ddd-a3ba-4003-85dd-ac8a78c1c292",
   "metadata": {
    "execution": {
     "iopub.execute_input": "2022-10-24T17:26:12.164089Z",
     "iopub.status.busy": "2022-10-24T17:26:12.163855Z",
     "iopub.status.idle": "2022-10-24T17:26:12.891946Z",
     "shell.execute_reply": "2022-10-24T17:26:12.891606Z",
     "shell.execute_reply.started": "2022-10-24T17:26:12.164045Z"
    }
   },
   "outputs": [
    {
     "name": "stdout",
     "output_type": "stream",
     "text": [
      "<class 'list'> 9\n"
     ]
    }
   ],
   "source": [
    "import requests\n",
    "\n",
    "DATA_URL = (\n",
    "    \"https://github.com/astrojuanlu/ie-mbd-python-data-analysis-i/\"\n",
    "    \"raw/main/data/twitter_data.json\"\n",
    ")\n",
    "\n",
    "data = requests.get(DATA_URL).json()\n",
    "print(type(data), len(data))"
   ]
  },
  {
   "cell_type": "code",
   "execution_count": 2,
   "id": "85fc7aea-f451-4f3c-b1e6-851cf29a8e8e",
   "metadata": {
    "execution": {
     "iopub.execute_input": "2022-10-24T17:26:22.774672Z",
     "iopub.status.busy": "2022-10-24T17:26:22.774463Z",
     "iopub.status.idle": "2022-10-24T17:26:22.779918Z",
     "shell.execute_reply": "2022-10-24T17:26:22.779643Z",
     "shell.execute_reply.started": "2022-10-24T17:26:22.774658Z"
    }
   },
   "outputs": [
    {
     "data": {
      "text/plain": [
       "dict"
      ]
     },
     "execution_count": 2,
     "metadata": {},
     "output_type": "execute_result"
    }
   ],
   "source": [
    "first_tweet = data[0]\n",
    "type(first_tweet)"
   ]
  },
  {
   "cell_type": "code",
   "execution_count": 3,
   "id": "6c1fcf1e-1252-4943-8bd3-c52be39c8512",
   "metadata": {
    "execution": {
     "iopub.execute_input": "2022-10-24T17:26:58.496118Z",
     "iopub.status.busy": "2022-10-24T17:26:58.495945Z",
     "iopub.status.idle": "2022-10-24T17:26:58.498935Z",
     "shell.execute_reply": "2022-10-24T17:26:58.498642Z",
     "shell.execute_reply.started": "2022-10-24T17:26:58.496103Z"
    }
   },
   "outputs": [
    {
     "name": "stdout",
     "output_type": "stream",
     "text": [
      "1252840795737997317\n",
      "#balboaisland\n",
      "#newportbeach\n",
      "#tennis\n",
      "#covid_19\n",
      "#coronavirus\n",
      "#orangecounty\n",
      "#california\n"
     ]
    }
   ],
   "source": [
    "print(first_tweet[\"id\"])\n",
    "hashtags_info = first_tweet[\"entities\"][\"hashtags\"]\n",
    "for hashtag_dict in hashtags_info:\n",
    "    print(\"#\" + hashtag_dict[\"text\"])"
   ]
  },
  {
   "cell_type": "code",
   "execution_count": 4,
   "id": "0e863f4c-dcb9-4125-9ffa-30a4992fb1d4",
   "metadata": {
    "execution": {
     "iopub.execute_input": "2022-10-24T17:27:50.582425Z",
     "iopub.status.busy": "2022-10-24T17:27:50.582228Z",
     "iopub.status.idle": "2022-10-24T17:27:50.585653Z",
     "shell.execute_reply": "2022-10-24T17:27:50.585330Z",
     "shell.execute_reply.started": "2022-10-24T17:27:50.582412Z"
    }
   },
   "outputs": [
    {
     "name": "stdout",
     "output_type": "stream",
     "text": [
      "1252840795737997317\n",
      "#balboaisland\n",
      "#newportbeach\n",
      "#tennis\n",
      "#covid_19\n",
      "#coronavirus\n",
      "#orangecounty\n",
      "#california\n"
     ]
    }
   ],
   "source": [
    "def print_tweet(tweet):\n",
    "    print(tweet[\"id\"])\n",
    "    hashtags_info = tweet[\"entities\"][\"hashtags\"]\n",
    "    for hashtag_dict in hashtags_info:\n",
    "        print(\"#\" + hashtag_dict[\"text\"])\n",
    "\n",
    "print_tweet(first_tweet)"
   ]
  },
  {
   "cell_type": "code",
   "execution_count": 5,
   "id": "7c5ca7f4-17d7-455e-8c73-27300daaf5cf",
   "metadata": {
    "execution": {
     "iopub.execute_input": "2022-10-24T17:28:00.983518Z",
     "iopub.status.busy": "2022-10-24T17:28:00.983314Z",
     "iopub.status.idle": "2022-10-24T17:28:00.987070Z",
     "shell.execute_reply": "2022-10-24T17:28:00.986752Z",
     "shell.execute_reply.started": "2022-10-24T17:28:00.983505Z"
    }
   },
   "outputs": [
    {
     "name": "stdout",
     "output_type": "stream",
     "text": [
      "1252840795737997317\n",
      "#balboaisland\n",
      "#newportbeach\n",
      "#tennis\n",
      "#covid_19\n",
      "#coronavirus\n",
      "#orangecounty\n",
      "#california\n",
      "1256259052461592580\n",
      "#Repost\n",
      "1256459430129885184\n",
      "#ThisWeekend\n",
      "#la\n",
      "#LosAngeles\n",
      "#activities\n",
      "#lockdown\n",
      "1256459484521615362\n",
      "1258334628345044992\n",
      "#COVID19\n",
      "#Protesters\n",
      "1253472356476940290\n",
      "1253472297144299520\n",
      "1254774730529243136\n",
      "1258172892077912064\n"
     ]
    }
   ],
   "source": [
    "for tweet in data:\n",
    "    print_tweet(tweet)"
   ]
  },
  {
   "cell_type": "markdown",
   "id": "a8097f7a-5af1-4f64-80d2-f6497b1f0dd4",
   "metadata": {},
   "source": [
    "Three options for `has_hashtags`:"
   ]
  },
  {
   "cell_type": "code",
   "execution_count": 6,
   "id": "049a8782-e3de-45e2-b39f-bd51d6fd5a02",
   "metadata": {},
   "outputs": [],
   "source": [
    "def has_hashtags(tweet):\n",
    "    if len(tweet[\"entities\"][\"hashtags\"]) > 0:\n",
    "        return True\n",
    "    else:\n",
    "        return False"
   ]
  },
  {
   "cell_type": "code",
   "execution_count": 7,
   "id": "012e3128-c6c5-490f-92d1-9fb71b30aa4b",
   "metadata": {},
   "outputs": [],
   "source": [
    "def has_hashtags(tweet):\n",
    "    return len(tweet[\"entities\"][\"hashtags\"]) > 0"
   ]
  },
  {
   "cell_type": "code",
   "execution_count": 8,
   "id": "578d4222-7202-4d16-80a8-0612ff89bba8",
   "metadata": {},
   "outputs": [],
   "source": [
    "def has_hashtags(tweet):\n",
    "    return bool(tweet[\"entities\"][\"hashtags\"])"
   ]
  },
  {
   "cell_type": "code",
   "execution_count": 9,
   "id": "ac8dee0a-86e5-48d7-977c-475b5e37f5a0",
   "metadata": {},
   "outputs": [
    {
     "name": "stdout",
     "output_type": "stream",
     "text": [
      "1252840795737997317 True\n",
      "1256259052461592580 True\n",
      "1256459430129885184 True\n",
      "1256459484521615362 False\n",
      "1258334628345044992 True\n",
      "1253472356476940290 False\n",
      "1253472297144299520 False\n",
      "1254774730529243136 False\n",
      "1258172892077912064 False\n"
     ]
    }
   ],
   "source": [
    "for tweet in data:\n",
    "    print(tweet[\"id\"], has_hashtags(tweet))"
   ]
  },
  {
   "cell_type": "code",
   "execution_count": 10,
   "id": "aa8084b6-2aa9-4ba8-8a64-3f664f6ea000",
   "metadata": {},
   "outputs": [],
   "source": [
    "def print_tweet(tweet):\n",
    "    print(tweet[\"id\"])\n",
    "    if has_hashtags(tweet):\n",
    "        for hashtag_data in tweet[\"entities\"][\"hashtags\"]:\n",
    "            print(f\"#{hashtag_data['text']}\")\n",
    "    else:\n",
    "        print(\"(no hashtags)\")"
   ]
  },
  {
   "cell_type": "code",
   "execution_count": 11,
   "id": "f801bdb2-1d8d-4d1e-bbbf-c455503ad517",
   "metadata": {},
   "outputs": [
    {
     "name": "stdout",
     "output_type": "stream",
     "text": [
      "1258334628345044992\n",
      "#COVID19\n",
      "#Protesters\n"
     ]
    }
   ],
   "source": [
    "print_tweet(data[4])"
   ]
  },
  {
   "cell_type": "code",
   "execution_count": 12,
   "id": "78c6c5bf-9076-4ec0-b963-d9bf2988343c",
   "metadata": {},
   "outputs": [
    {
     "name": "stdout",
     "output_type": "stream",
     "text": [
      "1253472356476940290\n",
      "(no hashtags)\n"
     ]
    }
   ],
   "source": [
    "print_tweet(data[5])"
   ]
  },
  {
   "cell_type": "code",
   "execution_count": 13,
   "id": "9d33c8b5-35a5-4926-8885-950a66462e08",
   "metadata": {},
   "outputs": [],
   "source": [
    "def trim_tweet(tweet):\n",
    "    return {\n",
    "        \"id\": tweet[\"id\"],\n",
    "        \"text\": tweet[\"text\"],\n",
    "        \"favorite_count\": tweet[\"favorite_count\"],\n",
    "        \"retweet_count\": tweet[\"favorite_count\"],\n",
    "        \"has_hashtags\": has_hashtags(tweet),\n",
    "        \"username\": tweet[\"user\"][\"screen_name\"],\n",
    "        \"user_followers\": tweet[\"user\"][\"followers_count\"]\n",
    "    }"
   ]
  },
  {
   "cell_type": "code",
   "execution_count": 14,
   "id": "b99aafda-ca2c-4141-b313-29ce958db758",
   "metadata": {},
   "outputs": [
    {
     "data": {
      "text/plain": [
       "{'id': 1252840795737997317,\n",
       " 'text': 'Tennis a la Balboa.\\n\\n#balboaisland #newportbeach #tennis #covid_19 #coronavirus #orangecounty #california… https://t.co/px1GCH1bgZ',\n",
       " 'favorite_count': 0,\n",
       " 'retweet_count': 0,\n",
       " 'has_hashtags': True,\n",
       " 'username': 'JoesNews_',\n",
       " 'user_followers': 46}"
      ]
     },
     "execution_count": 14,
     "metadata": {},
     "output_type": "execute_result"
    }
   ],
   "source": [
    "trim_tweet(data[0])"
   ]
  },
  {
   "cell_type": "code",
   "execution_count": 15,
   "id": "5508eb47-a403-473e-a2d3-2dfecf1426dd",
   "metadata": {},
   "outputs": [],
   "source": [
    "def trim_data(tweet_list):\n",
    "    return [trim_tweet(tweet) for tweet in tweet_list]"
   ]
  },
  {
   "cell_type": "code",
   "execution_count": 16,
   "id": "5e108c1f-fcfa-4584-98da-95dc3ce32ee8",
   "metadata": {},
   "outputs": [
    {
     "data": {
      "text/plain": [
       "[{'id': 1252840795737997317,\n",
       "  'text': 'Tennis a la Balboa.\\n\\n#balboaisland #newportbeach #tennis #covid_19 #coronavirus #orangecounty #california… https://t.co/px1GCH1bgZ',\n",
       "  'favorite_count': 0,\n",
       "  'retweet_count': 0,\n",
       "  'has_hashtags': True,\n",
       "  'username': 'JoesNews_',\n",
       "  'user_followers': 46},\n",
       " {'id': 1256259052461592580,\n",
       "  'text': '#Repost bandcamp\\n• • • • • •\\nTo keep supporting musicians during the Covid-19 pandemic, we are waiving our revenue… https://t.co/W7mJY3QPH0',\n",
       "  'favorite_count': 0,\n",
       "  'retweet_count': 0,\n",
       "  'has_hashtags': True,\n",
       "  'username': 'MagdaVegaSLC',\n",
       "  'user_followers': 84},\n",
       " {'id': 1256459430129885184,\n",
       "  'text': 'Things to Do (Inside) in L.A. #ThisWeekend https://t.co/DnsuwtVXbb via @LAMag\\n#la #LosAngeles #activities #lockdown… https://t.co/QvFjrEAfFj',\n",
       "  'favorite_count': 0,\n",
       "  'retweet_count': 0,\n",
       "  'has_hashtags': True,\n",
       "  'username': 'alistsocialent',\n",
       "  'user_followers': 68}]"
      ]
     },
     "execution_count": 16,
     "metadata": {},
     "output_type": "execute_result"
    }
   ],
   "source": [
    "trim_data(data[:3])"
   ]
  },
  {
   "cell_type": "code",
   "execution_count": 17,
   "id": "16c858a5-1bcf-479c-90f6-9b4f7a27f5eb",
   "metadata": {},
   "outputs": [],
   "source": [
    "from statistics import mean"
   ]
  },
  {
   "cell_type": "code",
   "execution_count": 18,
   "id": "755944ac-67a0-496f-a32a-d35a9c9cef43",
   "metadata": {},
   "outputs": [
    {
     "data": {
      "text/plain": [
       "16.333333333333332"
      ]
     },
     "execution_count": 18,
     "metadata": {},
     "output_type": "execute_result"
    }
   ],
   "source": [
    "filtered_tweets = []\n",
    "for tweet in trim_data(data):\n",
    "    if (tweet[\"user_followers\"] > 500) and not tweet[\"has_hashtags\"]:\n",
    "        filtered_tweets.append(tweet)\n",
    "\n",
    "mean([t[\"favorite_count\"] for t in filtered_tweets])"
   ]
  }
 ],
 "metadata": {
  "kernelspec": {
   "display_name": "Python 3 (ipykernel)",
   "language": "python",
   "name": "python3"
  },
  "language_info": {
   "codemirror_mode": {
    "name": "ipython",
    "version": 3
   },
   "file_extension": ".py",
   "mimetype": "text/x-python",
   "name": "python",
   "nbconvert_exporter": "python",
   "pygments_lexer": "ipython3",
   "version": "3.9.12"
  }
 },
 "nbformat": 4,
 "nbformat_minor": 5
}
