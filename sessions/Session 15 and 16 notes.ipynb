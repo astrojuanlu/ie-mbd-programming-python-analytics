{
 "cells": [
  {
   "cell_type": "code",
   "execution_count": 1,
   "id": "54ce001b-4721-4fed-99d7-3de40e99d3e1",
   "metadata": {},
   "outputs": [],
   "source": [
    "import pandas as pd"
   ]
  },
  {
   "cell_type": "code",
   "execution_count": 2,
   "id": "d55173f9-305b-47f0-a88a-3b00282cf9f0",
   "metadata": {},
   "outputs": [
    {
     "data": {
      "text/plain": [
       "['a', 'b', 'c', 'd']"
      ]
     },
     "execution_count": 2,
     "metadata": {},
     "output_type": "execute_result"
    }
   ],
   "source": [
    "my_list = [\"a\", \"b\", \"c\", \"d\"]\n",
    "my_list"
   ]
  },
  {
   "cell_type": "code",
   "execution_count": 4,
   "id": "66e4b432-241c-4022-b9d2-d2f3f262340a",
   "metadata": {},
   "outputs": [
    {
     "data": {
      "text/plain": [
       "0    a\n",
       "1    b\n",
       "2    c\n",
       "3    d\n",
       "dtype: object"
      ]
     },
     "execution_count": 4,
     "metadata": {},
     "output_type": "execute_result"
    }
   ],
   "source": [
    "ser = pd.Series(my_list)\n",
    "ser"
   ]
  },
  {
   "cell_type": "code",
   "execution_count": 8,
   "id": "b1ad90b3-d8df-4011-9169-a9d388856d77",
   "metadata": {},
   "outputs": [
    {
     "data": {
      "text/plain": [
       "0    1.0\n",
       "1    2.0\n",
       "2    3.0\n",
       "dtype: float64"
      ]
     },
     "execution_count": 8,
     "metadata": {},
     "output_type": "execute_result"
    }
   ],
   "source": [
    "pd.Series([1, 2.0, 3])"
   ]
  },
  {
   "cell_type": "code",
   "execution_count": 15,
   "id": "ae0fefe6-65ff-468d-ac3d-5bcd3a2739aa",
   "metadata": {},
   "outputs": [
    {
     "data": {
      "text/plain": [
       "float"
      ]
     },
     "execution_count": 15,
     "metadata": {},
     "output_type": "execute_result"
    }
   ],
   "source": [
    "type(1.0)"
   ]
  },
  {
   "cell_type": "code",
   "execution_count": 9,
   "id": "df01d647-4cad-4020-92f0-d5eb0f7f7a0f",
   "metadata": {},
   "outputs": [
    {
     "data": {
      "text/plain": [
       "pandas.core.series.Series"
      ]
     },
     "execution_count": 9,
     "metadata": {},
     "output_type": "execute_result"
    }
   ],
   "source": [
    "type(ser)"
   ]
  },
  {
   "cell_type": "code",
   "execution_count": 10,
   "id": "da47fb83-ed81-4e57-ac6b-3e2a2be433bf",
   "metadata": {},
   "outputs": [
    {
     "data": {
      "text/plain": [
       "dtype('O')"
      ]
     },
     "execution_count": 10,
     "metadata": {},
     "output_type": "execute_result"
    }
   ],
   "source": [
    "ser.dtype"
   ]
  },
  {
   "cell_type": "code",
   "execution_count": 14,
   "id": "1b84bd7c-7db7-482d-9638-eec2102baac3",
   "metadata": {},
   "outputs": [],
   "source": [
    "# Cannot compute the mean of a list of strings\n",
    "# ser.mean()"
   ]
  },
  {
   "cell_type": "code",
   "execution_count": 11,
   "id": "defa1cc8-7bff-45df-b001-bb63c1a61402",
   "metadata": {},
   "outputs": [
    {
     "data": {
      "text/plain": [
       "2.0"
      ]
     },
     "execution_count": 11,
     "metadata": {},
     "output_type": "execute_result"
    }
   ],
   "source": [
    "_8.mean()"
   ]
  },
  {
   "cell_type": "code",
   "execution_count": 16,
   "id": "2aaac931-fd58-4cf9-af0e-52849f756f45",
   "metadata": {},
   "outputs": [],
   "source": [
    "# pd.DataFrame()"
   ]
  },
  {
   "cell_type": "code",
   "execution_count": 19,
   "id": "20faad27-1746-4fbc-a1f0-029d48d493d7",
   "metadata": {},
   "outputs": [
    {
     "data": {
      "text/html": [
       "<div>\n",
       "<style scoped>\n",
       "    .dataframe tbody tr th:only-of-type {\n",
       "        vertical-align: middle;\n",
       "    }\n",
       "\n",
       "    .dataframe tbody tr th {\n",
       "        vertical-align: top;\n",
       "    }\n",
       "\n",
       "    .dataframe thead th {\n",
       "        text-align: right;\n",
       "    }\n",
       "</style>\n",
       "<table border=\"1\" class=\"dataframe\">\n",
       "  <thead>\n",
       "    <tr style=\"text-align: right;\">\n",
       "      <th></th>\n",
       "      <th>date</th>\n",
       "      <th>cases_total</th>\n",
       "      <th>cases_pcr</th>\n",
       "      <th>cases_test_ab</th>\n",
       "      <th>discharges</th>\n",
       "      <th>deceases</th>\n",
       "      <th>icu</th>\n",
       "      <th>hospitalized</th>\n",
       "    </tr>\n",
       "  </thead>\n",
       "  <tbody>\n",
       "    <tr>\n",
       "      <th>0</th>\n",
       "      <td>2020-02-21</td>\n",
       "      <td>3.0</td>\n",
       "      <td>3</td>\n",
       "      <td>NaN</td>\n",
       "      <td>NaN</td>\n",
       "      <td>NaN</td>\n",
       "      <td>NaN</td>\n",
       "      <td>NaN</td>\n",
       "    </tr>\n",
       "    <tr>\n",
       "      <th>1</th>\n",
       "      <td>2020-02-22</td>\n",
       "      <td>3.0</td>\n",
       "      <td>3</td>\n",
       "      <td>NaN</td>\n",
       "      <td>NaN</td>\n",
       "      <td>NaN</td>\n",
       "      <td>NaN</td>\n",
       "      <td>NaN</td>\n",
       "    </tr>\n",
       "    <tr>\n",
       "      <th>2</th>\n",
       "      <td>2020-02-23</td>\n",
       "      <td>3.0</td>\n",
       "      <td>3</td>\n",
       "      <td>NaN</td>\n",
       "      <td>NaN</td>\n",
       "      <td>NaN</td>\n",
       "      <td>NaN</td>\n",
       "      <td>NaN</td>\n",
       "    </tr>\n",
       "    <tr>\n",
       "      <th>3</th>\n",
       "      <td>2020-02-24</td>\n",
       "      <td>3.0</td>\n",
       "      <td>3</td>\n",
       "      <td>NaN</td>\n",
       "      <td>NaN</td>\n",
       "      <td>NaN</td>\n",
       "      <td>NaN</td>\n",
       "      <td>NaN</td>\n",
       "    </tr>\n",
       "    <tr>\n",
       "      <th>4</th>\n",
       "      <td>2020-02-25</td>\n",
       "      <td>4.0</td>\n",
       "      <td>4</td>\n",
       "      <td>NaN</td>\n",
       "      <td>NaN</td>\n",
       "      <td>NaN</td>\n",
       "      <td>NaN</td>\n",
       "      <td>NaN</td>\n",
       "    </tr>\n",
       "  </tbody>\n",
       "</table>\n",
       "</div>"
      ],
      "text/plain": [
       "         date  cases_total  cases_pcr  cases_test_ab  discharges  deceases  \\\n",
       "0  2020-02-21          3.0          3            NaN         NaN       NaN   \n",
       "1  2020-02-22          3.0          3            NaN         NaN       NaN   \n",
       "2  2020-02-23          3.0          3            NaN         NaN       NaN   \n",
       "3  2020-02-24          3.0          3            NaN         NaN       NaN   \n",
       "4  2020-02-25          4.0          4            NaN         NaN       NaN   \n",
       "\n",
       "   icu  hospitalized  \n",
       "0  NaN           NaN  \n",
       "1  NaN           NaN  \n",
       "2  NaN           NaN  \n",
       "3  NaN           NaN  \n",
       "4  NaN           NaN  "
      ]
     },
     "execution_count": 19,
     "metadata": {},
     "output_type": "execute_result"
    }
   ],
   "source": [
    "df = pd.read_csv(\"../data/national_covid19.csv\")\n",
    "df.head()"
   ]
  },
  {
   "cell_type": "code",
   "execution_count": 21,
   "id": "9ac36cdf-0cba-4a36-b73f-2ffc09fd1ac2",
   "metadata": {},
   "outputs": [],
   "source": [
    "# NaN = Not A Number"
   ]
  },
  {
   "cell_type": "code",
   "execution_count": 26,
   "id": "017d5871-a500-4a90-8486-558bc4759fd2",
   "metadata": {},
   "outputs": [
    {
     "data": {
      "text/plain": [
       "date              object\n",
       "cases_total      float64\n",
       "cases_pcr          int64\n",
       "cases_test_ab    float64\n",
       "discharges       float64\n",
       "deceases         float64\n",
       "icu              float64\n",
       "hospitalized     float64\n",
       "dtype: object"
      ]
     },
     "execution_count": 26,
     "metadata": {},
     "output_type": "execute_result"
    }
   ],
   "source": [
    "df.dtypes"
   ]
  },
  {
   "cell_type": "code",
   "execution_count": 24,
   "id": "2aeb8277-3712-4f8f-8be4-06b3ca961648",
   "metadata": {},
   "outputs": [
    {
     "data": {
      "text/html": [
       "<div>\n",
       "<style scoped>\n",
       "    .dataframe tbody tr th:only-of-type {\n",
       "        vertical-align: middle;\n",
       "    }\n",
       "\n",
       "    .dataframe tbody tr th {\n",
       "        vertical-align: top;\n",
       "    }\n",
       "\n",
       "    .dataframe thead th {\n",
       "        text-align: right;\n",
       "    }\n",
       "</style>\n",
       "<table border=\"1\" class=\"dataframe\">\n",
       "  <thead>\n",
       "    <tr style=\"text-align: right;\">\n",
       "      <th></th>\n",
       "      <th>cases_total</th>\n",
       "      <th>cases_pcr</th>\n",
       "      <th>cases_test_ab</th>\n",
       "      <th>discharges</th>\n",
       "      <th>deceases</th>\n",
       "      <th>icu</th>\n",
       "      <th>hospitalized</th>\n",
       "    </tr>\n",
       "  </thead>\n",
       "  <tbody>\n",
       "    <tr>\n",
       "      <th>count</th>\n",
       "      <td>91.000000</td>\n",
       "      <td>183.000000</td>\n",
       "      <td>48.000000</td>\n",
       "      <td>71.000000</td>\n",
       "      <td>171.000000</td>\n",
       "      <td>115.000000</td>\n",
       "      <td>117.000000</td>\n",
       "    </tr>\n",
       "    <tr>\n",
       "      <th>mean</th>\n",
       "      <td>131623.747253</td>\n",
       "      <td>209864.874317</td>\n",
       "      <td>21786.166667</td>\n",
       "      <td>63269.084507</td>\n",
       "      <td>21883.994152</td>\n",
       "      <td>11656.826087</td>\n",
       "      <td>125698.555556</td>\n",
       "    </tr>\n",
       "    <tr>\n",
       "      <th>std</th>\n",
       "      <td>107000.307291</td>\n",
       "      <td>126527.584749</td>\n",
       "      <td>17522.577549</td>\n",
       "      <td>52674.500062</td>\n",
       "      <td>9955.662054</td>\n",
       "      <td>384.250564</td>\n",
       "      <td>4743.664351</td>\n",
       "    </tr>\n",
       "    <tr>\n",
       "      <th>min</th>\n",
       "      <td>3.000000</td>\n",
       "      <td>3.000000</td>\n",
       "      <td>12.000000</td>\n",
       "      <td>24.000000</td>\n",
       "      <td>1.000000</td>\n",
       "      <td>10688.000000</td>\n",
       "      <td>113149.000000</td>\n",
       "    </tr>\n",
       "    <tr>\n",
       "      <th>25%</th>\n",
       "      <td>8716.000000</td>\n",
       "      <td>145125.500000</td>\n",
       "      <td>1798.250000</td>\n",
       "      <td>7408.500000</td>\n",
       "      <td>18591.500000</td>\n",
       "      <td>11408.500000</td>\n",
       "      <td>123987.000000</td>\n",
       "    </tr>\n",
       "    <tr>\n",
       "      <th>50%</th>\n",
       "      <td>142533.000000</td>\n",
       "      <td>234824.000000</td>\n",
       "      <td>20750.000000</td>\n",
       "      <td>59165.000000</td>\n",
       "      <td>27136.000000</td>\n",
       "      <td>11650.000000</td>\n",
       "      <td>124964.000000</td>\n",
       "    </tr>\n",
       "    <tr>\n",
       "      <th>75%</th>\n",
       "      <td>236720.000000</td>\n",
       "      <td>252784.500000</td>\n",
       "      <td>39472.000000</td>\n",
       "      <td>113363.000000</td>\n",
       "      <td>28418.000000</td>\n",
       "      <td>11793.000000</td>\n",
       "      <td>126880.000000</td>\n",
       "    </tr>\n",
       "    <tr>\n",
       "      <th>max</th>\n",
       "      <td>280117.000000</td>\n",
       "      <td>554143.000000</td>\n",
       "      <td>47080.000000</td>\n",
       "      <td>150376.000000</td>\n",
       "      <td>29699.000000</td>\n",
       "      <td>12700.000000</td>\n",
       "      <td>138917.000000</td>\n",
       "    </tr>\n",
       "  </tbody>\n",
       "</table>\n",
       "</div>"
      ],
      "text/plain": [
       "         cases_total      cases_pcr  cases_test_ab     discharges  \\\n",
       "count      91.000000     183.000000      48.000000      71.000000   \n",
       "mean   131623.747253  209864.874317   21786.166667   63269.084507   \n",
       "std    107000.307291  126527.584749   17522.577549   52674.500062   \n",
       "min         3.000000       3.000000      12.000000      24.000000   \n",
       "25%      8716.000000  145125.500000    1798.250000    7408.500000   \n",
       "50%    142533.000000  234824.000000   20750.000000   59165.000000   \n",
       "75%    236720.000000  252784.500000   39472.000000  113363.000000   \n",
       "max    280117.000000  554143.000000   47080.000000  150376.000000   \n",
       "\n",
       "           deceases           icu   hospitalized  \n",
       "count    171.000000    115.000000     117.000000  \n",
       "mean   21883.994152  11656.826087  125698.555556  \n",
       "std     9955.662054    384.250564    4743.664351  \n",
       "min        1.000000  10688.000000  113149.000000  \n",
       "25%    18591.500000  11408.500000  123987.000000  \n",
       "50%    27136.000000  11650.000000  124964.000000  \n",
       "75%    28418.000000  11793.000000  126880.000000  \n",
       "max    29699.000000  12700.000000  138917.000000  "
      ]
     },
     "execution_count": 24,
     "metadata": {},
     "output_type": "execute_result"
    }
   ],
   "source": [
    "df.describe()"
   ]
  },
  {
   "cell_type": "code",
   "execution_count": 46,
   "id": "f4ce7e52-c798-4c03-ab45-d112320c063d",
   "metadata": {},
   "outputs": [],
   "source": [
    "# Try to avoid it\n",
    "# df.cases_total"
   ]
  },
  {
   "cell_type": "code",
   "execution_count": 48,
   "id": "1b294f98-d83c-4cc9-928c-0db4f90cc237",
   "metadata": {},
   "outputs": [],
   "source": [
    "# Series also have the .describe() method\n",
    "# df[\"cases_total\"].describe()"
   ]
  },
  {
   "cell_type": "code",
   "execution_count": 42,
   "id": "e1f54e7e-b271-4dee-a2a3-fe6dd05981ce",
   "metadata": {},
   "outputs": [
    {
     "data": {
      "text/plain": [
       "count        91.000000\n",
       "mean     131623.747253\n",
       "std      107000.307291\n",
       "min           3.000000\n",
       "25%        8716.000000\n",
       "50%      142533.000000\n",
       "75%      236720.000000\n",
       "max      280117.000000\n",
       "Name: cases_total, dtype: float64"
      ]
     },
     "execution_count": 42,
     "metadata": {},
     "output_type": "execute_result"
    }
   ],
   "source": [
    "df.describe()[\"cases_total\"]"
   ]
  },
  {
   "cell_type": "code",
   "execution_count": 29,
   "id": "df90eef2-4663-4cd0-ae83-bd0b09f9c432",
   "metadata": {},
   "outputs": [
    {
     "data": {
      "text/plain": [
       "183"
      ]
     },
     "execution_count": 29,
     "metadata": {},
     "output_type": "execute_result"
    }
   ],
   "source": [
    "len(df)  # Number of *rows*"
   ]
  },
  {
   "cell_type": "code",
   "execution_count": 31,
   "id": "ab86fa77-1b58-40a0-a83a-28a538aa267e",
   "metadata": {},
   "outputs": [
    {
     "data": {
      "text/plain": [
       "8"
      ]
     },
     "execution_count": 31,
     "metadata": {},
     "output_type": "execute_result"
    }
   ],
   "source": [
    "len(df.columns)"
   ]
  },
  {
   "cell_type": "code",
   "execution_count": 32,
   "id": "15b945e0-14c3-4480-9cd0-ae9ce95d2f5c",
   "metadata": {},
   "outputs": [
    {
     "data": {
      "text/plain": [
       "(183, 8)"
      ]
     },
     "execution_count": 32,
     "metadata": {},
     "output_type": "execute_result"
    }
   ],
   "source": [
    "df.shape"
   ]
  },
  {
   "cell_type": "code",
   "execution_count": 34,
   "id": "6182fa0e-1e06-4cdb-80cb-4f1e422bc3c9",
   "metadata": {},
   "outputs": [
    {
     "data": {
      "text/plain": [
       "0      3.0\n",
       "1      3.0\n",
       "2      3.0\n",
       "3      3.0\n",
       "4      4.0\n",
       "      ... \n",
       "178    NaN\n",
       "179    NaN\n",
       "180    NaN\n",
       "181    NaN\n",
       "182    NaN\n",
       "Name: cases_total, Length: 183, dtype: float64"
      ]
     },
     "execution_count": 34,
     "metadata": {},
     "output_type": "execute_result"
    }
   ],
   "source": [
    "df[\"cases_total\"]  # Extract a column"
   ]
  },
  {
   "cell_type": "code",
   "execution_count": 36,
   "id": "84d48e81-77a4-4cf6-894a-b4b402cf879b",
   "metadata": {},
   "outputs": [],
   "source": [
    "# Series also have the .head() method\n",
    "# df[\"cases_total\"].head()"
   ]
  },
  {
   "cell_type": "code",
   "execution_count": null,
   "id": "a5fff783-a133-4b65-8f3b-c5373e4097fe",
   "metadata": {},
   "outputs": [],
   "source": [
    "# df.iloc\n",
    "# df.loc"
   ]
  },
  {
   "cell_type": "code",
   "execution_count": 50,
   "id": "4902ea41-e323-4699-984c-847e3f5b74a8",
   "metadata": {},
   "outputs": [
    {
     "data": {
      "text/plain": [
       "date             2020-02-21\n",
       "cases_total             3.0\n",
       "cases_pcr                 3\n",
       "cases_test_ab           NaN\n",
       "discharges              NaN\n",
       "deceases                NaN\n",
       "icu                     NaN\n",
       "hospitalized            NaN\n",
       "Name: 0, dtype: object"
      ]
     },
     "execution_count": 50,
     "metadata": {},
     "output_type": "execute_result"
    }
   ],
   "source": [
    "# .loc is *indexed*, not *called*\n",
    "# (i.e. square brackets, not parenthesis)\n",
    "df.loc[0]"
   ]
  },
  {
   "cell_type": "code",
   "execution_count": 52,
   "id": "ce8af332-f592-413b-a2a3-4bafec730760",
   "metadata": {},
   "outputs": [
    {
     "data": {
      "text/html": [
       "<div>\n",
       "<style scoped>\n",
       "    .dataframe tbody tr th:only-of-type {\n",
       "        vertical-align: middle;\n",
       "    }\n",
       "\n",
       "    .dataframe tbody tr th {\n",
       "        vertical-align: top;\n",
       "    }\n",
       "\n",
       "    .dataframe thead th {\n",
       "        text-align: right;\n",
       "    }\n",
       "</style>\n",
       "<table border=\"1\" class=\"dataframe\">\n",
       "  <thead>\n",
       "    <tr style=\"text-align: right;\">\n",
       "      <th></th>\n",
       "      <th>date</th>\n",
       "      <th>cases_total</th>\n",
       "      <th>cases_pcr</th>\n",
       "      <th>cases_test_ab</th>\n",
       "      <th>discharges</th>\n",
       "      <th>deceases</th>\n",
       "      <th>icu</th>\n",
       "      <th>hospitalized</th>\n",
       "    </tr>\n",
       "  </thead>\n",
       "  <tbody>\n",
       "    <tr>\n",
       "      <th>5</th>\n",
       "      <td>2020-02-26</td>\n",
       "      <td>10.0</td>\n",
       "      <td>10</td>\n",
       "      <td>NaN</td>\n",
       "      <td>NaN</td>\n",
       "      <td>NaN</td>\n",
       "      <td>NaN</td>\n",
       "      <td>NaN</td>\n",
       "    </tr>\n",
       "    <tr>\n",
       "      <th>6</th>\n",
       "      <td>2020-02-27</td>\n",
       "      <td>18.0</td>\n",
       "      <td>18</td>\n",
       "      <td>NaN</td>\n",
       "      <td>NaN</td>\n",
       "      <td>NaN</td>\n",
       "      <td>NaN</td>\n",
       "      <td>NaN</td>\n",
       "    </tr>\n",
       "    <tr>\n",
       "      <th>7</th>\n",
       "      <td>2020-02-28</td>\n",
       "      <td>36.0</td>\n",
       "      <td>36</td>\n",
       "      <td>NaN</td>\n",
       "      <td>NaN</td>\n",
       "      <td>NaN</td>\n",
       "      <td>NaN</td>\n",
       "      <td>NaN</td>\n",
       "    </tr>\n",
       "    <tr>\n",
       "      <th>8</th>\n",
       "      <td>2020-02-29</td>\n",
       "      <td>55.0</td>\n",
       "      <td>55</td>\n",
       "      <td>NaN</td>\n",
       "      <td>NaN</td>\n",
       "      <td>NaN</td>\n",
       "      <td>NaN</td>\n",
       "      <td>NaN</td>\n",
       "    </tr>\n",
       "    <tr>\n",
       "      <th>9</th>\n",
       "      <td>2020-03-01</td>\n",
       "      <td>83.0</td>\n",
       "      <td>83</td>\n",
       "      <td>NaN</td>\n",
       "      <td>NaN</td>\n",
       "      <td>NaN</td>\n",
       "      <td>NaN</td>\n",
       "      <td>NaN</td>\n",
       "    </tr>\n",
       "    <tr>\n",
       "      <th>10</th>\n",
       "      <td>2020-03-02</td>\n",
       "      <td>138.0</td>\n",
       "      <td>138</td>\n",
       "      <td>NaN</td>\n",
       "      <td>NaN</td>\n",
       "      <td>NaN</td>\n",
       "      <td>NaN</td>\n",
       "      <td>NaN</td>\n",
       "    </tr>\n",
       "  </tbody>\n",
       "</table>\n",
       "</div>"
      ],
      "text/plain": [
       "          date  cases_total  cases_pcr  cases_test_ab  discharges  deceases  \\\n",
       "5   2020-02-26         10.0         10            NaN         NaN       NaN   \n",
       "6   2020-02-27         18.0         18            NaN         NaN       NaN   \n",
       "7   2020-02-28         36.0         36            NaN         NaN       NaN   \n",
       "8   2020-02-29         55.0         55            NaN         NaN       NaN   \n",
       "9   2020-03-01         83.0         83            NaN         NaN       NaN   \n",
       "10  2020-03-02        138.0        138            NaN         NaN       NaN   \n",
       "\n",
       "    icu  hospitalized  \n",
       "5   NaN           NaN  \n",
       "6   NaN           NaN  \n",
       "7   NaN           NaN  \n",
       "8   NaN           NaN  \n",
       "9   NaN           NaN  \n",
       "10  NaN           NaN  "
      ]
     },
     "execution_count": 52,
     "metadata": {},
     "output_type": "execute_result"
    }
   ],
   "source": [
    "df.loc[5:10]  # .loc slicing breaks Python semantics and also gives the final row"
   ]
  },
  {
   "cell_type": "code",
   "execution_count": 54,
   "id": "096bf19f-be41-45bb-8e1d-4455394daa75",
   "metadata": {},
   "outputs": [
    {
     "data": {
      "text/html": [
       "<div>\n",
       "<style scoped>\n",
       "    .dataframe tbody tr th:only-of-type {\n",
       "        vertical-align: middle;\n",
       "    }\n",
       "\n",
       "    .dataframe tbody tr th {\n",
       "        vertical-align: top;\n",
       "    }\n",
       "\n",
       "    .dataframe thead th {\n",
       "        text-align: right;\n",
       "    }\n",
       "</style>\n",
       "<table border=\"1\" class=\"dataframe\">\n",
       "  <thead>\n",
       "    <tr style=\"text-align: right;\">\n",
       "      <th></th>\n",
       "      <th>cases_total</th>\n",
       "      <th>cases_pcr</th>\n",
       "      <th>cases_test_ab</th>\n",
       "    </tr>\n",
       "  </thead>\n",
       "  <tbody>\n",
       "    <tr>\n",
       "      <th>5</th>\n",
       "      <td>10.0</td>\n",
       "      <td>10</td>\n",
       "      <td>NaN</td>\n",
       "    </tr>\n",
       "    <tr>\n",
       "      <th>6</th>\n",
       "      <td>18.0</td>\n",
       "      <td>18</td>\n",
       "      <td>NaN</td>\n",
       "    </tr>\n",
       "    <tr>\n",
       "      <th>7</th>\n",
       "      <td>36.0</td>\n",
       "      <td>36</td>\n",
       "      <td>NaN</td>\n",
       "    </tr>\n",
       "    <tr>\n",
       "      <th>8</th>\n",
       "      <td>55.0</td>\n",
       "      <td>55</td>\n",
       "      <td>NaN</td>\n",
       "    </tr>\n",
       "    <tr>\n",
       "      <th>9</th>\n",
       "      <td>83.0</td>\n",
       "      <td>83</td>\n",
       "      <td>NaN</td>\n",
       "    </tr>\n",
       "    <tr>\n",
       "      <th>10</th>\n",
       "      <td>138.0</td>\n",
       "      <td>138</td>\n",
       "      <td>NaN</td>\n",
       "    </tr>\n",
       "  </tbody>\n",
       "</table>\n",
       "</div>"
      ],
      "text/plain": [
       "    cases_total  cases_pcr  cases_test_ab\n",
       "5          10.0         10            NaN\n",
       "6          18.0         18            NaN\n",
       "7          36.0         36            NaN\n",
       "8          55.0         55            NaN\n",
       "9          83.0         83            NaN\n",
       "10        138.0        138            NaN"
      ]
     },
     "execution_count": 54,
     "metadata": {},
     "output_type": "execute_result"
    }
   ],
   "source": [
    "df.loc[5:10, \"cases_total\":\"cases_test_ab\"]"
   ]
  },
  {
   "cell_type": "code",
   "execution_count": 62,
   "id": "07d97a1a-dccc-4dda-a794-0a51397f0997",
   "metadata": {},
   "outputs": [
    {
     "data": {
      "text/html": [
       "<div>\n",
       "<style scoped>\n",
       "    .dataframe tbody tr th:only-of-type {\n",
       "        vertical-align: middle;\n",
       "    }\n",
       "\n",
       "    .dataframe tbody tr th {\n",
       "        vertical-align: top;\n",
       "    }\n",
       "\n",
       "    .dataframe thead th {\n",
       "        text-align: right;\n",
       "    }\n",
       "</style>\n",
       "<table border=\"1\" class=\"dataframe\">\n",
       "  <thead>\n",
       "    <tr style=\"text-align: right;\">\n",
       "      <th></th>\n",
       "      <th>cases_total</th>\n",
       "      <th>icu</th>\n",
       "    </tr>\n",
       "  </thead>\n",
       "  <tbody>\n",
       "    <tr>\n",
       "      <th>5</th>\n",
       "      <td>10.0</td>\n",
       "      <td>NaN</td>\n",
       "    </tr>\n",
       "    <tr>\n",
       "      <th>10</th>\n",
       "      <td>138.0</td>\n",
       "      <td>NaN</td>\n",
       "    </tr>\n",
       "  </tbody>\n",
       "</table>\n",
       "</div>"
      ],
      "text/plain": [
       "    cases_total  icu\n",
       "5          10.0  NaN\n",
       "10        138.0  NaN"
      ]
     },
     "execution_count": 62,
     "metadata": {},
     "output_type": "execute_result"
    }
   ],
   "source": [
    "df.loc[\n",
    "    [5, 10],\n",
    "    [\"cases_total\", \"icu\"]\n",
    "]"
   ]
  },
  {
   "cell_type": "code",
   "execution_count": 59,
   "id": "8a171cac-a1b4-44aa-baf2-29520fcf5aee",
   "metadata": {},
   "outputs": [
    {
     "data": {
      "text/html": [
       "<div>\n",
       "<style scoped>\n",
       "    .dataframe tbody tr th:only-of-type {\n",
       "        vertical-align: middle;\n",
       "    }\n",
       "\n",
       "    .dataframe tbody tr th {\n",
       "        vertical-align: top;\n",
       "    }\n",
       "\n",
       "    .dataframe thead th {\n",
       "        text-align: right;\n",
       "    }\n",
       "</style>\n",
       "<table border=\"1\" class=\"dataframe\">\n",
       "  <thead>\n",
       "    <tr style=\"text-align: right;\">\n",
       "      <th></th>\n",
       "      <th>cases_total</th>\n",
       "      <th>cases_pcr</th>\n",
       "      <th>cases_test_ab</th>\n",
       "      <th>discharges</th>\n",
       "      <th>deceases</th>\n",
       "      <th>icu</th>\n",
       "      <th>hospitalized</th>\n",
       "    </tr>\n",
       "  </thead>\n",
       "  <tbody>\n",
       "    <tr>\n",
       "      <th>count</th>\n",
       "      <td>91.000000</td>\n",
       "      <td>183.000000</td>\n",
       "      <td>48.000000</td>\n",
       "      <td>71.000000</td>\n",
       "      <td>171.000000</td>\n",
       "      <td>115.000000</td>\n",
       "      <td>117.000000</td>\n",
       "    </tr>\n",
       "    <tr>\n",
       "      <th>mean</th>\n",
       "      <td>131623.747253</td>\n",
       "      <td>209864.874317</td>\n",
       "      <td>21786.166667</td>\n",
       "      <td>63269.084507</td>\n",
       "      <td>21883.994152</td>\n",
       "      <td>11656.826087</td>\n",
       "      <td>125698.555556</td>\n",
       "    </tr>\n",
       "    <tr>\n",
       "      <th>std</th>\n",
       "      <td>107000.307291</td>\n",
       "      <td>126527.584749</td>\n",
       "      <td>17522.577549</td>\n",
       "      <td>52674.500062</td>\n",
       "      <td>9955.662054</td>\n",
       "      <td>384.250564</td>\n",
       "      <td>4743.664351</td>\n",
       "    </tr>\n",
       "    <tr>\n",
       "      <th>min</th>\n",
       "      <td>3.000000</td>\n",
       "      <td>3.000000</td>\n",
       "      <td>12.000000</td>\n",
       "      <td>24.000000</td>\n",
       "      <td>1.000000</td>\n",
       "      <td>10688.000000</td>\n",
       "      <td>113149.000000</td>\n",
       "    </tr>\n",
       "    <tr>\n",
       "      <th>25%</th>\n",
       "      <td>8716.000000</td>\n",
       "      <td>145125.500000</td>\n",
       "      <td>1798.250000</td>\n",
       "      <td>7408.500000</td>\n",
       "      <td>18591.500000</td>\n",
       "      <td>11408.500000</td>\n",
       "      <td>123987.000000</td>\n",
       "    </tr>\n",
       "    <tr>\n",
       "      <th>50%</th>\n",
       "      <td>142533.000000</td>\n",
       "      <td>234824.000000</td>\n",
       "      <td>20750.000000</td>\n",
       "      <td>59165.000000</td>\n",
       "      <td>27136.000000</td>\n",
       "      <td>11650.000000</td>\n",
       "      <td>124964.000000</td>\n",
       "    </tr>\n",
       "    <tr>\n",
       "      <th>75%</th>\n",
       "      <td>236720.000000</td>\n",
       "      <td>252784.500000</td>\n",
       "      <td>39472.000000</td>\n",
       "      <td>113363.000000</td>\n",
       "      <td>28418.000000</td>\n",
       "      <td>11793.000000</td>\n",
       "      <td>126880.000000</td>\n",
       "    </tr>\n",
       "    <tr>\n",
       "      <th>max</th>\n",
       "      <td>280117.000000</td>\n",
       "      <td>554143.000000</td>\n",
       "      <td>47080.000000</td>\n",
       "      <td>150376.000000</td>\n",
       "      <td>29699.000000</td>\n",
       "      <td>12700.000000</td>\n",
       "      <td>138917.000000</td>\n",
       "    </tr>\n",
       "  </tbody>\n",
       "</table>\n",
       "</div>"
      ],
      "text/plain": [
       "         cases_total      cases_pcr  cases_test_ab     discharges  \\\n",
       "count      91.000000     183.000000      48.000000      71.000000   \n",
       "mean   131623.747253  209864.874317   21786.166667   63269.084507   \n",
       "std    107000.307291  126527.584749   17522.577549   52674.500062   \n",
       "min         3.000000       3.000000      12.000000      24.000000   \n",
       "25%      8716.000000  145125.500000    1798.250000    7408.500000   \n",
       "50%    142533.000000  234824.000000   20750.000000   59165.000000   \n",
       "75%    236720.000000  252784.500000   39472.000000  113363.000000   \n",
       "max    280117.000000  554143.000000   47080.000000  150376.000000   \n",
       "\n",
       "           deceases           icu   hospitalized  \n",
       "count    171.000000    115.000000     117.000000  \n",
       "mean   21883.994152  11656.826087  125698.555556  \n",
       "std     9955.662054    384.250564    4743.664351  \n",
       "min        1.000000  10688.000000  113149.000000  \n",
       "25%    18591.500000  11408.500000  123987.000000  \n",
       "50%    27136.000000  11650.000000  124964.000000  \n",
       "75%    28418.000000  11793.000000  126880.000000  \n",
       "max    29699.000000  12700.000000  138917.000000  "
      ]
     },
     "execution_count": 59,
     "metadata": {},
     "output_type": "execute_result"
    }
   ],
   "source": [
    "stats = df.describe()\n",
    "stats"
   ]
  },
  {
   "cell_type": "code",
   "execution_count": 63,
   "id": "2beaa82f-9bdc-423b-91c9-b3c85b37bba2",
   "metadata": {},
   "outputs": [
    {
     "data": {
      "text/html": [
       "<div>\n",
       "<style scoped>\n",
       "    .dataframe tbody tr th:only-of-type {\n",
       "        vertical-align: middle;\n",
       "    }\n",
       "\n",
       "    .dataframe tbody tr th {\n",
       "        vertical-align: top;\n",
       "    }\n",
       "\n",
       "    .dataframe thead th {\n",
       "        text-align: right;\n",
       "    }\n",
       "</style>\n",
       "<table border=\"1\" class=\"dataframe\">\n",
       "  <thead>\n",
       "    <tr style=\"text-align: right;\">\n",
       "      <th></th>\n",
       "      <th>cases_total</th>\n",
       "      <th>icu</th>\n",
       "    </tr>\n",
       "  </thead>\n",
       "  <tbody>\n",
       "    <tr>\n",
       "      <th>min</th>\n",
       "      <td>3.0</td>\n",
       "      <td>10688.0</td>\n",
       "    </tr>\n",
       "    <tr>\n",
       "      <th>25%</th>\n",
       "      <td>8716.0</td>\n",
       "      <td>11408.5</td>\n",
       "    </tr>\n",
       "    <tr>\n",
       "      <th>50%</th>\n",
       "      <td>142533.0</td>\n",
       "      <td>11650.0</td>\n",
       "    </tr>\n",
       "    <tr>\n",
       "      <th>75%</th>\n",
       "      <td>236720.0</td>\n",
       "      <td>11793.0</td>\n",
       "    </tr>\n",
       "    <tr>\n",
       "      <th>max</th>\n",
       "      <td>280117.0</td>\n",
       "      <td>12700.0</td>\n",
       "    </tr>\n",
       "  </tbody>\n",
       "</table>\n",
       "</div>"
      ],
      "text/plain": [
       "     cases_total      icu\n",
       "min          3.0  10688.0\n",
       "25%       8716.0  11408.5\n",
       "50%     142533.0  11650.0\n",
       "75%     236720.0  11793.0\n",
       "max     280117.0  12700.0"
      ]
     },
     "execution_count": 63,
     "metadata": {},
     "output_type": "execute_result"
    }
   ],
   "source": [
    "stats.loc[\"min\":\"max\", [\"cases_total\", \"icu\"]]"
   ]
  },
  {
   "cell_type": "code",
   "execution_count": 64,
   "id": "21c881b2-00a6-4ca3-bd23-766311e1f504",
   "metadata": {},
   "outputs": [
    {
     "data": {
      "text/html": [
       "<div>\n",
       "<style scoped>\n",
       "    .dataframe tbody tr th:only-of-type {\n",
       "        vertical-align: middle;\n",
       "    }\n",
       "\n",
       "    .dataframe tbody tr th {\n",
       "        vertical-align: top;\n",
       "    }\n",
       "\n",
       "    .dataframe thead th {\n",
       "        text-align: right;\n",
       "    }\n",
       "</style>\n",
       "<table border=\"1\" class=\"dataframe\">\n",
       "  <thead>\n",
       "    <tr style=\"text-align: right;\">\n",
       "      <th></th>\n",
       "      <th>cases_test_ab</th>\n",
       "      <th>hospitalized</th>\n",
       "    </tr>\n",
       "  </thead>\n",
       "  <tbody>\n",
       "    <tr>\n",
       "      <th>min</th>\n",
       "      <td>12.00</td>\n",
       "      <td>113149.0</td>\n",
       "    </tr>\n",
       "    <tr>\n",
       "      <th>25%</th>\n",
       "      <td>1798.25</td>\n",
       "      <td>123987.0</td>\n",
       "    </tr>\n",
       "  </tbody>\n",
       "</table>\n",
       "</div>"
      ],
      "text/plain": [
       "     cases_test_ab  hospitalized\n",
       "min          12.00      113149.0\n",
       "25%        1798.25      123987.0"
      ]
     },
     "execution_count": 64,
     "metadata": {},
     "output_type": "execute_result"
    }
   ],
   "source": [
    "stats.iloc[3:5, [2, 6]]"
   ]
  },
  {
   "cell_type": "code",
   "execution_count": 67,
   "id": "9f1a2a43-3e8c-42cb-afe9-2f0e63c9ae3e",
   "metadata": {},
   "outputs": [
    {
     "data": {
      "text/html": [
       "<div>\n",
       "<style scoped>\n",
       "    .dataframe tbody tr th:only-of-type {\n",
       "        vertical-align: middle;\n",
       "    }\n",
       "\n",
       "    .dataframe tbody tr th {\n",
       "        vertical-align: top;\n",
       "    }\n",
       "\n",
       "    .dataframe thead th {\n",
       "        text-align: right;\n",
       "    }\n",
       "</style>\n",
       "<table border=\"1\" class=\"dataframe\">\n",
       "  <thead>\n",
       "    <tr style=\"text-align: right;\">\n",
       "      <th></th>\n",
       "      <th>date</th>\n",
       "      <th>cases_total</th>\n",
       "      <th>cases_pcr</th>\n",
       "      <th>cases_test_ab</th>\n",
       "      <th>discharges</th>\n",
       "      <th>deceases</th>\n",
       "      <th>icu</th>\n",
       "      <th>hospitalized</th>\n",
       "    </tr>\n",
       "  </thead>\n",
       "  <tbody>\n",
       "    <tr>\n",
       "      <th>0</th>\n",
       "      <td>2020-02-21</td>\n",
       "      <td>3.0</td>\n",
       "      <td>3</td>\n",
       "      <td>NaN</td>\n",
       "      <td>NaN</td>\n",
       "      <td>NaN</td>\n",
       "      <td>NaN</td>\n",
       "      <td>NaN</td>\n",
       "    </tr>\n",
       "    <tr>\n",
       "      <th>1</th>\n",
       "      <td>2020-02-22</td>\n",
       "      <td>3.0</td>\n",
       "      <td>3</td>\n",
       "      <td>NaN</td>\n",
       "      <td>NaN</td>\n",
       "      <td>NaN</td>\n",
       "      <td>NaN</td>\n",
       "      <td>NaN</td>\n",
       "    </tr>\n",
       "    <tr>\n",
       "      <th>2</th>\n",
       "      <td>2020-02-23</td>\n",
       "      <td>3.0</td>\n",
       "      <td>3</td>\n",
       "      <td>NaN</td>\n",
       "      <td>NaN</td>\n",
       "      <td>NaN</td>\n",
       "      <td>NaN</td>\n",
       "      <td>NaN</td>\n",
       "    </tr>\n",
       "    <tr>\n",
       "      <th>3</th>\n",
       "      <td>2020-02-24</td>\n",
       "      <td>3.0</td>\n",
       "      <td>3</td>\n",
       "      <td>NaN</td>\n",
       "      <td>NaN</td>\n",
       "      <td>NaN</td>\n",
       "      <td>NaN</td>\n",
       "      <td>NaN</td>\n",
       "    </tr>\n",
       "  </tbody>\n",
       "</table>\n",
       "</div>"
      ],
      "text/plain": [
       "         date  cases_total  cases_pcr  cases_test_ab  discharges  deceases  \\\n",
       "0  2020-02-21          3.0          3            NaN         NaN       NaN   \n",
       "1  2020-02-22          3.0          3            NaN         NaN       NaN   \n",
       "2  2020-02-23          3.0          3            NaN         NaN       NaN   \n",
       "3  2020-02-24          3.0          3            NaN         NaN       NaN   \n",
       "\n",
       "   icu  hospitalized  \n",
       "0  NaN           NaN  \n",
       "1  NaN           NaN  \n",
       "2  NaN           NaN  \n",
       "3  NaN           NaN  "
      ]
     },
     "execution_count": 67,
     "metadata": {},
     "output_type": "execute_result"
    }
   ],
   "source": [
    "df.loc[:3]"
   ]
  },
  {
   "cell_type": "code",
   "execution_count": 70,
   "id": "5d7e0a85-9514-4a65-b538-07922ccb0c1c",
   "metadata": {},
   "outputs": [
    {
     "data": {
      "text/html": [
       "<div>\n",
       "<style scoped>\n",
       "    .dataframe tbody tr th:only-of-type {\n",
       "        vertical-align: middle;\n",
       "    }\n",
       "\n",
       "    .dataframe tbody tr th {\n",
       "        vertical-align: top;\n",
       "    }\n",
       "\n",
       "    .dataframe thead th {\n",
       "        text-align: right;\n",
       "    }\n",
       "</style>\n",
       "<table border=\"1\" class=\"dataframe\">\n",
       "  <thead>\n",
       "    <tr style=\"text-align: right;\">\n",
       "      <th></th>\n",
       "      <th>date</th>\n",
       "      <th>cases_total</th>\n",
       "      <th>cases_pcr</th>\n",
       "      <th>cases_test_ab</th>\n",
       "      <th>discharges</th>\n",
       "      <th>deceases</th>\n",
       "      <th>icu</th>\n",
       "      <th>hospitalized</th>\n",
       "    </tr>\n",
       "  </thead>\n",
       "  <tbody>\n",
       "    <tr>\n",
       "      <th>0</th>\n",
       "      <td>2020-02-21</td>\n",
       "      <td>3.0</td>\n",
       "      <td>3</td>\n",
       "      <td>NaN</td>\n",
       "      <td>NaN</td>\n",
       "      <td>NaN</td>\n",
       "      <td>NaN</td>\n",
       "      <td>NaN</td>\n",
       "    </tr>\n",
       "    <tr>\n",
       "      <th>1</th>\n",
       "      <td>2020-02-22</td>\n",
       "      <td>3.0</td>\n",
       "      <td>3</td>\n",
       "      <td>NaN</td>\n",
       "      <td>NaN</td>\n",
       "      <td>NaN</td>\n",
       "      <td>NaN</td>\n",
       "      <td>NaN</td>\n",
       "    </tr>\n",
       "    <tr>\n",
       "      <th>2</th>\n",
       "      <td>2020-02-23</td>\n",
       "      <td>3.0</td>\n",
       "      <td>3</td>\n",
       "      <td>NaN</td>\n",
       "      <td>NaN</td>\n",
       "      <td>NaN</td>\n",
       "      <td>NaN</td>\n",
       "      <td>NaN</td>\n",
       "    </tr>\n",
       "  </tbody>\n",
       "</table>\n",
       "</div>"
      ],
      "text/plain": [
       "         date  cases_total  cases_pcr  cases_test_ab  discharges  deceases  \\\n",
       "0  2020-02-21          3.0          3            NaN         NaN       NaN   \n",
       "1  2020-02-22          3.0          3            NaN         NaN       NaN   \n",
       "2  2020-02-23          3.0          3            NaN         NaN       NaN   \n",
       "\n",
       "   icu  hospitalized  \n",
       "0  NaN           NaN  \n",
       "1  NaN           NaN  \n",
       "2  NaN           NaN  "
      ]
     },
     "execution_count": 70,
     "metadata": {},
     "output_type": "execute_result"
    }
   ],
   "source": [
    "# .iloc slices behave like usual Python slices\n",
    "# .iloc always work, regardless of the index\n",
    "df.iloc[:3]"
   ]
  },
  {
   "cell_type": "markdown",
   "id": "47ad18e0-6ccd-4c3c-8a15-ee4fea060e85",
   "metadata": {},
   "source": [
    "Print the ICU cases when the total cases were more than 100"
   ]
  },
  {
   "cell_type": "code",
   "execution_count": 76,
   "id": "de009d09-7deb-4e7c-9c39-89422695ecdc",
   "metadata": {},
   "outputs": [
    {
     "data": {
      "text/plain": [
       "0    False\n",
       "1    False\n",
       "2    False\n",
       "3    False\n",
       "4    False\n",
       "Name: cases_total, dtype: bool"
      ]
     },
     "execution_count": 76,
     "metadata": {},
     "output_type": "execute_result"
    }
   ],
   "source": [
    "cases_filter = df[\"cases_total\"] > 100\n",
    "cases_filter.head()"
   ]
  },
  {
   "cell_type": "code",
   "execution_count": 81,
   "id": "5f445ee0-57e9-4308-9c52-fc226bdcb499",
   "metadata": {},
   "outputs": [],
   "source": [
    "# df.loc[\n",
    "#     df[\"cases_total\"] > 100,\n",
    "#     [\"cases_total\", \"icu\"]\n",
    "# ]"
   ]
  },
  {
   "cell_type": "code",
   "execution_count": 79,
   "id": "01cb82ab-f881-4b0c-acba-825f9f4a19cb",
   "metadata": {},
   "outputs": [
    {
     "data": {
      "text/html": [
       "<div>\n",
       "<style scoped>\n",
       "    .dataframe tbody tr th:only-of-type {\n",
       "        vertical-align: middle;\n",
       "    }\n",
       "\n",
       "    .dataframe tbody tr th {\n",
       "        vertical-align: top;\n",
       "    }\n",
       "\n",
       "    .dataframe thead th {\n",
       "        text-align: right;\n",
       "    }\n",
       "</style>\n",
       "<table border=\"1\" class=\"dataframe\">\n",
       "  <thead>\n",
       "    <tr style=\"text-align: right;\">\n",
       "      <th></th>\n",
       "      <th>cases_total</th>\n",
       "      <th>icu</th>\n",
       "    </tr>\n",
       "  </thead>\n",
       "  <tbody>\n",
       "    <tr>\n",
       "      <th>10</th>\n",
       "      <td>138.0</td>\n",
       "      <td>NaN</td>\n",
       "    </tr>\n",
       "    <tr>\n",
       "      <th>11</th>\n",
       "      <td>195.0</td>\n",
       "      <td>NaN</td>\n",
       "    </tr>\n",
       "    <tr>\n",
       "      <th>12</th>\n",
       "      <td>269.0</td>\n",
       "      <td>NaN</td>\n",
       "    </tr>\n",
       "    <tr>\n",
       "      <th>13</th>\n",
       "      <td>351.0</td>\n",
       "      <td>NaN</td>\n",
       "    </tr>\n",
       "    <tr>\n",
       "      <th>14</th>\n",
       "      <td>533.0</td>\n",
       "      <td>NaN</td>\n",
       "    </tr>\n",
       "    <tr>\n",
       "      <th>...</th>\n",
       "      <td>...</td>\n",
       "      <td>...</td>\n",
       "    </tr>\n",
       "    <tr>\n",
       "      <th>86</th>\n",
       "      <td>278020.0</td>\n",
       "      <td>11378.0</td>\n",
       "    </tr>\n",
       "    <tr>\n",
       "      <th>87</th>\n",
       "      <td>278548.0</td>\n",
       "      <td>11391.0</td>\n",
       "    </tr>\n",
       "    <tr>\n",
       "      <th>88</th>\n",
       "      <td>279012.0</td>\n",
       "      <td>11403.0</td>\n",
       "    </tr>\n",
       "    <tr>\n",
       "      <th>89</th>\n",
       "      <td>279662.0</td>\n",
       "      <td>11434.0</td>\n",
       "    </tr>\n",
       "    <tr>\n",
       "      <th>90</th>\n",
       "      <td>280117.0</td>\n",
       "      <td>11454.0</td>\n",
       "    </tr>\n",
       "  </tbody>\n",
       "</table>\n",
       "<p>81 rows × 2 columns</p>\n",
       "</div>"
      ],
      "text/plain": [
       "    cases_total      icu\n",
       "10        138.0      NaN\n",
       "11        195.0      NaN\n",
       "12        269.0      NaN\n",
       "13        351.0      NaN\n",
       "14        533.0      NaN\n",
       "..          ...      ...\n",
       "86     278020.0  11378.0\n",
       "87     278548.0  11391.0\n",
       "88     279012.0  11403.0\n",
       "89     279662.0  11434.0\n",
       "90     280117.0  11454.0\n",
       "\n",
       "[81 rows x 2 columns]"
      ]
     },
     "execution_count": 79,
     "metadata": {},
     "output_type": "execute_result"
    }
   ],
   "source": [
    "df.loc[cases_filter, [\"cases_total\", \"icu\"]]"
   ]
  },
  {
   "cell_type": "code",
   "execution_count": 82,
   "id": "9ab0e31d-7bf8-4050-8a67-a4edf397e64c",
   "metadata": {},
   "outputs": [
    {
     "data": {
      "text/plain": [
       "183"
      ]
     },
     "execution_count": 82,
     "metadata": {},
     "output_type": "execute_result"
    }
   ],
   "source": [
    "len(cases_filter)"
   ]
  },
  {
   "cell_type": "code",
   "execution_count": 85,
   "id": "5d0c927f-3c7c-4bba-9736-bce9a37f7921",
   "metadata": {},
   "outputs": [
    {
     "data": {
      "text/plain": [
       "True"
      ]
     },
     "execution_count": 85,
     "metadata": {},
     "output_type": "execute_result"
    }
   ],
   "source": [
    "(18 > 10) and (18 < 20)"
   ]
  },
  {
   "cell_type": "code",
   "execution_count": 89,
   "id": "faf59156-20ba-4946-bc2f-8540389184b0",
   "metadata": {},
   "outputs": [
    {
     "data": {
      "text/plain": [
       "False"
      ]
     },
     "execution_count": 89,
     "metadata": {},
     "output_type": "execute_result"
    }
   ],
   "source": [
    "cases_filter.all()"
   ]
  },
  {
   "cell_type": "code",
   "execution_count": 92,
   "id": "a82c8d33-749c-4be6-8834-d47862ebe396",
   "metadata": {},
   "outputs": [
    {
     "data": {
      "text/plain": [
       "0"
      ]
     },
     "execution_count": 92,
     "metadata": {},
     "output_type": "execute_result"
    }
   ],
   "source": [
    "3 & 4"
   ]
  },
  {
   "cell_type": "code",
   "execution_count": 93,
   "id": "2d4db4f0-1853-4ea3-8bcd-a4d199adb89a",
   "metadata": {},
   "outputs": [],
   "source": [
    "f1 = (df[\"cases_total\"] > 100) & (df[\"cases_total\"] < 200)  # bitwise AND &\n",
    "f2 = (df[\"cases_total\"] > 100) | (df[\"cases_total\"] < 200)  # bitwise OR |"
   ]
  },
  {
   "cell_type": "code",
   "execution_count": 96,
   "id": "621dd002-5736-4675-8e54-ebd916c4a5c0",
   "metadata": {},
   "outputs": [
    {
     "data": {
      "text/plain": [
       "0    True\n",
       "1    True\n",
       "2    True\n",
       "3    True\n",
       "4    True\n",
       "Name: cases_total, dtype: bool"
      ]
     },
     "execution_count": 96,
     "metadata": {},
     "output_type": "execute_result"
    }
   ],
   "source": [
    "~f1.head()"
   ]
  },
  {
   "cell_type": "markdown",
   "id": "e4d76c7a-bdea-49cf-9594-93561c1bed78",
   "metadata": {},
   "source": [
    "### Exercise 1\n",
    "\n",
    "Display the PCR cases and discharges where the total cases are between 2000 and 500000 and ICU cases are less than 100000."
   ]
  },
  {
   "cell_type": "code",
   "execution_count": 99,
   "id": "2001f219-c7fa-4931-9059-b81a394f3c8e",
   "metadata": {},
   "outputs": [
    {
     "data": {
      "text/html": [
       "<div>\n",
       "<style scoped>\n",
       "    .dataframe tbody tr th:only-of-type {\n",
       "        vertical-align: middle;\n",
       "    }\n",
       "\n",
       "    .dataframe tbody tr th {\n",
       "        vertical-align: top;\n",
       "    }\n",
       "\n",
       "    .dataframe thead th {\n",
       "        text-align: right;\n",
       "    }\n",
       "</style>\n",
       "<table border=\"1\" class=\"dataframe\">\n",
       "  <thead>\n",
       "    <tr style=\"text-align: right;\">\n",
       "      <th></th>\n",
       "      <th>cases_pcr</th>\n",
       "      <th>discharges</th>\n",
       "    </tr>\n",
       "  </thead>\n",
       "  <tbody>\n",
       "    <tr>\n",
       "      <th>68</th>\n",
       "      <td>214387</td>\n",
       "      <td>108947.0</td>\n",
       "    </tr>\n",
       "    <tr>\n",
       "      <th>69</th>\n",
       "      <td>215663</td>\n",
       "      <td>112050.0</td>\n",
       "    </tr>\n",
       "    <tr>\n",
       "      <th>70</th>\n",
       "      <td>216965</td>\n",
       "      <td>114676.0</td>\n",
       "    </tr>\n",
       "    <tr>\n",
       "      <th>71</th>\n",
       "      <td>218394</td>\n",
       "      <td>117248.0</td>\n",
       "    </tr>\n",
       "    <tr>\n",
       "      <th>72</th>\n",
       "      <td>219277</td>\n",
       "      <td>118902.0</td>\n",
       "    </tr>\n",
       "    <tr>\n",
       "      <th>73</th>\n",
       "      <td>219731</td>\n",
       "      <td>121353.0</td>\n",
       "    </tr>\n",
       "    <tr>\n",
       "      <th>74</th>\n",
       "      <td>220759</td>\n",
       "      <td>123486.0</td>\n",
       "    </tr>\n",
       "    <tr>\n",
       "      <th>75</th>\n",
       "      <td>221630</td>\n",
       "      <td>126002.0</td>\n",
       "    </tr>\n",
       "    <tr>\n",
       "      <th>76</th>\n",
       "      <td>222524</td>\n",
       "      <td>128511.0</td>\n",
       "    </tr>\n",
       "    <tr>\n",
       "      <th>77</th>\n",
       "      <td>223684</td>\n",
       "      <td>131148.0</td>\n",
       "    </tr>\n",
       "    <tr>\n",
       "      <th>78</th>\n",
       "      <td>224472</td>\n",
       "      <td>133952.0</td>\n",
       "    </tr>\n",
       "    <tr>\n",
       "      <th>79</th>\n",
       "      <td>225128</td>\n",
       "      <td>136166.0</td>\n",
       "    </tr>\n",
       "    <tr>\n",
       "      <th>80</th>\n",
       "      <td>228022</td>\n",
       "      <td>137138.0</td>\n",
       "    </tr>\n",
       "    <tr>\n",
       "      <th>81</th>\n",
       "      <td>228762</td>\n",
       "      <td>138980.0</td>\n",
       "    </tr>\n",
       "    <tr>\n",
       "      <th>82</th>\n",
       "      <td>229348</td>\n",
       "      <td>140823.0</td>\n",
       "    </tr>\n",
       "    <tr>\n",
       "      <th>83</th>\n",
       "      <td>229837</td>\n",
       "      <td>143374.0</td>\n",
       "    </tr>\n",
       "    <tr>\n",
       "      <th>84</th>\n",
       "      <td>230634</td>\n",
       "      <td>144783.0</td>\n",
       "    </tr>\n",
       "    <tr>\n",
       "      <th>85</th>\n",
       "      <td>231203</td>\n",
       "      <td>146857.0</td>\n",
       "    </tr>\n",
       "    <tr>\n",
       "      <th>86</th>\n",
       "      <td>231651</td>\n",
       "      <td>149579.0</td>\n",
       "    </tr>\n",
       "    <tr>\n",
       "      <th>87</th>\n",
       "      <td>231966</td>\n",
       "      <td>150376.0</td>\n",
       "    </tr>\n",
       "    <tr>\n",
       "      <th>88</th>\n",
       "      <td>232246</td>\n",
       "      <td>NaN</td>\n",
       "    </tr>\n",
       "    <tr>\n",
       "      <th>89</th>\n",
       "      <td>232693</td>\n",
       "      <td>NaN</td>\n",
       "    </tr>\n",
       "    <tr>\n",
       "      <th>90</th>\n",
       "      <td>233037</td>\n",
       "      <td>NaN</td>\n",
       "    </tr>\n",
       "  </tbody>\n",
       "</table>\n",
       "</div>"
      ],
      "text/plain": [
       "    cases_pcr  discharges\n",
       "68     214387    108947.0\n",
       "69     215663    112050.0\n",
       "70     216965    114676.0\n",
       "71     218394    117248.0\n",
       "72     219277    118902.0\n",
       "73     219731    121353.0\n",
       "74     220759    123486.0\n",
       "75     221630    126002.0\n",
       "76     222524    128511.0\n",
       "77     223684    131148.0\n",
       "78     224472    133952.0\n",
       "79     225128    136166.0\n",
       "80     228022    137138.0\n",
       "81     228762    138980.0\n",
       "82     229348    140823.0\n",
       "83     229837    143374.0\n",
       "84     230634    144783.0\n",
       "85     231203    146857.0\n",
       "86     231651    149579.0\n",
       "87     231966    150376.0\n",
       "88     232246         NaN\n",
       "89     232693         NaN\n",
       "90     233037         NaN"
      ]
     },
     "execution_count": 99,
     "metadata": {},
     "output_type": "execute_result"
    }
   ],
   "source": [
    "df.loc[\n",
    "    (df[\"cases_total\"] > 2_000)\n",
    "    & (df[\"cases_total\"] < 500_000)\n",
    "    & (df[\"icu\"] < 100_000),\n",
    "    [\"cases_pcr\", \"discharges\"],\n",
    "]"
   ]
  },
  {
   "cell_type": "markdown",
   "id": "402d4625-486e-470f-8195-6828752c17bd",
   "metadata": {},
   "source": [
    "---"
   ]
  },
  {
   "cell_type": "code",
   "execution_count": 103,
   "id": "cc9fe23c-d2c7-49fa-b7ff-0a6c154e96b6",
   "metadata": {},
   "outputs": [
    {
     "data": {
      "text/plain": [
       "<AxesSubplot:>"
      ]
     },
     "execution_count": 103,
     "metadata": {},
     "output_type": "execute_result"
    },
    {
     "data": {
      "image/png": "[encoded data removed]",
      "text/plain": [
       "<Figure size 432x288 with 1 Axes>"
      ]
     },
     "metadata": {
      "needs_background": "light"
     },
     "output_type": "display_data"
    }
   ],
   "source": [
    "df.plot()"
   ]
  },
  {
   "cell_type": "code",
   "execution_count": 105,
   "id": "10587408-1c29-4787-95e1-16534fa1723c",
   "metadata": {},
   "outputs": [
    {
     "data": {
      "text/html": [
       "<div>\n",
       "<style scoped>\n",
       "    .dataframe tbody tr th:only-of-type {\n",
       "        vertical-align: middle;\n",
       "    }\n",
       "\n",
       "    .dataframe tbody tr th {\n",
       "        vertical-align: top;\n",
       "    }\n",
       "\n",
       "    .dataframe thead th {\n",
       "        text-align: right;\n",
       "    }\n",
       "</style>\n",
       "<table border=\"1\" class=\"dataframe\">\n",
       "  <thead>\n",
       "    <tr style=\"text-align: right;\">\n",
       "      <th></th>\n",
       "      <th>date</th>\n",
       "      <th>age_range</th>\n",
       "      <th>sex</th>\n",
       "      <th>cases_confirmed</th>\n",
       "      <th>hospitalized</th>\n",
       "      <th>icu</th>\n",
       "      <th>deceases</th>\n",
       "    </tr>\n",
       "  </thead>\n",
       "  <tbody>\n",
       "    <tr>\n",
       "      <th>0</th>\n",
       "      <td>2020-03-23</td>\n",
       "      <td>0-9</td>\n",
       "      <td>both</td>\n",
       "      <td>129</td>\n",
       "      <td>34</td>\n",
       "      <td>1</td>\n",
       "      <td>0</td>\n",
       "    </tr>\n",
       "    <tr>\n",
       "      <th>1</th>\n",
       "      <td>2020-03-23</td>\n",
       "      <td>10-19</td>\n",
       "      <td>both</td>\n",
       "      <td>221</td>\n",
       "      <td>15</td>\n",
       "      <td>0</td>\n",
       "      <td>1</td>\n",
       "    </tr>\n",
       "    <tr>\n",
       "      <th>2</th>\n",
       "      <td>2020-03-23</td>\n",
       "      <td>20-29</td>\n",
       "      <td>both</td>\n",
       "      <td>1285</td>\n",
       "      <td>183</td>\n",
       "      <td>8</td>\n",
       "      <td>4</td>\n",
       "    </tr>\n",
       "    <tr>\n",
       "      <th>3</th>\n",
       "      <td>2020-03-23</td>\n",
       "      <td>30-39</td>\n",
       "      <td>both</td>\n",
       "      <td>2208</td>\n",
       "      <td>365</td>\n",
       "      <td>15</td>\n",
       "      <td>3</td>\n",
       "    </tr>\n",
       "    <tr>\n",
       "      <th>4</th>\n",
       "      <td>2020-03-23</td>\n",
       "      <td>40-49</td>\n",
       "      <td>both</td>\n",
       "      <td>2919</td>\n",
       "      <td>663</td>\n",
       "      <td>40</td>\n",
       "      <td>9</td>\n",
       "    </tr>\n",
       "  </tbody>\n",
       "</table>\n",
       "</div>"
      ],
      "text/plain": [
       "         date age_range   sex  cases_confirmed  hospitalized  icu  deceases\n",
       "0  2020-03-23       0-9  both              129            34    1         0\n",
       "1  2020-03-23     10-19  both              221            15    0         1\n",
       "2  2020-03-23     20-29  both             1285           183    8         4\n",
       "3  2020-03-23     30-39  both             2208           365   15         3\n",
       "4  2020-03-23     40-49  both             2919           663   40         9"
      ]
     },
     "execution_count": 105,
     "metadata": {},
     "output_type": "execute_result"
    }
   ],
   "source": [
    "df = pd.read_csv(\"../data/national_covid19_age_range.csv\")\n",
    "df.head()"
   ]
  },
  {
   "cell_type": "code",
   "execution_count": 109,
   "id": "a03792fc-af76-4fe8-9035-d199c8e5521e",
   "metadata": {},
   "outputs": [
    {
     "data": {
      "text/plain": [
       "(1878, 7)"
      ]
     },
     "execution_count": 109,
     "metadata": {},
     "output_type": "execute_result"
    }
   ],
   "source": [
    "df.shape"
   ]
  },
  {
   "cell_type": "code",
   "execution_count": 108,
   "id": "0a3c58a0-4c8e-46cf-b892-91a98b66d9f7",
   "metadata": {},
   "outputs": [
    {
     "data": {
      "text/html": [
       "<div>\n",
       "<style scoped>\n",
       "    .dataframe tbody tr th:only-of-type {\n",
       "        vertical-align: middle;\n",
       "    }\n",
       "\n",
       "    .dataframe tbody tr th {\n",
       "        vertical-align: top;\n",
       "    }\n",
       "\n",
       "    .dataframe thead th {\n",
       "        text-align: right;\n",
       "    }\n",
       "</style>\n",
       "<table border=\"1\" class=\"dataframe\">\n",
       "  <thead>\n",
       "    <tr style=\"text-align: right;\">\n",
       "      <th></th>\n",
       "      <th>cases_confirmed</th>\n",
       "      <th>hospitalized</th>\n",
       "      <th>icu</th>\n",
       "      <th>deceases</th>\n",
       "    </tr>\n",
       "  </thead>\n",
       "  <tbody>\n",
       "    <tr>\n",
       "      <th>count</th>\n",
       "      <td>1878.000000</td>\n",
       "      <td>1878.000000</td>\n",
       "      <td>1878.000000</td>\n",
       "      <td>1878.000000</td>\n",
       "    </tr>\n",
       "    <tr>\n",
       "      <th>mean</th>\n",
       "      <td>17816.938765</td>\n",
       "      <td>7470.712460</td>\n",
       "      <td>640.007987</td>\n",
       "      <td>1368.438765</td>\n",
       "    </tr>\n",
       "    <tr>\n",
       "      <th>std</th>\n",
       "      <td>32800.284647</td>\n",
       "      <td>13693.081064</td>\n",
       "      <td>1247.296922</td>\n",
       "      <td>2816.864502</td>\n",
       "    </tr>\n",
       "    <tr>\n",
       "      <th>min</th>\n",
       "      <td>64.000000</td>\n",
       "      <td>6.000000</td>\n",
       "      <td>0.000000</td>\n",
       "      <td>0.000000</td>\n",
       "    </tr>\n",
       "    <tr>\n",
       "      <th>25%</th>\n",
       "      <td>2166.250000</td>\n",
       "      <td>577.750000</td>\n",
       "      <td>22.000000</td>\n",
       "      <td>9.000000</td>\n",
       "    </tr>\n",
       "    <tr>\n",
       "      <th>50%</th>\n",
       "      <td>8757.500000</td>\n",
       "      <td>2923.000000</td>\n",
       "      <td>132.000000</td>\n",
       "      <td>139.500000</td>\n",
       "    </tr>\n",
       "    <tr>\n",
       "      <th>75%</th>\n",
       "      <td>17715.250000</td>\n",
       "      <td>8136.750000</td>\n",
       "      <td>667.000000</td>\n",
       "      <td>1381.500000</td>\n",
       "    </tr>\n",
       "    <tr>\n",
       "      <th>max</th>\n",
       "      <td>252283.000000</td>\n",
       "      <td>92572.000000</td>\n",
       "      <td>7910.000000</td>\n",
       "      <td>20552.000000</td>\n",
       "    </tr>\n",
       "  </tbody>\n",
       "</table>\n",
       "</div>"
      ],
      "text/plain": [
       "       cases_confirmed  hospitalized          icu      deceases\n",
       "count      1878.000000   1878.000000  1878.000000   1878.000000\n",
       "mean      17816.938765   7470.712460   640.007987   1368.438765\n",
       "std       32800.284647  13693.081064  1247.296922   2816.864502\n",
       "min          64.000000      6.000000     0.000000      0.000000\n",
       "25%        2166.250000    577.750000    22.000000      9.000000\n",
       "50%        8757.500000   2923.000000   132.000000    139.500000\n",
       "75%       17715.250000   8136.750000   667.000000   1381.500000\n",
       "max      252283.000000  92572.000000  7910.000000  20552.000000"
      ]
     },
     "execution_count": 108,
     "metadata": {},
     "output_type": "execute_result"
    }
   ],
   "source": [
    "df.describe()"
   ]
  },
  {
   "cell_type": "code",
   "execution_count": 107,
   "id": "562eab99-49d6-45c5-a8a5-3e25a10aa438",
   "metadata": {},
   "outputs": [
    {
     "data": {
      "text/plain": [
       "1878"
      ]
     },
     "execution_count": 107,
     "metadata": {},
     "output_type": "execute_result"
    }
   ],
   "source": [
    "len(df)"
   ]
  },
  {
   "cell_type": "code",
   "execution_count": 106,
   "id": "4d84e92d-1401-4b19-9050-c6c82a3d1814",
   "metadata": {},
   "outputs": [
    {
     "data": {
      "text/plain": [
       "date               object\n",
       "age_range          object\n",
       "sex                object\n",
       "cases_confirmed     int64\n",
       "hospitalized        int64\n",
       "icu                 int64\n",
       "deceases            int64\n",
       "dtype: object"
      ]
     },
     "execution_count": 106,
     "metadata": {},
     "output_type": "execute_result"
    }
   ],
   "source": [
    "df.dtypes"
   ]
  },
  {
   "cell_type": "code",
   "execution_count": 111,
   "id": "25184fe6-a528-4728-8407-160947666fb5",
   "metadata": {},
   "outputs": [
    {
     "data": {
      "text/plain": [
       "array(['both', 'women', 'men'], dtype=object)"
      ]
     },
     "execution_count": 111,
     "metadata": {},
     "output_type": "execute_result"
    }
   ],
   "source": [
    "df[\"sex\"].unique()"
   ]
  },
  {
   "cell_type": "code",
   "execution_count": 113,
   "id": "0ba4e384-6960-43f4-8b9e-d89d5c4caa4c",
   "metadata": {},
   "outputs": [
    {
     "data": {
      "text/plain": [
       "array(['0-9', '10-19', '20-29', '30-39', '40-49', '50-59', '60-69',\n",
       "       '70-79', '80 y +', 'Total', '80-89', '90 y +'], dtype=object)"
      ]
     },
     "execution_count": 113,
     "metadata": {},
     "output_type": "execute_result"
    }
   ],
   "source": [
    "df[\"age_range\"].unique()"
   ]
  },
  {
   "cell_type": "markdown",
   "id": "51d7bfcf-2f63-423e-80ce-aaef1b5ccdbd",
   "metadata": {},
   "source": [
    "Total cases of women aged 20 to 40."
   ]
  },
  {
   "cell_type": "code",
   "execution_count": 137,
   "id": "ba60acbc-f568-4cad-b3ab-0d786bfd65dd",
   "metadata": {},
   "outputs": [
    {
     "data": {
      "text/plain": [
       "array([ True, False, False, False, False, False,  True])"
      ]
     },
     "execution_count": 137,
     "metadata": {},
     "output_type": "execute_result"
    }
   ],
   "source": [
    "df.columns.str.startswith(\"d\")"
   ]
  },
  {
   "cell_type": "code",
   "execution_count": 138,
   "id": "efe32bce-e8fb-4f34-8d74-69a63ab5f362",
   "metadata": {},
   "outputs": [
    {
     "data": {
      "text/html": [
       "<div>\n",
       "<style scoped>\n",
       "    .dataframe tbody tr th:only-of-type {\n",
       "        vertical-align: middle;\n",
       "    }\n",
       "\n",
       "    .dataframe tbody tr th {\n",
       "        vertical-align: top;\n",
       "    }\n",
       "\n",
       "    .dataframe thead th {\n",
       "        text-align: right;\n",
       "    }\n",
       "</style>\n",
       "<table border=\"1\" class=\"dataframe\">\n",
       "  <thead>\n",
       "    <tr style=\"text-align: right;\">\n",
       "      <th></th>\n",
       "      <th>cases_confirmed</th>\n",
       "      <th>hospitalized</th>\n",
       "      <th>icu</th>\n",
       "      <th>deceases</th>\n",
       "    </tr>\n",
       "  </thead>\n",
       "  <tbody>\n",
       "    <tr>\n",
       "      <th>1793</th>\n",
       "      <td>14297</td>\n",
       "      <td>1876</td>\n",
       "      <td>105</td>\n",
       "      <td>22</td>\n",
       "    </tr>\n",
       "    <tr>\n",
       "      <th>1825</th>\n",
       "      <td>9045</td>\n",
       "      <td>788</td>\n",
       "      <td>39</td>\n",
       "      <td>9</td>\n",
       "    </tr>\n",
       "    <tr>\n",
       "      <th>1826</th>\n",
       "      <td>14297</td>\n",
       "      <td>1876</td>\n",
       "      <td>105</td>\n",
       "      <td>22</td>\n",
       "    </tr>\n",
       "    <tr>\n",
       "      <th>1858</th>\n",
       "      <td>9573</td>\n",
       "      <td>772</td>\n",
       "      <td>34</td>\n",
       "      <td>9</td>\n",
       "    </tr>\n",
       "    <tr>\n",
       "      <th>1859</th>\n",
       "      <td>14891</td>\n",
       "      <td>1888</td>\n",
       "      <td>90</td>\n",
       "      <td>21</td>\n",
       "    </tr>\n",
       "  </tbody>\n",
       "</table>\n",
       "</div>"
      ],
      "text/plain": [
       "      cases_confirmed  hospitalized  icu  deceases\n",
       "1793            14297          1876  105        22\n",
       "1825             9045           788   39         9\n",
       "1826            14297          1876  105        22\n",
       "1858             9573           772   34         9\n",
       "1859            14891          1888   90        21"
      ]
     },
     "execution_count": 138,
     "metadata": {},
     "output_type": "execute_result"
    }
   ],
   "source": [
    "df.loc[\n",
    "    (df[\"sex\"] == \"women\")\n",
    "    & ((df[\"age_range\"] == \"20-29\") | (df[\"age_range\"] == \"30-39\")),\n",
    "    \"cases_confirmed\":\n",
    "].tail()"
   ]
  },
  {
   "cell_type": "code",
   "execution_count": 143,
   "id": "ac4d1882-8707-4aa1-9909-70cb0dda1ea7",
   "metadata": {},
   "outputs": [
    {
     "data": {
      "text/html": [
       "<div>\n",
       "<style scoped>\n",
       "    .dataframe tbody tr th:only-of-type {\n",
       "        vertical-align: middle;\n",
       "    }\n",
       "\n",
       "    .dataframe tbody tr th {\n",
       "        vertical-align: top;\n",
       "    }\n",
       "\n",
       "    .dataframe thead th {\n",
       "        text-align: right;\n",
       "    }\n",
       "</style>\n",
       "<table border=\"1\" class=\"dataframe\">\n",
       "  <thead>\n",
       "    <tr style=\"text-align: right;\">\n",
       "      <th></th>\n",
       "      <th>cases_confirmed</th>\n",
       "      <th>hospitalized</th>\n",
       "      <th>icu</th>\n",
       "      <th>deceases</th>\n",
       "    </tr>\n",
       "    <tr>\n",
       "      <th>sex</th>\n",
       "      <th></th>\n",
       "      <th></th>\n",
       "      <th></th>\n",
       "      <th></th>\n",
       "    </tr>\n",
       "  </thead>\n",
       "  <tbody>\n",
       "    <tr>\n",
       "      <th>both</th>\n",
       "      <td>26730.329073</td>\n",
       "      <td>11185.258786</td>\n",
       "      <td>947.249201</td>\n",
       "      <td>2052.047923</td>\n",
       "    </tr>\n",
       "    <tr>\n",
       "      <th>men</th>\n",
       "      <td>12039.854633</td>\n",
       "      <td>6395.182109</td>\n",
       "      <td>668.154952</td>\n",
       "      <td>1206.089457</td>\n",
       "    </tr>\n",
       "    <tr>\n",
       "      <th>women</th>\n",
       "      <td>14680.632588</td>\n",
       "      <td>4831.696486</td>\n",
       "      <td>304.619808</td>\n",
       "      <td>847.178914</td>\n",
       "    </tr>\n",
       "  </tbody>\n",
       "</table>\n",
       "</div>"
      ],
      "text/plain": [
       "       cases_confirmed  hospitalized         icu     deceases\n",
       "sex                                                          \n",
       "both      26730.329073  11185.258786  947.249201  2052.047923\n",
       "men       12039.854633   6395.182109  668.154952  1206.089457\n",
       "women     14680.632588   4831.696486  304.619808   847.178914"
      ]
     },
     "execution_count": 143,
     "metadata": {},
     "output_type": "execute_result"
    }
   ],
   "source": [
    "df.groupby(\"sex\").mean()"
   ]
  },
  {
   "cell_type": "code",
   "execution_count": 172,
   "id": "aa8c29ca-6429-47b4-ac86-ee64510722dd",
   "metadata": {},
   "outputs": [
    {
     "data": {
      "text/plain": [
       "2.5"
      ]
     },
     "execution_count": 172,
     "metadata": {},
     "output_type": "execute_result"
    }
   ],
   "source": [
    "pd.Series([1, 2, 3, 4]).mean()"
   ]
  },
  {
   "cell_type": "code",
   "execution_count": 173,
   "id": "76c02bc9-6822-4778-a6c3-7a0c360e6c26",
   "metadata": {},
   "outputs": [
    {
     "data": {
      "text/plain": [
       "<function sum(iterable, /, start=0)>"
      ]
     },
     "execution_count": 173,
     "metadata": {},
     "output_type": "execute_result"
    }
   ],
   "source": [
    "sum"
   ]
  },
  {
   "cell_type": "code",
   "execution_count": 177,
   "id": "9d33a1c4-26c8-4d74-8bfc-bd6a8f37480f",
   "metadata": {},
   "outputs": [
    {
     "data": {
      "text/html": [
       "<div>\n",
       "<style scoped>\n",
       "    .dataframe tbody tr th:only-of-type {\n",
       "        vertical-align: middle;\n",
       "    }\n",
       "\n",
       "    .dataframe tbody tr th {\n",
       "        vertical-align: top;\n",
       "    }\n",
       "\n",
       "    .dataframe thead tr th {\n",
       "        text-align: left;\n",
       "    }\n",
       "\n",
       "    .dataframe thead tr:last-of-type th {\n",
       "        text-align: right;\n",
       "    }\n",
       "</style>\n",
       "<table border=\"1\" class=\"dataframe\">\n",
       "  <thead>\n",
       "    <tr>\n",
       "      <th></th>\n",
       "      <th colspan=\"2\" halign=\"left\">cases_confirmed</th>\n",
       "      <th>icu</th>\n",
       "    </tr>\n",
       "    <tr>\n",
       "      <th></th>\n",
       "      <th>mean</th>\n",
       "      <th>sum</th>\n",
       "      <th>median</th>\n",
       "    </tr>\n",
       "    <tr>\n",
       "      <th>age_range</th>\n",
       "      <th></th>\n",
       "      <th></th>\n",
       "      <th></th>\n",
       "    </tr>\n",
       "  </thead>\n",
       "  <tbody>\n",
       "    <tr>\n",
       "      <th>0-9</th>\n",
       "      <td>335.070175</td>\n",
       "      <td>57297</td>\n",
       "      <td>12.0</td>\n",
       "    </tr>\n",
       "    <tr>\n",
       "      <th>10-19</th>\n",
       "      <td>606.046784</td>\n",
       "      <td>103634</td>\n",
       "      <td>7.0</td>\n",
       "    </tr>\n",
       "    <tr>\n",
       "      <th>20-29</th>\n",
       "      <td>5305.380117</td>\n",
       "      <td>907220</td>\n",
       "      <td>38.0</td>\n",
       "    </tr>\n",
       "    <tr>\n",
       "      <th>30-39</th>\n",
       "      <td>9277.397661</td>\n",
       "      <td>1586435</td>\n",
       "      <td>105.0</td>\n",
       "    </tr>\n",
       "    <tr>\n",
       "      <th>40-49</th>\n",
       "      <td>14397.315789</td>\n",
       "      <td>2461941</td>\n",
       "      <td>239.0</td>\n",
       "    </tr>\n",
       "    <tr>\n",
       "      <th>50-59</th>\n",
       "      <td>17648.614035</td>\n",
       "      <td>3017913</td>\n",
       "      <td>458.0</td>\n",
       "    </tr>\n",
       "    <tr>\n",
       "      <th>60-69</th>\n",
       "      <td>14861.970760</td>\n",
       "      <td>2541397</td>\n",
       "      <td>823.0</td>\n",
       "    </tr>\n",
       "    <tr>\n",
       "      <th>70-79</th>\n",
       "      <td>14264.274854</td>\n",
       "      <td>2439191</td>\n",
       "      <td>859.0</td>\n",
       "    </tr>\n",
       "    <tr>\n",
       "      <th>80 y +</th>\n",
       "      <td>2011.333333</td>\n",
       "      <td>6034</td>\n",
       "      <td>21.0</td>\n",
       "    </tr>\n",
       "    <tr>\n",
       "      <th>80-89</th>\n",
       "      <td>14904.785714</td>\n",
       "      <td>2504004</td>\n",
       "      <td>139.5</td>\n",
       "    </tr>\n",
       "    <tr>\n",
       "      <th>90 y +</th>\n",
       "      <td>6577.398810</td>\n",
       "      <td>1105003</td>\n",
       "      <td>17.0</td>\n",
       "    </tr>\n",
       "    <tr>\n",
       "      <th>Total</th>\n",
       "      <td>97837.087719</td>\n",
       "      <td>16730142</td>\n",
       "      <td>2591.0</td>\n",
       "    </tr>\n",
       "  </tbody>\n",
       "</table>\n",
       "</div>"
      ],
      "text/plain": [
       "          cases_confirmed               icu\n",
       "                     mean       sum  median\n",
       "age_range                                  \n",
       "0-9            335.070175     57297    12.0\n",
       "10-19          606.046784    103634     7.0\n",
       "20-29         5305.380117    907220    38.0\n",
       "30-39         9277.397661   1586435   105.0\n",
       "40-49        14397.315789   2461941   239.0\n",
       "50-59        17648.614035   3017913   458.0\n",
       "60-69        14861.970760   2541397   823.0\n",
       "70-79        14264.274854   2439191   859.0\n",
       "80 y +        2011.333333      6034    21.0\n",
       "80-89        14904.785714   2504004   139.5\n",
       "90 y +        6577.398810   1105003    17.0\n",
       "Total        97837.087719  16730142  2591.0"
      ]
     },
     "execution_count": 177,
     "metadata": {},
     "output_type": "execute_result"
    }
   ],
   "source": [
    "# .min(), .max(), .median(), ...\n",
    "df.groupby(\"age_range\").agg({\"cases_confirmed\": [\"mean\", \"sum\"], \"icu\": \"median\"})"
   ]
  },
  {
   "cell_type": "markdown",
   "id": "ca82a16e-b9de-48d9-a282-63db3a45f001",
   "metadata": {},
   "source": [
    "### Exercise 2\n",
    "\n",
    "- Exclude rows with age range \"Total\" and\n",
    "- From that result, compute the median deceases and the mean and std ICU by sex"
   ]
  },
  {
   "cell_type": "markdown",
   "id": "abd529e5-4d15-449a-8ac8-e5422b60568c",
   "metadata": {},
   "source": [
    "### Exercise 2a\n",
    "\n",
    "- Include rows with sex \"men\" or \"women\"\n",
    "- From that result, compute the median deceases and the mean and std ICU by sex"
   ]
  },
  {
   "cell_type": "markdown",
   "id": "cab5ef89-afbc-4b7c-b7b2-cbc44a519560",
   "metadata": {},
   "source": [
    "### Exercise 2b\n",
    "\n",
    "- Exclude rows with sex \"both\"\n",
    "- From that result, compute the median deceases and the mean and std ICU by sex"
   ]
  },
  {
   "cell_type": "code",
   "execution_count": 188,
   "id": "ba80b998-e381-4e83-b531-392a717401cb",
   "metadata": {},
   "outputs": [],
   "source": [
    "# df[\"sex\"].unique()"
   ]
  },
  {
   "cell_type": "code",
   "execution_count": 187,
   "id": "b5449151-9f5a-42b6-b50e-dd85da422966",
   "metadata": {},
   "outputs": [],
   "source": [
    "# df.loc[(df[\"sex\"] == \"men\") | (df[\"sex\"] == \"women\")]"
   ]
  },
  {
   "cell_type": "code",
   "execution_count": 185,
   "id": "36dc6cbf-a2df-4fcf-a2bb-af97acd48773",
   "metadata": {},
   "outputs": [
    {
     "data": {
      "text/html": [
       "<div>\n",
       "<style scoped>\n",
       "    .dataframe tbody tr th:only-of-type {\n",
       "        vertical-align: middle;\n",
       "    }\n",
       "\n",
       "    .dataframe tbody tr th {\n",
       "        vertical-align: top;\n",
       "    }\n",
       "\n",
       "    .dataframe thead th {\n",
       "        text-align: right;\n",
       "    }\n",
       "</style>\n",
       "<table border=\"1\" class=\"dataframe\">\n",
       "  <thead>\n",
       "    <tr style=\"text-align: right;\">\n",
       "      <th></th>\n",
       "      <th>date</th>\n",
       "      <th>age_range</th>\n",
       "      <th>sex</th>\n",
       "      <th>cases_confirmed</th>\n",
       "      <th>hospitalized</th>\n",
       "      <th>icu</th>\n",
       "      <th>deceases</th>\n",
       "    </tr>\n",
       "  </thead>\n",
       "  <tbody>\n",
       "    <tr>\n",
       "      <th>10</th>\n",
       "      <td>2020-03-23</td>\n",
       "      <td>0-9</td>\n",
       "      <td>women</td>\n",
       "      <td>64</td>\n",
       "      <td>15</td>\n",
       "      <td>0</td>\n",
       "      <td>0</td>\n",
       "    </tr>\n",
       "    <tr>\n",
       "      <th>11</th>\n",
       "      <td>2020-03-23</td>\n",
       "      <td>10-19</td>\n",
       "      <td>women</td>\n",
       "      <td>123</td>\n",
       "      <td>10</td>\n",
       "      <td>0</td>\n",
       "      <td>1</td>\n",
       "    </tr>\n",
       "    <tr>\n",
       "      <th>12</th>\n",
       "      <td>2020-03-23</td>\n",
       "      <td>20-29</td>\n",
       "      <td>women</td>\n",
       "      <td>724</td>\n",
       "      <td>78</td>\n",
       "      <td>4</td>\n",
       "      <td>1</td>\n",
       "    </tr>\n",
       "    <tr>\n",
       "      <th>13</th>\n",
       "      <td>2020-03-23</td>\n",
       "      <td>30-39</td>\n",
       "      <td>women</td>\n",
       "      <td>1258</td>\n",
       "      <td>192</td>\n",
       "      <td>7</td>\n",
       "      <td>1</td>\n",
       "    </tr>\n",
       "    <tr>\n",
       "      <th>14</th>\n",
       "      <td>2020-03-23</td>\n",
       "      <td>40-49</td>\n",
       "      <td>women</td>\n",
       "      <td>1487</td>\n",
       "      <td>262</td>\n",
       "      <td>10</td>\n",
       "      <td>3</td>\n",
       "    </tr>\n",
       "    <tr>\n",
       "      <th>...</th>\n",
       "      <td>...</td>\n",
       "      <td>...</td>\n",
       "      <td>...</td>\n",
       "      <td>...</td>\n",
       "      <td>...</td>\n",
       "      <td>...</td>\n",
       "      <td>...</td>\n",
       "    </tr>\n",
       "    <tr>\n",
       "      <th>1873</th>\n",
       "      <td>2020-05-22</td>\n",
       "      <td>60-69</td>\n",
       "      <td>men</td>\n",
       "      <td>18369</td>\n",
       "      <td>10557</td>\n",
       "      <td>1789</td>\n",
       "      <td>1282</td>\n",
       "    </tr>\n",
       "    <tr>\n",
       "      <th>1874</th>\n",
       "      <td>2020-05-22</td>\n",
       "      <td>70-79</td>\n",
       "      <td>men</td>\n",
       "      <td>18414</td>\n",
       "      <td>12377</td>\n",
       "      <td>1525</td>\n",
       "      <td>3321</td>\n",
       "    </tr>\n",
       "    <tr>\n",
       "      <th>1875</th>\n",
       "      <td>2020-05-22</td>\n",
       "      <td>80-89</td>\n",
       "      <td>men</td>\n",
       "      <td>16372</td>\n",
       "      <td>9653</td>\n",
       "      <td>178</td>\n",
       "      <td>4656</td>\n",
       "    </tr>\n",
       "    <tr>\n",
       "      <th>1876</th>\n",
       "      <td>2020-05-22</td>\n",
       "      <td>90 y +</td>\n",
       "      <td>men</td>\n",
       "      <td>5373</td>\n",
       "      <td>2447</td>\n",
       "      <td>22</td>\n",
       "      <td>1683</td>\n",
       "    </tr>\n",
       "    <tr>\n",
       "      <th>1877</th>\n",
       "      <td>2020-05-22</td>\n",
       "      <td>Total</td>\n",
       "      <td>men</td>\n",
       "      <td>106970</td>\n",
       "      <td>51430</td>\n",
       "      <td>5358</td>\n",
       "      <td>11608</td>\n",
       "    </tr>\n",
       "  </tbody>\n",
       "</table>\n",
       "<p>1252 rows × 7 columns</p>\n",
       "</div>"
      ],
      "text/plain": [
       "            date age_range    sex  cases_confirmed  hospitalized   icu  \\\n",
       "10    2020-03-23       0-9  women               64            15     0   \n",
       "11    2020-03-23     10-19  women              123            10     0   \n",
       "12    2020-03-23     20-29  women              724            78     4   \n",
       "13    2020-03-23     30-39  women             1258           192     7   \n",
       "14    2020-03-23     40-49  women             1487           262    10   \n",
       "...          ...       ...    ...              ...           ...   ...   \n",
       "1873  2020-05-22     60-69    men            18369         10557  1789   \n",
       "1874  2020-05-22     70-79    men            18414         12377  1525   \n",
       "1875  2020-05-22     80-89    men            16372          9653   178   \n",
       "1876  2020-05-22    90 y +    men             5373          2447    22   \n",
       "1877  2020-05-22     Total    men           106970         51430  5358   \n",
       "\n",
       "      deceases  \n",
       "10           0  \n",
       "11           1  \n",
       "12           1  \n",
       "13           1  \n",
       "14           3  \n",
       "...        ...  \n",
       "1873      1282  \n",
       "1874      3321  \n",
       "1875      4656  \n",
       "1876      1683  \n",
       "1877     11608  \n",
       "\n",
       "[1252 rows x 7 columns]"
      ]
     },
     "execution_count": 185,
     "metadata": {},
     "output_type": "execute_result"
    }
   ],
   "source": [
    "df.loc[df[\"sex\"] != \"both\"]"
   ]
  },
  {
   "cell_type": "code",
   "execution_count": null,
   "id": "9c82452d-2741-40cb-af47-c86279b26201",
   "metadata": {},
   "outputs": [],
   "source": [
    "age_filter = df[\"age_range\"] != \"Total\""
   ]
  },
  {
   "cell_type": "code",
   "execution_count": 199,
   "id": "4802a502-e7d3-4777-9fec-952eb854d408",
   "metadata": {},
   "outputs": [
    {
     "data": {
      "text/html": [
       "<div>\n",
       "<style scoped>\n",
       "    .dataframe tbody tr th:only-of-type {\n",
       "        vertical-align: middle;\n",
       "    }\n",
       "\n",
       "    .dataframe tbody tr th {\n",
       "        vertical-align: top;\n",
       "    }\n",
       "\n",
       "    .dataframe thead th {\n",
       "        text-align: right;\n",
       "    }\n",
       "</style>\n",
       "<table border=\"1\" class=\"dataframe\">\n",
       "  <thead>\n",
       "    <tr style=\"text-align: right;\">\n",
       "      <th></th>\n",
       "      <th>date</th>\n",
       "      <th>age_range</th>\n",
       "      <th>sex</th>\n",
       "      <th>cases_confirmed</th>\n",
       "      <th>hospitalized</th>\n",
       "      <th>icu</th>\n",
       "      <th>deceases</th>\n",
       "    </tr>\n",
       "  </thead>\n",
       "  <tbody>\n",
       "    <tr>\n",
       "      <th>10</th>\n",
       "      <td>2020-03-23</td>\n",
       "      <td>0-9</td>\n",
       "      <td>women</td>\n",
       "      <td>64</td>\n",
       "      <td>15</td>\n",
       "      <td>0</td>\n",
       "      <td>0</td>\n",
       "    </tr>\n",
       "    <tr>\n",
       "      <th>11</th>\n",
       "      <td>2020-03-23</td>\n",
       "      <td>10-19</td>\n",
       "      <td>women</td>\n",
       "      <td>123</td>\n",
       "      <td>10</td>\n",
       "      <td>0</td>\n",
       "      <td>1</td>\n",
       "    </tr>\n",
       "    <tr>\n",
       "      <th>12</th>\n",
       "      <td>2020-03-23</td>\n",
       "      <td>20-29</td>\n",
       "      <td>women</td>\n",
       "      <td>724</td>\n",
       "      <td>78</td>\n",
       "      <td>4</td>\n",
       "      <td>1</td>\n",
       "    </tr>\n",
       "    <tr>\n",
       "      <th>13</th>\n",
       "      <td>2020-03-23</td>\n",
       "      <td>30-39</td>\n",
       "      <td>women</td>\n",
       "      <td>1258</td>\n",
       "      <td>192</td>\n",
       "      <td>7</td>\n",
       "      <td>1</td>\n",
       "    </tr>\n",
       "    <tr>\n",
       "      <th>14</th>\n",
       "      <td>2020-03-23</td>\n",
       "      <td>40-49</td>\n",
       "      <td>women</td>\n",
       "      <td>1487</td>\n",
       "      <td>262</td>\n",
       "      <td>10</td>\n",
       "      <td>3</td>\n",
       "    </tr>\n",
       "    <tr>\n",
       "      <th>...</th>\n",
       "      <td>...</td>\n",
       "      <td>...</td>\n",
       "      <td>...</td>\n",
       "      <td>...</td>\n",
       "      <td>...</td>\n",
       "      <td>...</td>\n",
       "      <td>...</td>\n",
       "    </tr>\n",
       "    <tr>\n",
       "      <th>1872</th>\n",
       "      <td>2020-05-22</td>\n",
       "      <td>50-59</td>\n",
       "      <td>men</td>\n",
       "      <td>18885</td>\n",
       "      <td>8369</td>\n",
       "      <td>1095</td>\n",
       "      <td>465</td>\n",
       "    </tr>\n",
       "    <tr>\n",
       "      <th>1873</th>\n",
       "      <td>2020-05-22</td>\n",
       "      <td>60-69</td>\n",
       "      <td>men</td>\n",
       "      <td>18369</td>\n",
       "      <td>10557</td>\n",
       "      <td>1789</td>\n",
       "      <td>1282</td>\n",
       "    </tr>\n",
       "    <tr>\n",
       "      <th>1874</th>\n",
       "      <td>2020-05-22</td>\n",
       "      <td>70-79</td>\n",
       "      <td>men</td>\n",
       "      <td>18414</td>\n",
       "      <td>12377</td>\n",
       "      <td>1525</td>\n",
       "      <td>3321</td>\n",
       "    </tr>\n",
       "    <tr>\n",
       "      <th>1875</th>\n",
       "      <td>2020-05-22</td>\n",
       "      <td>80-89</td>\n",
       "      <td>men</td>\n",
       "      <td>16372</td>\n",
       "      <td>9653</td>\n",
       "      <td>178</td>\n",
       "      <td>4656</td>\n",
       "    </tr>\n",
       "    <tr>\n",
       "      <th>1876</th>\n",
       "      <td>2020-05-22</td>\n",
       "      <td>90 y +</td>\n",
       "      <td>men</td>\n",
       "      <td>5373</td>\n",
       "      <td>2447</td>\n",
       "      <td>22</td>\n",
       "      <td>1683</td>\n",
       "    </tr>\n",
       "  </tbody>\n",
       "</table>\n",
       "<p>1138 rows × 7 columns</p>\n",
       "</div>"
      ],
      "text/plain": [
       "            date age_range    sex  cases_confirmed  hospitalized   icu  \\\n",
       "10    2020-03-23       0-9  women               64            15     0   \n",
       "11    2020-03-23     10-19  women              123            10     0   \n",
       "12    2020-03-23     20-29  women              724            78     4   \n",
       "13    2020-03-23     30-39  women             1258           192     7   \n",
       "14    2020-03-23     40-49  women             1487           262    10   \n",
       "...          ...       ...    ...              ...           ...   ...   \n",
       "1872  2020-05-22     50-59    men            18885          8369  1095   \n",
       "1873  2020-05-22     60-69    men            18369         10557  1789   \n",
       "1874  2020-05-22     70-79    men            18414         12377  1525   \n",
       "1875  2020-05-22     80-89    men            16372          9653   178   \n",
       "1876  2020-05-22    90 y +    men             5373          2447    22   \n",
       "\n",
       "      deceases  \n",
       "10           0  \n",
       "11           1  \n",
       "12           1  \n",
       "13           1  \n",
       "14           3  \n",
       "...        ...  \n",
       "1872       465  \n",
       "1873      1282  \n",
       "1874      3321  \n",
       "1875      4656  \n",
       "1876      1683  \n",
       "\n",
       "[1138 rows x 7 columns]"
      ]
     },
     "execution_count": 199,
     "metadata": {},
     "output_type": "execute_result"
    }
   ],
   "source": [
    "df.loc[\n",
    "    (df[\"age_range\"] != \"Total\")\n",
    "    & (df[\"sex\"] != \"both\")\n",
    "]"
   ]
  },
  {
   "cell_type": "code",
   "execution_count": 201,
   "id": "5c1f8fff-1a60-4ad7-858f-cdbe2a45f97f",
   "metadata": {},
   "outputs": [
    {
     "data": {
      "text/html": [
       "<div>\n",
       "<style scoped>\n",
       "    .dataframe tbody tr th:only-of-type {\n",
       "        vertical-align: middle;\n",
       "    }\n",
       "\n",
       "    .dataframe tbody tr th {\n",
       "        vertical-align: top;\n",
       "    }\n",
       "\n",
       "    .dataframe thead th {\n",
       "        text-align: right;\n",
       "    }\n",
       "</style>\n",
       "<table border=\"1\" class=\"dataframe\">\n",
       "  <thead>\n",
       "    <tr style=\"text-align: right;\">\n",
       "      <th></th>\n",
       "      <th>date</th>\n",
       "      <th>age_range</th>\n",
       "      <th>sex</th>\n",
       "      <th>cases_confirmed</th>\n",
       "      <th>hospitalized</th>\n",
       "      <th>icu</th>\n",
       "      <th>deceases</th>\n",
       "    </tr>\n",
       "  </thead>\n",
       "  <tbody>\n",
       "    <tr>\n",
       "      <th>0</th>\n",
       "      <td>2020-03-23</td>\n",
       "      <td>0-9</td>\n",
       "      <td>both</td>\n",
       "      <td>129</td>\n",
       "      <td>34</td>\n",
       "      <td>1</td>\n",
       "      <td>0</td>\n",
       "    </tr>\n",
       "    <tr>\n",
       "      <th>1</th>\n",
       "      <td>2020-03-23</td>\n",
       "      <td>10-19</td>\n",
       "      <td>both</td>\n",
       "      <td>221</td>\n",
       "      <td>15</td>\n",
       "      <td>0</td>\n",
       "      <td>1</td>\n",
       "    </tr>\n",
       "    <tr>\n",
       "      <th>2</th>\n",
       "      <td>2020-03-23</td>\n",
       "      <td>20-29</td>\n",
       "      <td>both</td>\n",
       "      <td>1285</td>\n",
       "      <td>183</td>\n",
       "      <td>8</td>\n",
       "      <td>4</td>\n",
       "    </tr>\n",
       "    <tr>\n",
       "      <th>3</th>\n",
       "      <td>2020-03-23</td>\n",
       "      <td>30-39</td>\n",
       "      <td>both</td>\n",
       "      <td>2208</td>\n",
       "      <td>365</td>\n",
       "      <td>15</td>\n",
       "      <td>3</td>\n",
       "    </tr>\n",
       "    <tr>\n",
       "      <th>4</th>\n",
       "      <td>2020-03-23</td>\n",
       "      <td>40-49</td>\n",
       "      <td>both</td>\n",
       "      <td>2919</td>\n",
       "      <td>663</td>\n",
       "      <td>40</td>\n",
       "      <td>9</td>\n",
       "    </tr>\n",
       "  </tbody>\n",
       "</table>\n",
       "</div>"
      ],
      "text/plain": [
       "         date age_range   sex  cases_confirmed  hospitalized  icu  deceases\n",
       "0  2020-03-23       0-9  both              129            34    1         0\n",
       "1  2020-03-23     10-19  both              221            15    0         1\n",
       "2  2020-03-23     20-29  both             1285           183    8         4\n",
       "3  2020-03-23     30-39  both             2208           365   15         3\n",
       "4  2020-03-23     40-49  both             2919           663   40         9"
      ]
     },
     "execution_count": 201,
     "metadata": {},
     "output_type": "execute_result"
    }
   ],
   "source": [
    "# Two ways of doing exactly the same\n",
    "# df.loc[~(df[\"age_range\"] == \"Total\")]\n",
    "no_total = df.loc[df[\"age_range\"] != \"Total\"]\n",
    "no_total.head()"
   ]
  },
  {
   "cell_type": "code",
   "execution_count": 207,
   "id": "4d6b57ed-d4b4-4fb9-802a-b3afa98f7d6e",
   "metadata": {},
   "outputs": [
    {
     "data": {
      "text/html": [
       "<div>\n",
       "<style scoped>\n",
       "    .dataframe tbody tr th:only-of-type {\n",
       "        vertical-align: middle;\n",
       "    }\n",
       "\n",
       "    .dataframe tbody tr th {\n",
       "        vertical-align: top;\n",
       "    }\n",
       "\n",
       "    .dataframe thead tr th {\n",
       "        text-align: left;\n",
       "    }\n",
       "\n",
       "    .dataframe thead tr:last-of-type th {\n",
       "        text-align: right;\n",
       "    }\n",
       "</style>\n",
       "<table border=\"1\" class=\"dataframe\">\n",
       "  <thead>\n",
       "    <tr>\n",
       "      <th></th>\n",
       "      <th>deceases</th>\n",
       "      <th colspan=\"2\" halign=\"left\">icu</th>\n",
       "    </tr>\n",
       "    <tr>\n",
       "      <th></th>\n",
       "      <th>median</th>\n",
       "      <th>mean</th>\n",
       "      <th>std</th>\n",
       "    </tr>\n",
       "    <tr>\n",
       "      <th>sex</th>\n",
       "      <th></th>\n",
       "      <th></th>\n",
       "      <th></th>\n",
       "    </tr>\n",
       "  </thead>\n",
       "  <tbody>\n",
       "    <tr>\n",
       "      <th>both</th>\n",
       "      <td>164</td>\n",
       "      <td>527.031634</td>\n",
       "      <td>722.204778</td>\n",
       "    </tr>\n",
       "    <tr>\n",
       "      <th>men</th>\n",
       "      <td>102</td>\n",
       "      <td>367.586995</td>\n",
       "      <td>516.064158</td>\n",
       "    </tr>\n",
       "    <tr>\n",
       "      <th>women</th>\n",
       "      <td>54</td>\n",
       "      <td>167.541301</td>\n",
       "      <td>214.859040</td>\n",
       "    </tr>\n",
       "  </tbody>\n",
       "</table>\n",
       "</div>"
      ],
      "text/plain": [
       "      deceases         icu            \n",
       "        median        mean         std\n",
       "sex                                   \n",
       "both       164  527.031634  722.204778\n",
       "men        102  367.586995  516.064158\n",
       "women       54  167.541301  214.859040"
      ]
     },
     "execution_count": 207,
     "metadata": {},
     "output_type": "execute_result"
    }
   ],
   "source": [
    "no_total.groupby(\"sex\").agg({\"deceases\": \"median\", \"icu\": [\"mean\", \"std\"]})#[\"deceases\"]"
   ]
  },
  {
   "cell_type": "code",
   "execution_count": 203,
   "id": "682a5d78-a54b-4b30-994a-2a112f6ba4b4",
   "metadata": {},
   "outputs": [
    {
     "data": {
      "text/html": [
       "<div>\n",
       "<style scoped>\n",
       "    .dataframe tbody tr th:only-of-type {\n",
       "        vertical-align: middle;\n",
       "    }\n",
       "\n",
       "    .dataframe tbody tr th {\n",
       "        vertical-align: top;\n",
       "    }\n",
       "\n",
       "    .dataframe thead th {\n",
       "        text-align: right;\n",
       "    }\n",
       "</style>\n",
       "<table border=\"1\" class=\"dataframe\">\n",
       "  <thead>\n",
       "    <tr style=\"text-align: right;\">\n",
       "      <th></th>\n",
       "      <th>cases_confirmed</th>\n",
       "      <th>hospitalized</th>\n",
       "      <th>icu</th>\n",
       "      <th>deceases</th>\n",
       "    </tr>\n",
       "    <tr>\n",
       "      <th>sex</th>\n",
       "      <th></th>\n",
       "      <th></th>\n",
       "      <th></th>\n",
       "      <th></th>\n",
       "    </tr>\n",
       "  </thead>\n",
       "  <tbody>\n",
       "    <tr>\n",
       "      <th>both</th>\n",
       "      <td>14703.783831</td>\n",
       "      <td>6127.442882</td>\n",
       "      <td>527.031634</td>\n",
       "      <td>1128.806678</td>\n",
       "    </tr>\n",
       "    <tr>\n",
       "      <th>men</th>\n",
       "      <td>6623.818981</td>\n",
       "      <td>3517.311072</td>\n",
       "      <td>367.586995</td>\n",
       "      <td>663.927944</td>\n",
       "    </tr>\n",
       "    <tr>\n",
       "      <th>women</th>\n",
       "      <td>8074.978910</td>\n",
       "      <td>2657.857645</td>\n",
       "      <td>167.541301</td>\n",
       "      <td>466.022847</td>\n",
       "    </tr>\n",
       "  </tbody>\n",
       "</table>\n",
       "</div>"
      ],
      "text/plain": [
       "       cases_confirmed  hospitalized         icu     deceases\n",
       "sex                                                          \n",
       "both      14703.783831   6127.442882  527.031634  1128.806678\n",
       "men        6623.818981   3517.311072  367.586995   663.927944\n",
       "women      8074.978910   2657.857645  167.541301   466.022847"
      ]
     },
     "execution_count": 203,
     "metadata": {},
     "output_type": "execute_result"
    }
   ],
   "source": [
    "df.loc[df[\"age_range\"] != \"Total\"].groupby(\"sex\").mean()"
   ]
  },
  {
   "cell_type": "code",
   "execution_count": null,
   "id": "a778b293-fa85-45d3-94b7-fa892b274ebf",
   "metadata": {},
   "outputs": [],
   "source": []
  }
 ],
 "metadata": {
  "kernelspec": {
   "display_name": "Python 3",
   "language": "python",
   "name": "python3"
  },
  "language_info": {
   "codemirror_mode": {
    "name": "ipython",
    "version": 3
   },
   "file_extension": ".py",
   "mimetype": "text/x-python",
   "name": "python",
   "nbconvert_exporter": "python",
   "pygments_lexer": "ipython3",
   "version": "3.8.8"
  }
 },
 "nbformat": 4,
 "nbformat_minor": 5
}
