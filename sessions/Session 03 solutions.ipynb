{
 "cells": [
  {
   "cell_type": "code",
   "execution_count": 1,
   "id": "e834b4e3-988f-4c9e-af7a-60c49f378a45",
   "metadata": {
    "execution": {
     "iopub.execute_input": "2022-10-14T17:05:27.795712Z",
     "iopub.status.busy": "2022-10-14T17:05:27.795598Z",
     "iopub.status.idle": "2022-10-14T17:05:27.805089Z",
     "shell.execute_reply": "2022-10-14T17:05:27.804651Z",
     "shell.execute_reply.started": "2022-10-14T17:05:27.795662Z"
    }
   },
   "outputs": [
    {
     "name": "stdout",
     "output_type": "stream",
     "text": [
      "1 2 Fizz 4 Buzz Fizz 7 8 Fizz Buzz 11 Fizz 13 14 FizzBuzz 16 17 Fizz 19 Buzz Fizz 22 23 Fizz Buzz 26 Fizz 28 29 FizzBuzz 31 32 Fizz 34 Buzz Fizz 37 38 Fizz Buzz 41 Fizz 43 44 FizzBuzz 46 47 Fizz 49 Buzz Fizz 52 53 Fizz Buzz 56 Fizz 58 59 FizzBuzz 61 62 Fizz 64 Buzz Fizz 67 68 Fizz Buzz 71 Fizz 73 74 FizzBuzz 76 77 Fizz 79 Buzz Fizz 82 83 Fizz Buzz 86 Fizz 88 89 FizzBuzz 91 92 Fizz 94 Buzz Fizz 97 98 Fizz Buzz "
     ]
    }
   ],
   "source": [
    "for number in range(1, 101):\n",
    "    if (number % 3 == 0) and (number % 5 == 0):\n",
    "        print(\"FizzBuzz\", end=\" \")\n",
    "    elif number % 3 == 0:\n",
    "        print(\"Fizz\", end=\" \")\n",
    "    elif number % 5 == 0:\n",
    "        print(\"Buzz\", end=\" \")\n",
    "    else:\n",
    "        print(number, end=\" \")"
   ]
  },
  {
   "cell_type": "markdown",
   "id": "cc1566f4-6b88-44a9-9903-89c53051ce86",
   "metadata": {},
   "source": [
    "<div class=\"alert alert-warning\">Starting with <code>if number % 3 == 0</code> might lead to incorrect logic if the \"divisible by 3 <em>and</em> 5\" condition is never checked. There are several ways of doing this exercise, but this is probably the simplest.</div>"
   ]
  },
  {
   "cell_type": "code",
   "execution_count": 2,
   "id": "036634ca-538f-482c-9954-cc3c936961a7",
   "metadata": {
    "execution": {
     "iopub.execute_input": "2022-10-14T17:05:27.805605Z",
     "iopub.status.busy": "2022-10-14T17:05:27.805456Z",
     "iopub.status.idle": "2022-10-14T17:05:27.845176Z",
     "shell.execute_reply": "2022-10-14T17:05:27.844896Z",
     "shell.execute_reply.started": "2022-10-14T17:05:27.805589Z"
    }
   },
   "outputs": [],
   "source": [
    "clients = [\n",
    "    (1, 40, \"male\", 10.2),\n",
    "    (2, 50, \"female\", 5.4),\n",
    "    (3, 23, \"female\", 8.0),\n",
    "    (4, 18, \"male\", 2.5),\n",
    "]"
   ]
  },
  {
   "cell_type": "code",
   "execution_count": 3,
   "id": "b77a8ca2-bf02-46bb-8c3e-b7e5afd500d5",
   "metadata": {
    "execution": {
     "iopub.execute_input": "2022-10-14T17:05:27.846029Z",
     "iopub.status.busy": "2022-10-14T17:05:27.845848Z",
     "iopub.status.idle": "2022-10-14T17:05:27.848582Z",
     "shell.execute_reply": "2022-10-14T17:05:27.848351Z",
     "shell.execute_reply.started": "2022-10-14T17:05:27.846018Z"
    },
    "tags": []
   },
   "outputs": [
    {
     "name": "stdout",
     "output_type": "stream",
     "text": [
      "User 3 belongs to group 1\n"
     ]
    }
   ],
   "source": [
    "for client in clients:\n",
    "    id_, age, sex, consumption = client\n",
    "    if (((sex == \"female\") and (20 <= age <= 25)) or (age < 20)) and consumption > 5:\n",
    "        print(\"User \" + str(id_) + \" belongs to group 1\")\n",
    "    if ((sex == \"male\") and (35 <= age <= 45) and (2 <= consumption <= 5)) or (\n",
    "        (sex == \"female\") and (30 <= age <= 40) and (3 <= consumption <= 8)\n",
    "    ):\n",
    "        print(\"User \" + str(id_) + \" belongs to group 2\")"
   ]
  },
  {
   "cell_type": "markdown",
   "id": "47c17fc1-3bba-4495-b899-bdd02526bafe",
   "metadata": {},
   "source": [
    "<div class=\"alert alert-warning\">Doing <code>for i in range(len(clients))</code> results in more difficult to understand code. Also, one-letter variable names are discouraged.</div>"
   ]
  },
  {
   "cell_type": "markdown",
   "id": "4efebdfc-f545-470e-9b48-4e1a6507a3d1",
   "metadata": {},
   "source": [
    "<div class=\"alert alert-info\">Alternative ways: accumulating the groups in a list (to be able to print \"User 1 does not belong to any group\"), use <code>client[0], client[1]</code> rather than <code>id_, age, ... = client</code>, possibly others.</div>"
   ]
  },
  {
   "cell_type": "code",
   "execution_count": 4,
   "id": "5ae886e1-3cbf-421f-9464-3e903cab3436",
   "metadata": {
    "execution": {
     "iopub.execute_input": "2022-10-14T17:05:27.848974Z",
     "iopub.status.busy": "2022-10-14T17:05:27.848909Z",
     "iopub.status.idle": "2022-10-14T17:05:27.851064Z",
     "shell.execute_reply": "2022-10-14T17:05:27.850773Z",
     "shell.execute_reply.started": "2022-10-14T17:05:27.848966Z"
    },
    "tags": []
   },
   "outputs": [],
   "source": [
    "ages = []\n",
    "consumptions = []\n",
    "\n",
    "for client in clients:\n",
    "    ages.append(client[1])\n",
    "    consumptions.append(client[3])"
   ]
  },
  {
   "cell_type": "code",
   "execution_count": 5,
   "id": "713ef0b1-611c-476f-9860-b7050d546924",
   "metadata": {
    "execution": {
     "iopub.execute_input": "2022-10-14T17:05:27.851535Z",
     "iopub.status.busy": "2022-10-14T17:05:27.851435Z",
     "iopub.status.idle": "2022-10-14T17:05:27.856125Z",
     "shell.execute_reply": "2022-10-14T17:05:27.855865Z",
     "shell.execute_reply.started": "2022-10-14T17:05:27.851525Z"
    }
   },
   "outputs": [
    {
     "data": {
      "text/plain": [
       "32.75"
      ]
     },
     "execution_count": 5,
     "metadata": {},
     "output_type": "execute_result"
    }
   ],
   "source": [
    "average_age = sum(ages) / len(ages)\n",
    "average_age"
   ]
  },
  {
   "cell_type": "code",
   "execution_count": 6,
   "id": "9c6b459a-e5ee-4b9d-977f-10275a767773",
   "metadata": {
    "execution": {
     "iopub.execute_input": "2022-10-14T17:05:27.856630Z",
     "iopub.status.busy": "2022-10-14T17:05:27.856538Z",
     "iopub.status.idle": "2022-10-14T17:05:27.859926Z",
     "shell.execute_reply": "2022-10-14T17:05:27.859704Z",
     "shell.execute_reply.started": "2022-10-14T17:05:27.856620Z"
    },
    "tags": []
   },
   "outputs": [
    {
     "data": {
      "text/plain": [
       "6.7"
      ]
     },
     "execution_count": 6,
     "metadata": {},
     "output_type": "execute_result"
    }
   ],
   "source": [
    "# Median: https://en.wikipedia.org/wiki/Median#Finite_data_set_of_numbers\n",
    "len_consumptions = len(consumptions)\n",
    "consumptions_sorted = sorted(consumptions)\n",
    "\n",
    "if len_consumptions % 2 == 0:\n",
    "    mid_left_index = len_consumptions // 2 - 1\n",
    "    median_consumption = (consumptions_sorted[mid_left_index] + consumptions_sorted[mid_left_index + 1]) / 2\n",
    "else:\n",
    "    mid_index = (len_consumptions + 1) // 2 - 1\n",
    "    median_consumption = consumptions_sorted[mid_index]\n",
    "\n",
    "median_consumption"
   ]
  },
  {
   "cell_type": "code",
   "execution_count": 7,
   "id": "8e64dc5a-529c-4fe8-86a3-21bc4923d392",
   "metadata": {
    "execution": {
     "iopub.execute_input": "2022-10-14T17:05:27.860432Z",
     "iopub.status.busy": "2022-10-14T17:05:27.860271Z",
     "iopub.status.idle": "2022-10-14T17:05:27.862590Z",
     "shell.execute_reply": "2022-10-14T17:05:27.862358Z",
     "shell.execute_reply.started": "2022-10-14T17:05:27.860422Z"
    },
    "tags": []
   },
   "outputs": [],
   "source": [
    "from statistics import mean, median"
   ]
  },
  {
   "cell_type": "code",
   "execution_count": 8,
   "id": "6a88252e-eea6-462b-934e-82b70c91f68b",
   "metadata": {
    "execution": {
     "iopub.execute_input": "2022-10-14T17:05:27.863148Z",
     "iopub.status.busy": "2022-10-14T17:05:27.862934Z",
     "iopub.status.idle": "2022-10-14T17:05:27.865143Z",
     "shell.execute_reply": "2022-10-14T17:05:27.864940Z",
     "shell.execute_reply.started": "2022-10-14T17:05:27.863138Z"
    },
    "tags": []
   },
   "outputs": [
    {
     "data": {
      "text/plain": [
       "32.75"
      ]
     },
     "execution_count": 8,
     "metadata": {},
     "output_type": "execute_result"
    }
   ],
   "source": [
    "mean(ages)"
   ]
  },
  {
   "cell_type": "code",
   "execution_count": 9,
   "id": "901febeb-1023-4cef-8216-07b4933bc23a",
   "metadata": {
    "execution": {
     "iopub.execute_input": "2022-10-14T17:05:27.865523Z",
     "iopub.status.busy": "2022-10-14T17:05:27.865455Z",
     "iopub.status.idle": "2022-10-14T17:05:27.867619Z",
     "shell.execute_reply": "2022-10-14T17:05:27.867385Z",
     "shell.execute_reply.started": "2022-10-14T17:05:27.865515Z"
    },
    "tags": []
   },
   "outputs": [
    {
     "data": {
      "text/plain": [
       "6.7"
      ]
     },
     "execution_count": 9,
     "metadata": {},
     "output_type": "execute_result"
    }
   ],
   "source": [
    "median(consumptions)"
   ]
  }
 ],
 "metadata": {
  "kernelspec": {
   "display_name": "Python 3 (ipykernel)",
   "language": "python",
   "name": "python3"
  },
  "language_info": {
   "codemirror_mode": {
    "name": "ipython",
    "version": 3
   },
   "file_extension": ".py",
   "mimetype": "text/x-python",
   "name": "python",
   "nbconvert_exporter": "python",
   "pygments_lexer": "ipython3",
   "version": "3.9.12"
  }
 },
 "nbformat": 4,
 "nbformat_minor": 5
}
