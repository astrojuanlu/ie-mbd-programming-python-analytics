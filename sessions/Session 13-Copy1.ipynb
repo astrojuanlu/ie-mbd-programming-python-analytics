{
 "cells": [
  {
   "cell_type": "markdown",
   "id": "ab69db94-c7d0-4b31-9bc0-aae9c708bf60",
   "metadata": {},
   "source": [
    "## Data\n",
    "\n",
    "Use `twitter_data.json` from previous sessions."
   ]
  },
  {
   "cell_type": "code",
   "execution_count": 1,
   "id": "5ba24244-ab99-4492-bd60-bf0db36d3771",
   "metadata": {},
   "outputs": [
    {
     "name": "stdout",
     "output_type": "stream",
     "text": [
      "<class 'list'> 9\n"
     ]
    }
   ],
   "source": [
    "import requests\n",
    "\n",
    "DATA_URL = (\n",
    "    \"https://github.com/astrojuanlu/ie-mbd-python-data-analysis-i/\"\n",
    "    \"raw/main/data/twitter_data.json\"\n",
    ")\n",
    "\n",
    "data = requests.get(DATA_URL).json()\n",
    "print(type(data), len(data))"
   ]
  },
  {
   "cell_type": "code",
   "execution_count": 2,
   "id": "4bd27423-c462-404c-8f7d-01afc21f4246",
   "metadata": {},
   "outputs": [],
   "source": [
    "t0 = data[0]"
   ]
  },
  {
   "cell_type": "code",
   "execution_count": 3,
   "id": "13fd0ee2-5716-4345-a6aa-738ebd8492bf",
   "metadata": {},
   "outputs": [
    {
     "data": {
      "text/plain": [
       "{'created_at': 'Wed Apr 22 06:04:57 +0000 2020',\n",
       " 'id': 1252840795737997317,\n",
       " 'id_str': '1252840795737997317',\n",
       " 'text': 'Tennis a la Balboa.\\n\\n#balboaisland #newportbeach #tennis #covid_19 #coronavirus #orangecounty #california… https://t.co/px1GCH1bgZ',\n",
       " 'truncated': True,\n",
       " 'entities': {'hashtags': [{'text': 'balboaisland', 'indices': [21, 34]},\n",
       "   {'text': 'newportbeach', 'indices': [35, 48]},\n",
       "   {'text': 'tennis', 'indices': [49, 56]},\n",
       "   {'text': 'covid_19', 'indices': [57, 66]},\n",
       "   {'text': 'coronavirus', 'indices': [67, 79]},\n",
       "   {'text': 'orangecounty', 'indices': [80, 93]},\n",
       "   {'text': 'california', 'indices': [94, 105]}],\n",
       "  'symbols': [],\n",
       "  'user_mentions': [],\n",
       "  'urls': [{'url': 'https://t.co/px1GCH1bgZ',\n",
       "    'expanded_url': 'https://twitter.com/i/web/status/1252840795737997317',\n",
       "    'display_url': 'twitter.com/i/web/status/1…',\n",
       "    'indices': [107, 130]}]},\n",
       " 'source': '<a href=\"http://instagram.com\" rel=\"nofollow\">Instagram</a>',\n",
       " 'in_reply_to_status_id': None,\n",
       " 'in_reply_to_status_id_str': None,\n",
       " 'in_reply_to_user_id': None,\n",
       " 'in_reply_to_user_id_str': None,\n",
       " 'in_reply_to_screen_name': None,\n",
       " 'user': {'id': 49263812,\n",
       "  'id_str': '49263812',\n",
       "  'name': 'Joe',\n",
       "  'screen_name': 'JoesNews_',\n",
       "  'location': 'Istanbul Turkey',\n",
       "  'description': 'XCNN cameraman. Traveling around the world, capturing images of interesting people and places along the way.',\n",
       "  'url': None,\n",
       "  'entities': {'description': {'urls': []}},\n",
       "  'protected': False,\n",
       "  'followers_count': 46,\n",
       "  'friends_count': 172,\n",
       "  'listed_count': 0,\n",
       "  'created_at': 'Sun Jun 21 07:42:43 +0000 2009',\n",
       "  'favourites_count': 16,\n",
       "  'utc_offset': None,\n",
       "  'time_zone': None,\n",
       "  'geo_enabled': True,\n",
       "  'verified': False,\n",
       "  'statuses_count': 139,\n",
       "  'lang': None,\n",
       "  'contributors_enabled': False,\n",
       "  'is_translator': False,\n",
       "  'is_translation_enabled': False,\n",
       "  'profile_background_color': 'C0DEED',\n",
       "  'profile_background_image_url': 'http://abs.twimg.com/images/themes/theme1/bg.png',\n",
       "  'profile_background_image_url_https': 'https://abs.twimg.com/images/themes/theme1/bg.png',\n",
       "  'profile_background_tile': False,\n",
       "  'profile_image_url': 'http://pbs.twimg.com/profile_images/1261474596244480000/aFAGor7C_normal.jpg',\n",
       "  'profile_image_url_https': 'https://pbs.twimg.com/profile_images/1261474596244480000/aFAGor7C_normal.jpg',\n",
       "  'profile_banner_url': 'https://pbs.twimg.com/profile_banners/49263812/1589594278',\n",
       "  'profile_link_color': '1DA1F2',\n",
       "  'profile_sidebar_border_color': 'C0DEED',\n",
       "  'profile_sidebar_fill_color': 'DDEEF6',\n",
       "  'profile_text_color': '333333',\n",
       "  'profile_use_background_image': True,\n",
       "  'has_extended_profile': True,\n",
       "  'default_profile': True,\n",
       "  'default_profile_image': False,\n",
       "  'following': False,\n",
       "  'follow_request_sent': False,\n",
       "  'notifications': False,\n",
       "  'translator_type': 'none',\n",
       "  'withheld_in_countries': []},\n",
       " 'geo': {'type': 'Point', 'coordinates': [33.606389, -117.894444]},\n",
       " 'coordinates': {'type': 'Point', 'coordinates': [-117.894444, 33.606389]},\n",
       " 'place': {'id': '0ce4c27ce26030aa',\n",
       "  'url': 'https://api.twitter.com/1.1/geo/id/0ce4c27ce26030aa.json',\n",
       "  'place_type': 'city',\n",
       "  'name': 'Newport Beach',\n",
       "  'full_name': 'Newport Beach, CA',\n",
       "  'country_code': 'US',\n",
       "  'country': 'United States',\n",
       "  'contained_within': [],\n",
       "  'bounding_box': {'type': 'Polygon',\n",
       "   'coordinates': [[[-117.9582193, 33.563618],\n",
       "     [-117.789845, 33.563618],\n",
       "     [-117.789845, 33.671658],\n",
       "     [-117.9582193, 33.671658]]]},\n",
       "  'attributes': {}},\n",
       " 'contributors': None,\n",
       " 'is_quote_status': False,\n",
       " 'retweet_count': 0,\n",
       " 'favorite_count': 0,\n",
       " 'favorited': False,\n",
       " 'retweeted': False,\n",
       " 'possibly_sensitive': False,\n",
       " 'lang': 'en'}"
      ]
     },
     "execution_count": 3,
     "metadata": {},
     "output_type": "execute_result"
    }
   ],
   "source": [
    "t0"
   ]
  },
  {
   "cell_type": "markdown",
   "id": "a3d51d78-ac3b-482c-92c6-e30427e45313",
   "metadata": {},
   "source": [
    "## Exercises\n",
    "\n",
    "### 1. Most popular user\n",
    "\n",
    "What's the tweet made by the user with the largest number of followers? And what if we exclude those without hashtags?\n",
    "\n",
    "Try to write the solution in two ways:\n",
    "\n",
    "- Using `for` loops and normal `if` conditionals\n",
    "- Using `lambda` functions and Python built-ins (`min`, `max`, `filter`)"
   ]
  },
  {
   "cell_type": "code",
   "execution_count": 4,
   "id": "72fceee0-15bc-487f-b814-7f15c9928d5c",
   "metadata": {},
   "outputs": [
    {
     "data": {
      "text/plain": [
       "46"
      ]
     },
     "execution_count": 4,
     "metadata": {},
     "output_type": "execute_result"
    }
   ],
   "source": [
    "t0[\"user\"][\"followers_count\"]"
   ]
  },
  {
   "cell_type": "code",
   "execution_count": 11,
   "id": "9c5ed2f6-f69e-4b3f-8abc-bc9b5d5fb10e",
   "metadata": {
    "scrolled": true,
    "tags": []
   },
   "outputs": [
    {
     "data": {
      "text/plain": [
       "{'created_at': 'Thu May 07 09:55:28 +0000 2020',\n",
       " 'id': 1258334628345044992,\n",
       " 'id_str': '1258334628345044992',\n",
       " 'text': '#COVID19 vs #Protesters https://t.co/UT7oW2KcGU',\n",
       " 'truncated': False,\n",
       " 'entities': {'hashtags': [{'text': 'COVID19', 'indices': [0, 8]},\n",
       "   {'text': 'Protesters', 'indices': [12, 23]}],\n",
       "  'symbols': [],\n",
       "  'user_mentions': [],\n",
       "  'urls': [{'url': 'https://t.co/UT7oW2KcGU',\n",
       "    'expanded_url': 'https://twitter.com/ElTrumpo/status/1258289496921079810',\n",
       "    'display_url': 'twitter.com/ElTrumpo/statu…',\n",
       "    'indices': [24, 47]}]},\n",
       " 'source': '<a href=\"http://twitter.com/download/android\" rel=\"nofollow\">Twitter for Android</a>',\n",
       " 'in_reply_to_status_id': None,\n",
       " 'in_reply_to_status_id_str': None,\n",
       " 'in_reply_to_user_id': None,\n",
       " 'in_reply_to_user_id_str': None,\n",
       " 'in_reply_to_screen_name': None,\n",
       " 'user': {'id': 61370039,\n",
       "  'id_str': '61370039',\n",
       "  'name': '#1PainInTheAssFan',\n",
       "  'screen_name': 'hernandezsteve',\n",
       "  'location': 'Dixon, CA',\n",
       "  'description': 'full time mail man, full time Husband and Father, part time philosopher. Listen to @guysfromwitchita https://t.co/PWuZkGjNeF',\n",
       "  'url': None,\n",
       "  'entities': {'description': {'urls': [{'url': 'https://t.co/PWuZkGjNeF',\n",
       "      'expanded_url': 'http://thoseguysfromwichita.com',\n",
       "      'display_url': 'thoseguysfromwichita.com',\n",
       "      'indices': [101, 124]}]}},\n",
       "  'protected': False,\n",
       "  'followers_count': 622,\n",
       "  'friends_count': 664,\n",
       "  'listed_count': 38,\n",
       "  'created_at': 'Thu Jul 30 02:47:51 +0000 2009',\n",
       "  'favourites_count': 14309,\n",
       "  'utc_offset': None,\n",
       "  'time_zone': None,\n",
       "  'geo_enabled': True,\n",
       "  'verified': False,\n",
       "  'statuses_count': 60766,\n",
       "  'lang': None,\n",
       "  'contributors_enabled': False,\n",
       "  'is_translator': False,\n",
       "  'is_translation_enabled': False,\n",
       "  'profile_background_color': '89D662',\n",
       "  'profile_background_image_url': 'http://abs.twimg.com/images/themes/theme1/bg.png',\n",
       "  'profile_background_image_url_https': 'https://abs.twimg.com/images/themes/theme1/bg.png',\n",
       "  'profile_background_tile': False,\n",
       "  'profile_image_url': 'http://pbs.twimg.com/profile_images/1201514105065992192/lnjKLDOZ_normal.jpg',\n",
       "  'profile_image_url_https': 'https://pbs.twimg.com/profile_images/1201514105065992192/lnjKLDOZ_normal.jpg',\n",
       "  'profile_banner_url': 'https://pbs.twimg.com/profile_banners/61370039/1534423597',\n",
       "  'profile_link_color': '9E1965',\n",
       "  'profile_sidebar_border_color': 'D3ED0E',\n",
       "  'profile_sidebar_fill_color': 'ECF0D1',\n",
       "  'profile_text_color': 'E89954',\n",
       "  'profile_use_background_image': True,\n",
       "  'has_extended_profile': True,\n",
       "  'default_profile': False,\n",
       "  'default_profile_image': False,\n",
       "  'following': False,\n",
       "  'follow_request_sent': False,\n",
       "  'notifications': False,\n",
       "  'translator_type': 'none',\n",
       "  'withheld_in_countries': []},\n",
       " 'geo': None,\n",
       " 'coordinates': None,\n",
       " 'place': {'id': '0941c439c73f4f7b',\n",
       "  'url': 'https://api.twitter.com/1.1/geo/id/0941c439c73f4f7b.json',\n",
       "  'place_type': 'city',\n",
       "  'name': 'Dixon',\n",
       "  'full_name': 'Dixon, CA',\n",
       "  'country_code': 'US',\n",
       "  'country': 'United States',\n",
       "  'contained_within': [],\n",
       "  'bounding_box': {'type': 'Polygon',\n",
       "   'coordinates': [[[-121.862342, 38.421895],\n",
       "     [-121.805679, 38.421895],\n",
       "     [-121.805679, 38.473182],\n",
       "     [-121.862342, 38.473182]]]},\n",
       "  'attributes': {}},\n",
       " 'contributors': None,\n",
       " 'is_quote_status': True,\n",
       " 'quoted_status_id': 1258289496921079810,\n",
       " 'quoted_status_id_str': '1258289496921079810',\n",
       " 'retweet_count': 0,\n",
       " 'favorite_count': 0,\n",
       " 'favorited': False,\n",
       " 'retweeted': False,\n",
       " 'possibly_sensitive': False,\n",
       " 'lang': 'und'}"
      ]
     },
     "execution_count": 11,
     "metadata": {},
     "output_type": "execute_result"
    }
   ],
   "source": [
    "max(filter(lambda t: len(t[\"entities\"][\"hashtags\"]) > 0, data), key=lambda t: t[\"user\"][\"followers_count\"])"
   ]
  },
  {
   "cell_type": "code",
   "execution_count": 8,
   "id": "18deec1e-86a2-4760-b95b-ebc6f1dac913",
   "metadata": {
    "scrolled": true,
    "tags": []
   },
   "outputs": [
    {
     "data": {
      "text/plain": [
       "{'created_at': 'Wed May 06 23:12:47 +0000 2020',\n",
       " 'id': 1258172892077912064,\n",
       " 'id_str': '1258172892077912064',\n",
       " 'text': 'CoVid coming at 2020 like https://t.co/iLHv2SrW5B',\n",
       " 'truncated': False,\n",
       " 'entities': {'hashtags': [],\n",
       "  'symbols': [],\n",
       "  'user_mentions': [],\n",
       "  'urls': [{'url': 'https://t.co/iLHv2SrW5B',\n",
       "    'expanded_url': 'https://twitter.com/RexChapman/status/1257781893644333067',\n",
       "    'display_url': 'twitter.com/RexChapman/sta…',\n",
       "    'indices': [26, 49]}]},\n",
       " 'source': '<a href=\"http://twitter.com/download/iphone\" rel=\"nofollow\">Twitter for iPhone</a>',\n",
       " 'in_reply_to_status_id': None,\n",
       " 'in_reply_to_status_id_str': None,\n",
       " 'in_reply_to_user_id': None,\n",
       " 'in_reply_to_user_id_str': None,\n",
       " 'in_reply_to_screen_name': None,\n",
       " 'user': {'id': 15022532,\n",
       "  'id_str': '15022532',\n",
       "  'name': 'jonny umansky',\n",
       "  'screen_name': 'jonnyumansky',\n",
       "  'location': 'Los Angeles, CA',\n",
       "  'description': 'Writer / Producer / Romcom Revivalist',\n",
       "  'url': 'https://t.co/xsBubDsKC9',\n",
       "  'entities': {'url': {'urls': [{'url': 'https://t.co/xsBubDsKC9',\n",
       "      'expanded_url': 'http://instgram.com/jonnyumansky',\n",
       "      'display_url': 'instgram.com/jonnyumansky',\n",
       "      'indices': [0, 23]}]},\n",
       "   'description': {'urls': []}},\n",
       "  'protected': False,\n",
       "  'followers_count': 2075,\n",
       "  'friends_count': 483,\n",
       "  'listed_count': 46,\n",
       "  'created_at': 'Thu Jun 05 19:52:31 +0000 2008',\n",
       "  'favourites_count': 79429,\n",
       "  'utc_offset': None,\n",
       "  'time_zone': None,\n",
       "  'geo_enabled': True,\n",
       "  'verified': True,\n",
       "  'statuses_count': 1271,\n",
       "  'lang': None,\n",
       "  'contributors_enabled': False,\n",
       "  'is_translator': False,\n",
       "  'is_translation_enabled': False,\n",
       "  'profile_background_color': '000000',\n",
       "  'profile_background_image_url': 'http://abs.twimg.com/images/themes/theme15/bg.png',\n",
       "  'profile_background_image_url_https': 'https://abs.twimg.com/images/themes/theme15/bg.png',\n",
       "  'profile_background_tile': False,\n",
       "  'profile_image_url': 'http://pbs.twimg.com/profile_images/1165048152799379456/v6zJZ9lT_normal.jpg',\n",
       "  'profile_image_url_https': 'https://pbs.twimg.com/profile_images/1165048152799379456/v6zJZ9lT_normal.jpg',\n",
       "  'profile_banner_url': 'https://pbs.twimg.com/profile_banners/15022532/1398193827',\n",
       "  'profile_link_color': '1B95E0',\n",
       "  'profile_sidebar_border_color': '000000',\n",
       "  'profile_sidebar_fill_color': '000000',\n",
       "  'profile_text_color': '000000',\n",
       "  'profile_use_background_image': False,\n",
       "  'has_extended_profile': True,\n",
       "  'default_profile': False,\n",
       "  'default_profile_image': False,\n",
       "  'following': False,\n",
       "  'follow_request_sent': False,\n",
       "  'notifications': False,\n",
       "  'translator_type': 'none',\n",
       "  'withheld_in_countries': []},\n",
       " 'geo': None,\n",
       " 'coordinates': None,\n",
       " 'place': {'id': '3b77caf94bfc81fe',\n",
       "  'url': 'https://api.twitter.com/1.1/geo/id/3b77caf94bfc81fe.json',\n",
       "  'place_type': 'city',\n",
       "  'name': 'Los Angeles',\n",
       "  'full_name': 'Los Angeles, CA',\n",
       "  'country_code': 'US',\n",
       "  'country': 'United States',\n",
       "  'contained_within': [],\n",
       "  'bounding_box': {'type': 'Polygon',\n",
       "   'coordinates': [[[-118.668404, 33.704538],\n",
       "     [-118.155409, 33.704538],\n",
       "     [-118.155409, 34.337041],\n",
       "     [-118.668404, 34.337041]]]},\n",
       "  'attributes': {}},\n",
       " 'contributors': None,\n",
       " 'is_quote_status': True,\n",
       " 'quoted_status_id': 1257781893644333067,\n",
       " 'quoted_status_id_str': '1257781893644333067',\n",
       " 'quoted_status': {'created_at': 'Tue May 05 21:19:06 +0000 2020',\n",
       "  'id': 1257781893644333067,\n",
       "  'id_str': '1257781893644333067',\n",
       "  'text': 'Always make sure your homemade wine has fully fermented before opening... https://t.co/WGKab8sdQo',\n",
       "  'truncated': False,\n",
       "  'entities': {'hashtags': [],\n",
       "   'symbols': [],\n",
       "   'user_mentions': [],\n",
       "   'urls': [{'url': 'https://t.co/WGKab8sdQo',\n",
       "     'expanded_url': 'https://twitter.com/BadJim007/status/1257734986641412096/video/1',\n",
       "     'display_url': 'twitter.com/BadJim007/stat…',\n",
       "     'indices': [74, 97]}]},\n",
       "  'source': '<a href=\"http://twitter.com/download/iphone\" rel=\"nofollow\">Twitter for iPhone</a>',\n",
       "  'in_reply_to_status_id': None,\n",
       "  'in_reply_to_status_id_str': None,\n",
       "  'in_reply_to_user_id': None,\n",
       "  'in_reply_to_user_id_str': None,\n",
       "  'in_reply_to_screen_name': None,\n",
       "  'user': {'id': 324703658,\n",
       "   'id_str': '324703658',\n",
       "   'name': 'Rex Chapman🏇🏼',\n",
       "   'screen_name': 'RexChapman',\n",
       "   'location': 'Lexington/Phoenix ',\n",
       "   'description': 'I hold the microphone like a grudge',\n",
       "   'url': 'https://t.co/ZoLueztjQ9',\n",
       "   'entities': {'url': {'urls': [{'url': 'https://t.co/ZoLueztjQ9',\n",
       "       'expanded_url': 'http://podcasts.iheartradio.com/chargesapple',\n",
       "       'display_url': 'podcasts.iheartradio.com/chargesapple',\n",
       "       'indices': [0, 23]}]},\n",
       "    'description': {'urls': []}},\n",
       "   'protected': False,\n",
       "   'followers_count': 1178169,\n",
       "   'friends_count': 23398,\n",
       "   'listed_count': 4493,\n",
       "   'created_at': 'Mon Jun 27 02:36:27 +0000 2011',\n",
       "   'favourites_count': 257677,\n",
       "   'utc_offset': None,\n",
       "   'time_zone': None,\n",
       "   'geo_enabled': True,\n",
       "   'verified': True,\n",
       "   'statuses_count': 165987,\n",
       "   'lang': None,\n",
       "   'contributors_enabled': False,\n",
       "   'is_translator': False,\n",
       "   'is_translation_enabled': False,\n",
       "   'profile_background_color': '0E21F0',\n",
       "   'profile_background_image_url': 'http://abs.twimg.com/images/themes/theme1/bg.png',\n",
       "   'profile_background_image_url_https': 'https://abs.twimg.com/images/themes/theme1/bg.png',\n",
       "   'profile_background_tile': True,\n",
       "   'profile_image_url': 'http://pbs.twimg.com/profile_images/1055264484745494530/QLX6B5o9_normal.jpg',\n",
       "   'profile_image_url_https': 'https://pbs.twimg.com/profile_images/1055264484745494530/QLX6B5o9_normal.jpg',\n",
       "   'profile_banner_url': 'https://pbs.twimg.com/profile_banners/324703658/1539742514',\n",
       "   'profile_link_color': '2C12EB',\n",
       "   'profile_sidebar_border_color': 'FFFFFF',\n",
       "   'profile_sidebar_fill_color': '100D14',\n",
       "   'profile_text_color': 'EB0E20',\n",
       "   'profile_use_background_image': True,\n",
       "   'has_extended_profile': True,\n",
       "   'default_profile': False,\n",
       "   'default_profile_image': False,\n",
       "   'following': False,\n",
       "   'follow_request_sent': False,\n",
       "   'notifications': False,\n",
       "   'translator_type': 'none',\n",
       "   'withheld_in_countries': []},\n",
       "  'geo': None,\n",
       "  'coordinates': None,\n",
       "  'place': None,\n",
       "  'contributors': None,\n",
       "  'is_quote_status': False,\n",
       "  'retweet_count': 9005,\n",
       "  'favorite_count': 41873,\n",
       "  'favorited': False,\n",
       "  'retweeted': False,\n",
       "  'possibly_sensitive': False,\n",
       "  'lang': 'en'},\n",
       " 'retweet_count': 0,\n",
       " 'favorite_count': 10,\n",
       " 'favorited': False,\n",
       " 'retweeted': False,\n",
       " 'possibly_sensitive': False,\n",
       " 'lang': 'en'}"
      ]
     },
     "execution_count": 8,
     "metadata": {},
     "output_type": "execute_result"
    }
   ],
   "source": [
    "max(data, key=lambda t: t[\"user\"][\"followers_count\"])"
   ]
  },
  {
   "cell_type": "markdown",
   "id": "3d9adb91-10b9-4d73-b383-97a5ee10d81c",
   "metadata": {},
   "source": [
    "### 2. Tweet locations\n",
    "\n",
    "Assemble a list of geographic coordinates of tweets that have it enabled."
   ]
  },
  {
   "cell_type": "markdown",
   "id": "3b33cdde-af4f-459a-ba77-989f4dbeb39a",
   "metadata": {},
   "source": [
    "### 3. Expanded urls\n",
    "\n",
    "Assemble a list of expanded URLs of users that have them in their profile."
   ]
  },
  {
   "cell_type": "code",
   "execution_count": 13,
   "id": "581ab177-6a0f-4f5e-891d-77b6fb07d18f",
   "metadata": {},
   "outputs": [
    {
     "ename": "TypeError",
     "evalue": "'NoneType' object is not subscriptable",
     "output_type": "error",
     "traceback": [
      "\u001b[0;31m---------------------------------------------------------------------------\u001b[0m",
      "\u001b[0;31mTypeError\u001b[0m                                 Traceback (most recent call last)",
      "\u001b[0;32m<ipython-input-13-425c298d20ba>\u001b[0m in \u001b[0;36m<module>\u001b[0;34m\u001b[0m\n\u001b[0;32m----> 1\u001b[0;31m \u001b[0;34m[\u001b[0m\u001b[0mt\u001b[0m\u001b[0;34m[\u001b[0m\u001b[0;34m\"geo\"\u001b[0m\u001b[0;34m]\u001b[0m\u001b[0;34m[\u001b[0m\u001b[0;34m\"coordinates\"\u001b[0m\u001b[0;34m]\u001b[0m \u001b[0;32mfor\u001b[0m \u001b[0mt\u001b[0m \u001b[0;32min\u001b[0m \u001b[0mdata\u001b[0m\u001b[0;34m]\u001b[0m\u001b[0;34m\u001b[0m\u001b[0;34m\u001b[0m\u001b[0m\n\u001b[0m",
      "\u001b[0;32m<ipython-input-13-425c298d20ba>\u001b[0m in \u001b[0;36m<listcomp>\u001b[0;34m(.0)\u001b[0m\n\u001b[0;32m----> 1\u001b[0;31m \u001b[0;34m[\u001b[0m\u001b[0mt\u001b[0m\u001b[0;34m[\u001b[0m\u001b[0;34m\"geo\"\u001b[0m\u001b[0;34m]\u001b[0m\u001b[0;34m[\u001b[0m\u001b[0;34m\"coordinates\"\u001b[0m\u001b[0;34m]\u001b[0m \u001b[0;32mfor\u001b[0m \u001b[0mt\u001b[0m \u001b[0;32min\u001b[0m \u001b[0mdata\u001b[0m\u001b[0;34m]\u001b[0m\u001b[0;34m\u001b[0m\u001b[0;34m\u001b[0m\u001b[0m\n\u001b[0m",
      "\u001b[0;31mTypeError\u001b[0m: 'NoneType' object is not subscriptable"
     ]
    }
   ],
   "source": [
    "[t[\"geo\"][\"coordinates\"] for t in data]"
   ]
  },
  {
   "cell_type": "code",
   "execution_count": 19,
   "id": "4df3ab76-9bde-4a3c-9a36-03bd947f540e",
   "metadata": {},
   "outputs": [
    {
     "data": {
      "text/plain": [
       "[[33.606389, -117.894444],\n",
       " [37.80805, -122.26923],\n",
       " None,\n",
       " None,\n",
       " None,\n",
       " None,\n",
       " None,\n",
       " None,\n",
       " None]"
      ]
     },
     "execution_count": 19,
     "metadata": {},
     "output_type": "execute_result"
    }
   ],
   "source": [
    "[(t[\"geo\"] or {}).get(\"coordinates\") for t in data]"
   ]
  },
  {
   "cell_type": "code",
   "execution_count": 20,
   "id": "bf020a17-1371-4750-9893-2a28a7950272",
   "metadata": {},
   "outputs": [
    {
     "data": {
      "text/plain": [
       "[[33.606389, -117.894444], [37.80805, -122.26923]]"
      ]
     },
     "execution_count": 20,
     "metadata": {},
     "output_type": "execute_result"
    }
   ],
   "source": [
    "[t[\"geo\"][\"coordinates\"] for t in data if t[\"geo\"]]"
   ]
  },
  {
   "cell_type": "code",
   "execution_count": 34,
   "id": "67e9a05e-fb5f-4780-8dcf-ea225b768268",
   "metadata": {},
   "outputs": [
    {
     "data": {
      "text/plain": [
       "['http://MagdaVegaSLC.bandcamp.com',\n",
       " 'http://www.alistsocialent.com',\n",
       " 'http://www.facebook.com/alexvarsaphoto',\n",
       " 'http://instgram.com/jonnyumansky']"
      ]
     },
     "execution_count": 34,
     "metadata": {},
     "output_type": "execute_result"
    }
   ],
   "source": [
    "[u[\"expanded_url\"] for t in data for u in t[\"user\"][\"entities\"].get(\"url\", {}).get(\"urls\", {})]"
   ]
  },
  {
   "cell_type": "code",
   "execution_count": 32,
   "id": "109bc384-96d7-440f-93d4-f287c6241786",
   "metadata": {},
   "outputs": [
    {
     "data": {
      "text/plain": [
       "[{},\n",
       " [{'url': 'https://t.co/34rRTdxL1k',\n",
       "   'expanded_url': 'http://MagdaVegaSLC.bandcamp.com',\n",
       "   'display_url': 'MagdaVegaSLC.bandcamp.com',\n",
       "   'indices': [0, 23]}],\n",
       " [{'url': 'https://t.co/St3ZdQIdG1',\n",
       "   'expanded_url': 'http://www.alistsocialent.com',\n",
       "   'display_url': 'alistsocialent.com',\n",
       "   'indices': [0, 23]}],\n",
       " {},\n",
       " {},\n",
       " {},\n",
       " [{'url': 'https://t.co/gyBPBqR9jD',\n",
       "   'expanded_url': 'http://www.facebook.com/alexvarsaphoto',\n",
       "   'display_url': 'facebook.com/alexvarsaphoto',\n",
       "   'indices': [0, 23]}],\n",
       " {},\n",
       " [{'url': 'https://t.co/xsBubDsKC9',\n",
       "   'expanded_url': 'http://instgram.com/jonnyumansky',\n",
       "   'display_url': 'instgram.com/jonnyumansky',\n",
       "   'indices': [0, 23]}]]"
      ]
     },
     "execution_count": 32,
     "metadata": {},
     "output_type": "execute_result"
    }
   ],
   "source": [
    "[t[\"user\"][\"entities\"].get(\"url\", {}).get(\"urls\", {}) for t in data]"
   ]
  }
 ],
 "metadata": {
  "kernelspec": {
   "display_name": "Python 3",
   "language": "python",
   "name": "python3"
  },
  "language_info": {
   "codemirror_mode": {
    "name": "ipython",
    "version": 3
   },
   "file_extension": ".py",
   "mimetype": "text/x-python",
   "name": "python",
   "nbconvert_exporter": "python",
   "pygments_lexer": "ipython3",
   "version": "3.8.8"
  }
 },
 "nbformat": 4,
 "nbformat_minor": 5
}
